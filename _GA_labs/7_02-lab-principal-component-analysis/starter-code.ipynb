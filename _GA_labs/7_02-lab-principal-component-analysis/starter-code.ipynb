{
 "cells": [
  {
   "cell_type": "markdown",
   "metadata": {},
   "source": [
    "<img src=\"http://imgur.com/1ZcRyrc.png\" style=\"float: left; margin: 20px; height: 55px\">\n",
    "\n",
    "# PCA Lab: Speed Dating\n",
    "\n",
    "_Authors: Kiefer Katovich (SF)_\n",
    "\n",
    "---"
   ]
  },
  {
   "cell_type": "markdown",
   "metadata": {},
   "source": [
    "Let's practice principal component analysis (PCA) using a data set from Kaggle. PCA is often used to simplify data, reduce noise, and find unmeasured latent variables, so it's important to take the time to understand what's going on.\n",
    "\n",
    "**In this lab, we will:**\n",
    "\n",
    "- Explore how PCA relates to correlation.\n",
    "- Use PCA to perform dimensionality reduction.\n",
    "- Predict whether or not a speed dater likes reading based on the dater's other likes.\n",
    "\n",
    "---"
   ]
  },
  {
   "cell_type": "markdown",
   "metadata": {},
   "source": [
    "### Data Set\n",
    "\n",
    "The data set we're using for this lab is a subset of this [much more detailed speed dating data set](https://www.kaggle.com/annavictoria/speed-dating-experiment). In particular, this contains no information on the actual speed dating itself (i.e., successes with or opinions of other individuals). \n",
    "\n",
    "It also contains no follow-up information where individuals are asked the same questions about themselves again. It only contains information about what an individual enjoys doing, their self-ratings on how desirable they are, and how they think others rate them based on desirability.\n",
    "\n",
    "The columns present in the data are outlined below:\n",
    "\n",
    "FieldName|Description\n",
    "---------|-----------\n",
    "    subject_id                   |   Unique individual identifier.\n",
    "    wave                         |   Meetup ID.\n",
    "    like_sports                  |   Enjoyment of participating in sports.\n",
    "    like_tvsports                |   Enjoyment of watching sports on TV.\n",
    "    like_exercise                |   Enjoyment of exercise.\n",
    "    like_food                    |   Enjoyment of food.\n",
    "    like_museums                 |   Enjoyment of museums.\n",
    "    like_art                     |   Enjoyment of art.\n",
    "    like_hiking                  |   Enjoyment of hiking.\n",
    "    like_gaming                  |   Enjoyment of playing games.\n",
    "    like_clubbing                |   Enjoyment of going clubbing/partying.\n",
    "    like_reading                 |   Enjoyment of reading.\n",
    "    like_tv                      |   Enjoyment of TV in general.\n",
    "    like_theater                 |   Enjoyment of the theater (plays, musicals, etc.).\n",
    "    like_movies                  |   Enjoyment of movies.\n",
    "    like_concerts                |   Enjoyment of concerts.\n",
    "    like_music                   |   Enjoyment of music.\n",
    "    like_shopping                |   Enjoyment of shopping.\n",
    "    like_yoga                    |   Enjoyment of yoga.\n",
    "    subjective_attractiveness    |   How attractive they rate themselves.\n",
    "    subjective_sincerity         |   How sincere they rate themselves.\n",
    "    subjective_intelligence      |   How intelligent they rate themselves.\n",
    "    subjective_fun               |   How fun they rate themselves.\n",
    "    subjective_ambition          |   How ambitious they rate themselves.\n",
    "    objective_attractiveness     |   Perceived rating others would give them on how attractive they are.\n",
    "    objective_sincerity          |   Perceived rating others would give them on how sincere they are.\n",
    "    objective_intelligence       |   Perceived rating others would give them on how intelligent they are.\n",
    "    objective_fun                |   Perceived rating others would give them on how fun they are.\n",
    "    objective_ambition           |   Perceived rating others would give them on how ambitious they are.\n",
    "    \n",
    "There are 551 subjects total.\n",
    "\n",
    "---\n",
    "\n",
    "### 1) Load packages."
   ]
  },
  {
   "cell_type": "code",
   "execution_count": 1,
   "metadata": {
    "collapsed": true
   },
   "outputs": [],
   "source": [
    "import matplotlib.pyplot as plt\n",
    "import numpy as np\n",
    "import pandas as pd\n",
    "import seaborn as sns\n",
    "\n",
    "sns.set_style(\"whitegrid\")\n",
    "\n",
    "%matplotlib inline\n",
    "%config InlineBackend.figure_format = 'retina'"
   ]
  },
  {
   "cell_type": "code",
   "execution_count": 2,
   "metadata": {
    "collapsed": true
   },
   "outputs": [],
   "source": [
    "from sklearn.decomposition import PCA"
   ]
  },
  {
   "cell_type": "markdown",
   "metadata": {},
   "source": [
    "---\n",
    "\n",
    "### 2) Load and clean the speed dating data.\n",
    "\n",
    "- First, remove columns with more than 200 missing values.\n",
    "- Then, remove rows with missing values.\n",
    "- Verify that no rows contain NaNs."
   ]
  },
  {
   "cell_type": "code",
   "execution_count": 3,
   "metadata": {
    "collapsed": true
   },
   "outputs": [],
   "source": [
    "sd = pd.read_csv('./datasets/speed_dating.csv')\n",
    "\n",
    "# A:"
   ]
  },
  {
   "cell_type": "code",
   "execution_count": 4,
   "metadata": {
    "collapsed": true
   },
   "outputs": [],
   "source": [
    "# A:"
   ]
  },
  {
   "cell_type": "markdown",
   "metadata": {},
   "source": [
    "---\n",
    "\n",
    "### 3) Example: Are the `subjective` columns correlated?\n",
    "\n",
    "Here, we'll understand how the `subjective` columns are correlated.\n",
    "\n",
    "- Find the z scores of each `subjective` column (i.e. standardize the `subjective` columns).\n",
    "- Visualize correlation using PairGrid.\n",
    "- Visualize correlation using a heat map."
   ]
  },
  {
   "cell_type": "markdown",
   "metadata": {},
   "source": [
    "#### 3.A) Find the z scores of each column. This allows the columns to more easily be directly compared."
   ]
  },
  {
   "cell_type": "code",
   "execution_count": 5,
   "metadata": {
    "collapsed": true,
    "scrolled": true
   },
   "outputs": [],
   "source": [
    "subjective_cols = [col for col in sd.columns if col.startswith('subjective')]\n",
    "# A:"
   ]
  },
  {
   "cell_type": "markdown",
   "metadata": {},
   "source": [
    "#### 3.B) Use a PairGrid to visualize correlation."
   ]
  },
  {
   "cell_type": "markdown",
   "metadata": {},
   "source": [
    "> `PairGrid` is more general version of `pairplot`.  For example, you could use the following code, where `subjective` is a data frame containing only the subjective columns:\n",
    "\n",
    "```python\n",
    "g = sns.PairGrid(subjective)\n",
    "g = g.map_lower(sns.regplot)    # Regression plots in lower triangle.\n",
    "g = g.map_upper(sns.kdeplot, cmap=\"Blues\", shade=True, shade_lowest=False)  # KDE plots in upper triangle.\n",
    "g = g.map_diag(plt.hist)        # Histograms along diagonal.\n",
    "\n",
    "plt.show()\n",
    "```"
   ]
  },
  {
   "cell_type": "code",
   "execution_count": 6,
   "metadata": {
    "collapsed": true
   },
   "outputs": [],
   "source": [
    "# A:"
   ]
  },
  {
   "cell_type": "markdown",
   "metadata": {},
   "source": [
    "#### 3.C) Use a heat map to visualize correlation."
   ]
  },
  {
   "cell_type": "code",
   "execution_count": 7,
   "metadata": {
    "collapsed": true
   },
   "outputs": [],
   "source": [
    "# A:"
   ]
  },
  {
   "cell_type": "code",
   "execution_count": null,
   "metadata": {
    "collapsed": true
   },
   "outputs": [],
   "source": [
    "# A:"
   ]
  },
  {
   "cell_type": "markdown",
   "metadata": {},
   "source": [
    "---\n",
    "\n",
    "**Important: Did you ensure the results make sense intuitively?** If not, look at the results again. You should **always** interpret your results and ensure they make sense based on what you expected. If they don’t, investigate why — often your analysis or data are wrong.\n",
    "\n",
    "> For example, the results show that believing you are attractive and fun are correlated. Would you expect that believing you are intellectual and fun to have a higher or lower correlation? What do the results say?\n",
    "\n",
    "---\n",
    "\n",
    "\n",
    "### 4) Visualize some preference columns.\n",
    "\n",
    "Next, we’ll explore how some preference ratings are correlated. You saw an example — now try it on the `preference_cols` below.\n",
    "\n",
    "- Find the z scores of each column in `preference_cols`.\n",
    "- Visualize correlation using PairGrid.\n",
    "- Visualize correlation using a heat map.\n",
    "- Do these results make sense intuitively? "
   ]
  },
  {
   "cell_type": "code",
   "execution_count": 8,
   "metadata": {
    "collapsed": true
   },
   "outputs": [],
   "source": [
    "preference_cols = ['like_tvsports', 'like_sports', 'like_museums', 'like_theater', 'like_shopping']\n",
    "sd_like = sd[preference_cols]"
   ]
  },
  {
   "cell_type": "markdown",
   "metadata": {
    "collapsed": true
   },
   "source": [
    "#### 4.A) Find the z scores of each column in `preference_cols`."
   ]
  },
  {
   "cell_type": "code",
   "execution_count": 9,
   "metadata": {
    "collapsed": true
   },
   "outputs": [],
   "source": [
    "# A:"
   ]
  },
  {
   "cell_type": "markdown",
   "metadata": {},
   "source": [
    "#### 4.B) Visualize correlation using PairGrid."
   ]
  },
  {
   "cell_type": "code",
   "execution_count": 10,
   "metadata": {
    "collapsed": true
   },
   "outputs": [],
   "source": [
    "# A:"
   ]
  },
  {
   "cell_type": "markdown",
   "metadata": {},
   "source": [
    "#### 4.C) Visualize correlation using a heat map."
   ]
  },
  {
   "cell_type": "code",
   "execution_count": 11,
   "metadata": {
    "collapsed": true
   },
   "outputs": [],
   "source": [
    "# A:"
   ]
  },
  {
   "cell_type": "markdown",
   "metadata": {},
   "source": [
    "---\n",
    "\n",
    "### 5) Example: Fit PCA on the subjective ratings."
   ]
  },
  {
   "cell_type": "code",
   "execution_count": 13,
   "metadata": {
    "collapsed": true
   },
   "outputs": [],
   "source": [
    "subjective_pca = PCA(n_components=5)\n",
    "subjective_pca.fit(subjective.values)"
   ]
  },
  {
   "cell_type": "markdown",
   "metadata": {},
   "source": [
    "---\n",
    "\n",
    "#### 5.A) Look at the weights of the principal components.\n",
    "\n",
    "The principal components (or eigenvectors!) are simply the weights or coefficients on the original variables $X$ that transforms them to $Z$."
   ]
  },
  {
   "cell_type": "code",
   "execution_count": 14,
   "metadata": {
    "collapsed": true
   },
   "outputs": [],
   "source": [
    "# A:"
   ]
  },
  {
   "cell_type": "markdown",
   "metadata": {},
   "source": [
    "---\n",
    "\n",
    "#### 5.B) Look at the explained variance values (aka eigenvalues) and the explained variance ratios.\n",
    "\n",
    "The eigenvalues are ordered such that the first components have the largest eigenvalues. The values and their normalized equivalent in the explained variance ratio attribute tell you how much of the variance in the original data is encapsulated in the new component variables."
   ]
  },
  {
   "cell_type": "code",
   "execution_count": 15,
   "metadata": {
    "collapsed": true
   },
   "outputs": [],
   "source": [
    "# A:"
   ]
  },
  {
   "cell_type": "markdown",
   "metadata": {},
   "source": [
    "---\n",
    "\n",
    "#### 5.C) Transform the subjective data into the principal component space.\n",
    "\n",
    "The `transform()` function in the PCA will create your new component variable matrix."
   ]
  },
  {
   "cell_type": "code",
   "execution_count": 16,
   "metadata": {
    "collapsed": true
   },
   "outputs": [],
   "source": [
    "# A:"
   ]
  },
  {
   "cell_type": "markdown",
   "metadata": {},
   "source": [
    "This transformed our five-dimensional data set into vectors along its five principal components (with zero loss).\n",
    "- Using these, we can now reduce the dimensionality of our data while minimizing loss.\n",
    "- For example, taking only the first three eigenvectors accounts for $0.431 + 0.178 + 0.147 = 75.6 \\%$ of the variance."
   ]
  },
  {
   "cell_type": "code",
   "execution_count": 17,
   "metadata": {
    "collapsed": true
   },
   "outputs": [],
   "source": [
    "# A:"
   ]
  },
  {
   "cell_type": "markdown",
   "metadata": {},
   "source": [
    "---\n",
    "\n",
    "#### 5.D) PCA-transformed features are not correlated.\n",
    "\n",
    "- Keep in mind that each column in the transformed data is no longer correlated.\n",
    "- Compare this to the exploration above, where many columns were correlated."
   ]
  },
  {
   "cell_type": "code",
   "execution_count": 18,
   "metadata": {
    "collapsed": true
   },
   "outputs": [],
   "source": [
    "# A:"
   ]
  },
  {
   "cell_type": "markdown",
   "metadata": {},
   "source": [
    "---\n",
    "\n",
    "### 6) Optional: How were the data transformed?\n",
    "\n",
    "To demonstrate how the new principal component matrix is created from the original variable columns and the eigenvector weighting matrix, we'll create the first component (PC1) manually.\n",
    "\n",
    "#### 6.A) Pull out the eigenvector for PC1."
   ]
  },
  {
   "cell_type": "code",
   "execution_count": 19,
   "metadata": {
    "collapsed": true
   },
   "outputs": [],
   "source": [
    "# A:"
   ]
  },
  {
   "cell_type": "markdown",
   "metadata": {},
   "source": [
    "#### 6.B) Create a DataFrame showing the original values for the subjective variables for `person1`."
   ]
  },
  {
   "cell_type": "code",
   "execution_count": 20,
   "metadata": {
    "collapsed": true
   },
   "outputs": [],
   "source": [
    "# A:"
   ]
  },
  {
   "cell_type": "markdown",
   "metadata": {},
   "source": [
    "#### 6.C) Add the eigenvector for PC1: the weights by which to multiply each original variable.\n",
    "\n",
    "Recall that each component is a linear combination of the original variables, multiplied by a \"weight\" defined in the eigenvector of that component."
   ]
  },
  {
   "cell_type": "code",
   "execution_count": 21,
   "metadata": {
    "collapsed": true
   },
   "outputs": [],
   "source": [
    "# A:"
   ]
  },
  {
   "cell_type": "markdown",
   "metadata": {},
   "source": [
    "#### 6.D) Multiply the original variable values by the eigenvector values.\n",
    "\n",
    "These are the \"pieces\" of PC1 that will be added together to create the new value for that person."
   ]
  },
  {
   "cell_type": "code",
   "execution_count": 22,
   "metadata": {
    "collapsed": true
   },
   "outputs": [],
   "source": [
    "# A:"
   ]
  },
  {
   "cell_type": "markdown",
   "metadata": {},
   "source": [
    "#### 6.E) Sum the original values multiplied by the eigenvector weights to get `person1`’s value for PC1."
   ]
  },
  {
   "cell_type": "code",
   "execution_count": 23,
   "metadata": {
    "collapsed": true
   },
   "outputs": [],
   "source": [
    "# A:"
   ]
  },
  {
   "cell_type": "markdown",
   "metadata": {},
   "source": [
    "---\n",
    "\n",
    "### 7) Fit PCA on the preference data.\n",
    "\n",
    "Now that you've seen how it's done, try it yourself!\n",
    "\n",
    "- Find PCA eigenvalues and eigenvectors for the five `sd_like` columns.\n",
    "- Transform the original `sd_like` columns into the principal component space.\n",
    "- Verify that these columns are uncorrelated."
   ]
  },
  {
   "cell_type": "code",
   "execution_count": 24,
   "metadata": {
    "collapsed": true
   },
   "outputs": [],
   "source": [
    "# A:"
   ]
  },
  {
   "cell_type": "markdown",
   "metadata": {},
   "source": [
    "#### 7.A) Find PCA eigenvalues and eigenvectors for the five `sd_like` columns."
   ]
  },
  {
   "cell_type": "code",
   "execution_count": 25,
   "metadata": {
    "collapsed": true
   },
   "outputs": [],
   "source": [
    "# A:"
   ]
  },
  {
   "cell_type": "markdown",
   "metadata": {},
   "source": [
    "#### 7.B) Transform the original `sd_like` columns into the principal component space."
   ]
  },
  {
   "cell_type": "code",
   "execution_count": 26,
   "metadata": {
    "collapsed": true
   },
   "outputs": [],
   "source": [
    "# A:"
   ]
  },
  {
   "cell_type": "markdown",
   "metadata": {},
   "source": [
    "#### 7.C) Verify that these columns are uncorrelated."
   ]
  },
  {
   "cell_type": "code",
   "execution_count": 27,
   "metadata": {
    "collapsed": true
   },
   "outputs": [],
   "source": [
    "# A:"
   ]
  },
  {
   "cell_type": "markdown",
   "metadata": {},
   "source": [
    "---\n",
    "\n",
    "### 8) Use PCA for dimensionality reduction.\n",
    "\n",
    "Using linear regression, let's predict whether or not a user likes reading.\n",
    "\n",
    "**The key question:** Can we get the same prediction accuracy using only the first three principal components as features versus using all five original values as features?"
   ]
  },
  {
   "cell_type": "code",
   "execution_count": 28,
   "metadata": {
    "collapsed": true
   },
   "outputs": [],
   "source": [
    "from sklearn.linear_model import LinearRegression\n",
    "from sklearn.model_selection import cross_val_score\n",
    "\n",
    "reading = sd['like_reading'].values"
   ]
  },
  {
   "cell_type": "markdown",
   "metadata": {},
   "source": [
    "#### 8.A) Linear regression cross-validated on original variables (`sd_like.values`).\n",
    "\n",
    "- What is the mean cross-validation score?\n",
    "- Keep in mind that linear regression uses $R^2$ for score, so one is the ideal score."
   ]
  },
  {
   "cell_type": "code",
   "execution_count": 29,
   "metadata": {
    "collapsed": true
   },
   "outputs": [],
   "source": [
    "# A:"
   ]
  },
  {
   "cell_type": "markdown",
   "metadata": {},
   "source": [
    "#### 8.B) Linear regression on the first principal component.\n",
    "\n",
    "- What is the mean cross-validation score?"
   ]
  },
  {
   "cell_type": "code",
   "execution_count": 30,
   "metadata": {
    "collapsed": true
   },
   "outputs": [],
   "source": [
    "# A:"
   ]
  },
  {
   "cell_type": "markdown",
   "metadata": {},
   "source": [
    "#### 8.C) Linear regression on first three principal components.\n",
    "\n",
    "- What is the mean cross-validation score?"
   ]
  },
  {
   "cell_type": "code",
   "execution_count": 31,
   "metadata": {
    "collapsed": true
   },
   "outputs": [],
   "source": [
    "# A:"
   ]
  },
  {
   "cell_type": "markdown",
   "metadata": {},
   "source": [
    "---\n",
    "\n",
    "**Check yourself**. The mean cross-validation score should be nearly the same for the first three principal components as it was on the original five-component data."
   ]
  }
 ],
 "metadata": {
  "kernelspec": {
   "display_name": "Python [conda env:anaconda3]",
   "language": "python",
   "name": "conda-env-anaconda3-py"
  },
  "language_info": {
   "codemirror_mode": {
    "name": "ipython",
    "version": 3
   },
   "file_extension": ".py",
   "mimetype": "text/x-python",
   "name": "python",
   "nbconvert_exporter": "python",
   "pygments_lexer": "ipython3",
   "version": "3.6.3"
  }
 },
 "nbformat": 4,
 "nbformat_minor": 1
}
