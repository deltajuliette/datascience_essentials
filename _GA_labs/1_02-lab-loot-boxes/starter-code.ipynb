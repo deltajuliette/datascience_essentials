{
 "cells": [
  {
   "cell_type": "markdown",
   "metadata": {},
   "source": [
    "# \"Fun with Loot Boxes\" Lab\n",
    "\n",
    "> Author: Caroline Schmitt, Matt Brems\n",
    "\n",
    "### Scenario:\n",
    "\n",
    "You're an analyst for [Zynga](https://en.wikipedia.org/wiki/Zynga), a gaming studio working on an event for an MMO (massively multiplayer online) game. This event is going to include **loot boxes**.\n",
    "\n",
    "<img src=\"https://vignette.wikia.nocookie.net/2007scape/images/0/06/Culinaromancer%27s_chest.png/revision/latest?cb=20180403231423\" alt=\"drawing\" width=\"150\"/> \n",
    "\n",
    "A loot box is basically a treasure chest in a game. This loot box can be opened to reveal a variety of items: some items are very rare and valuable, other items are common and less valuable. (You may consult [the esteemed Wikipedia](https://en.wikipedia.org/wiki/Loot_box) for a more extensive definition.)\n",
    "\n",
    "In our specific game, suppose that loot boxes can be obtained in one of two ways: \n",
    "- After every three hours of playing the game, a user will earn one loot box.\n",
    "- If the user wishes to purchase a loot box, they may pay $1 (in real money!) for a loot box.\n",
    "\n",
    "These loot boxes are very good for our business!\n",
    "- If a player earns a loot box, it means they are spending lots of time on the game. This often leads to advertisement revenue, they may tell their friends to join the game, etc.\n",
    "- If the player purchases a loot box, it means we've earned $1 from our customer.\n",
    "\n",
    "Suppose each loot box is opened to reveal either:\n",
    "- magical elixir (super rare, very valuable), or\n",
    "- nothing.\n",
    "\n",
    "Whether each loot box contains the elixir or nothing is **random**. Our boss wants some guidance on what sort of randomness to use on these loot boxes! \n",
    "- If the magical elixir is too rare, then users may not be motivated to try to get them, because they believe they'll never find the magical elixir.\n",
    "- If the magical elixir is too common, then users may not be motivated to try to get them, because the game has so much of the magical elixir that it isn't worthwhile to try to get it.\n",
    "\n",
    "However, our boss isn't a math-y type person! When explaining things to our boss, we need to explain the impact of our choices on the game as concretely as possible.\n",
    "\n",
    "### Version 1\n",
    "In our first version of the game, we'll say that loot boxes contain magical elixir 15% of the time and nothing 85% of the time.\n",
    "\n",
    "#### 1. Our boss asks, \"If a user buys 100 loot boxes, how many elixirs will they get?\" How would you respond?"
   ]
  },
  {
   "cell_type": "markdown",
   "metadata": {},
   "source": [
    "**My answer:**\n",
    "Users will highly likely end up with around *15 elixirs*"
   ]
  },
  {
   "cell_type": "code",
   "execution_count": 2,
   "metadata": {},
   "outputs": [],
   "source": [
    "import numpy as np\n",
    "import matplotlib.pyplot as plt\n",
    "import scipy.stats as stats\n",
    "import seaborn as sns"
   ]
  },
  {
   "cell_type": "markdown",
   "metadata": {},
   "source": [
    "#### 2. Our boss asks, \"How many loot boxes does someone have to purchase in order to definitely get elixir?\" How would you respond?"
   ]
  },
  {
   "cell_type": "markdown",
   "metadata": {},
   "source": [
    "**NOTE**: When your Jupyter notebook is open, double-click on this Markdown cell! You can delete this text and put your answer to the previous problem in here.\n",
    "\n",
    "**My answer:**\n",
    "Users will need to purchase around *15 loot boxes* to get at least 1 elixir"
   ]
  },
  {
   "cell_type": "markdown",
   "metadata": {},
   "source": [
    "#### 3. Our boss asks, \"If a user earns 100 loot boxes, what is the chance that a user gets more than 20 elixirs?\" This is a bit more complicated, so let's break it down before answering."
   ]
  },
  {
   "cell_type": "markdown",
   "metadata": {},
   "source": [
    "#### 3a. Let's suppose my random variable $X$ counts up how many elixirs I observe out of my 100 loot boxes. Why is $X$ a discrete random variable?"
   ]
  },
  {
   "cell_type": "markdown",
   "metadata": {},
   "source": [
    "**My answer:** This is because the number of elixirs observed within a defined number of loot boxes is 'countable'"
   ]
  },
  {
   "cell_type": "markdown",
   "metadata": {},
   "source": [
    "#### 3b. Recall our discrete distributions: discrete uniform, Bernoulli, binomial, Poisson. Let's suppose my random variable $X$ counts up how many elixirs I observe out of my 100 loot boxes. What distribution is best suited for $X$? Why?\n",
    "- Hint: It may help to consider getting the magical elixir a \"success\" and getting nothing a \"failure.\" "
   ]
  },
  {
   "cell_type": "markdown",
   "metadata": {},
   "source": [
    "**My answer:** A binomial distribution works best here. Purchasing a single loot box can be considered as a Bernoulli-distributed outcome"
   ]
  },
  {
   "cell_type": "markdown",
   "metadata": {},
   "source": [
    "#### 3c. Our boss asks, \"If a user earns 100 loot boxes, what is the chance that a user gets more than 20 elixirs?\" Use the probability mass function to answer the boss' question."
   ]
  },
  {
   "cell_type": "code",
   "execution_count": 3,
   "metadata": {},
   "outputs": [
    {
     "data": {
      "image/png": "[encoded data removed]",
      "text/plain": [
       "<Figure size 432x288 with 1 Axes>"
      ]
     },
     "metadata": {
      "needs_background": "light"
     },
     "output_type": "display_data"
    }
   ],
   "source": [
    "p_elixir = 0.15\n",
    "loot_boxes = 100\n",
    "\n",
    "elx_distn = stats.binom(loot_boxes, p_elixir)\n",
    "possible_elx = list(range(0, loot_boxes+1))\n",
    "\n",
    "fig, ax = plt.subplots()\n",
    "\n",
    "ax.bar(possible_elx, elx_distn.pmf(possible_elx))\n",
    "ax.axvline(x=20, c=\"red\", linestyle=\"--\")\n",
    "plt.show()"
   ]
  },
  {
   "cell_type": "code",
   "execution_count": 4,
   "metadata": {},
   "outputs": [
    {
     "name": "stdout",
     "output_type": "stream",
     "text": [
      "The probability that a user gets more than 20 elixirs is around 6.63%\n"
     ]
    }
   ],
   "source": [
    "p_list = []\n",
    "for i in range(21, loot_boxes):\n",
    "    p_list.append(stats.binom.pmf(i, loot_boxes, p_elixir))\n",
    "\n",
    "print(f'The probability that a user gets more than 20 elixirs is around {round(np.sum(p_list)*100, 2)}%')"
   ]
  },
  {
   "cell_type": "markdown",
   "metadata": {},
   "source": [
    "#### 3d. Our boss asks, \"If a user earns 100 loot boxes, what is the chance that a user gets more than 20 elixirs?\" Use the cumulative distribution function to answer the boss' question."
   ]
  },
  {
   "cell_type": "code",
   "execution_count": 5,
   "metadata": {},
   "outputs": [
    {
     "data": {
      "image/png": "[encoded data removed]",
      "text/plain": [
       "<Figure size 432x288 with 1 Axes>"
      ]
     },
     "metadata": {
      "needs_background": "light"
     },
     "output_type": "display_data"
    }
   ],
   "source": [
    "p_elixir = 0.15\n",
    "loot_boxes = 50\n",
    "\n",
    "elx_distn = stats.binom(loot_boxes, p_elixir)\n",
    "possible_elx = list(range(0, loot_boxes+1))\n",
    "\n",
    "plt.bar(possible_elx, elx_distn.cdf(possible_elx))\n",
    "plt.show()"
   ]
  },
  {
   "cell_type": "code",
   "execution_count": 6,
   "metadata": {},
   "outputs": [
    {
     "name": "stdout",
     "output_type": "stream",
     "text": [
      "The probability that a user gets more than 20 elixirs is around 6.63%\n"
     ]
    }
   ],
   "source": [
    "prob = 1 - stats.binom.cdf(20, 100, 0.15)\n",
    "print(f'The probability that a user gets more than 20 elixirs is around {round(prob*100, 2)}%')"
   ]
  },
  {
   "cell_type": "markdown",
   "metadata": {},
   "source": [
    "#### 3e. Our boss asks, \"If a user earns 100 loot boxes, what is the chance that a user gets more than 20 elixirs?\" Answer your boss' question. *Remember that your boss is not a math-y person!*"
   ]
  },
  {
   "cell_type": "code",
   "execution_count": 7,
   "metadata": {},
   "outputs": [
    {
     "name": "stdout",
     "output_type": "stream",
     "text": [
      "A user will get more than 20 elixirs out of 100 boxes in 6 out of 100 instances\n"
     ]
    }
   ],
   "source": [
    "print(f'A user will get more than 20 elixirs out of 100 boxes in 6 out of 100 instances')"
   ]
  },
  {
   "cell_type": "markdown",
   "metadata": {},
   "source": [
    "#### 4. Your boss wants to know how many people purchased how many loot boxes last month. \n",
    "> For example, last month, 70% of users did not purchase any loot boxes. 10% of people purchased one loot box. 5% of people purchased two loot boxes... and so on.\n",
    "\n",
    "#### 4a. Recall our discrete distributions: discrete uniform, Bernoulli, binomial, Poisson. Let's suppose my random variable $Y$ counts up how many loot boxes each person purchased through the game last month. What distribution is best suited for $Y$? Why?"
   ]
  },
  {
   "cell_type": "markdown",
   "metadata": {},
   "source": [
    "**My answer:** A Poisson distribution is best suited for Y - which is a count of loot boxes purchased every month"
   ]
  },
  {
   "cell_type": "markdown",
   "metadata": {},
   "source": [
    "#### 4b. Suppose that, on average, your customers purchased 2.7 loot boxes last month. In order for your revenue to be at least $500,000, at least how many users would you need on your platform? (Round your answer up to the nearest thousand.) "
   ]
  },
  {
   "cell_type": "code",
   "execution_count": 8,
   "metadata": {},
   "outputs": [
    {
     "name": "stdout",
     "output_type": "stream",
     "text": [
      "185000.0\n"
     ]
    }
   ],
   "source": [
    "# Assuming users can only purchase 1 box\n",
    "users = round(500*10**3 / 2.7, -3)\n",
    "print(users)"
   ]
  },
  {
   "cell_type": "markdown",
   "metadata": {},
   "source": [
    "#### 4c. Assume that your platform has the numer of users you mentioned in your last answer. Suppose that your platform calls anyone who purchases 5 or more loot boxes in a month a \"high value user.\" How much money do you expect to have earned from \"high value users?\" How about \"low value users?\""
   ]
  },
  {
   "cell_type": "code",
   "execution_count": 9,
   "metadata": {},
   "outputs": [
    {
     "data": {
      "image/png": "[encoded data removed]",
      "text/plain": [
       "<Figure size 432x288 with 1 Axes>"
      ]
     },
     "metadata": {
      "needs_background": "light"
     },
     "output_type": "display_data"
    }
   ],
   "source": [
    "poisson_lamb = 2.7\n",
    "\n",
    "lb_distn = stats.poisson(poisson_lamb)\n",
    "possible_lb = list(range(0, 15))\n",
    "\n",
    "fig, ax = plt.subplots()\n",
    "\n",
    "ax.bar(possible_lb, lb_distn.pmf(possible_lb))\n",
    "ax.axvline(x=5, c=\"red\", linestyle=\"--\")\n",
    "plt.title(\"Visualising a Poisson distribution\")\n",
    "plt.show()"
   ]
  },
  {
   "cell_type": "code",
   "execution_count": 11,
   "metadata": {},
   "outputs": [
    {
     "name": "stdout",
     "output_type": "stream",
     "text": [
      "Revenue from higher-value users: $142,810\n",
      "Revenue from low-value users: $356,689\n"
     ]
    }
   ],
   "source": [
    "list_of_probs = []\n",
    "for i in range(5):\n",
    "    list_of_probs.append(stats.poisson.pmf(i, poisson_lamb)*users*i)\n",
    "\n",
    "list_of_probs2 = []\n",
    "for i in range(5, 15):\n",
    "    list_of_probs2.append(stats.poisson.pmf(i, poisson_lamb)*users*i)\n",
    "    \n",
    "lowV = round(np.sum(list_of_probs))\n",
    "highV = round(np.sum(list_of_probs2))\n",
    "\n",
    "print(f'Revenue from higher-value users: ${highV:,}\\nRevenue from low-value users: ${lowV:,}')"
   ]
  },
  {
   "cell_type": "markdown",
   "metadata": {},
   "source": [
    "#### 4d. Suppose that you want to summarize how many people purchased how many loot boxes last month for your boss. Since your boss isn't math-y, what are 2-4 summary numbers you might use to summarize this for your boss? (Your answers will vary here - use your judgment!)"
   ]
  },
  {
   "cell_type": "markdown",
   "metadata": {},
   "source": [
    "**My answer:** Mean / Median statistics might be useful for getting a sense of how many loot boxes were purchased in aggregate\n",
    "\n",
    "For more detail:\n",
    "Around 10-15% of users are expected to purchase more than 5 loot boxes\n",
    "Around 80-85% of users are expected to purchase up to 5 loot boxes"
   ]
  },
  {
   "cell_type": "code",
   "execution_count": 23,
   "metadata": {},
   "outputs": [
    {
     "name": "stdout",
     "output_type": "stream",
     "text": [
      "% of high value users: 13.71\n",
      "% of low value users: 86.29\n"
     ]
    }
   ],
   "source": [
    "list_of_probs = []\n",
    "for i in range(0,5):\n",
    "    list_of_probs.append(stats.poisson.pmf(i, poisson_lamb))\n",
    "\n",
    "list_of_probs2 = []\n",
    "for i in range(5, 15):\n",
    "    list_of_probs2.append(stats.poisson.pmf(i, poisson_lamb))\n",
    "    \n",
    "lowV = round(np.sum(list_of_probs)*100,2)\n",
    "highV = round(np.sum(list_of_probs2)*100,2)\n",
    "\n",
    "print(f'% of high value users: {highV}\\n% of low value users: {lowV}')"
   ]
  },
  {
   "cell_type": "markdown",
   "metadata": {},
   "source": [
    "#### 5. Your boss asks \"How many loot boxes does it take before someone gets their first elixir?\" Using `np.random.choice`, simulate how many loot boxes it takes somone to get their first elixir. \n",
    "- Start an empty list.\n",
    "- Use control flow to have someone open loot boxes repeatedly.\n",
    "- Once they open a loot box containing an elixir, record the number of loot boxes it took in the empty list.\n",
    "- Repeat this process 100,000 times. \n",
    "\n",
    "This simulates how long it takes for someone to open a loot box containing elixir. Share the 5th, 25th, 50th, 75th, and 95th percentiles.\n",
    "\n",
    "> You may find [this documentation](https://docs.scipy.org/doc/numpy/reference/generated/numpy.random.choice.html)  and [this documentation](https://docs.scipy.org/doc/numpy/reference/generated/numpy.percentile.html) helpful."
   ]
  },
  {
   "cell_type": "code",
   "execution_count": 13,
   "metadata": {},
   "outputs": [],
   "source": [
    "p_elx = ['elx']*15\n",
    "p_null = ['null']*85\n",
    "range_outcomes = p_elx + p_null\n",
    "\n",
    "lootboxes_list = []\n",
    "n_size = 100*10*10^3\n",
    "\n",
    "for i in range(n_size):\n",
    "    lootboxes = 1 #I would have opened a lootbox anyway...\n",
    "    while np.random.choice(range_outcomes) != 'elx':\n",
    "        lootboxes += 1\n",
    "    \n",
    "    lootboxes_list.append(lootboxes)"
   ]
  },
  {
   "cell_type": "code",
   "execution_count": 40,
   "metadata": {
    "scrolled": true
   },
   "outputs": [
    {
     "data": {
      "image/png": "[encoded data removed]",
      "text/plain": [
       "<Figure size 360x360 with 1 Axes>"
      ]
     },
     "metadata": {
      "needs_background": "light"
     },
     "output_type": "display_data"
    }
   ],
   "source": [
    "sns.displot(lootboxes_list)\n",
    "plt.show()"
   ]
  },
  {
   "cell_type": "code",
   "execution_count": 14,
   "metadata": {},
   "outputs": [
    {
     "name": "stdout",
     "output_type": "stream",
     "text": [
      "5th pct: 1.0\n",
      "25th pct: 2.0\n",
      "50th pct: 5.0\n",
      "75th pct: 9.0\n",
      "95th pct: 19.0\n"
     ]
    }
   ],
   "source": [
    "print(f'5th pct: {np.quantile(lootboxes_list, 0.05)}')\n",
    "print(f'25th pct: {np.quantile(lootboxes_list, 0.25)}')\n",
    "print(f'50th pct: {np.quantile(lootboxes_list, 0.5)}')\n",
    "print(f'75th pct: {np.quantile(lootboxes_list, 0.75)}')\n",
    "print(f'95th pct: {np.quantile(lootboxes_list, 0.95)}')"
   ]
  },
  {
   "cell_type": "markdown",
   "metadata": {},
   "source": [
    "### Version 2\n",
    "\n",
    "After a substantial update to the game, suppose every loot box can be opened to reveal *one of four different* items:\n",
    "- magical elixir (occurs 1% of the time, most valuable)\n",
    "- golden pendant (occurs 9% of the time, valuable)\n",
    "- steel armor (occurs 30% of the time, semi-valuable)\n",
    "- bronze coin (occurs 60% of the time, least valuable)"
   ]
  },
  {
   "cell_type": "markdown",
   "metadata": {},
   "source": [
    "#### 6. Suppose you want repeat problem 5 above, but do that for the version 2 loot boxes so you can track how many loot boxes are needed to get each item? (e.g. You'd like to be able to say that on average it takes 10 trials to get a golden pendant, 3 trials to get steel armor, and so on.) What Python datatype is the best way to store this data? Why?"
   ]
  },
  {
   "cell_type": "markdown",
   "metadata": {},
   "source": [
    "**NOTE**: When your Jupyter notebook is open, double-click on this Markdown cell! You can delete this text and put your answer to the previous problem in here."
   ]
  },
  {
   "cell_type": "code",
   "execution_count": 15,
   "metadata": {},
   "outputs": [],
   "source": [
    "p_mag_elx = ['mag_elx']*1\n",
    "p_goldpend = ['goldpend']*9\n",
    "p_steelam = ['steelam']*30\n",
    "p_bcoin = ['bcoin']*60\n",
    "range_outcomes = p_mag_elx + p_goldpend + p_steelam + p_bcoin\n",
    "\n",
    "lootboxes_list_elx = []\n",
    "lootboxes_list_goldpend = []\n",
    "lootboxes_list_steelam = []\n",
    "lootboxes_list_bcoin = []\n",
    "\n",
    "n_size = 100*10*10^3\n",
    "\n",
    "for i in range(n_size):\n",
    "    lootboxes_elx = 1 #I would have opened a lootbox anyway...\n",
    "    while np.random.choice(range_outcomes) != 'mag_elx':\n",
    "        lootboxes_elx += 1\n",
    "    \n",
    "    lootboxes_list_elx.append(lootboxes_elx)\n",
    "    \n",
    "for i in range(n_size):\n",
    "    lootboxes_goldpend = 1 #I would have opened a lootbox anyway...\n",
    "    while np.random.choice(range_outcomes) != 'goldpend':\n",
    "        lootboxes_goldpend += 1\n",
    "    \n",
    "    lootboxes_list_goldpend.append(lootboxes_goldpend)\n",
    "\n",
    "for i in range(n_size):\n",
    "    lootboxes_steelam = 1 #I would have opened a lootbox anyway...\n",
    "    while np.random.choice(range_outcomes) != 'steelam':\n",
    "        lootboxes_steelam += 1\n",
    "    \n",
    "    lootboxes_list_steelam.append(lootboxes_steelam)\n",
    "    \n",
    "for i in range(n_size):\n",
    "    lootboxes_bcoin = 1 #I would have opened a lootbox anyway...\n",
    "    while np.random.choice(range_outcomes) != 'bcoin':\n",
    "        lootboxes_bcoin += 1\n",
    "    \n",
    "    lootboxes_list_bcoin.append(lootboxes_bcoin)"
   ]
  },
  {
   "cell_type": "code",
   "execution_count": 49,
   "metadata": {},
   "outputs": [
    {
     "name": "stdout",
     "output_type": "stream",
     "text": [
      "On average, it takes 98 trials to get a magical elixir\n",
      "On average, it takes 11 trials to get a golden pendant\n",
      "On average, it takes 3 trials to get a set of steel armour\n",
      "On average, it takes 2 trials to get a bronze coin\n"
     ]
    }
   ],
   "source": [
    "print(f'On average, it takes {round(np.mean(lootboxes_list_elx))} trials to get a magical elixir')\n",
    "print(f'On average, it takes {round(np.mean(lootboxes_list_goldpend))} trials to get a golden pendant')\n",
    "print(f'On average, it takes {round(np.mean(lootboxes_list_steelam))} trials to get a set of steel armour')\n",
    "print(f'On average, it takes {round(np.mean(lootboxes_list_bcoin))} trials to get a bronze coin')"
   ]
  },
  {
   "cell_type": "markdown",
   "metadata": {},
   "source": [
    "#### 7. Suppose you and your boss want to measure whether \"Version 2\" is better than \"Version 1.\" What metrics do you think are important to measure? (Your answers will vary here - use your judgment!)"
   ]
  },
  {
   "cell_type": "markdown",
   "metadata": {},
   "source": [
    "**My answer:** Look at the average number of lootboxes purchased / average amount of time users are spending on the game / Total revenue"
   ]
  }
 ],
 "metadata": {
  "kernelspec": {
   "display_name": "Python 3",
   "language": "python",
   "name": "python3"
  },
  "language_info": {
   "codemirror_mode": {
    "name": "ipython",
    "version": 3
   },
   "file_extension": ".py",
   "mimetype": "text/x-python",
   "name": "python",
   "nbconvert_exporter": "python",
   "pygments_lexer": "ipython3",
   "version": "3.8.8"
  }
 },
 "nbformat": 4,
 "nbformat_minor": 2
}
