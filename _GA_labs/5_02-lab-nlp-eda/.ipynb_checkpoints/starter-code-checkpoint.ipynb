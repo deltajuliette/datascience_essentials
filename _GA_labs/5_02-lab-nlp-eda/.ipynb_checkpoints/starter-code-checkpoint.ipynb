{
 "cells": [
  {
   "cell_type": "markdown",
   "metadata": {},
   "source": [
    "# Exploratory Data Analysis on a Natural Language Processing Task\n",
    "> Authors: Caroline Schmitt, Matt Brems\n",
    "\n",
    "---\n",
    "\n",
    "Exploratory data analysis (EDA) is a crucial part of any data science project. EDA helps us discover interesting relationships in the data, detect outliers and errors, examine our own assumptions about the data, and prepare for modeling. During EDA we might discover that we need to clean our data more conscientiously, or that we have more missing data than we realized, or that there aren't many patterns in the data (indicating that modeling may be challenging.)\n",
    "\n",
    "In this lab you'll bring in a natural language dataset and perform EDA. The dataset contains Facebook statuses taken from between 2009 and 2011 as well as personality test results associated with the users whose Facebook statuses are included.\n",
    "\n",
    "This dataset uses results from the Big Five Personality Test, also referred to as the five-factor model, which measures a person's score on five dimensions of personality:\n",
    "- **O**penness\n",
    "- **C**onscientiousness\n",
    "- **E**xtroversion\n",
    "- **A**greeableness\n",
    "- **N**euroticism\n",
    "\n",
    "Notoriously, the political consulting group Cambridge Analytica claims to have predicted the personalities of Facebook users by using those users' data, with the goal of targeting them with political ads that would be particularly persuasive given their personality type. Cambridge Analytica claims to have considered 32 unique 'groups' in the following fashion:\n",
    "- For each of the five OCEAN qualities, a user is categorized as either 'yes' or 'no'.\n",
    "- This makes for 32 different potential combinations of qualities. ($2^5 = 32$).\n",
    "\n",
    "Cambridge Analytica's methodology was then, roughly, the following:\n",
    "- Gather a large amount of data from Facebook.\n",
    "- Use this data to predict an individual's Big Five personality \"grouping.\"\n",
    "- Design political advertisements that would be particularly effective to that particular \"grouping.\" (For example, are certain advertisements particularly effective toward people with specific personality traits?)\n",
    "\n",
    "In this lab you will perform EDA to examine many relationships in the data.\n",
    "\n",
    "Exploratory data analysis can be a non-linear process, and you're encouraged to explore questions that occur to you as you work through the notebook.\n",
    "\n",
    "> **Content note**: This dataset contains real Facebook statuses scraped from 2009 to 2011, and some of the statuses contain language that is not safe for work, crude, or offensive. The full dataset is available as `mypersonality.csv`, and a sanitized version containing only statuses that passed an automated profanity check is available as `mypersonality_noprofanity.csv`. Please do not hesitate to use `mypersonality_noprofanity.csv` if you would prefer to. Please note that the automated profanity check is not foolproof. If you have any concerns about working with this dataset, please get in touch with your section lead.\n",
    "\n",
    "---\n",
    "\n",
    "### External resources\n",
    "\n",
    "These resources are not required reading but may be of use or interest.\n",
    "\n",
    "- [Python Graph Gallery](https://python-graph-gallery.com/)\n",
    "- [Wikipedia page](https://en.wikipedia.org/wiki/Big_Five_personality_traits) on the Big Five test\n",
    "- [A short (3-4 pages) academic paper](./celli-al_wcpr13.pdf) using the `MyPersonality` dataset to model personality\n",
    "\n",
    "---\n",
    "\n",
    "## Load packages"
   ]
  },
  {
   "cell_type": "code",
   "execution_count": 73,
   "metadata": {},
   "outputs": [],
   "source": [
    "import matplotlib.pyplot as plt\n",
    "import pandas as pd\n",
    "import seaborn as sns\n",
    "from sklearn.feature_extraction.text import CountVectorizer\n",
    "import re\n",
    "\n",
    "# this setting widens how many characters pandas will display in a column:\n",
    "pd.options.display.max_colwidth = 400"
   ]
  },
  {
   "cell_type": "markdown",
   "metadata": {},
   "source": [
    "---\n",
    "\n",
    "## Load data"
   ]
  },
  {
   "cell_type": "code",
   "execution_count": 2,
   "metadata": {},
   "outputs": [
    {
     "data": {
      "text/html": [
       "<div>\n",
       "<style scoped>\n",
       "    .dataframe tbody tr th:only-of-type {\n",
       "        vertical-align: middle;\n",
       "    }\n",
       "\n",
       "    .dataframe tbody tr th {\n",
       "        vertical-align: top;\n",
       "    }\n",
       "\n",
       "    .dataframe thead th {\n",
       "        text-align: right;\n",
       "    }\n",
       "</style>\n",
       "<table border=\"1\" class=\"dataframe\">\n",
       "  <thead>\n",
       "    <tr style=\"text-align: right;\">\n",
       "      <th></th>\n",
       "      <th>#AUTHID</th>\n",
       "      <th>STATUS</th>\n",
       "      <th>sEXT</th>\n",
       "      <th>sNEU</th>\n",
       "      <th>sAGR</th>\n",
       "      <th>sCON</th>\n",
       "      <th>sOPN</th>\n",
       "      <th>cEXT</th>\n",
       "      <th>cNEU</th>\n",
       "      <th>cAGR</th>\n",
       "      <th>cCON</th>\n",
       "      <th>cOPN</th>\n",
       "      <th>DATE</th>\n",
       "    </tr>\n",
       "  </thead>\n",
       "  <tbody>\n",
       "    <tr>\n",
       "      <th>0</th>\n",
       "      <td>b7b7764cfa1c523e4e93ab2a79a946c4</td>\n",
       "      <td>likes the sound of thunder.</td>\n",
       "      <td>2.65</td>\n",
       "      <td>3.0</td>\n",
       "      <td>3.15</td>\n",
       "      <td>3.25</td>\n",
       "      <td>4.4</td>\n",
       "      <td>n</td>\n",
       "      <td>y</td>\n",
       "      <td>n</td>\n",
       "      <td>n</td>\n",
       "      <td>y</td>\n",
       "      <td>06/19/09 03:21 PM</td>\n",
       "    </tr>\n",
       "    <tr>\n",
       "      <th>1</th>\n",
       "      <td>b7b7764cfa1c523e4e93ab2a79a946c4</td>\n",
       "      <td>is so sleepy it's not even funny that's she can't get to sleep.</td>\n",
       "      <td>2.65</td>\n",
       "      <td>3.0</td>\n",
       "      <td>3.15</td>\n",
       "      <td>3.25</td>\n",
       "      <td>4.4</td>\n",
       "      <td>n</td>\n",
       "      <td>y</td>\n",
       "      <td>n</td>\n",
       "      <td>n</td>\n",
       "      <td>y</td>\n",
       "      <td>07/02/09 08:41 AM</td>\n",
       "    </tr>\n",
       "    <tr>\n",
       "      <th>2</th>\n",
       "      <td>b7b7764cfa1c523e4e93ab2a79a946c4</td>\n",
       "      <td>is sore and wants the knot of muscles at the base of her neck to stop hurting. On the other hand, YAY I'M IN ILLINOIS! &lt;3</td>\n",
       "      <td>2.65</td>\n",
       "      <td>3.0</td>\n",
       "      <td>3.15</td>\n",
       "      <td>3.25</td>\n",
       "      <td>4.4</td>\n",
       "      <td>n</td>\n",
       "      <td>y</td>\n",
       "      <td>n</td>\n",
       "      <td>n</td>\n",
       "      <td>y</td>\n",
       "      <td>06/15/09 01:15 PM</td>\n",
       "    </tr>\n",
       "  </tbody>\n",
       "</table>\n",
       "</div>"
      ],
      "text/plain": [
       "                            #AUTHID  \\\n",
       "0  b7b7764cfa1c523e4e93ab2a79a946c4   \n",
       "1  b7b7764cfa1c523e4e93ab2a79a946c4   \n",
       "2  b7b7764cfa1c523e4e93ab2a79a946c4   \n",
       "\n",
       "                                                                                                                      STATUS  \\\n",
       "0                                                                                                likes the sound of thunder.   \n",
       "1                                                            is so sleepy it's not even funny that's she can't get to sleep.   \n",
       "2  is sore and wants the knot of muscles at the base of her neck to stop hurting. On the other hand, YAY I'M IN ILLINOIS! <3   \n",
       "\n",
       "   sEXT  sNEU  sAGR  sCON  sOPN cEXT cNEU cAGR cCON cOPN               DATE  \n",
       "0  2.65   3.0  3.15  3.25   4.4    n    y    n    n    y  06/19/09 03:21 PM  \n",
       "1  2.65   3.0  3.15  3.25   4.4    n    y    n    n    y  07/02/09 08:41 AM  \n",
       "2  2.65   3.0  3.15  3.25   4.4    n    y    n    n    y  06/15/09 01:15 PM  "
      ]
     },
     "execution_count": 2,
     "metadata": {},
     "output_type": "execute_result"
    }
   ],
   "source": [
    "df = pd.read_csv('data/mypersonality.csv')\n",
    "# df = pd.read_csv('data/mypersonality_noprofanity.csv') # comment out above & uncomment this to use mypersonality_noprofanity.csv\n",
    "df.drop(columns=['NETWORKSIZE', 'BETWEENNESS', 'NBETWEENNESS', 'DENSITY', 'BROKERAGE', 'NBROKERAGE', 'TRANSITIVITY'], inplace=True)\n",
    "df.head(3)"
   ]
  },
  {
   "cell_type": "markdown",
   "metadata": {},
   "source": [
    "---\n",
    "\n",
    "## EDA on Statuses\n",
    "\n",
    "Before we even vectorize the text, we might look at the lengths and word counts in each Facebook status.\n",
    "\n",
    "#### Create a new column called `status_length` that contains the length of each status:"
   ]
  },
  {
   "cell_type": "code",
   "execution_count": 3,
   "metadata": {},
   "outputs": [],
   "source": [
    "df['status_length'] = [len(i) for i in df['STATUS']]"
   ]
  },
  {
   "cell_type": "markdown",
   "metadata": {},
   "source": [
    "#### Create a new column called `status_word_count` that contains the number of words in each status:\n",
    "\n",
    "Note: You can evaluate this based off of how many strings are separated by whitespaces; you're not required to check that each set of characters set apart by whitespaces is a word in the dictionary."
   ]
  },
  {
   "cell_type": "code",
   "execution_count": 4,
   "metadata": {},
   "outputs": [],
   "source": [
    "from nltk.tokenize import sent_tokenize, word_tokenize, RegexpTokenizer\n",
    "from nltk.stem import WordNetLemmatizer\n",
    "from nltk.stem.porter import PorterStemmer\n",
    "from nltk.corpus import stopwords\n",
    "from nltk.sentiment.vader import SentimentIntensityAnalyzer\n",
    "import re"
   ]
  },
  {
   "cell_type": "code",
   "execution_count": 5,
   "metadata": {},
   "outputs": [],
   "source": [
    "tokenizer = RegexpTokenizer('\\s+', gaps=True)"
   ]
  },
  {
   "cell_type": "code",
   "execution_count": 6,
   "metadata": {},
   "outputs": [],
   "source": [
    "df['status_word_count'] = [len(tokenizer.tokenize(i)) for i in df['STATUS']]"
   ]
  },
  {
   "cell_type": "markdown",
   "metadata": {},
   "source": [
    "### Longest and shortest statuses\n",
    "\n",
    "Looking at individual observations can help us get a sense of what the dataset contains.\n",
    "\n",
    "#### Show the five longest and five shortest statuses based off of `status_word_count`:"
   ]
  },
  {
   "cell_type": "code",
   "execution_count": 7,
   "metadata": {},
   "outputs": [
    {
     "data": {
      "text/html": [
       "<div>\n",
       "<style scoped>\n",
       "    .dataframe tbody tr th:only-of-type {\n",
       "        vertical-align: middle;\n",
       "    }\n",
       "\n",
       "    .dataframe tbody tr th {\n",
       "        vertical-align: top;\n",
       "    }\n",
       "\n",
       "    .dataframe thead th {\n",
       "        text-align: right;\n",
       "    }\n",
       "</style>\n",
       "<table border=\"1\" class=\"dataframe\">\n",
       "  <thead>\n",
       "    <tr style=\"text-align: right;\">\n",
       "      <th></th>\n",
       "      <th>#AUTHID</th>\n",
       "      <th>STATUS</th>\n",
       "      <th>sEXT</th>\n",
       "      <th>sNEU</th>\n",
       "      <th>sAGR</th>\n",
       "      <th>sCON</th>\n",
       "      <th>sOPN</th>\n",
       "      <th>cEXT</th>\n",
       "      <th>cNEU</th>\n",
       "      <th>cAGR</th>\n",
       "      <th>cCON</th>\n",
       "      <th>cOPN</th>\n",
       "      <th>DATE</th>\n",
       "      <th>status_length</th>\n",
       "      <th>status_word_count</th>\n",
       "    </tr>\n",
       "  </thead>\n",
       "  <tbody>\n",
       "    <tr>\n",
       "      <th>8178</th>\n",
       "      <td>4bbb1f5843d9d6e8966dce58179f01de</td>\n",
       "      <td>157</td>\n",
       "      <td>2.55</td>\n",
       "      <td>2.65</td>\n",
       "      <td>4.0</td>\n",
       "      <td>2.95</td>\n",
       "      <td>4.05</td>\n",
       "      <td>n</td>\n",
       "      <td>n</td>\n",
       "      <td>y</td>\n",
       "      <td>n</td>\n",
       "      <td>y</td>\n",
       "      <td>07/13/09 01:27 PM</td>\n",
       "      <td>3</td>\n",
       "      <td>1</td>\n",
       "    </tr>\n",
       "    <tr>\n",
       "      <th>4170</th>\n",
       "      <td>dba5f5266d03dd6d4db084ad7dbc683c</td>\n",
       "      <td>wed,.</td>\n",
       "      <td>1.55</td>\n",
       "      <td>2.45</td>\n",
       "      <td>3.5</td>\n",
       "      <td>3.40</td>\n",
       "      <td>4.50</td>\n",
       "      <td>n</td>\n",
       "      <td>n</td>\n",
       "      <td>n</td>\n",
       "      <td>n</td>\n",
       "      <td>y</td>\n",
       "      <td>09/02/09 05:32 AM</td>\n",
       "      <td>5</td>\n",
       "      <td>1</td>\n",
       "    </tr>\n",
       "    <tr>\n",
       "      <th>2016</th>\n",
       "      <td>c3f4b3e345cb6b032db2e0459d179db3</td>\n",
       "      <td>HOUSE!</td>\n",
       "      <td>2.45</td>\n",
       "      <td>4.00</td>\n",
       "      <td>3.8</td>\n",
       "      <td>2.80</td>\n",
       "      <td>4.25</td>\n",
       "      <td>n</td>\n",
       "      <td>y</td>\n",
       "      <td>y</td>\n",
       "      <td>n</td>\n",
       "      <td>y</td>\n",
       "      <td>10/13/09 12:00 AM</td>\n",
       "      <td>6</td>\n",
       "      <td>1</td>\n",
       "    </tr>\n",
       "    <tr>\n",
       "      <th>956</th>\n",
       "      <td>e6cdef6f475cce3023c5b715f8c9f110</td>\n",
       "      <td>Err:509</td>\n",
       "      <td>1.80</td>\n",
       "      <td>2.90</td>\n",
       "      <td>2.9</td>\n",
       "      <td>3.00</td>\n",
       "      <td>4.20</td>\n",
       "      <td>n</td>\n",
       "      <td>y</td>\n",
       "      <td>n</td>\n",
       "      <td>n</td>\n",
       "      <td>y</td>\n",
       "      <td>10/10/09 07:23 PM</td>\n",
       "      <td>7</td>\n",
       "      <td>1</td>\n",
       "    </tr>\n",
       "    <tr>\n",
       "      <th>4177</th>\n",
       "      <td>dba5f5266d03dd6d4db084ad7dbc683c</td>\n",
       "      <td>confused</td>\n",
       "      <td>1.55</td>\n",
       "      <td>2.45</td>\n",
       "      <td>3.5</td>\n",
       "      <td>3.40</td>\n",
       "      <td>4.50</td>\n",
       "      <td>n</td>\n",
       "      <td>n</td>\n",
       "      <td>n</td>\n",
       "      <td>n</td>\n",
       "      <td>y</td>\n",
       "      <td>09/04/09 02:18 AM</td>\n",
       "      <td>8</td>\n",
       "      <td>1</td>\n",
       "    </tr>\n",
       "  </tbody>\n",
       "</table>\n",
       "</div>"
      ],
      "text/plain": [
       "                               #AUTHID    STATUS  sEXT  sNEU  sAGR  sCON  \\\n",
       "8178  4bbb1f5843d9d6e8966dce58179f01de       157  2.55  2.65   4.0  2.95   \n",
       "4170  dba5f5266d03dd6d4db084ad7dbc683c     wed,.  1.55  2.45   3.5  3.40   \n",
       "2016  c3f4b3e345cb6b032db2e0459d179db3    HOUSE!  2.45  4.00   3.8  2.80   \n",
       "956   e6cdef6f475cce3023c5b715f8c9f110   Err:509  1.80  2.90   2.9  3.00   \n",
       "4177  dba5f5266d03dd6d4db084ad7dbc683c  confused  1.55  2.45   3.5  3.40   \n",
       "\n",
       "      sOPN cEXT cNEU cAGR cCON cOPN               DATE  status_length  \\\n",
       "8178  4.05    n    n    y    n    y  07/13/09 01:27 PM              3   \n",
       "4170  4.50    n    n    n    n    y  09/02/09 05:32 AM              5   \n",
       "2016  4.25    n    y    y    n    y  10/13/09 12:00 AM              6   \n",
       "956   4.20    n    y    n    n    y  10/10/09 07:23 PM              7   \n",
       "4177  4.50    n    n    n    n    y  09/04/09 02:18 AM              8   \n",
       "\n",
       "      status_word_count  \n",
       "8178                  1  \n",
       "4170                  1  \n",
       "2016                  1  \n",
       "956                   1  \n",
       "4177                  1  "
      ]
     },
     "execution_count": 7,
     "metadata": {},
     "output_type": "execute_result"
    }
   ],
   "source": [
    "# Top 5 shortest text\n",
    "df.sort_values(by='status_word_count', ascending=True)[:5]"
   ]
  },
  {
   "cell_type": "code",
   "execution_count": 8,
   "metadata": {},
   "outputs": [
    {
     "data": {
      "text/html": [
       "<div>\n",
       "<style scoped>\n",
       "    .dataframe tbody tr th:only-of-type {\n",
       "        vertical-align: middle;\n",
       "    }\n",
       "\n",
       "    .dataframe tbody tr th {\n",
       "        vertical-align: top;\n",
       "    }\n",
       "\n",
       "    .dataframe thead th {\n",
       "        text-align: right;\n",
       "    }\n",
       "</style>\n",
       "<table border=\"1\" class=\"dataframe\">\n",
       "  <thead>\n",
       "    <tr style=\"text-align: right;\">\n",
       "      <th></th>\n",
       "      <th>#AUTHID</th>\n",
       "      <th>STATUS</th>\n",
       "      <th>sEXT</th>\n",
       "      <th>sNEU</th>\n",
       "      <th>sAGR</th>\n",
       "      <th>sCON</th>\n",
       "      <th>sOPN</th>\n",
       "      <th>cEXT</th>\n",
       "      <th>cNEU</th>\n",
       "      <th>cAGR</th>\n",
       "      <th>cCON</th>\n",
       "      <th>cOPN</th>\n",
       "      <th>DATE</th>\n",
       "      <th>status_length</th>\n",
       "      <th>status_word_count</th>\n",
       "    </tr>\n",
       "  </thead>\n",
       "  <tbody>\n",
       "    <tr>\n",
       "      <th>496</th>\n",
       "      <td>9a8cf1dcb2de1a8f70c4745a636bbb96</td>\n",
       "      <td>Exact words when renewing DL: Me: Oh no, you can't take my license, It's my 25th b-day. How am I going to get into the bar? DMV: We gonna give you a new one over there Me: But, it won't have my picture and stuff on it.  Dmv:  Hold up, we can take a picture of your picture and put it on a license i think. (yelling at co-worker to see if this can be done) Yup! Me: So, I can go to the bar?! Dmv: ...</td>\n",
       "      <td>3.75</td>\n",
       "      <td>3.25</td>\n",
       "      <td>4.50</td>\n",
       "      <td>5.00</td>\n",
       "      <td>4.00</td>\n",
       "      <td>y</td>\n",
       "      <td>y</td>\n",
       "      <td>y</td>\n",
       "      <td>y</td>\n",
       "      <td>y</td>\n",
       "      <td>10/30/09 02:05 PM</td>\n",
       "      <td>413</td>\n",
       "      <td>89</td>\n",
       "    </tr>\n",
       "    <tr>\n",
       "      <th>6989</th>\n",
       "      <td>502db2fcfe26705ae16a46c5cb2ad2e5</td>\n",
       "      <td>If I wear makeup, I'm fake. If I like to get dressed up, I'm a Tart. If I say what i think, I'm a bitch. If I cry sometimes, I'm a drama queen. If I have guy friends, I'm a slut. If I stand up for myself, I'm mouthy. Seems like you can't do anything now a days without being labeled.. So what, go ahead and label me, see if i give a shit. Repost this if your proud of who you are! x x</td>\n",
       "      <td>3.20</td>\n",
       "      <td>3.30</td>\n",
       "      <td>4.55</td>\n",
       "      <td>3.20</td>\n",
       "      <td>4.45</td>\n",
       "      <td>n</td>\n",
       "      <td>y</td>\n",
       "      <td>y</td>\n",
       "      <td>n</td>\n",
       "      <td>y</td>\n",
       "      <td>02/18/11 08:33 AM</td>\n",
       "      <td>384</td>\n",
       "      <td>85</td>\n",
       "    </tr>\n",
       "    <tr>\n",
       "      <th>5208</th>\n",
       "      <td>c85845b82e705a32f674757d8912df23</td>\n",
       "      <td>can't believe it. I got the new Wii Fit Plus game, it has a lot of fun new games and features. However, after not using the wii fit for a few months we decided to do the fitness test stuff again. Me(since last time): +2.9 lbs, still a healthy weight and BMI, wii age 54. *PROPNAME*: -8.6lbs, reccommends a healthy weight of gaining 6lbs, wii age 32. On the positive side, I have lost 5 of the 8 l...</td>\n",
       "      <td>2.25</td>\n",
       "      <td>2.75</td>\n",
       "      <td>4.50</td>\n",
       "      <td>4.25</td>\n",
       "      <td>2.50</td>\n",
       "      <td>n</td>\n",
       "      <td>n</td>\n",
       "      <td>y</td>\n",
       "      <td>y</td>\n",
       "      <td>n</td>\n",
       "      <td>01/08/10 07:32 PM</td>\n",
       "      <td>426</td>\n",
       "      <td>84</td>\n",
       "    </tr>\n",
       "    <tr>\n",
       "      <th>7976</th>\n",
       "      <td>d7e500ad854a1b6ced39e53a525b8a6d</td>\n",
       "      <td>\"I said he's a fairy I do suppose//flyin thru the air in pantyhose//he may be very sexy or even cute//but he looks like a sucka in a blue and red suit//I said you need a man who's got finesse//&amp; his whole name across his chest//he may be able to fly all thru the night//but can he rock a party til the early light//he can't satisfy you with his little worm//but I can bust you out w my Super sper...</td>\n",
       "      <td>3.25</td>\n",
       "      <td>4.25</td>\n",
       "      <td>2.75</td>\n",
       "      <td>2.00</td>\n",
       "      <td>3.75</td>\n",
       "      <td>n</td>\n",
       "      <td>y</td>\n",
       "      <td>n</td>\n",
       "      <td>n</td>\n",
       "      <td>n</td>\n",
       "      <td>10/21/09 10:39 PM</td>\n",
       "      <td>429</td>\n",
       "      <td>83</td>\n",
       "    </tr>\n",
       "    <tr>\n",
       "      <th>5680</th>\n",
       "      <td>1ece40ac9b657dea8c22a1fe58d3a6fe</td>\n",
       "      <td>I always make it a rule to let the other fellow fire first.  If a man wants to fight, I argue the question with him and try to show him how foolish it would be.  If he can't be dissuaded, why then the fun begins but I always let him have first crack.  Then when I fire, you see, I have the verdict of self-defence on my side.  I know that he is pretty certain in his hurry, to miss.  I never do.</td>\n",
       "      <td>3.50</td>\n",
       "      <td>1.75</td>\n",
       "      <td>4.75</td>\n",
       "      <td>3.00</td>\n",
       "      <td>4.25</td>\n",
       "      <td>n</td>\n",
       "      <td>n</td>\n",
       "      <td>y</td>\n",
       "      <td>n</td>\n",
       "      <td>y</td>\n",
       "      <td>12/07/09 04:07 AM</td>\n",
       "      <td>395</td>\n",
       "      <td>83</td>\n",
       "    </tr>\n",
       "  </tbody>\n",
       "</table>\n",
       "</div>"
      ],
      "text/plain": [
       "                               #AUTHID  \\\n",
       "496   9a8cf1dcb2de1a8f70c4745a636bbb96   \n",
       "6989  502db2fcfe26705ae16a46c5cb2ad2e5   \n",
       "5208  c85845b82e705a32f674757d8912df23   \n",
       "7976  d7e500ad854a1b6ced39e53a525b8a6d   \n",
       "5680  1ece40ac9b657dea8c22a1fe58d3a6fe   \n",
       "\n",
       "                                                                                                                                                                                                                                                                                                                                                                                                               STATUS  \\\n",
       "496   Exact words when renewing DL: Me: Oh no, you can't take my license, It's my 25th b-day. How am I going to get into the bar? DMV: We gonna give you a new one over there Me: But, it won't have my picture and stuff on it.  Dmv:  Hold up, we can take a picture of your picture and put it on a license i think. (yelling at co-worker to see if this can be done) Yup! Me: So, I can go to the bar?! Dmv: ...   \n",
       "6989                 If I wear makeup, I'm fake. If I like to get dressed up, I'm a Tart. If I say what i think, I'm a bitch. If I cry sometimes, I'm a drama queen. If I have guy friends, I'm a slut. If I stand up for myself, I'm mouthy. Seems like you can't do anything now a days without being labeled.. So what, go ahead and label me, see if i give a shit. Repost this if your proud of who you are! x x   \n",
       "5208  can't believe it. I got the new Wii Fit Plus game, it has a lot of fun new games and features. However, after not using the wii fit for a few months we decided to do the fitness test stuff again. Me(since last time): +2.9 lbs, still a healthy weight and BMI, wii age 54. *PROPNAME*: -8.6lbs, reccommends a healthy weight of gaining 6lbs, wii age 32. On the positive side, I have lost 5 of the 8 l...   \n",
       "7976  \"I said he's a fairy I do suppose//flyin thru the air in pantyhose//he may be very sexy or even cute//but he looks like a sucka in a blue and red suit//I said you need a man who's got finesse//& his whole name across his chest//he may be able to fly all thru the night//but can he rock a party til the early light//he can't satisfy you with his little worm//but I can bust you out w my Super sper...   \n",
       "5680      I always make it a rule to let the other fellow fire first.  If a man wants to fight, I argue the question with him and try to show him how foolish it would be.  If he can't be dissuaded, why then the fun begins but I always let him have first crack.  Then when I fire, you see, I have the verdict of self-defence on my side.  I know that he is pretty certain in his hurry, to miss.  I never do.   \n",
       "\n",
       "      sEXT  sNEU  sAGR  sCON  sOPN cEXT cNEU cAGR cCON cOPN  \\\n",
       "496   3.75  3.25  4.50  5.00  4.00    y    y    y    y    y   \n",
       "6989  3.20  3.30  4.55  3.20  4.45    n    y    y    n    y   \n",
       "5208  2.25  2.75  4.50  4.25  2.50    n    n    y    y    n   \n",
       "7976  3.25  4.25  2.75  2.00  3.75    n    y    n    n    n   \n",
       "5680  3.50  1.75  4.75  3.00  4.25    n    n    y    n    y   \n",
       "\n",
       "                   DATE  status_length  status_word_count  \n",
       "496   10/30/09 02:05 PM            413                 89  \n",
       "6989  02/18/11 08:33 AM            384                 85  \n",
       "5208  01/08/10 07:32 PM            426                 84  \n",
       "7976  10/21/09 10:39 PM            429                 83  \n",
       "5680  12/07/09 04:07 AM            395                 83  "
      ]
     },
     "execution_count": 8,
     "metadata": {},
     "output_type": "execute_result"
    }
   ],
   "source": [
    "# Top 5 longest text\n",
    "df.sort_values(by='status_word_count', ascending=False)[:5]"
   ]
  },
  {
   "cell_type": "markdown",
   "metadata": {},
   "source": [
    "## What's the distribution of post lengths?\n",
    "\n",
    "Use visuals to show the distributions of post lengths. Show both the distribution of word counts and the distribution of lengths based off character."
   ]
  },
  {
   "cell_type": "code",
   "execution_count": 9,
   "metadata": {},
   "outputs": [],
   "source": [
    "import seaborn as sns\n",
    "import matplotlib.pyplot as plt "
   ]
  },
  {
   "cell_type": "code",
   "execution_count": 10,
   "metadata": {},
   "outputs": [
    {
     "data": {
      "text/plain": [
       "<AxesSubplot:xlabel='status_word_count', ylabel='Count'>"
      ]
     },
     "execution_count": 10,
     "metadata": {},
     "output_type": "execute_result"
    },
    {
     "data": {
      "image/png": "[encoded data removed]",
      "text/plain": [
       "<Figure size 432x288 with 1 Axes>"
      ]
     },
     "metadata": {
      "needs_background": "light"
     },
     "output_type": "display_data"
    }
   ],
   "source": [
    "# Plotting distribution of word counts\n",
    "sns.histplot(df['status_word_count'])"
   ]
  },
  {
   "cell_type": "code",
   "execution_count": 11,
   "metadata": {},
   "outputs": [
    {
     "data": {
      "text/plain": [
       "<AxesSubplot:xlabel='status_length', ylabel='Count'>"
      ]
     },
     "execution_count": 11,
     "metadata": {},
     "output_type": "execute_result"
    },
    {
     "data": {
      "image/png": "[encoded data removed]",
      "text/plain": [
       "<Figure size 432x288 with 1 Axes>"
      ]
     },
     "metadata": {
      "needs_background": "light"
     },
     "output_type": "display_data"
    }
   ],
   "source": [
    "# Plotting distribution of character counts\n",
    "sns.histplot(df['status_length'])"
   ]
  },
  {
   "cell_type": "markdown",
   "metadata": {},
   "source": [
    "---\n",
    "\n",
    "## EDA of Personality Scores\n",
    "\n",
    "There are two sets of personality columns in the dataset: class and score. According to the attached paper, scores have been converted to categories based on whether a score for a user fell above or below the median.\n",
    "\n",
    "### Plot the distributions of personality scores for all five score columns:"
   ]
  },
  {
   "cell_type": "code",
   "execution_count": 12,
   "metadata": {},
   "outputs": [
    {
     "data": {
      "text/plain": [
       "Index(['#AUTHID', 'STATUS', 'sEXT', 'sNEU', 'sAGR', 'sCON', 'sOPN', 'cEXT',\n",
       "       'cNEU', 'cAGR', 'cCON', 'cOPN', 'DATE', 'status_length',\n",
       "       'status_word_count'],\n",
       "      dtype='object')"
      ]
     },
     "execution_count": 12,
     "metadata": {},
     "output_type": "execute_result"
    }
   ],
   "source": [
    "df.columns"
   ]
  },
  {
   "cell_type": "code",
   "execution_count": 13,
   "metadata": {
    "scrolled": true
   },
   "outputs": [
    {
     "data": {
      "image/png": "[encoded data removed]",
      "text/plain": [
       "<Figure size 432x288 with 1 Axes>"
      ]
     },
     "metadata": {
      "needs_background": "light"
     },
     "output_type": "display_data"
    },
    {
     "data": {
      "image/png": "[encoded data removed]",
      "text/plain": [
       "<Figure size 432x288 with 1 Axes>"
      ]
     },
     "metadata": {
      "needs_background": "light"
     },
     "output_type": "display_data"
    },
    {
     "data": {
      "image/png": "[encoded data removed]",
      "text/plain": [
       "<Figure size 432x288 with 1 Axes>"
      ]
     },
     "metadata": {
      "needs_background": "light"
     },
     "output_type": "display_data"
    },
    {
     "data": {
      "image/png": "[encoded data removed]",
      "text/plain": [
       "<Figure size 432x288 with 1 Axes>"
      ]
     },
     "metadata": {
      "needs_background": "light"
     },
     "output_type": "display_data"
    },
    {
     "data": {
      "image/png": "[encoded data removed]",
      "text/plain": [
       "<Figure size 432x288 with 1 Axes>"
      ]
     },
     "metadata": {
      "needs_background": "light"
     },
     "output_type": "display_data"
    }
   ],
   "source": [
    "personality_scores = ['sEXT', 'sNEU', 'sAGR', 'sCON', 'sOPN']\n",
    "\n",
    "for pers in personality_scores:\n",
    "    sns.histplot(df[pers], kde=True)\n",
    "    plt.show()"
   ]
  },
  {
   "cell_type": "markdown",
   "metadata": {},
   "source": [
    "---\n",
    "\n",
    "### How many unique users exist in the dataset?\n",
    "\n",
    "This dataset has redacted original poster names, but each user is given an `#AUTHID`. How many unique users are there, and how many posts per user do we have?"
   ]
  },
  {
   "cell_type": "code",
   "execution_count": 14,
   "metadata": {},
   "outputs": [
    {
     "name": "stdout",
     "output_type": "stream",
     "text": [
      "There are 250 unique users\n"
     ]
    }
   ],
   "source": [
    "no_unique_users = len(df['#AUTHID'].unique())\n",
    "print(f'There are {no_unique_users} unique users')"
   ]
  },
  {
   "cell_type": "code",
   "execution_count": 15,
   "metadata": {},
   "outputs": [
    {
     "data": {
      "text/plain": [
       "#AUTHID\n",
       "00419a4c96b32cd63b2c7196da761274     1\n",
       "02c37028a782cfda660c7243e45244bb     6\n",
       "03133a828cd0cf52e3752813ce5d818f     5\n",
       "03e6c4eca4269c183fa0e1780f73faba     8\n",
       "06b055f8e2bca96496514891057913c3    12\n",
       "                                    ..\n",
       "f83aa7290cf3ae8ed75d6aee5ebbb559     6\n",
       "fbe5aa478508d1dc931427ade5d9e1b4     3\n",
       "fc1c9fb6c64740edcbbf8cfe9dde8b02    30\n",
       "fe22087986fdcc65939c793fe0ec90a9    19\n",
       "fffafe151f07a30a0ede2038a897b680    21\n",
       "Name: STATUS, Length: 250, dtype: int64"
      ]
     },
     "execution_count": 15,
     "metadata": {},
     "output_type": "execute_result"
    }
   ],
   "source": [
    "df.groupby(by='#AUTHID')['STATUS'].nunique()"
   ]
  },
  {
   "cell_type": "markdown",
   "metadata": {},
   "source": [
    "## EDA on unique users\n",
    "\n",
    "Because we have many posts per user for most users, doing EDA on the personality score columns might be misleading. If we have 200 Facebook statuses from one very high-conscientiousness user, a bar chart of how many `'cCON'` statuses are associated with `'y'` might be misleading. We'll have to be careful about labeling and titling any visualizations we make off of the dataset.\n",
    "\n",
    "#### Create a new dataframe called `unique_users` that only contains the `#AUTHID`, personality score, and personality category columns:\n",
    "\n",
    "If you do this correctly, it should have 250 rows and 11 columns.\n",
    "\n",
    "(Hint: You can use the pandas [drop_duplicates()](https://pandas.pydata.org/pandas-docs/stable/reference/api/pandas.DataFrame.drop_duplicates.html) method to make this easier. The only column you want to consider when deciding if a user is duplicated is the `#AUTHID` column.)"
   ]
  },
  {
   "cell_type": "code",
   "execution_count": 16,
   "metadata": {},
   "outputs": [
    {
     "data": {
      "text/plain": [
       "Index(['#AUTHID', 'STATUS', 'sEXT', 'sNEU', 'sAGR', 'sCON', 'sOPN', 'cEXT',\n",
       "       'cNEU', 'cAGR', 'cCON', 'cOPN', 'DATE', 'status_length',\n",
       "       'status_word_count'],\n",
       "      dtype='object')"
      ]
     },
     "execution_count": 16,
     "metadata": {},
     "output_type": "execute_result"
    }
   ],
   "source": [
    "df.columns"
   ]
  },
  {
   "cell_type": "code",
   "execution_count": 17,
   "metadata": {},
   "outputs": [
    {
     "name": "stderr",
     "output_type": "stream",
     "text": [
      "<ipython-input-17-ab9e37f3771a>:3: SettingWithCopyWarning: \n",
      "A value is trying to be set on a copy of a slice from a DataFrame\n",
      "\n",
      "See the caveats in the documentation: https://pandas.pydata.org/pandas-docs/stable/user_guide/indexing.html#returning-a-view-versus-a-copy\n",
      "  unique_users.drop_duplicates(inplace=True)\n"
     ]
    },
    {
     "data": {
      "text/plain": [
       "(250, 11)"
      ]
     },
     "execution_count": 17,
     "metadata": {},
     "output_type": "execute_result"
    }
   ],
   "source": [
    "new_cols = ['#AUTHID', 'sEXT', 'sNEU', 'sAGR', 'sCON', 'sOPN', 'cEXT', 'cNEU', 'cAGR', 'cCON', 'cOPN']\n",
    "unique_users = df[new_cols]\n",
    "unique_users.drop_duplicates(inplace=True)\n",
    "unique_users.shape"
   ]
  },
  {
   "cell_type": "markdown",
   "metadata": {},
   "source": [
    "#### Plot the distribution of personality scores for `unique_users`:\n",
    "\n",
    "Do the distributions look different? Here, each individual user will only be represented once."
   ]
  },
  {
   "cell_type": "code",
   "execution_count": 18,
   "metadata": {},
   "outputs": [
    {
     "data": {
      "image/png": "[encoded data removed]",
      "text/plain": [
       "<Figure size 432x288 with 1 Axes>"
      ]
     },
     "metadata": {
      "needs_background": "light"
     },
     "output_type": "display_data"
    },
    {
     "data": {
      "image/png": "[encoded data removed]",
      "text/plain": [
       "<Figure size 432x288 with 1 Axes>"
      ]
     },
     "metadata": {
      "needs_background": "light"
     },
     "output_type": "display_data"
    },
    {
     "data": {
      "image/png": "[encoded data removed]",
      "text/plain": [
       "<Figure size 432x288 with 1 Axes>"
      ]
     },
     "metadata": {
      "needs_background": "light"
     },
     "output_type": "display_data"
    },
    {
     "data": {
      "image/png": "[encoded data removed]",
      "text/plain": [
       "<Figure size 432x288 with 1 Axes>"
      ]
     },
     "metadata": {
      "needs_background": "light"
     },
     "output_type": "display_data"
    },
    {
     "data": {
      "image/png": "[encoded data removed]",
      "text/plain": [
       "<Figure size 432x288 with 1 Axes>"
      ]
     },
     "metadata": {
      "needs_background": "light"
     },
     "output_type": "display_data"
    }
   ],
   "source": [
    "personality_scores = ['sEXT', 'sNEU', 'sAGR', 'sCON', 'sOPN']\n",
    "\n",
    "for pers in personality_scores:\n",
    "    sns.histplot(unique_users[pers], kde=True)\n",
    "    plt.show()"
   ]
  },
  {
   "cell_type": "markdown",
   "metadata": {},
   "source": [
    "#### Use the `.describe()` method on `unique_users`:"
   ]
  },
  {
   "cell_type": "code",
   "execution_count": 19,
   "metadata": {},
   "outputs": [
    {
     "data": {
      "text/html": [
       "<div>\n",
       "<style scoped>\n",
       "    .dataframe tbody tr th:only-of-type {\n",
       "        vertical-align: middle;\n",
       "    }\n",
       "\n",
       "    .dataframe tbody tr th {\n",
       "        vertical-align: top;\n",
       "    }\n",
       "\n",
       "    .dataframe thead th {\n",
       "        text-align: right;\n",
       "    }\n",
       "</style>\n",
       "<table border=\"1\" class=\"dataframe\">\n",
       "  <thead>\n",
       "    <tr style=\"text-align: right;\">\n",
       "      <th></th>\n",
       "      <th>sEXT</th>\n",
       "      <th>sNEU</th>\n",
       "      <th>sAGR</th>\n",
       "      <th>sCON</th>\n",
       "      <th>sOPN</th>\n",
       "    </tr>\n",
       "  </thead>\n",
       "  <tbody>\n",
       "    <tr>\n",
       "      <th>count</th>\n",
       "      <td>250.000000</td>\n",
       "      <td>250.000000</td>\n",
       "      <td>250.000000</td>\n",
       "      <td>250.000000</td>\n",
       "      <td>250.00000</td>\n",
       "    </tr>\n",
       "    <tr>\n",
       "      <th>mean</th>\n",
       "      <td>3.292120</td>\n",
       "      <td>2.627240</td>\n",
       "      <td>3.600320</td>\n",
       "      <td>3.522920</td>\n",
       "      <td>4.07856</td>\n",
       "    </tr>\n",
       "    <tr>\n",
       "      <th>std</th>\n",
       "      <td>0.861368</td>\n",
       "      <td>0.776835</td>\n",
       "      <td>0.670758</td>\n",
       "      <td>0.740211</td>\n",
       "      <td>0.57506</td>\n",
       "    </tr>\n",
       "    <tr>\n",
       "      <th>min</th>\n",
       "      <td>1.330000</td>\n",
       "      <td>1.250000</td>\n",
       "      <td>1.650000</td>\n",
       "      <td>1.450000</td>\n",
       "      <td>2.25000</td>\n",
       "    </tr>\n",
       "    <tr>\n",
       "      <th>25%</th>\n",
       "      <td>2.662500</td>\n",
       "      <td>2.000000</td>\n",
       "      <td>3.150000</td>\n",
       "      <td>3.000000</td>\n",
       "      <td>3.75000</td>\n",
       "    </tr>\n",
       "    <tr>\n",
       "      <th>50%</th>\n",
       "      <td>3.300000</td>\n",
       "      <td>2.590000</td>\n",
       "      <td>3.660000</td>\n",
       "      <td>3.500000</td>\n",
       "      <td>4.15000</td>\n",
       "    </tr>\n",
       "    <tr>\n",
       "      <th>75%</th>\n",
       "      <td>4.000000</td>\n",
       "      <td>3.150000</td>\n",
       "      <td>4.100000</td>\n",
       "      <td>4.050000</td>\n",
       "      <td>4.50000</td>\n",
       "    </tr>\n",
       "    <tr>\n",
       "      <th>max</th>\n",
       "      <td>5.000000</td>\n",
       "      <td>4.750000</td>\n",
       "      <td>5.000000</td>\n",
       "      <td>5.000000</td>\n",
       "      <td>5.00000</td>\n",
       "    </tr>\n",
       "  </tbody>\n",
       "</table>\n",
       "</div>"
      ],
      "text/plain": [
       "             sEXT        sNEU        sAGR        sCON       sOPN\n",
       "count  250.000000  250.000000  250.000000  250.000000  250.00000\n",
       "mean     3.292120    2.627240    3.600320    3.522920    4.07856\n",
       "std      0.861368    0.776835    0.670758    0.740211    0.57506\n",
       "min      1.330000    1.250000    1.650000    1.450000    2.25000\n",
       "25%      2.662500    2.000000    3.150000    3.000000    3.75000\n",
       "50%      3.300000    2.590000    3.660000    3.500000    4.15000\n",
       "75%      4.000000    3.150000    4.100000    4.050000    4.50000\n",
       "max      5.000000    4.750000    5.000000    5.000000    5.00000"
      ]
     },
     "execution_count": 19,
     "metadata": {},
     "output_type": "execute_result"
    }
   ],
   "source": [
    "unique_users.describe()"
   ]
  },
  {
   "cell_type": "markdown",
   "metadata": {},
   "source": [
    "### Plots vs. Tables\n",
    "\n",
    "Consider what different information is easily conveyed by the plots of scores, versus the table with summary statistics. Explain when you might present a distribution versus when you might present a table of summary statistics."
   ]
  },
  {
   "cell_type": "markdown",
   "metadata": {},
   "source": [
    "**My answer:**\n",
    "\n",
    "If we need some quick snapshots of the data (i.e. mean, median, max, min), these can be captured quickly using a table of summary statistics.\n",
    "\n",
    "However, if you are looking to find out more about the skew of the distribution, a histogram + density plot may be more appropriate."
   ]
  },
  {
   "cell_type": "markdown",
   "metadata": {},
   "source": [
    "#### Other visualizations:\n",
    "\n",
    "Create 1-2 additional visualizations related to the `unique_users` dataframe.\n",
    "\n",
    "You might consider:\n",
    "- Barcharts of users per category per trait\n",
    "- A seaborn correlation heatmap\n",
    "- A seaborn pairplot"
   ]
  },
  {
   "cell_type": "code",
   "execution_count": 20,
   "metadata": {},
   "outputs": [],
   "source": [
    "categories = ['cEXT', 'cNEU', 'cAGR', 'cCON', 'cOPN']"
   ]
  },
  {
   "cell_type": "code",
   "execution_count": 21,
   "metadata": {},
   "outputs": [
    {
     "name": "stderr",
     "output_type": "stream",
     "text": [
      "<ipython-input-21-607bb530fa4a>:2: SettingWithCopyWarning: \n",
      "A value is trying to be set on a copy of a slice from a DataFrame.\n",
      "Try using .loc[row_indexer,col_indexer] = value instead\n",
      "\n",
      "See the caveats in the documentation: https://pandas.pydata.org/pandas-docs/stable/user_guide/indexing.html#returning-a-view-versus-a-copy\n",
      "  unique_users[i] = unique_users[i].map({'y':1, 'n':0})\n"
     ]
    }
   ],
   "source": [
    "for i in categories:\n",
    "    unique_users[i] = unique_users[i].map({'y':1, 'n':0})"
   ]
  },
  {
   "cell_type": "code",
   "execution_count": 111,
   "metadata": {},
   "outputs": [
    {
     "data": {
      "text/plain": [
       "<AxesSubplot:>"
      ]
     },
     "execution_count": 111,
     "metadata": {},
     "output_type": "execute_result"
    },
    {
     "data": {
      "image/png": "[encoded data removed]",
      "text/plain": [
       "<Figure size 432x288 with 1 Axes>"
      ]
     },
     "metadata": {
      "needs_background": "light"
     },
     "output_type": "display_data"
    }
   ],
   "source": [
    "# No. of users per category\n",
    "unique_users[categories].sum().plot(kind='bar')"
   ]
  },
  {
   "cell_type": "code",
   "execution_count": 23,
   "metadata": {},
   "outputs": [
    {
     "data": {
      "text/plain": [
       "<AxesSubplot:>"
      ]
     },
     "execution_count": 23,
     "metadata": {},
     "output_type": "execute_result"
    },
    {
     "data": {
      "image/png": "[encoded data removed]",
      "text/plain": [
       "<Figure size 360x360 with 2 Axes>"
      ]
     },
     "metadata": {
      "needs_background": "light"
     },
     "output_type": "display_data"
    }
   ],
   "source": [
    "# Correlation heatmap of category scores\n",
    "correlations = unique_users[personality_scores].corr()\n",
    "plt.subplots(figsize=(5,5))\n",
    "sns.heatmap(correlations, cmap='coolwarm_r', center=0, annot=True)"
   ]
  },
  {
   "cell_type": "code",
   "execution_count": 24,
   "metadata": {},
   "outputs": [
    {
     "data": {
      "text/plain": [
       "<seaborn.axisgrid.PairGrid at 0x25891594970>"
      ]
     },
     "execution_count": 24,
     "metadata": {},
     "output_type": "execute_result"
    },
    {
     "data": {
      "image/png": "[encoded data removed]",
      "text/plain": [
       "<Figure size 900x900 with 30 Axes>"
      ]
     },
     "metadata": {
      "needs_background": "light"
     },
     "output_type": "display_data"
    }
   ],
   "source": [
    "# Seaborn pairplot\n",
    "sns.pairplot(data=unique_users[personality_scores])"
   ]
  },
  {
   "cell_type": "markdown",
   "metadata": {},
   "source": [
    "---\n",
    "\n",
    "## Exploring status length and word count based on personality\n",
    "\n",
    "#### Using `groupby()`, find the mean status length and status word count for posts by users in the high and low categories of each of the Big 5 traits.\n",
    "\n",
    "You'll need to use `groupby()` five separate times for this."
   ]
  },
  {
   "cell_type": "code",
   "execution_count": 25,
   "metadata": {},
   "outputs": [
    {
     "name": "stdout",
     "output_type": "stream",
     "text": [
      "\n",
      "       status_length  status_word_count\n",
      "cEXT                                  \n",
      "n                59                 11\n",
      "y                62                 11\n",
      "\n",
      "       status_length  status_word_count\n",
      "cNEU                                  \n",
      "n                61                 11\n",
      "y                60                 11\n",
      "\n",
      "       status_length  status_word_count\n",
      "cAGR                                  \n",
      "n                59                 11\n",
      "y                62                 11\n",
      "\n",
      "       status_length  status_word_count\n",
      "cCON                                  \n",
      "n                61                 11\n",
      "y                59                 11\n",
      "\n",
      "       status_length  status_word_count\n",
      "cOPN                                  \n",
      "n                62                 11\n",
      "y                60                 11\n"
     ]
    }
   ],
   "source": [
    "categories = ['cEXT', 'cNEU', 'cAGR', 'cCON', 'cOPN']\n",
    "\n",
    "for i in categories:\n",
    "    print(\"\\n\", df.groupby(i)[['status_length', 'status_word_count']].agg('median'))"
   ]
  },
  {
   "cell_type": "markdown",
   "metadata": {},
   "source": [
    "#### Choose one of the personality category columns (i.e. `cOPN`, `cCON`, `cEXT`, `cAGR`, or `cNEU`.) Use `sns.distplot()` to visualize the distribution of status word counts for posts by users who score both high (`y`) and low (`n`) in that personality category:"
   ]
  },
  {
   "cell_type": "code",
   "execution_count": 26,
   "metadata": {
    "scrolled": true
   },
   "outputs": [
    {
     "data": {
      "image/png": "[encoded data removed]",
      "text/plain": [
       "<Figure size 432x288 with 1 Axes>"
      ]
     },
     "metadata": {
      "needs_background": "light"
     },
     "output_type": "display_data"
    },
    {
     "data": {
      "image/png": "[encoded data removed]",
      "text/plain": [
       "<Figure size 432x288 with 1 Axes>"
      ]
     },
     "metadata": {
      "needs_background": "light"
     },
     "output_type": "display_data"
    },
    {
     "data": {
      "image/png": "[encoded data removed]",
      "text/plain": [
       "<Figure size 432x288 with 1 Axes>"
      ]
     },
     "metadata": {
      "needs_background": "light"
     },
     "output_type": "display_data"
    },
    {
     "data": {
      "image/png": "[encoded data removed]",
      "text/plain": [
       "<Figure size 432x288 with 1 Axes>"
      ]
     },
     "metadata": {
      "needs_background": "light"
     },
     "output_type": "display_data"
    },
    {
     "data": {
      "image/png": "[encoded data removed]",
      "text/plain": [
       "<Figure size 432x288 with 1 Axes>"
      ]
     },
     "metadata": {
      "needs_background": "light"
     },
     "output_type": "display_data"
    }
   ],
   "source": [
    "categories = ['cEXT', 'cNEU', 'cAGR', 'cCON', 'cOPN']\n",
    "\n",
    "for i in categories:\n",
    "    sns.histplot(x=df['status_length'], hue=df[i])\n",
    "    plt.show()"
   ]
  },
  {
   "cell_type": "code",
   "execution_count": 27,
   "metadata": {
    "scrolled": true
   },
   "outputs": [
    {
     "data": {
      "image/png": "[encoded data removed]",
      "text/plain": [
       "<Figure size 432x288 with 1 Axes>"
      ]
     },
     "metadata": {
      "needs_background": "light"
     },
     "output_type": "display_data"
    },
    {
     "data": {
      "image/png": "[encoded data removed]",
      "text/plain": [
       "<Figure size 432x288 with 1 Axes>"
      ]
     },
     "metadata": {
      "needs_background": "light"
     },
     "output_type": "display_data"
    },
    {
     "data": {
      "image/png": "[encoded data removed]",
      "text/plain": [
       "<Figure size 432x288 with 1 Axes>"
      ]
     },
     "metadata": {
      "needs_background": "light"
     },
     "output_type": "display_data"
    },
    {
     "data": {
      "image/png": "[encoded data removed]",
      "text/plain": [
       "<Figure size 432x288 with 1 Axes>"
      ]
     },
     "metadata": {
      "needs_background": "light"
     },
     "output_type": "display_data"
    },
    {
     "data": {
      "image/png": "[encoded data removed]",
      "text/plain": [
       "<Figure size 432x288 with 1 Axes>"
      ]
     },
     "metadata": {
      "needs_background": "light"
     },
     "output_type": "display_data"
    }
   ],
   "source": [
    "for i in categories:\n",
    "    sns.histplot(x=df['status_word_count'], hue=df[i])\n",
    "    plt.show()"
   ]
  },
  {
   "cell_type": "markdown",
   "metadata": {},
   "source": [
    "---\n",
    "\n",
    "## EDA on Word Counts\n",
    "\n",
    "### Vectorize the text\n",
    "\n",
    "In order to perform EDA on word count data, we'll need to count-vectorize.\n",
    "\n",
    "Create a dataframe that contains the count-vectorized text for each Facebook status in the dataset.\n",
    "\n",
    "To do this, you might follow these steps:\n",
    "- Instantiate a `CountVectorizer` object\n",
    "- Fit the count vectorizer on the Facebook statuses\n",
    "- Store the transformed data\n",
    "- Convert to a dataframe and store\n",
    "    - Don't forget that the transformed data will need to be 'densified'. The `toarray()` or `todense()` methods will allow this.\n",
    "    - Don't forget that the `get_feature_names()` method on a fitted `CountVectorizer` object will bring you back the words learned from the dataset, which you can set as the `columns` argument when creating the dataframe.\n",
    "    \n",
    "It's up to you whether or not to keep stopwords in the dataset."
   ]
  },
  {
   "cell_type": "code",
   "execution_count": 28,
   "metadata": {},
   "outputs": [],
   "source": [
    "# Instantiate a CountVectorizer witht he default parameters\n",
    "cvec = CountVectorizer(stop_words='english')"
   ]
  },
  {
   "cell_type": "code",
   "execution_count": 29,
   "metadata": {},
   "outputs": [],
   "source": [
    "status_cvec = cvec.fit_transform(df['STATUS'])"
   ]
  },
  {
   "cell_type": "code",
   "execution_count": 30,
   "metadata": {},
   "outputs": [
    {
     "data": {
      "text/html": [
       "<div>\n",
       "<style scoped>\n",
       "    .dataframe tbody tr th:only-of-type {\n",
       "        vertical-align: middle;\n",
       "    }\n",
       "\n",
       "    .dataframe tbody tr th {\n",
       "        vertical-align: top;\n",
       "    }\n",
       "\n",
       "    .dataframe thead th {\n",
       "        text-align: right;\n",
       "    }\n",
       "</style>\n",
       "<table border=\"1\" class=\"dataframe\">\n",
       "  <thead>\n",
       "    <tr style=\"text-align: right;\">\n",
       "      <th></th>\n",
       "      <th>00</th>\n",
       "      <th>000</th>\n",
       "      <th>000ft</th>\n",
       "      <th>00am</th>\n",
       "      <th>00pm</th>\n",
       "      <th>01</th>\n",
       "      <th>02</th>\n",
       "      <th>02pm</th>\n",
       "      <th>03</th>\n",
       "      <th>0330</th>\n",
       "      <th>...</th>\n",
       "      <th>équipe</th>\n",
       "      <th>étais</th>\n",
       "      <th>était</th>\n",
       "      <th>étant</th>\n",
       "      <th>état</th>\n",
       "      <th>été</th>\n",
       "      <th>être</th>\n",
       "      <th>østersund</th>\n",
       "      <th>últimas</th>\n",
       "      <th>últimos</th>\n",
       "    </tr>\n",
       "  </thead>\n",
       "  <tbody>\n",
       "    <tr>\n",
       "      <th>0</th>\n",
       "      <td>0</td>\n",
       "      <td>0</td>\n",
       "      <td>0</td>\n",
       "      <td>0</td>\n",
       "      <td>0</td>\n",
       "      <td>0</td>\n",
       "      <td>0</td>\n",
       "      <td>0</td>\n",
       "      <td>0</td>\n",
       "      <td>0</td>\n",
       "      <td>...</td>\n",
       "      <td>0</td>\n",
       "      <td>0</td>\n",
       "      <td>0</td>\n",
       "      <td>0</td>\n",
       "      <td>0</td>\n",
       "      <td>0</td>\n",
       "      <td>0</td>\n",
       "      <td>0</td>\n",
       "      <td>0</td>\n",
       "      <td>0</td>\n",
       "    </tr>\n",
       "    <tr>\n",
       "      <th>1</th>\n",
       "      <td>0</td>\n",
       "      <td>0</td>\n",
       "      <td>0</td>\n",
       "      <td>0</td>\n",
       "      <td>0</td>\n",
       "      <td>0</td>\n",
       "      <td>0</td>\n",
       "      <td>0</td>\n",
       "      <td>0</td>\n",
       "      <td>0</td>\n",
       "      <td>...</td>\n",
       "      <td>0</td>\n",
       "      <td>0</td>\n",
       "      <td>0</td>\n",
       "      <td>0</td>\n",
       "      <td>0</td>\n",
       "      <td>0</td>\n",
       "      <td>0</td>\n",
       "      <td>0</td>\n",
       "      <td>0</td>\n",
       "      <td>0</td>\n",
       "    </tr>\n",
       "    <tr>\n",
       "      <th>2</th>\n",
       "      <td>0</td>\n",
       "      <td>0</td>\n",
       "      <td>0</td>\n",
       "      <td>0</td>\n",
       "      <td>0</td>\n",
       "      <td>0</td>\n",
       "      <td>0</td>\n",
       "      <td>0</td>\n",
       "      <td>0</td>\n",
       "      <td>0</td>\n",
       "      <td>...</td>\n",
       "      <td>0</td>\n",
       "      <td>0</td>\n",
       "      <td>0</td>\n",
       "      <td>0</td>\n",
       "      <td>0</td>\n",
       "      <td>0</td>\n",
       "      <td>0</td>\n",
       "      <td>0</td>\n",
       "      <td>0</td>\n",
       "      <td>0</td>\n",
       "    </tr>\n",
       "    <tr>\n",
       "      <th>3</th>\n",
       "      <td>0</td>\n",
       "      <td>0</td>\n",
       "      <td>0</td>\n",
       "      <td>0</td>\n",
       "      <td>0</td>\n",
       "      <td>0</td>\n",
       "      <td>0</td>\n",
       "      <td>0</td>\n",
       "      <td>0</td>\n",
       "      <td>0</td>\n",
       "      <td>...</td>\n",
       "      <td>0</td>\n",
       "      <td>0</td>\n",
       "      <td>0</td>\n",
       "      <td>0</td>\n",
       "      <td>0</td>\n",
       "      <td>0</td>\n",
       "      <td>0</td>\n",
       "      <td>0</td>\n",
       "      <td>0</td>\n",
       "      <td>0</td>\n",
       "    </tr>\n",
       "    <tr>\n",
       "      <th>4</th>\n",
       "      <td>0</td>\n",
       "      <td>0</td>\n",
       "      <td>0</td>\n",
       "      <td>0</td>\n",
       "      <td>0</td>\n",
       "      <td>0</td>\n",
       "      <td>0</td>\n",
       "      <td>0</td>\n",
       "      <td>0</td>\n",
       "      <td>0</td>\n",
       "      <td>...</td>\n",
       "      <td>0</td>\n",
       "      <td>0</td>\n",
       "      <td>0</td>\n",
       "      <td>0</td>\n",
       "      <td>0</td>\n",
       "      <td>0</td>\n",
       "      <td>0</td>\n",
       "      <td>0</td>\n",
       "      <td>0</td>\n",
       "      <td>0</td>\n",
       "    </tr>\n",
       "  </tbody>\n",
       "</table>\n",
       "<p>5 rows × 15183 columns</p>\n",
       "</div>"
      ],
      "text/plain": [
       "   00  000  000ft  00am  00pm  01  02  02pm  03  0330  ...  équipe  étais  \\\n",
       "0   0    0      0     0     0   0   0     0   0     0  ...       0      0   \n",
       "1   0    0      0     0     0   0   0     0   0     0  ...       0      0   \n",
       "2   0    0      0     0     0   0   0     0   0     0  ...       0      0   \n",
       "3   0    0      0     0     0   0   0     0   0     0  ...       0      0   \n",
       "4   0    0      0     0     0   0   0     0   0     0  ...       0      0   \n",
       "\n",
       "   était  étant  état  été  être  østersund  últimas  últimos  \n",
       "0      0      0     0    0     0          0        0        0  \n",
       "1      0      0     0    0     0          0        0        0  \n",
       "2      0      0     0    0     0          0        0        0  \n",
       "3      0      0     0    0     0          0        0        0  \n",
       "4      0      0     0    0     0          0        0        0  \n",
       "\n",
       "[5 rows x 15183 columns]"
      ]
     },
     "execution_count": 30,
     "metadata": {},
     "output_type": "execute_result"
    }
   ],
   "source": [
    "# convert training data to dataframe\n",
    "df_cvec = pd.DataFrame(status_cvec.toarray(), columns=cvec.get_feature_names())\n",
    "df_cvec.head()"
   ]
  },
  {
   "cell_type": "markdown",
   "metadata": {},
   "source": [
    "### Show the 15 most common words"
   ]
  },
  {
   "cell_type": "code",
   "execution_count": 31,
   "metadata": {},
   "outputs": [
    {
     "data": {
      "text/plain": [
       "propname    1309\n",
       "just         717\n",
       "day          534\n",
       "like         506\n",
       "time         424\n",
       "going        414\n",
       "today        402\n",
       "new          386\n",
       "work         369\n",
       "good         354\n",
       "got          314\n",
       "night        312\n",
       "love         292\n",
       "tomorrow     277\n",
       "know         276\n",
       "dtype: int64"
      ]
     },
     "execution_count": 31,
     "metadata": {},
     "output_type": "execute_result"
    }
   ],
   "source": [
    "df_cvec.sum().sort_values(ascending=False).head(15)"
   ]
  },
  {
   "cell_type": "markdown",
   "metadata": {},
   "source": [
    "### Show the 15 frequency of the most common words as a bar chart\n",
    "\n",
    "**Hint**: You can do this in one line of code. [This webpage](https://dfrieds.com/data-visualizations/bar-plot-python-pandas.html) has an example."
   ]
  },
  {
   "cell_type": "code",
   "execution_count": 32,
   "metadata": {},
   "outputs": [
    {
     "data": {
      "text/plain": [
       "<AxesSubplot:>"
      ]
     },
     "execution_count": 32,
     "metadata": {},
     "output_type": "execute_result"
    },
    {
     "data": {
      "image/png": "[encoded data removed]",
      "text/plain": [
       "<Figure size 432x288 with 1 Axes>"
      ]
     },
     "metadata": {
      "needs_background": "light"
     },
     "output_type": "display_data"
    }
   ],
   "source": [
    "df_cvec.sum().sort_values(ascending=False).head(15).plot(kind='barh')"
   ]
  },
  {
   "cell_type": "markdown",
   "metadata": {},
   "source": [
    "### Investigating `propname`\n",
    "\n",
    "The word `propname` shows up frequently in this dataset. Show the first 10 statuses in the dataset that contain `propname`:"
   ]
  },
  {
   "cell_type": "code",
   "execution_count": 33,
   "metadata": {},
   "outputs": [
    {
     "data": {
      "text/html": [
       "<div>\n",
       "<style scoped>\n",
       "    .dataframe tbody tr th:only-of-type {\n",
       "        vertical-align: middle;\n",
       "    }\n",
       "\n",
       "    .dataframe tbody tr th {\n",
       "        vertical-align: top;\n",
       "    }\n",
       "\n",
       "    .dataframe thead th {\n",
       "        text-align: right;\n",
       "    }\n",
       "</style>\n",
       "<table border=\"1\" class=\"dataframe\">\n",
       "  <thead>\n",
       "    <tr style=\"text-align: right;\">\n",
       "      <th></th>\n",
       "      <th>#AUTHID</th>\n",
       "      <th>STATUS</th>\n",
       "      <th>sEXT</th>\n",
       "      <th>sNEU</th>\n",
       "      <th>sAGR</th>\n",
       "      <th>sCON</th>\n",
       "      <th>sOPN</th>\n",
       "      <th>cEXT</th>\n",
       "      <th>cNEU</th>\n",
       "      <th>cAGR</th>\n",
       "      <th>cCON</th>\n",
       "      <th>cOPN</th>\n",
       "      <th>DATE</th>\n",
       "      <th>status_length</th>\n",
       "      <th>status_word_count</th>\n",
       "    </tr>\n",
       "  </thead>\n",
       "  <tbody>\n",
       "    <tr>\n",
       "      <th>6</th>\n",
       "      <td>b7b7764cfa1c523e4e93ab2a79a946c4</td>\n",
       "      <td>saw a nun zombie, and liked it. Also, *PROPNAME* + Tentacle!Man + Psychic Powers = GREAT Party.</td>\n",
       "      <td>2.65</td>\n",
       "      <td>3.00</td>\n",
       "      <td>3.15</td>\n",
       "      <td>3.25</td>\n",
       "      <td>4.40</td>\n",
       "      <td>n</td>\n",
       "      <td>y</td>\n",
       "      <td>n</td>\n",
       "      <td>n</td>\n",
       "      <td>y</td>\n",
       "      <td>06/27/09 05:41 AM</td>\n",
       "      <td>95</td>\n",
       "      <td>17</td>\n",
       "    </tr>\n",
       "    <tr>\n",
       "      <th>18</th>\n",
       "      <td>b7b7764cfa1c523e4e93ab2a79a946c4</td>\n",
       "      <td>is tired. *PROPNAME*, let me go to sleep pl0x.</td>\n",
       "      <td>2.65</td>\n",
       "      <td>3.00</td>\n",
       "      <td>3.15</td>\n",
       "      <td>3.25</td>\n",
       "      <td>4.40</td>\n",
       "      <td>n</td>\n",
       "      <td>y</td>\n",
       "      <td>n</td>\n",
       "      <td>n</td>\n",
       "      <td>y</td>\n",
       "      <td>07/11/09 05:44 AM</td>\n",
       "      <td>46</td>\n",
       "      <td>9</td>\n",
       "    </tr>\n",
       "    <tr>\n",
       "      <th>69</th>\n",
       "      <td>b7b7764cfa1c523e4e93ab2a79a946c4</td>\n",
       "      <td>has a fair idea of how to manage the 2.5 kids cliche... She just needs a very strong gentleman named *PROPNAME* and thriteen wet napkins.</td>\n",
       "      <td>2.65</td>\n",
       "      <td>3.00</td>\n",
       "      <td>3.15</td>\n",
       "      <td>3.25</td>\n",
       "      <td>4.40</td>\n",
       "      <td>n</td>\n",
       "      <td>y</td>\n",
       "      <td>n</td>\n",
       "      <td>n</td>\n",
       "      <td>y</td>\n",
       "      <td>11/24/09 05:07 AM</td>\n",
       "      <td>137</td>\n",
       "      <td>25</td>\n",
       "    </tr>\n",
       "    <tr>\n",
       "      <th>101</th>\n",
       "      <td>b7b7764cfa1c523e4e93ab2a79a946c4</td>\n",
       "      <td>has a serious crush on *PROPNAME*. &lt;3</td>\n",
       "      <td>2.65</td>\n",
       "      <td>3.00</td>\n",
       "      <td>3.15</td>\n",
       "      <td>3.25</td>\n",
       "      <td>4.40</td>\n",
       "      <td>n</td>\n",
       "      <td>y</td>\n",
       "      <td>n</td>\n",
       "      <td>n</td>\n",
       "      <td>y</td>\n",
       "      <td>01/25/10 02:57 AM</td>\n",
       "      <td>37</td>\n",
       "      <td>7</td>\n",
       "    </tr>\n",
       "    <tr>\n",
       "      <th>104</th>\n",
       "      <td>318bf822d4f2bd3920367560218619c0</td>\n",
       "      <td>Mondays are the new thursdays- anthony bourdain + *PROPNAME*  = forgetting your financial troubles</td>\n",
       "      <td>4.50</td>\n",
       "      <td>4.00</td>\n",
       "      <td>3.00</td>\n",
       "      <td>4.50</td>\n",
       "      <td>3.75</td>\n",
       "      <td>y</td>\n",
       "      <td>y</td>\n",
       "      <td>n</td>\n",
       "      <td>y</td>\n",
       "      <td>n</td>\n",
       "      <td>06/23/09 05:41 AM</td>\n",
       "      <td>98</td>\n",
       "      <td>14</td>\n",
       "    </tr>\n",
       "    <tr>\n",
       "      <th>118</th>\n",
       "      <td>318bf822d4f2bd3920367560218619c0</td>\n",
       "      <td>is *PROPNAME*'s bestbian</td>\n",
       "      <td>4.50</td>\n",
       "      <td>4.00</td>\n",
       "      <td>3.00</td>\n",
       "      <td>4.50</td>\n",
       "      <td>3.75</td>\n",
       "      <td>y</td>\n",
       "      <td>y</td>\n",
       "      <td>n</td>\n",
       "      <td>y</td>\n",
       "      <td>n</td>\n",
       "      <td>08/23/09 06:03 AM</td>\n",
       "      <td>24</td>\n",
       "      <td>3</td>\n",
       "    </tr>\n",
       "    <tr>\n",
       "      <th>139</th>\n",
       "      <td>318bf822d4f2bd3920367560218619c0</td>\n",
       "      <td>is in love with *PROPNAME*.</td>\n",
       "      <td>4.50</td>\n",
       "      <td>4.00</td>\n",
       "      <td>3.00</td>\n",
       "      <td>4.50</td>\n",
       "      <td>3.75</td>\n",
       "      <td>y</td>\n",
       "      <td>y</td>\n",
       "      <td>n</td>\n",
       "      <td>y</td>\n",
       "      <td>n</td>\n",
       "      <td>10/04/09 03:09 AM</td>\n",
       "      <td>27</td>\n",
       "      <td>5</td>\n",
       "    </tr>\n",
       "    <tr>\n",
       "      <th>158</th>\n",
       "      <td>318bf822d4f2bd3920367560218619c0</td>\n",
       "      <td>is in love. With *PROPNAME*.</td>\n",
       "      <td>4.50</td>\n",
       "      <td>4.00</td>\n",
       "      <td>3.00</td>\n",
       "      <td>4.50</td>\n",
       "      <td>3.75</td>\n",
       "      <td>y</td>\n",
       "      <td>y</td>\n",
       "      <td>n</td>\n",
       "      <td>y</td>\n",
       "      <td>n</td>\n",
       "      <td>12/11/09 05:35 AM</td>\n",
       "      <td>28</td>\n",
       "      <td>5</td>\n",
       "    </tr>\n",
       "    <tr>\n",
       "      <th>170</th>\n",
       "      <td>318bf822d4f2bd3920367560218619c0</td>\n",
       "      <td>Ten Movies to Watch Right Now (and some you can Instant Netflix) 1. La Vie En Rose 2. Shrink (if you love LA) 3. Paris Je'taime (if you love Paris) 3. Clay Pidgeons (*PROPNAME* is priceless) 4. Quills 5. Away We Go 6. Sunshine Cleaning 7. A League of Their Own 8. Smart People (I Heart *PROPNAME*'s Page and SJP) 9. Frost//Nixon 10. Doubt</td>\n",
       "      <td>4.50</td>\n",
       "      <td>4.00</td>\n",
       "      <td>3.00</td>\n",
       "      <td>4.50</td>\n",
       "      <td>3.75</td>\n",
       "      <td>y</td>\n",
       "      <td>y</td>\n",
       "      <td>n</td>\n",
       "      <td>y</td>\n",
       "      <td>n</td>\n",
       "      <td>10/11/09 01:39 AM</td>\n",
       "      <td>338</td>\n",
       "      <td>64</td>\n",
       "    </tr>\n",
       "    <tr>\n",
       "      <th>202</th>\n",
       "      <td>ecbddbfe00e0f83cfdb802a7186061c7</td>\n",
       "      <td>ATTENTION EVERYONE!!! Vote for the short \"AFTER HOURS\" to support *PROPNAME* - our local Michigan talent and a wonderful person. Repost please!!! http:////www.thirteen.org//sites//reel13//category//vote//</td>\n",
       "      <td>4.30</td>\n",
       "      <td>2.15</td>\n",
       "      <td>3.60</td>\n",
       "      <td>3.30</td>\n",
       "      <td>4.10</td>\n",
       "      <td>y</td>\n",
       "      <td>n</td>\n",
       "      <td>y</td>\n",
       "      <td>n</td>\n",
       "      <td>y</td>\n",
       "      <td>11/24/09 07:11 AM</td>\n",
       "      <td>204</td>\n",
       "      <td>23</td>\n",
       "    </tr>\n",
       "  </tbody>\n",
       "</table>\n",
       "</div>"
      ],
      "text/plain": [
       "                              #AUTHID  \\\n",
       "6    b7b7764cfa1c523e4e93ab2a79a946c4   \n",
       "18   b7b7764cfa1c523e4e93ab2a79a946c4   \n",
       "69   b7b7764cfa1c523e4e93ab2a79a946c4   \n",
       "101  b7b7764cfa1c523e4e93ab2a79a946c4   \n",
       "104  318bf822d4f2bd3920367560218619c0   \n",
       "118  318bf822d4f2bd3920367560218619c0   \n",
       "139  318bf822d4f2bd3920367560218619c0   \n",
       "158  318bf822d4f2bd3920367560218619c0   \n",
       "170  318bf822d4f2bd3920367560218619c0   \n",
       "202  ecbddbfe00e0f83cfdb802a7186061c7   \n",
       "\n",
       "                                                                                                                                                                                                                                                                                                                                                 STATUS  \\\n",
       "6                                                                                                                                                                                                                                                       saw a nun zombie, and liked it. Also, *PROPNAME* + Tentacle!Man + Psychic Powers = GREAT Party.   \n",
       "18                                                                                                                                                                                                                                                                                                       is tired. *PROPNAME*, let me go to sleep pl0x.   \n",
       "69                                                                                                                                                                                                            has a fair idea of how to manage the 2.5 kids cliche... She just needs a very strong gentleman named *PROPNAME* and thriteen wet napkins.   \n",
       "101                                                                                                                                                                                                                                                                                                               has a serious crush on *PROPNAME*. <3   \n",
       "104                                                                                                                                                                                                                                                  Mondays are the new thursdays- anthony bourdain + *PROPNAME*  = forgetting your financial troubles   \n",
       "118                                                                                                                                                                                                                                                                                                                            is *PROPNAME*'s bestbian   \n",
       "139                                                                                                                                                                                                                                                                                                                         is in love with *PROPNAME*.   \n",
       "158                                                                                                                                                                                                                                                                                                                        is in love. With *PROPNAME*.   \n",
       "170  Ten Movies to Watch Right Now (and some you can Instant Netflix) 1. La Vie En Rose 2. Shrink (if you love LA) 3. Paris Je'taime (if you love Paris) 3. Clay Pidgeons (*PROPNAME* is priceless) 4. Quills 5. Away We Go 6. Sunshine Cleaning 7. A League of Their Own 8. Smart People (I Heart *PROPNAME*'s Page and SJP) 9. Frost//Nixon 10. Doubt   \n",
       "202                                                                                                                                        ATTENTION EVERYONE!!! Vote for the short \"AFTER HOURS\" to support *PROPNAME* - our local Michigan talent and a wonderful person. Repost please!!! http:////www.thirteen.org//sites//reel13//category//vote//   \n",
       "\n",
       "     sEXT  sNEU  sAGR  sCON  sOPN cEXT cNEU cAGR cCON cOPN               DATE  \\\n",
       "6    2.65  3.00  3.15  3.25  4.40    n    y    n    n    y  06/27/09 05:41 AM   \n",
       "18   2.65  3.00  3.15  3.25  4.40    n    y    n    n    y  07/11/09 05:44 AM   \n",
       "69   2.65  3.00  3.15  3.25  4.40    n    y    n    n    y  11/24/09 05:07 AM   \n",
       "101  2.65  3.00  3.15  3.25  4.40    n    y    n    n    y  01/25/10 02:57 AM   \n",
       "104  4.50  4.00  3.00  4.50  3.75    y    y    n    y    n  06/23/09 05:41 AM   \n",
       "118  4.50  4.00  3.00  4.50  3.75    y    y    n    y    n  08/23/09 06:03 AM   \n",
       "139  4.50  4.00  3.00  4.50  3.75    y    y    n    y    n  10/04/09 03:09 AM   \n",
       "158  4.50  4.00  3.00  4.50  3.75    y    y    n    y    n  12/11/09 05:35 AM   \n",
       "170  4.50  4.00  3.00  4.50  3.75    y    y    n    y    n  10/11/09 01:39 AM   \n",
       "202  4.30  2.15  3.60  3.30  4.10    y    n    y    n    y  11/24/09 07:11 AM   \n",
       "\n",
       "     status_length  status_word_count  \n",
       "6               95                 17  \n",
       "18              46                  9  \n",
       "69             137                 25  \n",
       "101             37                  7  \n",
       "104             98                 14  \n",
       "118             24                  3  \n",
       "139             27                  5  \n",
       "158             28                  5  \n",
       "170            338                 64  \n",
       "202            204                 23  "
      ]
     },
     "execution_count": 33,
     "metadata": {},
     "output_type": "execute_result"
    }
   ],
   "source": [
    "df.loc[df['STATUS'].str.contains('PROPNAME')].head(10)"
   ]
  },
  {
   "cell_type": "markdown",
   "metadata": {},
   "source": [
    "#### Provide a short explanation of what you believe `propname` to be:\n",
    "\n",
    "Hint: The attached PDF also contains an explanation."
   ]
  },
  {
   "cell_type": "markdown",
   "metadata": {},
   "source": [
    "```PROPNAME``` is actually a proper name of person that has been annoymized"
   ]
  },
  {
   "cell_type": "markdown",
   "metadata": {},
   "source": [
    "## Most common words based on personality category\n",
    "\n",
    "In order to do more targeted EDA, we'll need to be able to reference not only the dataframe of vectorized statuses, but also the personality scores from the original dataframe.\n",
    "\n",
    "#### Create a new dataframe called `text_and_scores` that concatenates the count-vectorized statuses side-by-side with the original personality category columns:"
   ]
  },
  {
   "cell_type": "code",
   "execution_count": 34,
   "metadata": {},
   "outputs": [],
   "source": [
    "text_and_scores = pd.concat([df[categories], df_cvec], axis=1)"
   ]
  },
  {
   "cell_type": "markdown",
   "metadata": {},
   "source": [
    "#### Show the 25 most common words for statuses from high-cAGR users:"
   ]
  },
  {
   "cell_type": "code",
   "execution_count": 35,
   "metadata": {},
   "outputs": [],
   "source": [
    "top25_high_cAGR = text_and_scores.loc[text_and_scores['cAGR']=='y'].groupby('cAGR').sum().sort_values(by=['y'], axis=1, ascending=False).iloc[:, 0:26]"
   ]
  },
  {
   "cell_type": "code",
   "execution_count": 36,
   "metadata": {},
   "outputs": [],
   "source": [
    "top25_high_cAGR_df = pd.DataFrame()\n",
    "top25_high_cAGR_df['words'] = top25_high_cAGR.columns\n",
    "top25_high_cAGR_df['count'] = top25_high_cAGR.values.transpose()"
   ]
  },
  {
   "cell_type": "code",
   "execution_count": 37,
   "metadata": {},
   "outputs": [
    {
     "data": {
      "text/plain": [
       "<seaborn.axisgrid.FacetGrid at 0x258936eb1c0>"
      ]
     },
     "execution_count": 37,
     "metadata": {},
     "output_type": "execute_result"
    },
    {
     "data": {
      "image/png": "[encoded data removed]",
      "text/plain": [
       "<Figure size 360x360 with 1 Axes>"
      ]
     },
     "metadata": {
      "needs_background": "light"
     },
     "output_type": "display_data"
    }
   ],
   "source": [
    "sns.catplot(data=top25_high_cAGR_df, y='words', x='count', kind='bar', color='blue')"
   ]
  },
  {
   "cell_type": "markdown",
   "metadata": {},
   "source": [
    "#### Show the 25 most common words for statuses from low-cAGR users:"
   ]
  },
  {
   "cell_type": "code",
   "execution_count": 38,
   "metadata": {},
   "outputs": [],
   "source": [
    "top25_low_cAGR = text_and_scores.loc[text_and_scores['cAGR']=='n'].groupby('cAGR').sum().sort_values(by=['n'], axis=1, ascending=False).iloc[:, 0:26]"
   ]
  },
  {
   "cell_type": "code",
   "execution_count": 39,
   "metadata": {},
   "outputs": [],
   "source": [
    "top25_low_cAGR_df = pd.DataFrame()\n",
    "top25_low_cAGR_df['words'] = top25_low_cAGR.columns\n",
    "top25_low_cAGR_df['count'] = top25_low_cAGR.values.transpose()"
   ]
  },
  {
   "cell_type": "code",
   "execution_count": 40,
   "metadata": {},
   "outputs": [
    {
     "data": {
      "text/plain": [
       "<seaborn.axisgrid.FacetGrid at 0x2594ab40c70>"
      ]
     },
     "execution_count": 40,
     "metadata": {},
     "output_type": "execute_result"
    },
    {
     "data": {
      "image/png": "[encoded data removed]",
      "text/plain": [
       "<Figure size 360x360 with 1 Axes>"
      ]
     },
     "metadata": {
      "needs_background": "light"
     },
     "output_type": "display_data"
    }
   ],
   "source": [
    "sns.catplot(data=top25_low_cAGR_df, y='words', x='count', kind='bar', color='green')"
   ]
  },
  {
   "cell_type": "markdown",
   "metadata": {},
   "source": [
    "### (BONUS) Most common bigrams:\n",
    "\n",
    "This is a bonus section and not required.\n",
    "\n",
    "Find the 10 most common bigrams in the dataset."
   ]
  },
  {
   "cell_type": "code",
   "execution_count": 53,
   "metadata": {},
   "outputs": [],
   "source": [
    "# Instantiate a CountVectorizer for a bigram\n",
    "cvec_bi = CountVectorizer(ngram_range=(2,2), stop_words='english')"
   ]
  },
  {
   "cell_type": "code",
   "execution_count": 54,
   "metadata": {},
   "outputs": [],
   "source": [
    "status_cvec_bi = cvec_bi.fit_transform(df['STATUS'])"
   ]
  },
  {
   "cell_type": "code",
   "execution_count": 55,
   "metadata": {},
   "outputs": [
    {
     "data": {
      "text/html": [
       "<div>\n",
       "<style scoped>\n",
       "    .dataframe tbody tr th:only-of-type {\n",
       "        vertical-align: middle;\n",
       "    }\n",
       "\n",
       "    .dataframe tbody tr th {\n",
       "        vertical-align: top;\n",
       "    }\n",
       "\n",
       "    .dataframe thead th {\n",
       "        text-align: right;\n",
       "    }\n",
       "</style>\n",
       "<table border=\"1\" class=\"dataframe\">\n",
       "  <thead>\n",
       "    <tr style=\"text-align: right;\">\n",
       "      <th></th>\n",
       "      <th>00 00</th>\n",
       "      <th>00 01</th>\n",
       "      <th>00 300</th>\n",
       "      <th>00 58</th>\n",
       "      <th>00 bills</th>\n",
       "      <th>00 friday</th>\n",
       "      <th>00 glee</th>\n",
       "      <th>00 gotta</th>\n",
       "      <th>00 min</th>\n",
       "      <th>00 outside</th>\n",
       "      <th>...</th>\n",
       "      <th>étant donné</th>\n",
       "      <th>étant pauvre</th>\n",
       "      <th>état unis</th>\n",
       "      <th>été est</th>\n",
       "      <th>être apprécié</th>\n",
       "      <th>être enforme</th>\n",
       "      <th>être quoi</th>\n",
       "      <th>østersund time</th>\n",
       "      <th>últimas hojas</th>\n",
       "      <th>últimos días</th>\n",
       "    </tr>\n",
       "  </thead>\n",
       "  <tbody>\n",
       "    <tr>\n",
       "      <th>0</th>\n",
       "      <td>0</td>\n",
       "      <td>0</td>\n",
       "      <td>0</td>\n",
       "      <td>0</td>\n",
       "      <td>0</td>\n",
       "      <td>0</td>\n",
       "      <td>0</td>\n",
       "      <td>0</td>\n",
       "      <td>0</td>\n",
       "      <td>0</td>\n",
       "      <td>...</td>\n",
       "      <td>0</td>\n",
       "      <td>0</td>\n",
       "      <td>0</td>\n",
       "      <td>0</td>\n",
       "      <td>0</td>\n",
       "      <td>0</td>\n",
       "      <td>0</td>\n",
       "      <td>0</td>\n",
       "      <td>0</td>\n",
       "      <td>0</td>\n",
       "    </tr>\n",
       "    <tr>\n",
       "      <th>1</th>\n",
       "      <td>0</td>\n",
       "      <td>0</td>\n",
       "      <td>0</td>\n",
       "      <td>0</td>\n",
       "      <td>0</td>\n",
       "      <td>0</td>\n",
       "      <td>0</td>\n",
       "      <td>0</td>\n",
       "      <td>0</td>\n",
       "      <td>0</td>\n",
       "      <td>...</td>\n",
       "      <td>0</td>\n",
       "      <td>0</td>\n",
       "      <td>0</td>\n",
       "      <td>0</td>\n",
       "      <td>0</td>\n",
       "      <td>0</td>\n",
       "      <td>0</td>\n",
       "      <td>0</td>\n",
       "      <td>0</td>\n",
       "      <td>0</td>\n",
       "    </tr>\n",
       "    <tr>\n",
       "      <th>2</th>\n",
       "      <td>0</td>\n",
       "      <td>0</td>\n",
       "      <td>0</td>\n",
       "      <td>0</td>\n",
       "      <td>0</td>\n",
       "      <td>0</td>\n",
       "      <td>0</td>\n",
       "      <td>0</td>\n",
       "      <td>0</td>\n",
       "      <td>0</td>\n",
       "      <td>...</td>\n",
       "      <td>0</td>\n",
       "      <td>0</td>\n",
       "      <td>0</td>\n",
       "      <td>0</td>\n",
       "      <td>0</td>\n",
       "      <td>0</td>\n",
       "      <td>0</td>\n",
       "      <td>0</td>\n",
       "      <td>0</td>\n",
       "      <td>0</td>\n",
       "    </tr>\n",
       "    <tr>\n",
       "      <th>3</th>\n",
       "      <td>0</td>\n",
       "      <td>0</td>\n",
       "      <td>0</td>\n",
       "      <td>0</td>\n",
       "      <td>0</td>\n",
       "      <td>0</td>\n",
       "      <td>0</td>\n",
       "      <td>0</td>\n",
       "      <td>0</td>\n",
       "      <td>0</td>\n",
       "      <td>...</td>\n",
       "      <td>0</td>\n",
       "      <td>0</td>\n",
       "      <td>0</td>\n",
       "      <td>0</td>\n",
       "      <td>0</td>\n",
       "      <td>0</td>\n",
       "      <td>0</td>\n",
       "      <td>0</td>\n",
       "      <td>0</td>\n",
       "      <td>0</td>\n",
       "    </tr>\n",
       "    <tr>\n",
       "      <th>4</th>\n",
       "      <td>0</td>\n",
       "      <td>0</td>\n",
       "      <td>0</td>\n",
       "      <td>0</td>\n",
       "      <td>0</td>\n",
       "      <td>0</td>\n",
       "      <td>0</td>\n",
       "      <td>0</td>\n",
       "      <td>0</td>\n",
       "      <td>0</td>\n",
       "      <td>...</td>\n",
       "      <td>0</td>\n",
       "      <td>0</td>\n",
       "      <td>0</td>\n",
       "      <td>0</td>\n",
       "      <td>0</td>\n",
       "      <td>0</td>\n",
       "      <td>0</td>\n",
       "      <td>0</td>\n",
       "      <td>0</td>\n",
       "      <td>0</td>\n",
       "    </tr>\n",
       "  </tbody>\n",
       "</table>\n",
       "<p>5 rows × 54973 columns</p>\n",
       "</div>"
      ],
      "text/plain": [
       "   00 00  00 01  00 300  00 58  00 bills  00 friday  00 glee  00 gotta  \\\n",
       "0      0      0       0      0         0          0        0         0   \n",
       "1      0      0       0      0         0          0        0         0   \n",
       "2      0      0       0      0         0          0        0         0   \n",
       "3      0      0       0      0         0          0        0         0   \n",
       "4      0      0       0      0         0          0        0         0   \n",
       "\n",
       "   00 min  00 outside  ...  étant donné  étant pauvre  état unis  été est  \\\n",
       "0       0           0  ...            0             0          0        0   \n",
       "1       0           0  ...            0             0          0        0   \n",
       "2       0           0  ...            0             0          0        0   \n",
       "3       0           0  ...            0             0          0        0   \n",
       "4       0           0  ...            0             0          0        0   \n",
       "\n",
       "   être apprécié  être enforme  être quoi  østersund time  últimas hojas  \\\n",
       "0              0             0          0               0              0   \n",
       "1              0             0          0               0              0   \n",
       "2              0             0          0               0              0   \n",
       "3              0             0          0               0              0   \n",
       "4              0             0          0               0              0   \n",
       "\n",
       "   últimos días  \n",
       "0             0  \n",
       "1             0  \n",
       "2             0  \n",
       "3             0  \n",
       "4             0  \n",
       "\n",
       "[5 rows x 54973 columns]"
      ]
     },
     "execution_count": 55,
     "metadata": {},
     "output_type": "execute_result"
    }
   ],
   "source": [
    "# convert training data to dataframe\n",
    "df_cvec_bi = pd.DataFrame(status_cvec_bi.toarray(), columns=cvec_bi.get_feature_names())\n",
    "df_cvec_bi.head()"
   ]
  },
  {
   "cell_type": "code",
   "execution_count": 56,
   "metadata": {},
   "outputs": [
    {
     "data": {
      "text/plain": [
       "<AxesSubplot:>"
      ]
     },
     "execution_count": 56,
     "metadata": {},
     "output_type": "execute_result"
    },
    {
     "data": {
      "image/png": "[encoded data removed]",
      "text/plain": [
       "<Figure size 432x288 with 1 Axes>"
      ]
     },
     "metadata": {
      "needs_background": "light"
     },
     "output_type": "display_data"
    }
   ],
   "source": [
    "df_cvec_bi.sum().sort_values(ascending=False).head(15).plot(kind='barh')"
   ]
  },
  {
   "cell_type": "markdown",
   "metadata": {},
   "source": [
    "### (BONUS) Most common trigrams:\n",
    "\n",
    "This is a bonus section and not required.\n",
    "\n",
    "Find the 10 most common trigrams in the dataset."
   ]
  },
  {
   "cell_type": "code",
   "execution_count": 57,
   "metadata": {},
   "outputs": [],
   "source": [
    "# Instantiate a CountVectorizer for a bigram\n",
    "cvec_tri = CountVectorizer(ngram_range=(3,3), stop_words='english')"
   ]
  },
  {
   "cell_type": "code",
   "execution_count": 58,
   "metadata": {},
   "outputs": [],
   "source": [
    "status_cvec_tri = cvec_tri.fit_transform(df['STATUS'])"
   ]
  },
  {
   "cell_type": "code",
   "execution_count": 63,
   "metadata": {},
   "outputs": [
    {
     "ename": "MemoryError",
     "evalue": "Unable to allocate 3.86 GiB for an array with shape (9916, 52222) and data type int64",
     "output_type": "error",
     "traceback": [
      "\u001b[1;31m---------------------------------------------------------------------------\u001b[0m",
      "\u001b[1;31mMemoryError\u001b[0m                               Traceback (most recent call last)",
      "\u001b[1;32m<ipython-input-63-f909616917d1>\u001b[0m in \u001b[0;36m<module>\u001b[1;34m\u001b[0m\n\u001b[0;32m      1\u001b[0m \u001b[1;31m# convert training data to dataframe\u001b[0m\u001b[1;33m\u001b[0m\u001b[1;33m\u001b[0m\u001b[1;33m\u001b[0m\u001b[0m\n\u001b[1;32m----> 2\u001b[1;33m \u001b[0mdf_cvec_tri\u001b[0m \u001b[1;33m=\u001b[0m \u001b[0mpd\u001b[0m\u001b[1;33m.\u001b[0m\u001b[0mDataFrame\u001b[0m\u001b[1;33m(\u001b[0m\u001b[0mstatus_cvec_tri\u001b[0m\u001b[1;33m.\u001b[0m\u001b[0mtoarray\u001b[0m\u001b[1;33m(\u001b[0m\u001b[1;33m)\u001b[0m\u001b[1;33m,\u001b[0m \u001b[0mcolumns\u001b[0m\u001b[1;33m=\u001b[0m\u001b[0mcvec_tri\u001b[0m\u001b[1;33m.\u001b[0m\u001b[0mget_feature_names\u001b[0m\u001b[1;33m(\u001b[0m\u001b[1;33m)\u001b[0m\u001b[1;33m)\u001b[0m\u001b[1;33m\u001b[0m\u001b[1;33m\u001b[0m\u001b[0m\n\u001b[0m",
      "\u001b[1;32m~\\anaconda3\\lib\\site-packages\\scipy\\sparse\\compressed.py\u001b[0m in \u001b[0;36mtoarray\u001b[1;34m(self, order, out)\u001b[0m\n\u001b[0;32m   1029\u001b[0m         \u001b[1;32mif\u001b[0m \u001b[0mout\u001b[0m \u001b[1;32mis\u001b[0m \u001b[1;32mNone\u001b[0m \u001b[1;32mand\u001b[0m \u001b[0morder\u001b[0m \u001b[1;32mis\u001b[0m \u001b[1;32mNone\u001b[0m\u001b[1;33m:\u001b[0m\u001b[1;33m\u001b[0m\u001b[1;33m\u001b[0m\u001b[0m\n\u001b[0;32m   1030\u001b[0m             \u001b[0morder\u001b[0m \u001b[1;33m=\u001b[0m \u001b[0mself\u001b[0m\u001b[1;33m.\u001b[0m\u001b[0m_swap\u001b[0m\u001b[1;33m(\u001b[0m\u001b[1;34m'cf'\u001b[0m\u001b[1;33m)\u001b[0m\u001b[1;33m[\u001b[0m\u001b[1;36m0\u001b[0m\u001b[1;33m]\u001b[0m\u001b[1;33m\u001b[0m\u001b[1;33m\u001b[0m\u001b[0m\n\u001b[1;32m-> 1031\u001b[1;33m         \u001b[0mout\u001b[0m \u001b[1;33m=\u001b[0m \u001b[0mself\u001b[0m\u001b[1;33m.\u001b[0m\u001b[0m_process_toarray_args\u001b[0m\u001b[1;33m(\u001b[0m\u001b[0morder\u001b[0m\u001b[1;33m,\u001b[0m \u001b[0mout\u001b[0m\u001b[1;33m)\u001b[0m\u001b[1;33m\u001b[0m\u001b[1;33m\u001b[0m\u001b[0m\n\u001b[0m\u001b[0;32m   1032\u001b[0m         \u001b[1;32mif\u001b[0m \u001b[1;32mnot\u001b[0m \u001b[1;33m(\u001b[0m\u001b[0mout\u001b[0m\u001b[1;33m.\u001b[0m\u001b[0mflags\u001b[0m\u001b[1;33m.\u001b[0m\u001b[0mc_contiguous\u001b[0m \u001b[1;32mor\u001b[0m \u001b[0mout\u001b[0m\u001b[1;33m.\u001b[0m\u001b[0mflags\u001b[0m\u001b[1;33m.\u001b[0m\u001b[0mf_contiguous\u001b[0m\u001b[1;33m)\u001b[0m\u001b[1;33m:\u001b[0m\u001b[1;33m\u001b[0m\u001b[1;33m\u001b[0m\u001b[0m\n\u001b[0;32m   1033\u001b[0m             \u001b[1;32mraise\u001b[0m \u001b[0mValueError\u001b[0m\u001b[1;33m(\u001b[0m\u001b[1;34m'Output array must be C or F contiguous'\u001b[0m\u001b[1;33m)\u001b[0m\u001b[1;33m\u001b[0m\u001b[1;33m\u001b[0m\u001b[0m\n",
      "\u001b[1;32m~\\anaconda3\\lib\\site-packages\\scipy\\sparse\\base.py\u001b[0m in \u001b[0;36m_process_toarray_args\u001b[1;34m(self, order, out)\u001b[0m\n\u001b[0;32m   1200\u001b[0m             \u001b[1;32mreturn\u001b[0m \u001b[0mout\u001b[0m\u001b[1;33m\u001b[0m\u001b[1;33m\u001b[0m\u001b[0m\n\u001b[0;32m   1201\u001b[0m         \u001b[1;32melse\u001b[0m\u001b[1;33m:\u001b[0m\u001b[1;33m\u001b[0m\u001b[1;33m\u001b[0m\u001b[0m\n\u001b[1;32m-> 1202\u001b[1;33m             \u001b[1;32mreturn\u001b[0m \u001b[0mnp\u001b[0m\u001b[1;33m.\u001b[0m\u001b[0mzeros\u001b[0m\u001b[1;33m(\u001b[0m\u001b[0mself\u001b[0m\u001b[1;33m.\u001b[0m\u001b[0mshape\u001b[0m\u001b[1;33m,\u001b[0m \u001b[0mdtype\u001b[0m\u001b[1;33m=\u001b[0m\u001b[0mself\u001b[0m\u001b[1;33m.\u001b[0m\u001b[0mdtype\u001b[0m\u001b[1;33m,\u001b[0m \u001b[0morder\u001b[0m\u001b[1;33m=\u001b[0m\u001b[0morder\u001b[0m\u001b[1;33m)\u001b[0m\u001b[1;33m\u001b[0m\u001b[1;33m\u001b[0m\u001b[0m\n\u001b[0m\u001b[0;32m   1203\u001b[0m \u001b[1;33m\u001b[0m\u001b[0m\n\u001b[0;32m   1204\u001b[0m \u001b[1;33m\u001b[0m\u001b[0m\n",
      "\u001b[1;31mMemoryError\u001b[0m: Unable to allocate 3.86 GiB for an array with shape (9916, 52222) and data type int64"
     ]
    }
   ],
   "source": [
    "# convert training data to dataframe\n",
    "df_cvec_tri = pd.DataFrame(status_cvec_tri.toarray(), columns=cvec_tri.get_feature_names())"
   ]
  },
  {
   "cell_type": "code",
   "execution_count": 60,
   "metadata": {},
   "outputs": [
    {
     "ename": "NameError",
     "evalue": "name 'df_cvec_tri' is not defined",
     "output_type": "error",
     "traceback": [
      "\u001b[1;31m---------------------------------------------------------------------------\u001b[0m",
      "\u001b[1;31mNameError\u001b[0m                                 Traceback (most recent call last)",
      "\u001b[1;32m<ipython-input-60-88c82c887e8d>\u001b[0m in \u001b[0;36m<module>\u001b[1;34m\u001b[0m\n\u001b[1;32m----> 1\u001b[1;33m \u001b[0mdf_cvec_tri\u001b[0m\u001b[1;33m.\u001b[0m\u001b[0msum\u001b[0m\u001b[1;33m(\u001b[0m\u001b[1;33m)\u001b[0m\u001b[1;33m.\u001b[0m\u001b[0msort_values\u001b[0m\u001b[1;33m(\u001b[0m\u001b[0mascending\u001b[0m\u001b[1;33m=\u001b[0m\u001b[1;32mFalse\u001b[0m\u001b[1;33m)\u001b[0m\u001b[1;33m.\u001b[0m\u001b[0mhead\u001b[0m\u001b[1;33m(\u001b[0m\u001b[1;36m15\u001b[0m\u001b[1;33m)\u001b[0m\u001b[1;33m.\u001b[0m\u001b[0mplot\u001b[0m\u001b[1;33m(\u001b[0m\u001b[0mkind\u001b[0m\u001b[1;33m=\u001b[0m\u001b[1;34m'barh'\u001b[0m\u001b[1;33m)\u001b[0m\u001b[1;33m\u001b[0m\u001b[1;33m\u001b[0m\u001b[0m\n\u001b[0m",
      "\u001b[1;31mNameError\u001b[0m: name 'df_cvec_tri' is not defined"
     ]
    }
   ],
   "source": [
    "df_cvec_tri.sum().sort_values(ascending=False).head(15).plot(kind='barh')"
   ]
  },
  {
   "cell_type": "markdown",
   "metadata": {},
   "source": [
    "---\n",
    "\n",
    "## Choose your own adventure\n",
    "\n",
    "By now you've looked at a lot of visualizations and frequency counts.\n",
    "\n",
    "Come up with 2-3 questions about the data, and try to answer them using descriptive statistics (like counts, averages, etc.) or visualizations.\n",
    "\n",
    "Some questions you might explore:\n",
    "- Have numbers been redacted, or are phone numbers, house numbers, or zip codes anywhere in the dataset?\n",
    "- `PROPNAME` has been used to redact personal names. Given that this data was scraped between 2009 and 2011, investigate if any public figures or famous people show up in the dataset, or their names have been redacted as well.\n",
    "- Is count of uppercase letters vs. lowercase letters per status related to any personality category or personality score?\n",
    "- Is _average_ word count per status related to any personality category or personality metric?\n",
    "- Is punctuation use related to personality?\n",
    "\n",
    "Or, of course, come up with your own questions to investigate!\n",
    "\n",
    "The focus here is on \"explore\" -- you might not find anything of particular interest, but don't let that discourage you."
   ]
  },
  {
   "cell_type": "code",
   "execution_count": 96,
   "metadata": {},
   "outputs": [],
   "source": [
    "# Hearts\n",
    "df['hearts'] = df['STATUS'].str.extract('(<3)')"
   ]
  },
  {
   "cell_type": "code",
   "execution_count": 97,
   "metadata": {},
   "outputs": [],
   "source": [
    "df2 = df.dropna(axis=0)"
   ]
  },
  {
   "cell_type": "code",
   "execution_count": 98,
   "metadata": {},
   "outputs": [
    {
     "name": "stderr",
     "output_type": "stream",
     "text": [
      "<ipython-input-98-77a396ce57ad>:1: SettingWithCopyWarning: \n",
      "A value is trying to be set on a copy of a slice from a DataFrame\n",
      "\n",
      "See the caveats in the documentation: https://pandas.pydata.org/pandas-docs/stable/user_guide/indexing.html#returning-a-view-versus-a-copy\n",
      "  df2.drop_duplicates(subset=['#AUTHID'], inplace=True)\n"
     ]
    }
   ],
   "source": [
    "df2.drop_duplicates(subset=['#AUTHID'], inplace=True)"
   ]
  },
  {
   "cell_type": "code",
   "execution_count": 99,
   "metadata": {},
   "outputs": [
    {
     "data": {
      "text/html": [
       "<div>\n",
       "<style scoped>\n",
       "    .dataframe tbody tr th:only-of-type {\n",
       "        vertical-align: middle;\n",
       "    }\n",
       "\n",
       "    .dataframe tbody tr th {\n",
       "        vertical-align: top;\n",
       "    }\n",
       "\n",
       "    .dataframe thead th {\n",
       "        text-align: right;\n",
       "    }\n",
       "</style>\n",
       "<table border=\"1\" class=\"dataframe\">\n",
       "  <thead>\n",
       "    <tr style=\"text-align: right;\">\n",
       "      <th></th>\n",
       "      <th>#AUTHID</th>\n",
       "      <th>STATUS</th>\n",
       "      <th>sEXT</th>\n",
       "      <th>sNEU</th>\n",
       "      <th>sAGR</th>\n",
       "      <th>sCON</th>\n",
       "      <th>sOPN</th>\n",
       "      <th>cEXT</th>\n",
       "      <th>cNEU</th>\n",
       "      <th>cAGR</th>\n",
       "      <th>cCON</th>\n",
       "      <th>cOPN</th>\n",
       "      <th>DATE</th>\n",
       "      <th>status_length</th>\n",
       "      <th>status_word_count</th>\n",
       "      <th>hearts</th>\n",
       "    </tr>\n",
       "  </thead>\n",
       "  <tbody>\n",
       "    <tr>\n",
       "      <th>2</th>\n",
       "      <td>b7b7764cfa1c523e4e93ab2a79a946c4</td>\n",
       "      <td>is sore and wants the knot of muscles at the base of her neck to stop hurting. On the other hand, YAY I'M IN ILLINOIS! &lt;3</td>\n",
       "      <td>2.65</td>\n",
       "      <td>3.00</td>\n",
       "      <td>3.15</td>\n",
       "      <td>3.25</td>\n",
       "      <td>4.40</td>\n",
       "      <td>n</td>\n",
       "      <td>y</td>\n",
       "      <td>n</td>\n",
       "      <td>n</td>\n",
       "      <td>y</td>\n",
       "      <td>06/15/09 01:15 PM</td>\n",
       "      <td>121</td>\n",
       "      <td>26</td>\n",
       "      <td>&lt;3</td>\n",
       "    </tr>\n",
       "    <tr>\n",
       "      <th>226</th>\n",
       "      <td>ecbddbfe00e0f83cfdb802a7186061c7</td>\n",
       "      <td>can't wait til thursday... &lt;3</td>\n",
       "      <td>4.30</td>\n",
       "      <td>2.15</td>\n",
       "      <td>3.60</td>\n",
       "      <td>3.30</td>\n",
       "      <td>4.10</td>\n",
       "      <td>y</td>\n",
       "      <td>n</td>\n",
       "      <td>y</td>\n",
       "      <td>n</td>\n",
       "      <td>y</td>\n",
       "      <td>01/13/10 02:10 AM</td>\n",
       "      <td>29</td>\n",
       "      <td>5</td>\n",
       "      <td>&lt;3</td>\n",
       "    </tr>\n",
       "    <tr>\n",
       "      <th>722</th>\n",
       "      <td>751e53fc64b770f7b5ea2b0964678599</td>\n",
       "      <td>i love weekends! &lt;3</td>\n",
       "      <td>1.50</td>\n",
       "      <td>3.80</td>\n",
       "      <td>4.15</td>\n",
       "      <td>3.05</td>\n",
       "      <td>3.95</td>\n",
       "      <td>n</td>\n",
       "      <td>y</td>\n",
       "      <td>y</td>\n",
       "      <td>n</td>\n",
       "      <td>y</td>\n",
       "      <td>08/14/09 06:21 AM</td>\n",
       "      <td>19</td>\n",
       "      <td>4</td>\n",
       "      <td>&lt;3</td>\n",
       "    </tr>\n",
       "    <tr>\n",
       "      <th>1091</th>\n",
       "      <td>2badb47503a98766c89e266d1130969a</td>\n",
       "      <td>is in love with veniero's pastry &lt;3 &lt;3 muah muah</td>\n",
       "      <td>3.55</td>\n",
       "      <td>2.30</td>\n",
       "      <td>3.65</td>\n",
       "      <td>4.65</td>\n",
       "      <td>4.60</td>\n",
       "      <td>n</td>\n",
       "      <td>n</td>\n",
       "      <td>y</td>\n",
       "      <td>y</td>\n",
       "      <td>y</td>\n",
       "      <td>12/28/09 05:34 AM</td>\n",
       "      <td>48</td>\n",
       "      <td>10</td>\n",
       "      <td>&lt;3</td>\n",
       "    </tr>\n",
       "    <tr>\n",
       "      <th>1133</th>\n",
       "      <td>0737e4e4980f56c9fb1cb5743001c917</td>\n",
       "      <td>is in love with the Lincoln Memorial...&lt;3</td>\n",
       "      <td>3.35</td>\n",
       "      <td>2.30</td>\n",
       "      <td>4.10</td>\n",
       "      <td>2.40</td>\n",
       "      <td>4.50</td>\n",
       "      <td>n</td>\n",
       "      <td>n</td>\n",
       "      <td>y</td>\n",
       "      <td>n</td>\n",
       "      <td>y</td>\n",
       "      <td>06/25/09 04:15 AM</td>\n",
       "      <td>41</td>\n",
       "      <td>7</td>\n",
       "      <td>&lt;3</td>\n",
       "    </tr>\n",
       "    <tr>\n",
       "      <th>1766</th>\n",
       "      <td>450c787001b004af69428e267c7a4ca1</td>\n",
       "      <td>&lt;3</td>\n",
       "      <td>2.30</td>\n",
       "      <td>3.50</td>\n",
       "      <td>4.50</td>\n",
       "      <td>2.85</td>\n",
       "      <td>4.50</td>\n",
       "      <td>n</td>\n",
       "      <td>y</td>\n",
       "      <td>y</td>\n",
       "      <td>n</td>\n",
       "      <td>y</td>\n",
       "      <td>12/03/09 07:43 AM</td>\n",
       "      <td>2</td>\n",
       "      <td>1</td>\n",
       "      <td>&lt;3</td>\n",
       "    </tr>\n",
       "    <tr>\n",
       "      <th>1788</th>\n",
       "      <td>d7f1da35557607089ee2e3a707ce4a4a</td>\n",
       "      <td>had a great time yesterday! it was nice seeing everyone &lt;33</td>\n",
       "      <td>4.50</td>\n",
       "      <td>2.75</td>\n",
       "      <td>2.50</td>\n",
       "      <td>3.50</td>\n",
       "      <td>4.25</td>\n",
       "      <td>y</td>\n",
       "      <td>n</td>\n",
       "      <td>n</td>\n",
       "      <td>y</td>\n",
       "      <td>y</td>\n",
       "      <td>06/21/09 08:12 PM</td>\n",
       "      <td>59</td>\n",
       "      <td>11</td>\n",
       "      <td>&lt;3</td>\n",
       "    </tr>\n",
       "    <tr>\n",
       "      <th>2235</th>\n",
       "      <td>692758eda219c4fdb6aa64e929be3ff0</td>\n",
       "      <td>jumping on the lyrics-for-status bandwagon: Don't let apathy police the populace, we will march across those stereotypes that were marked for us. The answer's obvious; we switch the consonants and change the \"sword\" to \"words\" and lift continents.  9//11 &lt;3</td>\n",
       "      <td>2.55</td>\n",
       "      <td>2.85</td>\n",
       "      <td>3.90</td>\n",
       "      <td>2.50</td>\n",
       "      <td>4.40</td>\n",
       "      <td>n</td>\n",
       "      <td>y</td>\n",
       "      <td>y</td>\n",
       "      <td>n</td>\n",
       "      <td>y</td>\n",
       "      <td>09/11/09 08:29 PM</td>\n",
       "      <td>257</td>\n",
       "      <td>40</td>\n",
       "      <td>&lt;3</td>\n",
       "    </tr>\n",
       "    <tr>\n",
       "      <th>2583</th>\n",
       "      <td>370a8295df2f8b9069e75422c37d2639</td>\n",
       "      <td>yea merry x-mas everi1! &lt;3 u!</td>\n",
       "      <td>4.00</td>\n",
       "      <td>1.65</td>\n",
       "      <td>3.10</td>\n",
       "      <td>3.10</td>\n",
       "      <td>4.50</td>\n",
       "      <td>y</td>\n",
       "      <td>n</td>\n",
       "      <td>n</td>\n",
       "      <td>n</td>\n",
       "      <td>y</td>\n",
       "      <td>12/25/09 06:17 PM</td>\n",
       "      <td>29</td>\n",
       "      <td>6</td>\n",
       "      <td>&lt;3</td>\n",
       "    </tr>\n",
       "    <tr>\n",
       "      <th>2684</th>\n",
       "      <td>f2026b8cb48aff9af31577ecbfda5c38</td>\n",
       "      <td>just built a totally awesome interactive Cyborg Trinity map. &lt;3 GMaps API &lt;3</td>\n",
       "      <td>2.75</td>\n",
       "      <td>2.50</td>\n",
       "      <td>4.00</td>\n",
       "      <td>3.00</td>\n",
       "      <td>4.75</td>\n",
       "      <td>n</td>\n",
       "      <td>n</td>\n",
       "      <td>y</td>\n",
       "      <td>n</td>\n",
       "      <td>y</td>\n",
       "      <td>09/08/09 08:36 AM</td>\n",
       "      <td>76</td>\n",
       "      <td>13</td>\n",
       "      <td>&lt;3</td>\n",
       "    </tr>\n",
       "    <tr>\n",
       "      <th>3295</th>\n",
       "      <td>f80644859abfbc92e9a92072c2dc50fa</td>\n",
       "      <td>I &lt;3 House of Pies! :D</td>\n",
       "      <td>2.10</td>\n",
       "      <td>3.00</td>\n",
       "      <td>3.90</td>\n",
       "      <td>4.15</td>\n",
       "      <td>4.80</td>\n",
       "      <td>n</td>\n",
       "      <td>y</td>\n",
       "      <td>y</td>\n",
       "      <td>y</td>\n",
       "      <td>y</td>\n",
       "      <td>10/08/09 02:25 PM</td>\n",
       "      <td>22</td>\n",
       "      <td>6</td>\n",
       "      <td>&lt;3</td>\n",
       "    </tr>\n",
       "    <tr>\n",
       "      <th>4042</th>\n",
       "      <td>ed1dbabbe3ea7fd3f44efc6f6a96db68</td>\n",
       "      <td>&lt;3 scotch tasting</td>\n",
       "      <td>3.50</td>\n",
       "      <td>1.60</td>\n",
       "      <td>3.75</td>\n",
       "      <td>3.95</td>\n",
       "      <td>4.00</td>\n",
       "      <td>n</td>\n",
       "      <td>n</td>\n",
       "      <td>y</td>\n",
       "      <td>y</td>\n",
       "      <td>y</td>\n",
       "      <td>06/27/09 07:20 PM</td>\n",
       "      <td>17</td>\n",
       "      <td>3</td>\n",
       "      <td>&lt;3</td>\n",
       "    </tr>\n",
       "    <tr>\n",
       "      <th>4621</th>\n",
       "      <td>f7456ac4e6b20911c40fdad18908a8d2</td>\n",
       "      <td>two minutes into the show and I was already being 'man-handled'....&lt;3</td>\n",
       "      <td>4.25</td>\n",
       "      <td>1.55</td>\n",
       "      <td>4.45</td>\n",
       "      <td>4.35</td>\n",
       "      <td>3.80</td>\n",
       "      <td>y</td>\n",
       "      <td>n</td>\n",
       "      <td>y</td>\n",
       "      <td>y</td>\n",
       "      <td>y</td>\n",
       "      <td>07/05/09 01:13 AM</td>\n",
       "      <td>69</td>\n",
       "      <td>11</td>\n",
       "      <td>&lt;3</td>\n",
       "    </tr>\n",
       "    <tr>\n",
       "      <th>4765</th>\n",
       "      <td>181962441153a36333f0c60701823412</td>\n",
       "      <td>is in Indiana for the weekend! &lt;3</td>\n",
       "      <td>3.40</td>\n",
       "      <td>2.80</td>\n",
       "      <td>3.05</td>\n",
       "      <td>3.05</td>\n",
       "      <td>4.35</td>\n",
       "      <td>n</td>\n",
       "      <td>y</td>\n",
       "      <td>n</td>\n",
       "      <td>n</td>\n",
       "      <td>y</td>\n",
       "      <td>07/11/09 05:01 AM</td>\n",
       "      <td>33</td>\n",
       "      <td>7</td>\n",
       "      <td>&lt;3</td>\n",
       "    </tr>\n",
       "    <tr>\n",
       "      <th>5448</th>\n",
       "      <td>933791b8623dadbb82664c60db91fb7e</td>\n",
       "      <td>thanks *PROPNAME* and *PROPNAME* for the gorgeous additions (especially the personalized jacket that she's showing off at work today) to her closet and the giant hole in her wallet. &lt;3</td>\n",
       "      <td>3.75</td>\n",
       "      <td>2.35</td>\n",
       "      <td>3.70</td>\n",
       "      <td>4.00</td>\n",
       "      <td>4.20</td>\n",
       "      <td>y</td>\n",
       "      <td>n</td>\n",
       "      <td>y</td>\n",
       "      <td>y</td>\n",
       "      <td>y</td>\n",
       "      <td>12/29/09 04:52 PM</td>\n",
       "      <td>184</td>\n",
       "      <td>30</td>\n",
       "      <td>&lt;3</td>\n",
       "    </tr>\n",
       "    <tr>\n",
       "      <th>5475</th>\n",
       "      <td>690d0ead7039eccdcaeb4d9f77b168b5</td>\n",
       "      <td>&lt;3 *PROPNAME*'s ginger candy.</td>\n",
       "      <td>2.90</td>\n",
       "      <td>3.75</td>\n",
       "      <td>3.15</td>\n",
       "      <td>3.35</td>\n",
       "      <td>4.75</td>\n",
       "      <td>n</td>\n",
       "      <td>y</td>\n",
       "      <td>n</td>\n",
       "      <td>n</td>\n",
       "      <td>y</td>\n",
       "      <td>06/29/09 05:33 PM</td>\n",
       "      <td>29</td>\n",
       "      <td>4</td>\n",
       "      <td>&lt;3</td>\n",
       "    </tr>\n",
       "    <tr>\n",
       "      <th>5665</th>\n",
       "      <td>1ece40ac9b657dea8c22a1fe58d3a6fe</td>\n",
       "      <td>&lt;3 Sumir.</td>\n",
       "      <td>3.50</td>\n",
       "      <td>1.75</td>\n",
       "      <td>4.75</td>\n",
       "      <td>3.00</td>\n",
       "      <td>4.25</td>\n",
       "      <td>n</td>\n",
       "      <td>n</td>\n",
       "      <td>y</td>\n",
       "      <td>n</td>\n",
       "      <td>y</td>\n",
       "      <td>07/01/09 10:14 PM</td>\n",
       "      <td>9</td>\n",
       "      <td>2</td>\n",
       "      <td>&lt;3</td>\n",
       "    </tr>\n",
       "    <tr>\n",
       "      <th>5744</th>\n",
       "      <td>82d3a5e0936ddbff93f6630365f80af5</td>\n",
       "      <td>looking forward to vbs next month!!!!!!!!!!!!!!!!!!!!! &lt;3</td>\n",
       "      <td>3.30</td>\n",
       "      <td>2.80</td>\n",
       "      <td>3.35</td>\n",
       "      <td>4.25</td>\n",
       "      <td>3.50</td>\n",
       "      <td>n</td>\n",
       "      <td>y</td>\n",
       "      <td>n</td>\n",
       "      <td>y</td>\n",
       "      <td>n</td>\n",
       "      <td>07/19/09 09:43 PM</td>\n",
       "      <td>57</td>\n",
       "      <td>7</td>\n",
       "      <td>&lt;3</td>\n",
       "    </tr>\n",
       "    <tr>\n",
       "      <th>5973</th>\n",
       "      <td>970197105b41eac939d4fc3cec25137b</td>\n",
       "      <td>&lt;3 baking cookies</td>\n",
       "      <td>4.00</td>\n",
       "      <td>1.95</td>\n",
       "      <td>4.25</td>\n",
       "      <td>3.55</td>\n",
       "      <td>3.45</td>\n",
       "      <td>y</td>\n",
       "      <td>n</td>\n",
       "      <td>y</td>\n",
       "      <td>y</td>\n",
       "      <td>n</td>\n",
       "      <td>06/24/09 03:29 AM</td>\n",
       "      <td>17</td>\n",
       "      <td>3</td>\n",
       "      <td>&lt;3</td>\n",
       "    </tr>\n",
       "    <tr>\n",
       "      <th>6458</th>\n",
       "      <td>c597771fab7477c2ae7b507d532130b0</td>\n",
       "      <td>The Vanishing Act of *PROPNAME* &lt;3</td>\n",
       "      <td>2.35</td>\n",
       "      <td>2.10</td>\n",
       "      <td>4.15</td>\n",
       "      <td>3.75</td>\n",
       "      <td>4.80</td>\n",
       "      <td>n</td>\n",
       "      <td>n</td>\n",
       "      <td>y</td>\n",
       "      <td>y</td>\n",
       "      <td>y</td>\n",
       "      <td>01/15/10 07:43 PM</td>\n",
       "      <td>34</td>\n",
       "      <td>6</td>\n",
       "      <td>&lt;3</td>\n",
       "    </tr>\n",
       "    <tr>\n",
       "      <th>6872</th>\n",
       "      <td>502db2fcfe26705ae16a46c5cb2ad2e5</td>\n",
       "      <td>is *PROPNAME* :) &lt;3</td>\n",
       "      <td>3.20</td>\n",
       "      <td>3.30</td>\n",
       "      <td>4.55</td>\n",
       "      <td>3.20</td>\n",
       "      <td>4.45</td>\n",
       "      <td>n</td>\n",
       "      <td>y</td>\n",
       "      <td>y</td>\n",
       "      <td>n</td>\n",
       "      <td>y</td>\n",
       "      <td>08/11/09 08:54 PM</td>\n",
       "      <td>19</td>\n",
       "      <td>4</td>\n",
       "      <td>&lt;3</td>\n",
       "    </tr>\n",
       "    <tr>\n",
       "      <th>7472</th>\n",
       "      <td>1187ed8a8b100eb49b8684ac30d6da29</td>\n",
       "      <td>LOVES *PROPNAME* Day &lt;3 &lt;3 &lt;3</td>\n",
       "      <td>4.00</td>\n",
       "      <td>4.00</td>\n",
       "      <td>2.25</td>\n",
       "      <td>4.50</td>\n",
       "      <td>3.25</td>\n",
       "      <td>y</td>\n",
       "      <td>y</td>\n",
       "      <td>n</td>\n",
       "      <td>y</td>\n",
       "      <td>n</td>\n",
       "      <td>10/03/09 04:19 AM</td>\n",
       "      <td>29</td>\n",
       "      <td>6</td>\n",
       "      <td>&lt;3</td>\n",
       "    </tr>\n",
       "    <tr>\n",
       "      <th>7584</th>\n",
       "      <td>436e99cf44a590f9fa63638544619ce1</td>\n",
       "      <td>crawling into bed and sleeping for 500000000000   years..... &lt;3 vegas</td>\n",
       "      <td>4.50</td>\n",
       "      <td>2.75</td>\n",
       "      <td>4.25</td>\n",
       "      <td>5.00</td>\n",
       "      <td>4.75</td>\n",
       "      <td>y</td>\n",
       "      <td>n</td>\n",
       "      <td>y</td>\n",
       "      <td>y</td>\n",
       "      <td>y</td>\n",
       "      <td>08/24/09 06:23 AM</td>\n",
       "      <td>69</td>\n",
       "      <td>10</td>\n",
       "      <td>&lt;3</td>\n",
       "    </tr>\n",
       "    <tr>\n",
       "      <th>7722</th>\n",
       "      <td>e465fadd8b30e8669f397e32e10f6cd0</td>\n",
       "      <td>*PROPNAME* and I have successfully added a new trick to our list... playing dead!  We're excited!  :)  And we can't wait to show it off to *PROPNAME* when he gets here! &lt;3</td>\n",
       "      <td>4.50</td>\n",
       "      <td>2.25</td>\n",
       "      <td>3.50</td>\n",
       "      <td>3.25</td>\n",
       "      <td>3.75</td>\n",
       "      <td>y</td>\n",
       "      <td>n</td>\n",
       "      <td>n</td>\n",
       "      <td>n</td>\n",
       "      <td>n</td>\n",
       "      <td>12/09/09 09:40 PM</td>\n",
       "      <td>171</td>\n",
       "      <td>32</td>\n",
       "      <td>&lt;3</td>\n",
       "    </tr>\n",
       "    <tr>\n",
       "      <th>8647</th>\n",
       "      <td>7f3bfec0b7228d0900b01fbc8ce9d59f</td>\n",
       "      <td>I &lt;3 Law School.</td>\n",
       "      <td>2.25</td>\n",
       "      <td>3.50</td>\n",
       "      <td>3.25</td>\n",
       "      <td>2.75</td>\n",
       "      <td>2.25</td>\n",
       "      <td>n</td>\n",
       "      <td>y</td>\n",
       "      <td>n</td>\n",
       "      <td>n</td>\n",
       "      <td>n</td>\n",
       "      <td>09/08/09 04:36 AM</td>\n",
       "      <td>16</td>\n",
       "      <td>4</td>\n",
       "      <td>&lt;3</td>\n",
       "    </tr>\n",
       "    <tr>\n",
       "      <th>8709</th>\n",
       "      <td>f83aa7290cf3ae8ed75d6aee5ebbb559</td>\n",
       "      <td>D -6 till Sweden &lt;3</td>\n",
       "      <td>2.65</td>\n",
       "      <td>1.70</td>\n",
       "      <td>3.95</td>\n",
       "      <td>3.00</td>\n",
       "      <td>3.15</td>\n",
       "      <td>n</td>\n",
       "      <td>n</td>\n",
       "      <td>y</td>\n",
       "      <td>n</td>\n",
       "      <td>n</td>\n",
       "      <td>12/17/09 07:04 PM</td>\n",
       "      <td>19</td>\n",
       "      <td>5</td>\n",
       "      <td>&lt;3</td>\n",
       "    </tr>\n",
       "    <tr>\n",
       "      <th>8713</th>\n",
       "      <td>709606429cd1b0d5cefaf63cdeaaa86b</td>\n",
       "      <td>Happy Anniversary to me and the hubby!  &lt;3 3 years married today - can't you tell by the humidity?  lol</td>\n",
       "      <td>3.25</td>\n",
       "      <td>1.75</td>\n",
       "      <td>3.75</td>\n",
       "      <td>4.75</td>\n",
       "      <td>4.25</td>\n",
       "      <td>n</td>\n",
       "      <td>n</td>\n",
       "      <td>y</td>\n",
       "      <td>y</td>\n",
       "      <td>y</td>\n",
       "      <td>08/05/09 04:12 PM</td>\n",
       "      <td>103</td>\n",
       "      <td>20</td>\n",
       "      <td>&lt;3</td>\n",
       "    </tr>\n",
       "    <tr>\n",
       "      <th>9293</th>\n",
       "      <td>530e195e467f673de0917893fbf9299a</td>\n",
       "      <td>has a new favourite scent: Diesel - Only the Brave. &lt;3</td>\n",
       "      <td>1.90</td>\n",
       "      <td>2.70</td>\n",
       "      <td>4.10</td>\n",
       "      <td>4.20</td>\n",
       "      <td>4.45</td>\n",
       "      <td>n</td>\n",
       "      <td>n</td>\n",
       "      <td>y</td>\n",
       "      <td>y</td>\n",
       "      <td>y</td>\n",
       "      <td>11/27/09 08:10 PM</td>\n",
       "      <td>54</td>\n",
       "      <td>11</td>\n",
       "      <td>&lt;3</td>\n",
       "    </tr>\n",
       "  </tbody>\n",
       "</table>\n",
       "</div>"
      ],
      "text/plain": [
       "                               #AUTHID  \\\n",
       "2     b7b7764cfa1c523e4e93ab2a79a946c4   \n",
       "226   ecbddbfe00e0f83cfdb802a7186061c7   \n",
       "722   751e53fc64b770f7b5ea2b0964678599   \n",
       "1091  2badb47503a98766c89e266d1130969a   \n",
       "1133  0737e4e4980f56c9fb1cb5743001c917   \n",
       "1766  450c787001b004af69428e267c7a4ca1   \n",
       "1788  d7f1da35557607089ee2e3a707ce4a4a   \n",
       "2235  692758eda219c4fdb6aa64e929be3ff0   \n",
       "2583  370a8295df2f8b9069e75422c37d2639   \n",
       "2684  f2026b8cb48aff9af31577ecbfda5c38   \n",
       "3295  f80644859abfbc92e9a92072c2dc50fa   \n",
       "4042  ed1dbabbe3ea7fd3f44efc6f6a96db68   \n",
       "4621  f7456ac4e6b20911c40fdad18908a8d2   \n",
       "4765  181962441153a36333f0c60701823412   \n",
       "5448  933791b8623dadbb82664c60db91fb7e   \n",
       "5475  690d0ead7039eccdcaeb4d9f77b168b5   \n",
       "5665  1ece40ac9b657dea8c22a1fe58d3a6fe   \n",
       "5744  82d3a5e0936ddbff93f6630365f80af5   \n",
       "5973  970197105b41eac939d4fc3cec25137b   \n",
       "6458  c597771fab7477c2ae7b507d532130b0   \n",
       "6872  502db2fcfe26705ae16a46c5cb2ad2e5   \n",
       "7472  1187ed8a8b100eb49b8684ac30d6da29   \n",
       "7584  436e99cf44a590f9fa63638544619ce1   \n",
       "7722  e465fadd8b30e8669f397e32e10f6cd0   \n",
       "8647  7f3bfec0b7228d0900b01fbc8ce9d59f   \n",
       "8709  f83aa7290cf3ae8ed75d6aee5ebbb559   \n",
       "8713  709606429cd1b0d5cefaf63cdeaaa86b   \n",
       "9293  530e195e467f673de0917893fbf9299a   \n",
       "\n",
       "                                                                                                                                                                                                                                                                 STATUS  \\\n",
       "2                                                                                                                                             is sore and wants the knot of muscles at the base of her neck to stop hurting. On the other hand, YAY I'M IN ILLINOIS! <3   \n",
       "226                                                                                                                                                                                                                                       can't wait til thursday... <3   \n",
       "722                                                                                                                                                                                                                                                 i love weekends! <3   \n",
       "1091                                                                                                                                                                                                                   is in love with veniero's pastry <3 <3 muah muah   \n",
       "1133                                                                                                                                                                                                                          is in love with the Lincoln Memorial...<3   \n",
       "1766                                                                                                                                                                                                                                                                 <3   \n",
       "1788                                                                                                                                                                                                        had a great time yesterday! it was nice seeing everyone <33   \n",
       "2235  jumping on the lyrics-for-status bandwagon: Don't let apathy police the populace, we will march across those stereotypes that were marked for us. The answer's obvious; we switch the consonants and change the \"sword\" to \"words\" and lift continents.  9//11 <3   \n",
       "2583                                                                                                                                                                                                                                      yea merry x-mas everi1! <3 u!   \n",
       "2684                                                                                                                                                                                       just built a totally awesome interactive Cyborg Trinity map. <3 GMaps API <3   \n",
       "3295                                                                                                                                                                                                                                             I <3 House of Pies! :D   \n",
       "4042                                                                                                                                                                                                                                                  <3 scotch tasting   \n",
       "4621                                                                                                                                                                                              two minutes into the show and I was already being 'man-handled'....<3   \n",
       "4765                                                                                                                                                                                                                                  is in Indiana for the weekend! <3   \n",
       "5448                                                                           thanks *PROPNAME* and *PROPNAME* for the gorgeous additions (especially the personalized jacket that she's showing off at work today) to her closet and the giant hole in her wallet. <3   \n",
       "5475                                                                                                                                                                                                                                      <3 *PROPNAME*'s ginger candy.   \n",
       "5665                                                                                                                                                                                                                                                          <3 Sumir.   \n",
       "5744                                                                                                                                                                                                          looking forward to vbs next month!!!!!!!!!!!!!!!!!!!!! <3   \n",
       "5973                                                                                                                                                                                                                                                  <3 baking cookies   \n",
       "6458                                                                                                                                                                                                                                 The Vanishing Act of *PROPNAME* <3   \n",
       "6872                                                                                                                                                                                                                                                is *PROPNAME* :) <3   \n",
       "7472                                                                                                                                                                                                                                      LOVES *PROPNAME* Day <3 <3 <3   \n",
       "7584                                                                                                                                                                                              crawling into bed and sleeping for 500000000000   years..... <3 vegas   \n",
       "7722                                                                                        *PROPNAME* and I have successfully added a new trick to our list... playing dead!  We're excited!  :)  And we can't wait to show it off to *PROPNAME* when he gets here! <3   \n",
       "8647                                                                                                                                                                                                                                                   I <3 Law School.   \n",
       "8709                                                                                                                                                                                                                                                D -6 till Sweden <3   \n",
       "8713                                                                                                                                                            Happy Anniversary to me and the hubby!  <3 3 years married today - can't you tell by the humidity?  lol   \n",
       "9293                                                                                                                                                                                                             has a new favourite scent: Diesel - Only the Brave. <3   \n",
       "\n",
       "      sEXT  sNEU  sAGR  sCON  sOPN cEXT cNEU cAGR cCON cOPN  \\\n",
       "2     2.65  3.00  3.15  3.25  4.40    n    y    n    n    y   \n",
       "226   4.30  2.15  3.60  3.30  4.10    y    n    y    n    y   \n",
       "722   1.50  3.80  4.15  3.05  3.95    n    y    y    n    y   \n",
       "1091  3.55  2.30  3.65  4.65  4.60    n    n    y    y    y   \n",
       "1133  3.35  2.30  4.10  2.40  4.50    n    n    y    n    y   \n",
       "1766  2.30  3.50  4.50  2.85  4.50    n    y    y    n    y   \n",
       "1788  4.50  2.75  2.50  3.50  4.25    y    n    n    y    y   \n",
       "2235  2.55  2.85  3.90  2.50  4.40    n    y    y    n    y   \n",
       "2583  4.00  1.65  3.10  3.10  4.50    y    n    n    n    y   \n",
       "2684  2.75  2.50  4.00  3.00  4.75    n    n    y    n    y   \n",
       "3295  2.10  3.00  3.90  4.15  4.80    n    y    y    y    y   \n",
       "4042  3.50  1.60  3.75  3.95  4.00    n    n    y    y    y   \n",
       "4621  4.25  1.55  4.45  4.35  3.80    y    n    y    y    y   \n",
       "4765  3.40  2.80  3.05  3.05  4.35    n    y    n    n    y   \n",
       "5448  3.75  2.35  3.70  4.00  4.20    y    n    y    y    y   \n",
       "5475  2.90  3.75  3.15  3.35  4.75    n    y    n    n    y   \n",
       "5665  3.50  1.75  4.75  3.00  4.25    n    n    y    n    y   \n",
       "5744  3.30  2.80  3.35  4.25  3.50    n    y    n    y    n   \n",
       "5973  4.00  1.95  4.25  3.55  3.45    y    n    y    y    n   \n",
       "6458  2.35  2.10  4.15  3.75  4.80    n    n    y    y    y   \n",
       "6872  3.20  3.30  4.55  3.20  4.45    n    y    y    n    y   \n",
       "7472  4.00  4.00  2.25  4.50  3.25    y    y    n    y    n   \n",
       "7584  4.50  2.75  4.25  5.00  4.75    y    n    y    y    y   \n",
       "7722  4.50  2.25  3.50  3.25  3.75    y    n    n    n    n   \n",
       "8647  2.25  3.50  3.25  2.75  2.25    n    y    n    n    n   \n",
       "8709  2.65  1.70  3.95  3.00  3.15    n    n    y    n    n   \n",
       "8713  3.25  1.75  3.75  4.75  4.25    n    n    y    y    y   \n",
       "9293  1.90  2.70  4.10  4.20  4.45    n    n    y    y    y   \n",
       "\n",
       "                   DATE  status_length  status_word_count hearts  \n",
       "2     06/15/09 01:15 PM            121                 26     <3  \n",
       "226   01/13/10 02:10 AM             29                  5     <3  \n",
       "722   08/14/09 06:21 AM             19                  4     <3  \n",
       "1091  12/28/09 05:34 AM             48                 10     <3  \n",
       "1133  06/25/09 04:15 AM             41                  7     <3  \n",
       "1766  12/03/09 07:43 AM              2                  1     <3  \n",
       "1788  06/21/09 08:12 PM             59                 11     <3  \n",
       "2235  09/11/09 08:29 PM            257                 40     <3  \n",
       "2583  12/25/09 06:17 PM             29                  6     <3  \n",
       "2684  09/08/09 08:36 AM             76                 13     <3  \n",
       "3295  10/08/09 02:25 PM             22                  6     <3  \n",
       "4042  06/27/09 07:20 PM             17                  3     <3  \n",
       "4621  07/05/09 01:13 AM             69                 11     <3  \n",
       "4765  07/11/09 05:01 AM             33                  7     <3  \n",
       "5448  12/29/09 04:52 PM            184                 30     <3  \n",
       "5475  06/29/09 05:33 PM             29                  4     <3  \n",
       "5665  07/01/09 10:14 PM              9                  2     <3  \n",
       "5744  07/19/09 09:43 PM             57                  7     <3  \n",
       "5973  06/24/09 03:29 AM             17                  3     <3  \n",
       "6458  01/15/10 07:43 PM             34                  6     <3  \n",
       "6872  08/11/09 08:54 PM             19                  4     <3  \n",
       "7472  10/03/09 04:19 AM             29                  6     <3  \n",
       "7584  08/24/09 06:23 AM             69                 10     <3  \n",
       "7722  12/09/09 09:40 PM            171                 32     <3  \n",
       "8647  09/08/09 04:36 AM             16                  4     <3  \n",
       "8709  12/17/09 07:04 PM             19                  5     <3  \n",
       "8713  08/05/09 04:12 PM            103                 20     <3  \n",
       "9293  11/27/09 08:10 PM             54                 11     <3  "
      ]
     },
     "execution_count": 99,
     "metadata": {},
     "output_type": "execute_result"
    }
   ],
   "source": [
    "df2"
   ]
  },
  {
   "cell_type": "markdown",
   "metadata": {},
   "source": [
    "---\n",
    "\n",
    "## Exploratory vs. Explanatory Data Analysis \n",
    "\n",
    "> **Exploratory analysis** is what you do to get familiar with the data. You may start out with a hypothesis or question, or you may just really be delving into the data to determine what might be interesting about it. Exploratory analysis is the process of turning over 100 rocks to find perhaps 1 or 2 precious gemstones.\n",
    ">\n",
    "> **Explanatory analysis** is what happens when you have something specific you want to show an audience - probably about those 1 or 2 precious gemstones. In my blogging and writing, I tend to focus mostly on this latter piece, explanatory analysis, when you've already gone through the exploratory analysis and from this have determined something specific you want to communicate to a given audience: in other words, when you want to tell a story with data.\n",
    "\n",
    "- Cole Nussbaumer Knaflic, [exploratory vs. explanatory analysis](http://www.storytellingwithdata.com/blog/2014/04/exploratory-vs-explanatory-analysis)\n",
    "\n",
    "### Choose one visual to explain:\n",
    "\n",
    "Now that you've performed an exploratory data analysis, choose a visual (or 1-3 related visuals) to frame as _explanatory_. This can be a visual you created above, or you can create a new visual. For this visual, make sure the visuals are formatted clearly, and provide a one to two paragraph explanation/interpretation of the visual."
   ]
  },
  {
   "cell_type": "code",
   "execution_count": 101,
   "metadata": {},
   "outputs": [
    {
     "name": "stderr",
     "output_type": "stream",
     "text": [
      "<ipython-input-101-e1c16c8bbfe2>:2: SettingWithCopyWarning: \n",
      "A value is trying to be set on a copy of a slice from a DataFrame.\n",
      "Try using .loc[row_indexer,col_indexer] = value instead\n",
      "\n",
      "See the caveats in the documentation: https://pandas.pydata.org/pandas-docs/stable/user_guide/indexing.html#returning-a-view-versus-a-copy\n",
      "  df2[i] = df2[i].map({'y':1, 'n':0})\n"
     ]
    }
   ],
   "source": [
    "for i in categories:\n",
    "    df2[i] = df2[i].map({'y':1, 'n':0})"
   ]
  },
  {
   "cell_type": "code",
   "execution_count": 104,
   "metadata": {},
   "outputs": [
    {
     "data": {
      "text/html": [
       "<div>\n",
       "<style scoped>\n",
       "    .dataframe tbody tr th:only-of-type {\n",
       "        vertical-align: middle;\n",
       "    }\n",
       "\n",
       "    .dataframe tbody tr th {\n",
       "        vertical-align: top;\n",
       "    }\n",
       "\n",
       "    .dataframe thead th {\n",
       "        text-align: right;\n",
       "    }\n",
       "</style>\n",
       "<table border=\"1\" class=\"dataframe\">\n",
       "  <thead>\n",
       "    <tr style=\"text-align: right;\">\n",
       "      <th></th>\n",
       "      <th>#AUTHID</th>\n",
       "      <th>STATUS</th>\n",
       "      <th>sEXT</th>\n",
       "      <th>sNEU</th>\n",
       "      <th>sAGR</th>\n",
       "      <th>sCON</th>\n",
       "      <th>sOPN</th>\n",
       "      <th>cEXT</th>\n",
       "      <th>cNEU</th>\n",
       "      <th>cAGR</th>\n",
       "      <th>cCON</th>\n",
       "      <th>cOPN</th>\n",
       "      <th>DATE</th>\n",
       "      <th>status_length</th>\n",
       "      <th>status_word_count</th>\n",
       "      <th>hearts</th>\n",
       "    </tr>\n",
       "  </thead>\n",
       "  <tbody>\n",
       "    <tr>\n",
       "      <th>2</th>\n",
       "      <td>b7b7764cfa1c523e4e93ab2a79a946c4</td>\n",
       "      <td>is sore and wants the knot of muscles at the base of her neck to stop hurting. On the other hand, YAY I'M IN ILLINOIS! &lt;3</td>\n",
       "      <td>2.65</td>\n",
       "      <td>3.00</td>\n",
       "      <td>3.15</td>\n",
       "      <td>3.25</td>\n",
       "      <td>4.40</td>\n",
       "      <td>0</td>\n",
       "      <td>1</td>\n",
       "      <td>0</td>\n",
       "      <td>0</td>\n",
       "      <td>1</td>\n",
       "      <td>06/15/09 01:15 PM</td>\n",
       "      <td>121</td>\n",
       "      <td>26</td>\n",
       "      <td>&lt;3</td>\n",
       "    </tr>\n",
       "    <tr>\n",
       "      <th>226</th>\n",
       "      <td>ecbddbfe00e0f83cfdb802a7186061c7</td>\n",
       "      <td>can't wait til thursday... &lt;3</td>\n",
       "      <td>4.30</td>\n",
       "      <td>2.15</td>\n",
       "      <td>3.60</td>\n",
       "      <td>3.30</td>\n",
       "      <td>4.10</td>\n",
       "      <td>1</td>\n",
       "      <td>0</td>\n",
       "      <td>1</td>\n",
       "      <td>0</td>\n",
       "      <td>1</td>\n",
       "      <td>01/13/10 02:10 AM</td>\n",
       "      <td>29</td>\n",
       "      <td>5</td>\n",
       "      <td>&lt;3</td>\n",
       "    </tr>\n",
       "    <tr>\n",
       "      <th>722</th>\n",
       "      <td>751e53fc64b770f7b5ea2b0964678599</td>\n",
       "      <td>i love weekends! &lt;3</td>\n",
       "      <td>1.50</td>\n",
       "      <td>3.80</td>\n",
       "      <td>4.15</td>\n",
       "      <td>3.05</td>\n",
       "      <td>3.95</td>\n",
       "      <td>0</td>\n",
       "      <td>1</td>\n",
       "      <td>1</td>\n",
       "      <td>0</td>\n",
       "      <td>1</td>\n",
       "      <td>08/14/09 06:21 AM</td>\n",
       "      <td>19</td>\n",
       "      <td>4</td>\n",
       "      <td>&lt;3</td>\n",
       "    </tr>\n",
       "    <tr>\n",
       "      <th>1091</th>\n",
       "      <td>2badb47503a98766c89e266d1130969a</td>\n",
       "      <td>is in love with veniero's pastry &lt;3 &lt;3 muah muah</td>\n",
       "      <td>3.55</td>\n",
       "      <td>2.30</td>\n",
       "      <td>3.65</td>\n",
       "      <td>4.65</td>\n",
       "      <td>4.60</td>\n",
       "      <td>0</td>\n",
       "      <td>0</td>\n",
       "      <td>1</td>\n",
       "      <td>1</td>\n",
       "      <td>1</td>\n",
       "      <td>12/28/09 05:34 AM</td>\n",
       "      <td>48</td>\n",
       "      <td>10</td>\n",
       "      <td>&lt;3</td>\n",
       "    </tr>\n",
       "    <tr>\n",
       "      <th>1133</th>\n",
       "      <td>0737e4e4980f56c9fb1cb5743001c917</td>\n",
       "      <td>is in love with the Lincoln Memorial...&lt;3</td>\n",
       "      <td>3.35</td>\n",
       "      <td>2.30</td>\n",
       "      <td>4.10</td>\n",
       "      <td>2.40</td>\n",
       "      <td>4.50</td>\n",
       "      <td>0</td>\n",
       "      <td>0</td>\n",
       "      <td>1</td>\n",
       "      <td>0</td>\n",
       "      <td>1</td>\n",
       "      <td>06/25/09 04:15 AM</td>\n",
       "      <td>41</td>\n",
       "      <td>7</td>\n",
       "      <td>&lt;3</td>\n",
       "    </tr>\n",
       "    <tr>\n",
       "      <th>1766</th>\n",
       "      <td>450c787001b004af69428e267c7a4ca1</td>\n",
       "      <td>&lt;3</td>\n",
       "      <td>2.30</td>\n",
       "      <td>3.50</td>\n",
       "      <td>4.50</td>\n",
       "      <td>2.85</td>\n",
       "      <td>4.50</td>\n",
       "      <td>0</td>\n",
       "      <td>1</td>\n",
       "      <td>1</td>\n",
       "      <td>0</td>\n",
       "      <td>1</td>\n",
       "      <td>12/03/09 07:43 AM</td>\n",
       "      <td>2</td>\n",
       "      <td>1</td>\n",
       "      <td>&lt;3</td>\n",
       "    </tr>\n",
       "    <tr>\n",
       "      <th>1788</th>\n",
       "      <td>d7f1da35557607089ee2e3a707ce4a4a</td>\n",
       "      <td>had a great time yesterday! it was nice seeing everyone &lt;33</td>\n",
       "      <td>4.50</td>\n",
       "      <td>2.75</td>\n",
       "      <td>2.50</td>\n",
       "      <td>3.50</td>\n",
       "      <td>4.25</td>\n",
       "      <td>1</td>\n",
       "      <td>0</td>\n",
       "      <td>0</td>\n",
       "      <td>1</td>\n",
       "      <td>1</td>\n",
       "      <td>06/21/09 08:12 PM</td>\n",
       "      <td>59</td>\n",
       "      <td>11</td>\n",
       "      <td>&lt;3</td>\n",
       "    </tr>\n",
       "    <tr>\n",
       "      <th>2235</th>\n",
       "      <td>692758eda219c4fdb6aa64e929be3ff0</td>\n",
       "      <td>jumping on the lyrics-for-status bandwagon: Don't let apathy police the populace, we will march across those stereotypes that were marked for us. The answer's obvious; we switch the consonants and change the \"sword\" to \"words\" and lift continents.  9//11 &lt;3</td>\n",
       "      <td>2.55</td>\n",
       "      <td>2.85</td>\n",
       "      <td>3.90</td>\n",
       "      <td>2.50</td>\n",
       "      <td>4.40</td>\n",
       "      <td>0</td>\n",
       "      <td>1</td>\n",
       "      <td>1</td>\n",
       "      <td>0</td>\n",
       "      <td>1</td>\n",
       "      <td>09/11/09 08:29 PM</td>\n",
       "      <td>257</td>\n",
       "      <td>40</td>\n",
       "      <td>&lt;3</td>\n",
       "    </tr>\n",
       "    <tr>\n",
       "      <th>2583</th>\n",
       "      <td>370a8295df2f8b9069e75422c37d2639</td>\n",
       "      <td>yea merry x-mas everi1! &lt;3 u!</td>\n",
       "      <td>4.00</td>\n",
       "      <td>1.65</td>\n",
       "      <td>3.10</td>\n",
       "      <td>3.10</td>\n",
       "      <td>4.50</td>\n",
       "      <td>1</td>\n",
       "      <td>0</td>\n",
       "      <td>0</td>\n",
       "      <td>0</td>\n",
       "      <td>1</td>\n",
       "      <td>12/25/09 06:17 PM</td>\n",
       "      <td>29</td>\n",
       "      <td>6</td>\n",
       "      <td>&lt;3</td>\n",
       "    </tr>\n",
       "    <tr>\n",
       "      <th>2684</th>\n",
       "      <td>f2026b8cb48aff9af31577ecbfda5c38</td>\n",
       "      <td>just built a totally awesome interactive Cyborg Trinity map. &lt;3 GMaps API &lt;3</td>\n",
       "      <td>2.75</td>\n",
       "      <td>2.50</td>\n",
       "      <td>4.00</td>\n",
       "      <td>3.00</td>\n",
       "      <td>4.75</td>\n",
       "      <td>0</td>\n",
       "      <td>0</td>\n",
       "      <td>1</td>\n",
       "      <td>0</td>\n",
       "      <td>1</td>\n",
       "      <td>09/08/09 08:36 AM</td>\n",
       "      <td>76</td>\n",
       "      <td>13</td>\n",
       "      <td>&lt;3</td>\n",
       "    </tr>\n",
       "    <tr>\n",
       "      <th>3295</th>\n",
       "      <td>f80644859abfbc92e9a92072c2dc50fa</td>\n",
       "      <td>I &lt;3 House of Pies! :D</td>\n",
       "      <td>2.10</td>\n",
       "      <td>3.00</td>\n",
       "      <td>3.90</td>\n",
       "      <td>4.15</td>\n",
       "      <td>4.80</td>\n",
       "      <td>0</td>\n",
       "      <td>1</td>\n",
       "      <td>1</td>\n",
       "      <td>1</td>\n",
       "      <td>1</td>\n",
       "      <td>10/08/09 02:25 PM</td>\n",
       "      <td>22</td>\n",
       "      <td>6</td>\n",
       "      <td>&lt;3</td>\n",
       "    </tr>\n",
       "    <tr>\n",
       "      <th>4042</th>\n",
       "      <td>ed1dbabbe3ea7fd3f44efc6f6a96db68</td>\n",
       "      <td>&lt;3 scotch tasting</td>\n",
       "      <td>3.50</td>\n",
       "      <td>1.60</td>\n",
       "      <td>3.75</td>\n",
       "      <td>3.95</td>\n",
       "      <td>4.00</td>\n",
       "      <td>0</td>\n",
       "      <td>0</td>\n",
       "      <td>1</td>\n",
       "      <td>1</td>\n",
       "      <td>1</td>\n",
       "      <td>06/27/09 07:20 PM</td>\n",
       "      <td>17</td>\n",
       "      <td>3</td>\n",
       "      <td>&lt;3</td>\n",
       "    </tr>\n",
       "    <tr>\n",
       "      <th>4621</th>\n",
       "      <td>f7456ac4e6b20911c40fdad18908a8d2</td>\n",
       "      <td>two minutes into the show and I was already being 'man-handled'....&lt;3</td>\n",
       "      <td>4.25</td>\n",
       "      <td>1.55</td>\n",
       "      <td>4.45</td>\n",
       "      <td>4.35</td>\n",
       "      <td>3.80</td>\n",
       "      <td>1</td>\n",
       "      <td>0</td>\n",
       "      <td>1</td>\n",
       "      <td>1</td>\n",
       "      <td>1</td>\n",
       "      <td>07/05/09 01:13 AM</td>\n",
       "      <td>69</td>\n",
       "      <td>11</td>\n",
       "      <td>&lt;3</td>\n",
       "    </tr>\n",
       "    <tr>\n",
       "      <th>4765</th>\n",
       "      <td>181962441153a36333f0c60701823412</td>\n",
       "      <td>is in Indiana for the weekend! &lt;3</td>\n",
       "      <td>3.40</td>\n",
       "      <td>2.80</td>\n",
       "      <td>3.05</td>\n",
       "      <td>3.05</td>\n",
       "      <td>4.35</td>\n",
       "      <td>0</td>\n",
       "      <td>1</td>\n",
       "      <td>0</td>\n",
       "      <td>0</td>\n",
       "      <td>1</td>\n",
       "      <td>07/11/09 05:01 AM</td>\n",
       "      <td>33</td>\n",
       "      <td>7</td>\n",
       "      <td>&lt;3</td>\n",
       "    </tr>\n",
       "    <tr>\n",
       "      <th>5448</th>\n",
       "      <td>933791b8623dadbb82664c60db91fb7e</td>\n",
       "      <td>thanks *PROPNAME* and *PROPNAME* for the gorgeous additions (especially the personalized jacket that she's showing off at work today) to her closet and the giant hole in her wallet. &lt;3</td>\n",
       "      <td>3.75</td>\n",
       "      <td>2.35</td>\n",
       "      <td>3.70</td>\n",
       "      <td>4.00</td>\n",
       "      <td>4.20</td>\n",
       "      <td>1</td>\n",
       "      <td>0</td>\n",
       "      <td>1</td>\n",
       "      <td>1</td>\n",
       "      <td>1</td>\n",
       "      <td>12/29/09 04:52 PM</td>\n",
       "      <td>184</td>\n",
       "      <td>30</td>\n",
       "      <td>&lt;3</td>\n",
       "    </tr>\n",
       "    <tr>\n",
       "      <th>5475</th>\n",
       "      <td>690d0ead7039eccdcaeb4d9f77b168b5</td>\n",
       "      <td>&lt;3 *PROPNAME*'s ginger candy.</td>\n",
       "      <td>2.90</td>\n",
       "      <td>3.75</td>\n",
       "      <td>3.15</td>\n",
       "      <td>3.35</td>\n",
       "      <td>4.75</td>\n",
       "      <td>0</td>\n",
       "      <td>1</td>\n",
       "      <td>0</td>\n",
       "      <td>0</td>\n",
       "      <td>1</td>\n",
       "      <td>06/29/09 05:33 PM</td>\n",
       "      <td>29</td>\n",
       "      <td>4</td>\n",
       "      <td>&lt;3</td>\n",
       "    </tr>\n",
       "    <tr>\n",
       "      <th>5665</th>\n",
       "      <td>1ece40ac9b657dea8c22a1fe58d3a6fe</td>\n",
       "      <td>&lt;3 Sumir.</td>\n",
       "      <td>3.50</td>\n",
       "      <td>1.75</td>\n",
       "      <td>4.75</td>\n",
       "      <td>3.00</td>\n",
       "      <td>4.25</td>\n",
       "      <td>0</td>\n",
       "      <td>0</td>\n",
       "      <td>1</td>\n",
       "      <td>0</td>\n",
       "      <td>1</td>\n",
       "      <td>07/01/09 10:14 PM</td>\n",
       "      <td>9</td>\n",
       "      <td>2</td>\n",
       "      <td>&lt;3</td>\n",
       "    </tr>\n",
       "    <tr>\n",
       "      <th>5744</th>\n",
       "      <td>82d3a5e0936ddbff93f6630365f80af5</td>\n",
       "      <td>looking forward to vbs next month!!!!!!!!!!!!!!!!!!!!! &lt;3</td>\n",
       "      <td>3.30</td>\n",
       "      <td>2.80</td>\n",
       "      <td>3.35</td>\n",
       "      <td>4.25</td>\n",
       "      <td>3.50</td>\n",
       "      <td>0</td>\n",
       "      <td>1</td>\n",
       "      <td>0</td>\n",
       "      <td>1</td>\n",
       "      <td>0</td>\n",
       "      <td>07/19/09 09:43 PM</td>\n",
       "      <td>57</td>\n",
       "      <td>7</td>\n",
       "      <td>&lt;3</td>\n",
       "    </tr>\n",
       "    <tr>\n",
       "      <th>5973</th>\n",
       "      <td>970197105b41eac939d4fc3cec25137b</td>\n",
       "      <td>&lt;3 baking cookies</td>\n",
       "      <td>4.00</td>\n",
       "      <td>1.95</td>\n",
       "      <td>4.25</td>\n",
       "      <td>3.55</td>\n",
       "      <td>3.45</td>\n",
       "      <td>1</td>\n",
       "      <td>0</td>\n",
       "      <td>1</td>\n",
       "      <td>1</td>\n",
       "      <td>0</td>\n",
       "      <td>06/24/09 03:29 AM</td>\n",
       "      <td>17</td>\n",
       "      <td>3</td>\n",
       "      <td>&lt;3</td>\n",
       "    </tr>\n",
       "    <tr>\n",
       "      <th>6458</th>\n",
       "      <td>c597771fab7477c2ae7b507d532130b0</td>\n",
       "      <td>The Vanishing Act of *PROPNAME* &lt;3</td>\n",
       "      <td>2.35</td>\n",
       "      <td>2.10</td>\n",
       "      <td>4.15</td>\n",
       "      <td>3.75</td>\n",
       "      <td>4.80</td>\n",
       "      <td>0</td>\n",
       "      <td>0</td>\n",
       "      <td>1</td>\n",
       "      <td>1</td>\n",
       "      <td>1</td>\n",
       "      <td>01/15/10 07:43 PM</td>\n",
       "      <td>34</td>\n",
       "      <td>6</td>\n",
       "      <td>&lt;3</td>\n",
       "    </tr>\n",
       "    <tr>\n",
       "      <th>6872</th>\n",
       "      <td>502db2fcfe26705ae16a46c5cb2ad2e5</td>\n",
       "      <td>is *PROPNAME* :) &lt;3</td>\n",
       "      <td>3.20</td>\n",
       "      <td>3.30</td>\n",
       "      <td>4.55</td>\n",
       "      <td>3.20</td>\n",
       "      <td>4.45</td>\n",
       "      <td>0</td>\n",
       "      <td>1</td>\n",
       "      <td>1</td>\n",
       "      <td>0</td>\n",
       "      <td>1</td>\n",
       "      <td>08/11/09 08:54 PM</td>\n",
       "      <td>19</td>\n",
       "      <td>4</td>\n",
       "      <td>&lt;3</td>\n",
       "    </tr>\n",
       "    <tr>\n",
       "      <th>7472</th>\n",
       "      <td>1187ed8a8b100eb49b8684ac30d6da29</td>\n",
       "      <td>LOVES *PROPNAME* Day &lt;3 &lt;3 &lt;3</td>\n",
       "      <td>4.00</td>\n",
       "      <td>4.00</td>\n",
       "      <td>2.25</td>\n",
       "      <td>4.50</td>\n",
       "      <td>3.25</td>\n",
       "      <td>1</td>\n",
       "      <td>1</td>\n",
       "      <td>0</td>\n",
       "      <td>1</td>\n",
       "      <td>0</td>\n",
       "      <td>10/03/09 04:19 AM</td>\n",
       "      <td>29</td>\n",
       "      <td>6</td>\n",
       "      <td>&lt;3</td>\n",
       "    </tr>\n",
       "    <tr>\n",
       "      <th>7584</th>\n",
       "      <td>436e99cf44a590f9fa63638544619ce1</td>\n",
       "      <td>crawling into bed and sleeping for 500000000000   years..... &lt;3 vegas</td>\n",
       "      <td>4.50</td>\n",
       "      <td>2.75</td>\n",
       "      <td>4.25</td>\n",
       "      <td>5.00</td>\n",
       "      <td>4.75</td>\n",
       "      <td>1</td>\n",
       "      <td>0</td>\n",
       "      <td>1</td>\n",
       "      <td>1</td>\n",
       "      <td>1</td>\n",
       "      <td>08/24/09 06:23 AM</td>\n",
       "      <td>69</td>\n",
       "      <td>10</td>\n",
       "      <td>&lt;3</td>\n",
       "    </tr>\n",
       "    <tr>\n",
       "      <th>7722</th>\n",
       "      <td>e465fadd8b30e8669f397e32e10f6cd0</td>\n",
       "      <td>*PROPNAME* and I have successfully added a new trick to our list... playing dead!  We're excited!  :)  And we can't wait to show it off to *PROPNAME* when he gets here! &lt;3</td>\n",
       "      <td>4.50</td>\n",
       "      <td>2.25</td>\n",
       "      <td>3.50</td>\n",
       "      <td>3.25</td>\n",
       "      <td>3.75</td>\n",
       "      <td>1</td>\n",
       "      <td>0</td>\n",
       "      <td>0</td>\n",
       "      <td>0</td>\n",
       "      <td>0</td>\n",
       "      <td>12/09/09 09:40 PM</td>\n",
       "      <td>171</td>\n",
       "      <td>32</td>\n",
       "      <td>&lt;3</td>\n",
       "    </tr>\n",
       "    <tr>\n",
       "      <th>8647</th>\n",
       "      <td>7f3bfec0b7228d0900b01fbc8ce9d59f</td>\n",
       "      <td>I &lt;3 Law School.</td>\n",
       "      <td>2.25</td>\n",
       "      <td>3.50</td>\n",
       "      <td>3.25</td>\n",
       "      <td>2.75</td>\n",
       "      <td>2.25</td>\n",
       "      <td>0</td>\n",
       "      <td>1</td>\n",
       "      <td>0</td>\n",
       "      <td>0</td>\n",
       "      <td>0</td>\n",
       "      <td>09/08/09 04:36 AM</td>\n",
       "      <td>16</td>\n",
       "      <td>4</td>\n",
       "      <td>&lt;3</td>\n",
       "    </tr>\n",
       "    <tr>\n",
       "      <th>8709</th>\n",
       "      <td>f83aa7290cf3ae8ed75d6aee5ebbb559</td>\n",
       "      <td>D -6 till Sweden &lt;3</td>\n",
       "      <td>2.65</td>\n",
       "      <td>1.70</td>\n",
       "      <td>3.95</td>\n",
       "      <td>3.00</td>\n",
       "      <td>3.15</td>\n",
       "      <td>0</td>\n",
       "      <td>0</td>\n",
       "      <td>1</td>\n",
       "      <td>0</td>\n",
       "      <td>0</td>\n",
       "      <td>12/17/09 07:04 PM</td>\n",
       "      <td>19</td>\n",
       "      <td>5</td>\n",
       "      <td>&lt;3</td>\n",
       "    </tr>\n",
       "    <tr>\n",
       "      <th>8713</th>\n",
       "      <td>709606429cd1b0d5cefaf63cdeaaa86b</td>\n",
       "      <td>Happy Anniversary to me and the hubby!  &lt;3 3 years married today - can't you tell by the humidity?  lol</td>\n",
       "      <td>3.25</td>\n",
       "      <td>1.75</td>\n",
       "      <td>3.75</td>\n",
       "      <td>4.75</td>\n",
       "      <td>4.25</td>\n",
       "      <td>0</td>\n",
       "      <td>0</td>\n",
       "      <td>1</td>\n",
       "      <td>1</td>\n",
       "      <td>1</td>\n",
       "      <td>08/05/09 04:12 PM</td>\n",
       "      <td>103</td>\n",
       "      <td>20</td>\n",
       "      <td>&lt;3</td>\n",
       "    </tr>\n",
       "    <tr>\n",
       "      <th>9293</th>\n",
       "      <td>530e195e467f673de0917893fbf9299a</td>\n",
       "      <td>has a new favourite scent: Diesel - Only the Brave. &lt;3</td>\n",
       "      <td>1.90</td>\n",
       "      <td>2.70</td>\n",
       "      <td>4.10</td>\n",
       "      <td>4.20</td>\n",
       "      <td>4.45</td>\n",
       "      <td>0</td>\n",
       "      <td>0</td>\n",
       "      <td>1</td>\n",
       "      <td>1</td>\n",
       "      <td>1</td>\n",
       "      <td>11/27/09 08:10 PM</td>\n",
       "      <td>54</td>\n",
       "      <td>11</td>\n",
       "      <td>&lt;3</td>\n",
       "    </tr>\n",
       "  </tbody>\n",
       "</table>\n",
       "</div>"
      ],
      "text/plain": [
       "                               #AUTHID  \\\n",
       "2     b7b7764cfa1c523e4e93ab2a79a946c4   \n",
       "226   ecbddbfe00e0f83cfdb802a7186061c7   \n",
       "722   751e53fc64b770f7b5ea2b0964678599   \n",
       "1091  2badb47503a98766c89e266d1130969a   \n",
       "1133  0737e4e4980f56c9fb1cb5743001c917   \n",
       "1766  450c787001b004af69428e267c7a4ca1   \n",
       "1788  d7f1da35557607089ee2e3a707ce4a4a   \n",
       "2235  692758eda219c4fdb6aa64e929be3ff0   \n",
       "2583  370a8295df2f8b9069e75422c37d2639   \n",
       "2684  f2026b8cb48aff9af31577ecbfda5c38   \n",
       "3295  f80644859abfbc92e9a92072c2dc50fa   \n",
       "4042  ed1dbabbe3ea7fd3f44efc6f6a96db68   \n",
       "4621  f7456ac4e6b20911c40fdad18908a8d2   \n",
       "4765  181962441153a36333f0c60701823412   \n",
       "5448  933791b8623dadbb82664c60db91fb7e   \n",
       "5475  690d0ead7039eccdcaeb4d9f77b168b5   \n",
       "5665  1ece40ac9b657dea8c22a1fe58d3a6fe   \n",
       "5744  82d3a5e0936ddbff93f6630365f80af5   \n",
       "5973  970197105b41eac939d4fc3cec25137b   \n",
       "6458  c597771fab7477c2ae7b507d532130b0   \n",
       "6872  502db2fcfe26705ae16a46c5cb2ad2e5   \n",
       "7472  1187ed8a8b100eb49b8684ac30d6da29   \n",
       "7584  436e99cf44a590f9fa63638544619ce1   \n",
       "7722  e465fadd8b30e8669f397e32e10f6cd0   \n",
       "8647  7f3bfec0b7228d0900b01fbc8ce9d59f   \n",
       "8709  f83aa7290cf3ae8ed75d6aee5ebbb559   \n",
       "8713  709606429cd1b0d5cefaf63cdeaaa86b   \n",
       "9293  530e195e467f673de0917893fbf9299a   \n",
       "\n",
       "                                                                                                                                                                                                                                                                 STATUS  \\\n",
       "2                                                                                                                                             is sore and wants the knot of muscles at the base of her neck to stop hurting. On the other hand, YAY I'M IN ILLINOIS! <3   \n",
       "226                                                                                                                                                                                                                                       can't wait til thursday... <3   \n",
       "722                                                                                                                                                                                                                                                 i love weekends! <3   \n",
       "1091                                                                                                                                                                                                                   is in love with veniero's pastry <3 <3 muah muah   \n",
       "1133                                                                                                                                                                                                                          is in love with the Lincoln Memorial...<3   \n",
       "1766                                                                                                                                                                                                                                                                 <3   \n",
       "1788                                                                                                                                                                                                        had a great time yesterday! it was nice seeing everyone <33   \n",
       "2235  jumping on the lyrics-for-status bandwagon: Don't let apathy police the populace, we will march across those stereotypes that were marked for us. The answer's obvious; we switch the consonants and change the \"sword\" to \"words\" and lift continents.  9//11 <3   \n",
       "2583                                                                                                                                                                                                                                      yea merry x-mas everi1! <3 u!   \n",
       "2684                                                                                                                                                                                       just built a totally awesome interactive Cyborg Trinity map. <3 GMaps API <3   \n",
       "3295                                                                                                                                                                                                                                             I <3 House of Pies! :D   \n",
       "4042                                                                                                                                                                                                                                                  <3 scotch tasting   \n",
       "4621                                                                                                                                                                                              two minutes into the show and I was already being 'man-handled'....<3   \n",
       "4765                                                                                                                                                                                                                                  is in Indiana for the weekend! <3   \n",
       "5448                                                                           thanks *PROPNAME* and *PROPNAME* for the gorgeous additions (especially the personalized jacket that she's showing off at work today) to her closet and the giant hole in her wallet. <3   \n",
       "5475                                                                                                                                                                                                                                      <3 *PROPNAME*'s ginger candy.   \n",
       "5665                                                                                                                                                                                                                                                          <3 Sumir.   \n",
       "5744                                                                                                                                                                                                          looking forward to vbs next month!!!!!!!!!!!!!!!!!!!!! <3   \n",
       "5973                                                                                                                                                                                                                                                  <3 baking cookies   \n",
       "6458                                                                                                                                                                                                                                 The Vanishing Act of *PROPNAME* <3   \n",
       "6872                                                                                                                                                                                                                                                is *PROPNAME* :) <3   \n",
       "7472                                                                                                                                                                                                                                      LOVES *PROPNAME* Day <3 <3 <3   \n",
       "7584                                                                                                                                                                                              crawling into bed and sleeping for 500000000000   years..... <3 vegas   \n",
       "7722                                                                                        *PROPNAME* and I have successfully added a new trick to our list... playing dead!  We're excited!  :)  And we can't wait to show it off to *PROPNAME* when he gets here! <3   \n",
       "8647                                                                                                                                                                                                                                                   I <3 Law School.   \n",
       "8709                                                                                                                                                                                                                                                D -6 till Sweden <3   \n",
       "8713                                                                                                                                                            Happy Anniversary to me and the hubby!  <3 3 years married today - can't you tell by the humidity?  lol   \n",
       "9293                                                                                                                                                                                                             has a new favourite scent: Diesel - Only the Brave. <3   \n",
       "\n",
       "      sEXT  sNEU  sAGR  sCON  sOPN  cEXT  cNEU  cAGR  cCON  cOPN  \\\n",
       "2     2.65  3.00  3.15  3.25  4.40     0     1     0     0     1   \n",
       "226   4.30  2.15  3.60  3.30  4.10     1     0     1     0     1   \n",
       "722   1.50  3.80  4.15  3.05  3.95     0     1     1     0     1   \n",
       "1091  3.55  2.30  3.65  4.65  4.60     0     0     1     1     1   \n",
       "1133  3.35  2.30  4.10  2.40  4.50     0     0     1     0     1   \n",
       "1766  2.30  3.50  4.50  2.85  4.50     0     1     1     0     1   \n",
       "1788  4.50  2.75  2.50  3.50  4.25     1     0     0     1     1   \n",
       "2235  2.55  2.85  3.90  2.50  4.40     0     1     1     0     1   \n",
       "2583  4.00  1.65  3.10  3.10  4.50     1     0     0     0     1   \n",
       "2684  2.75  2.50  4.00  3.00  4.75     0     0     1     0     1   \n",
       "3295  2.10  3.00  3.90  4.15  4.80     0     1     1     1     1   \n",
       "4042  3.50  1.60  3.75  3.95  4.00     0     0     1     1     1   \n",
       "4621  4.25  1.55  4.45  4.35  3.80     1     0     1     1     1   \n",
       "4765  3.40  2.80  3.05  3.05  4.35     0     1     0     0     1   \n",
       "5448  3.75  2.35  3.70  4.00  4.20     1     0     1     1     1   \n",
       "5475  2.90  3.75  3.15  3.35  4.75     0     1     0     0     1   \n",
       "5665  3.50  1.75  4.75  3.00  4.25     0     0     1     0     1   \n",
       "5744  3.30  2.80  3.35  4.25  3.50     0     1     0     1     0   \n",
       "5973  4.00  1.95  4.25  3.55  3.45     1     0     1     1     0   \n",
       "6458  2.35  2.10  4.15  3.75  4.80     0     0     1     1     1   \n",
       "6872  3.20  3.30  4.55  3.20  4.45     0     1     1     0     1   \n",
       "7472  4.00  4.00  2.25  4.50  3.25     1     1     0     1     0   \n",
       "7584  4.50  2.75  4.25  5.00  4.75     1     0     1     1     1   \n",
       "7722  4.50  2.25  3.50  3.25  3.75     1     0     0     0     0   \n",
       "8647  2.25  3.50  3.25  2.75  2.25     0     1     0     0     0   \n",
       "8709  2.65  1.70  3.95  3.00  3.15     0     0     1     0     0   \n",
       "8713  3.25  1.75  3.75  4.75  4.25     0     0     1     1     1   \n",
       "9293  1.90  2.70  4.10  4.20  4.45     0     0     1     1     1   \n",
       "\n",
       "                   DATE  status_length  status_word_count hearts  \n",
       "2     06/15/09 01:15 PM            121                 26     <3  \n",
       "226   01/13/10 02:10 AM             29                  5     <3  \n",
       "722   08/14/09 06:21 AM             19                  4     <3  \n",
       "1091  12/28/09 05:34 AM             48                 10     <3  \n",
       "1133  06/25/09 04:15 AM             41                  7     <3  \n",
       "1766  12/03/09 07:43 AM              2                  1     <3  \n",
       "1788  06/21/09 08:12 PM             59                 11     <3  \n",
       "2235  09/11/09 08:29 PM            257                 40     <3  \n",
       "2583  12/25/09 06:17 PM             29                  6     <3  \n",
       "2684  09/08/09 08:36 AM             76                 13     <3  \n",
       "3295  10/08/09 02:25 PM             22                  6     <3  \n",
       "4042  06/27/09 07:20 PM             17                  3     <3  \n",
       "4621  07/05/09 01:13 AM             69                 11     <3  \n",
       "4765  07/11/09 05:01 AM             33                  7     <3  \n",
       "5448  12/29/09 04:52 PM            184                 30     <3  \n",
       "5475  06/29/09 05:33 PM             29                  4     <3  \n",
       "5665  07/01/09 10:14 PM              9                  2     <3  \n",
       "5744  07/19/09 09:43 PM             57                  7     <3  \n",
       "5973  06/24/09 03:29 AM             17                  3     <3  \n",
       "6458  01/15/10 07:43 PM             34                  6     <3  \n",
       "6872  08/11/09 08:54 PM             19                  4     <3  \n",
       "7472  10/03/09 04:19 AM             29                  6     <3  \n",
       "7584  08/24/09 06:23 AM             69                 10     <3  \n",
       "7722  12/09/09 09:40 PM            171                 32     <3  \n",
       "8647  09/08/09 04:36 AM             16                  4     <3  \n",
       "8709  12/17/09 07:04 PM             19                  5     <3  \n",
       "8713  08/05/09 04:12 PM            103                 20     <3  \n",
       "9293  11/27/09 08:10 PM             54                 11     <3  "
      ]
     },
     "execution_count": 104,
     "metadata": {},
     "output_type": "execute_result"
    }
   ],
   "source": [
    "df2"
   ]
  },
  {
   "cell_type": "code",
   "execution_count": 103,
   "metadata": {},
   "outputs": [
    {
     "data": {
      "text/plain": [
       "['cEXT', 'cNEU', 'cAGR', 'cCON', 'cOPN']"
      ]
     },
     "execution_count": 103,
     "metadata": {},
     "output_type": "execute_result"
    }
   ],
   "source": [
    "categories"
   ]
  },
  {
   "cell_type": "code",
   "execution_count": 110,
   "metadata": {},
   "outputs": [
    {
     "data": {
      "text/plain": [
       "<AxesSubplot:>"
      ]
     },
     "execution_count": 110,
     "metadata": {},
     "output_type": "execute_result"
    },
    {
     "data": {
      "image/png": "[encoded data removed]",
      "text/plain": [
       "<Figure size 432x288 with 1 Axes>"
      ]
     },
     "metadata": {
      "needs_background": "light"
     },
     "output_type": "display_data"
    }
   ],
   "source": [
    "# No. of users per category\n",
    "df2[categories].sum().plot(kind='bar')"
   ]
  }
 ],
 "metadata": {
  "kernelspec": {
   "display_name": "Python 3",
   "language": "python",
   "name": "python3"
  },
  "language_info": {
   "codemirror_mode": {
    "name": "ipython",
    "version": 3
   },
   "file_extension": ".py",
   "mimetype": "text/x-python",
   "name": "python",
   "nbconvert_exporter": "python",
   "pygments_lexer": "ipython3",
   "version": "3.8.8"
  }
 },
 "nbformat": 4,
 "nbformat_minor": 4
}
