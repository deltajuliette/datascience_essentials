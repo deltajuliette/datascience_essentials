{
 "cells": [
  {
   "cell_type": "code",
   "execution_count": 1,
   "metadata": {},
   "outputs": [],
   "source": [
    "# Import libaries\n",
    "import requests\n",
    "from bs4 import BeautifulSoup\n",
    "import time\n",
    "import pandas as pd"
   ]
  },
  {
   "cell_type": "markdown",
   "metadata": {},
   "source": [
    "### Step 1: Create a soup object from the home page"
   ]
  },
  {
   "cell_type": "code",
   "execution_count": 2,
   "metadata": {},
   "outputs": [],
   "source": [
    "url = 'https://pages.git.generalassemb.ly/rldaggie/for-scraping/'\n",
    "res = requests.get(url)\n",
    "soup = BeautifulSoup(res.content, 'lxml')"
   ]
  },
  {
   "cell_type": "markdown",
   "metadata": {},
   "source": [
    "### Step 2: Scrape the home page soup for every restaurant\n",
    "\n",
    "Note: Your best bet is to create a list of dictionaries, one for each restaurant. Each dictionary contains the restaurant's name and path from the `href`. The result of your scrape should look something like this:\n",
    "\n",
    "```python\n",
    "restaurants = [\n",
    "    {'name': 'A&W Restaurants', 'href': 'restaurants/1.html'}, \n",
    "    {'name': \"Applebee's\", 'href': 'restaurants/2.html'},\n",
    "    ...\n",
    "]\n",
    "```"
   ]
  },
  {
   "cell_type": "code",
   "execution_count": 3,
   "metadata": {},
   "outputs": [
    {
     "data": {
      "text/plain": [
       "[{'name': 'A&W Restaurants', 'href': 'restaurants/1.html'},\n",
       " {'name': \"Applebee's\", 'href': 'restaurants/2.html'},\n",
       " {'name': \"Arby's\", 'href': 'restaurants/3.html'}]"
      ]
     },
     "execution_count": 3,
     "metadata": {},
     "output_type": "execute_result"
    }
   ],
   "source": [
    "# Isolate the table that has all the restaurant links\n",
    "restaurants_table = soup.find('table', {'id': 'restaurants'})\n",
    "\n",
    "# Create an empty list\n",
    "restaurants = []\n",
    "\n",
    "# Loop through each link in the restaurants table\n",
    "for restaurant_link in restaurants_table.find_all('a'):\n",
    "    # Start with an empty dictionary\n",
    "    restaurant = {}\n",
    "    \n",
    "    # Add name\n",
    "    restaurant['name'] = restaurant_link.text\n",
    "    \n",
    "    # Add href\n",
    "    restaurant['href'] = restaurant_link['href']\n",
    "    \n",
    "    # Add restaurant to our list of restaurants\n",
    "    restaurants.append(restaurant)\n",
    "restaurants[:3]"
   ]
  },
  {
   "cell_type": "markdown",
   "metadata": {},
   "source": [
    "### Step 3: Using the `href`, scrape each restaurant's page and create a single list of food dictionaries.\n",
    "\n",
    "Your list of foods should look something like this:\n",
    "```python\n",
    "foods = [\n",
    "    {\n",
    "        'calories': '0',\n",
    "        'carbs': '0',\n",
    "        'category': 'Drinks',\n",
    "        'fat': '0',\n",
    "        'name': 'A&W® Diet Root Beer',\n",
    "        'restaurant': 'A&W Restaurants'\n",
    "    },\n",
    "    {\n",
    "        'calories': '0',\n",
    "        'carbs': '0',\n",
    "        'category': 'Drinks',\n",
    "        'fat': '0',\n",
    "        'name': 'A&W® Diet Root Beer',\n",
    "        'restaurant': 'A&W Restaurants'\n",
    "    },\n",
    "    ...\n",
    "]\n",
    "```\n",
    "\n",
    "**Note**: Remove extra white space from each category"
   ]
  },
  {
   "cell_type": "code",
   "execution_count": 4,
   "metadata": {},
   "outputs": [
    {
     "name": "stdout",
     "output_type": "stream",
     "text": [
      "Scraping A&W Restaurants\n",
      "Scraping Applebee's\n",
      "Scraping Arby's\n",
      "Scraping Atlanta Bread Company\n",
      "Scraping Bojangle's Famous Chicken 'n Biscuits\n",
      "Scraping Buffalo Wild Wings\n",
      "Scraping Burger King\n",
      "Scraping Captain D's\n",
      "Scraping Carl's Jr.\n",
      "Scraping Charley's Grilled Subs\n",
      "Scraping Chick-fil-A\n",
      "Scraping Chili's\n",
      "Scraping Chipotle Mexican Grill\n",
      "Scraping Church's\n",
      "Scraping Corner Bakery Cafe\n",
      "Scraping Dairy Queen\n",
      "Scraping Denny's\n",
      "Scraping El Pollo Loco\n",
      "Scraping FATZ\n",
      "Scraping Fazoli's\n",
      "Scraping Five Guys Burgers and Fries\n",
      "Scraping Golden Chick\n",
      "Scraping Hardee's\n",
      "Scraping IHOP\n",
      "Scraping In-N-Out Burger\n",
      "Scraping Jack in the Box\n",
      "Scraping Jimmy Johns\n",
      "Scraping Joe's Crab Shack\n",
      "Scraping KFC\n",
      "Scraping McDonald's\n",
      "Scraping O'Charley's\n",
      "Scraping Olive Garden\n",
      "Scraping Outback Steakhouse\n",
      "Scraping Panda Express\n",
      "Scraping Panera Bread\n",
      "Scraping Popeye's\n",
      "Scraping Quiznos\n",
      "Scraping Red Robin Gourmet Burgers\n",
      "Scraping Romano's Macaroni Grill\n",
      "Scraping Ruby Tuesday\n",
      "Scraping Subway\n",
      "Scraping Taco Bell\n",
      "Scraping Taco Bueno\n",
      "Scraping Wendy's\n"
     ]
    }
   ],
   "source": [
    "# Start with an empty list\n",
    "foods = []\n",
    "\n",
    "# Loop through each restaurant in the previous step\n",
    "for restaurant in restaurants:\n",
    "    print('Scraping {}'.format(restaurant['name']))\n",
    "    \n",
    "    href = restaurant['href']\n",
    "    restaurant_url = f'https://pages.git.generalassemb.ly/rldaggie/for-scraping/{href}'\n",
    "    \n",
    "    # Use requests library to get the content from each restaurant page\n",
    "    restaurant_res = requests.get(restaurant_url)\n",
    "    \n",
    "    # Create soup object from restauarant html\n",
    "    restaurant_soup = BeautifulSoup(restaurant_res.content, 'lxml')\n",
    "    \n",
    "    # Isolate the foods table from restaurant page\n",
    "    table = restaurant_soup.find('table')\n",
    "    \n",
    "    # Loop through each row in the tbody of the restaurants table\n",
    "    for row in table.find('tbody').find_all('tr'):\n",
    "        # We'll use almost all the <td /> tags for each row, might as well create a variable\n",
    "        cells = row.find_all('td')\n",
    "        \n",
    "        # Start with an empty food dictionary\n",
    "        food = {}\n",
    "        \n",
    "        # Add the restaurant's name (No need for the slug, that was just for scraping purposes)\n",
    "        food['restaurant'] = restaurant['name']\n",
    "        \n",
    "        # Add food name from firs cell\n",
    "        food['name'] = cells[0].text\n",
    "        \n",
    "        # Add category, note the .strip() for removing white space\n",
    "        food['category'] = cells[1].text.strip()\n",
    "        \n",
    "        # Add calories \n",
    "        food['calories'] = cells[2].text\n",
    "        \n",
    "        # Add fat\n",
    "        food['fat'] = cells[3].text\n",
    "        \n",
    "        # Add carbs\n",
    "        food['carbs'] = cells[4].text\n",
    "        \n",
    "        # Add the food dictionary to our list of foods\n",
    "        foods.append(food)\n",
    "        \n",
    "    # Be courteous and throttle your scrapes!\n",
    "    time.sleep(3)"
   ]
  },
  {
   "cell_type": "markdown",
   "metadata": {},
   "source": [
    "### Step 4: Create a pandas DataFrame from your list of foods\n",
    "\n",
    "**Note**: Your DataFrame should have 5,131 rows"
   ]
  },
  {
   "cell_type": "code",
   "execution_count": 5,
   "metadata": {},
   "outputs": [
    {
     "data": {
      "text/html": [
       "<div>\n",
       "<style scoped>\n",
       "    .dataframe tbody tr th:only-of-type {\n",
       "        vertical-align: middle;\n",
       "    }\n",
       "\n",
       "    .dataframe tbody tr th {\n",
       "        vertical-align: top;\n",
       "    }\n",
       "\n",
       "    .dataframe thead th {\n",
       "        text-align: right;\n",
       "    }\n",
       "</style>\n",
       "<table border=\"1\" class=\"dataframe\">\n",
       "  <thead>\n",
       "    <tr style=\"text-align: right;\">\n",
       "      <th></th>\n",
       "      <th>restaurant</th>\n",
       "      <th>name</th>\n",
       "      <th>category</th>\n",
       "      <th>calories</th>\n",
       "      <th>fat</th>\n",
       "      <th>carbs</th>\n",
       "    </tr>\n",
       "  </thead>\n",
       "  <tbody>\n",
       "    <tr>\n",
       "      <td>0</td>\n",
       "      <td>A&amp;W Restaurants</td>\n",
       "      <td>Original Bacon Double Cheeseburger</td>\n",
       "      <td>Burgers</td>\n",
       "      <td>760</td>\n",
       "      <td>45</td>\n",
       "      <td>45</td>\n",
       "    </tr>\n",
       "    <tr>\n",
       "      <td>1</td>\n",
       "      <td>A&amp;W Restaurants</td>\n",
       "      <td>Coney (Chili) Dog</td>\n",
       "      <td>Entrees</td>\n",
       "      <td>340</td>\n",
       "      <td>20</td>\n",
       "      <td>26</td>\n",
       "    </tr>\n",
       "    <tr>\n",
       "      <td>2</td>\n",
       "      <td>A&amp;W Restaurants</td>\n",
       "      <td>Chili Fries</td>\n",
       "      <td>French Fries</td>\n",
       "      <td>370</td>\n",
       "      <td>15</td>\n",
       "      <td>49</td>\n",
       "    </tr>\n",
       "    <tr>\n",
       "      <td>3</td>\n",
       "      <td>A&amp;W Restaurants</td>\n",
       "      <td>Strawberry Milkshake (small)</td>\n",
       "      <td>Shakes</td>\n",
       "      <td>670</td>\n",
       "      <td>29</td>\n",
       "      <td>90</td>\n",
       "    </tr>\n",
       "    <tr>\n",
       "      <td>4</td>\n",
       "      <td>A&amp;W Restaurants</td>\n",
       "      <td>A&amp;W® Root Beer Freeze (large)</td>\n",
       "      <td>Shakes</td>\n",
       "      <td>820</td>\n",
       "      <td>18</td>\n",
       "      <td>150</td>\n",
       "    </tr>\n",
       "  </tbody>\n",
       "</table>\n",
       "</div>"
      ],
      "text/plain": [
       "        restaurant                                name      category calories  \\\n",
       "0  A&W Restaurants  Original Bacon Double Cheeseburger       Burgers      760   \n",
       "1  A&W Restaurants                   Coney (Chili) Dog       Entrees      340   \n",
       "2  A&W Restaurants                         Chili Fries  French Fries      370   \n",
       "3  A&W Restaurants        Strawberry Milkshake (small)        Shakes      670   \n",
       "4  A&W Restaurants       A&W® Root Beer Freeze (large)        Shakes      820   \n",
       "\n",
       "  fat carbs  \n",
       "0  45    45  \n",
       "1  20    26  \n",
       "2  15    49  \n",
       "3  29    90  \n",
       "4  18   150  "
      ]
     },
     "execution_count": 5,
     "metadata": {},
     "output_type": "execute_result"
    }
   ],
   "source": [
    "df = pd.DataFrame(foods)\n",
    "df.head()"
   ]
  },
  {
   "cell_type": "code",
   "execution_count": 6,
   "metadata": {},
   "outputs": [
    {
     "data": {
      "text/plain": [
       "(5131, 6)"
      ]
     },
     "execution_count": 6,
     "metadata": {},
     "output_type": "execute_result"
    }
   ],
   "source": [
    "df.shape"
   ]
  },
  {
   "cell_type": "markdown",
   "metadata": {},
   "source": [
    "### Step 5: Export to csv\n",
    "\n",
    "**Note:** Don't export the index column from your DataFrame"
   ]
  },
  {
   "cell_type": "code",
   "execution_count": 7,
   "metadata": {},
   "outputs": [],
   "source": [
    "df.to_csv('foods.csv', index=False)"
   ]
  }
 ],
 "metadata": {
  "kernelspec": {
   "display_name": "Python 3",
   "language": "python",
   "name": "python3"
  },
  "language_info": {
   "codemirror_mode": {
    "name": "ipython",
    "version": 3
   },
   "file_extension": ".py",
   "mimetype": "text/x-python",
   "name": "python",
   "nbconvert_exporter": "python",
   "pygments_lexer": "ipython3",
   "version": "3.8.8"
  }
 },
 "nbformat": 4,
 "nbformat_minor": 2
}
