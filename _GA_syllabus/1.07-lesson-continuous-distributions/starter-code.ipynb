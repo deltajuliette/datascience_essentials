{
 "cells": [
  {
   "cell_type": "markdown",
   "metadata": {},
   "source": [
    "<img src=\"https://ga-dash.s3.amazonaws.com/production/assets/logo-9f88ae6c9c3871690e33280fcf557f33.png\" style=\"float: left; margin: 15px;\">\n",
    "\n",
    "## Continuous Probability Distributions"
   ]
  },
  {
   "cell_type": "markdown",
   "metadata": {},
   "source": [
    "## LEARNING OBJECTIVES\n",
    "By the end of this lesson, students should be able to:\n",
    "- Give examples of the following distributions: Continuous Uniform, Exponential, Normal, Beta.\n",
    "- Describe why the Normal distribution is seen everywhere.\n",
    "- State the Central Limit Theorem."
   ]
  },
  {
   "cell_type": "markdown",
   "metadata": {},
   "source": [
    "## Recap\n"
   ]
  },
  {
   "cell_type": "markdown",
   "metadata": {},
   "source": [
    "**Check**: What is a distribution?\n",
    "<details><summary>Answer</summary>\n",
    "\n",
    "- A distribution is the set of all values of a variable and how frequently we observe each value.\n",
    "</details>"
   ]
  },
  {
   "cell_type": "markdown",
   "metadata": {},
   "source": [
    "**Check**: What is the difference between a continuous random variable and discrete random variable?\n",
    "<details><summary>Answer</summary>\n",
    "    \n",
    "- A continuous random variable takes on an uncountably infinite number of values. \n",
    "- A discrete random variable takes on a countable number of values.\n",
    "</details>"
   ]
  },
  {
   "cell_type": "markdown",
   "metadata": {},
   "source": [
    "**(BONUS) Check**: Describe these distributions:\n",
    "- Discrete Uniform\n",
    "- Bernoulli\n",
    "- Binomial\n",
    "- Poisson\n",
    "\n",
    "<details><summary>Answer</summary>\n",
    "\n",
    "- A discrete uniform distribution takes on a range of values that are all equally likely. \n",
    "    -  Example: the value from rolling one die.\n",
    "- A Bernoulli distribution has two outcomes, usually called \"success\" and \"failure.\" The only parameter is the probability of success $p$.\n",
    "    - Example: the number of heads flipped when flipping one coin.\n",
    "- A Binomial distribution counts the number of successes we observe in a fixed number of $n$ independent Bernoulli trials. \n",
    "    - Example: the number of heads flipped when flipping fifty coins.\n",
    "- A Poisson distribution counts the number of successes we observe in a fixed ~amount of time~ **_INTERVAL_**.\n",
    "    - Example: the number of cars that enter a toll road in an hour.\n",
    "    - Example: the number of people in a U.S. household.\n",
    "</details>"
   ]
  },
  {
   "cell_type": "markdown",
   "metadata": {},
   "source": [
    "![](images/box-quote.jpg)"
   ]
  },
  {
   "cell_type": "markdown",
   "metadata": {},
   "source": [
    "Earlier, we spoke about the **discrete uniform** distribution, where each outcome is equally likely.\n",
    "\n",
    "This is the **probability mass function** of a discrete uniform.\n",
    "- Remember that a probability mass function shows us the probability that our random variable takes on a specific value.\n",
    "\n",
    "<img src=\"./images/discrete_uniform_pmf.png\" alt=\"discrete uniform pmf\" width=\"700\"/>\n",
    "\n",
    "This is the **cumulative distribution function** of a discrete uniform.\n",
    "- Remember that a cumulative distribution function shows us the probability that our random variable takes on any value less than or equal to a specific value.\n",
    "\n",
    "<img src=\"./images/discrete_uniform_cdf.png\" alt=\"discrete uniform cdf\" width=\"700\"/>\n",
    "\n",
    "$$\n",
    "\\begin{eqnarray*}\n",
    "\\text{probability mass function}: P(X = x) \\\\\n",
    "\\text{cumulative distribution function}: P(X \\le x)\n",
    "\\end{eqnarray*}\n",
    "$$\n",
    "\n",
    "---\n",
    "\n",
    "# Continuous Distributions!\n",
    "\n",
    "One small notation difference: when dealing with continuous distributions, we use **probability density functions**, not probability mass functions.\n",
    "- This has to do with how probability is defined.\n",
    "\n",
    "## The Continuous Uniform distribution\n",
    "\n",
    "When dealing with an uncountably infinite range of outcomes, we might use a **continuous uniform** instead of a discrete uniform distribution.\n",
    "\n",
    "Parameters of the distribution:\n",
    "\n",
    "- $a$, the minimum value of the distribution.\n",
    "- $b$, the maximum value of the distribution.\n",
    "\n",
    "#### Continuous Uniform pdf\n",
    "\n",
    "The Continuous Uniform pdf is defined as:\n",
    "\n",
    "$$ f(x) = \\frac{1}{b-a} $$\n",
    "\n",
    "One of the most common examples of this is where we want to randomly sample a number between 0 and 1.\n",
    "- This is incredibly valuable if we want to model some complex process through random simulations."
   ]
  },
  {
   "cell_type": "markdown",
   "metadata": {},
   "source": [
    "**Check:**\n",
    "<details><summary> Since we know what a discrete uniform pmf looks like, what do you expect the shape of a continuous uniform pdf to look like?</summary>\n",
    "    \n",
    "- [Head to this site!](http://students.brown.edu/seeing-theory/probability-distributions/index.html#section2)\n",
    "</details>"
   ]
  },
  {
   "cell_type": "markdown",
   "metadata": {},
   "source": [
    "## The Exponential distribution\n",
    "\n",
    "When do we use the Exponential distribution?\n",
    "- We commonly use the Exponential distribution when we are interested in modeling the **amount of time until a success occurs**.\n",
    "\n",
    "Since time is continuous, the exponential distribution is a continuous distribution.\n",
    "\n",
    "Parameters of the distribution:\n",
    "\n",
    "- $\\beta$, the average time to an event."
   ]
  },
  {
   "cell_type": "markdown",
   "metadata": {},
   "source": [
    "<details><summary>Based on historical data, we see an average of 10 buses per hour. From this, how long do you think it will take on average for a new bus to arrive?</summary>\n",
    "\n",
    "- 6 minutes.\n",
    "\n",
    "$$\n",
    "\\begin{eqnarray*}\n",
    "\\frac{\\text{10 buses}}{\\text{1 hour}} = \\frac{\\text{10 buses}}{\\text{60 minutes}} = \\frac{\\text{1 bus}}{\\text{6 minutes}}\n",
    "\\end{eqnarray*}\n",
    "$$\n",
    "</details>"
   ]
  },
  {
   "cell_type": "markdown",
   "metadata": {},
   "source": [
    "#### Exponential pdf\n",
    "\n",
    "Let $X \\sim \\text{Exp}(\\beta)$.\n",
    "\n",
    "The exponential pdf is defined as:\n",
    "\n",
    "$$ f(x) = \\frac{1}{\\beta}  e^{-x/\\beta} $$\n",
    "\n",
    "In this case, $x$ is the time elapsed."
   ]
  },
  {
   "cell_type": "code",
   "execution_count": 1,
   "metadata": {},
   "outputs": [],
   "source": [
    "import numpy as np\n",
    "from scipy import stats\n",
    "import seaborn as sns\n",
    "import matplotlib.pyplot as plt"
   ]
  },
  {
   "cell_type": "code",
   "execution_count": 6,
   "metadata": {},
   "outputs": [],
   "source": [
    "# A short function which plots a random variable's pdf (or cdf!) from\n",
    "# limits lb (lower bound) to ub (upper bound) #rv = random variable, lb/ub = upper/lower bound\n",
    "def plot_distn(rv, lb, ub, kind=\"pdf\"):\n",
    "    xs = np.linspace(lb, ub, 1000)\n",
    "    \n",
    "    if kind == \"pdf\":\n",
    "        ys = rv.pdf(xs)\n",
    "    elif kind == \"cdf\":\n",
    "        ys = rv.cdf(xs)\n",
    "        \n",
    "    plt.figure(figsize=(14, 5))\n",
    "    plt.plot(xs, ys, linewidth=3, color=\"navy\")"
   ]
  },
  {
   "cell_type": "code",
   "execution_count": 3,
   "metadata": {},
   "outputs": [
    {
     "data": {
      "text/plain": [
       "array([ 0.        ,  0.06006006,  0.12012012,  0.18018018,  0.24024024,\n",
       "        0.3003003 ,  0.36036036,  0.42042042,  0.48048048,  0.54054054,\n",
       "        0.6006006 ,  0.66066066,  0.72072072,  0.78078078,  0.84084084,\n",
       "        0.9009009 ,  0.96096096,  1.02102102,  1.08108108,  1.14114114,\n",
       "        1.2012012 ,  1.26126126,  1.32132132,  1.38138138,  1.44144144,\n",
       "        1.5015015 ,  1.56156156,  1.62162162,  1.68168168,  1.74174174,\n",
       "        1.8018018 ,  1.86186186,  1.92192192,  1.98198198,  2.04204204,\n",
       "        2.1021021 ,  2.16216216,  2.22222222,  2.28228228,  2.34234234,\n",
       "        2.4024024 ,  2.46246246,  2.52252252,  2.58258258,  2.64264264,\n",
       "        2.7027027 ,  2.76276276,  2.82282282,  2.88288288,  2.94294294,\n",
       "        3.003003  ,  3.06306306,  3.12312312,  3.18318318,  3.24324324,\n",
       "        3.3033033 ,  3.36336336,  3.42342342,  3.48348348,  3.54354354,\n",
       "        3.6036036 ,  3.66366366,  3.72372372,  3.78378378,  3.84384384,\n",
       "        3.9039039 ,  3.96396396,  4.02402402,  4.08408408,  4.14414414,\n",
       "        4.2042042 ,  4.26426426,  4.32432432,  4.38438438,  4.44444444,\n",
       "        4.5045045 ,  4.56456456,  4.62462462,  4.68468468,  4.74474474,\n",
       "        4.8048048 ,  4.86486486,  4.92492492,  4.98498498,  5.04504505,\n",
       "        5.10510511,  5.16516517,  5.22522523,  5.28528529,  5.34534535,\n",
       "        5.40540541,  5.46546547,  5.52552553,  5.58558559,  5.64564565,\n",
       "        5.70570571,  5.76576577,  5.82582583,  5.88588589,  5.94594595,\n",
       "        6.00600601,  6.06606607,  6.12612613,  6.18618619,  6.24624625,\n",
       "        6.30630631,  6.36636637,  6.42642643,  6.48648649,  6.54654655,\n",
       "        6.60660661,  6.66666667,  6.72672673,  6.78678679,  6.84684685,\n",
       "        6.90690691,  6.96696697,  7.02702703,  7.08708709,  7.14714715,\n",
       "        7.20720721,  7.26726727,  7.32732733,  7.38738739,  7.44744745,\n",
       "        7.50750751,  7.56756757,  7.62762763,  7.68768769,  7.74774775,\n",
       "        7.80780781,  7.86786787,  7.92792793,  7.98798799,  8.04804805,\n",
       "        8.10810811,  8.16816817,  8.22822823,  8.28828829,  8.34834835,\n",
       "        8.40840841,  8.46846847,  8.52852853,  8.58858859,  8.64864865,\n",
       "        8.70870871,  8.76876877,  8.82882883,  8.88888889,  8.94894895,\n",
       "        9.00900901,  9.06906907,  9.12912913,  9.18918919,  9.24924925,\n",
       "        9.30930931,  9.36936937,  9.42942943,  9.48948949,  9.54954955,\n",
       "        9.60960961,  9.66966967,  9.72972973,  9.78978979,  9.84984985,\n",
       "        9.90990991,  9.96996997, 10.03003003, 10.09009009, 10.15015015,\n",
       "       10.21021021, 10.27027027, 10.33033033, 10.39039039, 10.45045045,\n",
       "       10.51051051, 10.57057057, 10.63063063, 10.69069069, 10.75075075,\n",
       "       10.81081081, 10.87087087, 10.93093093, 10.99099099, 11.05105105,\n",
       "       11.11111111, 11.17117117, 11.23123123, 11.29129129, 11.35135135,\n",
       "       11.41141141, 11.47147147, 11.53153153, 11.59159159, 11.65165165,\n",
       "       11.71171171, 11.77177177, 11.83183183, 11.89189189, 11.95195195,\n",
       "       12.01201201, 12.07207207, 12.13213213, 12.19219219, 12.25225225,\n",
       "       12.31231231, 12.37237237, 12.43243243, 12.49249249, 12.55255255,\n",
       "       12.61261261, 12.67267267, 12.73273273, 12.79279279, 12.85285285,\n",
       "       12.91291291, 12.97297297, 13.03303303, 13.09309309, 13.15315315,\n",
       "       13.21321321, 13.27327327, 13.33333333, 13.39339339, 13.45345345,\n",
       "       13.51351351, 13.57357357, 13.63363363, 13.69369369, 13.75375375,\n",
       "       13.81381381, 13.87387387, 13.93393393, 13.99399399, 14.05405405,\n",
       "       14.11411411, 14.17417417, 14.23423423, 14.29429429, 14.35435435,\n",
       "       14.41441441, 14.47447447, 14.53453453, 14.59459459, 14.65465465,\n",
       "       14.71471471, 14.77477477, 14.83483483, 14.89489489, 14.95495495,\n",
       "       15.01501502, 15.07507508, 15.13513514, 15.1951952 , 15.25525526,\n",
       "       15.31531532, 15.37537538, 15.43543544, 15.4954955 , 15.55555556,\n",
       "       15.61561562, 15.67567568, 15.73573574, 15.7957958 , 15.85585586,\n",
       "       15.91591592, 15.97597598, 16.03603604, 16.0960961 , 16.15615616,\n",
       "       16.21621622, 16.27627628, 16.33633634, 16.3963964 , 16.45645646,\n",
       "       16.51651652, 16.57657658, 16.63663664, 16.6966967 , 16.75675676,\n",
       "       16.81681682, 16.87687688, 16.93693694, 16.996997  , 17.05705706,\n",
       "       17.11711712, 17.17717718, 17.23723724, 17.2972973 , 17.35735736,\n",
       "       17.41741742, 17.47747748, 17.53753754, 17.5975976 , 17.65765766,\n",
       "       17.71771772, 17.77777778, 17.83783784, 17.8978979 , 17.95795796,\n",
       "       18.01801802, 18.07807808, 18.13813814, 18.1981982 , 18.25825826,\n",
       "       18.31831832, 18.37837838, 18.43843844, 18.4984985 , 18.55855856,\n",
       "       18.61861862, 18.67867868, 18.73873874, 18.7987988 , 18.85885886,\n",
       "       18.91891892, 18.97897898, 19.03903904, 19.0990991 , 19.15915916,\n",
       "       19.21921922, 19.27927928, 19.33933934, 19.3993994 , 19.45945946,\n",
       "       19.51951952, 19.57957958, 19.63963964, 19.6996997 , 19.75975976,\n",
       "       19.81981982, 19.87987988, 19.93993994, 20.        , 20.06006006,\n",
       "       20.12012012, 20.18018018, 20.24024024, 20.3003003 , 20.36036036,\n",
       "       20.42042042, 20.48048048, 20.54054054, 20.6006006 , 20.66066066,\n",
       "       20.72072072, 20.78078078, 20.84084084, 20.9009009 , 20.96096096,\n",
       "       21.02102102, 21.08108108, 21.14114114, 21.2012012 , 21.26126126,\n",
       "       21.32132132, 21.38138138, 21.44144144, 21.5015015 , 21.56156156,\n",
       "       21.62162162, 21.68168168, 21.74174174, 21.8018018 , 21.86186186,\n",
       "       21.92192192, 21.98198198, 22.04204204, 22.1021021 , 22.16216216,\n",
       "       22.22222222, 22.28228228, 22.34234234, 22.4024024 , 22.46246246,\n",
       "       22.52252252, 22.58258258, 22.64264264, 22.7027027 , 22.76276276,\n",
       "       22.82282282, 22.88288288, 22.94294294, 23.003003  , 23.06306306,\n",
       "       23.12312312, 23.18318318, 23.24324324, 23.3033033 , 23.36336336,\n",
       "       23.42342342, 23.48348348, 23.54354354, 23.6036036 , 23.66366366,\n",
       "       23.72372372, 23.78378378, 23.84384384, 23.9039039 , 23.96396396,\n",
       "       24.02402402, 24.08408408, 24.14414414, 24.2042042 , 24.26426426,\n",
       "       24.32432432, 24.38438438, 24.44444444, 24.5045045 , 24.56456456,\n",
       "       24.62462462, 24.68468468, 24.74474474, 24.8048048 , 24.86486486,\n",
       "       24.92492492, 24.98498498, 25.04504505, 25.10510511, 25.16516517,\n",
       "       25.22522523, 25.28528529, 25.34534535, 25.40540541, 25.46546547,\n",
       "       25.52552553, 25.58558559, 25.64564565, 25.70570571, 25.76576577,\n",
       "       25.82582583, 25.88588589, 25.94594595, 26.00600601, 26.06606607,\n",
       "       26.12612613, 26.18618619, 26.24624625, 26.30630631, 26.36636637,\n",
       "       26.42642643, 26.48648649, 26.54654655, 26.60660661, 26.66666667,\n",
       "       26.72672673, 26.78678679, 26.84684685, 26.90690691, 26.96696697,\n",
       "       27.02702703, 27.08708709, 27.14714715, 27.20720721, 27.26726727,\n",
       "       27.32732733, 27.38738739, 27.44744745, 27.50750751, 27.56756757,\n",
       "       27.62762763, 27.68768769, 27.74774775, 27.80780781, 27.86786787,\n",
       "       27.92792793, 27.98798799, 28.04804805, 28.10810811, 28.16816817,\n",
       "       28.22822823, 28.28828829, 28.34834835, 28.40840841, 28.46846847,\n",
       "       28.52852853, 28.58858859, 28.64864865, 28.70870871, 28.76876877,\n",
       "       28.82882883, 28.88888889, 28.94894895, 29.00900901, 29.06906907,\n",
       "       29.12912913, 29.18918919, 29.24924925, 29.30930931, 29.36936937,\n",
       "       29.42942943, 29.48948949, 29.54954955, 29.60960961, 29.66966967,\n",
       "       29.72972973, 29.78978979, 29.84984985, 29.90990991, 29.96996997,\n",
       "       30.03003003, 30.09009009, 30.15015015, 30.21021021, 30.27027027,\n",
       "       30.33033033, 30.39039039, 30.45045045, 30.51051051, 30.57057057,\n",
       "       30.63063063, 30.69069069, 30.75075075, 30.81081081, 30.87087087,\n",
       "       30.93093093, 30.99099099, 31.05105105, 31.11111111, 31.17117117,\n",
       "       31.23123123, 31.29129129, 31.35135135, 31.41141141, 31.47147147,\n",
       "       31.53153153, 31.59159159, 31.65165165, 31.71171171, 31.77177177,\n",
       "       31.83183183, 31.89189189, 31.95195195, 32.01201201, 32.07207207,\n",
       "       32.13213213, 32.19219219, 32.25225225, 32.31231231, 32.37237237,\n",
       "       32.43243243, 32.49249249, 32.55255255, 32.61261261, 32.67267267,\n",
       "       32.73273273, 32.79279279, 32.85285285, 32.91291291, 32.97297297,\n",
       "       33.03303303, 33.09309309, 33.15315315, 33.21321321, 33.27327327,\n",
       "       33.33333333, 33.39339339, 33.45345345, 33.51351351, 33.57357357,\n",
       "       33.63363363, 33.69369369, 33.75375375, 33.81381381, 33.87387387,\n",
       "       33.93393393, 33.99399399, 34.05405405, 34.11411411, 34.17417417,\n",
       "       34.23423423, 34.29429429, 34.35435435, 34.41441441, 34.47447447,\n",
       "       34.53453453, 34.59459459, 34.65465465, 34.71471471, 34.77477477,\n",
       "       34.83483483, 34.89489489, 34.95495495, 35.01501502, 35.07507508,\n",
       "       35.13513514, 35.1951952 , 35.25525526, 35.31531532, 35.37537538,\n",
       "       35.43543544, 35.4954955 , 35.55555556, 35.61561562, 35.67567568,\n",
       "       35.73573574, 35.7957958 , 35.85585586, 35.91591592, 35.97597598,\n",
       "       36.03603604, 36.0960961 , 36.15615616, 36.21621622, 36.27627628,\n",
       "       36.33633634, 36.3963964 , 36.45645646, 36.51651652, 36.57657658,\n",
       "       36.63663664, 36.6966967 , 36.75675676, 36.81681682, 36.87687688,\n",
       "       36.93693694, 36.996997  , 37.05705706, 37.11711712, 37.17717718,\n",
       "       37.23723724, 37.2972973 , 37.35735736, 37.41741742, 37.47747748,\n",
       "       37.53753754, 37.5975976 , 37.65765766, 37.71771772, 37.77777778,\n",
       "       37.83783784, 37.8978979 , 37.95795796, 38.01801802, 38.07807808,\n",
       "       38.13813814, 38.1981982 , 38.25825826, 38.31831832, 38.37837838,\n",
       "       38.43843844, 38.4984985 , 38.55855856, 38.61861862, 38.67867868,\n",
       "       38.73873874, 38.7987988 , 38.85885886, 38.91891892, 38.97897898,\n",
       "       39.03903904, 39.0990991 , 39.15915916, 39.21921922, 39.27927928,\n",
       "       39.33933934, 39.3993994 , 39.45945946, 39.51951952, 39.57957958,\n",
       "       39.63963964, 39.6996997 , 39.75975976, 39.81981982, 39.87987988,\n",
       "       39.93993994, 40.        , 40.06006006, 40.12012012, 40.18018018,\n",
       "       40.24024024, 40.3003003 , 40.36036036, 40.42042042, 40.48048048,\n",
       "       40.54054054, 40.6006006 , 40.66066066, 40.72072072, 40.78078078,\n",
       "       40.84084084, 40.9009009 , 40.96096096, 41.02102102, 41.08108108,\n",
       "       41.14114114, 41.2012012 , 41.26126126, 41.32132132, 41.38138138,\n",
       "       41.44144144, 41.5015015 , 41.56156156, 41.62162162, 41.68168168,\n",
       "       41.74174174, 41.8018018 , 41.86186186, 41.92192192, 41.98198198,\n",
       "       42.04204204, 42.1021021 , 42.16216216, 42.22222222, 42.28228228,\n",
       "       42.34234234, 42.4024024 , 42.46246246, 42.52252252, 42.58258258,\n",
       "       42.64264264, 42.7027027 , 42.76276276, 42.82282282, 42.88288288,\n",
       "       42.94294294, 43.003003  , 43.06306306, 43.12312312, 43.18318318,\n",
       "       43.24324324, 43.3033033 , 43.36336336, 43.42342342, 43.48348348,\n",
       "       43.54354354, 43.6036036 , 43.66366366, 43.72372372, 43.78378378,\n",
       "       43.84384384, 43.9039039 , 43.96396396, 44.02402402, 44.08408408,\n",
       "       44.14414414, 44.2042042 , 44.26426426, 44.32432432, 44.38438438,\n",
       "       44.44444444, 44.5045045 , 44.56456456, 44.62462462, 44.68468468,\n",
       "       44.74474474, 44.8048048 , 44.86486486, 44.92492492, 44.98498498,\n",
       "       45.04504505, 45.10510511, 45.16516517, 45.22522523, 45.28528529,\n",
       "       45.34534535, 45.40540541, 45.46546547, 45.52552553, 45.58558559,\n",
       "       45.64564565, 45.70570571, 45.76576577, 45.82582583, 45.88588589,\n",
       "       45.94594595, 46.00600601, 46.06606607, 46.12612613, 46.18618619,\n",
       "       46.24624625, 46.30630631, 46.36636637, 46.42642643, 46.48648649,\n",
       "       46.54654655, 46.60660661, 46.66666667, 46.72672673, 46.78678679,\n",
       "       46.84684685, 46.90690691, 46.96696697, 47.02702703, 47.08708709,\n",
       "       47.14714715, 47.20720721, 47.26726727, 47.32732733, 47.38738739,\n",
       "       47.44744745, 47.50750751, 47.56756757, 47.62762763, 47.68768769,\n",
       "       47.74774775, 47.80780781, 47.86786787, 47.92792793, 47.98798799,\n",
       "       48.04804805, 48.10810811, 48.16816817, 48.22822823, 48.28828829,\n",
       "       48.34834835, 48.40840841, 48.46846847, 48.52852853, 48.58858859,\n",
       "       48.64864865, 48.70870871, 48.76876877, 48.82882883, 48.88888889,\n",
       "       48.94894895, 49.00900901, 49.06906907, 49.12912913, 49.18918919,\n",
       "       49.24924925, 49.30930931, 49.36936937, 49.42942943, 49.48948949,\n",
       "       49.54954955, 49.60960961, 49.66966967, 49.72972973, 49.78978979,\n",
       "       49.84984985, 49.90990991, 49.96996997, 50.03003003, 50.09009009,\n",
       "       50.15015015, 50.21021021, 50.27027027, 50.33033033, 50.39039039,\n",
       "       50.45045045, 50.51051051, 50.57057057, 50.63063063, 50.69069069,\n",
       "       50.75075075, 50.81081081, 50.87087087, 50.93093093, 50.99099099,\n",
       "       51.05105105, 51.11111111, 51.17117117, 51.23123123, 51.29129129,\n",
       "       51.35135135, 51.41141141, 51.47147147, 51.53153153, 51.59159159,\n",
       "       51.65165165, 51.71171171, 51.77177177, 51.83183183, 51.89189189,\n",
       "       51.95195195, 52.01201201, 52.07207207, 52.13213213, 52.19219219,\n",
       "       52.25225225, 52.31231231, 52.37237237, 52.43243243, 52.49249249,\n",
       "       52.55255255, 52.61261261, 52.67267267, 52.73273273, 52.79279279,\n",
       "       52.85285285, 52.91291291, 52.97297297, 53.03303303, 53.09309309,\n",
       "       53.15315315, 53.21321321, 53.27327327, 53.33333333, 53.39339339,\n",
       "       53.45345345, 53.51351351, 53.57357357, 53.63363363, 53.69369369,\n",
       "       53.75375375, 53.81381381, 53.87387387, 53.93393393, 53.99399399,\n",
       "       54.05405405, 54.11411411, 54.17417417, 54.23423423, 54.29429429,\n",
       "       54.35435435, 54.41441441, 54.47447447, 54.53453453, 54.59459459,\n",
       "       54.65465465, 54.71471471, 54.77477477, 54.83483483, 54.89489489,\n",
       "       54.95495495, 55.01501502, 55.07507508, 55.13513514, 55.1951952 ,\n",
       "       55.25525526, 55.31531532, 55.37537538, 55.43543544, 55.4954955 ,\n",
       "       55.55555556, 55.61561562, 55.67567568, 55.73573574, 55.7957958 ,\n",
       "       55.85585586, 55.91591592, 55.97597598, 56.03603604, 56.0960961 ,\n",
       "       56.15615616, 56.21621622, 56.27627628, 56.33633634, 56.3963964 ,\n",
       "       56.45645646, 56.51651652, 56.57657658, 56.63663664, 56.6966967 ,\n",
       "       56.75675676, 56.81681682, 56.87687688, 56.93693694, 56.996997  ,\n",
       "       57.05705706, 57.11711712, 57.17717718, 57.23723724, 57.2972973 ,\n",
       "       57.35735736, 57.41741742, 57.47747748, 57.53753754, 57.5975976 ,\n",
       "       57.65765766, 57.71771772, 57.77777778, 57.83783784, 57.8978979 ,\n",
       "       57.95795796, 58.01801802, 58.07807808, 58.13813814, 58.1981982 ,\n",
       "       58.25825826, 58.31831832, 58.37837838, 58.43843844, 58.4984985 ,\n",
       "       58.55855856, 58.61861862, 58.67867868, 58.73873874, 58.7987988 ,\n",
       "       58.85885886, 58.91891892, 58.97897898, 59.03903904, 59.0990991 ,\n",
       "       59.15915916, 59.21921922, 59.27927928, 59.33933934, 59.3993994 ,\n",
       "       59.45945946, 59.51951952, 59.57957958, 59.63963964, 59.6996997 ,\n",
       "       59.75975976, 59.81981982, 59.87987988, 59.93993994, 60.        ])"
      ]
     },
     "execution_count": 3,
     "metadata": {},
     "output_type": "execute_result"
    }
   ],
   "source": [
    "# Thanks to scipy, we can have a sort of random variable object\n",
    "np.linspace(0, 60, 1000)"
   ]
  },
  {
   "cell_type": "code",
   "execution_count": 8,
   "metadata": {},
   "outputs": [
    {
     "name": "stdout",
     "output_type": "stream",
     "text": [
      "6.0\n"
     ]
    },
    {
     "data": {
      "image/png": "[encoded data removed]",
      "text/plain": [
       "<Figure size 1008x360 with 1 Axes>"
      ]
     },
     "metadata": {
      "needs_background": "light"
     },
     "output_type": "display_data"
    }
   ],
   "source": [
    "# They have lots of interesting methods\n",
    "X = stats.expon(scale=6) #\n",
    "plot_distn(X, 0, 60)\n",
    "print(X.mean())"
   ]
  },
  {
   "cell_type": "markdown",
   "metadata": {},
   "source": [
    "It's generally easier to use the cumulative distribution function to find specific probabilities. (e.g. \"What is the probability that the next bus takes at least 5 but less than 10 minutes to show up?\")"
   ]
  },
  {
   "cell_type": "markdown",
   "metadata": {},
   "source": [
    "#### Exponential cdf\n",
    "\n",
    "Let $X \\sim \\text{Exp}(\\beta)$.\n",
    "\n",
    "The cumulative density function is:\n",
    "\n",
    "$$ F(x) = P(X \\le x) = 1 -  e^{-x/\\beta} $$\n",
    "\n",
    "With the same example, our cumulative distribution function looks like:"
   ]
  },
  {
   "cell_type": "code",
   "execution_count": 9,
   "metadata": {
    "scrolled": true
   },
   "outputs": [
    {
     "data": {
      "image/png": "[encoded data removed]",
      "text/plain": [
       "<Figure size 1008x360 with 1 Axes>"
      ]
     },
     "metadata": {
      "needs_background": "light"
     },
     "output_type": "display_data"
    }
   ],
   "source": [
    "plot_distn(X, 0, 60, kind='cdf')"
   ]
  },
  {
   "cell_type": "code",
   "execution_count": 10,
   "metadata": {},
   "outputs": [
    {
     "data": {
      "text/plain": [
       "0.8111243971624382"
      ]
     },
     "execution_count": 10,
     "metadata": {},
     "output_type": "execute_result"
    }
   ],
   "source": [
    "# What is the probability that our next bus shows\n",
    "# up in 10 minutes or less?\n",
    "X.cdf(10)"
   ]
  },
  {
   "cell_type": "code",
   "execution_count": 11,
   "metadata": {},
   "outputs": [
    {
     "data": {
      "text/plain": [
       "0.18887560283756177"
      ]
     },
     "execution_count": 11,
     "metadata": {},
     "output_type": "execute_result"
    }
   ],
   "source": [
    "# What is the probability that our next bus takes\n",
    "# more than 10 minutes to show up?\n",
    "1 - X.cdf(10)"
   ]
  },
  {
   "cell_type": "code",
   "execution_count": 13,
   "metadata": {},
   "outputs": [
    {
     "data": {
      "text/plain": [
       "0.24572260566951643"
      ]
     },
     "execution_count": 13,
     "metadata": {},
     "output_type": "execute_result"
    }
   ],
   "source": [
    "# What is the probability that our next bus shows\n",
    "# up in more than 5 minutes but less than 10 minutes?\n",
    "X.cdf(10) - X.cdf(5)"
   ]
  },
  {
   "cell_type": "code",
   "execution_count": 15,
   "metadata": {},
   "outputs": [
    {
     "data": {
      "image/png": "[encoded data removed]",
      "text/plain": [
       "<Figure size 720x288 with 1 Axes>"
      ]
     },
     "metadata": {
      "needs_background": "light"
     },
     "output_type": "display_data"
    }
   ],
   "source": [
    "# Sample 10,000 Exp(10) random variables and plot the most beautiful histogram you can.\n",
    "X = stats.expon(scale=10)\n",
    "xs = X.rvs(10**4) #.rvs is random variables\n",
    "plt.figure(figsize = (10, 4))\n",
    "plt.hist(xs, bins=100, color='red')\n",
    "plt.xlim(0, 80)\n",
    "plt.show()"
   ]
  },
  {
   "cell_type": "markdown",
   "metadata": {},
   "source": [
    "## The Gamma distribution\n",
    "The exponential distribution is actually a _special case_ of the Gamma distribution. That is, if you have $\\alpha$ exponential distributions with the same $\\beta$, their sum is $\\text{Gamma}(\\alpha, \\beta)$.\n",
    "\n",
    "$$ f(x) = \\frac{1}{\\Gamma(\\alpha)\\beta^\\alpha} x^{\\alpha - 1} e^{-x/\\beta} $$\n",
    "\n",
    "The cdf has no closed form.\n",
    "\n",
    "#### Example:\n",
    "Suppose a lightbulb lasts on average 12 months. Once it dies, you replace it with a lightbulb of the same brand. How long will it take to go through 5 lightbulbs? You might model this with $\\text{Gamma}(5, 12)$."
   ]
  },
  {
   "cell_type": "markdown",
   "metadata": {},
   "source": [
    "## Using Data\n",
    "Why do we study distributions like this? If we can safely **_assume_** data follow a certain distribution, we can use their distributional properties (pdf, cdf, mean, variance, etc). To make real-world statements about them.\n",
    "\n",
    "For example, let's say the following matrix is output from a software that measures employee efficiency when completing a task. Each column represents the time (in minutes) it took to produce one widget. Each employee produced five widgets, one after the other. For simplicity's sake, assume each employee is at the same skill level, and they do not experience fatigue."
   ]
  },
  {
   "cell_type": "code",
   "execution_count": 16,
   "metadata": {},
   "outputs": [],
   "source": [
    "times = np.load(\"./data/efficiency.npy\")"
   ]
  },
  {
   "cell_type": "code",
   "execution_count": 20,
   "metadata": {},
   "outputs": [
    {
     "name": "stdout",
     "output_type": "stream",
     "text": [
      "[[ 0.13  3.95  5.89  0.75  6.51]\n",
      " [ 1.67 11.86  4.03  8.73  1.59]\n",
      " [ 1.85  0.53  1.64  3.71 13.87]\n",
      " [ 2.98  1.12  3.08  3.87  7.66]\n",
      " [ 0.37 11.61  6.27 14.64  0.82]\n",
      " [ 7.77 15.11 11.63  0.66  3.45]\n",
      " [ 1.54  3.8   6.94  9.06  2.75]\n",
      " [ 0.88  4.05  0.5   0.69  4.33]\n",
      " [ 4.11 11.71  1.92  0.58  7.74]\n",
      " [ 9.21  0.98  0.73  7.52  2.9 ]\n",
      " [ 4.75  1.79 11.45  5.57  0.17]\n",
      " [ 1.77  0.97  5.98 12.69  9.44]\n",
      " [ 4.05  0.46  0.68  0.51  1.9 ]\n",
      " [ 0.81 11.35  4.7   4.36 17.56]\n",
      " [ 5.9   5.57  5.95  2.35 15.97]\n",
      " [ 4.35  3.55  7.77  0.19  4.07]\n",
      " [ 4.95 13.62  3.33 17.01 13.45]\n",
      " [ 4.44 18.61  2.77  0.99 29.02]\n",
      " [ 0.77  1.58  1.16 15.63 14.7 ]\n",
      " [ 2.44 17.42  3.72  3.69 12.47]\n",
      " [ 0.04  1.96 20.99  2.64  2.68]\n",
      " [ 5.72 10.11  3.46  1.87  3.19]\n",
      " [ 2.68  6.34  1.45  2.93  5.64]\n",
      " [ 2.38  2.2   3.24  1.06 14.12]\n",
      " [ 1.39  8.44  5.49  2.86  1.3 ]\n",
      " [ 5.03  7.39  0.58  4.64  3.5 ]\n",
      " [ 2.83  2.72  3.68 12.35  1.13]\n",
      " [10.76  8.73  9.58 11.06  3.91]\n",
      " [ 0.32 11.89  2.65  0.44  3.25]\n",
      " [ 2.65  4.39  0.16  0.93  3.89]]\n",
      "shape: (30, 5)\n"
     ]
    }
   ],
   "source": [
    "print(times)\n",
    "print(f'shape: {times.shape}')"
   ]
  },
  {
   "cell_type": "code",
   "execution_count": 21,
   "metadata": {},
   "outputs": [
    {
     "data": {
      "text/plain": [
       "array([ 0.13,  3.95,  5.89,  0.75,  6.51,  1.67, 11.86,  4.03,  8.73,\n",
       "        1.59,  1.85,  0.53,  1.64,  3.71, 13.87,  2.98,  1.12,  3.08,\n",
       "        3.87,  7.66,  0.37, 11.61,  6.27, 14.64,  0.82,  7.77, 15.11,\n",
       "       11.63,  0.66,  3.45,  1.54,  3.8 ,  6.94,  9.06,  2.75,  0.88,\n",
       "        4.05,  0.5 ,  0.69,  4.33,  4.11, 11.71,  1.92,  0.58,  7.74,\n",
       "        9.21,  0.98,  0.73,  7.52,  2.9 ,  4.75,  1.79, 11.45,  5.57,\n",
       "        0.17,  1.77,  0.97,  5.98, 12.69,  9.44,  4.05,  0.46,  0.68,\n",
       "        0.51,  1.9 ,  0.81, 11.35,  4.7 ,  4.36, 17.56,  5.9 ,  5.57,\n",
       "        5.95,  2.35, 15.97,  4.35,  3.55,  7.77,  0.19,  4.07,  4.95,\n",
       "       13.62,  3.33, 17.01, 13.45,  4.44, 18.61,  2.77,  0.99, 29.02,\n",
       "        0.77,  1.58,  1.16, 15.63, 14.7 ,  2.44, 17.42,  3.72,  3.69,\n",
       "       12.47,  0.04,  1.96, 20.99,  2.64,  2.68,  5.72, 10.11,  3.46,\n",
       "        1.87,  3.19,  2.68,  6.34,  1.45,  2.93,  5.64,  2.38,  2.2 ,\n",
       "        3.24,  1.06, 14.12,  1.39,  8.44,  5.49,  2.86,  1.3 ,  5.03,\n",
       "        7.39,  0.58,  4.64,  3.5 ,  2.83,  2.72,  3.68, 12.35,  1.13,\n",
       "       10.76,  8.73,  9.58, 11.06,  3.91,  0.32, 11.89,  2.65,  0.44,\n",
       "        3.25,  2.65,  4.39,  0.16,  0.93,  3.89])"
      ]
     },
     "execution_count": 21,
     "metadata": {},
     "output_type": "execute_result"
    }
   ],
   "source": [
    "# Unpacking into a single dimension (1D)\n",
    "times.reshape(-1)"
   ]
  },
  {
   "cell_type": "code",
   "execution_count": 23,
   "metadata": {},
   "outputs": [
    {
     "data": {
      "image/png": "[encoded data removed]",
      "text/plain": [
       "<Figure size 432x288 with 1 Axes>"
      ]
     },
     "metadata": {
      "needs_background": "light"
     },
     "output_type": "display_data"
    }
   ],
   "source": [
    "# Q1: What distribution might the time it takes to complete one widget follow?\n",
    "# A: Exponential, but it helps to look at the hist too!\n",
    "plt.hist(times.reshape(-1), bins=20)\n",
    "plt.show()"
   ]
  },
  {
   "cell_type": "code",
   "execution_count": 24,
   "metadata": {},
   "outputs": [
    {
     "data": {
      "text/plain": [
       "5.404866666666666"
      ]
     },
     "execution_count": 24,
     "metadata": {},
     "output_type": "execute_result"
    }
   ],
   "source": [
    "# Q2: What value for the parameter might we estimate for this?\n",
    "np.mean(times)"
   ]
  },
  {
   "cell_type": "code",
   "execution_count": 25,
   "metadata": {},
   "outputs": [
    {
     "data": {
      "text/plain": [
       "0.1572081741841448"
      ]
     },
     "execution_count": 25,
     "metadata": {},
     "output_type": "execute_result"
    }
   ],
   "source": [
    "# Q3: What's the probability it takes longer than 10 minutes to complete a widget?\n",
    "1 - stats.expon(scale=np.mean(times)).cdf(10)"
   ]
  },
  {
   "cell_type": "code",
   "execution_count": 26,
   "metadata": {},
   "outputs": [
    {
     "data": {
      "text/plain": [
       "0.0824360706706464"
      ]
     },
     "execution_count": 26,
     "metadata": {},
     "output_type": "execute_result"
    }
   ],
   "source": [
    "# Q4: What's the probability it takes longer than 45 minutes to complete 5 widgets?\n",
    "1 - stats.gamma(a=5, scale=np.mean(times)).cdf(45)"
   ]
  },
  {
   "cell_type": "markdown",
   "metadata": {},
   "source": [
    "<a id='normal'></a>\n",
    "\n",
    "## The Normal distribution\n",
    "\n",
    "The Normal distribution is the most well known and most important distribution. **Many** real-world processes can be modeled using a Normal distribution.\n",
    "\n",
    "Parameters of the Normal distribution:\n",
    "\n",
    "- $\\mu$ is the mean.\n",
    "- $\\sigma$ is the standard deviation of the distribution.\n",
    "\n",
    "#### Normal pdf\n",
    "\n",
    "Let $X \\sim N(\\mu, \\sigma)$. The probability density function of the Normal distribution is given by\n",
    "\n",
    "### $$ f(x) = \\frac{1}{\\sqrt{2\\pi\\sigma^2} } \\; e^{ -\\frac{(x-\\mu)^2}{2\\sigma^2} } $$"
   ]
  },
  {
   "cell_type": "markdown",
   "metadata": {},
   "source": [
    "Let's say the average purchase from our website is \\\\$25 with a standard deviation of \\\\$5."
   ]
  },
  {
   "cell_type": "code",
   "execution_count": 29,
   "metadata": {},
   "outputs": [
    {
     "name": "stdout",
     "output_type": "stream",
     "text": [
      "25.0\n",
      "5.0\n"
     ]
    }
   ],
   "source": [
    "Y = stats.norm(25, 5)\n",
    "print(Y.mean())\n",
    "print(Y.std())"
   ]
  },
  {
   "cell_type": "code",
   "execution_count": 31,
   "metadata": {},
   "outputs": [
    {
     "data": {
      "image/png": "[encoded data removed]",
      "text/plain": [
       "<Figure size 1008x360 with 1 Axes>"
      ]
     },
     "metadata": {
      "needs_background": "light"
     },
     "output_type": "display_data"
    }
   ],
   "source": [
    "plot_distn(Y, 0, 50)"
   ]
  },
  {
   "cell_type": "markdown",
   "metadata": {},
   "source": [
    "#### Normal cdf\n",
    "\n",
    "[The Normal cumulative distribution function has to be approximated.](https://en.wikipedia.org/wiki/Normal_distribution#Definition) If you want, see the Wikipedia page for the details on how it is calculated. \n",
    "\n",
    "We can plot it here, however, using SciPy."
   ]
  },
  {
   "cell_type": "code",
   "execution_count": 32,
   "metadata": {
    "scrolled": false
   },
   "outputs": [
    {
     "data": {
      "image/png": "[encoded data removed]",
      "text/plain": [
       "<Figure size 1008x360 with 1 Axes>"
      ]
     },
     "metadata": {
      "needs_background": "light"
     },
     "output_type": "display_data"
    }
   ],
   "source": [
    "# cdfs all follow the same pattern, and so aren't *too* interesting.\n",
    "plot_distn(Y, 0, 50, kind='cdf')"
   ]
  },
  {
   "cell_type": "markdown",
   "metadata": {},
   "source": [
    "## The Standard Normal distribution\n",
    "An important building block in the world of statistics is the **standard normal distribution**. This is the $N(0, 1)$ distribution, and is traditionally abbreviated with a $Z$. Specifically, if $X \\sim N(\\mu, \\sigma)$, then\n",
    "\n",
    "$$ Z = \\frac{X - \\mu}{\\sigma} \\sim N(0, 1) $$"
   ]
  },
  {
   "cell_type": "markdown",
   "metadata": {},
   "source": [
    "### Interview Question\n",
    "\n",
    "Your company maintains a piece of chat software. An engineer mentions that there were ten support calls yesterday. The engineer wants to use a Normal distribution to predict the number of calls they can expect in a given day so they can figure out how many call technicians are needed."
   ]
  },
  {
   "cell_type": "markdown",
   "metadata": {},
   "source": [
    "<details><summary>What are some of the downsides to using a Normal distribution to predict the maximum number of calls in a day?</summary>\n",
    "\n",
    "_(Answers may vary! This is not a complete list of all possible answers!)_\n",
    "- The number of calls you can expect in a day is a discrete variable, but the Normal distribution is continuous.\n",
    "- The number of calls in a day can't be negative, but the Normal distribution will include negative values!\n",
    "- The Normal distribution is symmetric, but if we plotted the number of calls each day, there's a good chance it won't be symmetric.\n",
    "</details>"
   ]
  },
  {
   "cell_type": "markdown",
   "metadata": {},
   "source": [
    "## The Beta Distrubtion\n",
    "Another distribution that we'll see more later in the class is the beta distribtion. This distribution is special because it can only take on values between 0 and 1. This makes it especially useful for modeling probabilities for Bayesian statistics. It's pretty wild, you can check out beta's [wiki page](https://en.wikipedia.org/wiki/Beta_distribution) for more details.\n",
    "\n",
    "If we let $X \\sim \\text{Beta}(\\alpha, \\beta)$, then\n",
    "\n",
    "$$ f(x) = \\frac{\\Gamma(\\alpha + \\beta)}{\\Gamma(\\alpha)\\Gamma(\\beta)} x^{\\alpha - 1}(1 - x)^{\\beta - 1} $$\n",
    "\n",
    "Note that if $\\alpha = \\beta = 1$, then the $\\text{Beta}(1, 1)$ distribution is exactly the same as the $U(0, 1)$ distribution!"
   ]
  },
  {
   "cell_type": "code",
   "execution_count": null,
   "metadata": {},
   "outputs": [],
   "source": [
    "# Let's make a beta random variable and check it out."
   ]
  },
  {
   "cell_type": "markdown",
   "metadata": {},
   "source": [
    "### (BONUS) Summary Statistics\n",
    "\n",
    "For these \"named\" distributions (distributions that have names), they have been studied well enough that we know some nice properties. \n",
    "\n",
    "For example:\n",
    "- The mean of the Continuous Uniform distribution is exactly $\\frac{b+a}{2}$.\n",
    "- The mean of the Exponential distribution is exactly $\\beta$.\n",
    "- The mean of the Normal distribution is exactly $\\mu$.\n",
    "- The mean of the Binomial distribution is exactly $np$.\n",
    "- The mean of the Poisson distribution is exactly $\\lambda$.\n",
    "\n",
    "The mean (or expected value) of a random variable $X$ is often denoted with an $E$. That is, if $X$ has a mean $\\mu$, then $E[X] = \\mu$. This notation will pop up as you study outside resources. Working with random variables often involves knowledge of **calculus**."
   ]
  },
  {
   "cell_type": "markdown",
   "metadata": {},
   "source": [
    "## Moving from Distributions to Data\n",
    "\n",
    "It's sometimes nice to use pdfs and cdfs. They can help us answer many problems, like we've seen earlier."
   ]
  },
  {
   "cell_type": "markdown",
   "metadata": {},
   "source": [
    "<details><summary>However, in the real world, we might not have access to the pdf or the cdf. Why is that?</summary>\n",
    "    \n",
    "- We have to believe that our population perfectly follows a specific probability distribution. It's probably not often the case that our data does this.\n",
    "- However, there's a really special and important result in statistics that connects data with a common probability distribution that we rely on a lot.\n",
    "</details>"
   ]
  },
  {
   "cell_type": "code",
   "execution_count": null,
   "metadata": {},
   "outputs": [],
   "source": [
    "data = np.load(\"./data/strange-data.npy\")"
   ]
  },
  {
   "cell_type": "code",
   "execution_count": null,
   "metadata": {},
   "outputs": [],
   "source": []
  },
  {
   "cell_type": "code",
   "execution_count": null,
   "metadata": {},
   "outputs": [],
   "source": []
  },
  {
   "cell_type": "markdown",
   "metadata": {},
   "source": [
    "### **This is the Central Limit Theorem at play!**"
   ]
  },
  {
   "cell_type": "markdown",
   "metadata": {},
   "source": [
    "## Central Limit Theorem\n",
    "\n",
    "The CLT is one of the most misunderstood theorems in all of statistics. In essence, it states:\n",
    "\n",
    "Suppose you have a random variable $X$ that follows any (reasonable) distribution. Suppose you randomly sample from this distribution and compute its mean and write it down. Now do this many, many more times. **The distribution of these means will follow a normal distribution in the long run.**\n",
    "\n",
    "Stated in pure math, if $X$ is a random variable with mean $\\mu$ and standard deviation $\\sigma$, then if each sample is taken to be of size $n$, and we let the number of these separate samples go to infinity,\n",
    "\n",
    "$$ \\frac{\\bar{X} - \\mu}{\\sigma/\\sqrt{n}} \\longrightarrow N(0, 1) $$\n",
    "\n",
    "**Because we often deal with averages (or sums) of things, the Central Limit Theorem causes the normal distribution to appear all over the place.** This is amazing! Normality is the most common assumption we'll make about the distribution of our data or our errors. We also rely heavily on the CLT when conducting hypothesis tests.\n",
    "\n",
    "### Visualizing the Central Limit Theorem\n",
    "Check out a fantastic resource [here](https://seeing-theory.brown.edu/probability-distributions/index.html#section3).\n",
    "\n",
    "### Common Misunderstanding of the CLT\n",
    "\n",
    "Many beginners will quote the CLT as saying \"as long as we connect enough data, our data will look normal!\" **THIS IS EXTREMELY FALSE AND I NEVER WANNA HEAR IT AGAIN!!!** In fact, this is the definition of a distribution! If we collect more and more data from a source, that distribution will converge to its true distribution."
   ]
  },
  {
   "cell_type": "markdown",
   "metadata": {},
   "source": [
    "## LEARNING OBJECTIVES\n",
    "By the end of this lesson, students should be able to:\n",
    "- Give examples of several continuous distributions: uniform, exponential, gamma, normal, standard normal, and beta.\n",
    "- Understand how and why we can use distributional assumptions in our work.\n",
    "- Describe why the normal distribution is seen everywhere.\n",
    "- State the Central Limit Theorem."
   ]
  },
  {
   "cell_type": "markdown",
   "metadata": {},
   "source": [
    "<details><summary>What is the Continuous Uniform distribution?</summary>\n",
    "\n",
    "- The Continuous Uniform distribution is a distribution that takes on an uncountable number of values with equal probability.\n",
    "- An example of the Continuous Uniform might be to randomly generate a number between 0 and 1.\n",
    "</details>"
   ]
  },
  {
   "cell_type": "markdown",
   "metadata": {},
   "source": [
    "<details><summary>What is the Exponential distribution?</summary>\n",
    "\n",
    "- Just like the Poisson distribution is the Binomial distribution taken to the limit, the Exponential distribution is the Geometric distribution taken to the limit. The Exponential distribution models the amount of time until an event occurs. Examples of the Exponential distribution might be:\n",
    "    - The amount of time until a bus arrives at the stop.\n",
    "    - The amount of time until a light bulb stops working.\n",
    "    - The amount of time until a new visitor comes to my website.\n",
    "</details>"
   ]
  },
  {
   "cell_type": "markdown",
   "metadata": {},
   "source": [
    "<details><summary>What is the Normal distribution?</summary>\n",
    "\n",
    "- The Normal distribution is the most widely-known distribution. It is symmetric, bell-shaped, and is parameterized by its mean and variance/standard deviation. Examples of the Normal distribution might be:\n",
    "    - The intelligence quotient (IQ) of individuals.\n",
    "    - The average values of 1,000 dice rolls.\n",
    "</details>"
   ]
  },
  {
   "cell_type": "markdown",
   "metadata": {},
   "source": [
    "<details><summary>Why is the Normal distribution seen everywhere?</summary>\n",
    "\n",
    "- The Normal distribution naturally models a lot of real-world phenomena. However, the Normal distribution also models the average of **any** random variables, as long as there's enough. We often count or average things, so this will pop up frequently. In addition, some distributions naturally are means/sums of other random variables (Poisson, Binomial, and lots of others we haven't officially discussed) so we can use the Normal distribution in lots of cases!\n",
    "</details>"
   ]
  },
  {
   "cell_type": "markdown",
   "metadata": {},
   "source": [
    "<details><summary>State the Central Limit Theorem.</summary>\n",
    "\n",
    "- The Central Limit Theorem states that, as $N \\rightarrow \\infty$ (where $N$ is the number of independent samples), the sampling distribution of $\\bar{X}$ will approach a Normal distribution with mean $\\mu$ and standard deviation $\\frac{\\sigma}{\\sqrt{n}}$.\n",
    "</details>"
   ]
  },
  {
   "cell_type": "markdown",
   "metadata": {},
   "source": [
    "### Resources\n",
    "- The [Kolmogorov-Smirnov test](https://docs.scipy.org/doc/scipy-0.14.0/reference/generated/scipy.stats.kstest.html) is a way for us to estimate whether two samples come from the same distribution or whether one sample comes from a particular distribution. (This will make more sense after you've covered hypothesis testing in inference.)"
   ]
  }
 ],
 "metadata": {
  "kernelspec": {
   "display_name": "Python 3",
   "language": "python",
   "name": "python3"
  },
  "language_info": {
   "codemirror_mode": {
    "name": "ipython",
    "version": 3
   },
   "file_extension": ".py",
   "mimetype": "text/x-python",
   "name": "python",
   "nbconvert_exporter": "python",
   "pygments_lexer": "ipython3",
   "version": "3.8.8"
  }
 },
 "nbformat": 4,
 "nbformat_minor": 1
}
