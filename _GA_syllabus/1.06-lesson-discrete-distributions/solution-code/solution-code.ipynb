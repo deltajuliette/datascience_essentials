{
 "cells": [
  {
   "cell_type": "markdown",
   "metadata": {},
   "source": [
    "<img src=\"https://ga-dash.s3.amazonaws.com/production/assets/logo-9f88ae6c9c3871690e33280fcf557f33.png\" style=\"float: left; margin: 15px;\">\n",
    "\n",
    "## Random Variables & Discrete Probability Distributions\n",
    "\n"
   ]
  },
  {
   "cell_type": "markdown",
   "metadata": {},
   "source": [
    "### LEARNING OBJECTIVES\n",
    "By the end of this lesson, students should be able to:\n",
    "- Define distribution and random variable.\n",
    "- Describe the difference between discrete and continuous random variables.\n",
    "- Understand the difference between probability mass functions and cumulative distribution functions.\n",
    "- Give examples of the following distributions: Discrete Uniform, Bernoulli, Binomial, and Poisson."
   ]
  },
  {
   "cell_type": "markdown",
   "metadata": {},
   "source": [
    "## Definitions\n",
    "\n",
    "---\n",
    "\n",
    "An **experiment** is an infinitely-repeatable procedure with a [well-defined](https://en.wikipedia.org/wiki/Well-defined) set of outcomes.\n",
    "- I flip a coin twice.\n",
    "- I roll a die once.\n",
    "\n",
    "The **sample space** for a given experiment is the set of all possible outcomes of that experiment.\n",
    "- I flip a coin twice: $\\{\\{H,H\\}, \\{T,H\\}, \\{H,T\\}, \\{T,T\\}\\}$\n",
    "- I roll a die once: $\\{1, 2, 3, 4, 5, 6\\}$\n",
    "\n",
    "A **random variable** is a function from a sample space $S$ to real numbers.\n",
    "- Let $X$ be the number of heads I observe. Then, $X$ can take on the values 0, 1, or 2.\n",
    "    - See the outcomes in sample space above. There can only be 0 Heads or 1 Head or 2 Heads.\n",
    "- I roll a die **once**. Then, $Y$ can take on the values 1, 2, 3, 4, 5, 6.\n",
    "\n",
    "There are two categories of random variables: **discrete random variables** and **continuous random variables**.\n",
    "\n",
    "### Discrete random variables\n",
    "\n",
    "- Discrete random variables have outcomes which are \"countable\". The two examples of random variables used above are discrete because I can list out all values of the random variable.\n",
    "- The number of heads in a series of coin flips, for example, or the number of aces drawn in a series of hands from a deck of cards. \n",
    "- Each discrete outcome has an associated probability of occurring.\n",
    "- For discrete random variables, the distribution of the probabilities of each outcome is called the **probability mass function (pmf)**.\n",
    "\n",
    "### Continuous random variables\n",
    "\n",
    "- Continuous random variables, on the other hand, have outcomes which are not countable. \n",
    "- Say, for example, $T$ is a random variable representing the temperature at noon. \n",
    "- Since the number of possible temperature outcomes are infinite (25, 25.1, 25.11, 25.111, etc), we cannot calculate the probability of every single possible occurence\n",
    "- Instead, we calculate the probabilities of *ranges of values* as areas under the **probability density function (pdf)**, which is the probability function associated with continuous variables.\n",
    "\n",
    "#### Some real business examples\n",
    "If you are working with HR data, then some examples could be\n",
    "- Discrete: Gender, Department, Country\n",
    "- Continuous: Age, Tenure, Salary\n",
    "\n",
    "## Recap\n",
    "1. We first run an experiment.\n",
    "2. We then observe results of the experiment.\n",
    "3. Our random variable $X$ will map the results of the experiment to a real number.\n",
    "4. We will then study the **distribution** of $X$.\n",
    "\n",
    "<details>\n",
    "    <summary><b>Check:</b> What is a distribution?</summary>\n",
    "\n",
    "Distribution is a spread. A probability distribution is a way to represent the possible values of a random variable and the respective probabilities of those values.\n",
    "</details>"
   ]
  },
  {
   "cell_type": "markdown",
   "metadata": {},
   "source": [
    "### Importing libraries\n",
    "\n",
    "For this lecture, we'll need to import the following libraries:\n",
    "- `numpy`, which we'll alias as `np` --> numerical computing\n",
    "- `matplotlib.pyplot`, which we'll alias as `plt` --> plotting *(other options - seaborn, plotly)*\n",
    "- `scipy.stats`, which we'll alias as `stats` --> scientific computing"
   ]
  },
  {
   "cell_type": "code",
   "execution_count": 1,
   "metadata": {},
   "outputs": [],
   "source": [
    "import numpy as np\n",
    "import matplotlib.pyplot as plt\n",
    "import scipy.stats as stats"
   ]
  },
  {
   "cell_type": "markdown",
   "metadata": {},
   "source": [
    "# Discrete Distributions!\n",
    "\n",
    "## The discrete uniform distribution\n",
    "\n",
    "---\n",
    "\n",
    "**Example**: I roll a fair die once. What is the distribution of outcomes?\n",
    "\n",
    "The **discrete uniform distribution** is used when we have a **discrete set of outcomes** and **each outcome is equally likely**.\n",
    "\n",
    "For example, imagine we roll a fair die. The outcome of rolling the die is represented by a random variable $X$, which can take on values 1 through 6.\n",
    "\n",
    "The probability mass function $f$ over the six possible outcomes $x$, each with an associated probability $p$, is defined as:\n",
    "\n",
    "$$  f(x|p) =\n",
    "    \\begin{cases}\n",
    "    1/6 & \\text{for }x=1 \\\\ \n",
    "    1/6 & \\text{for }x=2 \\\\\n",
    "    1/6 & \\text{for }x=3 \\\\\n",
    "    1/6 & \\text{for }x=4 \\\\\n",
    "    1/6 & \\text{for }x=5 \\\\\n",
    "    1/6 & \\text{for }x=6 \\\\\n",
    "    0 & \\text{elsewhere } \\\\\n",
    "    \\end{cases}\n",
    "$$\n",
    "\n",
    "This is an example of the **discrete uniform distribution** because all of the outcomes have the **same probability**. \n",
    "\n",
    "If you plot the probability mass function (often abbreviated $pmf$), you can see that the probability bar-chart is uniform (flat)."
   ]
  },
  {
   "cell_type": "code",
   "execution_count": 1,
   "metadata": {},
   "outputs": [
    {
     "data": {
      "text/plain": [
       "[1, 2, 3, 4, 5, 6]"
      ]
     },
     "execution_count": 1,
     "metadata": {},
     "output_type": "execute_result"
    }
   ],
   "source": [
    "list(range(1,7))"
   ]
  },
  {
   "cell_type": "code",
   "execution_count": 2,
   "metadata": {},
   "outputs": [
    {
     "data": {
      "text/plain": [
       "[0.16666666666666666,\n",
       " 0.16666666666666666,\n",
       " 0.16666666666666666,\n",
       " 0.16666666666666666,\n",
       " 0.16666666666666666,\n",
       " 0.16666666666666666]"
      ]
     },
     "execution_count": 2,
     "metadata": {},
     "output_type": "execute_result"
    }
   ],
   "source": [
    "[1/6] * 6"
   ]
  },
  {
   "cell_type": "code",
   "execution_count": 2,
   "metadata": {},
   "outputs": [
    {
     "data": {
      "image/png": "[encoded data removed]",
      "text/plain": [
       "<Figure size 432x288 with 1 Axes>"
      ]
     },
     "metadata": {
      "needs_background": "light"
     },
     "output_type": "display_data"
    }
   ],
   "source": [
    "die_sides = list(range(1,7)) # create a list with numbers 1 to 6\n",
    "die_probs = [1/6] * 6 # create a list containing each die roll's probability \n",
    "\n",
    "plt.bar(die_sides, die_probs)\n",
    "#plt.xticks(die_sides); # with or without this still defaults to assigning the x-labels as the die_sides\n",
    "plt.xticks(ticks=die_sides, labels=['one','two','three','four','five','six']); # customization with xticks"
   ]
  },
  {
   "cell_type": "markdown",
   "metadata": {
    "tags": []
   },
   "source": [
    "#### The cumulative distribution function (CDF)\n",
    "\n",
    "Continuing with the die example, we can also plot out the **cumulative probability** of our six outcomes. This is known as the **cumulative distribution function** (often abbreviated $cdf$). We can get this by starting at the minimum possible outcome, then iteratively add the probability of each outcome. Thus, each point on a cumulative distribution function represents the probability that a random variable is **less than or equal to that value**.\n",
    "\n",
    "In a formula, if the $pmf$ is given by $f(x) = P(X = x)$, we write the $cdf$ as $F(x) = P(X \\leq x)$.                       "
   ]
  },
  {
   "cell_type": "code",
   "execution_count": 3,
   "metadata": {},
   "outputs": [
    {
     "data": {
      "text/plain": [
       "array([ 1,  3,  6, 10])"
      ]
     },
     "execution_count": 3,
     "metadata": {},
     "output_type": "execute_result"
    }
   ],
   "source": [
    "# np cumulative sum example\n",
    "# The output at any position is the sum of all elements upto that position\n",
    "np.cumsum([1, 2, 3, 4])"
   ]
  },
  {
   "cell_type": "markdown",
   "metadata": {},
   "source": [
    "- In a die roll: Recap, X *random variable* takes *a list of values*: [1,2,3,4,5,6], while x represents each individual outcome, 1 or 2 or 3 or 4 or 5 or 6. So, cdf for getting a 3 will be P(X<=x)-->P([1,2,3,4,5,6]<=3)-->P([1,2,3])-->3rd bullet below\n",
    "    - x = 1, probability: 1/6 --> ~0.2\n",
    "    - x = 2, probability: 1/6 + 1/6 --> ~0.3\n",
    "    - x = 3, probability: 1/6 + 1/6 + 1/6 --> 0.5\n",
    "    - x = 4, probability: 1/6 + 1/6 + 1/6 + 1/6 --> ~0.7 \n",
    "    - x = 5, probability: 1/6 + 1/6 + 1/6 + 1/6 + 1/6 --> ~0.8\n",
    "    - x = 6, probability: 1/6 + 1/6 + 1/6 + 1/6 + 1/6 + 1/6 --> 1"
   ]
  },
  {
   "cell_type": "code",
   "execution_count": 4,
   "metadata": {},
   "outputs": [
    {
     "data": {
      "image/png": "[encoded data removed]",
      "text/plain": [
       "<Figure size 432x288 with 1 Axes>"
      ]
     },
     "metadata": {
      "needs_background": "light"
     },
     "output_type": "display_data"
    }
   ],
   "source": [
    "plt.step(die_sides,            # plots a step-plot to better represent step-changes\n",
    "         np.cumsum(die_probs)) # starts with 1/6 (~0.2) | x = 1, then 2/6 (0.3) | x = 2..so on as explained above\n",
    "plt.xticks(die_sides);"
   ]
  },
  {
   "cell_type": "markdown",
   "metadata": {},
   "source": [
    "We can simultaneously visualize the probability density/mass function and the cumulative distribution function [here](http://students.brown.edu/seeing-theory/)."
   ]
  },
  {
   "cell_type": "markdown",
   "metadata": {},
   "source": [
    "### Practice: Deck of cards\n",
    "---\n",
    "\n",
    "A deck of cards contains the values Ace-King, 13 different discrete outcomes *(recap that this then falls under discrete boundaries)*. \n",
    "\n",
    "How would we represent these as a random variable (**remember, each value needs to map to the number line**)?\n",
    "\n",
    "Plot the probability mass function (pmf) of drawing a single value (Ace-King) from a fair deck."
   ]
  },
  {
   "cell_type": "code",
   "execution_count": 5,
   "metadata": {},
   "outputs": [
    {
     "data": {
      "image/png": "[encoded data removed]",
      "text/plain": [
       "<Figure size 432x288 with 1 Axes>"
      ]
     },
     "metadata": {
      "needs_background": "light"
     },
     "output_type": "display_data"
    }
   ],
   "source": [
    "# we can leverage the same approach from die-roll example\n",
    "card_values = list(range(1,14))\n",
    "card_probs = [1/13] * 13 # each suite has thirteen cards\n",
    "\n",
    "plt.bar(card_values, card_probs)\n",
    "plt.xticks(card_values);"
   ]
  },
  {
   "cell_type": "markdown",
   "metadata": {},
   "source": [
    "What is the probability of drawing a 6 or less (assume Ace is 1)?"
   ]
  },
  {
   "cell_type": "code",
   "execution_count": 6,
   "metadata": {},
   "outputs": [
    {
     "data": {
      "text/plain": [
       "array([0.07692308, 0.15384615, 0.23076923, 0.30769231, 0.38461538,\n",
       "       0.46153846, 0.53846154, 0.61538462, 0.69230769, 0.76923077,\n",
       "       0.84615385, 0.92307692, 1.        ])"
      ]
     },
     "execution_count": 6,
     "metadata": {},
     "output_type": "execute_result"
    }
   ],
   "source": [
    "np.cumsum(card_probs)"
   ]
  },
  {
   "cell_type": "code",
   "execution_count": 7,
   "metadata": {},
   "outputs": [
    {
     "data": {
      "text/plain": [
       "0.46153846153846156"
      ]
     },
     "execution_count": 7,
     "metadata": {},
     "output_type": "execute_result"
    }
   ],
   "source": [
    "# recap: Python index starts at 0\n",
    "np.cumsum(card_probs)[5]"
   ]
  },
  {
   "cell_type": "markdown",
   "metadata": {},
   "source": [
    "## The Bernoulli distribution\n",
    "\n",
    "---\n",
    "\n",
    "**Example**: I flip a coin with some fixed probability of success $p$. What's the likelihood that I flip heads?\n",
    "\n",
    "When to use this distribution:\n",
    "\n",
    "- When your outcome is binary (i.e., two outcomes, say, `1 = success` and `0 = failure`)\n",
    "- When there is a constant probability of success $p$.\n",
    "\n",
    "Parameters of this distribution:\n",
    "\n",
    "- probability of success $p$\n",
    "\n",
    "Less formally, it can be thought of as a model for the set of possible outcomes of any single experiment that asks a yes–no question. Such questions lead to outcomes that are boolean-valued.\n",
    "\n",
    "Some common examples of a Bernoulli random variable:\n",
    "\n",
    "- A coin flip.\n",
    "- Whether or not it will rain tomorrow.\n",
    "- Whether a user will buy your product after visiting your website.\n",
    "    - Can you think of any real-business examples from your work? *My contribution: whether an employee will quit or stay*\n",
    "\n",
    "Bernoulli distributed variables are very common and will appear continually throughout the course, especially in   classification machine learning.\n",
    "\n",
    "#### Bernoulli pmf\n",
    "\n",
    "The probability mass function $f$ for outcomes $x$ and probabilities $p$ is:\n",
    "\n",
    "$$  f(x|p) =\n",
    "    \\begin{cases}\n",
    "    p & \\text{for }x=1 \\\\\n",
    "    1-p & \\text{for }x=0 \\\\ \n",
    "    0 & \\text{elsewhere} \\\\\n",
    "    \\end{cases}\n",
    "$$\n",
    "\n",
    "In the cell below, let's plot the pmf of an unfair coin-flip (or someone quitting), where $p = 0.25$. *(think about it..in a fair coin flip, p = 0.5)*"
   ]
  },
  {
   "cell_type": "code",
   "execution_count": 8,
   "metadata": {},
   "outputs": [
    {
     "data": {
      "image/png": "[encoded data removed]",
      "text/plain": [
       "<Figure size 432x288 with 1 Axes>"
      ]
     },
     "metadata": {
      "needs_background": "light"
     },
     "output_type": "display_data"
    }
   ],
   "source": [
    "coin_outcomes = [0, 1]\n",
    "coin_probs = [1 - .25, .25]\n",
    "\n",
    "plt.bar(coin_outcomes, coin_probs)\n",
    "plt.xticks(coin_outcomes);"
   ]
  },
  {
   "cell_type": "markdown",
   "metadata": {},
   "source": [
    "#### Bernoulli CDF\n",
    "\n",
    "The CDF function for the Bernoulli distribution returns the probability that an observation from a Bernoulli distribution, with probability of success equal to p, is less than or equal to x. We know the outcome x can take values of 0 or 1.\n",
    "\n",
    "Its cumulative distribution function is also defined as a function of $x$ outcomes with $p$ probabilities:\n",
    "\n",
    "$$ F(x|p) =\n",
    "\\begin{cases}\n",
    "    0 & \\text{for }x<0 \\\\ 1 - p & \\text{for }0 \\leq x < 1 \\\\ 1 & \\text{for }x\\geq 1\n",
    "\\end{cases} $$\n",
    "\n",
    "- In a coin flip example: Bernoulli variable X takes *a list of values*: [0,1] (if we assume 0=tails, 1=heads), while x represents each individual outcome, 0 or 1. Applying cdf from before for getting a 1 (heads) will be P(X<=x)-->P([0,1]<=1)-->P([0,1])-->1/2 + 1/2 = 1"
   ]
  },
  {
   "cell_type": "code",
   "execution_count": 9,
   "metadata": {},
   "outputs": [
    {
     "data": {
      "text/plain": [
       "array([0.75, 1.  ])"
      ]
     },
     "execution_count": 9,
     "metadata": {},
     "output_type": "execute_result"
    }
   ],
   "source": [
    "np.cumsum(coin_probs)"
   ]
  },
  {
   "cell_type": "markdown",
   "metadata": {},
   "source": [
    "### Practice: Election outcomes\n",
    "---\n",
    "\n",
    "Candidate A is ahead in the polls. She has a 63% chance of winning the election. Plot the Bernoulli distribution of Candidate A's chances as a bar chart."
   ]
  },
  {
   "cell_type": "code",
   "execution_count": 10,
   "metadata": {},
   "outputs": [
    {
     "data": {
      "image/png": "[encoded data removed]",
      "text/plain": [
       "<Figure size 432x288 with 1 Axes>"
      ]
     },
     "metadata": {
      "needs_background": "light"
     },
     "output_type": "display_data"
    }
   ],
   "source": [
    "election_outcomes = [0, 1]\n",
    "election_probs = [1 - .63, .63] # winning chance: 63%, losing chance: 37%\n",
    "\n",
    "plt.bar(election_outcomes,\n",
    "        election_probs)\n",
    "plt.xticks(election_outcomes);"
   ]
  },
  {
   "cell_type": "markdown",
   "metadata": {},
   "source": [
    "<a id='bernoulli'></a>\n",
    "\n",
    "## The Binomial distribution\n",
    "\n",
    "---\n",
    "\n",
    "- In Bernoulli distribution that we just discussed, the experiment is run only once. \n",
    "- But what happens if we repeat the experiment more than once, under the assumption that each trial is independent of each other?\n",
    "- The answer to that question is the Binomial Distribution. \n",
    "- This distribution describes the behavior of the result of *n* random experiments, each having a Bernoulli distribution with probability *p*.\n",
    "\n",
    "**Example**: I flip a coin with some fixed probability of success $p$. I flip the same coin $k$ times. What is the proability of getting a certain number of heads?\n",
    "\n",
    "The binomial distribution is directly related to the Bernoulli distribution: it is **the sum of successes of a Bernoulli distributed random variable.** (an amplified Bernoulli distribution)\n",
    "\n",
    "When it's used:\n",
    "\n",
    "- when you have fixed $n$ independent Bernoulli trials.\n",
    "\n",
    "More explicitly:\n",
    "\n",
    "- when you have fixed $n$ trials,\n",
    "- each trial is independent of one another,\n",
    "- when you have a constant probability of success $p$, and\n",
    "- when you have a binary outcome.\n",
    "\n",
    "Parameters of the distribution:\n",
    "\n",
    "- probability of success $p$\n",
    "- number of trials $n$\n",
    " \n",
    "\n",
    "#### Binomial pmf\n",
    "\n",
    "The $pmf$ is a function of $n$ trials with $p$ probability of success and $x$ successes in those trials:\n",
    "\n",
    "$$ f(x|n,p) = P(X = x) = \\binom n x  p^x(1-p)^{n-x} $$\n",
    "\n",
    "Which describes the probability that there will be $x$ successes in $n$ trials.\n",
    "\n",
    "- Note: Beginning part of the function is called nCx = n! / (n-x)! x!\n",
    "    - nCx is just notation representing combinations (thus the capital C in the middle). Specifically it represents the number of ways of getting x successes in n trials\n",
    "    - where n! is 1 x 2 x 3 x....n\n",
    "\n",
    "Luckily, we don't need to implement this equation by hand. We can directly use a python package `scipy` (specifically the `stats` submodule in `scipy`) which has already implemented several probability distributions\n",
    "\n",
    "Below is the binomial pmf for 50 coin flips of a coin with probability of getting heads at 25%.\n"
   ]
  },
  {
   "cell_type": "code",
   "execution_count": 11,
   "metadata": {},
   "outputs": [
    {
     "data": {
      "image/png": "[encoded data removed]",
      "text/plain": [
       "<Figure size 432x288 with 1 Axes>"
      ]
     },
     "metadata": {
      "needs_background": "light"
     },
     "output_type": "display_data"
    }
   ],
   "source": [
    "p_heads = .25 # defining probability of success-->getting heads\n",
    "n_flips = 50 # defining number of trials\n",
    "\n",
    "coin_distn = stats.binom(n_flips, p_heads) # to get binomial discrete random variable\n",
    "\n",
    "possible_heads = list(range(0, 51)) # we may get 0 or 50 or anything in between heads during 50 flips\n",
    "\n",
    "plt.bar(possible_heads,\n",
    "        coin_distn.pmf(possible_heads)); # to get binomial pmf"
   ]
  },
  {
   "cell_type": "markdown",
   "metadata": {},
   "source": [
    "#### Binomial cdf"
   ]
  },
  {
   "cell_type": "code",
   "execution_count": 12,
   "metadata": {
    "tags": []
   },
   "outputs": [
    {
     "data": {
      "image/png": "[encoded data removed]",
      "text/plain": [
       "<Figure size 432x288 with 1 Axes>"
      ]
     },
     "metadata": {
      "needs_background": "light"
     },
     "output_type": "display_data"
    }
   ],
   "source": [
    "plt.step(possible_heads,\n",
    "         coin_distn.cdf(possible_heads));"
   ]
  },
  {
   "cell_type": "markdown",
   "metadata": {},
   "source": [
    "[Read scipy documentation](https://docs.scipy.org/doc/scipy/reference/generated/scipy.stats.binom.html)"
   ]
  },
  {
   "cell_type": "markdown",
   "metadata": {},
   "source": [
    "### Practice: Elections\n",
    "---\n",
    "\n",
    "- Candidate A is now leading the polls at 55%. If we surveyed 100 people at random, plot a ***pmf*** of all possible outcomes as a bar chart.\n",
    "- Recall, The *pmf* describes the probability that there will be $x$ successes in $n$ trials."
   ]
  },
  {
   "cell_type": "code",
   "execution_count": 13,
   "metadata": {},
   "outputs": [
    {
     "data": {
      "image/png": "[encoded data removed]",
      "text/plain": [
       "<Figure size 432x288 with 1 Axes>"
      ]
     },
     "metadata": {
      "needs_background": "light"
     },
     "output_type": "display_data"
    }
   ],
   "source": [
    "p_election = .55\n",
    "n_surveys = 100\n",
    "\n",
    "survey_distn = stats.binom(n_surveys, p_election)\n",
    "\n",
    "survey_outcomes = list(range(0, 101))\n",
    "plt.bar(survey_outcomes,\n",
    "        survey_distn.pmf(survey_outcomes));"
   ]
  },
  {
   "cell_type": "markdown",
   "metadata": {},
   "source": [
    "## The Poisson distribution\n",
    "\n",
    "---\n",
    "\n",
    "For this, let's head over to read [this article](https://towardsdatascience.com/the-poisson-distribution-and-poisson-process-explained-4e2cb17d459) with practical example to facilitate better concept understanding.\n",
    "\n",
    "Just to brush up some math to breakdown the formula:\n",
    "- e  = The base of the natural logarithm equal to 2.71828\n",
    "- k  = The number of occurrences of an event\n",
    "- k!  = The factorial of k\n",
    "- λ  = A positive real number, equal to the expected number of occurrences during the given interval\n",
    "\n",
    "#### Additional notes for self-read:\n",
    "\n",
    "The Poisson distribution represents the counts of **\"positive\" events, or successes, within a time span**. It shares a relationship with Bernoulli random variables and the Binomial distribution. \n",
    "\n",
    "A **Bernoulli** random variable represents the probability that an event **will occur** during a \"trial\". Imagine we had a Bernoulli random variable that was the probability of a user visiting our site *between 12pm and 1pm*. If we change this to be between *12pm and 12:15pm*, this remains a Bernoulli random variable but the *probability has decreased*. **As the time frame shrinks, the probability shrinks** as well.\n",
    "\n",
    "The Poisson distribution represents infinitely many infinitely small probability trials. Our number of trials $n$ **increases to infinity** and the **probability of success $p$ shrinks towards zero** in a specific way. \n",
    "\n",
    "More formally, if we take the Binomial distribution and examine its behavior when $n\\rightarrow\\infty$ and $p\\rightarrow 0$, we get the Poisson distribution.\n",
    "\n",
    "When we use this:\n",
    "\n",
    "- when the number of successes is is a non-negative integer,\n",
    "- when events occur independently,\n",
    "- when the rate at which events occur is constant,\n",
    "- when two events cannot occur at exactly the same instant, and\n",
    "- the probability of an event occurring in an interval is proportional to the length of the interval.\n",
    "\n",
    "Parameters of the distribution:\n",
    "\n",
    "- rate of event occurring $\\lambda$\n",
    "\n",
    "#### Poisson pmf\n",
    "\n",
    "$$f(x|\\lambda) = P(X=x) = \\frac{\\lambda^x e^{-\\lambda}}{x!} $$\n",
    "\n",
    "Where $x$ is the number of events that occur in an interval,\n",
    "\n",
    "and $\\lambda$ is the rate at which events occur.\n",
    "\n",
    "Let's say, for example, we are measuring visitors to our website. What is the probability mass function of the Poisson distribution for visitor counts given we have an average rate of 5 visitors per hour?"
   ]
  },
  {
   "cell_type": "code",
   "execution_count": 14,
   "metadata": {},
   "outputs": [
    {
     "data": {
      "text/plain": [
       "<BarContainer object of 20 artists>"
      ]
     },
     "execution_count": 14,
     "metadata": {},
     "output_type": "execute_result"
    },
    {
     "data": {
      "image/png": "[encoded data removed]",
      "text/plain": [
       "<Figure size 432x288 with 1 Axes>"
      ]
     },
     "metadata": {
      "needs_background": "light"
     },
     "output_type": "display_data"
    }
   ],
   "source": [
    "n_visitors = 5\n",
    "\n",
    "visitor_distn = stats.poisson(n_visitors)\n",
    "\n",
    "possible_visitors = list(range(20))\n",
    "plt.bar(possible_visitors,\n",
    "        visitor_distn.pmf(possible_visitors))"
   ]
  },
  {
   "cell_type": "markdown",
   "metadata": {},
   "source": [
    "#### Poisson cdf\n",
    "\n",
    "The cumulative distribution is given by the formula:\n",
    "\n",
    "### $$ e^{-\\lambda} \\sum_{i=0}^{\\lfloor x\\rfloor} \\frac{\\lambda^i}{i!} $$\n",
    "\n",
    "Where the $\\lfloor x\\rfloor$ represents the greatest integer less than or equal to $x$."
   ]
  },
  {
   "cell_type": "markdown",
   "metadata": {},
   "source": [
    "Note: You can *know these formulas*, but as a Data Scientist/Analyst, *knowing when and how to apply*  is generally more important in a real-world context. Python has taken care of incorporating the formulas under the hood for us. That's why, we can just import the **scipy.stats** library and call **.poisson()** to do the computations for us. "
   ]
  },
  {
   "cell_type": "code",
   "execution_count": 15,
   "metadata": {},
   "outputs": [
    {
     "data": {
      "image/png": "[encoded data removed]",
      "text/plain": [
       "<Figure size 432x288 with 1 Axes>"
      ]
     },
     "metadata": {
      "needs_background": "light"
     },
     "output_type": "display_data"
    }
   ],
   "source": [
    "plt.step(possible_visitors,\n",
    "         visitor_distn.cdf(possible_visitors))\n",
    "plt.xticks(possible_visitors);"
   ]
  },
  {
   "cell_type": "markdown",
   "metadata": {},
   "source": [
    "## Conclusion\n",
    "\n",
    "By the end of this lesson, students should be able to:\n",
    "- Define distribution and random variable.\n",
    "- Describe the difference between discrete and continuous random variables.\n",
    "- Understand the difference between probability mass functions and cumulative distribution functions.\n",
    "- Give examples of the following distributions: Discrete Uniform, Bernoulli, Binomial, and Poisson.\n",
    "\n",
    "<details>\n",
    "<summary>What is a distribution?</summary>\n",
    "<li> A distribution is the set of all values of a variable and how frequently we observe them.\n",
    "</details>\n",
    "<br>\n",
    "<details>\n",
    "<summary>What is a random variable?</summary>\n",
    "<li> A random variable is a function that takes our sample space $\\mathcal{S}$ and maps it to the real number line.\n",
    "</details>\n",
    "<br>\n",
    "<details>\n",
    "<summary>What is the difference between a discrete and continuous random variable?</summary>\n",
    "<li> A discrete random variable has a countable sample space; a continuous random variable has a sample space that is not countable.\n",
    "</details>\n",
    "<br>\n",
    "<details>\n",
    "<summary>What is the difference between a probability mass function and a cumulative distribution function? </summary>\n",
    "<li> A probability mass function gives us the probability of that particular value of the random variable occurring. The cumulative mass function gives us the probability of that particular value and all values below it.\n",
    "</details>\n",
    "<br>\n",
    "<details>\n",
    "<summary>What is the Discrete Uniform distribution? </summary>\n",
    "<li> The discrete uniform distribution is appropriate for an experiment where all outcomes are equally likely.\n",
    "<li> Examples include:\n",
    "<ul>\n",
    "<li> the number of heads tossed with one coin (0 and 1 both occur 50% of the time)\n",
    "<li> the value rolled with one die (numbers 1 through 6 each occur exactly 1/6 of the time)\n",
    "</ul>\n",
    "</details>\n",
    "<br>\n",
    "<details>\n",
    "<summary>What is the Bernoulli distribution? </summary>\n",
    "<li> The Bernoulli distribution is appropriate for an experiment with two outcomes and a fixed probability of success $p$.\n",
    "<li> Examples include:\n",
    "<ul>\n",
    "<li> the number of heads tossed with one coin (0 and 1 both occur 50% of the time)\n",
    "<li> the number of correct answers a randomly guessing person gets on one multiple choice question with four choices (1 occurs 25% of the time; 0 occurs 75% of the time)\n",
    "</ul>\n",
    "</details>\n",
    "<br>\n",
    "<details>\n",
    "<summary>What is the Binomial distribution? </summary>\n",
    "<li> The Binomial distribution is appropriate for a sum of Bernoulli random variables, or where we have $n$ independent experiments with two outcomes and a fixed probability of success $p$.\n",
    "<li> Examples would include:\n",
    "<ul>\n",
    "<li> the number of heads tossed with $n$ coins\n",
    "<li> the number of correct answers a randomly guessing person gets on on $n$ multiple choice questions with four choices each\n",
    "</ul>\n",
    "</details>\n",
    "<br>\n",
    "<details>\n",
    "<summary>What is the Poisson distribution? </summary>\n",
    "<li> Whereas the Binomial distribution is appropriate for an experiment counting the number of successes out of a fixed number of trials, the Poisson distribution is appropriate for an experiment counting the number of successes in a fixed interval.\n",
    "<li> Getting into the theory, if we took a Binomial distribution, let the number of trials $n$ go to infinity, and the probability of success $p$ approach 0, then we get a Poisson distribution.\n",
    "<li> Examples would include:\n",
    "<ul>\n",
    "<li> the number of calls received at a call center in five minutes\n",
    "<li> the count of people who go to my website in one day\n",
    "</ul>\n",
    "</details>\n",
    "\n"
   ]
  },
  {
   "cell_type": "code",
   "execution_count": null,
   "metadata": {},
   "outputs": [],
   "source": []
  }
 ],
 "metadata": {
  "kernelspec": {
   "display_name": "Python 3",
   "language": "python",
   "name": "python3"
  },
  "language_info": {
   "codemirror_mode": {
    "name": "ipython",
    "version": 3
   },
   "file_extension": ".py",
   "mimetype": "text/x-python",
   "name": "python",
   "nbconvert_exporter": "python",
   "pygments_lexer": "ipython3",
   "version": "3.8.8"
  }
 },
 "nbformat": 4,
 "nbformat_minor": 4
}
