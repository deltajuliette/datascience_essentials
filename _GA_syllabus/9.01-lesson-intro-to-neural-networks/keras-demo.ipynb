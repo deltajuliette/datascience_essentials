{
 "cells": [
  {
   "cell_type": "markdown",
   "metadata": {},
   "source": [
    "<img src=\"http://imgur.com/1ZcRyrc.png\" style=\"float: left; margin: 20px; height: 55px\">\n",
    "\n",
    "## Intro to Neural Networks\n",
    "\n",
    "\n",
    "_Author:_ Tim Book"
   ]
  },
  {
   "cell_type": "code",
   "execution_count": null,
   "metadata": {},
   "outputs": [],
   "source": [
    "# Install GPU version of tensorflow\n",
    "# ! conda install tensorflow-gpu\n",
    "\n",
    "# CPU version\n",
    "# ! pip install tensorflow"
   ]
  },
  {
   "cell_type": "code",
   "execution_count": 1,
   "metadata": {},
   "outputs": [],
   "source": [
    "import matplotlib.pyplot as plt\n",
    "\n",
    "import numpy as np\n",
    "from sklearn.datasets import make_classification\n",
    "from sklearn.preprocessing import OneHotEncoder\n",
    "\n",
    "from tensorflow.keras.optimizers import Adam, SGD\n",
    "from tensorflow.keras.models import Sequential\n",
    "from tensorflow.keras.layers import Dense # Dense == Fully Connected"
   ]
  },
  {
   "cell_type": "code",
   "execution_count": 2,
   "metadata": {},
   "outputs": [],
   "source": [
    "# Making some fake data for illustration purposes.\n",
    "# On your own time, try making this BIGGER!\n",
    "X, y = make_classification(\n",
    "    n_samples=100_000,\n",
    "    n_features=200,\n",
    "    n_informative=200,\n",
    "    n_redundant=0,\n",
    "    n_classes=10,\n",
    "    random_state=42\n",
    ")"
   ]
  },
  {
   "cell_type": "code",
   "execution_count": 3,
   "metadata": {},
   "outputs": [
    {
     "data": {
      "text/plain": [
       "(100000,)"
      ]
     },
     "execution_count": 3,
     "metadata": {},
     "output_type": "execute_result"
    }
   ],
   "source": [
    "y.shape"
   ]
  },
  {
   "cell_type": "code",
   "execution_count": 4,
   "metadata": {},
   "outputs": [
    {
     "data": {
      "text/plain": [
       "array([0, 8, 6, ..., 3, 9, 0])"
      ]
     },
     "execution_count": 4,
     "metadata": {},
     "output_type": "execute_result"
    }
   ],
   "source": [
    "y"
   ]
  },
  {
   "cell_type": "code",
   "execution_count": 5,
   "metadata": {},
   "outputs": [
    {
     "data": {
      "text/plain": [
       "array([[0],\n",
       "       [8],\n",
       "       [6],\n",
       "       ...,\n",
       "       [3],\n",
       "       [9],\n",
       "       [0]])"
      ]
     },
     "execution_count": 5,
     "metadata": {},
     "output_type": "execute_result"
    }
   ],
   "source": [
    "y.reshape(-1, 1)"
   ]
  },
  {
   "cell_type": "code",
   "execution_count": 6,
   "metadata": {},
   "outputs": [],
   "source": [
    "# Since we're doing multiclass classification, we actually need to one-hot\n",
    "# encode y to be an n-by-10 matrix. Keras doesn't know we're doing classification!\n",
    "oh = OneHotEncoder(\n",
    "    sparse=False,\n",
    "    dtype=int,\n",
    "    categories=\"auto\"\n",
    ")\n",
    "\n",
    "y = oh.fit_transform(y.reshape(-1, 1))"
   ]
  },
  {
   "cell_type": "code",
   "execution_count": 7,
   "metadata": {},
   "outputs": [
    {
     "data": {
      "text/plain": [
       "(100000, 200)"
      ]
     },
     "execution_count": 7,
     "metadata": {},
     "output_type": "execute_result"
    }
   ],
   "source": [
    "X.shape"
   ]
  },
  {
   "cell_type": "code",
   "execution_count": 8,
   "metadata": {},
   "outputs": [
    {
     "data": {
      "text/plain": [
       "(100000, 10)"
      ]
     },
     "execution_count": 8,
     "metadata": {},
     "output_type": "execute_result"
    }
   ],
   "source": [
    "y.shape"
   ]
  },
  {
   "cell_type": "code",
   "execution_count": 9,
   "metadata": {},
   "outputs": [
    {
     "data": {
      "text/plain": [
       "array([[1, 0, 0, 0, 0, 0, 0, 0, 0, 0],\n",
       "       [0, 0, 0, 0, 0, 0, 0, 0, 1, 0],\n",
       "       [0, 0, 0, 0, 0, 0, 1, 0, 0, 0],\n",
       "       [0, 0, 0, 1, 0, 0, 0, 0, 0, 0],\n",
       "       [1, 0, 0, 0, 0, 0, 0, 0, 0, 0],\n",
       "       [0, 0, 0, 0, 0, 0, 0, 0, 1, 0],\n",
       "       [0, 0, 0, 1, 0, 0, 0, 0, 0, 0],\n",
       "       [0, 0, 0, 0, 0, 0, 1, 0, 0, 0],\n",
       "       [0, 0, 0, 1, 0, 0, 0, 0, 0, 0],\n",
       "       [0, 0, 0, 0, 0, 1, 0, 0, 0, 0]])"
      ]
     },
     "execution_count": 9,
     "metadata": {},
     "output_type": "execute_result"
    }
   ],
   "source": [
    "y[:10]"
   ]
  },
  {
   "cell_type": "code",
   "execution_count": 10,
   "metadata": {},
   "outputs": [],
   "source": [
    "# Instantiate model\n",
    "model = Sequential()"
   ]
  },
  {
   "cell_type": "code",
   "execution_count": 11,
   "metadata": {},
   "outputs": [],
   "source": [
    "# One by one, add Dense layers to our model.\n",
    "# \"Dense\" is another name for the \"Fully Connected\" layers we saw in the slides\n",
    "# The hidden layers will use the ReLU activation\n",
    "model.add(Dense(128, activation=\"relu\", input_shape=(200,)))\n",
    "model.add(Dense(64, activation=\"relu\"))\n",
    "\n",
    "# Output layer will have softmax\n",
    "# The output layer should have the same number of nodes as the number of classes!\n",
    "model.add(Dense(10, activation=\"softmax\"))"
   ]
  },
  {
   "cell_type": "code",
   "execution_count": 13,
   "metadata": {},
   "outputs": [],
   "source": [
    "# We need to compile our model in Keras.\n",
    "# Need to tell it three things:\n",
    "# Optimizer (for us, usually Adam)\n",
    "# Loss (which?)\n",
    "# Metrics (Definitely need accuracy, but could do more)\n",
    "\n",
    "#opt = SGD(learning_rate=0.01)\n",
    "opt = Adam(learning_rate=0.001)\n",
    "\n",
    "model.compile(\n",
    "    optimizer=opt,\n",
    "    loss=\"categorical_crossentropy\", # for multi-class classification\n",
    "    metrics=[\"acc\"]\n",
    ")"
   ]
  },
  {
   "cell_type": "code",
   "execution_count": 16,
   "metadata": {},
   "outputs": [
    {
     "data": {
      "text/plain": [
       "2500.0"
      ]
     },
     "execution_count": 16,
     "metadata": {},
     "output_type": "execute_result"
    }
   ],
   "source": [
    "80_000/32"
   ]
  },
  {
   "cell_type": "code",
   "execution_count": 14,
   "metadata": {},
   "outputs": [
    {
     "name": "stdout",
     "output_type": "stream",
     "text": [
      "Epoch 1/10\n",
      "2500/2500 [==============================] - 3s 1ms/step - loss: 1.7484 - acc: 0.4221 - val_loss: 1.0687 - val_acc: 0.6418\n",
      "Epoch 2/10\n",
      "2500/2500 [==============================] - 2s 994us/step - loss: 0.7471 - acc: 0.7526 - val_loss: 0.6539 - val_acc: 0.7897\n",
      "Epoch 3/10\n",
      "2500/2500 [==============================] - 3s 1ms/step - loss: 0.4735 - acc: 0.8500 - val_loss: 0.5708 - val_acc: 0.8243\n",
      "Epoch 4/10\n",
      "2500/2500 [==============================] - 2s 984us/step - loss: 0.3698 - acc: 0.8846 - val_loss: 0.5183 - val_acc: 0.8434\n",
      "Epoch 5/10\n",
      "2500/2500 [==============================] - 3s 1ms/step - loss: 0.3092 - acc: 0.9045 - val_loss: 0.5038 - val_acc: 0.8556\n",
      "Epoch 6/10\n",
      "2500/2500 [==============================] - 3s 1ms/step - loss: 0.2764 - acc: 0.9157 - val_loss: 0.5053 - val_acc: 0.8568\n",
      "Epoch 7/10\n",
      "2500/2500 [==============================] - 3s 1ms/step - loss: 0.2422 - acc: 0.9266 - val_loss: 0.5259 - val_acc: 0.8575\n",
      "Epoch 8/10\n",
      "2500/2500 [==============================] - 3s 1ms/step - loss: 0.2230 - acc: 0.9330 - val_loss: 0.4934 - val_acc: 0.8684\n",
      "Epoch 9/10\n",
      "2500/2500 [==============================] - 3s 1ms/step - loss: 0.2062 - acc: 0.9384 - val_loss: 0.4881 - val_acc: 0.8723\n",
      "Epoch 10/10\n",
      "2500/2500 [==============================] - 3s 1ms/step - loss: 0.1925 - acc: 0.9413 - val_loss: 0.5186 - val_acc: 0.8676\n"
     ]
    }
   ],
   "source": [
    "# Fit!\n",
    "# Need to specify batch_size and epochs\n",
    "# Can validate with validation_split\n",
    "hist = model.fit(\n",
    "    X, y,\n",
    "    batch_size=32,\n",
    "    epochs=10,\n",
    "    validation_split=0.2\n",
    ")"
   ]
  },
  {
   "cell_type": "code",
   "execution_count": 21,
   "metadata": {},
   "outputs": [
    {
     "data": {
      "text/plain": [
       "{'loss': [1.7483546733856201,\n",
       "  0.7471375465393066,\n",
       "  0.47346577048301697,\n",
       "  0.36984753608703613,\n",
       "  0.30924540758132935,\n",
       "  0.27635815739631653,\n",
       "  0.24223950505256653,\n",
       "  0.22302958369255066,\n",
       "  0.2061575949192047,\n",
       "  0.19250477850437164],\n",
       " 'acc': [0.4221374988555908,\n",
       "  0.7526000142097473,\n",
       "  0.8499749898910522,\n",
       "  0.8845624923706055,\n",
       "  0.9044749736785889,\n",
       "  0.9156625270843506,\n",
       "  0.9266374707221985,\n",
       "  0.9329875111579895,\n",
       "  0.9384499788284302,\n",
       "  0.9413124918937683],\n",
       " 'val_loss': [1.0687313079833984,\n",
       "  0.6538534760475159,\n",
       "  0.5707833766937256,\n",
       "  0.5182701945304871,\n",
       "  0.5037783980369568,\n",
       "  0.5052664279937744,\n",
       "  0.5259492993354797,\n",
       "  0.49344101548194885,\n",
       "  0.4880746006965637,\n",
       "  0.5186255574226379],\n",
       " 'val_acc': [0.6418499946594238,\n",
       "  0.7897499799728394,\n",
       "  0.8242999911308289,\n",
       "  0.8434000015258789,\n",
       "  0.8555999994277954,\n",
       "  0.8567500114440918,\n",
       "  0.8575000166893005,\n",
       "  0.8683500289916992,\n",
       "  0.8723000288009644,\n",
       "  0.8676499724388123]}"
      ]
     },
     "execution_count": 21,
     "metadata": {},
     "output_type": "execute_result"
    }
   ],
   "source": [
    "hist.history"
   ]
  },
  {
   "cell_type": "code",
   "execution_count": 17,
   "metadata": {},
   "outputs": [
    {
     "data": {
      "image/png": "[encoded data removed]",
      "text/plain": [
       "<Figure size 432x288 with 1 Axes>"
      ]
     },
     "metadata": {
      "needs_background": "light"
     },
     "output_type": "display_data"
    }
   ],
   "source": [
    "plt.plot(hist.epoch, hist.history['loss'], label='train loss')\n",
    "plt.plot(hist.epoch, hist.history['val_loss'], label='val loss')\n",
    "plt.xlabel('Epoch')\n",
    "plt.ylabel('Loss')\n",
    "plt.legend();"
   ]
  },
  {
   "cell_type": "code",
   "execution_count": 22,
   "metadata": {},
   "outputs": [
    {
     "data": {
      "image/png": "[encoded data removed]",
      "text/plain": [
       "<Figure size 432x288 with 1 Axes>"
      ]
     },
     "metadata": {
      "needs_background": "light"
     },
     "output_type": "display_data"
    }
   ],
   "source": [
    "plt.plot(hist.epoch, hist.history['acc'], label='train acc')\n",
    "plt.plot(hist.epoch, hist.history['val_acc'], label='val acc')\n",
    "plt.xlabel('Epoch')\n",
    "plt.ylabel('Accuracy')\n",
    "plt.legend();"
   ]
  },
  {
   "cell_type": "code",
   "execution_count": null,
   "metadata": {},
   "outputs": [],
   "source": []
  }
 ],
 "metadata": {
  "kernelspec": {
   "display_name": "Python 3 (ipykernel)",
   "language": "python",
   "name": "python3"
  },
  "language_info": {
   "codemirror_mode": {
    "name": "ipython",
    "version": 3
   },
   "file_extension": ".py",
   "mimetype": "text/x-python",
   "name": "python",
   "nbconvert_exporter": "python",
   "pygments_lexer": "ipython3",
   "version": "3.8.10"
  }
 },
 "nbformat": 4,
 "nbformat_minor": 4
}
