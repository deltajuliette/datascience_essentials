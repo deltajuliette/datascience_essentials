{
 "cells": [
  {
   "cell_type": "markdown",
   "metadata": {},
   "source": [
    "<img src=\"http://imgur.com/1ZcRyrc.png\" style=\"float: left; margin: 20px; height: 55px\">\n",
    "\n",
    "# OOP Practice Problem\n",
    "_Author:_ Tim Book (however, this is a very common example for OOP problems.)"
   ]
  },
  {
   "cell_type": "markdown",
   "metadata": {},
   "source": [
    "## Your task is to build a `BankAccount` class for a bank.\n",
    "The class should meet all the following specifications. Different students may interpret each of these specifications differently. Use your best judgment to determine what you think would be most useful to potential banking software! I have graded the specifications from easy to hard. But none of them are extremely difficult. Try to make it to the end!\n",
    "\n",
    "**Mild: Easy ones to start:**\n",
    "* Each account should have a `name` (e.g. `\"Tim's Checking\"`)\n",
    "* Each account should have an `interest_rate` (e.g. `0.03`)\n",
    "* Each account should have a starting `balance` of 0\n",
    "* The class should have `.withdraw()` and `.deposit()` methods.\n",
    "* Add a `.view_balance()` method that prints the balance in a user-friendly way. Maybe:\n",
    "    - `Tim's Checking has $300 remaining.`\n",
    "\n",
    "**Medium: Kinda hard:**\n",
    "* The class should have an `.accrue_interest()` method that increases the `balance` with respect to its interest rate.\n",
    "* Add checks to make sure the user can't withdraw to below \\$0.\n",
    "* If the user accidentally attempts to overdraw, incur a \\$35 fee to their account (this may cause the balance to go negative, which is allowed in this one case).\n",
    "* If the user's balance is negative, don't allow them to accrue interest!\n",
    "    \n",
    "**Spicy Mode:**\n",
    "* If fraud is detected, the bank wants the ability to freeze the account. Add `.freeze()` and `.unfreeze()` methods. While an account is frozen, do not allow depositing or withdrawing.\n",
    "* The user can only make 10 withdrawals a year. Create an instance variable that keeps track of these withdrawals, and throws an error if a user tries to make an 11th withdrawal.\n",
    "* Create a `.year_end()` method which implies the banking year has ended. What _two_ things above happen at the end of a year?\n",
    "\n",
    "**Nuclear: The things that you'll need to look up online in order to learn to do:**\n",
    "* Create a **class variable** (different from an instance variable!) that keeps track of the total number of bank accounts created.\n",
    "* Some of the methods we've created should not be allowed to be called by the user (e.g., the user shouldn't be allowed to `.accrue_interest()` whenever they want!). Turn these methods into _private methods_.\n",
    "    - Note: Python can't actually make private methods, but it can do something close."
   ]
  },
  {
   "cell_type": "code",
   "execution_count": null,
   "metadata": {},
   "outputs": [],
   "source": [
    "class BankAccount:\n",
    "    pass"
   ]
  }
 ],
 "metadata": {
  "kernelspec": {
   "display_name": "Python 3",
   "language": "python",
   "name": "python3"
  },
  "language_info": {
   "codemirror_mode": {
    "name": "ipython",
    "version": 3
   },
   "file_extension": ".py",
   "mimetype": "text/x-python",
   "name": "python",
   "nbconvert_exporter": "python",
   "pygments_lexer": "ipython3",
   "version": "3.8.3"
  }
 },
 "nbformat": 4,
 "nbformat_minor": 4
}
