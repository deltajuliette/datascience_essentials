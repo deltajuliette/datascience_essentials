{
 "cells": [
  {
   "cell_type": "code",
   "execution_count": 3,
   "metadata": {},
   "outputs": [
    {
     "name": "stdout",
     "output_type": "stream",
     "text": [
      "Train on 7500 samples, validate on 2500 samples\n",
      "Epoch 1/10\n",
      "7500/7500 [==============================] - 0s 49us/sample - loss: 40189.1966 - mae: 160.5106 - val_loss: 39368.6353 - val_mae: 158.8535\n",
      "Epoch 2/10\n",
      "7500/7500 [==============================] - 0s 7us/sample - loss: 40122.2750 - mae: 160.3760 - val_loss: 39301.4079 - val_mae: 158.7184\n",
      "Epoch 3/10\n",
      "7500/7500 [==============================] - 0s 5us/sample - loss: 40052.5460 - mae: 160.2354 - val_loss: 39228.7046 - val_mae: 158.5720\n",
      "Epoch 4/10\n",
      "7500/7500 [==============================] - 0s 6us/sample - loss: 39975.9084 - mae: 160.0806 - val_loss: 39147.0397 - val_mae: 158.4076\n",
      "Epoch 5/10\n",
      "7500/7500 [==============================] - 0s 5us/sample - loss: 39888.6470 - mae: 159.9046 - val_loss: 39053.3421 - val_mae: 158.2182\n",
      "Epoch 6/10\n",
      "7500/7500 [==============================] - 0s 5us/sample - loss: 39787.9381 - mae: 159.6993 - val_loss: 38943.6991 - val_mae: 157.9961\n",
      "Epoch 7/10\n",
      "7500/7500 [==============================] - 0s 6us/sample - loss: 39669.9372 - mae: 159.4601 - val_loss: 38815.8536 - val_mae: 157.7364\n",
      "Epoch 8/10\n",
      "7500/7500 [==============================] - 0s 6us/sample - loss: 39533.1893 - mae: 159.1802 - val_loss: 38667.3073 - val_mae: 157.4330\n",
      "Epoch 9/10\n",
      "7500/7500 [==============================] - 0s 16us/sample - loss: 39374.5053 - mae: 158.8552 - val_loss: 38495.4785 - val_mae: 157.0802\n",
      "Epoch 10/10\n",
      "7500/7500 [==============================] - 0s 10us/sample - loss: 39192.6919 - mae: 158.4785 - val_loss: 38299.4090 - val_mae: 156.6745\n"
     ]
    },
    {
     "data": {
      "text/plain": [
       "<tensorflow.python.keras.callbacks.History at 0x1a33d33fd0>"
      ]
     },
     "execution_count": 3,
     "metadata": {},
     "output_type": "execute_result"
    }
   ],
   "source": [
    "from sklearn.datasets import make_regression\n",
    "from sklearn.preprocessing import StandardScaler\n",
    "from sklearn.model_selection import train_test_split\n",
    "\n",
    "from tensorflow.keras.models import Sequential\n",
    "from tensorflow.keras.layers import Dense\n",
    "\n",
    "X, y = make_regression(n_samples=10000, n_features=20, random_state=42)\n",
    "\n",
    "X_train, X_test, y_train, y_test = train_test_split(X, y, random_state=42)\n",
    "\n",
    "ss = StandardScaler()\n",
    "X_train_sc = ss.fit_transform(X_train)\n",
    "X_test_sc = ss.transform(X_test)\n",
    "\n",
    "model = Sequential()\n",
    "model.add(Dense(32, # How many neurons do you want in your first layer.\n",
    "                input_shape=(20,),\n",
    "                activation='relu'))\n",
    "model.add(Dense(1))\n",
    "\n",
    "model.compile(loss='mse', optimizer='adam', metrics=['mae'])\n",
    "\n",
    "model.fit(X_train_sc, y_train, validation_data=(X_test_sc, y_test), epochs=10, batch_size=512)"
   ]
  },
  {
   "cell_type": "code",
   "execution_count": null,
   "metadata": {},
   "outputs": [],
   "source": []
  }
 ],
 "metadata": {
  "kernelspec": {
   "display_name": "Python 3",
   "language": "python",
   "name": "python3"
  },
  "language_info": {
   "codemirror_mode": {
    "name": "ipython",
    "version": 3
   },
   "file_extension": ".py",
   "mimetype": "text/x-python",
   "name": "python",
   "nbconvert_exporter": "python",
   "pygments_lexer": "ipython3",
   "version": "3.7.4"
  }
 },
 "nbformat": 4,
 "nbformat_minor": 2
}
