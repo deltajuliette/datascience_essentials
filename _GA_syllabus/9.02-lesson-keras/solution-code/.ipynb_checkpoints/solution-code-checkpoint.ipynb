{
 "cells": [
  {
   "cell_type": "markdown",
   "metadata": {},
   "source": [
    "<img src=\"http://imgur.com/1ZcRyrc.png\" style=\"float: left; margin: 20px; height: 55px\">\n",
    "\n",
    "# Neural Networks with Keras\n",
    "\n",
    "_Authors: Justin Pounders (ATL) and Riley Dallas (ATX)_\n",
    "\n",
    "---\n",
    "\n",
    "\n",
    "### Learning Objectives\n",
    "\n",
    "- Describe the basic `keras` workflow.\n",
    "- Train regression and classification neural networks using `keras`"
   ]
  },
  {
   "cell_type": "code",
   "execution_count": 1,
   "metadata": {},
   "outputs": [],
   "source": [
    "import numpy as np\n",
    "from sklearn.datasets import make_classification, make_regression\n",
    "from sklearn.preprocessing import StandardScaler\n",
    "from sklearn.model_selection import train_test_split\n",
    "import matplotlib.pyplot as plt\n",
    "\n",
    "from tensorflow.keras.models import Sequential\n",
    "from tensorflow.keras.layers import Dense\n",
    "from tensorflow.keras.optimizers import Adam\n",
    "from tensorflow.keras.utils import to_categorical"
   ]
  },
  {
   "cell_type": "markdown",
   "metadata": {},
   "source": [
    "# Regression\n",
    "---\n",
    "\n",
    "`make_regression` is an excellent library for generating a random regression problem. This helps us focus on the model without having to worry about the dataset. \n",
    "\n",
    "In the cell below, use `make_regression` to generate 10,000 samples using 20 features."
   ]
  },
  {
   "cell_type": "code",
   "execution_count": 2,
   "metadata": {},
   "outputs": [],
   "source": [
    "X, y = make_regression(n_samples=10000, n_features=20, random_state=42)"
   ]
  },
  {
   "cell_type": "markdown",
   "metadata": {},
   "source": [
    "### Train/Test Split\n",
    "---\n",
    "\n",
    "We always want to have a validation set to test our model. Use the `train_test_split` function to split our `X` and `y` variables into a training set and a holdout set."
   ]
  },
  {
   "cell_type": "code",
   "execution_count": 3,
   "metadata": {},
   "outputs": [],
   "source": [
    "X_train, X_test, y_train, y_test = train_test_split(X, y, random_state=42)"
   ]
  },
  {
   "cell_type": "markdown",
   "metadata": {},
   "source": [
    "### `StandardScaler`\n",
    "---\n",
    "\n",
    "You want to scale your data for *any* model that uses Gradient Descent, which includes Neural Networks."
   ]
  },
  {
   "cell_type": "code",
   "execution_count": 4,
   "metadata": {},
   "outputs": [],
   "source": [
    "ss = StandardScaler()\n",
    "X_train_sc = ss.fit_transform(X_train)\n",
    "X_test_sc = ss.transform(X_test)"
   ]
  },
  {
   "cell_type": "markdown",
   "metadata": {},
   "source": [
    "### Your first Neural Network!!\n",
    "---\n",
    "\n",
    "Creating a model in `keras` entails a few steps:\n",
    "1. Create your network architecture\n",
    "2. Compile your model\n",
    "3. Fit your model\n",
    "\n",
    "We'll cover each step in the cells below.\n",
    "\n",
    "### Create your network architecture\n",
    "---\n",
    "\n",
    "We'll create a simple network with:\n",
    "- an input layer\n",
    "- one hidden layer. As a general rule, you should use `'relu'` as your activation function for all hidden layers.\n",
    "- an output layer. \n",
    "\n",
    "For *all* regression problems, your output layer will be 1 neuron with *no* activation function. "
   ]
  },
  {
   "cell_type": "code",
   "execution_count": 5,
   "metadata": {},
   "outputs": [],
   "source": [
    "model = Sequential() # Sequential pipeline\n",
    "model.add(Dense(32, # How many nodes/neurons do you want in your first layer.\n",
    "                input_shape=(20,),\n",
    "                activation='relu'))\n",
    "model.add(Dense(1))"
   ]
  },
  {
   "cell_type": "code",
   "execution_count": 6,
   "metadata": {},
   "outputs": [
    {
     "name": "stdout",
     "output_type": "stream",
     "text": [
      "Model: \"sequential\"\n",
      "_________________________________________________________________\n",
      "Layer (type)                 Output Shape              Param #   \n",
      "=================================================================\n",
      "dense (Dense)                (None, 32)                672       \n",
      "_________________________________________________________________\n",
      "dense_1 (Dense)              (None, 1)                 33        \n",
      "=================================================================\n",
      "Total params: 705\n",
      "Trainable params: 705\n",
      "Non-trainable params: 0\n",
      "_________________________________________________________________\n"
     ]
    }
   ],
   "source": [
    "# Check if your model architecture was built correctly\n",
    "model.summary()"
   ]
  },
  {
   "cell_type": "markdown",
   "metadata": {},
   "source": [
    "### Compile your model\n",
    "---\n",
    "\n",
    "Whenever you compile your model, you have to specify a few things: \n",
    "1. What [loss function](https://keras.io/losses/) to use (depends on if it's regression, classification, etc)\n",
    "2. What optimizer to use (Adam gives good results on most cases)\n",
    "3. Optional: What additional [metrics](https://keras.io/metrics/) you'd like to monitor"
   ]
  },
  {
   "cell_type": "code",
   "execution_count": 7,
   "metadata": {},
   "outputs": [],
   "source": [
    "opt = Adam(learning_rate=0.001)\n",
    "model.compile(loss='mse', optimizer=opt, metrics=['mae'])"
   ]
  },
  {
   "cell_type": "markdown",
   "metadata": {},
   "source": [
    "### Fit your model\n",
    "---\n",
    "\n",
    "When fitting your model, you need to specify a few things:\n",
    "1. The number of epochs: start with 10. Always easy to add more\n",
    "2. Your batch size: pick a number that is a power of 2\n",
    "3. Your validation data, which in this case is our test set."
   ]
  },
  {
   "cell_type": "code",
   "execution_count": 8,
   "metadata": {},
   "outputs": [
    {
     "name": "stdout",
     "output_type": "stream",
     "text": [
      "Epoch 1/10\n",
      "15/15 [==============================] - 0s 15ms/step - loss: 40258.4336 - mae: 160.6466 - val_loss: 39449.3477 - val_mae: 159.0183\n",
      "Epoch 2/10\n",
      "15/15 [==============================] - 0s 6ms/step - loss: 40189.1172 - mae: 160.5075 - val_loss: 39380.1836 - val_mae: 158.8792\n",
      "Epoch 3/10\n",
      "15/15 [==============================] - 0s 6ms/step - loss: 40116.6406 - mae: 160.3622 - val_loss: 39305.3398 - val_mae: 158.7283\n",
      "Epoch 4/10\n",
      "15/15 [==============================] - 0s 5ms/step - loss: 40036.7070 - mae: 160.2016 - val_loss: 39219.9922 - val_mae: 158.5557\n",
      "Epoch 5/10\n",
      "15/15 [==============================] - 0s 6ms/step - loss: 39944.5586 - mae: 160.0166 - val_loss: 39121.7109 - val_mae: 158.3564\n",
      "Epoch 6/10\n",
      "15/15 [==============================] - 0s 7ms/step - loss: 39837.0781 - mae: 159.7990 - val_loss: 39006.0352 - val_mae: 158.1214\n",
      "Epoch 7/10\n",
      "15/15 [==============================] - 0s 7ms/step - loss: 39710.2109 - mae: 159.5421 - val_loss: 38870.1289 - val_mae: 157.8441\n",
      "Epoch 8/10\n",
      "15/15 [==============================] - 0s 7ms/step - loss: 39562.1016 - mae: 159.2403 - val_loss: 38710.4141 - val_mae: 157.5170\n",
      "Epoch 9/10\n",
      "15/15 [==============================] - 0s 6ms/step - loss: 39390.2852 - mae: 158.8867 - val_loss: 38524.3281 - val_mae: 157.1336\n",
      "Epoch 10/10\n",
      "15/15 [==============================] - 0s 6ms/step - loss: 39189.9102 - mae: 158.4757 - val_loss: 38314.2617 - val_mae: 156.6983\n"
     ]
    },
    {
     "data": {
      "text/plain": [
       "<tensorflow.python.keras.callbacks.History at 0x7f614c06acd0>"
      ]
     },
     "execution_count": 8,
     "metadata": {},
     "output_type": "execute_result"
    }
   ],
   "source": [
    "model.fit(X_train_sc, y_train, validation_data=(X_test_sc, y_test), epochs=10, batch_size=512)"
   ]
  },
  {
   "cell_type": "markdown",
   "metadata": {},
   "source": [
    "### Model predictions\n",
    "---\n",
    "\n",
    "Your `keras` model has a `.fit()` method, similar to `sklearn`. The only difference is `keras` returns a 2D `numpy` matrix (`sklearn` returns a 1D `numpy` array).\n",
    "\n",
    "Try it out in the cell below."
   ]
  },
  {
   "cell_type": "code",
   "execution_count": 9,
   "metadata": {},
   "outputs": [
    {
     "data": {
      "text/plain": [
       "array([[ 3.9441025],\n",
       "       [ 2.7536507],\n",
       "       [ 6.0439067],\n",
       "       ...,\n",
       "       [ 1.4964954],\n",
       "       [ 6.6142497],\n",
       "       [-3.4680324]], dtype=float32)"
      ]
     },
     "execution_count": 9,
     "metadata": {},
     "output_type": "execute_result"
    }
   ],
   "source": [
    "model.predict(X_test_sc)"
   ]
  },
  {
   "cell_type": "markdown",
   "metadata": {},
   "source": [
    "# Binary Classification\n",
    "---\n",
    "\n",
    "`make_classification` is similar to `make_regression`, except now we're predicting a class (0 or 1).\n",
    "\n",
    "In the cell below, use `make_classification` to generate 10,000 samples using 20 features."
   ]
  },
  {
   "cell_type": "code",
   "execution_count": 10,
   "metadata": {},
   "outputs": [],
   "source": [
    "X, y = make_classification(n_samples=10_000, n_features=20, random_state=42)"
   ]
  },
  {
   "cell_type": "markdown",
   "metadata": {},
   "source": [
    "### Train/Test Split\n",
    "---\n",
    "\n",
    "We always want to have a validation set to test our model. Use the `train_test_split` function to split our `X` and `y` variables into a training set and a holdout set."
   ]
  },
  {
   "cell_type": "code",
   "execution_count": 11,
   "metadata": {},
   "outputs": [],
   "source": [
    "X_train, X_test, y_train, y_test = train_test_split(X, y, random_state=42, stratify=y)"
   ]
  },
  {
   "cell_type": "markdown",
   "metadata": {},
   "source": [
    "### `StandardScaler`\n",
    "---\n",
    "\n",
    "You want to scale your data for *any* model that uses Gradient Descent, which includes Neural Networks."
   ]
  },
  {
   "cell_type": "code",
   "execution_count": 12,
   "metadata": {},
   "outputs": [],
   "source": [
    "ss = StandardScaler()\n",
    "X_train_sc = ss.fit_transform(X_train)\n",
    "X_test_sc = ss.transform(X_test)"
   ]
  },
  {
   "cell_type": "markdown",
   "metadata": {},
   "source": [
    "### Network Architecture for Binary Classification\n",
    "---\n",
    "\n",
    "We'll create a simple network with:\n",
    "- an input layer, \n",
    "- one hidden layer. As a general rule, you should use `'relu'` as your activation function for all hidden layers.\n",
    "- an output layer. \n",
    "\n",
    "For *all* binary classification problems, your output layer will be 1 neuron with `'sigmoid'` activation function. Sigmoid squashes the output of our neuron to a value between 0 and 1, which is great for predicting probabilities. We'll use the probability for our loss function in the next step."
   ]
  },
  {
   "cell_type": "code",
   "execution_count": 13,
   "metadata": {},
   "outputs": [],
   "source": [
    "model = Sequential()\n",
    "model.add(Dense(32,\n",
    "                input_shape=(20,),\n",
    "                activation='relu'))\n",
    "model.add(Dense(1, activation='sigmoid'))"
   ]
  },
  {
   "cell_type": "code",
   "execution_count": 14,
   "metadata": {},
   "outputs": [
    {
     "name": "stdout",
     "output_type": "stream",
     "text": [
      "Model: \"sequential_1\"\n",
      "_________________________________________________________________\n",
      "Layer (type)                 Output Shape              Param #   \n",
      "=================================================================\n",
      "dense_2 (Dense)              (None, 32)                672       \n",
      "_________________________________________________________________\n",
      "dense_3 (Dense)              (None, 1)                 33        \n",
      "=================================================================\n",
      "Total params: 705\n",
      "Trainable params: 705\n",
      "Non-trainable params: 0\n",
      "_________________________________________________________________\n"
     ]
    }
   ],
   "source": [
    "# Check if your model architecture was built correctly\n",
    "model.summary()"
   ]
  },
  {
   "cell_type": "markdown",
   "metadata": {},
   "source": [
    "### Compile your model\n",
    "---\n",
    "\n",
    "Whenever you compile your model, you have to specify a few things: \n",
    "1. What loss function to use: For binary classification, use `binary_crossentropy`. ([Description](https://ml-cheatsheet.readthedocs.io/en/latest/loss_functions.html#cross-entropy))\n",
    "2. What optimizer to use (Adam gives good results on most cases)\n",
    "3. Optional: What additional [metrics](https://keras.io/metrics/) you'd like to monitor"
   ]
  },
  {
   "cell_type": "code",
   "execution_count": 15,
   "metadata": {},
   "outputs": [],
   "source": [
    "opt = Adam(learning_rate=0.001)\n",
    "model.compile(loss='binary_crossentropy', optimizer=opt, metrics=['accuracy'])"
   ]
  },
  {
   "cell_type": "markdown",
   "metadata": {},
   "source": [
    "### Fit your model\n",
    "---\n",
    "\n",
    "When fitting your model, you need to specify a few things:\n",
    "1. The number of epochs: start with 10. Always easy to add more\n",
    "2. Your batch size: pick a number that is a power of 2\n",
    "3. Your validation data, which in this case is our test set.\n",
    "\n",
    "When you fit a model, `keras` returns a `History` object. We need that in the next step, but for now, just save it to a variable."
   ]
  },
  {
   "cell_type": "code",
   "execution_count": 16,
   "metadata": {
    "scrolled": true
   },
   "outputs": [
    {
     "name": "stdout",
     "output_type": "stream",
     "text": [
      "Epoch 1/30\n",
      "15/15 [==============================] - 0s 11ms/step - loss: 0.7605 - accuracy: 0.4880 - val_loss: 0.7293 - val_accuracy: 0.5100\n",
      "Epoch 2/30\n",
      "15/15 [==============================] - 0s 8ms/step - loss: 0.6886 - accuracy: 0.5611 - val_loss: 0.6639 - val_accuracy: 0.5964\n",
      "Epoch 3/30\n",
      "15/15 [==============================] - 0s 9ms/step - loss: 0.6306 - accuracy: 0.6464 - val_loss: 0.6111 - val_accuracy: 0.6860\n",
      "Epoch 4/30\n",
      "15/15 [==============================] - 0s 7ms/step - loss: 0.5831 - accuracy: 0.7244 - val_loss: 0.5663 - val_accuracy: 0.7508\n",
      "Epoch 5/30\n",
      "15/15 [==============================] - 0s 6ms/step - loss: 0.5422 - accuracy: 0.7833 - val_loss: 0.5277 - val_accuracy: 0.7880\n",
      "Epoch 6/30\n",
      "15/15 [==============================] - 0s 6ms/step - loss: 0.5064 - accuracy: 0.8179 - val_loss: 0.4932 - val_accuracy: 0.8244\n",
      "Epoch 7/30\n",
      "15/15 [==============================] - 0s 6ms/step - loss: 0.4742 - accuracy: 0.8392 - val_loss: 0.4625 - val_accuracy: 0.8408\n",
      "Epoch 8/30\n",
      "15/15 [==============================] - 0s 7ms/step - loss: 0.4457 - accuracy: 0.8520 - val_loss: 0.4350 - val_accuracy: 0.8580\n",
      "Epoch 9/30\n",
      "15/15 [==============================] - 0s 7ms/step - loss: 0.4204 - accuracy: 0.8623 - val_loss: 0.4110 - val_accuracy: 0.8644\n",
      "Epoch 10/30\n",
      "15/15 [==============================] - 0s 6ms/step - loss: 0.3981 - accuracy: 0.8697 - val_loss: 0.3905 - val_accuracy: 0.8724\n",
      "Epoch 11/30\n",
      "15/15 [==============================] - 0s 6ms/step - loss: 0.3788 - accuracy: 0.8745 - val_loss: 0.3727 - val_accuracy: 0.8776\n",
      "Epoch 12/30\n",
      "15/15 [==============================] - 0s 11ms/step - loss: 0.3622 - accuracy: 0.8791 - val_loss: 0.3574 - val_accuracy: 0.8848\n",
      "Epoch 13/30\n",
      "15/15 [==============================] - 0s 6ms/step - loss: 0.3480 - accuracy: 0.8823 - val_loss: 0.3445 - val_accuracy: 0.8856\n",
      "Epoch 14/30\n",
      "15/15 [==============================] - 0s 6ms/step - loss: 0.3359 - accuracy: 0.8851 - val_loss: 0.3333 - val_accuracy: 0.8876\n",
      "Epoch 15/30\n",
      "15/15 [==============================] - 0s 7ms/step - loss: 0.3258 - accuracy: 0.8867 - val_loss: 0.3242 - val_accuracy: 0.8868\n",
      "Epoch 16/30\n",
      "15/15 [==============================] - 0s 7ms/step - loss: 0.3170 - accuracy: 0.8891 - val_loss: 0.3163 - val_accuracy: 0.8892\n",
      "Epoch 17/30\n",
      "15/15 [==============================] - 0s 7ms/step - loss: 0.3096 - accuracy: 0.8913 - val_loss: 0.3102 - val_accuracy: 0.8884\n",
      "Epoch 18/30\n",
      "15/15 [==============================] - 0s 8ms/step - loss: 0.3034 - accuracy: 0.8927 - val_loss: 0.3048 - val_accuracy: 0.8896\n",
      "Epoch 19/30\n",
      "15/15 [==============================] - 0s 7ms/step - loss: 0.2981 - accuracy: 0.8944 - val_loss: 0.2999 - val_accuracy: 0.8908\n",
      "Epoch 20/30\n",
      "15/15 [==============================] - 0s 8ms/step - loss: 0.2933 - accuracy: 0.8952 - val_loss: 0.2962 - val_accuracy: 0.8928\n",
      "Epoch 21/30\n",
      "15/15 [==============================] - 0s 7ms/step - loss: 0.2892 - accuracy: 0.8969 - val_loss: 0.2924 - val_accuracy: 0.8948\n",
      "Epoch 22/30\n",
      "15/15 [==============================] - 0s 8ms/step - loss: 0.2858 - accuracy: 0.8983 - val_loss: 0.2896 - val_accuracy: 0.8972\n",
      "Epoch 23/30\n",
      "15/15 [==============================] - 0s 7ms/step - loss: 0.2825 - accuracy: 0.8993 - val_loss: 0.2876 - val_accuracy: 0.8972\n",
      "Epoch 24/30\n",
      "15/15 [==============================] - 0s 7ms/step - loss: 0.2796 - accuracy: 0.9007 - val_loss: 0.2853 - val_accuracy: 0.8984\n",
      "Epoch 25/30\n",
      "15/15 [==============================] - 0s 7ms/step - loss: 0.2770 - accuracy: 0.9019 - val_loss: 0.2832 - val_accuracy: 0.8984\n",
      "Epoch 26/30\n",
      "15/15 [==============================] - 0s 7ms/step - loss: 0.2744 - accuracy: 0.9028 - val_loss: 0.2813 - val_accuracy: 0.8996\n",
      "Epoch 27/30\n",
      "15/15 [==============================] - 0s 7ms/step - loss: 0.2723 - accuracy: 0.9040 - val_loss: 0.2798 - val_accuracy: 0.9012\n",
      "Epoch 28/30\n",
      "15/15 [==============================] - 0s 7ms/step - loss: 0.2702 - accuracy: 0.9048 - val_loss: 0.2778 - val_accuracy: 0.9020\n",
      "Epoch 29/30\n",
      "15/15 [==============================] - 0s 6ms/step - loss: 0.2683 - accuracy: 0.9056 - val_loss: 0.2766 - val_accuracy: 0.9036\n",
      "Epoch 30/30\n",
      "15/15 [==============================] - 0s 7ms/step - loss: 0.2665 - accuracy: 0.9060 - val_loss: 0.2756 - val_accuracy: 0.9036\n"
     ]
    }
   ],
   "source": [
    "history = model.fit(X_train_sc, y_train, validation_data=(X_test_sc, y_test), epochs=30, batch_size=512)"
   ]
  },
  {
   "cell_type": "markdown",
   "metadata": {},
   "source": [
    "### Visualizing model training\n",
    "---\n",
    "\n",
    "Whenever you fit your `keras` model, it returns a `History` object ([link](https://keras.io/visualization/#training-history-visualization)) that can be used for plotting."
   ]
  },
  {
   "cell_type": "code",
   "execution_count": 17,
   "metadata": {},
   "outputs": [
    {
     "data": {
      "image/png": "[encoded data removed]",
      "text/plain": [
       "<Figure size 432x288 with 1 Axes>"
      ]
     },
     "metadata": {
      "needs_background": "light"
     },
     "output_type": "display_data"
    }
   ],
   "source": [
    "plt.plot(history.history['loss'], label='Train loss')\n",
    "plt.plot(history.history['val_loss'], label='Val Loss')\n",
    "plt.legend();"
   ]
  },
  {
   "cell_type": "markdown",
   "metadata": {},
   "source": [
    "### Challenge\n",
    "---\n",
    "\n",
    "Using the `history` object, plot the model's accuracy (for both train and test)."
   ]
  },
  {
   "cell_type": "code",
   "execution_count": 18,
   "metadata": {},
   "outputs": [
    {
     "data": {
      "image/png": "[encoded data removed]",
      "text/plain": [
       "<Figure size 432x288 with 1 Axes>"
      ]
     },
     "metadata": {
      "needs_background": "light"
     },
     "output_type": "display_data"
    }
   ],
   "source": [
    "plt.plot(history.history['accuracy'], label='Train accuracy')\n",
    "plt.plot(history.history['val_accuracy'], label='Val accuracy')\n",
    "plt.legend();"
   ]
  },
  {
   "cell_type": "markdown",
   "metadata": {},
   "source": [
    "# Multi-class Classification\n",
    "---\n",
    "\n",
    "The `make_classification` function allows for multi-class problems as well. Simply increase the `n_classes` and voila!\n",
    "\n",
    "**NOTE**: You'll need to increase `n_informative` as you increase `n_classes`.\n",
    "\n",
    "In the cell below, let's create a dataset with three classes."
   ]
  },
  {
   "cell_type": "code",
   "execution_count": 19,
   "metadata": {},
   "outputs": [],
   "source": [
    "X, y = make_classification(n_samples=10000, n_features=20, n_informative=4, n_classes=3)"
   ]
  },
  {
   "cell_type": "markdown",
   "metadata": {},
   "source": [
    "### One-hot Encoding Targets\n",
    "---\n",
    "\n",
    "In `keras`, you have to one-hot encode your `y` if it contains more than two classes. We'll use `keras`' built-in `to_categorical` function to achieve this."
   ]
  },
  {
   "cell_type": "code",
   "execution_count": 20,
   "metadata": {},
   "outputs": [
    {
     "data": {
      "text/plain": [
       "array([[1., 0., 0.],\n",
       "       [0., 1., 0.],\n",
       "       [1., 0., 0.],\n",
       "       [1., 0., 0.],\n",
       "       [1., 0., 0.]], dtype=float32)"
      ]
     },
     "execution_count": 20,
     "metadata": {},
     "output_type": "execute_result"
    }
   ],
   "source": [
    "y = to_categorical(y)\n",
    "y[:5]"
   ]
  },
  {
   "cell_type": "markdown",
   "metadata": {},
   "source": [
    "### Train/Test Split\n",
    "---\n",
    "\n",
    "We always want to have a holdout set to test our model. Use the `train_test_split` function to split our `X` and `y` variables into a training set and a holdout set."
   ]
  },
  {
   "cell_type": "code",
   "execution_count": 21,
   "metadata": {},
   "outputs": [],
   "source": [
    "X_train, X_test, y_train, y_test = train_test_split(X, y, random_state=42)"
   ]
  },
  {
   "cell_type": "markdown",
   "metadata": {},
   "source": [
    "### `StandardScaler`\n",
    "---\n",
    "\n",
    "Use an instance of `StandardScaler` to scale your `X_train` and `X_test` in the cell below."
   ]
  },
  {
   "cell_type": "code",
   "execution_count": 22,
   "metadata": {},
   "outputs": [],
   "source": [
    "ss = StandardScaler()\n",
    "X_train_sc = ss.fit_transform(X_train)\n",
    "X_test_sc = ss.transform(X_test)"
   ]
  },
  {
   "cell_type": "markdown",
   "metadata": {},
   "source": [
    "### Network Architecture for Multi-class Classification\n",
    "---\n",
    "\n",
    "We'll create a simple network with:\n",
    "- an input layer\n",
    "- one hidden layer. As a general rule, you should use `'relu'` as your activation function for all hidden layers.\n",
    "- an output layer\n",
    "\n",
    "For *all* multi-class classification problems, your output layer will be the same number of neurons as the number of classes in your problem. The activation function will be `softmax`, which will normalize the predictions into probabilities that sum up to 1.0."
   ]
  },
  {
   "cell_type": "code",
   "execution_count": 23,
   "metadata": {},
   "outputs": [],
   "source": [
    "model = Sequential()\n",
    "model.add(Dense(32, \n",
    "                input_shape=(20,),\n",
    "                activation='relu'))\n",
    "model.add(Dense(3, activation='softmax'))"
   ]
  },
  {
   "cell_type": "code",
   "execution_count": 24,
   "metadata": {},
   "outputs": [
    {
     "name": "stdout",
     "output_type": "stream",
     "text": [
      "Model: \"sequential_2\"\n",
      "_________________________________________________________________\n",
      "Layer (type)                 Output Shape              Param #   \n",
      "=================================================================\n",
      "dense_4 (Dense)              (None, 32)                672       \n",
      "_________________________________________________________________\n",
      "dense_5 (Dense)              (None, 3)                 99        \n",
      "=================================================================\n",
      "Total params: 771\n",
      "Trainable params: 771\n",
      "Non-trainable params: 0\n",
      "_________________________________________________________________\n"
     ]
    }
   ],
   "source": [
    "# Check if your model architecture was built correctly\n",
    "model.summary()"
   ]
  },
  {
   "cell_type": "markdown",
   "metadata": {},
   "source": [
    "### Compile your model\n",
    "---\n",
    "\n",
    "Whenever you compile your model, you have to specify a few things: \n",
    "1. What loss function to use: For multi-class classification, use `categorical_crossentropy`. ([Description](https://ml-cheatsheet.readthedocs.io/en/latest/loss_functions.html#cross-entropy))\n",
    "2. What optimizer to use (Always use `'adam'`)\n",
    "3. Optional: What additional [metrics](https://keras.io/metrics/) you'd like to monitor"
   ]
  },
  {
   "cell_type": "code",
   "execution_count": 25,
   "metadata": {},
   "outputs": [],
   "source": [
    "opt = Adam(learning_rate=0.001)\n",
    "model.compile(loss='categorical_crossentropy', optimizer=opt, metrics=['accuracy'])"
   ]
  },
  {
   "cell_type": "markdown",
   "metadata": {},
   "source": [
    "### Fit your model\n",
    "---\n",
    "\n",
    "When fitting your model, you need to specify a few things:\n",
    "1. The number of epochs: start with 10. Always easy to add more\n",
    "2. Your batch size: pick a number that is a power of 2\n",
    "3. Your validation data, which in this case is our test set."
   ]
  },
  {
   "cell_type": "code",
   "execution_count": 26,
   "metadata": {},
   "outputs": [
    {
     "name": "stdout",
     "output_type": "stream",
     "text": [
      "Epoch 1/10\n",
      "15/15 [==============================] - 0s 11ms/step - loss: 1.4580 - accuracy: 0.2856 - val_loss: 1.3528 - val_accuracy: 0.2956\n",
      "Epoch 2/10\n",
      "15/15 [==============================] - 0s 6ms/step - loss: 1.2468 - accuracy: 0.3165 - val_loss: 1.1617 - val_accuracy: 0.3344\n",
      "Epoch 3/10\n",
      "15/15 [==============================] - 0s 5ms/step - loss: 1.0878 - accuracy: 0.3944 - val_loss: 1.0196 - val_accuracy: 0.4548\n",
      "Epoch 4/10\n",
      "15/15 [==============================] - 0s 5ms/step - loss: 0.9701 - accuracy: 0.5005 - val_loss: 0.9159 - val_accuracy: 0.5512\n",
      "Epoch 5/10\n",
      "15/15 [==============================] - 0s 7ms/step - loss: 0.8838 - accuracy: 0.5940 - val_loss: 0.8398 - val_accuracy: 0.6276\n",
      "Epoch 6/10\n",
      "15/15 [==============================] - 0s 6ms/step - loss: 0.8188 - accuracy: 0.6541 - val_loss: 0.7826 - val_accuracy: 0.6748\n",
      "Epoch 7/10\n",
      "15/15 [==============================] - 0s 7ms/step - loss: 0.7690 - accuracy: 0.6841 - val_loss: 0.7387 - val_accuracy: 0.6988\n",
      "Epoch 8/10\n",
      "15/15 [==============================] - 0s 6ms/step - loss: 0.7298 - accuracy: 0.7073 - val_loss: 0.7041 - val_accuracy: 0.7216\n",
      "Epoch 9/10\n",
      "15/15 [==============================] - 0s 7ms/step - loss: 0.6986 - accuracy: 0.7259 - val_loss: 0.6762 - val_accuracy: 0.7352\n",
      "Epoch 10/10\n",
      "15/15 [==============================] - 0s 6ms/step - loss: 0.6728 - accuracy: 0.7405 - val_loss: 0.6538 - val_accuracy: 0.7492\n"
     ]
    }
   ],
   "source": [
    "history = model.fit(X_train_sc, y_train, validation_data=(X_test_sc, y_test), epochs=10, batch_size=512)"
   ]
  },
  {
   "cell_type": "markdown",
   "metadata": {},
   "source": [
    "### Visualizing model training\n",
    "---\n",
    "\n",
    "Whenever you fit your `keras` model, it returns a `History` object ([link](https://keras.io/visualization/#training-history-visualization)) that can be used for plotting."
   ]
  },
  {
   "cell_type": "code",
   "execution_count": 27,
   "metadata": {},
   "outputs": [
    {
     "data": {
      "image/png": "[encoded data removed]",
      "text/plain": [
       "<Figure size 432x288 with 1 Axes>"
      ]
     },
     "metadata": {
      "needs_background": "light"
     },
     "output_type": "display_data"
    }
   ],
   "source": [
    "plt.plot(history.history['loss'], label='Train loss')\n",
    "plt.plot(history.history['val_loss'], label='Val Loss')\n",
    "plt.legend();"
   ]
  },
  {
   "cell_type": "markdown",
   "metadata": {},
   "source": [
    "### Challenge\n",
    "---\n",
    "\n",
    "Using the `history` object, plot the model's accuracy (for both train and test)."
   ]
  },
  {
   "cell_type": "code",
   "execution_count": 28,
   "metadata": {},
   "outputs": [
    {
     "data": {
      "image/png": "[encoded data removed]",
      "text/plain": [
       "<Figure size 432x288 with 1 Axes>"
      ]
     },
     "metadata": {
      "needs_background": "light"
     },
     "output_type": "display_data"
    }
   ],
   "source": [
    "plt.plot(history.history['accuracy'], label='Train accuracy')\n",
    "plt.plot(history.history['val_accuracy'], label='Val accuracy')\n",
    "plt.legend();"
   ]
  },
  {
   "cell_type": "markdown",
   "metadata": {},
   "source": [
    "# Conclusion\n",
    "We saw how to construct simple Neural Networks for:\n",
    "1. Regression \n",
    "1. Binary Classification\n",
    "1. Multi Class Classification"
   ]
  },
  {
   "cell_type": "code",
   "execution_count": null,
   "metadata": {},
   "outputs": [],
   "source": []
  }
 ],
 "metadata": {
  "kernelspec": {
   "display_name": "Python 3",
   "language": "python",
   "name": "python3"
  },
  "language_info": {
   "codemirror_mode": {
    "name": "ipython",
    "version": 3
   },
   "file_extension": ".py",
   "mimetype": "text/x-python",
   "name": "python",
   "nbconvert_exporter": "python",
   "pygments_lexer": "ipython3",
   "version": "3.8.8"
  },
  "widgets": {
   "application/vnd.jupyter.widget-state+json": {
    "state": {},
    "version_major": 2,
    "version_minor": 0
   }
  }
 },
 "nbformat": 4,
 "nbformat_minor": 4
}
