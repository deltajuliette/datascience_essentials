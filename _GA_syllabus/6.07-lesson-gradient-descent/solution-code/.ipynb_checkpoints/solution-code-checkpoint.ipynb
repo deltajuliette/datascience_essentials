{
 "cells": [
  {
   "cell_type": "markdown",
   "metadata": {},
   "source": [
    "<img src=\"http://imgur.com/1ZcRyrc.png\" style=\"float: left; margin: 20px; height: 55px\">\n",
    "\n",
    "## Gradient Descent Code-Along"
   ]
  },
  {
   "cell_type": "markdown",
   "metadata": {},
   "source": [
    "Let's walk through how gradient descent works using code."
   ]
  },
  {
   "cell_type": "code",
   "execution_count": 1,
   "metadata": {},
   "outputs": [],
   "source": [
    "import pandas as pd\n",
    "import numpy as np\n",
    "import matplotlib.pyplot as plt"
   ]
  },
  {
   "cell_type": "code",
   "execution_count": 2,
   "metadata": {},
   "outputs": [],
   "source": [
    "# The objective function\n",
    "def f(x):\n",
    "    return -np.log(x) / (1 + x)"
   ]
  },
  {
   "cell_type": "code",
   "execution_count": 3,
   "metadata": {},
   "outputs": [],
   "source": [
    "# Derivative of the objective function\n",
    "def f_deriv(x):\n",
    "    return -(1 + 1/x - np.log(x)) / (1 + x)**2"
   ]
  },
  {
   "cell_type": "code",
   "execution_count": 4,
   "metadata": {},
   "outputs": [
    {
     "data": {
      "image/png": "[encoded data removed]",
      "text/plain": [
       "<Figure size 432x288 with 1 Axes>"
      ]
     },
     "metadata": {
      "needs_background": "light"
     },
     "output_type": "display_data"
    }
   ],
   "source": [
    "# Let's see what it looks like\n",
    "xs = np.linspace(1, 7, 1000)\n",
    "plt.plot(xs, f(xs));"
   ]
  },
  {
   "cell_type": "code",
   "execution_count": 5,
   "metadata": {},
   "outputs": [],
   "source": [
    "# Initial value and learning rate\n",
    "x = 1\n",
    "alpha = 1\n",
    "num_steps = 300\n",
    "\n",
    "# Iterate and apply gradient descent\n",
    "x_steps = [x]\n",
    "for i in range(num_steps):\n",
    "    x = x - alpha * f_deriv(x)\n",
    "    x_steps.append(x)"
   ]
  },
  {
   "cell_type": "code",
   "execution_count": 6,
   "metadata": {},
   "outputs": [
    {
     "data": {
      "image/png": "[encoded data removed]",
      "text/plain": [
       "<Figure size 432x288 with 1 Axes>"
      ]
     },
     "metadata": {
      "needs_background": "light"
     },
     "output_type": "display_data"
    }
   ],
   "source": [
    "plt.plot(x_steps)\n",
    "plt.xlabel('step')\n",
    "plt.ylabel('Value of x');\n",
    "# You can see here that the value of x that is optimum is pretty much converging to ~3.5\n",
    "# This aligns with the min value of the plot above!"
   ]
  },
  {
   "cell_type": "markdown",
   "metadata": {},
   "source": [
    "## Let's see if we can do OLS by Gradient Descent!"
   ]
  },
  {
   "cell_type": "code",
   "execution_count": 7,
   "metadata": {},
   "outputs": [],
   "source": [
    "# Set a random seed.\n",
    "np.random.seed(42)"
   ]
  },
  {
   "cell_type": "code",
   "execution_count": 8,
   "metadata": {},
   "outputs": [
    {
     "name": "stdout",
     "output_type": "stream",
     "text": [
      "[233070. 267128. 241282. 222085. 255464. 245706. 223323. 247075. 248164.\n",
      " 218141. 251156. 249216. 268661. 268076. 213447. 230243. 246301. 250276.\n",
      " 251301. 323055. 269418. 269711. 253080. 242028. 236695. 267179. 224543.\n",
      " 232264. 241293. 250637. 297293. 204655. 266725. 209746. 231561. 271779.\n",
      " 256286. 214445. 235694. 264592. 230393. 245329. 256911. 229968. 281879.\n",
      " 253678. 216497. 251729. 238764. 272049. 225150. 236705. 253100. 253315.\n",
      " 234994. 238310. 253501. 231933. 275309. 255100. 204782. 274357. 279443.\n",
      " 268649. 208613. 232315. 273338. 219847. 249876. 264493. 226461. 246809.\n",
      " 184175. 237512. 236949. 215044. 284648. 217397. 246199. 244615. 276825.\n",
      " 218283. 258263. 246205. 228370. 258242. 244981. 235996. 249396. 226294.\n",
      " 242270. 268243. 282720. 221244. 280661. 200958. 244964. 267766. 249620.\n",
      " 228546.]\n"
     ]
    }
   ],
   "source": [
    "# Let's generate a fake linear regression dataset of the form y = beta_0 + beta_1 * x + error\n",
    "# Just to make this more fun, let's use a Poisson distribution for our x!\n",
    "\n",
    "# Our Fake Linear Equation\n",
    "beta_0 = 200_000\n",
    "beta_1 = 1000\n",
    "x = np.random.poisson(45, 100)\n",
    "error = np.round(np.random.normal(0, 20000, 100))\n",
    "\n",
    "# Our Equation\n",
    "y_true = beta_0 + (beta_1 * x) + error\n",
    "print(y_true)"
   ]
  },
  {
   "cell_type": "code",
   "execution_count": 9,
   "metadata": {},
   "outputs": [
    {
     "name": "stdout",
     "output_type": "stream",
     "text": [
      "(100, 2)\n"
     ]
    },
    {
     "data": {
      "text/html": [
       "<div>\n",
       "<style scoped>\n",
       "    .dataframe tbody tr th:only-of-type {\n",
       "        vertical-align: middle;\n",
       "    }\n",
       "\n",
       "    .dataframe tbody tr th {\n",
       "        vertical-align: top;\n",
       "    }\n",
       "\n",
       "    .dataframe thead th {\n",
       "        text-align: right;\n",
       "    }\n",
       "</style>\n",
       "<table border=\"1\" class=\"dataframe\">\n",
       "  <thead>\n",
       "    <tr style=\"text-align: right;\">\n",
       "      <th></th>\n",
       "      <th>x</th>\n",
       "      <th>y_true</th>\n",
       "    </tr>\n",
       "  </thead>\n",
       "  <tbody>\n",
       "    <tr>\n",
       "      <th>0</th>\n",
       "      <td>42</td>\n",
       "      <td>233070.0</td>\n",
       "    </tr>\n",
       "    <tr>\n",
       "      <th>1</th>\n",
       "      <td>50</td>\n",
       "      <td>267128.0</td>\n",
       "    </tr>\n",
       "    <tr>\n",
       "      <th>2</th>\n",
       "      <td>37</td>\n",
       "      <td>241282.0</td>\n",
       "    </tr>\n",
       "    <tr>\n",
       "      <th>3</th>\n",
       "      <td>47</td>\n",
       "      <td>222085.0</td>\n",
       "    </tr>\n",
       "    <tr>\n",
       "      <th>4</th>\n",
       "      <td>52</td>\n",
       "      <td>255464.0</td>\n",
       "    </tr>\n",
       "  </tbody>\n",
       "</table>\n",
       "</div>"
      ],
      "text/plain": [
       "    x    y_true\n",
       "0  42  233070.0\n",
       "1  50  267128.0\n",
       "2  37  241282.0\n",
       "3  47  222085.0\n",
       "4  52  255464.0"
      ]
     },
     "execution_count": 9,
     "metadata": {},
     "output_type": "execute_result"
    }
   ],
   "source": [
    "# Create dataframe\n",
    "df = pd.DataFrame({'x': x, 'y_true': y_true})\n",
    "\n",
    "print(df.shape)\n",
    "df.head()"
   ]
  },
  {
   "cell_type": "markdown",
   "metadata": {},
   "source": [
    "#### Our goal is to fit a model here.\n",
    "- You and I know that our $y$-intercept $\\beta_0$ is 200,000.\n",
    "- You and I know that our slope $\\beta_1$ is 1,000.\n",
    "- However, our computer does not know that. Our computer has to estimate $\\hat{\\beta}_0$ and $\\hat{\\beta}_1$ from the data.\n",
    "    - We might say that our **machine** has to... **learn**."
   ]
  },
  {
   "cell_type": "markdown",
   "metadata": {},
   "source": [
    "#### Our workflow:\n",
    "1. Instantiate model.\n",
    "2. Select a learning rate $\\alpha$.\n",
    "3. Select a starting point $\\hat{\\beta}_{1,0}$.\n",
    "4. Calculate the gradient of the loss function.\n",
    "5. Calculate $\\hat{\\beta}_{1,i+1} = \\hat{\\beta}_{1,i} - \\alpha * \\frac{\\partial L}{\\partial \\beta_1}$.\n",
    "6. Check value of $\\left|\\hat{\\beta}_{1,i+1} - \\hat{\\beta}_{1,i}\\right|$.\n",
    "7. Repeat steps 4 through 6 until \"stopping condition\" is met."
   ]
  },
  {
   "cell_type": "markdown",
   "metadata": {},
   "source": [
    "#### Step 1. Instantiate model.\n",
    "\n",
    "Our model takes on the form:\n",
    "$$ Y = \\beta_0 + \\beta_1 X + \\varepsilon$$"
   ]
  },
  {
   "cell_type": "markdown",
   "metadata": {},
   "source": [
    "#### Step 2. Select a learning rate $\\alpha$.\n",
    "\n",
    "$$\\alpha = 0.1$$"
   ]
  },
  {
   "cell_type": "code",
   "execution_count": 10,
   "metadata": {},
   "outputs": [],
   "source": [
    "alpha = 0.1"
   ]
  },
  {
   "cell_type": "markdown",
   "metadata": {},
   "source": [
    "#### Step 3. Select a starting point.\n",
    "The zero-th iteration of $\\hat{\\beta}_1$ is going to start at, say, 20.\n",
    "$$\\hat{\\beta}_{1,0} = 20$$\n",
    "\n",
    "Two points:\n",
    "- You and I know that the true value of $\\beta_1$ is 1000. We need the computer to figure (machine to learn) that part out!\n",
    "- We're going to pretend like the computer already knows the value for $\\beta_0$. In reality, we'd have to do this for $\\beta_0$ and for $\\beta_1$ at the same time."
   ]
  },
  {
   "cell_type": "code",
   "execution_count": 11,
   "metadata": {},
   "outputs": [],
   "source": [
    "# Pick any random number, it doesn't matter!\n",
    "beta_1 = 20"
   ]
  },
  {
   "cell_type": "markdown",
   "metadata": {},
   "source": [
    "#### Step 4. Calculate the gradient of the loss function with respect to parameter $\\beta_1$.\n",
    "\n",
    "The loss function, $L$, is our mean square error.\n",
    "\n",
    "$$L = \\frac{1}{n}\\sum_{i = 1} ^ n (y_i - \\hat{y}_i)^2 $$\n",
    "\n",
    "$$\\Rightarrow L = \\frac{1}{n}\\sum_{i = 1} ^ n \\left(y_i - \\left(\\hat{\\beta}_0 + \\hat{\\beta}_1x_i\\right)\\right)^2 $$\n",
    "\n",
    "The gradient of this loss function with respect to $\\beta_1$ is:\n",
    "\n",
    "$$\\frac{\\partial L}{\\partial \\beta_1} = {2}\\frac{\\sum_{i=1}^n -x_i\\left(y_i - \\left(\\hat{\\beta}_1x_i + \\hat{\\beta}_0\\right)\\right)}{n} $$"
   ]
  },
  {
   "cell_type": "code",
   "execution_count": 12,
   "metadata": {},
   "outputs": [],
   "source": [
    "# Calculate gradient of beta_1.\n",
    "def beta_1_gradient(x, y, beta_1, beta_0):\n",
    "    grads = -x * (y - (beta_1*x + beta_0))\n",
    "    return 2 * np.mean(grads)"
   ]
  },
  {
   "cell_type": "markdown",
   "metadata": {},
   "source": [
    "#### Step 5. Calculate $\\hat{\\beta}_{1,i+1} = \\hat{\\beta}_{1,i} - \\alpha * \\frac{\\partial L}{\\partial \\beta_1}$."
   ]
  },
  {
   "cell_type": "code",
   "execution_count": 16,
   "metadata": {},
   "outputs": [],
   "source": [
    "# Define function to calculate new value of beta_1.\n",
    "def update_beta_1(beta_1, alpha, gradient):\n",
    "    beta_1 = beta_1 - alpha * gradient\n",
    "    return beta_1"
   ]
  },
  {
   "cell_type": "markdown",
   "metadata": {},
   "source": [
    "#### Step 6. Check value of $\\left|\\hat{\\beta}_{1,i+1} - \\hat{\\beta}_{1,i}\\right|$. \n",
    "We want to stop the iterations once the difference is less than a tolerance value"
   ]
  },
  {
   "cell_type": "code",
   "execution_count": 17,
   "metadata": {},
   "outputs": [],
   "source": [
    "def check_update(beta_1, updated_beta_1, tolerance = 0.1):\n",
    "    return abs(beta_1 - updated_beta_1) < tolerance"
   ]
  },
  {
   "cell_type": "markdown",
   "metadata": {},
   "source": [
    "#### Step 7: Save final value of $\\hat{\\beta}_1$."
   ]
  },
  {
   "cell_type": "markdown",
   "metadata": {},
   "source": [
    "#### Putting it all together..."
   ]
  },
  {
   "cell_type": "code",
   "execution_count": 18,
   "metadata": {},
   "outputs": [],
   "source": [
    "def gradient_descent(x, y, beta_1 = 0, alpha = 0.01, max_iter = 100):\n",
    "    # Set converged = False.\n",
    "    converged = False\n",
    "    \n",
    "    # Iterate through our observations.\n",
    "    step = 0\n",
    "    while not converged:\n",
    "        \n",
    "        # Calculate gradient.\n",
    "        gradient = beta_1_gradient(x, y, beta_1, 200000)\n",
    "        \n",
    "        # Update beta_1.\n",
    "        updated_beta_1 = update_beta_1(beta_1, alpha, gradient)\n",
    "        \n",
    "        # Check for convergence.\n",
    "        converged = check_update(beta_1, updated_beta_1)\n",
    "        \n",
    "        # Overwrite beta_1.\n",
    "        beta_1 = updated_beta_1\n",
    "        \n",
    "        # Print out current step findings.\n",
    "        print(f'Iteration {step} with beta_1 value of {beta_1}.')\n",
    "        \n",
    "        # If we've converged, let us know!\n",
    "        if converged:\n",
    "            print(f'Our algorithm converged after {step} iterations with a beta_1 value of {beta_1}.')\n",
    "        else:\n",
    "            step += 1\n",
    "            \n",
    "        # If we exceed our step limit, break!\n",
    "        if step > max_iter:\n",
    "            break\n",
    "        \n",
    "    # If we didn't converge by the end of our loop, let us know!\n",
    "    if not converged:\n",
    "        print(\"Our algorithm did not converge, so do not trust the value of beta_1.\")\n",
    "    \n",
    "    # Return beta_1.\n",
    "    return beta_1"
   ]
  },
  {
   "cell_type": "code",
   "execution_count": 19,
   "metadata": {},
   "outputs": [
    {
     "name": "stdout",
     "output_type": "stream",
     "text": [
      "Iteration 0 with beta_1 value of 41435.536400000005.\n",
      "Iteration 1 with beta_1 value of -1644889.1423060796.\n",
      "Iteration 2 with beta_1 value of 67017530.06550508.\n",
      "Iteration 3 with beta_1 value of -2728723925.3027844.\n",
      "Iteration 4 with beta_1 value of 111106040061.21902.\n",
      "Iteration 5 with beta_1 value of -4523926812130.787.\n",
      "Iteration 6 with beta_1 value of 184201632837141.66.\n",
      "Iteration 7 with beta_1 value of -7500174724514217.0.\n",
      "Iteration 8 with beta_1 value of 3.0538611429303245e+17.\n",
      "Iteration 9 with beta_1 value of -1.2434467492892217e+19.\n",
      "Iteration 10 with beta_1 value of 5.06296699801591e+20.\n",
      "Iteration 11 with beta_1 value of -2.0614983985161335e+22.\n",
      "Iteration 12 with beta_1 value of 8.39384425920612e+23.\n",
      "Iteration 13 with beta_1 value of -3.4177383547094743e+25.\n",
      "Iteration 14 with beta_1 value of 1.391607361363766e+27.\n",
      "Iteration 15 with beta_1 value of -5.666235525412072e+28.\n",
      "Iteration 16 with beta_1 value of 2.3071324513530843e+30.\n",
      "Iteration 17 with beta_1 value of -9.393997344823376e+31.\n",
      "Iteration 18 with beta_1 value of 3.8249726868864247e+33.\n",
      "Iteration 19 with beta_1 value of -1.5574217788649202e+35.\n",
      "Iteration 20 with beta_1 value of 6.341385405439872e+36.\n",
      "Iteration 21 with beta_1 value of -2.5820345783037628e+38.\n",
      "Iteration 22 with beta_1 value of 1.0513321833170998e+40.\n",
      "Iteration 23 with beta_1 value of -4.2807302774559026e+41.\n",
      "Iteration 24 with beta_1 value of 1.7429935085322762e+43.\n",
      "Iteration 25 with beta_1 value of -7.096981528561035e+44.\n",
      "Iteration 26 with beta_1 value of 2.8896921629472515e+46.\n",
      "Iteration 27 with beta_1 value of -1.1766017373715583e+48.\n",
      "Iteration 28 with beta_1 value of 4.790792826090524e+49.\n",
      "Iteration 29 with beta_1 value of -1.950676696584932e+51.\n",
      "Iteration 30 with beta_1 value of 7.942609319018798e+52.\n",
      "Iteration 31 with beta_1 value of -3.234008121643523e+54.\n",
      "Iteration 32 with beta_1 value of 1.3167975549058362e+56.\n",
      "Iteration 33 with beta_1 value of -5.361630940261188e+57.\n",
      "Iteration 34 with beta_1 value of 2.1831059932080286e+59.\n",
      "Iteration 35 with beta_1 value of -8.888996334664998e+60.\n",
      "Iteration 36 with beta_1 value of 3.619350415578215e+62.\n",
      "Iteration 37 with beta_1 value of -1.473698147411814e+64.\n",
      "Iteration 38 with beta_1 value of 6.00048622077963e+65.\n",
      "Iteration 39 with beta_1 value of -2.4432299754872837e+67.\n",
      "Iteration 40 with beta_1 value of 9.948148355791077e+68.\n",
      "Iteration 41 with beta_1 value of -4.050607462324164e+70.\n",
      "Iteration 42 with beta_1 value of 1.6492939416494545e+72.\n",
      "Iteration 43 with beta_1 value of -6.715463128092912e+73.\n",
      "Iteration 44 with beta_1 value of 2.734348552791849e+75.\n",
      "Iteration 45 with beta_1 value of -1.1133501689373623e+77.\n",
      "Iteration 46 with beta_1 value of 4.533250149865636e+78.\n",
      "Iteration 47 with beta_1 value of -1.845812530021091e+80.\n",
      "Iteration 48 with beta_1 value of 7.515631794737475e+81.\n",
      "Iteration 49 with beta_1 value of -3.060154829126848e+83.\n",
      "Iteration 50 with beta_1 value of 1.2460093620852368e+85.\n",
      "Iteration 51 with beta_1 value of -5.0734012397897e+86.\n",
      "Iteration 52 with beta_1 value of 2.0657469296076513e+88.\n",
      "Iteration 53 with beta_1 value of -8.411143088222068e+89.\n",
      "Iteration 54 with beta_1 value of 3.424781953517555e+91.\n",
      "Iteration 55 with beta_1 value of -1.3944753175776497e+93.\n",
      "Iteration 56 with beta_1 value of 5.6779130400872674e+94.\n",
      "Iteration 57 with beta_1 value of -2.3118872083584123e+96.\n",
      "Iteration 58 with beta_1 value of 9.413357384017118e+97.\n",
      "Iteration 59 with beta_1 value of -3.83285555276502e+99.\n",
      "Iteration 60 with beta_1 value of 1.5606314611304388e+101.\n",
      "Iteration 61 with beta_1 value of -6.354454332914029e+102.\n",
      "Iteration 62 with beta_1 value of 2.5873558796412725e+104.\n",
      "Iteration 63 with beta_1 value of -1.053498868225296e+106.\n",
      "Iteration 64 with beta_1 value of 4.289552411730302e+107.\n",
      "Iteration 65 with beta_1 value of -1.7465856345890493e+109.\n",
      "Iteration 66 with beta_1 value of 7.111607660068924e+110.\n",
      "Iteration 67 with beta_1 value of -2.895647514165585e+112.\n",
      "Iteration 68 with beta_1 value of 1.17902658963783e+114.\n",
      "Iteration 69 with beta_1 value of -4.800666145560145e+115.\n",
      "Iteration 70 with beta_1 value of 1.9546968358200154e+117.\n",
      "Iteration 71 with beta_1 value of -7.958978200345076e+118.\n",
      "Iteration 72 with beta_1 value of 3.240673071790907e+120.\n",
      "Iteration 73 with beta_1 value of -1.3195113359872477e+122.\n",
      "Iteration 74 with beta_1 value of 5.372680696965997e+123.\n",
      "Iteration 75 with beta_1 value of -2.187605144745038e+125.\n",
      "Iteration 76 with beta_1 value of 8.907315619961259e+126.\n",
      "Iteration 77 with beta_1 value of -3.626809515610868e+128.\n",
      "Iteration 78 with beta_1 value of 1.4767352840903096e+130.\n",
      "Iteration 79 with beta_1 value of -6.012852590936196e+131.\n",
      "Iteration 80 with beta_1 value of 2.4482652151566745e+133.\n",
      "Iteration 81 with beta_1 value of -9.968650441857734e+134.\n",
      "Iteration 82 with beta_1 value of 4.058955337712099e+136.\n",
      "Iteration 83 with beta_1 value of -1.6526929627669106e+138.\n",
      "Iteration 84 with beta_1 value of 6.729302990357284e+139.\n",
      "Iteration 85 with beta_1 value of -2.739983757189756e+141.\n",
      "Iteration 86 with beta_1 value of 1.1156446663824676e+143.\n",
      "Iteration 87 with beta_1 value of -4.5425927010028213e+144.\n",
      "Iteration 88 with beta_1 value of 1.8496165552527195e+146.\n",
      "Iteration 89 with beta_1 value of -7.531120720353605e+147.\n",
      "Iteration 90 with beta_1 value of 3.066461485947819e+149.\n",
      "Iteration 91 with beta_1 value of -1.2485772561563451e+151.\n",
      "Iteration 92 with beta_1 value of 5.083856985436912e+152.\n",
      "Iteration 93 with beta_1 value of -2.0700042164743206e+154.\n",
      "Iteration 94 with beta_1 value of 8.428477568302825e+155.\n",
      "Iteration 95 with beta_1 value of -3.4318400684409985e+157.\n",
      "Iteration 96 with beta_1 value of 1.3973491843472574e+159.\n",
      "Iteration 97 with beta_1 value of -5.689614620890414e+160.\n",
      "Iteration 98 with beta_1 value of 2.316651764417191e+162.\n",
      "Iteration 99 with beta_1 value of -9.432757322212768e+163.\n",
      "Iteration 100 with beta_1 value of 3.840754664400018e+165.\n",
      "Our algorithm did not converge, so do not trust the value of beta_1.\n"
     ]
    },
    {
     "data": {
      "text/plain": [
       "3.840754664400018e+165"
      ]
     },
     "execution_count": 19,
     "metadata": {},
     "output_type": "execute_result"
    }
   ],
   "source": [
    "# Call gradient_descent with an initial beta_1 of 20, alpha of 0.01, and 100 iterations.\n",
    "gradient_descent(df['x'],\n",
    "                 df['y_true'],\n",
    "                 beta_1 = 20,\n",
    "                 alpha = 0.01,\n",
    "                 max_iter = 100)"
   ]
  },
  {
   "cell_type": "markdown",
   "metadata": {},
   "source": [
    "<details><summary>What should we do?</summary>\n",
    "\n",
    "- We **should not** adjust our maximum iterations. It doesn't look like we'll converge.\n",
    "- We should adjust our alpha!\n",
    "</details>"
   ]
  },
  {
   "cell_type": "code",
   "execution_count": 20,
   "metadata": {},
   "outputs": [
    {
     "name": "stdout",
     "output_type": "stream",
     "text": [
      "Iteration 0 with beta_1 value of 434.155364.\n",
      "Iteration 1 with beta_1 value of 675.5367064893921.\n",
      "Iteration 2 with beta_1 value of 816.2205115697996.\n",
      "Iteration 3 with beta_1 value of 898.2149723172032.\n",
      "Iteration 4 with beta_1 value of 946.003639885691.\n",
      "Iteration 5 with beta_1 value of 973.8562134272975.\n",
      "Iteration 6 with beta_1 value of 990.089473159405.\n",
      "Iteration 7 with beta_1 value of 999.5506714625496.\n",
      "Iteration 8 with beta_1 value of 1005.0649227471749.\n",
      "Iteration 9 with beta_1 value of 1008.2787827948905.\n",
      "Iteration 10 with beta_1 value of 1010.1519104187804.\n",
      "Iteration 11 with beta_1 value of 1011.2436216455569.\n",
      "Iteration 12 with beta_1 value of 1011.8799015164366.\n",
      "Iteration 13 with beta_1 value of 1012.2507432410217.\n",
      "Iteration 14 with beta_1 value of 1012.4668801816782.\n",
      "Iteration 15 with beta_1 value of 1012.5928508425271.\n",
      "Iteration 16 with beta_1 value of 1012.6662700708484.\n",
      "Our algorithm converged after 16 iterations with a beta_1 value of 1012.6662700708484.\n"
     ]
    },
    {
     "data": {
      "text/plain": [
       "1012.6662700708484"
      ]
     },
     "execution_count": 20,
     "metadata": {},
     "output_type": "execute_result"
    }
   ],
   "source": [
    "gradient_descent(df['x'],\n",
    "                 df['y_true'],\n",
    "                 beta_1 = 20,\n",
    "                 alpha = 0.0001,\n",
    "                 max_iter = 100)\n",
    "\n",
    "# try changing the initial value of beta_1 from 20 to whatever number\n",
    "# The algorithm will still find a value of beta_1 very close to the actual value of 1000"
   ]
  },
  {
   "cell_type": "markdown",
   "metadata": {},
   "source": [
    "# Conclusion\n",
    "- The value of $\\hat{\\beta_1}$ at the end of gradient descent is 1012 which is so close to the actual value of 1000. \n",
    "- Even though we started the gradient descent algorithm with a random $\\hat{\\beta_1}=20$, it was still able to find a value very close to the true value almost instantaneously on modern computers!\n",
    "- In reality, we would have to concurrently run gradient descent for all our parameters $\\hat{\\beta_1}$ and $\\hat{\\beta_0}$\n",
    "- Implement gradient descent in code is an interview question! As a test for yourself, try writing code to change both $\\hat{\\beta_1}$ and $\\hat{\\beta_0}$ in the gradient descent loop!\n",
    "- As already mentioned, Gradient descent is the basis of the modern AI revolution especially when we're talking about deep learning. And Gradient descent is just the clever application of math that was invented several centuries back! [See: Who's the greatest mathematician/physicist in the history of human civilization?](https://www.youtube.com/watch?v=danYFxGnFxQ)\n",
    "\n",
    "<details><summary>Here's a meme to drive home that point!</summary>\n",
    "\n",
    "<img src='assets/math.jpeg'>\n",
    "</details>"
   ]
  },
  {
   "cell_type": "code",
   "execution_count": null,
   "metadata": {},
   "outputs": [],
   "source": []
  }
 ],
 "metadata": {
  "kernelspec": {
   "display_name": "Python 3",
   "language": "python",
   "name": "python3"
  },
  "language_info": {
   "codemirror_mode": {
    "name": "ipython",
    "version": 3
   },
   "file_extension": ".py",
   "mimetype": "text/x-python",
   "name": "python",
   "nbconvert_exporter": "python",
   "pygments_lexer": "ipython3",
   "version": "3.8.8"
  }
 },
 "nbformat": 4,
 "nbformat_minor": 4
}
