{
 "cells": [
  {
   "cell_type": "markdown",
   "metadata": {},
   "source": [
    "<img src=\"http://imgur.com/1ZcRyrc.png\" style=\"float: left; margin: 20px; height: 55px\">\n",
    "\n",
    "## Introduction to the Central Limit Theorem\n",
    "\n",
    "_Authors: Matt Brems (DC), Kiefer Katovich (SF), Elaina Hyde (SYD), Justin Pounders (ATL)_\n",
    "\n",
    "---"
   ]
  },
  {
   "cell_type": "markdown",
   "metadata": {},
   "source": [
    "### Learning Objectives\n",
    "\n",
    "- Define and describe sampling distribution.\n",
    "- Define, describe and compute standard error of the mean.\n",
    "- Describe the Central Limit Theorem."
   ]
  },
  {
   "cell_type": "markdown",
   "metadata": {},
   "source": [
    "### Lesson Guide\n",
    "- [Review of Sample Statistics and Parameters](#review-statistics-parameters)\n",
    "- [The Central Limit Theorem](#central-limit-theorem)\n",
    "- [Visualizing the Central Limit Theorem](#visualizing-clt)\n",
    "- [Standard Error of a Statistic](#standard-error)\n",
    "- [Additional Resources](#additional-resources)\n"
   ]
  },
  {
   "cell_type": "code",
   "execution_count": 1,
   "metadata": {},
   "outputs": [],
   "source": [
    "import numpy as np\n",
    "import scipy.stats as stats\n",
    "import seaborn as sns\n",
    "import matplotlib.pyplot as plt\n",
    "\n",
    "sns.set_style('whitegrid')\n",
    "\n",
    "%config InlineBackend.figure_format = 'retina'\n",
    "%matplotlib inline"
   ]
  },
  {
   "cell_type": "markdown",
   "metadata": {},
   "source": [
    "<a id='review-statistics-parameters'></a>\n",
    "\n",
    "### Review: Sample Statistics and Parameters\n",
    "\n",
    "---\n",
    "\n",
    "Recall that we use sample statistics to estimate population parameters. Our goal is to calculate sample statistics and then rely on properties of a random sample (and perhaps additional assumptions) to make inferences that we can generalize to the larger population of interest.\n",
    "\n",
    "Below is a table comparing some example sample statistics and population parameters:\n",
    "\n",
    "Metric  | Statistic  | Parameter \n",
    "-------- | ---------- | -------- \n",
    "mean   | $$\\bar{x} = \\frac{\\sum x}{n}$$ | $$ \\mu = \\frac{\\sum x}{N} $$      \n",
    "standard deviation   | $$ s = \\sqrt{\\frac{\\sum_i (x_i - \\bar{x})^2}{n-1}} $$ | $$ \\sigma = \\sqrt{\\frac{\\sum_i (x_i - \\mu)^2}{N} } $$\n",
    "correlation   | $$ r = \\frac{\\hat{Cov}(X, Y)}{s_X s_Y} $$ | $$ \\rho = \\frac{Cov(X, Y)}{\\sigma_X \\sigma_Y} $$"
   ]
  },
  {
   "cell_type": "markdown",
   "metadata": {},
   "source": [
    "**Population vs sample**: *What's the difference?*\n",
    "\n",
    "- A population parameter is **constant** and usually **unknown**.\n",
    "- A sample statistic is **random** but **known**.\n",
    "\n",
    "Thought experiment: What is the average height of a female ewok?\n",
    "\n",
    "![](./images/ewoks.jpeg)"
   ]
  },
  {
   "cell_type": "markdown",
   "metadata": {},
   "source": [
    "<a id='central-limit-theorem'></a>\n",
    "\n",
    "### Central Limit Theorem\n",
    "\n",
    "---\n",
    "\n",
    "Normality underlies many of the inferential techniques that we will use in this course. It is important for us to determine when we've met the condition of normality.\n",
    "\n",
    "Consider the random variable $X$. We can take a sample from this population of size $n$ and find the mean of that sample. Let's call this sample mean $x_1$. We can take another sample from this population, also of size $n$, and find the mean of that sample. Let's call this sample mean $x_1$. We can do this over and over until we've calculated the mean of every possible sample of size $n$. If we plotted every sample mean on a histogram, we get another distribution called \"the sampling distribution of $\\bar{X}$.\"\n",
    "\n",
    "**This distribution, the sampling distribution of $\\bar{X}$, is Normally distributed even if the distribution of $X$ is not.** (That is, unless some rare conditions are violated).\n",
    "\n",
    "We can formally define [the central limit theorm](http://homepages.math.uic.edu/~bpower6/stat101/Sampling%20Distributions.pdf) like so:\n",
    "\n",
    "> In probability theory, the central limit theorem states that, when independent random variables are added, their sum tends toward a normal distribution (commonly known as a bell curve), even if the original variables themselves are not normally distributed. In more precise terms, given certain conditions, the arithmetic mean of a sufficiently large number of iterates of independent random variables — each with a well-defined (finite) expected value and finite variance — will be approximately normally distributed, regardless of the underlying distribution.\n",
    "\n",
    "Some properties that arise from the central limit theorem include:\n",
    "\n",
    "> If $X \\sim N(\\mu,\\sigma)$, then $\\bar{X}$ is exactly $N(\\mu,\\frac{\\sigma}{\\sqrt{n}})$\n",
    "\n",
    "> If $X$ is not normally distributed, then $\\bar{X}$ is approximately $N(\\mu,\\frac{\\sigma}{\\sqrt{n}})$ if the sample size $n$ is at least 30. As $n$ increases, $\\bar{X}$ becomes asymptotically normally distributed.\n",
    "\n",
    "> If $\\bar{X}$ is normally distributed, then we can use inferential methods that rely on our sample mean, $\\bar{x}$"
   ]
  },
  {
   "cell_type": "markdown",
   "metadata": {},
   "source": [
    "<a id='visualizing-clt'></a>\n",
    "\n",
    "### Visualizing the Central Limit Theorem: athlete salary data\n",
    "\n",
    "---\n",
    "\n",
    "Below is the path to a `.csv` with a variety of data on today's highest paid athletes. Many of the variables measured in the data set are far from normally distributed. We will show that, despite this fact, the distribution of sample means for these variables will be asymptotically normally distributed, as proven by the Central Limit Theorem.\n",
    "\n",
    "> **NOTE:** The code below uses the pandas package to load the data into a pandas DataFrame and extract the salary information. If this is unfamiliar, you can safely ignore this part of the code for now.\n",
    "\n",
    "**We will  now load in the salary data for athletes and extract the total pay information as a variable.**"
   ]
  },
  {
   "cell_type": "code",
   "execution_count": 65,
   "metadata": {},
   "outputs": [],
   "source": [
    "athletes_csv = 'datasets/Athletes.csv'\n",
    "\n",
    "import pandas as pd\n",
    "ath = pd.read_csv(athletes_csv)\n",
    "salary = ath['Total Pay'].values.tolist()"
   ]
  },
  {
   "cell_type": "code",
   "execution_count": 66,
   "metadata": {},
   "outputs": [
    {
     "data": {
      "text/plain": [
       "['$22,000,000',\n",
       " '$17,700,000',\n",
       " '$21,500,000',\n",
       " '$22,900,000',\n",
       " '$18,050,000',\n",
       " '$26,700,000',\n",
       " '$20,400,000',\n",
       " '$23,000,000',\n",
       " '$18,435,000',\n",
       " '$17,500,000']"
      ]
     },
     "execution_count": 66,
     "metadata": {},
     "output_type": "execute_result"
    }
   ],
   "source": [
    "salary[0:10]"
   ]
  },
  {
   "cell_type": "markdown",
   "metadata": {},
   "source": [
    "**The list of salary information currently contains strings. Clean the salary list and convert these into floats.**"
   ]
  },
  {
   "cell_type": "code",
   "execution_count": 67,
   "metadata": {},
   "outputs": [
    {
     "name": "stdout",
     "output_type": "stream",
     "text": [
      "[22000000.0, 17700000.0, 21500000.0, 22900000.0, 18050000.0, 26700000.0, 20400000.0, 23000000.0, 18435000.0, 17500000.0]\n"
     ]
    }
   ],
   "source": [
    "# Clean the data - convert to float\n",
    "salary = [float(str(i).replace('$', '').replace(',','')) for i in salary]\n",
    "print(salary[:10])"
   ]
  },
  {
   "cell_type": "markdown",
   "metadata": {},
   "source": [
    "**Below is a function that will plot a distribution (as a list of numbers). Plot the salary information using this function.**\n",
    "\n",
    "Is the salary for these athletes normally distributed?"
   ]
  },
  {
   "cell_type": "code",
   "execution_count": 40,
   "metadata": {},
   "outputs": [],
   "source": [
    "def dist_plotter(sample):\n",
    "    ax = sns.displot(sample, bins=50, kde=False)\n",
    "    plt.show()"
   ]
  },
  {
   "cell_type": "code",
   "execution_count": 41,
   "metadata": {},
   "outputs": [
    {
     "data": {
      "image/png": "[encoded data removed]",
      "text/plain": [
       "<Figure size 360x360 with 1 Axes>"
      ]
     },
     "metadata": {
      "image/png": {
       "height": 353,
       "width": 353
      },
      "needs_background": "light"
     },
     "output_type": "display_data"
    }
   ],
   "source": [
    "# Plot the salary data:\n",
    "dist_plotter(salary)"
   ]
  },
  {
   "cell_type": "markdown",
   "metadata": {},
   "source": [
    "**Write a function that will take a random sample of size $n=30$ from this salary list 1000 times, calculate the means of the samples, and return the sample means as a new list.**\n",
    "\n",
    "*Hint: you can use `numpy`'s `np.random.choice` to perform your sampling.*"
   ]
  },
  {
   "cell_type": "code",
   "execution_count": 54,
   "metadata": {},
   "outputs": [],
   "source": [
    "# Write the sample mean function:\n",
    "def sampler(population, n, k):\n",
    "    my_list_means = []\n",
    "    for i in range(k):\n",
    "        my_list_means.append(np.mean(np.random.choice(population, n)))\n",
    "    \n",
    "    return(my_list_means)"
   ]
  },
  {
   "cell_type": "markdown",
   "metadata": {},
   "source": [
    "**Plot the sample means using the distribution plotter function.**\n",
    "\n",
    "Is the distribution of sample means approximately normally distributed? What happens if you increase the number of sample means to 10,000? 100,000?"
   ]
  },
  {
   "cell_type": "code",
   "execution_count": 55,
   "metadata": {},
   "outputs": [
    {
     "data": {
      "image/png": "[encoded data removed]",
      "text/plain": [
       "<Figure size 360x360 with 1 Axes>"
      ]
     },
     "metadata": {
      "image/png": {
       "height": 353,
       "width": 353
      },
      "needs_background": "light"
     },
     "output_type": "display_data"
    }
   ],
   "source": [
    "# Plot the sample means\n",
    "my_list_means = sampler(salary, n=30, k=1000)\n",
    "dist_plotter(my_list_means)"
   ]
  },
  {
   "cell_type": "markdown",
   "metadata": {},
   "source": [
    "<a id='standard-error'></a>\n",
    "\n",
    "### The Standard Error of a Statistic\n",
    "\n",
    "---\n",
    "\n",
    "If our goal extends beyond simply describing the data we have, and we instead want to infer something about the overall population based on the information in this sample, we will inherently have some degree of uncertainty.\n",
    "\n",
    "**Uncertainty About the True Value**\n",
    "\n",
    "Working within the Frequentist framework, we know that there is a true value for the mean salary of athletes. If we had surveyed every single athlete and calculated the mean, then we would have that value: the true population mean. However, we have only measured 100 athletes' salaries at random. Depending on our sample size, we will have some degree of uncertainty about how far off our statistic of our random sample is from the true parameter. This distance is our measurement \"error.\"\n",
    "\n",
    "**The Mean vs. The Standard Deviation vs. The Standard Error**\n",
    "\n",
    "It is important to frame these definitions in the context of *repeated measurements*. Furthermore, as Frequentists, we conceive of this sample as one of many hypothetical random samples from the same overall population. Let's start with our calculated statistic, the mean age.\n",
    "\n",
    "> **Mean:** Our sample mean age is the estimate of the true mean age of the overall population.\n",
    "\n",
    "We also calculated the standard deviation of ages in our sample.\n",
    "\n",
    "> **Standard deviation:** This quantifies the spread of our data — i.e., the average distance of an observation from the mean. If we were to repeat a measurement, it would quantify our certainty about how far that age will be from the mean age.\n",
    "\n",
    "Lastly, we have the standard error of our mean. Whereas the standard deviation is a measure of the spread of our data, the standard error is a measure of spread in our calculated statistic. In other words, the standard error is the standard deviation of our statistic.\n",
    "\n",
    "> **Standard error:** If you had a new random sample of ages that was the same size as the original, the standard error would quantify our certainty about how far the new sample mean would be from the original sample mean.\n",
    "\n",
    "The calculation for the standard error of the sample mean is:\n",
    "\n",
    "### $$ SE_{\\bar{x}} = \\frac{s_{x}}{\\sqrt{n}} $$\n",
    "\n",
    "Here, $s_{x}$ is the sample standard deviation and $n$ is the sample size.\n",
    "\n",
    "To recap:\n",
    "\n",
    "- We want to investigate random variable, $x$ (salary).\n",
    "- There is a \"true\" population mean, $\\mu$ (mean salary for all athletes).\n",
    "- We collect a sample and calculate the sample mean, $\\bar{x}$ (mean salary for the athletes we queried).\n",
    "- The sample mean ($\\bar{x}$) is a random variable!  It therefore has an associated probability distribution.\n",
    "- The probability distribution of the sample mean is called the *sampling distribution*.\n",
    "- If the sample size is large enough, the sampling distribution of the mean will be approximately a normal distribution. (This is called the central limit theorem.)\n",
    "- The standard deviation of the sampling distribution is called the standard error.\n",
    "\n",
    "**Now, let's manually calculate the standard error of the sample mean for our salaries.**"
   ]
  },
  {
   "cell_type": "code",
   "execution_count": 58,
   "metadata": {},
   "outputs": [],
   "source": [
    "def std_calc(sample_means):\n",
    "    my_list = []\n",
    "    for i in sample_means:\n",
    "        my_list.append((i - np.mean(sample_means))**2)\n",
    "    \n",
    "    return (np.sum(my_list)/(len(sample_means)-1))**0.5"
   ]
  },
  {
   "cell_type": "code",
   "execution_count": 69,
   "metadata": {},
   "outputs": [
    {
     "name": "stdout",
     "output_type": "stream",
     "text": [
      "2625074.797250855\n",
      "14306055.550972113\n"
     ]
    }
   ],
   "source": [
    "n = 30\n",
    "std_error = np.std(salary, ddof=1)/np.sqrt(n) #ddof = delta degree of freedoms\n",
    "print(std_error)\n",
    "print(np.std(salary))"
   ]
  },
  {
   "cell_type": "markdown",
   "metadata": {},
   "source": [
    "<a id='additional-resources'></a>\n",
    "\n",
    "### Additional resources\n",
    "\n",
    "---\n",
    "\n",
    "http://blog.vctr.me/posts/central-limit-theorem.html\n",
    "\n",
    "http://www.usablestats.com/lessons/central_limit\n",
    "\n",
    "http://blog.minitab.com/blog/michelle-paret/explaining-the-central-limit-theorem-with-bunnies-and-dragons-v2\n"
   ]
  },
  {
   "cell_type": "code",
   "execution_count": null,
   "metadata": {},
   "outputs": [],
   "source": []
  }
 ],
 "metadata": {
  "anaconda-cloud": {},
  "kernelspec": {
   "display_name": "Python 3",
   "language": "python",
   "name": "python3"
  },
  "language_info": {
   "codemirror_mode": {
    "name": "ipython",
    "version": 3
   },
   "file_extension": ".py",
   "mimetype": "text/x-python",
   "name": "python",
   "nbconvert_exporter": "python",
   "pygments_lexer": "ipython3",
   "version": "3.8.8"
  }
 },
 "nbformat": 4,
 "nbformat_minor": 2
}
