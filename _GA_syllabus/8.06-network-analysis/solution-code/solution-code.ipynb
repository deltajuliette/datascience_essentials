{
 "cells": [
  {
   "cell_type": "markdown",
   "metadata": {},
   "source": [
    "# ![](https://ga-dash.s3.amazonaws.com/production/assets/logo-9f88ae6c9c3871690e33280fcf557f33.png) Network Analysis\n",
    "> Author: Matt Brems (DC). Leo (SG)"
   ]
  },
  {
   "cell_type": "code",
   "execution_count": 1,
   "metadata": {},
   "outputs": [],
   "source": [
    "# Uncomment to install NetworkX and Pyvis\n",
    "# ! pip install --upgrade networkx  pyvis"
   ]
  },
  {
   "cell_type": "code",
   "execution_count": 2,
   "metadata": {},
   "outputs": [],
   "source": [
    "# NetworkX to create and work with Networks\n",
    "import networkx as nx\n",
    "\n",
    "# Pyvis to visualise the graps from Networkx\n",
    "from pyvis.network import Network\n",
    "\n",
    "# To create all possible pairs from a list\n",
    "# We need this to crete the Network in Networkx\n",
    "# Eg: x = [1,2,3,4]\n",
    "# list(itertools.combinations(x, 2)) -> [(1, 2), (1, 3), (1, 4), (2, 3), (2, 4), (3, 4)]\n",
    "import itertools\n",
    "\n",
    "# Other imports\n",
    "import pandas as pd\n",
    "import numpy as np\n",
    "import matplotlib.pyplot as plt"
   ]
  },
  {
   "cell_type": "markdown",
   "metadata": {},
   "source": [
    "### NetworkX Library\n",
    "\n",
    "In Python, the [NetworkX library](https://networkx.github.io/) is one that will allow us to work with graphs"
   ]
  },
  {
   "cell_type": "code",
   "execution_count": 3,
   "metadata": {},
   "outputs": [],
   "source": [
    "# Instantiate a graph object as \"g\".\n",
    "g = nx.Graph()"
   ]
  },
  {
   "cell_type": "code",
   "execution_count": 4,
   "metadata": {},
   "outputs": [],
   "source": [
    "# Create nodes 'a' and 'b', then add an edge between them.\n",
    "# We just need to specify the edges. Nodes are auto created!\n",
    "g.add_edge('a','b')"
   ]
  },
  {
   "cell_type": "code",
   "execution_count": 5,
   "metadata": {},
   "outputs": [
    {
     "data": {
      "text/html": [
       "\n",
       "        <iframe\n",
       "            width=\"500px\"\n",
       "            height=\"500px\"\n",
       "            src=\"g1.html\"\n",
       "            frameborder=\"0\"\n",
       "            allowfullscreen\n",
       "        ></iframe>\n",
       "        "
      ],
      "text/plain": [
       "<IPython.lib.display.IFrame at 0x7ffd91d5f100>"
      ]
     },
     "execution_count": 5,
     "metadata": {},
     "output_type": "execute_result"
    }
   ],
   "source": [
    "# Draw the network\n",
    "pyvis_net = Network(notebook=True)\n",
    "pyvis_net.from_nx(g)\n",
    "pyvis_net.show('g1.html')"
   ]
  },
  {
   "cell_type": "code",
   "execution_count": 6,
   "metadata": {},
   "outputs": [
    {
     "data": {
      "text/html": [
       "\n",
       "        <iframe\n",
       "            width=\"500px\"\n",
       "            height=\"500px\"\n",
       "            src=\"g2.html\"\n",
       "            frameborder=\"0\"\n",
       "            allowfullscreen\n",
       "        ></iframe>\n",
       "        "
      ],
      "text/plain": [
       "<IPython.lib.display.IFrame at 0x7ffd91d39c10>"
      ]
     },
     "execution_count": 6,
     "metadata": {},
     "output_type": "execute_result"
    }
   ],
   "source": [
    "# Add nodes 'c' and 'd' and create edges among them.\n",
    "g.add_edge('b','c')\n",
    "g.add_edge('a','c')\n",
    "g.add_edge('c','d')\n",
    "\n",
    "# Draw the network\n",
    "pyvis_net = Network(notebook=True)\n",
    "pyvis_net.from_nx(g)\n",
    "pyvis_net.show('g2.html')"
   ]
  },
  {
   "cell_type": "code",
   "execution_count": 38,
   "metadata": {},
   "outputs": [
    {
     "data": {
      "text/plain": [
       "['b', 'c', 'd']"
      ]
     },
     "execution_count": 38,
     "metadata": {},
     "output_type": "execute_result"
    }
   ],
   "source": [
    "# In Network g, find the shortest path between node 'b' to 'd'\n",
    "nx.shortest_path(g,'b','d')"
   ]
  },
  {
   "cell_type": "code",
   "execution_count": 8,
   "metadata": {},
   "outputs": [
    {
     "data": {
      "text/plain": [
       "2"
      ]
     },
     "execution_count": 8,
     "metadata": {},
     "output_type": "execute_result"
    }
   ],
   "source": [
    "# In Network g, find the length of shortest path between node 'b' to 'd'\n",
    "# Each edge is counted as 1\n",
    "nx.shortest_path_length(g,'b','d')"
   ]
  },
  {
   "cell_type": "code",
   "execution_count": 9,
   "metadata": {},
   "outputs": [
    {
     "data": {
      "text/html": [
       "\n",
       "        <iframe\n",
       "            width=\"500px\"\n",
       "            height=\"500px\"\n",
       "            src=\"g3.html\"\n",
       "            frameborder=\"0\"\n",
       "            allowfullscreen\n",
       "        ></iframe>\n",
       "        "
      ],
      "text/plain": [
       "<IPython.lib.display.IFrame at 0x7ffd8f0a38b0>"
      ]
     },
     "execution_count": 9,
     "metadata": {},
     "output_type": "execute_result"
    }
   ],
   "source": [
    "# Add additional edge between 'a' and 'b'.\n",
    "g.add_edge('a','b')\n",
    "\n",
    "# Draw the network\n",
    "pyvis_net = Network(notebook=True)\n",
    "pyvis_net.from_nx(g)\n",
    "pyvis_net.show('g3.html')"
   ]
  },
  {
   "cell_type": "code",
   "execution_count": 11,
   "metadata": {},
   "outputs": [
    {
     "data": {
      "text/html": [
       "\n",
       "        <iframe\n",
       "            width=\"500px\"\n",
       "            height=\"500px\"\n",
       "            src=\"g4.html\"\n",
       "            frameborder=\"0\"\n",
       "            allowfullscreen\n",
       "        ></iframe>\n",
       "        "
      ],
      "text/plain": [
       "<IPython.lib.display.IFrame at 0x7ffd8f080fd0>"
      ]
     },
     "execution_count": 11,
     "metadata": {},
     "output_type": "execute_result"
    }
   ],
   "source": [
    "# Network with weights for the edges\n",
    "g = nx.Graph()\n",
    "g.add_edge('a','b', weight=1)\n",
    "g.add_edge('b','c', weight=5)\n",
    "g.add_edge('a','c', weight=1)\n",
    "g.add_edge('c','d', weight=1)\n",
    "\n",
    "# Draw the network\n",
    "pyvis_net = Network(notebook=True)\n",
    "pyvis_net.from_nx(g)\n",
    "pyvis_net.show('g4.html')"
   ]
  },
  {
   "cell_type": "code",
   "execution_count": 12,
   "metadata": {},
   "outputs": [
    {
     "name": "stdout",
     "output_type": "stream",
     "text": [
      "Shortest path between b to d WITHOUT weights: ['b', 'c', 'd']\n",
      "Shortest path between b to d WITH weights: ['b', 'a', 'c', 'd']\n"
     ]
    }
   ],
   "source": [
    "# Shortest path between b to d WITHOUT weights\n",
    "print(f\"Shortest path between b to d WITHOUT weights: {nx.shortest_path(g,'b','d')}\")\n",
    "\n",
    "# Shortest path between b to d WITH weights\n",
    "print(f\"Shortest path between b to d WITH weights: {nx.shortest_path(g,'b','d', weight='weight')}\")"
   ]
  },
  {
   "cell_type": "markdown",
   "metadata": {},
   "source": [
    "### Seven Bridges of Königsberg"
   ]
  },
  {
   "cell_type": "code",
   "execution_count": 14,
   "metadata": {},
   "outputs": [],
   "source": [
    "# Instantiate a multigraph object as \"seven_bridges\".\n",
    "seven_bridges = nx.MultiGraph()"
   ]
  },
  {
   "cell_type": "code",
   "execution_count": 18,
   "metadata": {},
   "outputs": [
    {
     "data": {
      "text/plain": [
       "[2, 1, 1, 2, 1]"
      ]
     },
     "execution_count": 18,
     "metadata": {},
     "output_type": "execute_result"
    }
   ],
   "source": [
    "# Create all seven bridges at once!\n",
    "seven_bridges.add_edges_from([('A','B'),\n",
    "                              # ('A','B'),\n",
    "                              ('A','C'),\n",
    "                              ('B','C'),\n",
    "                              # ('B','D'),\n",
    "                              ('B','D'),\n",
    "                              ('C','D')])"
   ]
  },
  {
   "cell_type": "markdown",
   "metadata": {},
   "source": [
    "# NetworkX Algorithms\n",
    "- NetworkX is like the sklearn of Network graphs! It includes a lot of Graph algorithms\n",
    "- Eulerian Graph: [Link](https://networkx.org/documentation/stable/reference/algorithms/generated/networkx.algorithms.euler.is_eulerian.html?highlight=is_eulerian#networkx.algorithms.euler.is_eulerian)\n",
    "- Isomorphic: [Link](https://networkx.org/documentation/stable/reference/algorithms/generated/networkx.algorithms.isomorphism.is_isomorphic.html#networkx.algorithms.isomorphism.is_isomorphic)\n"
   ]
  },
  {
   "cell_type": "code",
   "execution_count": 19,
   "metadata": {},
   "outputs": [
    {
     "data": {
      "text/plain": [
       "False"
      ]
     },
     "execution_count": 19,
     "metadata": {},
     "output_type": "execute_result"
    }
   ],
   "source": [
    "# Check to see if each bridge can be traveled exactly once.\n",
    "# Pronounced: Oiler-ian\n",
    "nx.is_eulerian(seven_bridges)"
   ]
  },
  {
   "cell_type": "code",
   "execution_count": 16,
   "metadata": {},
   "outputs": [
    {
     "data": {
      "text/plain": [
       "False"
      ]
     },
     "execution_count": 16,
     "metadata": {},
     "output_type": "execute_result"
    }
   ],
   "source": [
    "# Is seven_bridges isomorphic to g?\n",
    "nx.is_isomorphic(g, seven_bridges)"
   ]
  },
  {
   "cell_type": "code",
   "execution_count": 17,
   "metadata": {},
   "outputs": [
    {
     "data": {
      "text/plain": [
       "True"
      ]
     },
     "execution_count": 17,
     "metadata": {},
     "output_type": "execute_result"
    }
   ],
   "source": [
    "# Is seven_bridges isomorphic to seven_bridges?\n",
    "nx.is_isomorphic(seven_bridges, seven_bridges)"
   ]
  },
  {
   "cell_type": "markdown",
   "metadata": {},
   "source": [
    "# More Complex Example\n",
    "- Let's analyse the project groupings for DSIF3 Class!"
   ]
  },
  {
   "cell_type": "code",
   "execution_count": 20,
   "metadata": {},
   "outputs": [
    {
     "name": "stdout",
     "output_type": "stream",
     "text": [
      "(28, 5)\n"
     ]
    },
    {
     "data": {
      "text/html": [
       "<div>\n",
       "<style scoped>\n",
       "    .dataframe tbody tr th:only-of-type {\n",
       "        vertical-align: middle;\n",
       "    }\n",
       "\n",
       "    .dataframe tbody tr th {\n",
       "        vertical-align: top;\n",
       "    }\n",
       "\n",
       "    .dataframe thead th {\n",
       "        text-align: right;\n",
       "    }\n",
       "</style>\n",
       "<table border=\"1\" class=\"dataframe\">\n",
       "  <thead>\n",
       "    <tr style=\"text-align: right;\">\n",
       "      <th></th>\n",
       "      <th>Name</th>\n",
       "      <th>Gender</th>\n",
       "      <th>Project1</th>\n",
       "      <th>Project2</th>\n",
       "      <th>Project3</th>\n",
       "    </tr>\n",
       "  </thead>\n",
       "  <tbody>\n",
       "    <tr>\n",
       "      <th>0</th>\n",
       "      <td>DJ</td>\n",
       "      <td>M</td>\n",
       "      <td>1</td>\n",
       "      <td>3</td>\n",
       "      <td>5.0</td>\n",
       "    </tr>\n",
       "    <tr>\n",
       "      <th>1</th>\n",
       "      <td>Hong Aik</td>\n",
       "      <td>M</td>\n",
       "      <td>1</td>\n",
       "      <td>6</td>\n",
       "      <td>1.0</td>\n",
       "    </tr>\n",
       "    <tr>\n",
       "      <th>2</th>\n",
       "      <td>Zhi Yuan</td>\n",
       "      <td>M</td>\n",
       "      <td>1</td>\n",
       "      <td>4</td>\n",
       "      <td>4.0</td>\n",
       "    </tr>\n",
       "    <tr>\n",
       "      <th>3</th>\n",
       "      <td>Hang Feng</td>\n",
       "      <td>M</td>\n",
       "      <td>1</td>\n",
       "      <td>4</td>\n",
       "      <td>2.0</td>\n",
       "    </tr>\n",
       "    <tr>\n",
       "      <th>4</th>\n",
       "      <td>May Gee</td>\n",
       "      <td>F</td>\n",
       "      <td>1</td>\n",
       "      <td>6</td>\n",
       "      <td>6.0</td>\n",
       "    </tr>\n",
       "  </tbody>\n",
       "</table>\n",
       "</div>"
      ],
      "text/plain": [
       "        Name Gender  Project1  Project2  Project3\n",
       "0         DJ      M         1         3       5.0\n",
       "1   Hong Aik      M         1         6       1.0\n",
       "2   Zhi Yuan      M         1         4       4.0\n",
       "3  Hang Feng      M         1         4       2.0\n",
       "4    May Gee      F         1         6       6.0"
      ]
     },
     "execution_count": 20,
     "metadata": {},
     "output_type": "execute_result"
    }
   ],
   "source": [
    "df = pd.read_csv('../data/dsif_3_project_grouping.csv')\n",
    "\n",
    "print(df.shape)\n",
    "df.head()"
   ]
  },
  {
   "cell_type": "code",
   "execution_count": 21,
   "metadata": {},
   "outputs": [
    {
     "name": "stdout",
     "output_type": "stream",
     "text": [
      "          group\n",
      "Name           \n",
      "DJ            M\n",
      "Hong Aik      M\n",
      "Zhi Yuan      M\n",
      "Hang Feng     M\n",
      "May Gee       F\n"
     ]
    },
    {
     "data": {
      "text/plain": [
       "{'DJ': {'group': 'M'},\n",
       " 'Hong Aik': {'group': 'M'},\n",
       " 'Zhi Yuan': {'group': 'M'},\n",
       " 'Hang Feng': {'group': 'M'},\n",
       " 'May Gee': {'group': 'F'},\n",
       " 'Bryan': {'group': 'M'},\n",
       " 'Vincent': {'group': 'M'},\n",
       " 'Darren': {'group': 'M'},\n",
       " 'Nazira': {'group': 'F'},\n",
       " 'Yu Kiat': {'group': 'M'},\n",
       " 'Raymond': {'group': 'M'},\n",
       " 'Zheng Foong': {'group': 'M'},\n",
       " 'Shuyi': {'group': 'F'},\n",
       " 'Darien': {'group': 'M'},\n",
       " 'Mitchelle': {'group': 'F'},\n",
       " 'Jia Wen': {'group': 'F'},\n",
       " 'Cheng Yeow': {'group': 'M'},\n",
       " 'Mun Yee': {'group': 'F'},\n",
       " 'Zhewei': {'group': 'M'},\n",
       " 'Chee Tzen': {'group': 'M'},\n",
       " 'Flash': {'group': 'M'},\n",
       " 'Brandon': {'group': 'M'},\n",
       " 'Sean Ng': {'group': 'M'},\n",
       " 'Kimberly': {'group': 'F'},\n",
       " 'Thien Sean': {'group': 'M'},\n",
       " 'Kris Ng': {'group': 'F'},\n",
       " 'Wee Hong': {'group': 'M'},\n",
       " 'Cheng Kiat': {'group': 'M'}}"
      ]
     },
     "execution_count": 21,
     "metadata": {},
     "output_type": "execute_result"
    }
   ],
   "source": [
    "# Extract out the genders for each person as a dictionary\n",
    "gender_df = df[['Name', 'Gender']]\n",
    "gender_df = gender_df.set_index('Name')\n",
    "gender_df.columns = ['group']\n",
    "print(gender_df.head())\n",
    "\n",
    "# Convert to dictionary. This is the format NetworkX expects\n",
    "genders = gender_df.to_dict(orient='index')\n",
    "genders"
   ]
  },
  {
   "cell_type": "markdown",
   "metadata": {},
   "source": [
    "## Creating a NetworkX graph from real data\n",
    "We are going to create a list of NetworkX graphs, one for each project group:\n",
    "```\n",
    "network_list = [ project1_graph, project2_graph, project3_graph ]\n",
    "```\n",
    "\n",
    "### Steps:\n",
    "\n",
    "Since each project's grouping is in a separate column, let's loop over the project columns one by one:\n",
    "1. For each project column, let's create an empty list `project_edges` to store all the project groups in that project\n",
    "2. Loop over each group in the project column we're currently in\n",
    "    - Find all the members in that project group\n",
    "    - Convert the list of project members to a 2x2 grouping. Eg:\n",
    "    ```\n",
    "    project_members = ['DJ', 'Hong Aik', 'Zhi Yuan`]\n",
    "    2x2 -> [('DJ', 'Hong Aik'), ('DJ, 'Zhi Yuan'), ('Hong Aik', 'Zhi Yuan')]\n",
    "    ```\n",
    "    c. Add this 2x2 grouping into our `project_edges` list\n",
    "3. Create an empty NetworkX graph and add all the edges from `project_edges` into it.\n",
    "4. Set a node attribute with the gender of each person. This will help to automatically color our plots later!\n",
    "5. Add this updated NetworkX graph into our `network_list`"
   ]
  },
  {
   "cell_type": "code",
   "execution_count": 22,
   "metadata": {},
   "outputs": [
    {
     "data": {
      "text/plain": [
       "[0, 1, 2]"
      ]
     },
     "execution_count": 22,
     "metadata": {},
     "output_type": "execute_result"
    }
   ],
   "source": [
    "list(range(3))"
   ]
  },
  {
   "cell_type": "code",
   "execution_count": 23,
   "metadata": {
    "scrolled": true,
    "tags": []
   },
   "outputs": [
    {
     "name": "stdout",
     "output_type": "stream",
     "text": [
      "['DJ', 'Hong Aik', 'Zhi Yuan', 'Hang Feng', 'May Gee']\n",
      "[('DJ', 'Hong Aik'), ('DJ', 'Zhi Yuan'), ('DJ', 'Hang Feng'), ('DJ', 'May Gee'), ('Hong Aik', 'Zhi Yuan'), ('Hong Aik', 'Hang Feng'), ('Hong Aik', 'May Gee'), ('Zhi Yuan', 'Hang Feng'), ('Zhi Yuan', 'May Gee'), ('Hang Feng', 'May Gee')]\n",
      "['Bryan', 'Vincent', 'Darren', 'Nazira']\n",
      "[('DJ', 'Hong Aik'), ('DJ', 'Zhi Yuan'), ('DJ', 'Hang Feng'), ('DJ', 'May Gee'), ('Hong Aik', 'Zhi Yuan'), ('Hong Aik', 'Hang Feng'), ('Hong Aik', 'May Gee'), ('Zhi Yuan', 'Hang Feng'), ('Zhi Yuan', 'May Gee'), ('Hang Feng', 'May Gee'), ('Bryan', 'Vincent'), ('Bryan', 'Darren'), ('Bryan', 'Nazira'), ('Vincent', 'Darren'), ('Vincent', 'Nazira'), ('Darren', 'Nazira')]\n",
      "['Yu Kiat', 'Raymond', 'Zheng Foong', 'Shuyi', 'Darien']\n",
      "[('DJ', 'Hong Aik'), ('DJ', 'Zhi Yuan'), ('DJ', 'Hang Feng'), ('DJ', 'May Gee'), ('Hong Aik', 'Zhi Yuan'), ('Hong Aik', 'Hang Feng'), ('Hong Aik', 'May Gee'), ('Zhi Yuan', 'Hang Feng'), ('Zhi Yuan', 'May Gee'), ('Hang Feng', 'May Gee'), ('Bryan', 'Vincent'), ('Bryan', 'Darren'), ('Bryan', 'Nazira'), ('Vincent', 'Darren'), ('Vincent', 'Nazira'), ('Darren', 'Nazira'), ('Yu Kiat', 'Raymond'), ('Yu Kiat', 'Zheng Foong'), ('Yu Kiat', 'Shuyi'), ('Yu Kiat', 'Darien'), ('Raymond', 'Zheng Foong'), ('Raymond', 'Shuyi'), ('Raymond', 'Darien'), ('Zheng Foong', 'Shuyi'), ('Zheng Foong', 'Darien'), ('Shuyi', 'Darien')]\n",
      "['Mitchelle', 'Jia Wen', 'Cheng Yeow', 'Mun Yee']\n",
      "[('DJ', 'Hong Aik'), ('DJ', 'Zhi Yuan'), ('DJ', 'Hang Feng'), ('DJ', 'May Gee'), ('Hong Aik', 'Zhi Yuan'), ('Hong Aik', 'Hang Feng'), ('Hong Aik', 'May Gee'), ('Zhi Yuan', 'Hang Feng'), ('Zhi Yuan', 'May Gee'), ('Hang Feng', 'May Gee'), ('Bryan', 'Vincent'), ('Bryan', 'Darren'), ('Bryan', 'Nazira'), ('Vincent', 'Darren'), ('Vincent', 'Nazira'), ('Darren', 'Nazira'), ('Yu Kiat', 'Raymond'), ('Yu Kiat', 'Zheng Foong'), ('Yu Kiat', 'Shuyi'), ('Yu Kiat', 'Darien'), ('Raymond', 'Zheng Foong'), ('Raymond', 'Shuyi'), ('Raymond', 'Darien'), ('Zheng Foong', 'Shuyi'), ('Zheng Foong', 'Darien'), ('Shuyi', 'Darien'), ('Mitchelle', 'Jia Wen'), ('Mitchelle', 'Cheng Yeow'), ('Mitchelle', 'Mun Yee'), ('Jia Wen', 'Cheng Yeow'), ('Jia Wen', 'Mun Yee'), ('Cheng Yeow', 'Mun Yee')]\n",
      "['Zhewei', 'Chee Tzen', 'Flash', 'Brandon', 'Sean Ng']\n",
      "[('DJ', 'Hong Aik'), ('DJ', 'Zhi Yuan'), ('DJ', 'Hang Feng'), ('DJ', 'May Gee'), ('Hong Aik', 'Zhi Yuan'), ('Hong Aik', 'Hang Feng'), ('Hong Aik', 'May Gee'), ('Zhi Yuan', 'Hang Feng'), ('Zhi Yuan', 'May Gee'), ('Hang Feng', 'May Gee'), ('Bryan', 'Vincent'), ('Bryan', 'Darren'), ('Bryan', 'Nazira'), ('Vincent', 'Darren'), ('Vincent', 'Nazira'), ('Darren', 'Nazira'), ('Yu Kiat', 'Raymond'), ('Yu Kiat', 'Zheng Foong'), ('Yu Kiat', 'Shuyi'), ('Yu Kiat', 'Darien'), ('Raymond', 'Zheng Foong'), ('Raymond', 'Shuyi'), ('Raymond', 'Darien'), ('Zheng Foong', 'Shuyi'), ('Zheng Foong', 'Darien'), ('Shuyi', 'Darien'), ('Mitchelle', 'Jia Wen'), ('Mitchelle', 'Cheng Yeow'), ('Mitchelle', 'Mun Yee'), ('Jia Wen', 'Cheng Yeow'), ('Jia Wen', 'Mun Yee'), ('Cheng Yeow', 'Mun Yee'), ('Zhewei', 'Chee Tzen'), ('Zhewei', 'Flash'), ('Zhewei', 'Brandon'), ('Zhewei', 'Sean Ng'), ('Chee Tzen', 'Flash'), ('Chee Tzen', 'Brandon'), ('Chee Tzen', 'Sean Ng'), ('Flash', 'Brandon'), ('Flash', 'Sean Ng'), ('Brandon', 'Sean Ng')]\n",
      "['Kimberly', 'Thien Sean', 'Kris Ng', 'Wee Hong', 'Cheng Kiat']\n",
      "[('DJ', 'Hong Aik'), ('DJ', 'Zhi Yuan'), ('DJ', 'Hang Feng'), ('DJ', 'May Gee'), ('Hong Aik', 'Zhi Yuan'), ('Hong Aik', 'Hang Feng'), ('Hong Aik', 'May Gee'), ('Zhi Yuan', 'Hang Feng'), ('Zhi Yuan', 'May Gee'), ('Hang Feng', 'May Gee'), ('Bryan', 'Vincent'), ('Bryan', 'Darren'), ('Bryan', 'Nazira'), ('Vincent', 'Darren'), ('Vincent', 'Nazira'), ('Darren', 'Nazira'), ('Yu Kiat', 'Raymond'), ('Yu Kiat', 'Zheng Foong'), ('Yu Kiat', 'Shuyi'), ('Yu Kiat', 'Darien'), ('Raymond', 'Zheng Foong'), ('Raymond', 'Shuyi'), ('Raymond', 'Darien'), ('Zheng Foong', 'Shuyi'), ('Zheng Foong', 'Darien'), ('Shuyi', 'Darien'), ('Mitchelle', 'Jia Wen'), ('Mitchelle', 'Cheng Yeow'), ('Mitchelle', 'Mun Yee'), ('Jia Wen', 'Cheng Yeow'), ('Jia Wen', 'Mun Yee'), ('Cheng Yeow', 'Mun Yee'), ('Zhewei', 'Chee Tzen'), ('Zhewei', 'Flash'), ('Zhewei', 'Brandon'), ('Zhewei', 'Sean Ng'), ('Chee Tzen', 'Flash'), ('Chee Tzen', 'Brandon'), ('Chee Tzen', 'Sean Ng'), ('Flash', 'Brandon'), ('Flash', 'Sean Ng'), ('Brandon', 'Sean Ng'), ('Kimberly', 'Thien Sean'), ('Kimberly', 'Kris Ng'), ('Kimberly', 'Wee Hong'), ('Kimberly', 'Cheng Kiat'), ('Thien Sean', 'Kris Ng'), ('Thien Sean', 'Wee Hong'), ('Thien Sean', 'Cheng Kiat'), ('Kris Ng', 'Wee Hong'), ('Kris Ng', 'Cheng Kiat'), ('Wee Hong', 'Cheng Kiat')]\n",
      "['DJ', 'Darren', 'Darien', 'Zhewei', 'Wee Hong']\n",
      "[('DJ', 'Darren'), ('DJ', 'Darien'), ('DJ', 'Zhewei'), ('DJ', 'Wee Hong'), ('Darren', 'Darien'), ('Darren', 'Zhewei'), ('Darren', 'Wee Hong'), ('Darien', 'Zhewei'), ('Darien', 'Wee Hong'), ('Zhewei', 'Wee Hong')]\n",
      "['Hong Aik', 'May Gee', 'Nazira', 'Jia Wen', 'Chee Tzen']\n",
      "[('DJ', 'Darren'), ('DJ', 'Darien'), ('DJ', 'Zhewei'), ('DJ', 'Wee Hong'), ('Darren', 'Darien'), ('Darren', 'Zhewei'), ('Darren', 'Wee Hong'), ('Darien', 'Zhewei'), ('Darien', 'Wee Hong'), ('Zhewei', 'Wee Hong'), ('Hong Aik', 'May Gee'), ('Hong Aik', 'Nazira'), ('Hong Aik', 'Jia Wen'), ('Hong Aik', 'Chee Tzen'), ('May Gee', 'Nazira'), ('May Gee', 'Jia Wen'), ('May Gee', 'Chee Tzen'), ('Nazira', 'Jia Wen'), ('Nazira', 'Chee Tzen'), ('Jia Wen', 'Chee Tzen')]\n",
      "['Zhi Yuan', 'Hang Feng', 'Yu Kiat', 'Flash', 'Kimberly']\n",
      "[('DJ', 'Darren'), ('DJ', 'Darien'), ('DJ', 'Zhewei'), ('DJ', 'Wee Hong'), ('Darren', 'Darien'), ('Darren', 'Zhewei'), ('Darren', 'Wee Hong'), ('Darien', 'Zhewei'), ('Darien', 'Wee Hong'), ('Zhewei', 'Wee Hong'), ('Hong Aik', 'May Gee'), ('Hong Aik', 'Nazira'), ('Hong Aik', 'Jia Wen'), ('Hong Aik', 'Chee Tzen'), ('May Gee', 'Nazira'), ('May Gee', 'Jia Wen'), ('May Gee', 'Chee Tzen'), ('Nazira', 'Jia Wen'), ('Nazira', 'Chee Tzen'), ('Jia Wen', 'Chee Tzen'), ('Zhi Yuan', 'Hang Feng'), ('Zhi Yuan', 'Yu Kiat'), ('Zhi Yuan', 'Flash'), ('Zhi Yuan', 'Kimberly'), ('Hang Feng', 'Yu Kiat'), ('Hang Feng', 'Flash'), ('Hang Feng', 'Kimberly'), ('Yu Kiat', 'Flash'), ('Yu Kiat', 'Kimberly'), ('Flash', 'Kimberly')]\n",
      "['Bryan', 'Vincent', 'Zheng Foong', 'Mitchelle']\n",
      "[('DJ', 'Darren'), ('DJ', 'Darien'), ('DJ', 'Zhewei'), ('DJ', 'Wee Hong'), ('Darren', 'Darien'), ('Darren', 'Zhewei'), ('Darren', 'Wee Hong'), ('Darien', 'Zhewei'), ('Darien', 'Wee Hong'), ('Zhewei', 'Wee Hong'), ('Hong Aik', 'May Gee'), ('Hong Aik', 'Nazira'), ('Hong Aik', 'Jia Wen'), ('Hong Aik', 'Chee Tzen'), ('May Gee', 'Nazira'), ('May Gee', 'Jia Wen'), ('May Gee', 'Chee Tzen'), ('Nazira', 'Jia Wen'), ('Nazira', 'Chee Tzen'), ('Jia Wen', 'Chee Tzen'), ('Zhi Yuan', 'Hang Feng'), ('Zhi Yuan', 'Yu Kiat'), ('Zhi Yuan', 'Flash'), ('Zhi Yuan', 'Kimberly'), ('Hang Feng', 'Yu Kiat'), ('Hang Feng', 'Flash'), ('Hang Feng', 'Kimberly'), ('Yu Kiat', 'Flash'), ('Yu Kiat', 'Kimberly'), ('Flash', 'Kimberly'), ('Bryan', 'Vincent'), ('Bryan', 'Zheng Foong'), ('Bryan', 'Mitchelle'), ('Vincent', 'Zheng Foong'), ('Vincent', 'Mitchelle'), ('Zheng Foong', 'Mitchelle')]\n",
      "['Raymond', 'Mun Yee', 'Brandon', 'Thien Sean', 'Cheng Kiat']\n",
      "[('DJ', 'Darren'), ('DJ', 'Darien'), ('DJ', 'Zhewei'), ('DJ', 'Wee Hong'), ('Darren', 'Darien'), ('Darren', 'Zhewei'), ('Darren', 'Wee Hong'), ('Darien', 'Zhewei'), ('Darien', 'Wee Hong'), ('Zhewei', 'Wee Hong'), ('Hong Aik', 'May Gee'), ('Hong Aik', 'Nazira'), ('Hong Aik', 'Jia Wen'), ('Hong Aik', 'Chee Tzen'), ('May Gee', 'Nazira'), ('May Gee', 'Jia Wen'), ('May Gee', 'Chee Tzen'), ('Nazira', 'Jia Wen'), ('Nazira', 'Chee Tzen'), ('Jia Wen', 'Chee Tzen'), ('Zhi Yuan', 'Hang Feng'), ('Zhi Yuan', 'Yu Kiat'), ('Zhi Yuan', 'Flash'), ('Zhi Yuan', 'Kimberly'), ('Hang Feng', 'Yu Kiat'), ('Hang Feng', 'Flash'), ('Hang Feng', 'Kimberly'), ('Yu Kiat', 'Flash'), ('Yu Kiat', 'Kimberly'), ('Flash', 'Kimberly'), ('Bryan', 'Vincent'), ('Bryan', 'Zheng Foong'), ('Bryan', 'Mitchelle'), ('Vincent', 'Zheng Foong'), ('Vincent', 'Mitchelle'), ('Zheng Foong', 'Mitchelle'), ('Raymond', 'Mun Yee'), ('Raymond', 'Brandon'), ('Raymond', 'Thien Sean'), ('Raymond', 'Cheng Kiat'), ('Mun Yee', 'Brandon'), ('Mun Yee', 'Thien Sean'), ('Mun Yee', 'Cheng Kiat'), ('Brandon', 'Thien Sean'), ('Brandon', 'Cheng Kiat'), ('Thien Sean', 'Cheng Kiat')]\n",
      "['Shuyi', 'Cheng Yeow', 'Sean Ng', 'Kris Ng']\n",
      "[('DJ', 'Darren'), ('DJ', 'Darien'), ('DJ', 'Zhewei'), ('DJ', 'Wee Hong'), ('Darren', 'Darien'), ('Darren', 'Zhewei'), ('Darren', 'Wee Hong'), ('Darien', 'Zhewei'), ('Darien', 'Wee Hong'), ('Zhewei', 'Wee Hong'), ('Hong Aik', 'May Gee'), ('Hong Aik', 'Nazira'), ('Hong Aik', 'Jia Wen'), ('Hong Aik', 'Chee Tzen'), ('May Gee', 'Nazira'), ('May Gee', 'Jia Wen'), ('May Gee', 'Chee Tzen'), ('Nazira', 'Jia Wen'), ('Nazira', 'Chee Tzen'), ('Jia Wen', 'Chee Tzen'), ('Zhi Yuan', 'Hang Feng'), ('Zhi Yuan', 'Yu Kiat'), ('Zhi Yuan', 'Flash'), ('Zhi Yuan', 'Kimberly'), ('Hang Feng', 'Yu Kiat'), ('Hang Feng', 'Flash'), ('Hang Feng', 'Kimberly'), ('Yu Kiat', 'Flash'), ('Yu Kiat', 'Kimberly'), ('Flash', 'Kimberly'), ('Bryan', 'Vincent'), ('Bryan', 'Zheng Foong'), ('Bryan', 'Mitchelle'), ('Vincent', 'Zheng Foong'), ('Vincent', 'Mitchelle'), ('Zheng Foong', 'Mitchelle'), ('Raymond', 'Mun Yee'), ('Raymond', 'Brandon'), ('Raymond', 'Thien Sean'), ('Raymond', 'Cheng Kiat'), ('Mun Yee', 'Brandon'), ('Mun Yee', 'Thien Sean'), ('Mun Yee', 'Cheng Kiat'), ('Brandon', 'Thien Sean'), ('Brandon', 'Cheng Kiat'), ('Thien Sean', 'Cheng Kiat'), ('Shuyi', 'Cheng Yeow'), ('Shuyi', 'Sean Ng'), ('Shuyi', 'Kris Ng'), ('Cheng Yeow', 'Sean Ng'), ('Cheng Yeow', 'Kris Ng'), ('Sean Ng', 'Kris Ng')]\n",
      "['DJ', 'Vincent', 'Mun Yee', 'Kimberly']\n",
      "[('DJ', 'Vincent'), ('DJ', 'Mun Yee'), ('DJ', 'Kimberly'), ('Vincent', 'Mun Yee'), ('Vincent', 'Kimberly'), ('Mun Yee', 'Kimberly')]\n",
      "['Hong Aik', 'Shuyi', 'Mitchelle', 'Wee Hong']\n",
      "[('DJ', 'Vincent'), ('DJ', 'Mun Yee'), ('DJ', 'Kimberly'), ('Vincent', 'Mun Yee'), ('Vincent', 'Kimberly'), ('Mun Yee', 'Kimberly'), ('Hong Aik', 'Shuyi'), ('Hong Aik', 'Mitchelle'), ('Hong Aik', 'Wee Hong'), ('Shuyi', 'Mitchelle'), ('Shuyi', 'Wee Hong'), ('Mitchelle', 'Wee Hong')]\n",
      "['Zhi Yuan', 'Nazira', 'Darien', 'Sean Ng', 'Cheng Kiat']\n",
      "[('DJ', 'Vincent'), ('DJ', 'Mun Yee'), ('DJ', 'Kimberly'), ('Vincent', 'Mun Yee'), ('Vincent', 'Kimberly'), ('Mun Yee', 'Kimberly'), ('Hong Aik', 'Shuyi'), ('Hong Aik', 'Mitchelle'), ('Hong Aik', 'Wee Hong'), ('Shuyi', 'Mitchelle'), ('Shuyi', 'Wee Hong'), ('Mitchelle', 'Wee Hong'), ('Zhi Yuan', 'Nazira'), ('Zhi Yuan', 'Darien'), ('Zhi Yuan', 'Sean Ng'), ('Zhi Yuan', 'Cheng Kiat'), ('Nazira', 'Darien'), ('Nazira', 'Sean Ng'), ('Nazira', 'Cheng Kiat'), ('Darien', 'Sean Ng'), ('Darien', 'Cheng Kiat'), ('Sean Ng', 'Cheng Kiat')]\n",
      "['Hang Feng', 'Raymond', 'Jia Wen', 'Zhewei']\n",
      "[('DJ', 'Vincent'), ('DJ', 'Mun Yee'), ('DJ', 'Kimberly'), ('Vincent', 'Mun Yee'), ('Vincent', 'Kimberly'), ('Mun Yee', 'Kimberly'), ('Hong Aik', 'Shuyi'), ('Hong Aik', 'Mitchelle'), ('Hong Aik', 'Wee Hong'), ('Shuyi', 'Mitchelle'), ('Shuyi', 'Wee Hong'), ('Mitchelle', 'Wee Hong'), ('Zhi Yuan', 'Nazira'), ('Zhi Yuan', 'Darien'), ('Zhi Yuan', 'Sean Ng'), ('Zhi Yuan', 'Cheng Kiat'), ('Nazira', 'Darien'), ('Nazira', 'Sean Ng'), ('Nazira', 'Cheng Kiat'), ('Darien', 'Sean Ng'), ('Darien', 'Cheng Kiat'), ('Sean Ng', 'Cheng Kiat'), ('Hang Feng', 'Raymond'), ('Hang Feng', 'Jia Wen'), ('Hang Feng', 'Zhewei'), ('Raymond', 'Jia Wen'), ('Raymond', 'Zhewei'), ('Jia Wen', 'Zhewei')]\n",
      "['May Gee', 'Bryan', 'Yu Kiat', 'Brandon', 'Kris Ng']\n",
      "[('DJ', 'Vincent'), ('DJ', 'Mun Yee'), ('DJ', 'Kimberly'), ('Vincent', 'Mun Yee'), ('Vincent', 'Kimberly'), ('Mun Yee', 'Kimberly'), ('Hong Aik', 'Shuyi'), ('Hong Aik', 'Mitchelle'), ('Hong Aik', 'Wee Hong'), ('Shuyi', 'Mitchelle'), ('Shuyi', 'Wee Hong'), ('Mitchelle', 'Wee Hong'), ('Zhi Yuan', 'Nazira'), ('Zhi Yuan', 'Darien'), ('Zhi Yuan', 'Sean Ng'), ('Zhi Yuan', 'Cheng Kiat'), ('Nazira', 'Darien'), ('Nazira', 'Sean Ng'), ('Nazira', 'Cheng Kiat'), ('Darien', 'Sean Ng'), ('Darien', 'Cheng Kiat'), ('Sean Ng', 'Cheng Kiat'), ('Hang Feng', 'Raymond'), ('Hang Feng', 'Jia Wen'), ('Hang Feng', 'Zhewei'), ('Raymond', 'Jia Wen'), ('Raymond', 'Zhewei'), ('Jia Wen', 'Zhewei'), ('May Gee', 'Bryan'), ('May Gee', 'Yu Kiat'), ('May Gee', 'Brandon'), ('May Gee', 'Kris Ng'), ('Bryan', 'Yu Kiat'), ('Bryan', 'Brandon'), ('Bryan', 'Kris Ng'), ('Yu Kiat', 'Brandon'), ('Yu Kiat', 'Kris Ng'), ('Brandon', 'Kris Ng')]\n",
      "['Darren', 'Zheng Foong', 'Cheng Yeow', 'Chee Tzen', 'Thien Sean']\n",
      "[('DJ', 'Vincent'), ('DJ', 'Mun Yee'), ('DJ', 'Kimberly'), ('Vincent', 'Mun Yee'), ('Vincent', 'Kimberly'), ('Mun Yee', 'Kimberly'), ('Hong Aik', 'Shuyi'), ('Hong Aik', 'Mitchelle'), ('Hong Aik', 'Wee Hong'), ('Shuyi', 'Mitchelle'), ('Shuyi', 'Wee Hong'), ('Mitchelle', 'Wee Hong'), ('Zhi Yuan', 'Nazira'), ('Zhi Yuan', 'Darien'), ('Zhi Yuan', 'Sean Ng'), ('Zhi Yuan', 'Cheng Kiat'), ('Nazira', 'Darien'), ('Nazira', 'Sean Ng'), ('Nazira', 'Cheng Kiat'), ('Darien', 'Sean Ng'), ('Darien', 'Cheng Kiat'), ('Sean Ng', 'Cheng Kiat'), ('Hang Feng', 'Raymond'), ('Hang Feng', 'Jia Wen'), ('Hang Feng', 'Zhewei'), ('Raymond', 'Jia Wen'), ('Raymond', 'Zhewei'), ('Jia Wen', 'Zhewei'), ('May Gee', 'Bryan'), ('May Gee', 'Yu Kiat'), ('May Gee', 'Brandon'), ('May Gee', 'Kris Ng'), ('Bryan', 'Yu Kiat'), ('Bryan', 'Brandon'), ('Bryan', 'Kris Ng'), ('Yu Kiat', 'Brandon'), ('Yu Kiat', 'Kris Ng'), ('Brandon', 'Kris Ng'), ('Darren', 'Zheng Foong'), ('Darren', 'Cheng Yeow'), ('Darren', 'Chee Tzen'), ('Darren', 'Thien Sean'), ('Zheng Foong', 'Cheng Yeow'), ('Zheng Foong', 'Chee Tzen'), ('Zheng Foong', 'Thien Sean'), ('Cheng Yeow', 'Chee Tzen'), ('Cheng Yeow', 'Thien Sean'), ('Chee Tzen', 'Thien Sean')]\n",
      "[]\n",
      "[('DJ', 'Vincent'), ('DJ', 'Mun Yee'), ('DJ', 'Kimberly'), ('Vincent', 'Mun Yee'), ('Vincent', 'Kimberly'), ('Mun Yee', 'Kimberly'), ('Hong Aik', 'Shuyi'), ('Hong Aik', 'Mitchelle'), ('Hong Aik', 'Wee Hong'), ('Shuyi', 'Mitchelle'), ('Shuyi', 'Wee Hong'), ('Mitchelle', 'Wee Hong'), ('Zhi Yuan', 'Nazira'), ('Zhi Yuan', 'Darien'), ('Zhi Yuan', 'Sean Ng'), ('Zhi Yuan', 'Cheng Kiat'), ('Nazira', 'Darien'), ('Nazira', 'Sean Ng'), ('Nazira', 'Cheng Kiat'), ('Darien', 'Sean Ng'), ('Darien', 'Cheng Kiat'), ('Sean Ng', 'Cheng Kiat'), ('Hang Feng', 'Raymond'), ('Hang Feng', 'Jia Wen'), ('Hang Feng', 'Zhewei'), ('Raymond', 'Jia Wen'), ('Raymond', 'Zhewei'), ('Jia Wen', 'Zhewei'), ('May Gee', 'Bryan'), ('May Gee', 'Yu Kiat'), ('May Gee', 'Brandon'), ('May Gee', 'Kris Ng'), ('Bryan', 'Yu Kiat'), ('Bryan', 'Brandon'), ('Bryan', 'Kris Ng'), ('Yu Kiat', 'Brandon'), ('Yu Kiat', 'Kris Ng'), ('Brandon', 'Kris Ng'), ('Darren', 'Zheng Foong'), ('Darren', 'Cheng Yeow'), ('Darren', 'Chee Tzen'), ('Darren', 'Thien Sean'), ('Zheng Foong', 'Cheng Yeow'), ('Zheng Foong', 'Chee Tzen'), ('Zheng Foong', 'Thien Sean'), ('Cheng Yeow', 'Chee Tzen'), ('Cheng Yeow', 'Thien Sean'), ('Chee Tzen', 'Thien Sean')]\n",
      "3\n"
     ]
    }
   ],
   "source": [
    "# Create an empty list to store the networks for each project\n",
    "network_list = []\n",
    "\n",
    "# Loop over each project we completed so far (3)\n",
    "for project in range(3):\n",
    "    \n",
    "    # Create an empty list to store the edges in each project\n",
    "    project_edges = []\n",
    "    \n",
    "    # Loop over each group in the project\n",
    "    for group in df[f'Project{project+1}'].unique():\n",
    "        \n",
    "        # Find all the project members belonging to the group\n",
    "        project_members = df.loc[df[f'Project{project+1}']==group, 'Name'].values.tolist()\n",
    "        print(project_members)\n",
    "        \n",
    "        # Convert the list of project members to a 2x2 grouping\n",
    "        # This is the format NetworkX requires to build a graph\n",
    "        project_edges += list(itertools.combinations(project_members, 2))\n",
    "        print(project_edges)\n",
    "        \n",
    "    # Create a network graph with all edges until this project\n",
    "    project_network = nx.Graph()\n",
    "    project_network.add_edges_from(project_edges)\n",
    "    \n",
    "    # Add gender to the network\n",
    "    nx.set_node_attributes(project_network, genders)\n",
    "    \n",
    "    # Add the network into the overall list of networks                                                          \n",
    "    network_list.append(project_network)\n",
    "\n",
    "print(len(network_list))"
   ]
  },
  {
   "cell_type": "code",
   "execution_count": 24,
   "metadata": {},
   "outputs": [
    {
     "data": {
      "text/html": [
       "\n",
       "        <iframe\n",
       "            width=\"100%\"\n",
       "            height=\"500px\"\n",
       "            src=\"project1.html\"\n",
       "            frameborder=\"0\"\n",
       "            allowfullscreen\n",
       "        ></iframe>\n",
       "        "
      ],
      "text/plain": [
       "<IPython.lib.display.IFrame at 0x7ffd91d5f220>"
      ]
     },
     "execution_count": 24,
     "metadata": {},
     "output_type": "execute_result"
    }
   ],
   "source": [
    "# Plot Network for Project 1\n",
    "# Draw the network\n",
    "pyvis_net = Network(notebook=True, width='100%')\n",
    "pyvis_net.from_nx(network_list[0])\n",
    "pyvis_net.show('project1.html')"
   ]
  },
  {
   "cell_type": "code",
   "execution_count": 25,
   "metadata": {},
   "outputs": [
    {
     "data": {
      "text/html": [
       "\n",
       "        <iframe\n",
       "            width=\"100%\"\n",
       "            height=\"500px\"\n",
       "            src=\"project2.html\"\n",
       "            frameborder=\"0\"\n",
       "            allowfullscreen\n",
       "        ></iframe>\n",
       "        "
      ],
      "text/plain": [
       "<IPython.lib.display.IFrame at 0x7ffd91e89d60>"
      ]
     },
     "execution_count": 25,
     "metadata": {},
     "output_type": "execute_result"
    }
   ],
   "source": [
    "# Plot Network for Project 2\n",
    "# Draw the network\n",
    "pyvis_net = Network(notebook=True, width='100%')\n",
    "pyvis_net.from_nx(network_list[1])\n",
    "pyvis_net.show('project2.html')"
   ]
  },
  {
   "cell_type": "code",
   "execution_count": 26,
   "metadata": {},
   "outputs": [
    {
     "data": {
      "text/html": [
       "\n",
       "        <iframe\n",
       "            width=\"100%\"\n",
       "            height=\"500px\"\n",
       "            src=\"project3.html\"\n",
       "            frameborder=\"0\"\n",
       "            allowfullscreen\n",
       "        ></iframe>\n",
       "        "
      ],
      "text/plain": [
       "<IPython.lib.display.IFrame at 0x7ffd8f0a3a90>"
      ]
     },
     "execution_count": 26,
     "metadata": {},
     "output_type": "execute_result"
    }
   ],
   "source": [
    "# Plot Network for Project 3\n",
    "# Draw the network\n",
    "pyvis_net = Network(notebook=True, width='100%')\n",
    "pyvis_net.from_nx(network_list[2])\n",
    "pyvis_net.show('project3.html')"
   ]
  },
  {
   "cell_type": "code",
   "execution_count": 32,
   "metadata": {},
   "outputs": [
    {
     "data": {
      "text/html": [
       "\n",
       "        <iframe\n",
       "            width=\"100%\"\n",
       "            height=\"500px\"\n",
       "            src=\"combined_network.html\"\n",
       "            frameborder=\"0\"\n",
       "            allowfullscreen\n",
       "        ></iframe>\n",
       "        "
      ],
      "text/plain": [
       "<IPython.lib.display.IFrame at 0x7ffd91d5fca0>"
      ]
     },
     "execution_count": 32,
     "metadata": {},
     "output_type": "execute_result"
    }
   ],
   "source": [
    "# Combine all three projects \n",
    "# To check the interaction between the entire class after 3 Projects\n",
    "\n",
    "# First crete an empty graph\n",
    "combined_network = nx.Graph()\n",
    "\n",
    "# Loop over each network in our network_list and add it to combined_network\n",
    "for project_network in network_list:\n",
    "    combined_network = nx.compose(combined_network, project_network)\n",
    "\n",
    "# Draw the network\n",
    "pyvis_net = Network(notebook=True, width='100%')\n",
    "pyvis_net.from_nx(combined_network)\n",
    "pyvis_net.show('combined_network.html')"
   ]
  },
  {
   "cell_type": "markdown",
   "metadata": {},
   "source": [
    "- From the dense single cluster network we can see each person is well connected to everyone else in the class\n",
    "- The TAs have been doing a great job to randomly shuffle people across groups!"
   ]
  },
  {
   "cell_type": "code",
   "execution_count": 33,
   "metadata": {},
   "outputs": [
    {
     "data": {
      "text/html": [
       "<div>\n",
       "<style scoped>\n",
       "    .dataframe tbody tr th:only-of-type {\n",
       "        vertical-align: middle;\n",
       "    }\n",
       "\n",
       "    .dataframe tbody tr th {\n",
       "        vertical-align: top;\n",
       "    }\n",
       "\n",
       "    .dataframe thead th {\n",
       "        text-align: right;\n",
       "    }\n",
       "</style>\n",
       "<table border=\"1\" class=\"dataframe\">\n",
       "  <thead>\n",
       "    <tr style=\"text-align: right;\">\n",
       "      <th></th>\n",
       "      <th>closeness centrality</th>\n",
       "    </tr>\n",
       "  </thead>\n",
       "  <tbody>\n",
       "    <tr>\n",
       "      <th>Flash</th>\n",
       "      <td>0.574468</td>\n",
       "    </tr>\n",
       "    <tr>\n",
       "      <th>Vincent</th>\n",
       "      <td>0.586957</td>\n",
       "    </tr>\n",
       "    <tr>\n",
       "      <th>Mitchelle</th>\n",
       "      <td>0.586957</td>\n",
       "    </tr>\n",
       "    <tr>\n",
       "      <th>Bryan</th>\n",
       "      <td>0.600000</td>\n",
       "    </tr>\n",
       "    <tr>\n",
       "      <th>Hong Aik</th>\n",
       "      <td>0.613636</td>\n",
       "    </tr>\n",
       "    <tr>\n",
       "      <th>Hang Feng</th>\n",
       "      <td>0.613636</td>\n",
       "    </tr>\n",
       "    <tr>\n",
       "      <th>Mun Yee</th>\n",
       "      <td>0.613636</td>\n",
       "    </tr>\n",
       "    <tr>\n",
       "      <th>Shuyi</th>\n",
       "      <td>0.613636</td>\n",
       "    </tr>\n",
       "    <tr>\n",
       "      <th>Cheng Yeow</th>\n",
       "      <td>0.613636</td>\n",
       "    </tr>\n",
       "    <tr>\n",
       "      <th>Jia Wen</th>\n",
       "      <td>0.613636</td>\n",
       "    </tr>\n",
       "    <tr>\n",
       "      <th>DJ</th>\n",
       "      <td>0.627907</td>\n",
       "    </tr>\n",
       "    <tr>\n",
       "      <th>Kris Ng</th>\n",
       "      <td>0.627907</td>\n",
       "    </tr>\n",
       "    <tr>\n",
       "      <th>Thien Sean</th>\n",
       "      <td>0.627907</td>\n",
       "    </tr>\n",
       "    <tr>\n",
       "      <th>Kimberly</th>\n",
       "      <td>0.627907</td>\n",
       "    </tr>\n",
       "    <tr>\n",
       "      <th>Sean Ng</th>\n",
       "      <td>0.627907</td>\n",
       "    </tr>\n",
       "    <tr>\n",
       "      <th>Zhewei</th>\n",
       "      <td>0.627907</td>\n",
       "    </tr>\n",
       "    <tr>\n",
       "      <th>Cheng Kiat</th>\n",
       "      <td>0.627907</td>\n",
       "    </tr>\n",
       "    <tr>\n",
       "      <th>Zheng Foong</th>\n",
       "      <td>0.627907</td>\n",
       "    </tr>\n",
       "    <tr>\n",
       "      <th>Raymond</th>\n",
       "      <td>0.627907</td>\n",
       "    </tr>\n",
       "    <tr>\n",
       "      <th>Nazira</th>\n",
       "      <td>0.627907</td>\n",
       "    </tr>\n",
       "    <tr>\n",
       "      <th>Darren</th>\n",
       "      <td>0.627907</td>\n",
       "    </tr>\n",
       "    <tr>\n",
       "      <th>May Gee</th>\n",
       "      <td>0.627907</td>\n",
       "    </tr>\n",
       "    <tr>\n",
       "      <th>Zhi Yuan</th>\n",
       "      <td>0.627907</td>\n",
       "    </tr>\n",
       "    <tr>\n",
       "      <th>Wee Hong</th>\n",
       "      <td>0.627907</td>\n",
       "    </tr>\n",
       "    <tr>\n",
       "      <th>Chee Tzen</th>\n",
       "      <td>0.642857</td>\n",
       "    </tr>\n",
       "    <tr>\n",
       "      <th>Yu Kiat</th>\n",
       "      <td>0.642857</td>\n",
       "    </tr>\n",
       "    <tr>\n",
       "      <th>Brandon</th>\n",
       "      <td>0.642857</td>\n",
       "    </tr>\n",
       "    <tr>\n",
       "      <th>Darien</th>\n",
       "      <td>0.642857</td>\n",
       "    </tr>\n",
       "  </tbody>\n",
       "</table>\n",
       "</div>"
      ],
      "text/plain": [
       "             closeness centrality\n",
       "Flash                    0.574468\n",
       "Vincent                  0.586957\n",
       "Mitchelle                0.586957\n",
       "Bryan                    0.600000\n",
       "Hong Aik                 0.613636\n",
       "Hang Feng                0.613636\n",
       "Mun Yee                  0.613636\n",
       "Shuyi                    0.613636\n",
       "Cheng Yeow               0.613636\n",
       "Jia Wen                  0.613636\n",
       "DJ                       0.627907\n",
       "Kris Ng                  0.627907\n",
       "Thien Sean               0.627907\n",
       "Kimberly                 0.627907\n",
       "Sean Ng                  0.627907\n",
       "Zhewei                   0.627907\n",
       "Cheng Kiat               0.627907\n",
       "Zheng Foong              0.627907\n",
       "Raymond                  0.627907\n",
       "Nazira                   0.627907\n",
       "Darren                   0.627907\n",
       "May Gee                  0.627907\n",
       "Zhi Yuan                 0.627907\n",
       "Wee Hong                 0.627907\n",
       "Chee Tzen                0.642857\n",
       "Yu Kiat                  0.642857\n",
       "Brandon                  0.642857\n",
       "Darien                   0.642857"
      ]
     },
     "execution_count": 33,
     "metadata": {},
     "output_type": "execute_result"
    }
   ],
   "source": [
    "# Let's see if any person has lesser connections than other\n",
    "# Network centrality measures can give us how connected each node is wrt the entire graph: https://networkx.org/documentation/stable/reference/algorithms/centrality.html\n",
    "# Closeness centrality is one kind of centrality measurement: https://networkx.org/documentation/stable/reference/algorithms/generated/networkx.algorithms.centrality.closeness_centrality.html#networkx.algorithms.centrality.closeness_centrality\n",
    "centrality = pd.DataFrame(nx.closeness_centrality(combined_network), index=['closeness centrality']).T\n",
    "centrality.sort_values('closeness centrality')"
   ]
  },
  {
   "cell_type": "markdown",
   "metadata": {},
   "source": [
    "- Analysing Vincent and Mitchelle, looks like they've always been in 4 member groups throughout al 3 projects\n",
    "- TAs to take note and assign them to 5 member groups in the next project if possible!\n",
    "- Centrality not only measures the direct connections each node has but also the connection's connections and their subsequent connections and so on!"
   ]
  },
  {
   "cell_type": "code",
   "execution_count": 34,
   "metadata": {},
   "outputs": [
    {
     "data": {
      "text/html": [
       "<div>\n",
       "<style scoped>\n",
       "    .dataframe tbody tr th:only-of-type {\n",
       "        vertical-align: middle;\n",
       "    }\n",
       "\n",
       "    .dataframe tbody tr th {\n",
       "        vertical-align: top;\n",
       "    }\n",
       "\n",
       "    .dataframe thead th {\n",
       "        text-align: right;\n",
       "    }\n",
       "</style>\n",
       "<table border=\"1\" class=\"dataframe\">\n",
       "  <thead>\n",
       "    <tr style=\"text-align: right;\">\n",
       "      <th></th>\n",
       "      <th>group</th>\n",
       "    </tr>\n",
       "  </thead>\n",
       "  <tbody>\n",
       "    <tr>\n",
       "      <th>DJ</th>\n",
       "      <td>M</td>\n",
       "    </tr>\n",
       "    <tr>\n",
       "      <th>Hong Aik</th>\n",
       "      <td>M</td>\n",
       "    </tr>\n",
       "    <tr>\n",
       "      <th>Zhi Yuan</th>\n",
       "      <td>M</td>\n",
       "    </tr>\n",
       "    <tr>\n",
       "      <th>Hang Feng</th>\n",
       "      <td>M</td>\n",
       "    </tr>\n",
       "    <tr>\n",
       "      <th>May Gee</th>\n",
       "      <td>F</td>\n",
       "    </tr>\n",
       "  </tbody>\n",
       "</table>\n",
       "</div>"
      ],
      "text/plain": [
       "          group\n",
       "DJ            M\n",
       "Hong Aik      M\n",
       "Zhi Yuan      M\n",
       "Hang Feng     M\n",
       "May Gee       F"
      ]
     },
     "execution_count": 34,
     "metadata": {},
     "output_type": "execute_result"
    }
   ],
   "source": [
    "genders_df = pd.DataFrame(genders).T\n",
    "genders_df.head()"
   ]
  },
  {
   "cell_type": "code",
   "execution_count": 35,
   "metadata": {},
   "outputs": [
    {
     "data": {
      "text/html": [
       "<div>\n",
       "<style scoped>\n",
       "    .dataframe tbody tr th:only-of-type {\n",
       "        vertical-align: middle;\n",
       "    }\n",
       "\n",
       "    .dataframe tbody tr th {\n",
       "        vertical-align: top;\n",
       "    }\n",
       "\n",
       "    .dataframe thead th {\n",
       "        text-align: right;\n",
       "    }\n",
       "</style>\n",
       "<table border=\"1\" class=\"dataframe\">\n",
       "  <thead>\n",
       "    <tr style=\"text-align: right;\">\n",
       "      <th></th>\n",
       "      <th>closeness centrality</th>\n",
       "      <th>group</th>\n",
       "    </tr>\n",
       "  </thead>\n",
       "  <tbody>\n",
       "    <tr>\n",
       "      <th>DJ</th>\n",
       "      <td>0.627907</td>\n",
       "      <td>M</td>\n",
       "    </tr>\n",
       "    <tr>\n",
       "      <th>Hong Aik</th>\n",
       "      <td>0.613636</td>\n",
       "      <td>M</td>\n",
       "    </tr>\n",
       "    <tr>\n",
       "      <th>Zhi Yuan</th>\n",
       "      <td>0.627907</td>\n",
       "      <td>M</td>\n",
       "    </tr>\n",
       "    <tr>\n",
       "      <th>Hang Feng</th>\n",
       "      <td>0.613636</td>\n",
       "      <td>M</td>\n",
       "    </tr>\n",
       "    <tr>\n",
       "      <th>May Gee</th>\n",
       "      <td>0.627907</td>\n",
       "      <td>F</td>\n",
       "    </tr>\n",
       "  </tbody>\n",
       "</table>\n",
       "</div>"
      ],
      "text/plain": [
       "           closeness centrality group\n",
       "DJ                     0.627907     M\n",
       "Hong Aik               0.613636     M\n",
       "Zhi Yuan               0.627907     M\n",
       "Hang Feng              0.613636     M\n",
       "May Gee                0.627907     F"
      ]
     },
     "execution_count": 35,
     "metadata": {},
     "output_type": "execute_result"
    }
   ],
   "source": [
    "# join genders to centrality\n",
    "gender_centrality = centrality.join(genders_df)\n",
    "gender_centrality.head()"
   ]
  },
  {
   "cell_type": "code",
   "execution_count": 36,
   "metadata": {},
   "outputs": [
    {
     "data": {
      "text/plain": [
       "<AxesSubplot:xlabel='group', ylabel='closeness centrality'>"
      ]
     },
     "execution_count": 36,
     "metadata": {},
     "output_type": "execute_result"
    },
    {
     "data": {
      "image/png": "[encoded data removed]",
      "text/plain": [
       "<Figure size 432x288 with 1 Axes>"
      ]
     },
     "metadata": {
      "needs_background": "light"
     },
     "output_type": "display_data"
    }
   ],
   "source": [
    "# Check difference in centrality between genders\n",
    "import seaborn as sns\n",
    "sns.boxplot(x='group', y='closeness centrality', data=gender_centrality)"
   ]
  },
  {
   "cell_type": "code",
   "execution_count": 26,
   "metadata": {},
   "outputs": [
    {
     "data": {
      "text/plain": [
       "F_onewayResult(statistic=0.5245738323897355, pvalue=0.4753644893432286)"
      ]
     },
     "execution_count": 26,
     "metadata": {},
     "output_type": "execute_result"
    }
   ],
   "source": [
    "# Run a statistical test to check if the two groups have a difference\n",
    "from scipy.stats import f_oneway\n",
    "male_centrality = gender_centrality.loc[gender_centrality['group']=='M', 'centrality'].values\n",
    "female_centrality = gender_centrality.loc[gender_centrality['group']=='F', 'centrality'].values\n",
    "\n",
    "f_oneway(male_centrality, female_centrality)"
   ]
  },
  {
   "cell_type": "markdown",
   "metadata": {},
   "source": [
    "- Since the p-value is > 0.05, we ***cannot*** reject the Null Hypothesis\n",
    "- Thus there is no statistical difference in centrality between Male students and Female students\n",
    "- In other words, neither Male nor Female students are unfairly isolated in the class and both genders have equal chance of networking!"
   ]
  },
  {
   "cell_type": "markdown",
   "metadata": {},
   "source": [
    "# Conclusions\n",
    "- Networks/Graphs are cool!\n",
    "- They help to visualize and analyse data that is interconnected\n",
    "- Some NLP techniques treat language as a Graph of connected words!\n",
    "- Graph algorithms are very popular in certain applications such as sequential recommendation engines, knowledge graphs, etc\n",
    "- [Pyvis](https://pyvis.readthedocs.io/en/latest/) is the easiest plotting library I've come across to plot interactive graph visualisations. I'm personally using it in my StripNet [HuggingFace Spaces App](https://huggingface.co/spaces/stephenleo/stripnet)! It uses the Javascript library [VisJS](https://visjs.github.io/vis-network/docs/network/) under the hood for all the options.\n",
    "- Free ebook on various graph algorithms: [Link](https://neo4j.com/graph-algorithms-book/)"
   ]
  },
  {
   "cell_type": "markdown",
   "metadata": {},
   "source": [
    "# Bonus"
   ]
  },
  {
   "cell_type": "code",
   "execution_count": 27,
   "metadata": {},
   "outputs": [
    {
     "data": {
      "text/plain": [
       "['Bryan',\n",
       " 'Darren',\n",
       " 'Nazira',\n",
       " 'Zheng Foong',\n",
       " 'Mitchelle',\n",
       " 'DJ',\n",
       " 'Mun Yee',\n",
       " 'Kimberly']"
      ]
     },
     "execution_count": 27,
     "metadata": {},
     "output_type": "execute_result"
    }
   ],
   "source": [
    "# Find all neighbors for a given node\n",
    "list(combined_network.neighbors(n='Vincent'))"
   ]
  },
  {
   "cell_type": "code",
   "execution_count": 28,
   "metadata": {},
   "outputs": [],
   "source": [
    "# Find all second degree connections\n",
    "def get_second_degree_connections(graph, node):\n",
    "    \"\"\"\n",
    "    Returns a list of unique second degree connections for a given node in the graph.\n",
    "    # https://stackoverflow.com/questions/11174122/neighbors-of-second-order\n",
    "    \"\"\"\n",
    "    return set([second_neighbor \n",
    "            for first_neighbor in graph.neighbors(node)\n",
    "            for second_neighbor in graph.neighbors(first_neighbor) \n",
    "            if second_neighbor != node])"
   ]
  },
  {
   "cell_type": "code",
   "execution_count": 30,
   "metadata": {},
   "outputs": [
    {
     "name": "stdout",
     "output_type": "stream",
     "text": [
      "27\n"
     ]
    },
    {
     "data": {
      "text/plain": [
       "{'Brandon',\n",
       " 'Bryan',\n",
       " 'Chee Tzen',\n",
       " 'Cheng Kiat',\n",
       " 'Cheng Yeow',\n",
       " 'DJ',\n",
       " 'Darien',\n",
       " 'Darren',\n",
       " 'Flash',\n",
       " 'Hang Feng',\n",
       " 'Hong Aik',\n",
       " 'Jia Wen',\n",
       " 'Kimberly',\n",
       " 'Kris Ng',\n",
       " 'May Gee',\n",
       " 'Mitchelle',\n",
       " 'Mun Yee',\n",
       " 'Nazira',\n",
       " 'Raymond',\n",
       " 'Sean Ng',\n",
       " 'Shuyi',\n",
       " 'Thien Sean',\n",
       " 'Wee Hong',\n",
       " 'Yu Kiat',\n",
       " 'Zheng Foong',\n",
       " 'Zhewei',\n",
       " 'Zhi Yuan'}"
      ]
     },
     "execution_count": 30,
     "metadata": {},
     "output_type": "execute_result"
    }
   ],
   "source": [
    "second_degree_connections = get_second_degree_connections(combined_network, 'Vincent')\n",
    "\n",
    "print(len(second_degree_connections))\n",
    "second_degree_connections"
   ]
  },
  {
   "cell_type": "code",
   "execution_count": null,
   "metadata": {},
   "outputs": [],
   "source": []
  }
 ],
 "metadata": {
  "kernelspec": {
   "display_name": "Python 3",
   "language": "python",
   "name": "python3"
  },
  "language_info": {
   "codemirror_mode": {
    "name": "ipython",
    "version": 3
   },
   "file_extension": ".py",
   "mimetype": "text/x-python",
   "name": "python",
   "nbconvert_exporter": "python",
   "pygments_lexer": "ipython3",
   "version": "3.8.8"
  }
 },
 "nbformat": 4,
 "nbformat_minor": 4
}
