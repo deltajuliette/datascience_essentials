{
 "cells": [
  {
   "cell_type": "code",
   "execution_count": 1,
   "metadata": {
    "slideshow": {
     "slide_type": "skip"
    },
    "tags": []
   },
   "outputs": [],
   "source": [
    "import pandas as pd\n",
    "import numpy as np\n",
    "import seaborn as sns\n",
    "from sklearn.metrics.pairwise import cosine_similarity"
   ]
  },
  {
   "cell_type": "markdown",
   "metadata": {
    "slideshow": {
     "slide_type": "slide"
    }
   },
   "source": [
    "<img src=\"http://imgur.com/1ZcRyrc.png\" style=\"float: left; margin: 20px; height: 55px\">\n",
    "\n",
    "\n",
    "# Recommendation Engines\n",
    "\n",
    "_Author: Alex Combs (NYC) _\n",
    "\n",
    "---\n",
    "\n",
    "<a id=\"learning-objectives\"></a>\n",
    "### Learning Objectives\n",
    "*After this lesson, you will be able to:*\n",
    "- Explain what a recommendation engines is\n",
    "- Explain the math behind recommendation engines\n",
    "- Explain the types of recommendation engines and their pros and cons"
   ]
  },
  {
   "cell_type": "markdown",
   "metadata": {
    "slideshow": {
     "slide_type": "slide"
    }
   },
   "source": [
    "<a id=\"what-is-a-recommendation-engine\"></a>\n",
    "## What is a recommendation engine?\n",
    "---\n",
    "\n",
    "At its most basic: A system designed to match users to things that they will like.\n",
    "\n",
    "- The \"things\" can be products, brands, media, or even other people. \n",
    "- Ideally, they should be things the user doesn't know about. \n",
    "- **The goal is to rank all the possible things that are available to the user and to only present the top items**"
   ]
  },
  {
   "cell_type": "markdown",
   "metadata": {
    "slideshow": {
     "slide_type": "slide"
    }
   },
   "source": [
    "<a id=\"why-bother\"></a>\n",
    "### Why bother?\n",
    "\n",
    "- We're living in an age of ***Choice Overload***. Want to watch a movie or a show? Thousands are available at our fingertips. Want to buy something? Hundreds of possible variations are available. How do I find what's the most suitable for me personally? Data to the rescue!\n",
    "- 1/4 to a 1/3 of consumer choices at Amazon are driven by personalized recommendations\n",
    "- Netflix says there recommendation engine reduces churn saving the company in excess of $1 billion a year\n",
    "- Hulu [has shown](http://tech.hulu.com/blog/2011/09/19/recommendation-system.html) that showing recommended TV shows results in over 3x more clicks than only showing the most popular TV shows."
   ]
  },
  {
   "cell_type": "markdown",
   "metadata": {
    "slideshow": {
     "slide_type": "fragment"
    }
   },
   "source": [
    "<a id=\"who-uses-recommendation-systems\"></a>\n",
    "### Who uses recommendation systems?\n",
    "\n",
    "- Youtube\n",
    "- Netflix\n",
    "- Pandora\n",
    "- Hulu\n",
    "- Tinder\n",
    "- Facebook\n",
    "- Barnes & Noble (receipts recommend other books)\n",
    "- Target (sent directed ads based on motherhood predictions)\n",
    "- News websites\n",
    "- Food delivery apps\n",
    "\n",
    "Recommendation is everywhere! Anytime you open a webpage or an app and see something different from another person (or opening the same page in an incognito window), high chance its using some recommendation algorithm to personlize the content for you!"
   ]
  },
  {
   "cell_type": "markdown",
   "metadata": {
    "slideshow": {
     "slide_type": "fragment"
    }
   },
   "source": [
    "<a id=\"explicit-data-vs-implicit-data\"></a>\n",
    "### Explicit data vs Implicit data\n",
    "- The data used for generating recommendations\n",
    "\n",
    "#### Explicit\n",
    "- Explicity given/pro-actively acquired\n",
    "- Clear signals\n",
    "- Cost associated with acquisition (time/cognitive)\n",
    "- Limited and sparse data because of this\n",
    "- Eg: Star rating in ecommerce, customer reviews\n",
    "\n",
    "\n",
    "#### Implicit\n",
    "- Provided/collected passively (digital exhaust)\n",
    "- Signals can be difficult to interpret\n",
    "- Enormous quantities\n",
    "- Eg: Just using the app and clicking on various products: search \"product name\" -> Click product 1 -> click product 2 -> 3 -> 4 -> 5. This series of clicks \"clickstream\" are a good indicator to recommend you the next product you might be interested in!"
   ]
  },
  {
   "cell_type": "markdown",
   "metadata": {
    "slideshow": {
     "slide_type": "slide"
    }
   },
   "source": [
    "<a id=\"two-classical-recommendation-methods\"></a>\n",
    "### Two classical recommendation methods\n",
    "\n",
    "- **Collaborative Filtering**: _(similar people)_\n",
    "    - If you like the same 5 movies as someone else, you'll likely enjoy other movies they like.\n",
    "    - There are two main types: \n",
    "        1. Find users who are similar and recommend what they like (**user-based**)\n",
    "        2. Recommend items that are similar to already-liked items (**item-based**).\n",
    "   \n",
    "\n",
    "\n",
    "- **Content-Based Filtering** _(similar items)_\n",
    "    - If you enjoy certain characteristics of movies (e.g. certain actors, genre, etc.), you'll enjoy other movies with those characteristics.\n",
    "    - Note this can easily be done using machine learning methods! Each movie can be decomposed into features. Then, for each user we compute a model -- the target can be a binary classifier (e.g. \"LIKE\"/\"DISLIKE\") or regression (e.g. star rating)."
   ]
  },
  {
   "cell_type": "markdown",
   "metadata": {
    "slideshow": {
     "slide_type": "slide"
    }
   },
   "source": [
    "<a id=\"user-based-collaborative-filtering\"></a>\n",
    "## User-based Collaborative Filtering\n",
    "---\n",
    "\n",
    "We'll first look at user-based filtering. The idea behind this method is finding your taste **doppelgänger**. This is the person who is most similar to you based upon the ratings both of you have given to a mix of products."
   ]
  },
  {
   "cell_type": "markdown",
   "metadata": {
    "slideshow": {
     "slide_type": "slide"
    }
   },
   "source": [
    "<a id=\"so-lets-see-how-we-construct-it\"></a>\n",
    "## So, let's see how we construct it\n",
    "\n",
    "We begin with what's called a utility matrix. This is a **user** (rows) x **product** (columns) matrix."
   ]
  },
  {
   "cell_type": "code",
   "execution_count": 2,
   "metadata": {},
   "outputs": [
    {
     "data": {
      "text/html": [
       "<div>\n",
       "<style scoped>\n",
       "    .dataframe tbody tr th:only-of-type {\n",
       "        vertical-align: middle;\n",
       "    }\n",
       "\n",
       "    .dataframe tbody tr th {\n",
       "        vertical-align: top;\n",
       "    }\n",
       "\n",
       "    .dataframe thead th {\n",
       "        text-align: right;\n",
       "    }\n",
       "</style>\n",
       "<table border=\"1\" class=\"dataframe\">\n",
       "  <thead>\n",
       "    <tr style=\"text-align: right;\">\n",
       "      <th></th>\n",
       "      <th>Friday the 13th</th>\n",
       "      <th>Nightmare on Elm St</th>\n",
       "      <th>Dawn of the Dead</th>\n",
       "      <th>Hiro Dreams of Sushi</th>\n",
       "      <th>180 South</th>\n",
       "      <th>Exit Through the Giftshop</th>\n",
       "    </tr>\n",
       "    <tr>\n",
       "      <th>user</th>\n",
       "      <th></th>\n",
       "      <th></th>\n",
       "      <th></th>\n",
       "      <th></th>\n",
       "      <th></th>\n",
       "      <th></th>\n",
       "    </tr>\n",
       "  </thead>\n",
       "  <tbody>\n",
       "    <tr>\n",
       "      <th>Chuck</th>\n",
       "      <td>5</td>\n",
       "      <td>4.0</td>\n",
       "      <td>NaN</td>\n",
       "      <td>NaN</td>\n",
       "      <td>NaN</td>\n",
       "      <td>1.0</td>\n",
       "    </tr>\n",
       "    <tr>\n",
       "      <th>Nancy</th>\n",
       "      <td>5</td>\n",
       "      <td>NaN</td>\n",
       "      <td>4.0</td>\n",
       "      <td>NaN</td>\n",
       "      <td>2.0</td>\n",
       "      <td>NaN</td>\n",
       "    </tr>\n",
       "    <tr>\n",
       "      <th>Anya</th>\n",
       "      <td>4</td>\n",
       "      <td>5.0</td>\n",
       "      <td>5.0</td>\n",
       "      <td>NaN</td>\n",
       "      <td>1.0</td>\n",
       "      <td>NaN</td>\n",
       "    </tr>\n",
       "    <tr>\n",
       "      <th>Divya</th>\n",
       "      <td>1</td>\n",
       "      <td>NaN</td>\n",
       "      <td>2.0</td>\n",
       "      <td>5.0</td>\n",
       "      <td>4.0</td>\n",
       "      <td>5.0</td>\n",
       "    </tr>\n",
       "    <tr>\n",
       "      <th>Pat</th>\n",
       "      <td>1</td>\n",
       "      <td>1.0</td>\n",
       "      <td>1.0</td>\n",
       "      <td>NaN</td>\n",
       "      <td>3.0</td>\n",
       "      <td>4.0</td>\n",
       "    </tr>\n",
       "  </tbody>\n",
       "</table>\n",
       "</div>"
      ],
      "text/plain": [
       "       Friday the 13th  Nightmare on Elm St  Dawn of the Dead  \\\n",
       "user                                                            \n",
       "Chuck                5                  4.0               NaN   \n",
       "Nancy                5                  NaN               4.0   \n",
       "Anya                 4                  5.0               5.0   \n",
       "Divya                1                  NaN               2.0   \n",
       "Pat                  1                  1.0               1.0   \n",
       "\n",
       "       Hiro Dreams of Sushi  180 South  Exit Through the Giftshop  \n",
       "user                                                               \n",
       "Chuck                   NaN        NaN                        1.0  \n",
       "Nancy                   NaN        2.0                        NaN  \n",
       "Anya                    NaN        1.0                        NaN  \n",
       "Divya                   5.0        4.0                        5.0  \n",
       "Pat                     NaN        3.0                        4.0  "
      ]
     },
     "execution_count": 2,
     "metadata": {},
     "output_type": "execute_result"
    }
   ],
   "source": [
    "movies = [\"user\", \"Friday the 13th\", \"Nightmare on Elm St\", \"Dawn of the Dead\", \"Hiro Dreams of Sushi\", \"180 South\", \"Exit Through the Giftshop\"]\n",
    "users = [\n",
    "    (\"Chuck\", 5, 4, None, None, None, 1),\n",
    "    (\"Nancy\", 5, None, 4, None, 2, None),\n",
    "    (\"Anya\", 4, 5, 5, None, 1, None),\n",
    "    (\"Divya\", 1, None, 2, 5, 4, 5),\n",
    "    (\"Pat\", 1, 1, 1, None, 3, 4),\n",
    "]\n",
    "\n",
    "users = pd.DataFrame(users, columns=movies)\n",
    "users = users.set_index(\"user\")\n",
    "users"
   ]
  },
  {
   "cell_type": "markdown",
   "metadata": {
    "slideshow": {
     "slide_type": "slide"
    }
   },
   "source": [
    "***Check:*** If we want to find the most similar users, what do we need?"
   ]
  },
  {
   "cell_type": "markdown",
   "metadata": {
    "slideshow": {
     "slide_type": "fragment"
    }
   },
   "source": [
    "<a id=\"formula\"></a>\n",
    "If we want to find the users most similar to user A, we need a **similarity metric**. [9 Distance Measures in Data Science Medium Post](https://towardsdatascience.com/9-distance-measures-in-data-science-918109d069fa)\n",
    "\n",
    "One metric we can use is **cosine similarity**. Cosine similarity uses the cosine between two vectors to compute a scalar value that represents how closely related these vectors are. \n",
    "\n",
    "## $$\n",
    "cos(\\theta) = \\frac{\\vec{Chuck} \\cdot \\vec{Nancy}}{\\left\\| \\vec{Chuck}\\right\\| \\left\\| \\vec{Nancy}\\right\\| } \\\n",
    "= \\frac{\\sum{Chuck_i Nancy_i}}{\\sqrt{\\sum{Chuck_i^2}}\\sqrt{\\sum{Nancy_i^2}}}\n",
    "$$\n",
    "\n",
    "- Angle of $0^{\\circ}$ (same direction): $\\cos(0^{\\circ}) = 1$. Perfectly similar.\n",
    "- Angle of $90^{\\circ}$ (orthogonal): $\\cos(90^{\\circ}) = 0$. Totally dissimilar.\n",
    "- Angle of $180^{\\circ}$ (opposite direction): $\\cos(90^{\\circ}) = -1$. Opposite.\n",
    "\n",
    "\n",
    "Doesn't this sound a lot like the correlation coefficient? It turns out that cosine similarity is identical to the **uncentered correlation coefficient**! As a bonus, if the points are mean-centered, then this formula also depicts the **Pearson correlation coefficient**."
   ]
  },
  {
   "cell_type": "markdown",
   "metadata": {},
   "source": [
    "<a id=\"cosine-similarity-using-sci-kit-learn\"></a>\n",
    "## Cosine similarity using sci-kit learn\n",
    "\n",
    "With that, let's calculate the cosine similarity of A against all other users. We'll start with B. We have a sparse matrix with lot's of missing values... what should we do?\n",
    "- First let's subtract each value from the average rating of each user\n",
    "- Then fill na with 0"
   ]
  },
  {
   "cell_type": "code",
   "execution_count": 3,
   "metadata": {},
   "outputs": [],
   "source": [
    "users_mc = users.copy()"
   ]
  },
  {
   "cell_type": "code",
   "execution_count": 4,
   "metadata": {},
   "outputs": [
    {
     "data": {
      "text/html": [
       "<div>\n",
       "<style scoped>\n",
       "    .dataframe tbody tr th:only-of-type {\n",
       "        vertical-align: middle;\n",
       "    }\n",
       "\n",
       "    .dataframe tbody tr th {\n",
       "        vertical-align: top;\n",
       "    }\n",
       "\n",
       "    .dataframe thead th {\n",
       "        text-align: right;\n",
       "    }\n",
       "</style>\n",
       "<table border=\"1\" class=\"dataframe\">\n",
       "  <thead>\n",
       "    <tr style=\"text-align: right;\">\n",
       "      <th></th>\n",
       "      <th>Friday the 13th</th>\n",
       "      <th>Nightmare on Elm St</th>\n",
       "      <th>Dawn of the Dead</th>\n",
       "      <th>Hiro Dreams of Sushi</th>\n",
       "      <th>180 South</th>\n",
       "      <th>Exit Through the Giftshop</th>\n",
       "      <th>user_avg_rating</th>\n",
       "    </tr>\n",
       "    <tr>\n",
       "      <th>user</th>\n",
       "      <th></th>\n",
       "      <th></th>\n",
       "      <th></th>\n",
       "      <th></th>\n",
       "      <th></th>\n",
       "      <th></th>\n",
       "      <th></th>\n",
       "    </tr>\n",
       "  </thead>\n",
       "  <tbody>\n",
       "    <tr>\n",
       "      <th>Chuck</th>\n",
       "      <td>5</td>\n",
       "      <td>4.0</td>\n",
       "      <td>NaN</td>\n",
       "      <td>NaN</td>\n",
       "      <td>NaN</td>\n",
       "      <td>1.0</td>\n",
       "      <td>3.333333</td>\n",
       "    </tr>\n",
       "    <tr>\n",
       "      <th>Nancy</th>\n",
       "      <td>5</td>\n",
       "      <td>NaN</td>\n",
       "      <td>4.0</td>\n",
       "      <td>NaN</td>\n",
       "      <td>2.0</td>\n",
       "      <td>NaN</td>\n",
       "      <td>3.666667</td>\n",
       "    </tr>\n",
       "    <tr>\n",
       "      <th>Anya</th>\n",
       "      <td>4</td>\n",
       "      <td>5.0</td>\n",
       "      <td>5.0</td>\n",
       "      <td>NaN</td>\n",
       "      <td>1.0</td>\n",
       "      <td>NaN</td>\n",
       "      <td>3.750000</td>\n",
       "    </tr>\n",
       "    <tr>\n",
       "      <th>Divya</th>\n",
       "      <td>1</td>\n",
       "      <td>NaN</td>\n",
       "      <td>2.0</td>\n",
       "      <td>5.0</td>\n",
       "      <td>4.0</td>\n",
       "      <td>5.0</td>\n",
       "      <td>3.400000</td>\n",
       "    </tr>\n",
       "    <tr>\n",
       "      <th>Pat</th>\n",
       "      <td>1</td>\n",
       "      <td>1.0</td>\n",
       "      <td>1.0</td>\n",
       "      <td>NaN</td>\n",
       "      <td>3.0</td>\n",
       "      <td>4.0</td>\n",
       "      <td>2.000000</td>\n",
       "    </tr>\n",
       "  </tbody>\n",
       "</table>\n",
       "</div>"
      ],
      "text/plain": [
       "       Friday the 13th  Nightmare on Elm St  Dawn of the Dead  \\\n",
       "user                                                            \n",
       "Chuck                5                  4.0               NaN   \n",
       "Nancy                5                  NaN               4.0   \n",
       "Anya                 4                  5.0               5.0   \n",
       "Divya                1                  NaN               2.0   \n",
       "Pat                  1                  1.0               1.0   \n",
       "\n",
       "       Hiro Dreams of Sushi  180 South  Exit Through the Giftshop  \\\n",
       "user                                                                \n",
       "Chuck                   NaN        NaN                        1.0   \n",
       "Nancy                   NaN        2.0                        NaN   \n",
       "Anya                    NaN        1.0                        NaN   \n",
       "Divya                   5.0        4.0                        5.0   \n",
       "Pat                     NaN        3.0                        4.0   \n",
       "\n",
       "       user_avg_rating  \n",
       "user                    \n",
       "Chuck         3.333333  \n",
       "Nancy         3.666667  \n",
       "Anya          3.750000  \n",
       "Divya         3.400000  \n",
       "Pat           2.000000  "
      ]
     },
     "execution_count": 4,
     "metadata": {},
     "output_type": "execute_result"
    }
   ],
   "source": [
    "# Let's find the average rating of each user\n",
    "users_mc['user_avg_rating'] = users_mc.mean(axis=1)\n",
    "users_mc"
   ]
  },
  {
   "cell_type": "code",
   "execution_count": 5,
   "metadata": {},
   "outputs": [
    {
     "data": {
      "text/plain": [
       "Index(['Friday the 13th', 'Nightmare on Elm St', 'Dawn of the Dead',\n",
       "       'Hiro Dreams of Sushi', '180 South', 'Exit Through the Giftshop',\n",
       "       'user_avg_rating'],\n",
       "      dtype='object')"
      ]
     },
     "execution_count": 5,
     "metadata": {},
     "output_type": "execute_result"
    }
   ],
   "source": [
    "users_mc.columns"
   ]
  },
  {
   "cell_type": "code",
   "execution_count": 6,
   "metadata": {},
   "outputs": [
    {
     "data": {
      "text/html": [
       "<div>\n",
       "<style scoped>\n",
       "    .dataframe tbody tr th:only-of-type {\n",
       "        vertical-align: middle;\n",
       "    }\n",
       "\n",
       "    .dataframe tbody tr th {\n",
       "        vertical-align: top;\n",
       "    }\n",
       "\n",
       "    .dataframe thead th {\n",
       "        text-align: right;\n",
       "    }\n",
       "</style>\n",
       "<table border=\"1\" class=\"dataframe\">\n",
       "  <thead>\n",
       "    <tr style=\"text-align: right;\">\n",
       "      <th></th>\n",
       "      <th>Friday the 13th</th>\n",
       "      <th>Nightmare on Elm St</th>\n",
       "      <th>Dawn of the Dead</th>\n",
       "      <th>Hiro Dreams of Sushi</th>\n",
       "      <th>180 South</th>\n",
       "      <th>Exit Through the Giftshop</th>\n",
       "      <th>user_avg_rating</th>\n",
       "    </tr>\n",
       "    <tr>\n",
       "      <th>user</th>\n",
       "      <th></th>\n",
       "      <th></th>\n",
       "      <th></th>\n",
       "      <th></th>\n",
       "      <th></th>\n",
       "      <th></th>\n",
       "      <th></th>\n",
       "    </tr>\n",
       "  </thead>\n",
       "  <tbody>\n",
       "    <tr>\n",
       "      <th>Chuck</th>\n",
       "      <td>1.666667</td>\n",
       "      <td>0.666667</td>\n",
       "      <td>NaN</td>\n",
       "      <td>NaN</td>\n",
       "      <td>NaN</td>\n",
       "      <td>-2.333333</td>\n",
       "      <td>0.0</td>\n",
       "    </tr>\n",
       "    <tr>\n",
       "      <th>Nancy</th>\n",
       "      <td>1.333333</td>\n",
       "      <td>NaN</td>\n",
       "      <td>0.333333</td>\n",
       "      <td>NaN</td>\n",
       "      <td>-1.666667</td>\n",
       "      <td>NaN</td>\n",
       "      <td>0.0</td>\n",
       "    </tr>\n",
       "    <tr>\n",
       "      <th>Anya</th>\n",
       "      <td>0.250000</td>\n",
       "      <td>1.250000</td>\n",
       "      <td>1.250000</td>\n",
       "      <td>NaN</td>\n",
       "      <td>-2.750000</td>\n",
       "      <td>NaN</td>\n",
       "      <td>0.0</td>\n",
       "    </tr>\n",
       "    <tr>\n",
       "      <th>Divya</th>\n",
       "      <td>-2.400000</td>\n",
       "      <td>NaN</td>\n",
       "      <td>-1.400000</td>\n",
       "      <td>1.6</td>\n",
       "      <td>0.600000</td>\n",
       "      <td>1.600000</td>\n",
       "      <td>0.0</td>\n",
       "    </tr>\n",
       "    <tr>\n",
       "      <th>Pat</th>\n",
       "      <td>-1.000000</td>\n",
       "      <td>-1.000000</td>\n",
       "      <td>-1.000000</td>\n",
       "      <td>NaN</td>\n",
       "      <td>1.000000</td>\n",
       "      <td>2.000000</td>\n",
       "      <td>0.0</td>\n",
       "    </tr>\n",
       "  </tbody>\n",
       "</table>\n",
       "</div>"
      ],
      "text/plain": [
       "       Friday the 13th  Nightmare on Elm St  Dawn of the Dead  \\\n",
       "user                                                            \n",
       "Chuck         1.666667             0.666667               NaN   \n",
       "Nancy         1.333333                  NaN          0.333333   \n",
       "Anya          0.250000             1.250000          1.250000   \n",
       "Divya        -2.400000                  NaN         -1.400000   \n",
       "Pat          -1.000000            -1.000000         -1.000000   \n",
       "\n",
       "       Hiro Dreams of Sushi  180 South  Exit Through the Giftshop  \\\n",
       "user                                                                \n",
       "Chuck                   NaN        NaN                  -2.333333   \n",
       "Nancy                   NaN  -1.666667                        NaN   \n",
       "Anya                    NaN  -2.750000                        NaN   \n",
       "Divya                   1.6   0.600000                   1.600000   \n",
       "Pat                     NaN   1.000000                   2.000000   \n",
       "\n",
       "       user_avg_rating  \n",
       "user                    \n",
       "Chuck              0.0  \n",
       "Nancy              0.0  \n",
       "Anya               0.0  \n",
       "Divya              0.0  \n",
       "Pat                0.0  "
      ]
     },
     "execution_count": 6,
     "metadata": {},
     "output_type": "execute_result"
    }
   ],
   "source": [
    "# Let's subtract the average for each value\n",
    "for col in users_mc.columns:\n",
    "    users_mc[col] = users_mc[col] - users_mc['user_avg_rating']\n",
    "    \n",
    "users_mc"
   ]
  },
  {
   "cell_type": "code",
   "execution_count": 7,
   "metadata": {},
   "outputs": [
    {
     "data": {
      "text/html": [
       "<div>\n",
       "<style scoped>\n",
       "    .dataframe tbody tr th:only-of-type {\n",
       "        vertical-align: middle;\n",
       "    }\n",
       "\n",
       "    .dataframe tbody tr th {\n",
       "        vertical-align: top;\n",
       "    }\n",
       "\n",
       "    .dataframe thead th {\n",
       "        text-align: right;\n",
       "    }\n",
       "</style>\n",
       "<table border=\"1\" class=\"dataframe\">\n",
       "  <thead>\n",
       "    <tr style=\"text-align: right;\">\n",
       "      <th></th>\n",
       "      <th>Friday the 13th</th>\n",
       "      <th>Nightmare on Elm St</th>\n",
       "      <th>Dawn of the Dead</th>\n",
       "      <th>Hiro Dreams of Sushi</th>\n",
       "      <th>180 South</th>\n",
       "      <th>Exit Through the Giftshop</th>\n",
       "    </tr>\n",
       "    <tr>\n",
       "      <th>user</th>\n",
       "      <th></th>\n",
       "      <th></th>\n",
       "      <th></th>\n",
       "      <th></th>\n",
       "      <th></th>\n",
       "      <th></th>\n",
       "    </tr>\n",
       "  </thead>\n",
       "  <tbody>\n",
       "    <tr>\n",
       "      <th>Chuck</th>\n",
       "      <td>1.666667</td>\n",
       "      <td>0.666667</td>\n",
       "      <td>NaN</td>\n",
       "      <td>NaN</td>\n",
       "      <td>NaN</td>\n",
       "      <td>-2.333333</td>\n",
       "    </tr>\n",
       "    <tr>\n",
       "      <th>Nancy</th>\n",
       "      <td>1.333333</td>\n",
       "      <td>NaN</td>\n",
       "      <td>0.333333</td>\n",
       "      <td>NaN</td>\n",
       "      <td>-1.666667</td>\n",
       "      <td>NaN</td>\n",
       "    </tr>\n",
       "    <tr>\n",
       "      <th>Anya</th>\n",
       "      <td>0.250000</td>\n",
       "      <td>1.250000</td>\n",
       "      <td>1.250000</td>\n",
       "      <td>NaN</td>\n",
       "      <td>-2.750000</td>\n",
       "      <td>NaN</td>\n",
       "    </tr>\n",
       "    <tr>\n",
       "      <th>Divya</th>\n",
       "      <td>-2.400000</td>\n",
       "      <td>NaN</td>\n",
       "      <td>-1.400000</td>\n",
       "      <td>1.6</td>\n",
       "      <td>0.600000</td>\n",
       "      <td>1.600000</td>\n",
       "    </tr>\n",
       "    <tr>\n",
       "      <th>Pat</th>\n",
       "      <td>-1.000000</td>\n",
       "      <td>-1.000000</td>\n",
       "      <td>-1.000000</td>\n",
       "      <td>NaN</td>\n",
       "      <td>1.000000</td>\n",
       "      <td>2.000000</td>\n",
       "    </tr>\n",
       "  </tbody>\n",
       "</table>\n",
       "</div>"
      ],
      "text/plain": [
       "       Friday the 13th  Nightmare on Elm St  Dawn of the Dead  \\\n",
       "user                                                            \n",
       "Chuck         1.666667             0.666667               NaN   \n",
       "Nancy         1.333333                  NaN          0.333333   \n",
       "Anya          0.250000             1.250000          1.250000   \n",
       "Divya        -2.400000                  NaN         -1.400000   \n",
       "Pat          -1.000000            -1.000000         -1.000000   \n",
       "\n",
       "       Hiro Dreams of Sushi  180 South  Exit Through the Giftshop  \n",
       "user                                                               \n",
       "Chuck                   NaN        NaN                  -2.333333  \n",
       "Nancy                   NaN  -1.666667                        NaN  \n",
       "Anya                    NaN  -2.750000                        NaN  \n",
       "Divya                   1.6   0.600000                   1.600000  \n",
       "Pat                     NaN   1.000000                   2.000000  "
      ]
     },
     "execution_count": 7,
     "metadata": {},
     "output_type": "execute_result"
    }
   ],
   "source": [
    "# Drop the user_avg_rating column\n",
    "users_mc = users_mc.drop(columns=['user_avg_rating'])\n",
    "users_mc"
   ]
  },
  {
   "cell_type": "code",
   "execution_count": 8,
   "metadata": {
    "tags": []
   },
   "outputs": [
    {
     "data": {
      "text/html": [
       "<div>\n",
       "<style scoped>\n",
       "    .dataframe tbody tr th:only-of-type {\n",
       "        vertical-align: middle;\n",
       "    }\n",
       "\n",
       "    .dataframe tbody tr th {\n",
       "        vertical-align: top;\n",
       "    }\n",
       "\n",
       "    .dataframe thead th {\n",
       "        text-align: right;\n",
       "    }\n",
       "</style>\n",
       "<table border=\"1\" class=\"dataframe\">\n",
       "  <thead>\n",
       "    <tr style=\"text-align: right;\">\n",
       "      <th></th>\n",
       "      <th>Friday the 13th</th>\n",
       "      <th>Nightmare on Elm St</th>\n",
       "      <th>Dawn of the Dead</th>\n",
       "      <th>Hiro Dreams of Sushi</th>\n",
       "      <th>180 South</th>\n",
       "      <th>Exit Through the Giftshop</th>\n",
       "    </tr>\n",
       "    <tr>\n",
       "      <th>user</th>\n",
       "      <th></th>\n",
       "      <th></th>\n",
       "      <th></th>\n",
       "      <th></th>\n",
       "      <th></th>\n",
       "      <th></th>\n",
       "    </tr>\n",
       "  </thead>\n",
       "  <tbody>\n",
       "    <tr>\n",
       "      <th>Chuck</th>\n",
       "      <td>1.666667</td>\n",
       "      <td>0.666667</td>\n",
       "      <td>0.000000</td>\n",
       "      <td>0.0</td>\n",
       "      <td>0.000000</td>\n",
       "      <td>-2.333333</td>\n",
       "    </tr>\n",
       "    <tr>\n",
       "      <th>Nancy</th>\n",
       "      <td>1.333333</td>\n",
       "      <td>0.000000</td>\n",
       "      <td>0.333333</td>\n",
       "      <td>0.0</td>\n",
       "      <td>-1.666667</td>\n",
       "      <td>0.000000</td>\n",
       "    </tr>\n",
       "    <tr>\n",
       "      <th>Anya</th>\n",
       "      <td>0.250000</td>\n",
       "      <td>1.250000</td>\n",
       "      <td>1.250000</td>\n",
       "      <td>0.0</td>\n",
       "      <td>-2.750000</td>\n",
       "      <td>0.000000</td>\n",
       "    </tr>\n",
       "    <tr>\n",
       "      <th>Divya</th>\n",
       "      <td>-2.400000</td>\n",
       "      <td>0.000000</td>\n",
       "      <td>-1.400000</td>\n",
       "      <td>1.6</td>\n",
       "      <td>0.600000</td>\n",
       "      <td>1.600000</td>\n",
       "    </tr>\n",
       "    <tr>\n",
       "      <th>Pat</th>\n",
       "      <td>-1.000000</td>\n",
       "      <td>-1.000000</td>\n",
       "      <td>-1.000000</td>\n",
       "      <td>0.0</td>\n",
       "      <td>1.000000</td>\n",
       "      <td>2.000000</td>\n",
       "    </tr>\n",
       "  </tbody>\n",
       "</table>\n",
       "</div>"
      ],
      "text/plain": [
       "       Friday the 13th  Nightmare on Elm St  Dawn of the Dead  \\\n",
       "user                                                            \n",
       "Chuck         1.666667             0.666667          0.000000   \n",
       "Nancy         1.333333             0.000000          0.333333   \n",
       "Anya          0.250000             1.250000          1.250000   \n",
       "Divya        -2.400000             0.000000         -1.400000   \n",
       "Pat          -1.000000            -1.000000         -1.000000   \n",
       "\n",
       "       Hiro Dreams of Sushi  180 South  Exit Through the Giftshop  \n",
       "user                                                               \n",
       "Chuck                   0.0   0.000000                  -2.333333  \n",
       "Nancy                   0.0  -1.666667                   0.000000  \n",
       "Anya                    0.0  -2.750000                   0.000000  \n",
       "Divya                   1.6   0.600000                   1.600000  \n",
       "Pat                     0.0   1.000000                   2.000000  "
      ]
     },
     "execution_count": 8,
     "metadata": {},
     "output_type": "execute_result"
    }
   ],
   "source": [
    "users_mc = users_mc.fillna(0)\n",
    "users_mc"
   ]
  },
  {
   "cell_type": "code",
   "execution_count": 9,
   "metadata": {},
   "outputs": [],
   "source": [
    "# Let's write the whole thing as a function as we can use it easily\n",
    "def mean_center_rows(data):\n",
    "    # Create a copy of the data so we don't overwrite it\n",
    "    data = data.copy()\n",
    "    \n",
    "    # Let's find the average rating of each user\n",
    "    data['user_avg_rating'] = data.mean(axis=1)\n",
    "    \n",
    "    # Let's subtract the average for each value\n",
    "    for col in data.columns:\n",
    "        data[col] = data[col] - data['user_avg_rating']\n",
    "        \n",
    "    # Drop the user_avg_rating column\n",
    "    data = data.drop(columns=['user_avg_rating'])\n",
    "    \n",
    "    # Fill NA\n",
    "    data = data.fillna(0)\n",
    "    \n",
    "    return data"
   ]
  },
  {
   "cell_type": "markdown",
   "metadata": {},
   "source": [
    "Now let's calculate the (cosine) similarity for each user vs every other user\n",
    "\n",
    "Do these results make sense??"
   ]
  },
  {
   "cell_type": "code",
   "execution_count": 10,
   "metadata": {},
   "outputs": [
    {
     "data": {
      "text/html": [
       "<div>\n",
       "<style scoped>\n",
       "    .dataframe tbody tr th:only-of-type {\n",
       "        vertical-align: middle;\n",
       "    }\n",
       "\n",
       "    .dataframe tbody tr th {\n",
       "        vertical-align: top;\n",
       "    }\n",
       "\n",
       "    .dataframe thead th {\n",
       "        text-align: right;\n",
       "    }\n",
       "</style>\n",
       "<table border=\"1\" class=\"dataframe\">\n",
       "  <thead>\n",
       "    <tr style=\"text-align: right;\">\n",
       "      <th>user</th>\n",
       "      <th>Chuck</th>\n",
       "      <th>Nancy</th>\n",
       "      <th>Anya</th>\n",
       "      <th>Divya</th>\n",
       "      <th>Pat</th>\n",
       "    </tr>\n",
       "    <tr>\n",
       "      <th>user</th>\n",
       "      <th></th>\n",
       "      <th></th>\n",
       "      <th></th>\n",
       "      <th></th>\n",
       "      <th></th>\n",
       "    </tr>\n",
       "  </thead>\n",
       "  <tbody>\n",
       "    <tr>\n",
       "      <th>Chuck</th>\n",
       "      <td>1.000000</td>\n",
       "      <td>0.349428</td>\n",
       "      <td>0.129503</td>\n",
       "      <td>-0.723026</td>\n",
       "      <td>-0.840673</td>\n",
       "    </tr>\n",
       "    <tr>\n",
       "      <th>Nancy</th>\n",
       "      <td>0.349428</td>\n",
       "      <td>1.000000</td>\n",
       "      <td>0.752993</td>\n",
       "      <td>-0.594588</td>\n",
       "      <td>-0.545545</td>\n",
       "    </tr>\n",
       "    <tr>\n",
       "      <th>Anya</th>\n",
       "      <td>0.129503</td>\n",
       "      <td>0.752993</td>\n",
       "      <td>1.000000</td>\n",
       "      <td>-0.335791</td>\n",
       "      <td>-0.593080</td>\n",
       "    </tr>\n",
       "    <tr>\n",
       "      <th>Divya</th>\n",
       "      <td>-0.723026</td>\n",
       "      <td>-0.594588</td>\n",
       "      <td>-0.335791</td>\n",
       "      <td>1.000000</td>\n",
       "      <td>0.739574</td>\n",
       "    </tr>\n",
       "    <tr>\n",
       "      <th>Pat</th>\n",
       "      <td>-0.840673</td>\n",
       "      <td>-0.545545</td>\n",
       "      <td>-0.593080</td>\n",
       "      <td>0.739574</td>\n",
       "      <td>1.000000</td>\n",
       "    </tr>\n",
       "  </tbody>\n",
       "</table>\n",
       "</div>"
      ],
      "text/plain": [
       "user      Chuck     Nancy      Anya     Divya       Pat\n",
       "user                                                   \n",
       "Chuck  1.000000  0.349428  0.129503 -0.723026 -0.840673\n",
       "Nancy  0.349428  1.000000  0.752993 -0.594588 -0.545545\n",
       "Anya   0.129503  0.752993  1.000000 -0.335791 -0.593080\n",
       "Divya -0.723026 -0.594588 -0.335791  1.000000  0.739574\n",
       "Pat   -0.840673 -0.545545 -0.593080  0.739574  1.000000"
      ]
     },
     "execution_count": 10,
     "metadata": {},
     "output_type": "execute_result"
    }
   ],
   "source": [
    "sim_matrix = cosine_similarity(users_mc)\n",
    "users_sim = pd.DataFrame(sim_matrix, columns=users_mc.index, index=users_mc.index)\n",
    "users_sim"
   ]
  },
  {
   "cell_type": "code",
   "execution_count": 11,
   "metadata": {},
   "outputs": [
    {
     "data": {
      "text/plain": [
       "<AxesSubplot:xlabel='user', ylabel='user'>"
      ]
     },
     "execution_count": 11,
     "metadata": {},
     "output_type": "execute_result"
    },
    {
     "data": {
      "image/png": "[encoded data removed]",
      "text/plain": [
       "<Figure size 432x288 with 2 Axes>"
      ]
     },
     "metadata": {
      "needs_background": "light"
     },
     "output_type": "display_data"
    }
   ],
   "source": [
    "sns.heatmap(users_sim, annot=True, cmap='coolwarm')"
   ]
  },
  {
   "cell_type": "markdown",
   "metadata": {
    "slideshow": {
     "slide_type": "slide"
    }
   },
   "source": [
    "<a id=\"but-how-do-we-predict-the-rating-of-an-item-for-a-user\"></a>\n",
    "## But how do we predict the rating of an item for a user?"
   ]
  },
  {
   "cell_type": "markdown",
   "metadata": {
    "slideshow": {
     "slide_type": "slide"
    }
   },
   "source": [
    "**Will Nancy like Nightmare on Elm St?**\n",
    "\n",
    "To answer this we will predict Nancy's rating using the _weighted results of the other users_.\n",
    "\n",
    "This is where a little art comes in... let's make the decision to only include users that have a positive similarity score relative to Nancy."
   ]
  },
  {
   "cell_type": "code",
   "execution_count": 12,
   "metadata": {},
   "outputs": [
    {
     "data": {
      "text/html": [
       "<div>\n",
       "<style scoped>\n",
       "    .dataframe tbody tr th:only-of-type {\n",
       "        vertical-align: middle;\n",
       "    }\n",
       "\n",
       "    .dataframe tbody tr th {\n",
       "        vertical-align: top;\n",
       "    }\n",
       "\n",
       "    .dataframe thead th {\n",
       "        text-align: right;\n",
       "    }\n",
       "</style>\n",
       "<table border=\"1\" class=\"dataframe\">\n",
       "  <thead>\n",
       "    <tr style=\"text-align: right;\">\n",
       "      <th></th>\n",
       "      <th>Friday the 13th</th>\n",
       "      <th>Nightmare on Elm St</th>\n",
       "      <th>Dawn of the Dead</th>\n",
       "      <th>Hiro Dreams of Sushi</th>\n",
       "      <th>180 South</th>\n",
       "      <th>Exit Through the Giftshop</th>\n",
       "    </tr>\n",
       "    <tr>\n",
       "      <th>user</th>\n",
       "      <th></th>\n",
       "      <th></th>\n",
       "      <th></th>\n",
       "      <th></th>\n",
       "      <th></th>\n",
       "      <th></th>\n",
       "    </tr>\n",
       "  </thead>\n",
       "  <tbody>\n",
       "    <tr>\n",
       "      <th>Chuck</th>\n",
       "      <td>5</td>\n",
       "      <td>4.0</td>\n",
       "      <td>NaN</td>\n",
       "      <td>NaN</td>\n",
       "      <td>NaN</td>\n",
       "      <td>1.0</td>\n",
       "    </tr>\n",
       "    <tr>\n",
       "      <th>Nancy</th>\n",
       "      <td>5</td>\n",
       "      <td>NaN</td>\n",
       "      <td>4.0</td>\n",
       "      <td>NaN</td>\n",
       "      <td>2.0</td>\n",
       "      <td>NaN</td>\n",
       "    </tr>\n",
       "    <tr>\n",
       "      <th>Anya</th>\n",
       "      <td>4</td>\n",
       "      <td>5.0</td>\n",
       "      <td>5.0</td>\n",
       "      <td>NaN</td>\n",
       "      <td>1.0</td>\n",
       "      <td>NaN</td>\n",
       "    </tr>\n",
       "    <tr>\n",
       "      <th>Divya</th>\n",
       "      <td>1</td>\n",
       "      <td>NaN</td>\n",
       "      <td>2.0</td>\n",
       "      <td>5.0</td>\n",
       "      <td>4.0</td>\n",
       "      <td>5.0</td>\n",
       "    </tr>\n",
       "    <tr>\n",
       "      <th>Pat</th>\n",
       "      <td>1</td>\n",
       "      <td>1.0</td>\n",
       "      <td>1.0</td>\n",
       "      <td>NaN</td>\n",
       "      <td>3.0</td>\n",
       "      <td>4.0</td>\n",
       "    </tr>\n",
       "  </tbody>\n",
       "</table>\n",
       "</div>"
      ],
      "text/plain": [
       "       Friday the 13th  Nightmare on Elm St  Dawn of the Dead  \\\n",
       "user                                                            \n",
       "Chuck                5                  4.0               NaN   \n",
       "Nancy                5                  NaN               4.0   \n",
       "Anya                 4                  5.0               5.0   \n",
       "Divya                1                  NaN               2.0   \n",
       "Pat                  1                  1.0               1.0   \n",
       "\n",
       "       Hiro Dreams of Sushi  180 South  Exit Through the Giftshop  \n",
       "user                                                               \n",
       "Chuck                   NaN        NaN                        1.0  \n",
       "Nancy                   NaN        2.0                        NaN  \n",
       "Anya                    NaN        1.0                        NaN  \n",
       "Divya                   5.0        4.0                        5.0  \n",
       "Pat                     NaN        3.0                        4.0  "
      ]
     },
     "execution_count": 12,
     "metadata": {},
     "output_type": "execute_result"
    }
   ],
   "source": [
    "users"
   ]
  },
  {
   "cell_type": "code",
   "execution_count": 13,
   "metadata": {},
   "outputs": [
    {
     "data": {
      "text/html": [
       "<div>\n",
       "<style scoped>\n",
       "    .dataframe tbody tr th:only-of-type {\n",
       "        vertical-align: middle;\n",
       "    }\n",
       "\n",
       "    .dataframe tbody tr th {\n",
       "        vertical-align: top;\n",
       "    }\n",
       "\n",
       "    .dataframe thead th {\n",
       "        text-align: right;\n",
       "    }\n",
       "</style>\n",
       "<table border=\"1\" class=\"dataframe\">\n",
       "  <thead>\n",
       "    <tr style=\"text-align: right;\">\n",
       "      <th>user</th>\n",
       "      <th>Chuck</th>\n",
       "      <th>Nancy</th>\n",
       "      <th>Anya</th>\n",
       "      <th>Divya</th>\n",
       "      <th>Pat</th>\n",
       "    </tr>\n",
       "    <tr>\n",
       "      <th>user</th>\n",
       "      <th></th>\n",
       "      <th></th>\n",
       "      <th></th>\n",
       "      <th></th>\n",
       "      <th></th>\n",
       "    </tr>\n",
       "  </thead>\n",
       "  <tbody>\n",
       "    <tr>\n",
       "      <th>Chuck</th>\n",
       "      <td>1.000000</td>\n",
       "      <td>0.349428</td>\n",
       "      <td>0.129503</td>\n",
       "      <td>-0.723026</td>\n",
       "      <td>-0.840673</td>\n",
       "    </tr>\n",
       "    <tr>\n",
       "      <th>Nancy</th>\n",
       "      <td>0.349428</td>\n",
       "      <td>1.000000</td>\n",
       "      <td>0.752993</td>\n",
       "      <td>-0.594588</td>\n",
       "      <td>-0.545545</td>\n",
       "    </tr>\n",
       "    <tr>\n",
       "      <th>Anya</th>\n",
       "      <td>0.129503</td>\n",
       "      <td>0.752993</td>\n",
       "      <td>1.000000</td>\n",
       "      <td>-0.335791</td>\n",
       "      <td>-0.593080</td>\n",
       "    </tr>\n",
       "    <tr>\n",
       "      <th>Divya</th>\n",
       "      <td>-0.723026</td>\n",
       "      <td>-0.594588</td>\n",
       "      <td>-0.335791</td>\n",
       "      <td>1.000000</td>\n",
       "      <td>0.739574</td>\n",
       "    </tr>\n",
       "    <tr>\n",
       "      <th>Pat</th>\n",
       "      <td>-0.840673</td>\n",
       "      <td>-0.545545</td>\n",
       "      <td>-0.593080</td>\n",
       "      <td>0.739574</td>\n",
       "      <td>1.000000</td>\n",
       "    </tr>\n",
       "  </tbody>\n",
       "</table>\n",
       "</div>"
      ],
      "text/plain": [
       "user      Chuck     Nancy      Anya     Divya       Pat\n",
       "user                                                   \n",
       "Chuck  1.000000  0.349428  0.129503 -0.723026 -0.840673\n",
       "Nancy  0.349428  1.000000  0.752993 -0.594588 -0.545545\n",
       "Anya   0.129503  0.752993  1.000000 -0.335791 -0.593080\n",
       "Divya -0.723026 -0.594588 -0.335791  1.000000  0.739574\n",
       "Pat   -0.840673 -0.545545 -0.593080  0.739574  1.000000"
      ]
     },
     "execution_count": 13,
     "metadata": {},
     "output_type": "execute_result"
    }
   ],
   "source": [
    "users_sim"
   ]
  },
  {
   "cell_type": "markdown",
   "metadata": {},
   "source": [
    "The gist of what we want to do is given by the following formulaL\n",
    "\n",
    "$$\\frac{\\text{Chuck-Nancy sim}}{\\text{sum of similarities}}*\\text{Chuck rating} + \\frac{\\text{Nancy-Anya sim}}{\\text{sum of similarities}}*\\text{Anya ratings}$$\n",
    "\n",
    "Here's the procedure for recommending movie X to Nancy:\n",
    "\n",
    "1. Get Nancy's similarity scores to all other **users**.\n",
    "2. Only keep positive similarities.  (This step can be tweaked!)\n",
    "3. Convert Nancy's similarities to _weights_ by dividing each similarity by the _total_ similarity.\n",
    "4. Get all the other users' ratings for movie X.\n",
    "5. Weight each user's rating by Nancy's similarity to that user."
   ]
  },
  {
   "cell_type": "code",
   "execution_count": 14,
   "metadata": {},
   "outputs": [
    {
     "data": {
      "text/plain": [
       "user\n",
       "Chuck    0.349428\n",
       "Nancy    1.000000\n",
       "Anya     0.752993\n",
       "Divya   -0.594588\n",
       "Pat     -0.545545\n",
       "Name: Nancy, dtype: float64"
      ]
     },
     "execution_count": 14,
     "metadata": {},
     "output_type": "execute_result"
    }
   ],
   "source": [
    "users_sim['Nancy']"
   ]
  },
  {
   "cell_type": "code",
   "execution_count": 15,
   "metadata": {},
   "outputs": [
    {
     "data": {
      "text/plain": [
       "user\n",
       "Chuck    0.349428\n",
       "Anya     0.752993\n",
       "Name: Nancy, dtype: float64"
      ]
     },
     "execution_count": 15,
     "metadata": {},
     "output_type": "execute_result"
    }
   ],
   "source": [
    "# get Nancy's similarity scores\n",
    "nancy_sim = users_sim['Nancy'].drop('Nancy')\n",
    "nancy_sim = nancy_sim[nancy_sim > 0]\n",
    "nancy_sim"
   ]
  },
  {
   "cell_type": "code",
   "execution_count": 16,
   "metadata": {},
   "outputs": [
    {
     "data": {
      "text/plain": [
       "array([0.3169643, 0.6830357])"
      ]
     },
     "execution_count": 16,
     "metadata": {},
     "output_type": "execute_result"
    }
   ],
   "source": [
    "# Turn Nancy's similarity scores to weights\n",
    "nancy_weights = nancy_sim.values/np.sum(nancy_sim.values)\n",
    "nancy_weights"
   ]
  },
  {
   "cell_type": "code",
   "execution_count": 17,
   "metadata": {},
   "outputs": [
    {
     "data": {
      "text/html": [
       "<div>\n",
       "<style scoped>\n",
       "    .dataframe tbody tr th:only-of-type {\n",
       "        vertical-align: middle;\n",
       "    }\n",
       "\n",
       "    .dataframe tbody tr th {\n",
       "        vertical-align: top;\n",
       "    }\n",
       "\n",
       "    .dataframe thead th {\n",
       "        text-align: right;\n",
       "    }\n",
       "</style>\n",
       "<table border=\"1\" class=\"dataframe\">\n",
       "  <thead>\n",
       "    <tr style=\"text-align: right;\">\n",
       "      <th></th>\n",
       "      <th>Friday the 13th</th>\n",
       "      <th>Nightmare on Elm St</th>\n",
       "      <th>Dawn of the Dead</th>\n",
       "      <th>Hiro Dreams of Sushi</th>\n",
       "      <th>180 South</th>\n",
       "      <th>Exit Through the Giftshop</th>\n",
       "    </tr>\n",
       "    <tr>\n",
       "      <th>user</th>\n",
       "      <th></th>\n",
       "      <th></th>\n",
       "      <th></th>\n",
       "      <th></th>\n",
       "      <th></th>\n",
       "      <th></th>\n",
       "    </tr>\n",
       "  </thead>\n",
       "  <tbody>\n",
       "    <tr>\n",
       "      <th>Chuck</th>\n",
       "      <td>5</td>\n",
       "      <td>4.0</td>\n",
       "      <td>NaN</td>\n",
       "      <td>NaN</td>\n",
       "      <td>NaN</td>\n",
       "      <td>1.0</td>\n",
       "    </tr>\n",
       "    <tr>\n",
       "      <th>Nancy</th>\n",
       "      <td>5</td>\n",
       "      <td>NaN</td>\n",
       "      <td>4.0</td>\n",
       "      <td>NaN</td>\n",
       "      <td>2.0</td>\n",
       "      <td>NaN</td>\n",
       "    </tr>\n",
       "    <tr>\n",
       "      <th>Anya</th>\n",
       "      <td>4</td>\n",
       "      <td>5.0</td>\n",
       "      <td>5.0</td>\n",
       "      <td>NaN</td>\n",
       "      <td>1.0</td>\n",
       "      <td>NaN</td>\n",
       "    </tr>\n",
       "    <tr>\n",
       "      <th>Divya</th>\n",
       "      <td>1</td>\n",
       "      <td>NaN</td>\n",
       "      <td>2.0</td>\n",
       "      <td>5.0</td>\n",
       "      <td>4.0</td>\n",
       "      <td>5.0</td>\n",
       "    </tr>\n",
       "    <tr>\n",
       "      <th>Pat</th>\n",
       "      <td>1</td>\n",
       "      <td>1.0</td>\n",
       "      <td>1.0</td>\n",
       "      <td>NaN</td>\n",
       "      <td>3.0</td>\n",
       "      <td>4.0</td>\n",
       "    </tr>\n",
       "  </tbody>\n",
       "</table>\n",
       "</div>"
      ],
      "text/plain": [
       "       Friday the 13th  Nightmare on Elm St  Dawn of the Dead  \\\n",
       "user                                                            \n",
       "Chuck                5                  4.0               NaN   \n",
       "Nancy                5                  NaN               4.0   \n",
       "Anya                 4                  5.0               5.0   \n",
       "Divya                1                  NaN               2.0   \n",
       "Pat                  1                  1.0               1.0   \n",
       "\n",
       "       Hiro Dreams of Sushi  180 South  Exit Through the Giftshop  \n",
       "user                                                               \n",
       "Chuck                   NaN        NaN                        1.0  \n",
       "Nancy                   NaN        2.0                        NaN  \n",
       "Anya                    NaN        1.0                        NaN  \n",
       "Divya                   5.0        4.0                        5.0  \n",
       "Pat                     NaN        3.0                        4.0  "
      ]
     },
     "execution_count": 17,
     "metadata": {},
     "output_type": "execute_result"
    }
   ],
   "source": [
    "users"
   ]
  },
  {
   "cell_type": "code",
   "execution_count": 18,
   "metadata": {},
   "outputs": [
    {
     "data": {
      "text/plain": [
       "Index(['Chuck', 'Anya'], dtype='object', name='user')"
      ]
     },
     "execution_count": 18,
     "metadata": {},
     "output_type": "execute_result"
    }
   ],
   "source": [
    "nancy_sim.index"
   ]
  },
  {
   "cell_type": "code",
   "execution_count": 19,
   "metadata": {},
   "outputs": [
    {
     "data": {
      "text/plain": [
       "user\n",
       "Chuck    4.0\n",
       "Anya     5.0\n",
       "Divya    NaN\n",
       "Pat      1.0\n",
       "Name: Nightmare on Elm St, dtype: float64"
      ]
     },
     "execution_count": 19,
     "metadata": {},
     "output_type": "execute_result"
    }
   ],
   "source": [
    "users['Nightmare on Elm St'].drop('Nancy')"
   ]
  },
  {
   "cell_type": "code",
   "execution_count": 20,
   "metadata": {},
   "outputs": [
    {
     "data": {
      "text/plain": [
       "user\n",
       "Chuck    4.0\n",
       "Anya     5.0\n",
       "Name: Nightmare on Elm St, dtype: float64"
      ]
     },
     "execution_count": 20,
     "metadata": {},
     "output_type": "execute_result"
    }
   ],
   "source": [
    "# Get elm_st_ratings\n",
    "elm_st_ratings = users['Nightmare on Elm St'].drop('Nancy').loc[nancy_sim.index]\n",
    "elm_st_ratings"
   ]
  },
  {
   "cell_type": "code",
   "execution_count": 21,
   "metadata": {},
   "outputs": [
    {
     "data": {
      "text/plain": [
       "4.683035701380843"
      ]
     },
     "execution_count": 21,
     "metadata": {},
     "output_type": "execute_result"
    }
   ],
   "source": [
    "# Multiply each element and add up the results\n",
    "np.dot(elm_st_ratings.values, nancy_weights)"
   ]
  },
  {
   "cell_type": "markdown",
   "metadata": {},
   "source": [
    "How would we get expected ratings for all of the movies that Nancy has not seen?"
   ]
  },
  {
   "cell_type": "code",
   "execution_count": 22,
   "metadata": {},
   "outputs": [
    {
     "data": {
      "text/html": [
       "<div>\n",
       "<style scoped>\n",
       "    .dataframe tbody tr th:only-of-type {\n",
       "        vertical-align: middle;\n",
       "    }\n",
       "\n",
       "    .dataframe tbody tr th {\n",
       "        vertical-align: top;\n",
       "    }\n",
       "\n",
       "    .dataframe thead th {\n",
       "        text-align: right;\n",
       "    }\n",
       "</style>\n",
       "<table border=\"1\" class=\"dataframe\">\n",
       "  <thead>\n",
       "    <tr style=\"text-align: right;\">\n",
       "      <th>user</th>\n",
       "      <th>Chuck</th>\n",
       "      <th>Nancy</th>\n",
       "      <th>Anya</th>\n",
       "      <th>Divya</th>\n",
       "      <th>Pat</th>\n",
       "    </tr>\n",
       "  </thead>\n",
       "  <tbody>\n",
       "    <tr>\n",
       "      <th>Friday the 13th</th>\n",
       "      <td>5.0</td>\n",
       "      <td>5.0</td>\n",
       "      <td>4.0</td>\n",
       "      <td>1.0</td>\n",
       "      <td>1.0</td>\n",
       "    </tr>\n",
       "    <tr>\n",
       "      <th>Nightmare on Elm St</th>\n",
       "      <td>4.0</td>\n",
       "      <td>NaN</td>\n",
       "      <td>5.0</td>\n",
       "      <td>NaN</td>\n",
       "      <td>1.0</td>\n",
       "    </tr>\n",
       "    <tr>\n",
       "      <th>Dawn of the Dead</th>\n",
       "      <td>NaN</td>\n",
       "      <td>4.0</td>\n",
       "      <td>5.0</td>\n",
       "      <td>2.0</td>\n",
       "      <td>1.0</td>\n",
       "    </tr>\n",
       "    <tr>\n",
       "      <th>Hiro Dreams of Sushi</th>\n",
       "      <td>NaN</td>\n",
       "      <td>NaN</td>\n",
       "      <td>NaN</td>\n",
       "      <td>5.0</td>\n",
       "      <td>NaN</td>\n",
       "    </tr>\n",
       "    <tr>\n",
       "      <th>180 South</th>\n",
       "      <td>NaN</td>\n",
       "      <td>2.0</td>\n",
       "      <td>1.0</td>\n",
       "      <td>4.0</td>\n",
       "      <td>3.0</td>\n",
       "    </tr>\n",
       "    <tr>\n",
       "      <th>Exit Through the Giftshop</th>\n",
       "      <td>1.0</td>\n",
       "      <td>NaN</td>\n",
       "      <td>NaN</td>\n",
       "      <td>5.0</td>\n",
       "      <td>4.0</td>\n",
       "    </tr>\n",
       "  </tbody>\n",
       "</table>\n",
       "</div>"
      ],
      "text/plain": [
       "user                       Chuck  Nancy  Anya  Divya  Pat\n",
       "Friday the 13th              5.0    5.0   4.0    1.0  1.0\n",
       "Nightmare on Elm St          4.0    NaN   5.0    NaN  1.0\n",
       "Dawn of the Dead             NaN    4.0   5.0    2.0  1.0\n",
       "Hiro Dreams of Sushi         NaN    NaN   NaN    5.0  NaN\n",
       "180 South                    NaN    2.0   1.0    4.0  3.0\n",
       "Exit Through the Giftshop    1.0    NaN   NaN    5.0  4.0"
      ]
     },
     "execution_count": 22,
     "metadata": {},
     "output_type": "execute_result"
    }
   ],
   "source": [
    "# We want to find all the movies that Nancy is NOT NA\n",
    "# This will be easier to do if Nancy was a column rather than a row\n",
    "ratings = users.T\n",
    "ratings"
   ]
  },
  {
   "cell_type": "code",
   "execution_count": 23,
   "metadata": {},
   "outputs": [
    {
     "data": {
      "text/html": [
       "<div>\n",
       "<style scoped>\n",
       "    .dataframe tbody tr th:only-of-type {\n",
       "        vertical-align: middle;\n",
       "    }\n",
       "\n",
       "    .dataframe tbody tr th {\n",
       "        vertical-align: top;\n",
       "    }\n",
       "\n",
       "    .dataframe thead th {\n",
       "        text-align: right;\n",
       "    }\n",
       "</style>\n",
       "<table border=\"1\" class=\"dataframe\">\n",
       "  <thead>\n",
       "    <tr style=\"text-align: right;\">\n",
       "      <th>user</th>\n",
       "      <th>Chuck</th>\n",
       "      <th>Nancy</th>\n",
       "      <th>Anya</th>\n",
       "      <th>Divya</th>\n",
       "      <th>Pat</th>\n",
       "    </tr>\n",
       "  </thead>\n",
       "  <tbody>\n",
       "    <tr>\n",
       "      <th>Nightmare on Elm St</th>\n",
       "      <td>4.0</td>\n",
       "      <td>NaN</td>\n",
       "      <td>5.0</td>\n",
       "      <td>NaN</td>\n",
       "      <td>1.0</td>\n",
       "    </tr>\n",
       "    <tr>\n",
       "      <th>Hiro Dreams of Sushi</th>\n",
       "      <td>NaN</td>\n",
       "      <td>NaN</td>\n",
       "      <td>NaN</td>\n",
       "      <td>5.0</td>\n",
       "      <td>NaN</td>\n",
       "    </tr>\n",
       "    <tr>\n",
       "      <th>Exit Through the Giftshop</th>\n",
       "      <td>1.0</td>\n",
       "      <td>NaN</td>\n",
       "      <td>NaN</td>\n",
       "      <td>5.0</td>\n",
       "      <td>4.0</td>\n",
       "    </tr>\n",
       "  </tbody>\n",
       "</table>\n",
       "</div>"
      ],
      "text/plain": [
       "user                       Chuck  Nancy  Anya  Divya  Pat\n",
       "Nightmare on Elm St          4.0    NaN   5.0    NaN  1.0\n",
       "Hiro Dreams of Sushi         NaN    NaN   NaN    5.0  NaN\n",
       "Exit Through the Giftshop    1.0    NaN   NaN    5.0  4.0"
      ]
     },
     "execution_count": 23,
     "metadata": {},
     "output_type": "execute_result"
    }
   ],
   "source": [
    "# Find the rows that are Null for Nancy\n",
    "ratings = ratings[ratings['Nancy'].isnull()]\n",
    "ratings"
   ]
  },
  {
   "cell_type": "code",
   "execution_count": 24,
   "metadata": {},
   "outputs": [
    {
     "data": {
      "text/html": [
       "<div>\n",
       "<style scoped>\n",
       "    .dataframe tbody tr th:only-of-type {\n",
       "        vertical-align: middle;\n",
       "    }\n",
       "\n",
       "    .dataframe tbody tr th {\n",
       "        vertical-align: top;\n",
       "    }\n",
       "\n",
       "    .dataframe thead th {\n",
       "        text-align: right;\n",
       "    }\n",
       "</style>\n",
       "<table border=\"1\" class=\"dataframe\">\n",
       "  <thead>\n",
       "    <tr style=\"text-align: right;\">\n",
       "      <th>user</th>\n",
       "      <th>Chuck</th>\n",
       "      <th>Anya</th>\n",
       "      <th>Divya</th>\n",
       "      <th>Pat</th>\n",
       "    </tr>\n",
       "  </thead>\n",
       "  <tbody>\n",
       "    <tr>\n",
       "      <th>Nightmare on Elm St</th>\n",
       "      <td>4.0</td>\n",
       "      <td>5.0</td>\n",
       "      <td>NaN</td>\n",
       "      <td>1.0</td>\n",
       "    </tr>\n",
       "    <tr>\n",
       "      <th>Hiro Dreams of Sushi</th>\n",
       "      <td>NaN</td>\n",
       "      <td>NaN</td>\n",
       "      <td>5.0</td>\n",
       "      <td>NaN</td>\n",
       "    </tr>\n",
       "    <tr>\n",
       "      <th>Exit Through the Giftshop</th>\n",
       "      <td>1.0</td>\n",
       "      <td>NaN</td>\n",
       "      <td>5.0</td>\n",
       "      <td>4.0</td>\n",
       "    </tr>\n",
       "  </tbody>\n",
       "</table>\n",
       "</div>"
      ],
      "text/plain": [
       "user                       Chuck  Anya  Divya  Pat\n",
       "Nightmare on Elm St          4.0   5.0    NaN  1.0\n",
       "Hiro Dreams of Sushi         NaN   NaN    5.0  NaN\n",
       "Exit Through the Giftshop    1.0   NaN    5.0  4.0"
      ]
     },
     "execution_count": 24,
     "metadata": {},
     "output_type": "execute_result"
    }
   ],
   "source": [
    "# Drop the Nancy column\n",
    "ratings = ratings.drop(columns=['Nancy'])\n",
    "ratings "
   ]
  },
  {
   "cell_type": "code",
   "execution_count": 25,
   "metadata": {},
   "outputs": [
    {
     "data": {
      "text/plain": [
       "user\n",
       "Chuck    0.349428\n",
       "Anya     0.752993\n",
       "Name: Nancy, dtype: float64"
      ]
     },
     "execution_count": 25,
     "metadata": {},
     "output_type": "execute_result"
    }
   ],
   "source": [
    "nancy_sim"
   ]
  },
  {
   "cell_type": "code",
   "execution_count": 26,
   "metadata": {},
   "outputs": [
    {
     "data": {
      "text/html": [
       "<div>\n",
       "<style scoped>\n",
       "    .dataframe tbody tr th:only-of-type {\n",
       "        vertical-align: middle;\n",
       "    }\n",
       "\n",
       "    .dataframe tbody tr th {\n",
       "        vertical-align: top;\n",
       "    }\n",
       "\n",
       "    .dataframe thead th {\n",
       "        text-align: right;\n",
       "    }\n",
       "</style>\n",
       "<table border=\"1\" class=\"dataframe\">\n",
       "  <thead>\n",
       "    <tr style=\"text-align: right;\">\n",
       "      <th>user</th>\n",
       "      <th>Chuck</th>\n",
       "      <th>Anya</th>\n",
       "    </tr>\n",
       "  </thead>\n",
       "  <tbody>\n",
       "    <tr>\n",
       "      <th>Nightmare on Elm St</th>\n",
       "      <td>4.0</td>\n",
       "      <td>5.0</td>\n",
       "    </tr>\n",
       "    <tr>\n",
       "      <th>Hiro Dreams of Sushi</th>\n",
       "      <td>NaN</td>\n",
       "      <td>NaN</td>\n",
       "    </tr>\n",
       "    <tr>\n",
       "      <th>Exit Through the Giftshop</th>\n",
       "      <td>1.0</td>\n",
       "      <td>NaN</td>\n",
       "    </tr>\n",
       "  </tbody>\n",
       "</table>\n",
       "</div>"
      ],
      "text/plain": [
       "user                       Chuck  Anya\n",
       "Nightmare on Elm St          4.0   5.0\n",
       "Hiro Dreams of Sushi         NaN   NaN\n",
       "Exit Through the Giftshop    1.0   NaN"
      ]
     },
     "execution_count": 26,
     "metadata": {},
     "output_type": "execute_result"
    }
   ],
   "source": [
    "# Keep only users who have positive correlation to Nancy\n",
    "ratings = ratings[nancy_sim.index]\n",
    "ratings"
   ]
  },
  {
   "cell_type": "code",
   "execution_count": 27,
   "metadata": {},
   "outputs": [
    {
     "data": {
      "text/html": [
       "<div>\n",
       "<style scoped>\n",
       "    .dataframe tbody tr th:only-of-type {\n",
       "        vertical-align: middle;\n",
       "    }\n",
       "\n",
       "    .dataframe tbody tr th {\n",
       "        vertical-align: top;\n",
       "    }\n",
       "\n",
       "    .dataframe thead th {\n",
       "        text-align: right;\n",
       "    }\n",
       "</style>\n",
       "<table border=\"1\" class=\"dataframe\">\n",
       "  <thead>\n",
       "    <tr style=\"text-align: right;\">\n",
       "      <th></th>\n",
       "      <th>0</th>\n",
       "    </tr>\n",
       "  </thead>\n",
       "  <tbody>\n",
       "    <tr>\n",
       "      <th>Nightmare on Elm St</th>\n",
       "      <td>4.683036</td>\n",
       "    </tr>\n",
       "    <tr>\n",
       "      <th>Hiro Dreams of Sushi</th>\n",
       "      <td>0.000000</td>\n",
       "    </tr>\n",
       "    <tr>\n",
       "      <th>Exit Through the Giftshop</th>\n",
       "      <td>0.316964</td>\n",
       "    </tr>\n",
       "  </tbody>\n",
       "</table>\n",
       "</div>"
      ],
      "text/plain": [
       "                                  0\n",
       "Nightmare on Elm St        4.683036\n",
       "Hiro Dreams of Sushi       0.000000\n",
       "Exit Through the Giftshop  0.316964"
      ]
     },
     "execution_count": 27,
     "metadata": {},
     "output_type": "execute_result"
    }
   ],
   "source": [
    "# Perform the dot product to calculate Nancy's estimated rating \n",
    "nancy_ratings = np.dot(ratings.fillna(0).values, nancy_weights)\n",
    "pd.DataFrame(nancy_ratings, index=ratings.index)"
   ]
  },
  {
   "cell_type": "markdown",
   "metadata": {
    "slideshow": {
     "slide_type": "slide"
    }
   },
   "source": [
    "#### Check: What might be some problems with user-based filtering?"
   ]
  },
  {
   "cell_type": "markdown",
   "metadata": {
    "slideshow": {
     "slide_type": "fragment"
    }
   },
   "source": [
    "- Items that get a lot of likes will have users who like all kinds of other items. So, recommendations based on frequently-liked items may be inaccurate.\n",
    "\n",
    "- User-based filtering also suffers from the **cold-start problem**. If a new user joins and has very few likes, then it is difficult to pair them with a similar user.\n",
    "\n",
    "- Lastly, suppose that a user with few likes adds a new like. This may significantly change the recommendations. Hence, as users add likes, the recommendations must be continually and quickly updated."
   ]
  },
  {
   "cell_type": "markdown",
   "metadata": {
    "slideshow": {
     "slide_type": "slide"
    }
   },
   "source": [
    "In practice, there is a type of collaborative filtering that can perform much better than user-based filtering: **item-based filtering**."
   ]
  },
  {
   "cell_type": "markdown",
   "metadata": {
    "slideshow": {
     "slide_type": "slide"
    }
   },
   "source": [
    "<a id=\"item-based-collaborative-filtering\"></a>\n",
    "## Item-based Collaborative Filtering"
   ]
  },
  {
   "cell_type": "markdown",
   "metadata": {
    "slideshow": {
     "slide_type": "slide"
    }
   },
   "source": [
    "In item-based filtering, we are trying to find similarities across items rather than users.\n",
    "\n",
    "> Rather than looking for _similar users_, we are going to look for _similar movies/items_.  Similar items are determined by user rating patterns.\n",
    "\n",
    "Basically, everything here is the same as in user-based collaborative filtering, except we will deal with the _transpose_ or our data matrix.\n",
    "\n",
    "Just as in user-based filtering, we need to center our values by row."
   ]
  },
  {
   "cell_type": "code",
   "execution_count": 28,
   "metadata": {},
   "outputs": [
    {
     "data": {
      "text/html": [
       "<div>\n",
       "<style scoped>\n",
       "    .dataframe tbody tr th:only-of-type {\n",
       "        vertical-align: middle;\n",
       "    }\n",
       "\n",
       "    .dataframe tbody tr th {\n",
       "        vertical-align: top;\n",
       "    }\n",
       "\n",
       "    .dataframe thead th {\n",
       "        text-align: right;\n",
       "    }\n",
       "</style>\n",
       "<table border=\"1\" class=\"dataframe\">\n",
       "  <thead>\n",
       "    <tr style=\"text-align: right;\">\n",
       "      <th></th>\n",
       "      <th>Friday the 13th</th>\n",
       "      <th>Nightmare on Elm St</th>\n",
       "      <th>Dawn of the Dead</th>\n",
       "      <th>Hiro Dreams of Sushi</th>\n",
       "      <th>180 South</th>\n",
       "      <th>Exit Through the Giftshop</th>\n",
       "    </tr>\n",
       "    <tr>\n",
       "      <th>user</th>\n",
       "      <th></th>\n",
       "      <th></th>\n",
       "      <th></th>\n",
       "      <th></th>\n",
       "      <th></th>\n",
       "      <th></th>\n",
       "    </tr>\n",
       "  </thead>\n",
       "  <tbody>\n",
       "    <tr>\n",
       "      <th>Chuck</th>\n",
       "      <td>5</td>\n",
       "      <td>4.0</td>\n",
       "      <td>NaN</td>\n",
       "      <td>NaN</td>\n",
       "      <td>NaN</td>\n",
       "      <td>1.0</td>\n",
       "    </tr>\n",
       "    <tr>\n",
       "      <th>Nancy</th>\n",
       "      <td>5</td>\n",
       "      <td>NaN</td>\n",
       "      <td>4.0</td>\n",
       "      <td>NaN</td>\n",
       "      <td>2.0</td>\n",
       "      <td>NaN</td>\n",
       "    </tr>\n",
       "    <tr>\n",
       "      <th>Anya</th>\n",
       "      <td>4</td>\n",
       "      <td>5.0</td>\n",
       "      <td>5.0</td>\n",
       "      <td>NaN</td>\n",
       "      <td>1.0</td>\n",
       "      <td>NaN</td>\n",
       "    </tr>\n",
       "    <tr>\n",
       "      <th>Divya</th>\n",
       "      <td>1</td>\n",
       "      <td>NaN</td>\n",
       "      <td>2.0</td>\n",
       "      <td>5.0</td>\n",
       "      <td>4.0</td>\n",
       "      <td>5.0</td>\n",
       "    </tr>\n",
       "    <tr>\n",
       "      <th>Pat</th>\n",
       "      <td>1</td>\n",
       "      <td>1.0</td>\n",
       "      <td>1.0</td>\n",
       "      <td>NaN</td>\n",
       "      <td>3.0</td>\n",
       "      <td>4.0</td>\n",
       "    </tr>\n",
       "  </tbody>\n",
       "</table>\n",
       "</div>"
      ],
      "text/plain": [
       "       Friday the 13th  Nightmare on Elm St  Dawn of the Dead  \\\n",
       "user                                                            \n",
       "Chuck                5                  4.0               NaN   \n",
       "Nancy                5                  NaN               4.0   \n",
       "Anya                 4                  5.0               5.0   \n",
       "Divya                1                  NaN               2.0   \n",
       "Pat                  1                  1.0               1.0   \n",
       "\n",
       "       Hiro Dreams of Sushi  180 South  Exit Through the Giftshop  \n",
       "user                                                               \n",
       "Chuck                   NaN        NaN                        1.0  \n",
       "Nancy                   NaN        2.0                        NaN  \n",
       "Anya                    NaN        1.0                        NaN  \n",
       "Divya                   5.0        4.0                        5.0  \n",
       "Pat                     NaN        3.0                        4.0  "
      ]
     },
     "execution_count": 28,
     "metadata": {},
     "output_type": "execute_result"
    }
   ],
   "source": [
    "users"
   ]
  },
  {
   "cell_type": "code",
   "execution_count": 29,
   "metadata": {},
   "outputs": [
    {
     "data": {
      "text/html": [
       "<div>\n",
       "<style scoped>\n",
       "    .dataframe tbody tr th:only-of-type {\n",
       "        vertical-align: middle;\n",
       "    }\n",
       "\n",
       "    .dataframe tbody tr th {\n",
       "        vertical-align: top;\n",
       "    }\n",
       "\n",
       "    .dataframe thead th {\n",
       "        text-align: right;\n",
       "    }\n",
       "</style>\n",
       "<table border=\"1\" class=\"dataframe\">\n",
       "  <thead>\n",
       "    <tr style=\"text-align: right;\">\n",
       "      <th>user</th>\n",
       "      <th>Chuck</th>\n",
       "      <th>Nancy</th>\n",
       "      <th>Anya</th>\n",
       "      <th>Divya</th>\n",
       "      <th>Pat</th>\n",
       "    </tr>\n",
       "  </thead>\n",
       "  <tbody>\n",
       "    <tr>\n",
       "      <th>Friday the 13th</th>\n",
       "      <td>5.0</td>\n",
       "      <td>5.0</td>\n",
       "      <td>4.0</td>\n",
       "      <td>1.0</td>\n",
       "      <td>1.0</td>\n",
       "    </tr>\n",
       "    <tr>\n",
       "      <th>Nightmare on Elm St</th>\n",
       "      <td>4.0</td>\n",
       "      <td>NaN</td>\n",
       "      <td>5.0</td>\n",
       "      <td>NaN</td>\n",
       "      <td>1.0</td>\n",
       "    </tr>\n",
       "    <tr>\n",
       "      <th>Dawn of the Dead</th>\n",
       "      <td>NaN</td>\n",
       "      <td>4.0</td>\n",
       "      <td>5.0</td>\n",
       "      <td>2.0</td>\n",
       "      <td>1.0</td>\n",
       "    </tr>\n",
       "    <tr>\n",
       "      <th>Hiro Dreams of Sushi</th>\n",
       "      <td>NaN</td>\n",
       "      <td>NaN</td>\n",
       "      <td>NaN</td>\n",
       "      <td>5.0</td>\n",
       "      <td>NaN</td>\n",
       "    </tr>\n",
       "    <tr>\n",
       "      <th>180 South</th>\n",
       "      <td>NaN</td>\n",
       "      <td>2.0</td>\n",
       "      <td>1.0</td>\n",
       "      <td>4.0</td>\n",
       "      <td>3.0</td>\n",
       "    </tr>\n",
       "    <tr>\n",
       "      <th>Exit Through the Giftshop</th>\n",
       "      <td>1.0</td>\n",
       "      <td>NaN</td>\n",
       "      <td>NaN</td>\n",
       "      <td>5.0</td>\n",
       "      <td>4.0</td>\n",
       "    </tr>\n",
       "  </tbody>\n",
       "</table>\n",
       "</div>"
      ],
      "text/plain": [
       "user                       Chuck  Nancy  Anya  Divya  Pat\n",
       "Friday the 13th              5.0    5.0   4.0    1.0  1.0\n",
       "Nightmare on Elm St          4.0    NaN   5.0    NaN  1.0\n",
       "Dawn of the Dead             NaN    4.0   5.0    2.0  1.0\n",
       "Hiro Dreams of Sushi         NaN    NaN   NaN    5.0  NaN\n",
       "180 South                    NaN    2.0   1.0    4.0  3.0\n",
       "Exit Through the Giftshop    1.0    NaN   NaN    5.0  4.0"
      ]
     },
     "execution_count": 29,
     "metadata": {},
     "output_type": "execute_result"
    }
   ],
   "source": [
    "movies = users.T.copy()\n",
    "movies"
   ]
  },
  {
   "cell_type": "code",
   "execution_count": 30,
   "metadata": {},
   "outputs": [
    {
     "data": {
      "text/plain": [
       "<AxesSubplot:>"
      ]
     },
     "execution_count": 30,
     "metadata": {},
     "output_type": "execute_result"
    },
    {
     "data": {
      "image/png": "[encoded data removed]",
      "text/plain": [
       "<Figure size 432x288 with 2 Axes>"
      ]
     },
     "metadata": {
      "needs_background": "light"
     },
     "output_type": "display_data"
    }
   ],
   "source": [
    "# Mean Center the dataframe\n",
    "movies_mc = mean_center_rows(movies)\n",
    "\n",
    "# Cosine Similarities\n",
    "sim_matrix = cosine_similarity(movies_mc)\n",
    "movies_sim = pd.DataFrame(sim_matrix, columns=movies.index, index=movies.index)\n",
    "sns.heatmap(movies_sim, annot=True, cmap='coolwarm')"
   ]
  },
  {
   "cell_type": "markdown",
   "metadata": {
    "slideshow": {
     "slide_type": "slide"
    }
   },
   "source": [
    "The nearest movies to _Nightmare on Elm St_ are _Firday the 13th_ and _Dawn of the Dead_. To calculate Nancy's rating for our _Nightmare on Elm St_, we have the following equation:\n",
    "\n",
    "** (1st closest cosine sim movie x Nancy's rating + 2nd closest cosine sim movie x Nancy's product rating) / (sum of 1st and 2nd's cosine sims) **\n",
    "\n",
    "Here's the procedure for recommending movie X to Nancy:\n",
    "\n",
    "1. Get movie X's similarity scores to all other **movies**.\n",
    "2. Only keep positive similarities.  (This step can be tweaked!)\n",
    "3. Convert movie X's similarities to _weights_ by dividing each similarity by the _total_ similarity.\n",
    "4. Get Nancy's ratings for all other movies.\n",
    "5. Weight Nancy's ratings for all other movies by movie X's similarity to those movies."
   ]
  },
  {
   "cell_type": "code",
   "execution_count": 31,
   "metadata": {},
   "outputs": [
    {
     "data": {
      "text/plain": [
       "Friday the 13th     0.635369\n",
       "Dawn of the Dead    0.859338\n",
       "Name: Nightmare on Elm St, dtype: float64"
      ]
     },
     "execution_count": 31,
     "metadata": {},
     "output_type": "execute_result"
    }
   ],
   "source": [
    "# get Elm St similarity scores\n",
    "elm_st_sim = movies_sim['Nightmare on Elm St'].drop('Nightmare on Elm St')\n",
    "elm_st_sim = elm_st_sim[elm_st_sim > 0]\n",
    "elm_st_sim"
   ]
  },
  {
   "cell_type": "code",
   "execution_count": 25,
   "metadata": {},
   "outputs": [
    {
     "data": {
      "text/plain": [
       "array([0.42507927, 0.57492073])"
      ]
     },
     "execution_count": 25,
     "metadata": {},
     "output_type": "execute_result"
    }
   ],
   "source": [
    "# Turn Elm St similarity scores to weights\n",
    "elm_st_weights = elm_st_sim.values/np.sum(elm_st_sim.values)\n",
    "elm_st_weights"
   ]
  },
  {
   "cell_type": "code",
   "execution_count": 26,
   "metadata": {},
   "outputs": [
    {
     "data": {
      "text/plain": [
       "Friday the 13th     5.0\n",
       "Dawn of the Dead    4.0\n",
       "Name: Nancy, dtype: float64"
      ]
     },
     "execution_count": 26,
     "metadata": {},
     "output_type": "execute_result"
    }
   ],
   "source": [
    "# Get Nancy's_ratings\n",
    "nancy_ratings = movies['Nancy'].loc[elm_st_sim.index]\n",
    "nancy_ratings"
   ]
  },
  {
   "cell_type": "code",
   "execution_count": 27,
   "metadata": {},
   "outputs": [
    {
     "data": {
      "text/plain": [
       "4.425079267585091"
      ]
     },
     "execution_count": 27,
     "metadata": {},
     "output_type": "execute_result"
    }
   ],
   "source": [
    "# Nancy's estimated rating for 'Nightmare on Elm St'\n",
    "np.dot(nancy_ratings.values, elm_st_weights)"
   ]
  },
  {
   "cell_type": "markdown",
   "metadata": {
    "slideshow": {
     "slide_type": "slide"
    }
   },
   "source": [
    "<a id=\"content-based-filtering\"></a>\n",
    "## Content-based Filtering"
   ]
  },
  {
   "cell_type": "markdown",
   "metadata": {
    "slideshow": {
     "slide_type": "-"
    }
   },
   "source": [
    "Finally, there is another method called content-based filtering. In content-based filtering, the items are broken down into \"feature baskets\". These are the characteristics that represent the item. The idea is that if you like the features of song X, then finding a song that has similar characteristics will tell us that you're likely to like it as well.\n",
    "\n",
    "\n",
    "The quintessential example of this is Pandora with it's musical genome. Each song is rated on ~450 characteristics by trained musicologists.\n",
    "\n",
    "In recent years it's become more common to use a Deep Learning model to extract \"embedding\" vectors that are specific to the domain (image, text, audio, etc) for this purpose. Check out this [Medium Post](https://towardsdatascience.com/powering-semantic-similarity-search-in-computer-vision-with-state-of-the-art-embeddings-f6c183fff134?sk=3cff65cda237c9d21225552230d53d48) to get an idea of the possibilities of embeddings"
   ]
  },
  {
   "cell_type": "markdown",
   "metadata": {
    "slideshow": {
     "slide_type": "slide"
    }
   },
   "source": [
    "<a id=\"example\"></a>\n",
    "## Example \n",
    "Content-based filtering begins by mapping each item into\n",
    "a feature space. Both users and items are represented by\n",
    "vectors in this space.\n",
    "Item vectors measure the degree to which the item is\n",
    "described by each feature, and user vectors measure a\n",
    "user’s preferences for each feature.\n",
    "Ratings are generated by taking dot products of user &\n",
    "item vectors. "
   ]
  },
  {
   "cell_type": "markdown",
   "metadata": {
    "slideshow": {
     "slide_type": "slide"
    }
   },
   "source": [
    "<img src=\"http://i.imgur.com/NzHksKK.png\">"
   ]
  },
  {
   "cell_type": "markdown",
   "metadata": {
    "slideshow": {
     "slide_type": "slide"
    }
   },
   "source": [
    "---\n",
    "\n",
    "Let's look at a music database as an example"
   ]
  },
  {
   "cell_type": "code",
   "execution_count": 32,
   "metadata": {},
   "outputs": [],
   "source": [
    "from sklearn.preprocessing import StandardScaler\n",
    "import pandas as pd\n",
    "import numpy as np"
   ]
  },
  {
   "cell_type": "code",
   "execution_count": 33,
   "metadata": {},
   "outputs": [
    {
     "name": "stdout",
     "output_type": "stream",
     "text": [
      "(472, 3572)\n"
     ]
    },
    {
     "data": {
      "text/html": [
       "<div>\n",
       "<style scoped>\n",
       "    .dataframe tbody tr th:only-of-type {\n",
       "        vertical-align: middle;\n",
       "    }\n",
       "\n",
       "    .dataframe tbody tr th {\n",
       "        vertical-align: top;\n",
       "    }\n",
       "\n",
       "    .dataframe thead th {\n",
       "        text-align: right;\n",
       "    }\n",
       "</style>\n",
       "<table border=\"1\" class=\"dataframe\">\n",
       "  <thead>\n",
       "    <tr style=\"text-align: right;\">\n",
       "      <th></th>\n",
       "      <th>'80s</th>\n",
       "      <th>0 play yet</th>\n",
       "      <th>00's</th>\n",
       "      <th>00s</th>\n",
       "      <th>1008</th>\n",
       "      <th>10s</th>\n",
       "      <th>1337</th>\n",
       "      <th>1960's</th>\n",
       "      <th>1960s</th>\n",
       "      <th>1969</th>\n",
       "      <th>...</th>\n",
       "      <th>yeah fuckin yeah</th>\n",
       "      <th>yearns to be covered</th>\n",
       "      <th>yorkshire</th>\n",
       "      <th>you</th>\n",
       "      <th>young</th>\n",
       "      <th>youtube</th>\n",
       "      <th>zac efron</th>\n",
       "      <th>zadrotstvo</th>\n",
       "      <th>zajebiste</th>\n",
       "      <th>zombie rave</th>\n",
       "    </tr>\n",
       "    <tr>\n",
       "      <th>artist</th>\n",
       "      <th></th>\n",
       "      <th></th>\n",
       "      <th></th>\n",
       "      <th></th>\n",
       "      <th></th>\n",
       "      <th></th>\n",
       "      <th></th>\n",
       "      <th></th>\n",
       "      <th></th>\n",
       "      <th></th>\n",
       "      <th></th>\n",
       "      <th></th>\n",
       "      <th></th>\n",
       "      <th></th>\n",
       "      <th></th>\n",
       "      <th></th>\n",
       "      <th></th>\n",
       "      <th></th>\n",
       "      <th></th>\n",
       "      <th></th>\n",
       "      <th></th>\n",
       "    </tr>\n",
       "  </thead>\n",
       "  <tbody>\n",
       "    <tr>\n",
       "      <th>*NSYNC</th>\n",
       "      <td>0.0</td>\n",
       "      <td>0.0</td>\n",
       "      <td>0.0</td>\n",
       "      <td>0.0</td>\n",
       "      <td>0.0</td>\n",
       "      <td>0.0</td>\n",
       "      <td>0.0</td>\n",
       "      <td>0.0</td>\n",
       "      <td>0.0</td>\n",
       "      <td>0.0</td>\n",
       "      <td>...</td>\n",
       "      <td>0.0</td>\n",
       "      <td>0.0</td>\n",
       "      <td>0.0</td>\n",
       "      <td>0.0</td>\n",
       "      <td>0.0</td>\n",
       "      <td>0.0</td>\n",
       "      <td>0.0</td>\n",
       "      <td>0.0</td>\n",
       "      <td>0.0</td>\n",
       "      <td>0.0</td>\n",
       "    </tr>\n",
       "    <tr>\n",
       "      <th>2NE1</th>\n",
       "      <td>0.0</td>\n",
       "      <td>0.0</td>\n",
       "      <td>0.0</td>\n",
       "      <td>0.0</td>\n",
       "      <td>0.0</td>\n",
       "      <td>0.0</td>\n",
       "      <td>0.0</td>\n",
       "      <td>0.0</td>\n",
       "      <td>0.0</td>\n",
       "      <td>0.0</td>\n",
       "      <td>...</td>\n",
       "      <td>0.0</td>\n",
       "      <td>0.0</td>\n",
       "      <td>0.0</td>\n",
       "      <td>0.0</td>\n",
       "      <td>0.0</td>\n",
       "      <td>0.0</td>\n",
       "      <td>0.0</td>\n",
       "      <td>0.0</td>\n",
       "      <td>0.0</td>\n",
       "      <td>0.0</td>\n",
       "    </tr>\n",
       "    <tr>\n",
       "      <th>2PM</th>\n",
       "      <td>0.0</td>\n",
       "      <td>0.0</td>\n",
       "      <td>0.0</td>\n",
       "      <td>0.0</td>\n",
       "      <td>0.0</td>\n",
       "      <td>0.0</td>\n",
       "      <td>0.0</td>\n",
       "      <td>0.0</td>\n",
       "      <td>0.0</td>\n",
       "      <td>0.0</td>\n",
       "      <td>...</td>\n",
       "      <td>0.0</td>\n",
       "      <td>0.0</td>\n",
       "      <td>0.0</td>\n",
       "      <td>0.0</td>\n",
       "      <td>0.0</td>\n",
       "      <td>0.0</td>\n",
       "      <td>0.0</td>\n",
       "      <td>0.0</td>\n",
       "      <td>0.0</td>\n",
       "      <td>0.0</td>\n",
       "    </tr>\n",
       "    <tr>\n",
       "      <th>2Pac</th>\n",
       "      <td>0.0</td>\n",
       "      <td>0.0</td>\n",
       "      <td>0.0</td>\n",
       "      <td>0.0</td>\n",
       "      <td>0.0</td>\n",
       "      <td>0.0</td>\n",
       "      <td>0.0</td>\n",
       "      <td>0.0</td>\n",
       "      <td>0.0</td>\n",
       "      <td>0.0</td>\n",
       "      <td>...</td>\n",
       "      <td>0.0</td>\n",
       "      <td>0.0</td>\n",
       "      <td>0.0</td>\n",
       "      <td>0.0</td>\n",
       "      <td>0.0</td>\n",
       "      <td>0.0</td>\n",
       "      <td>0.0</td>\n",
       "      <td>0.0</td>\n",
       "      <td>0.0</td>\n",
       "      <td>0.0</td>\n",
       "    </tr>\n",
       "    <tr>\n",
       "      <th>3 Doors Down</th>\n",
       "      <td>0.0</td>\n",
       "      <td>0.0</td>\n",
       "      <td>0.0</td>\n",
       "      <td>2.0</td>\n",
       "      <td>0.0</td>\n",
       "      <td>0.0</td>\n",
       "      <td>0.0</td>\n",
       "      <td>0.0</td>\n",
       "      <td>0.0</td>\n",
       "      <td>0.0</td>\n",
       "      <td>...</td>\n",
       "      <td>0.0</td>\n",
       "      <td>0.0</td>\n",
       "      <td>0.0</td>\n",
       "      <td>0.0</td>\n",
       "      <td>0.0</td>\n",
       "      <td>0.0</td>\n",
       "      <td>0.0</td>\n",
       "      <td>0.0</td>\n",
       "      <td>0.0</td>\n",
       "      <td>0.0</td>\n",
       "    </tr>\n",
       "  </tbody>\n",
       "</table>\n",
       "<p>5 rows × 3572 columns</p>\n",
       "</div>"
      ],
      "text/plain": [
       "              '80s  0 play yet  00's  00s  1008  10s  1337  1960's  1960s  \\\n",
       "artist                                                                      \n",
       "*NSYNC         0.0         0.0   0.0  0.0   0.0  0.0   0.0     0.0    0.0   \n",
       "2NE1           0.0         0.0   0.0  0.0   0.0  0.0   0.0     0.0    0.0   \n",
       "2PM            0.0         0.0   0.0  0.0   0.0  0.0   0.0     0.0    0.0   \n",
       "2Pac           0.0         0.0   0.0  0.0   0.0  0.0   0.0     0.0    0.0   \n",
       "3 Doors Down   0.0         0.0   0.0  2.0   0.0  0.0   0.0     0.0    0.0   \n",
       "\n",
       "              1969  ...  yeah fuckin yeah  yearns to be covered  yorkshire  \\\n",
       "artist              ...                                                      \n",
       "*NSYNC         0.0  ...               0.0                   0.0        0.0   \n",
       "2NE1           0.0  ...               0.0                   0.0        0.0   \n",
       "2PM            0.0  ...               0.0                   0.0        0.0   \n",
       "2Pac           0.0  ...               0.0                   0.0        0.0   \n",
       "3 Doors Down   0.0  ...               0.0                   0.0        0.0   \n",
       "\n",
       "              you  young  youtube  zac efron  zadrotstvo  zajebiste  \\\n",
       "artist                                                                \n",
       "*NSYNC        0.0    0.0      0.0        0.0         0.0        0.0   \n",
       "2NE1          0.0    0.0      0.0        0.0         0.0        0.0   \n",
       "2PM           0.0    0.0      0.0        0.0         0.0        0.0   \n",
       "2Pac          0.0    0.0      0.0        0.0         0.0        0.0   \n",
       "3 Doors Down  0.0    0.0      0.0        0.0         0.0        0.0   \n",
       "\n",
       "              zombie rave  \n",
       "artist                     \n",
       "*NSYNC                0.0  \n",
       "2NE1                  0.0  \n",
       "2PM                   0.0  \n",
       "2Pac                  0.0  \n",
       "3 Doors Down          0.0  \n",
       "\n",
       "[5 rows x 3572 columns]"
      ]
     },
     "execution_count": 33,
     "metadata": {},
     "output_type": "execute_result"
    }
   ],
   "source": [
    "artist_genre = pd.read_csv('../datasets/artist_genre.csv')\n",
    "artist_genre.set_index('artist', inplace=True)\n",
    "print(artist_genre.shape)\n",
    "artist_genre.head()"
   ]
  },
  {
   "cell_type": "markdown",
   "metadata": {},
   "source": [
    "### Basic Similarity Metric: \"Give me something like Linkin Park!\""
   ]
  },
  {
   "cell_type": "code",
   "execution_count": 34,
   "metadata": {
    "tags": []
   },
   "outputs": [
    {
     "data": {
      "text/html": [
       "<div>\n",
       "<style scoped>\n",
       "    .dataframe tbody tr th:only-of-type {\n",
       "        vertical-align: middle;\n",
       "    }\n",
       "\n",
       "    .dataframe tbody tr th {\n",
       "        vertical-align: top;\n",
       "    }\n",
       "\n",
       "    .dataframe thead th {\n",
       "        text-align: right;\n",
       "    }\n",
       "</style>\n",
       "<table border=\"1\" class=\"dataframe\">\n",
       "  <thead>\n",
       "    <tr style=\"text-align: right;\">\n",
       "      <th>artist</th>\n",
       "      <th>*NSYNC</th>\n",
       "      <th>2NE1</th>\n",
       "      <th>2PM</th>\n",
       "      <th>2Pac</th>\n",
       "      <th>3 Doors Down</th>\n",
       "      <th>30 Seconds to Mars</th>\n",
       "      <th>3OH!3</th>\n",
       "      <th>3mmey</th>\n",
       "      <th>9th Wonder</th>\n",
       "      <th>:wumpscut:</th>\n",
       "      <th>...</th>\n",
       "      <th>××× × ××××</th>\n",
       "      <th>×¢××¨× ××××¨</th>\n",
       "      <th>ã¢ã³ã´ã«800</th>\n",
       "      <th>ä¸­å³¶ç¾å</th>\n",
       "      <th>å®å¤ç°ãã«ã«</th>\n",
       "      <th>å±±ä¸æºä¹</th>\n",
       "      <th>åµ</th>\n",
       "      <th>æµå´ããã¿</th>\n",
       "      <th>é",
       "-MIYAVI-</th>\n",
       "      <th>ë°±ì§ì</th>\n",
       "    </tr>\n",
       "    <tr>\n",
       "      <th>artist</th>\n",
       "      <th></th>\n",
       "      <th></th>\n",
       "      <th></th>\n",
       "      <th></th>\n",
       "      <th></th>\n",
       "      <th></th>\n",
       "      <th></th>\n",
       "      <th></th>\n",
       "      <th></th>\n",
       "      <th></th>\n",
       "      <th></th>\n",
       "      <th></th>\n",
       "      <th></th>\n",
       "      <th></th>\n",
       "      <th></th>\n",
       "      <th></th>\n",
       "      <th></th>\n",
       "      <th></th>\n",
       "      <th></th>\n",
       "      <th></th>\n",
       "      <th></th>\n",
       "    </tr>\n",
       "  </thead>\n",
       "  <tbody>\n",
       "    <tr>\n",
       "      <th>*NSYNC</th>\n",
       "      <td>1.000000</td>\n",
       "      <td>0.397236</td>\n",
       "      <td>0.146254</td>\n",
       "      <td>0.136694</td>\n",
       "      <td>0.050920</td>\n",
       "      <td>0.022237</td>\n",
       "      <td>0.219995</td>\n",
       "      <td>0.0</td>\n",
       "      <td>0.000000</td>\n",
       "      <td>0.000000</td>\n",
       "      <td>...</td>\n",
       "      <td>0.0</td>\n",
       "      <td>0.036155</td>\n",
       "      <td>0.0</td>\n",
       "      <td>0.063914</td>\n",
       "      <td>0.191205</td>\n",
       "      <td>0.0</td>\n",
       "      <td>0.138648</td>\n",
       "      <td>0.122591</td>\n",
       "      <td>0.011549</td>\n",
       "      <td>0.000000</td>\n",
       "    </tr>\n",
       "    <tr>\n",
       "      <th>2NE1</th>\n",
       "      <td>0.397236</td>\n",
       "      <td>1.000000</td>\n",
       "      <td>0.341882</td>\n",
       "      <td>0.000000</td>\n",
       "      <td>0.012529</td>\n",
       "      <td>0.000000</td>\n",
       "      <td>0.310186</td>\n",
       "      <td>0.0</td>\n",
       "      <td>0.000000</td>\n",
       "      <td>0.000000</td>\n",
       "      <td>...</td>\n",
       "      <td>0.0</td>\n",
       "      <td>0.000000</td>\n",
       "      <td>0.0</td>\n",
       "      <td>0.059761</td>\n",
       "      <td>0.204324</td>\n",
       "      <td>0.0</td>\n",
       "      <td>0.194461</td>\n",
       "      <td>0.060330</td>\n",
       "      <td>0.000000</td>\n",
       "      <td>0.218218</td>\n",
       "    </tr>\n",
       "    <tr>\n",
       "      <th>2PM</th>\n",
       "      <td>0.146254</td>\n",
       "      <td>0.341882</td>\n",
       "      <td>1.000000</td>\n",
       "      <td>0.000000</td>\n",
       "      <td>0.009995</td>\n",
       "      <td>0.000000</td>\n",
       "      <td>0.091163</td>\n",
       "      <td>0.0</td>\n",
       "      <td>0.000000</td>\n",
       "      <td>0.000000</td>\n",
       "      <td>...</td>\n",
       "      <td>0.0</td>\n",
       "      <td>0.000000</td>\n",
       "      <td>0.0</td>\n",
       "      <td>0.047673</td>\n",
       "      <td>0.122245</td>\n",
       "      <td>0.0</td>\n",
       "      <td>0.051709</td>\n",
       "      <td>0.048126</td>\n",
       "      <td>0.000000</td>\n",
       "      <td>0.870388</td>\n",
       "    </tr>\n",
       "    <tr>\n",
       "      <th>2Pac</th>\n",
       "      <td>0.136694</td>\n",
       "      <td>0.000000</td>\n",
       "      <td>0.000000</td>\n",
       "      <td>1.000000</td>\n",
       "      <td>0.006228</td>\n",
       "      <td>0.009474</td>\n",
       "      <td>0.213685</td>\n",
       "      <td>0.0</td>\n",
       "      <td>0.797053</td>\n",
       "      <td>0.005765</td>\n",
       "      <td>...</td>\n",
       "      <td>0.0</td>\n",
       "      <td>0.000000</td>\n",
       "      <td>0.0</td>\n",
       "      <td>0.000000</td>\n",
       "      <td>0.000000</td>\n",
       "      <td>0.0</td>\n",
       "      <td>0.010740</td>\n",
       "      <td>0.014993</td>\n",
       "      <td>0.000000</td>\n",
       "      <td>0.000000</td>\n",
       "    </tr>\n",
       "    <tr>\n",
       "      <th>3 Doors Down</th>\n",
       "      <td>0.050920</td>\n",
       "      <td>0.012529</td>\n",
       "      <td>0.009995</td>\n",
       "      <td>0.006228</td>\n",
       "      <td>1.000000</td>\n",
       "      <td>0.866220</td>\n",
       "      <td>0.120275</td>\n",
       "      <td>0.0</td>\n",
       "      <td>0.000000</td>\n",
       "      <td>0.000000</td>\n",
       "      <td>...</td>\n",
       "      <td>0.0</td>\n",
       "      <td>0.000000</td>\n",
       "      <td>0.0</td>\n",
       "      <td>0.005241</td>\n",
       "      <td>0.020160</td>\n",
       "      <td>0.0</td>\n",
       "      <td>0.017055</td>\n",
       "      <td>0.013228</td>\n",
       "      <td>0.000000</td>\n",
       "      <td>0.000000</td>\n",
       "    </tr>\n",
       "  </tbody>\n",
       "</table>\n",
       "<p>5 rows × 472 columns</p>\n",
       "</div>"
      ],
      "text/plain": [
       "artist          *NSYNC      2NE1       2PM      2Pac  3 Doors Down  \\\n",
       "artist                                                               \n",
       "*NSYNC        1.000000  0.397236  0.146254  0.136694      0.050920   \n",
       "2NE1          0.397236  1.000000  0.341882  0.000000      0.012529   \n",
       "2PM           0.146254  0.341882  1.000000  0.000000      0.009995   \n",
       "2Pac          0.136694  0.000000  0.000000  1.000000      0.006228   \n",
       "3 Doors Down  0.050920  0.012529  0.009995  0.006228      1.000000   \n",
       "\n",
       "artist        30 Seconds to Mars     3OH!3  3mmey  9th Wonder  :wumpscut:  \\\n",
       "artist                                                                      \n",
       "*NSYNC                  0.022237  0.219995    0.0    0.000000    0.000000   \n",
       "2NE1                    0.000000  0.310186    0.0    0.000000    0.000000   \n",
       "2PM                     0.000000  0.091163    0.0    0.000000    0.000000   \n",
       "2Pac                    0.009474  0.213685    0.0    0.797053    0.005765   \n",
       "3 Doors Down            0.866220  0.120275    0.0    0.000000    0.000000   \n",
       "\n",
       "artist        ...  ××× × ××××  ×¢××¨× ××××¨  ã¢ã³ã´ã«800  \\\n",
       "artist        ...                                                          \n",
       "*NSYNC        ...                0.0           0.036155              0.0   \n",
       "2NE1          ...                0.0           0.000000              0.0   \n",
       "2PM           ...                0.0           0.000000              0.0   \n",
       "2Pac          ...                0.0           0.000000              0.0   \n",
       "3 Doors Down  ...                0.0           0.000000              0.0   \n",
       "\n",
       "artist        ä¸­å³¶ç¾å  å®å¤ç°ãã«ã«  å±±ä¸æºä¹\n",
       "       åµ  \\\n",
       "artist                                                                   \n",
       "*NSYNC            0.063914            0.191205           0.0  0.138648   \n",
       "2NE1              0.059761            0.204324           0.0  0.194461   \n",
       "2PM               0.047673            0.122245           0.0  0.051709   \n",
       "2Pac              0.000000            0.000000           0.0  0.010740   \n",
       "3 Doors Down      0.005241            0.020160           0.0  0.017055   \n",
       "\n",
       "artist        æµå´ããã¿  é\n",
       "-MIYAVI-  ë°±ì§ì  \n",
       "artist                                                 \n",
       "*NSYNC               0.122591     0.011549   0.000000  \n",
       "2NE1                 0.060330     0.000000   0.218218  \n",
       "2PM                  0.048126     0.000000   0.870388  \n",
       "2Pac                 0.014993     0.000000   0.000000  \n",
       "3 Doors Down         0.013228     0.000000   0.000000  \n",
       "\n",
       "[5 rows x 472 columns]"
      ]
     },
     "execution_count": 34,
     "metadata": {},
     "output_type": "execute_result"
    }
   ],
   "source": [
    "artist_sim = pd.DataFrame(cosine_similarity(artist_genre), columns=artist_genre.index, index=artist_genre.index)\n",
    "artist_sim.head()"
   ]
  },
  {
   "cell_type": "code",
   "execution_count": 35,
   "metadata": {},
   "outputs": [
    {
     "data": {
      "text/plain": [
       "artist\n",
       "Linkin Park           1.000000\n",
       "Papa Roach            0.949455\n",
       "Limp Bizkit           0.861365\n",
       "Lostprophets          0.817249\n",
       "Cold                  0.809049\n",
       "Crossfade             0.803420\n",
       "3 Doors Down          0.786667\n",
       "30 Seconds to Mars    0.785756\n",
       "The Rasmus            0.783447\n",
       "Deftones              0.781550\n",
       "Name: Linkin Park, dtype: float64"
      ]
     },
     "execution_count": 35,
     "metadata": {},
     "output_type": "execute_result"
    }
   ],
   "source": [
    "artist_sim['Linkin Park'].sort_values(ascending=False).head(10)\n",
    "# artist_sim['Gorillaz'].sort_values(ascending=False).head(10)\n",
    "# artist_sim['Kylie Minogue'].sort_values(ascending=False).head(10)"
   ]
  },
  {
   "cell_type": "markdown",
   "metadata": {},
   "source": [
    "### Profile-Based Recommendations"
   ]
  },
  {
   "cell_type": "code",
   "execution_count": 33,
   "metadata": {},
   "outputs": [
    {
     "data": {
      "text/plain": [
       "artist\n",
       "Radiohead                294.0\n",
       "Muse                     275.0\n",
       "The Beatles              271.0\n",
       "Depeche Mode             249.0\n",
       "Paramore                 233.0\n",
       "U2                       211.0\n",
       "Linkin Park              201.0\n",
       "Coldplay                 180.0\n",
       "Red Hot Chili Peppers    176.0\n",
       "30 Seconds to Mars       174.0\n",
       "Lady Gaga                173.0\n",
       "The Killers              169.0\n",
       "Evanescence              155.0\n",
       "Avril Lavigne            155.0\n",
       "Placebo                  141.0\n",
       "Green Day                140.0\n",
       "Nirvana                  140.0\n",
       "Pink Floyd               136.0\n",
       "Gorillaz                 129.0\n",
       "My Chemical Romance      128.0\n",
       "dtype: float64"
      ]
     },
     "execution_count": 33,
     "metadata": {},
     "output_type": "execute_result"
    }
   ],
   "source": [
    "# Let's create a vector for myself by initializing all the genres to zero\n",
    "genres = artist_genre.columns.tolist()\n",
    "my_profile = pd.Series(np.zeros(len(genres)), index=artist_genre.columns)\n",
    "\n",
    "# Then update only those genres that I'm interested in\n",
    "my_profile['rock'] = 4\n",
    "my_profile['world'] = 3\n",
    "my_profile['folk'] = 1\n",
    "my_profile['electronic'] = 3\n",
    "\n",
    "# Finally Find the dot product between the artist_genre vectors and my personal vector\n",
    "recommendations = np.dot(artist_genre.values, my_profile.values)\n",
    "recommendations = pd.Series(recommendations, index=artist_genre.index)\n",
    "recommendations.sort_values(ascending=False).head(20)"
   ]
  },
  {
   "cell_type": "markdown",
   "metadata": {
    "slideshow": {
     "slide_type": "slide"
    }
   },
   "source": [
    "<a id=\"conclusion\"></a>\n",
    "## Conclusion\n",
    "---\n",
    "\n",
    "We have looked at the major types of recommender systems in this lesson. Let's quickly wrap up by looking at the pros and cons of each.\n",
    "\n",
    "#### Collaborative Filtering \n",
    "\n",
    "Pros:\n",
    "- No need to hand craft features\n",
    "\n",
    "Cons:\n",
    "- Needs a large existing set of ratings (cold-start problem)\n",
    "- Sparsity occurs when the number of items far exceeds what a person could purchase\n",
    "\n",
    "#### Content-based Filtering\n",
    "\n",
    "Pros:\n",
    "- No need for a large number of users\n",
    "\n",
    "Cons:\n",
    "- Lacks serendipity (Finding something good without looking for it)\n",
    "- May be difficult to generate the right features. Newer Deep Learning models have solved this problem for the most part.\n",
    "- Hard to create cross-content recommendations (different feature spaces). Eg. Recommending branded attire to fans of a a music band.\n",
    "\n",
    "In fact, the best solution -- and the one most likely in use in any large-scale, production system is a combination of both of these. This is known as a **hybrid system**. By combining the two systems, you can get the best of both worlds."
   ]
  },
  {
   "cell_type": "markdown",
   "metadata": {
    "slideshow": {
     "slide_type": "slide"
    }
   },
   "source": [
    "<a id=\"extra-practice\"></a>\n",
    "## What's Next\n",
    "---\n",
    "\n",
    "In the next lesson we will use the [MovieLens dataset](https://grouplens.org/datasets/movielens/100k/), and experiment with building a recommender system. Check the \"Additional Resources\" for more information and some considerations on how to evaluate these systems."
   ]
  },
  {
   "cell_type": "markdown",
   "metadata": {
    "slideshow": {
     "slide_type": "slide"
    }
   },
   "source": [
    "<a id=\"additional-resources\"></a>\n",
    "## Additional Resources\n",
    "---\n",
    "\n",
    "- [Wharton Study of Recommender Systems](http://knowledge.wharton.upenn.edu/article/recommended-for-you-how-well-does-personalized-marketing-work/)\n",
    "- [Netflix Recommendations](https://www.rtinsights.com/netflix-recommendations-machine-learning-algorithms/)\n",
    "- [Netflix Paper](http://dl.acm.org/citation.cfm?id=2843948)\n",
    "- [NY Times Rec System](https://open.blogs.nytimes.com/2015/08/11/building-the-next-new-york-times-recommendation-engine)\n",
    "- [Evaluating Rec Systems](https://www.quora.com/How-do-you-measure-and-evaluate-the-quality-of-recommendation-engines)"
   ]
  },
  {
   "cell_type": "code",
   "execution_count": null,
   "metadata": {},
   "outputs": [],
   "source": []
  }
 ],
 "metadata": {
  "anaconda-cloud": {},
  "kernelspec": {
   "display_name": "Python 3",
   "language": "python",
   "name": "python3"
  },
  "language_info": {
   "codemirror_mode": {
    "name": "ipython",
    "version": 3
   },
   "file_extension": ".py",
   "mimetype": "text/x-python",
   "name": "python",
   "nbconvert_exporter": "python",
   "pygments_lexer": "ipython3",
   "version": "3.8.8"
  }
 },
 "nbformat": 4,
 "nbformat_minor": 4
}
