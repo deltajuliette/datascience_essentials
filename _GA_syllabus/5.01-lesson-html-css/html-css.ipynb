{
 "cells": [
  {
   "cell_type": "markdown",
   "metadata": {
    "slideshow": {
     "slide_type": "notes"
    }
   },
   "source": [
    "> **Jupyter slideshow:** This notebook can be displayed as slides. To view & save this notebook as a slideshow (as a html page on your browser), type below in the console, replacing 'this_notebook' and remove the [ ]:\n",
    "\n",
    "\n",
    "> `> jupyter nbconvert [this_notebook.ipynb] --to slides --post serve`"
   ]
  },
  {
   "cell_type": "markdown",
   "metadata": {
    "slideshow": {
     "slide_type": "slide"
    }
   },
   "source": [
    "<img src=\"http://imgur.com/1ZcRyrc.png\" style=\"float: left; margin: 20px; height: 55px\">\n",
    "\n",
    "# Introduction to HTML and CSS\n",
    "\n",
    "_Authors: Alexander Combs (NYC)_\n",
    "\n",
    "---\n",
    "\n",
    "<a id=\"learning-objectives\"></a>\n",
    "### Learning Objectives\n",
    "*After this lesson, you will be able to:*\n",
    "- Create a HTML document from scratch\n",
    "- Describe the most common HTML tags and their usage\n",
    "- Explain how CSS can be used to modify the display of HTML\n",
    "- Demonstrate how to access HTML elements using CSS\n",
    "- Explain the DOM (Document Object Model)\n",
    "\n",
    "\n",
    "#### Note: This lesson utilizes notebook features only available in Google Chrome.  It is recommended that you open this lesson in a Chrome window."
   ]
  },
  {
   "cell_type": "markdown",
   "metadata": {
    "slideshow": {
     "slide_type": "slide"
    }
   },
   "source": [
    "<b><u>Lesson Guide</b></u> _(double click within this cell to see how we have tapped on the usual markdown link technique, to place links \"within this notebook\" this time)_\n",
    "- [What is HTML?](#what-is-html)\n",
    "- [The basics of HTML](#the-basics-of-html)\n",
    "\t- [The basic HTML document structure](#the-basic-html-document-structure)\n",
    "\t- [The two types of tags](#the-two-types-of-tags)\n",
    "\t- [Some common tags](#some-common-tags)\n",
    "\t- [Nesting tags](#nesting-tags)\n",
    "\t- [Exercise](#exercise)\n",
    "- [Styling](#styling)\n",
    "\t- [Exercise](#exercise)\n",
    "- [Enter CSS](#enter-css)\n",
    "\t- [Example of a css sheet, e.g., theme.css](#example-of-a-css-sheet-eg-themecss)\n",
    "\t- [How to modify HTML elements with CSS](#how-to-modify-html-elements-with-css)\n",
    "\t- [Getting a little fancy with it...](#getting-a-little-fancy-with-it)\n",
    "\t- [Exercise](#exercise)\n",
    "- [The DOM](#the-dom)\n",
    "\t- [Example - A table defined using HTML](#example---a-table-defined-using-html)\n",
    "\t- [Example - The DOM of an HTML table](#example---the-dom-of-an-html-table)\n",
    "\t- [Exercise](#exercise)\n",
    "- [Conclusion](#conclusion)\n",
    "\t- [Solution Code for CSS Challenge](#solution-code-for-css-challenge)\n",
    "- [Independent practice](#independent-practice)\n"
   ]
  },
  {
   "cell_type": "code",
   "execution_count": 2,
   "metadata": {
    "slideshow": {
     "slide_type": "skip"
    },
    "tags": []
   },
   "outputs": [],
   "source": [
    "# imports\n",
    "import pandas as pd\n",
    "import matplotlib.pyplot as plt"
   ]
  },
  {
   "cell_type": "markdown",
   "metadata": {
    "slideshow": {
     "slide_type": "slide"
    }
   },
   "source": [
    "<a id=\"what-is-html\"></a>\n",
    "## What is HTML?\n",
    "---\n",
    "\n",
    "**Is it code?**\n",
    "\n",
    "No.\n",
    "\n",
    "It is a ***markup language***. It stands for Hypertext Markup Language.\n",
    "\n",
    ">The term markup is derived from the traditional publishing practice of \"marking up\" a manuscript, which involves _adding handwritten annotations_ in the form of conventional symbolic printer's instructions in the margins and text of a paper manuscript or printed proof. For centuries, this task was done primarily by skilled typographers known as \"markup men\"[5] or \"copy markers\"[6] who marked up text to indicate what typeface, style, and size should be applied to each part, and then passed the manuscript to others for typesetting by hand. Markup was also commonly applied by editors, proofreaders, publishers, and graphic designers, and indeed by document authors.\n",
    "\n",
    "Some copy editing/proofreading symbols are as illustrated below. _How many do you recognize/used personally?_"
   ]
  },
  {
   "cell_type": "markdown",
   "metadata": {
    "slideshow": {
     "slide_type": "slide"
    }
   },
   "source": [
    "![](./assets/images/copy-editing2.png)"
   ]
  },
  {
   "cell_type": "markdown",
   "metadata": {
    "slideshow": {
     "slide_type": "slide"
    }
   },
   "source": [
    "**Why learn about HTML in a data science class?**\n",
    "\n",
    "- Building dashboards/frontends \n",
    "- Visualizations (D3)\n",
    "- Webscraping _(next lesson)_"
   ]
  },
  {
   "cell_type": "markdown",
   "metadata": {
    "slideshow": {
     "slide_type": "slide"
    }
   },
   "source": [
    "<a id=\"the-basics-of-html\"></a>\n",
    "## The basics of HTML\n",
    "---\n",
    "\n",
    "HTML is composed of \"**tags**\" _(defined within <>)_. These tags provide _structure_ to the document and may (or may not depending on the tag) imply that content should be rendered by the browser in some manner _specific to that tag_."
   ]
  },
  {
   "cell_type": "markdown",
   "metadata": {
    "slideshow": {
     "slide_type": "slide"
    }
   },
   "source": [
    "<a id=\"the-basic-html-document-structure\"></a>\n",
    "### The basic HTML document structure\n",
    "\n",
    "![](./assets/images/html-structure.png)"
   ]
  },
  {
   "cell_type": "markdown",
   "metadata": {},
   "source": [
    "#### Note: All HTML documents must start with a <!DOCTYPE> declaration. The declaration is not an HTML tag. It is an \"information\" to the browser about what document type to expect."
   ]
  },
  {
   "cell_type": "markdown",
   "metadata": {
    "slideshow": {
     "slide_type": "slide"
    }
   },
   "source": [
    "<a id=\"the-two-types-of-tags\"></a>\n",
    "### The two types of tags\n",
    "\n",
    "![](./assets/images/two-tags.png)"
   ]
  },
  {
   "cell_type": "markdown",
   "metadata": {},
   "source": [
    "The `<img>` tag embeds an image in an HTML page. `src, alt` are two of its attributes:\n",
    "\n",
    "- src (mandate) - Specifies the path to the image\n",
    "- alt - Specifies an alternate text for the image, if the image for some reason cannot be displayed"
   ]
  },
  {
   "cell_type": "markdown",
   "metadata": {
    "slideshow": {
     "slide_type": "slide"
    }
   },
   "source": [
    "<a id=\"some-common-tags\"></a>\n",
    "### Some common tags\n",
    "\n",
    "![](./assets/images/common-tags.png)"
   ]
  },
  {
   "cell_type": "markdown",
   "metadata": {},
   "source": [
    "HTML `class` attribute is used to specify a class for an HTML element. Multiple HTML elements can share the same class. It is often used to point to a class name in a CSS style sheet (more on this later). "
   ]
  },
  {
   "cell_type": "markdown",
   "metadata": {
    "slideshow": {
     "slide_type": "slide"
    }
   },
   "source": [
    "<a id=\"nesting-tags\"></a>\n",
    "### Nesting tags\n",
    "\n",
    "![](./assets/images/nesting-tags.png)"
   ]
  },
  {
   "cell_type": "markdown",
   "metadata": {},
   "source": [
    "- `main`: specifies the main content of document\n",
    "- `section`: defines a section in a document. There can be multiple sections within one main document. Generally, content declared within the `section` tag is 'thematically' grouped (i.e. relates to a single theme)\n",
    "- `div`: while, `div` (Content Division element) is more generic holding container/wrapper for styling purposes, and no special meaning to its declaration. \n",
    "\n",
    "The discussion link [here](https://stackoverflow.com/questions/6939864/what-is-the-difference-between-section-and-div) provides some insights on differences between `section` and `div` for further reference."
   ]
  },
  {
   "cell_type": "markdown",
   "metadata": {
    "slideshow": {
     "slide_type": "slide"
    }
   },
   "source": [
    "<a id=\"exercise\"></a>\n",
    "### Exercise _(Try during Practical)_\n",
    "\n",
    "Create an HTML page from scatch using CodePen. \n",
    "\n",
    "It should include the following tags:\n",
    "\n",
    "- html, head, title, body, div, p, ul, li, and an img _(you may use one of the images in the assets/images folder in this directory)_\n",
    "\n",
    "If you are unsure how to use a tag use [https://www.w3schools.com/html/default.asp](https://www.w3schools.com/html/default.asp) as a reference\n",
    "\n",
    "*You can skip the doc type declaration since CodePen takes care of this for you.*\n",
    "\n",
    "Write the code here: [https://codepen.io/pen](http://codepen.io/pen/)"
   ]
  },
  {
   "cell_type": "markdown",
   "metadata": {
    "slideshow": {
     "slide_type": "slide"
    }
   },
   "source": [
    "<a id=\"styling\"></a>\n",
    "## Styling\n",
    "---\n",
    "\n",
    "Originally, the presentation of an HTML document was modified through inline style attributes. \n",
    "\n",
    "_(Double-click in to see!)_\n",
    "\n",
    "<br>\n",
    "\n",
    "```HTML\n",
    "<p style=\"color: red\">This is red text!</p>\n",
    "```\n",
    "<p style=\"color: red\">This is red text!</p>\n",
    "\n",
    "<br>\n",
    "\n",
    "```HTML\n",
    "<p style=\"font-size: 250%\">This is huge text!</p>\n",
    "```\n",
    "<p style=\"font-size: 250%\">This is huge text!</p>\n",
    "\n",
    "<br>\n",
    "\n",
    "```HTML\n",
    "<p style=\"background-color: dodgerblue\">This has a blue background!</p>\n",
    "```\n",
    "<p style=\"background-color: dodgerblue\">This has a blue background!</p>\n"
   ]
  },
  {
   "cell_type": "markdown",
   "metadata": {
    "slideshow": {
     "slide_type": "slide"
    }
   },
   "source": [
    "<a id=\"exercise\"></a>\n",
    "### Exercise _(Try during Practical)_\n",
    "\n",
    "Now add some inline styling to your markup. You can find a reference here: [Style Attributes](http://www.w3schools.com/cssref/default.asp#textdecor)"
   ]
  },
  {
   "cell_type": "markdown",
   "metadata": {
    "slideshow": {
     "slide_type": "slide"
    }
   },
   "source": [
    "<a id=\"enter-css\"></a>\n",
    "## Enter CSS\n",
    "---\n",
    "\n",
    "**The problem:** It was a nightmare to **maintain styling** on large HTML pages.\n",
    "\n",
    "**The solution:** CSS - *Cascading Style Sheets*\n",
    "\n",
    "CSS allows you to **store all _styling_ information in a separate document and selectively apply** it to your HTML. CSS, or cascading style sheets, allow for a separation of concerns. The _presentation is now independent of the content_.\n",
    "\n",
    "```HTML\n",
    "<link rel=\"stylesheet\" type=\"text/css\" href=\"theme.css\">\n",
    "```\n",
    "\n",
    "This makes it much easier to change the style of the page and to apply it across an entire site.\n",
    "\n",
    "The required `rel` attribute specifies the relationship between the current document and the linked document/resource, which is this case is linking with \"theme.css\". which does the below."
   ]
  },
  {
   "cell_type": "markdown",
   "metadata": {
    "slideshow": {
     "slide_type": "slide"
    }
   },
   "source": [
    "<a id=\"example-of-a-css-sheet-eg-themecss\"></a>\n",
    "### Example of a css sheet, e.g., theme.css\n",
    "\n",
    "This specifies a content's body styling with the background-color: lightblue and styles heading1 with color: navy and left margin alignment.\n",
    "\n",
    "<br>\n",
    "\n",
    "```css\n",
    "body {\n",
    "    background-color: lightblue;\n",
    "}\n",
    "\n",
    "h1 {\n",
    "    color: navy;\n",
    "    margin-left: 20px;\n",
    "}\n",
    "```"
   ]
  },
  {
   "cell_type": "markdown",
   "metadata": {
    "slideshow": {
     "slide_type": "slide"
    }
   },
   "source": [
    "<a id=\"how-to-modify-html-elements-with-css\"></a>\n",
    "### How to modify HTML elements with CSS\n",
    "\n",
    "Here are some _syntaxes:_ (**Try**: on a [webpage](https://www.w3schools.com/html/html_classes.asp), right click & inspect, the right pane will capture the various CSS applied)\n",
    "\n",
    "<br><br>\n",
    "**For tags:**\n",
    "\n",
    "```CSS\n",
    "p {\n",
    "  background: red;\n",
    "}\n",
    "```\n",
    "\n",
    "**For classes:**\n",
    "\n",
    "```CSS\n",
    ".getbold {\n",
    "  font-size: 21px;\n",
    "}\n",
    "```\n",
    "\n",
    "\n",
    "**For ids:**\n",
    "\n",
    "```CSS\n",
    "#header {\n",
    "  background: blue;\n",
    "  font-size: 21px;\n",
    "}\n",
    "```"
   ]
  },
  {
   "cell_type": "markdown",
   "metadata": {
    "slideshow": {
     "slide_type": "slide"
    }
   },
   "source": [
    "<a id=\"getting-a-little-fancy-with-it\"></a>\n",
    "### More syntaxes...\n",
    "\n",
    "**Select only the last li _(list item)_ tag with the `last-child` reference:**\n",
    "\n",
    "```CSS\n",
    "li:last-child {\n",
    "  background: blue;\n",
    "}\n",
    "```\n",
    "\n",
    "**Select only links with an https:**\n",
    "\n",
    "```CSS\n",
    "a[href^=\"https\"] {\n",
    "  font size: 14;\n",
    "}\n",
    "```\n",
    "\n",
    "**Select only p elements where the parent is a div:**\n",
    "```CSS\n",
    "div > p {\n",
    "  font-size: 21px;\n",
    "}\n",
    "```"
   ]
  },
  {
   "cell_type": "markdown",
   "metadata": {
    "slideshow": {
     "slide_type": "slide"
    }
   },
   "source": [
    "<a id=\"exercise\"></a>\n",
    "### Exercise _(Try during Practical)_\n",
    "\n",
    "\n",
    "Paste in the following HTML to [CodePen](http://codepen.io/pen/).\n",
    "\n",
    "```HTML\n",
    "<html>\n",
    "<head>\n",
    "  <title>This is my HTML page</title>\n",
    "</head>\n",
    "<body>\n",
    "  <div>\n",
    "    <p class=\"getfancy\">This is the first content!</p>\n",
    "    <p>This is more content!</p>\n",
    "    <p>Don't forget this</p>\n",
    "  </div>\n",
    "  <div id=\"cooldiv\" class=\"getfancy\">\n",
    "    <p class=\"shrinker\">this right here</p>\n",
    "    <ul>\n",
    "      <li>hello from list item 1</li>\n",
    "      <li class=\"shrinker\">hello from list item 2</li>\n",
    "      <li>hello from list item 3</li>\n",
    "    </ul>\n",
    "  </div>\n",
    "  <p>hello from an orphan p</p>\n",
    "  <a href=\"http://www.cool-link1.com\">link1</a>\n",
    "  <a href=\"http://www.cool-link2.com\">link2</a>\n",
    "</body>\n",
    "</html>\n",
    "```"
   ]
  },
  {
   "cell_type": "markdown",
   "metadata": {
    "slideshow": {
     "slide_type": "slide"
    }
   },
   "source": [
    "**Add the following styling:**\n",
    "- Shrink the 2nd list item's text by 50%\n",
    "- Make the background on \"`cooldiv`\" light blue\n",
    "- Make the text italic where the class is \"`getfancy`\"\n",
    "- If the link contains a \"2\", make the background red\n",
    "- Make the paragraph that has the body tag as its parent have a font size that is 150% of the normal size\n",
    "- Make the text for that last one underlined\n",
    "- Finally, if it has a class \"`shrinker`\" and it is a paragraph, make it have a green background with a 25px font size\n",
    "\n",
    "***You can use the following to help find the selectors and the style attributes:***<br>\n",
    "CSS Reference:\n",
    "[http://www.w3schools.com/cssref/default.asp](http://www.w3schools.com/cssref/default.asp)<br>\n",
    "Understanding Precedence in CSS:\n",
    "[http://vanseodesign.com/css/css-specificity-inheritance-cascaade/](http://vanseodesign.com/css/css-specificity-inheritance-cascaade/)\n",
    "\n",
    "<details>\n",
    "    <summary><b> Solution Code </b></summary>\n",
    "<pre><code>\n",
    "/* This is a CSS Comment */\n",
    "\n",
    "/* Shrink the 2nd list item's text by 50% */\n",
    "li.shrinker{\n",
    "  font-size: 50%;\n",
    "}\n",
    "\n",
    "/* Make the background on \"`cooldiv`\" light blue */\n",
    "#cooldiv {\n",
    "  background: lightblue;\n",
    "}\n",
    "\n",
    "/* Make the text italic where the class is \"`getfancy`\" */\n",
    ".getfancy{\n",
    "  font-style: italic;\n",
    "}\n",
    "\n",
    "/* If the link contains a \"2\", make the background red */\n",
    "a[href*=\"2\"] {\n",
    "  background: red;\n",
    "}\n",
    "\n",
    "/* Make the paragraph that has the body tag as its parent have a font size that is 150% of the normal size */\n",
    "/* Make the text for that last one underlined */\n",
    "body > p {\n",
    "  font-size: 150%;\n",
    "  text-decoration: underline;\n",
    "}\n",
    "\n",
    "/* Finally, if it has a class \"`shrinker`\" and it is a paragraph, make it have a green background with a 25px font size */\n",
    "p.shrinker{\n",
    "  background: green;\n",
    "  font-size: 25px;\n",
    "}\n",
    "</code></pre>\n",
    "\n",
    "</details>"
   ]
  },
  {
   "cell_type": "markdown",
   "metadata": {
    "slideshow": {
     "slide_type": "slide"
    }
   },
   "source": [
    "<a id=\"the-dom\"></a>\n",
    "## The DOM\n",
    "---\n",
    "\n",
    "\n",
    "- The DOM, or **Document Object Model** -- as the name suggests -- is a ***model of the HTML document***. This model allows us to interface with the document so that we can manipulate it as needed."
   ]
  },
  {
   "cell_type": "markdown",
   "metadata": {
    "slideshow": {
     "slide_type": "slide"
    }
   },
   "source": [
    "<a id=\"example---a-table-defined-using-html\"></a>\n",
    "### Example - A table defined using HTML\n",
    "\n",
    "Looks like this with all the following list of `TABLE` tags (defines a table with 2 rows & 4 cell values):\n",
    "\n",
    "- `<TABLE>`: tag that defines an HTML _table_\n",
    "- `<TBODY>`: tag that groups an HTML table's _body_ content\n",
    "- `<TR>`: tag that defines an HTML table _row_\n",
    "- `<TD>`: tag that defines an HTML table _cell_\n",
    "\n",
    "![](./assets/images/html-table.png)"
   ]
  },
  {
   "cell_type": "markdown",
   "metadata": {
    "slideshow": {
     "slide_type": "slide"
    }
   },
   "source": [
    "<a id=\"example---the-dom-of-an-html-table\"></a>\n",
    "### Example - The **DOM** of the above HTML table the looks like this:\n",
    "\n",
    "![](./assets/images/html-table-dom.png)\n",
    "\n",
    "This _table_ is now represented as a **tree or graph structure**. Each _tag_ becomes a **node**. For example, if we were to select the first child of the ```<table>``` tag, we would get the ```<tbody>``` tag (including its descendats). If we were to ask for the children of the first child of the ```<tr>```, we would get the ```<tr>``` tag that includes the \"Shady Grove\" and \"Aeolian\" text leaves defined in the 2 ```<td>```."
   ]
  },
  {
   "cell_type": "markdown",
   "metadata": {
    "slideshow": {
     "slide_type": "slide"
    }
   },
   "source": [
    "<a id=\"exercise\"></a>\n",
    "### Exercise _(Try during Practical)_\n",
    "\n",
    "**This only works in slides mode on Google Chrome. Doesnt work in Jupyter**\n",
    "\n",
    "We're going to use a javascript library to work with the DOM.\n",
    "\n",
    "1. Right click this document right here.\n",
    "2. On the menu popup select 'Inspect'\n",
    "3. At the top of the new window that is open, select 'Console'\n",
    "4. Right click in a blank area (on the left side usually is best) in the console and select 'Clear console'\n",
    "5. Type in the following ```$(\".selected\").css(\"background\", \"dodgerblue\")``` and execute the line using the `return` key\n",
    "6. If everything went well, the cell in this notebook that had the class ```selected``` was changed to a blue background. (Spoiler: Should be this cell)\n",
    "7. Now change it back to white\n",
    "8. Experiment with changing the different parts of this document using the CSS selectors and style attributes you learned above\n",
    "9. Trying using the DOM to get the children or parents of an element using a command like the following: ```$(\".selected\").parent().css(\"background\", \"dodgerblue\")```\n",
    "\n",
    "**Bonus 1**: \n",
    "Try to use additional JQuery commands to do other things to the HTML on the page like hide and move cells.\n",
    "\n",
    "[JQuery Docs](http://api.jquery.com/)<br>\n",
    "[JQuery Tutorial](https://www.w3schools.com/jquery/default.asp)\n",
    "\n",
    "**Bonus 2**:\n",
    "Take a look at some of the possiblities for creating with CSS: [Top Codepens](http://codepen.io/2015/popular/pens/)"
   ]
  },
  {
   "cell_type": "markdown",
   "metadata": {
    "slideshow": {
     "slide_type": "slide"
    }
   },
   "source": [
    "<a id=\"conclusion\"></a>\n",
    "## Conclusion\n",
    "---\n",
    "\n",
    "In this mini-lesson, we learned the basics about HTML, CSS, and the DOM. All of this will help, when we begin our lesson on webscraping."
   ]
  },
  {
   "cell_type": "markdown",
   "metadata": {
    "slideshow": {
     "slide_type": "slide"
    }
   },
   "source": [
    "<a id=\"independent-practice\"></a>\n",
    "## Independent practice\n",
    "\n",
    "Work through the HTML exercises [here](https://www.w3schools.com/html/exercise.asp)\n",
    "and/or\n",
    "the CSS exercises [here](https://www.w3schools.com/css/css_exercises.asp)"
   ]
  }
 ],
 "metadata": {
  "anaconda-cloud": {},
  "celltoolbar": "Slideshow",
  "kernelspec": {
   "display_name": "Python 3",
   "language": "python",
   "name": "python3"
  },
  "language_info": {
   "codemirror_mode": {
    "name": "ipython",
    "version": 3
   },
   "file_extension": ".py",
   "mimetype": "text/x-python",
   "name": "python",
   "nbconvert_exporter": "python",
   "pygments_lexer": "ipython3",
   "version": "3.8.8"
  }
 },
 "nbformat": 4,
 "nbformat_minor": 4
}
