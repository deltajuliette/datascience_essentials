{
 "cells": [
  {
   "cell_type": "markdown",
   "metadata": {},
   "source": [
    "<img src=\"http://imgur.com/1ZcRyrc.png\" style=\"float: left; margin: 20px; height: 55px\">\n",
    "\n",
    "# Feature Engineering\n",
    "\n",
    "_Authors: Matt Brems (DC), Riley Dallas(AUS)_\n",
    "\n",
    "---\n",
    "\n",
    "## Review of Linear Regression\n",
    "---\n",
    "\n",
    "- Linear regression is a way for us to relate some *dependent* variable $Y$ to *independent* variables $X_1$,$\\ldots$,$X_p$.\n",
    "- We might write this out in one of the following two forms:\n",
    "$$\n",
    "\\begin{eqnarray}\n",
    "Y &=& \\beta_0 + \\beta_1X_1 + \\beta_2X_2 + \\cdots + \\beta_pX_p +\\varepsilon\\\\\n",
    "\\mathbf{Y} &=& \\mathbf{X \\beta + \\varepsilon}\n",
    "\\end{eqnarray}\n",
    "$$\n",
    "\n",
    "<details><summary>\n",
    "There are four assumptions (LINE) to the simple linear regression model and five assumptions (LINEM) to the multiple linear regression model. Let's recap what are those?\n",
    "</summary>\n",
    "1. **Linearity:** $Y$ is linearly related to $X_i$ for all $i$.<br>\n",
    "2. **Independence:** Each residual $\\varepsilon_i$ is independent of $\\varepsilon_j$ for all $i\\neq j$.<br>\n",
    "3. **Normality:** The errors (residuals) follow a Normal distribution with mean 0.<br>\n",
    "4. **Equality of Variance:** The errors (residuals) should have a roughly consistent pattern, regardless of the value of $X_i$. (There should be no discernible relationship between $X_i$ and the residuals.)<br>\n",
    "5. **Independence Part II:** $X_i$ is independent of $X_j$ for all $i\\neq j$.\n",
    "</details>\n",
    "\n",
    "We can measure the performance of our model by using metrics like mean squared error (MSE).\n",
    "\n",
    "## Feature Engineering\n",
    "---\n",
    "\n",
    "- If I use straight line distance (as the crow flies) between two locations, my estimated time of arrival in a taxi is going to be pretty bad.\n",
    "- If I put text into my model without some sort of preprocessing, my computer isn't going to understand how to handle it.\n",
    "\n",
    "Suffice it to say: **If your features (variables) _aren't good_, your predictions and inferences _won't be good too_!**\n",
    "\n",
    "#### What is feature engineering?\n",
    "\n",
    "\"Coming up with features is difficult, time-consuming, requires expert knowledge. 'Applied machine learning' is basically feature engineering.\" - Andrew Ng\n",
    "\n",
    "**Feature engineering** is the term broadly applied to the ***creation and manipulation of features (variables)*** used in machine learning algorithms. Like we saw on the 'interactions terms' deck. \n",
    "\n",
    "Unless we're working with the same data over and over again, _this isn't something we can automate_. It will require **creativity and a good, thorough understanding of our data** to effectively mould representative features that could potentially influence the response.\n",
    "\n",
    "#### The Process of Data Science\n",
    "1. Data Gathering\n",
    "2. Data Cleaning/Manipulation\n",
    "3. EDA\n",
    "4. Modeling\n",
    "5. Reporting\n",
    "\n",
    "Feature engineering may spread across all five of these steps, but mostly focus on _steps 2 and 3_.\n",
    "\n",
    "#### [The Process of Feature Engineering](https://www.youtube.com/watch?v=drUToKxEAUA)\n",
    "1. Brainstorming or testing features.\n",
    "2. Deciding what _new_ features to create from _existing_.\n",
    "3. Creating features.\n",
    "4. Checking how the _created_ features work with your model - does it improve signal (legitimate relation between response, features).\n",
    "5. Improving features (if needed).\n",
    "6. Return to step 1.\n",
    "7. \"Do data science!\""
   ]
  },
  {
   "cell_type": "markdown",
   "metadata": {},
   "source": [
    "# Code practise\n",
    "\n",
    "The tasks for you to code along will be in ***bold italics***"
   ]
  },
  {
   "cell_type": "markdown",
   "metadata": {},
   "source": [
    "## Importing Libraries\n",
    "---\n",
    "\n",
    "We'll need the following libraries for today's lesson: \n",
    "\n",
    "***(Following the guide below, write the required imports in your starter-code notebook)***\n",
    "\n",
    "1. `pandas`\n",
    "2. `numpy`\n",
    "3. `seaborn`\n",
    "4. `train_test_split` and `cross_val_score` class from `sklearn`'s `model_selection` module\n",
    "5. `LinearRegression` class from `sklearn`'s `linear_model` module\n",
    "6. `StandardScaler` and `PolynomialFeatures` class from `sklearn`'s `preprocessing` module"
   ]
  },
  {
   "cell_type": "code",
   "execution_count": 1,
   "metadata": {},
   "outputs": [],
   "source": [
    "import pandas as pd\n",
    "import numpy as np\n",
    "import seaborn as sns\n",
    "from sklearn.linear_model import LinearRegression\n",
    "from sklearn.model_selection import train_test_split, cross_val_score\n",
    "from sklearn.preprocessing import StandardScaler, PolynomialFeatures"
   ]
  },
  {
   "cell_type": "markdown",
   "metadata": {},
   "source": [
    "## Load the Data\n",
    "\n",
    "---\n",
    "\n",
    "Today's dataset (`Advertising.csv`) is from the [ISLR website](https://statlearning.com). It has been parked inside your `datasets` folder within 3.05.\n",
    "\n",
    "***Load the csv file into a dataframe, df and Drop `Unnamed: 0` once you've loaded the csv into a `DataFrame`.***"
   ]
  },
  {
   "cell_type": "code",
   "execution_count": 2,
   "metadata": {},
   "outputs": [
    {
     "name": "stdout",
     "output_type": "stream",
     "text": [
      "(200, 4)\n"
     ]
    },
    {
     "data": {
      "text/html": [
       "<div>\n",
       "<style scoped>\n",
       "    .dataframe tbody tr th:only-of-type {\n",
       "        vertical-align: middle;\n",
       "    }\n",
       "\n",
       "    .dataframe tbody tr th {\n",
       "        vertical-align: top;\n",
       "    }\n",
       "\n",
       "    .dataframe thead th {\n",
       "        text-align: right;\n",
       "    }\n",
       "</style>\n",
       "<table border=\"1\" class=\"dataframe\">\n",
       "  <thead>\n",
       "    <tr style=\"text-align: right;\">\n",
       "      <th></th>\n",
       "      <th>TV</th>\n",
       "      <th>radio</th>\n",
       "      <th>newspaper</th>\n",
       "      <th>sales</th>\n",
       "    </tr>\n",
       "  </thead>\n",
       "  <tbody>\n",
       "    <tr>\n",
       "      <th>0</th>\n",
       "      <td>230.1</td>\n",
       "      <td>37.8</td>\n",
       "      <td>69.2</td>\n",
       "      <td>22.1</td>\n",
       "    </tr>\n",
       "    <tr>\n",
       "      <th>1</th>\n",
       "      <td>44.5</td>\n",
       "      <td>39.3</td>\n",
       "      <td>45.1</td>\n",
       "      <td>10.4</td>\n",
       "    </tr>\n",
       "    <tr>\n",
       "      <th>2</th>\n",
       "      <td>17.2</td>\n",
       "      <td>45.9</td>\n",
       "      <td>69.3</td>\n",
       "      <td>9.3</td>\n",
       "    </tr>\n",
       "    <tr>\n",
       "      <th>3</th>\n",
       "      <td>151.5</td>\n",
       "      <td>41.3</td>\n",
       "      <td>58.5</td>\n",
       "      <td>18.5</td>\n",
       "    </tr>\n",
       "    <tr>\n",
       "      <th>4</th>\n",
       "      <td>180.8</td>\n",
       "      <td>10.8</td>\n",
       "      <td>58.4</td>\n",
       "      <td>12.9</td>\n",
       "    </tr>\n",
       "  </tbody>\n",
       "</table>\n",
       "</div>"
      ],
      "text/plain": [
       "      TV  radio  newspaper  sales\n",
       "0  230.1   37.8       69.2   22.1\n",
       "1   44.5   39.3       45.1   10.4\n",
       "2   17.2   45.9       69.3    9.3\n",
       "3  151.5   41.3       58.5   18.5\n",
       "4  180.8   10.8       58.4   12.9"
      ]
     },
     "execution_count": 2,
     "metadata": {},
     "output_type": "execute_result"
    }
   ],
   "source": [
    "df = pd.read_csv('../datasets/Advertising.csv')\n",
    "df.drop(columns='Unnamed: 0', inplace=True)\n",
    "print(df.shape)\n",
    "df.head()"
   ]
  },
  {
   "cell_type": "markdown",
   "metadata": {},
   "source": [
    "## Create our features matrix (`X`) and target vector (`y`)\n",
    "---\n",
    "\n",
    "The following columns will be our features:\n",
    "- `TV`\n",
    "- `radio`\n",
    "- `newspaper`\n",
    "\n",
    "The `sales` column is our target; the column we're trying to predict.\n",
    "\n",
    "***In the cell below, create your `X` and `y` variables.***"
   ]
  },
  {
   "cell_type": "code",
   "execution_count": 3,
   "metadata": {},
   "outputs": [],
   "source": [
    "features = ['TV', 'radio', 'newspaper']\n",
    "X = df[features]\n",
    "y = df['sales']"
   ]
  },
  {
   "cell_type": "markdown",
   "metadata": {},
   "source": [
    "## Linear Regression model\n",
    "---\n",
    "\n",
    "***In the cell below, create/instatiate a `LinearRegression` model.***"
   ]
  },
  {
   "cell_type": "code",
   "execution_count": 4,
   "metadata": {},
   "outputs": [],
   "source": [
    "lr = LinearRegression()"
   ]
  },
  {
   "cell_type": "markdown",
   "metadata": {},
   "source": [
    "## Baseline score\n",
    "---\n",
    "\n",
    "***In the cell below, use `cross_val_score` to get a baseline $R^2$ for our model.***\n",
    "\n",
    "Note: a Kfold = 5 is used for cv by default"
   ]
  },
  {
   "cell_type": "code",
   "execution_count": 5,
   "metadata": {},
   "outputs": [
    {
     "data": {
      "text/plain": [
       "0.8871063495438436"
      ]
     },
     "execution_count": 5,
     "metadata": {},
     "output_type": "execute_result"
    }
   ],
   "source": [
    "cross_val_score(lr, X, y).mean()"
   ]
  },
  {
   "cell_type": "markdown",
   "metadata": {},
   "source": [
    "## Interaction terms\n",
    "---\n",
    "\n",
    "Imagine seeing a commercial on TV, and then hearing a commercial by the same company a few days later on radio. If you eventually purchase the product in question, was it the TV spot that swayed you or the radio commercial...or was a it a synergy of the two commercials that did the trick?\n",
    "\n",
    "Interaction terms allow us to see what effect the **combination** of multiple features have on our label. For example, I'm not a fan of plain pancakes, and I never eat maple syrup by itself. But I do enjoy both combined together!\n",
    "\n",
    "Let's create an interaction term for this dataset, by doing a pairwise multiplication of two features as below:\n",
    "```python\n",
    "df['Interaction Col'] = df['Column 1'] * df['Column 2']\n",
    "```\n",
    "\n",
    "***In the cell below, create an interaction column between `TV` and `radio`.***"
   ]
  },
  {
   "cell_type": "code",
   "execution_count": 6,
   "metadata": {},
   "outputs": [
    {
     "name": "stdout",
     "output_type": "stream",
     "text": [
      "(200, 5)\n"
     ]
    },
    {
     "data": {
      "text/html": [
       "<div>\n",
       "<style scoped>\n",
       "    .dataframe tbody tr th:only-of-type {\n",
       "        vertical-align: middle;\n",
       "    }\n",
       "\n",
       "    .dataframe tbody tr th {\n",
       "        vertical-align: top;\n",
       "    }\n",
       "\n",
       "    .dataframe thead th {\n",
       "        text-align: right;\n",
       "    }\n",
       "</style>\n",
       "<table border=\"1\" class=\"dataframe\">\n",
       "  <thead>\n",
       "    <tr style=\"text-align: right;\">\n",
       "      <th></th>\n",
       "      <th>TV</th>\n",
       "      <th>radio</th>\n",
       "      <th>newspaper</th>\n",
       "      <th>sales</th>\n",
       "      <th>TV*radio</th>\n",
       "    </tr>\n",
       "  </thead>\n",
       "  <tbody>\n",
       "    <tr>\n",
       "      <th>0</th>\n",
       "      <td>230.1</td>\n",
       "      <td>37.8</td>\n",
       "      <td>69.2</td>\n",
       "      <td>22.1</td>\n",
       "      <td>8697.78</td>\n",
       "    </tr>\n",
       "    <tr>\n",
       "      <th>1</th>\n",
       "      <td>44.5</td>\n",
       "      <td>39.3</td>\n",
       "      <td>45.1</td>\n",
       "      <td>10.4</td>\n",
       "      <td>1748.85</td>\n",
       "    </tr>\n",
       "    <tr>\n",
       "      <th>2</th>\n",
       "      <td>17.2</td>\n",
       "      <td>45.9</td>\n",
       "      <td>69.3</td>\n",
       "      <td>9.3</td>\n",
       "      <td>789.48</td>\n",
       "    </tr>\n",
       "    <tr>\n",
       "      <th>3</th>\n",
       "      <td>151.5</td>\n",
       "      <td>41.3</td>\n",
       "      <td>58.5</td>\n",
       "      <td>18.5</td>\n",
       "      <td>6256.95</td>\n",
       "    </tr>\n",
       "    <tr>\n",
       "      <th>4</th>\n",
       "      <td>180.8</td>\n",
       "      <td>10.8</td>\n",
       "      <td>58.4</td>\n",
       "      <td>12.9</td>\n",
       "      <td>1952.64</td>\n",
       "    </tr>\n",
       "  </tbody>\n",
       "</table>\n",
       "</div>"
      ],
      "text/plain": [
       "      TV  radio  newspaper  sales  TV*radio\n",
       "0  230.1   37.8       69.2   22.1   8697.78\n",
       "1   44.5   39.3       45.1   10.4   1748.85\n",
       "2   17.2   45.9       69.3    9.3    789.48\n",
       "3  151.5   41.3       58.5   18.5   6256.95\n",
       "4  180.8   10.8       58.4   12.9   1952.64"
      ]
     },
     "execution_count": 6,
     "metadata": {},
     "output_type": "execute_result"
    }
   ],
   "source": [
    "df['TV*radio'] = df['TV'] * df['radio']\n",
    "print(df.shape) # check effect on df from newly included col\n",
    "df.head()"
   ]
  },
  {
   "cell_type": "markdown",
   "metadata": {},
   "source": [
    "## EDA: Create a heatmap\n",
    "---\n",
    "\n",
    "***In the cell below, create a heatmap in `seaborn` to show how our `TV*radio` interaction term correlates to all the other columns. Share what are your inferences from there.***"
   ]
  },
  {
   "cell_type": "code",
   "execution_count": 7,
   "metadata": {},
   "outputs": [
    {
     "data": {
      "image/png": "[encoded data removed]",
      "text/plain": [
       "<Figure size 432x288 with 2 Axes>"
      ]
     },
     "metadata": {
      "needs_background": "light"
     },
     "output_type": "display_data"
    }
   ],
   "source": [
    "sns.heatmap(df.corr(), annot=True, cmap='coolwarm');"
   ]
  },
  {
   "cell_type": "markdown",
   "metadata": {},
   "source": [
    "<details><summary>\n",
    "What are your inferences from the heatmap?\n",
    "</summary>\n",
    "    \n",
    "1. our newly created feature, `TV*radio` is strongly correlated with our response, sales!\n",
    "    \n",
    "    - more stronger than individual feature correlations from `TV` and `radio` to the response\n",
    "    \n",
    "2. obviously enough, the individual features, `TV` and `radio` correlate with the interaction feature `TV*radio`\n",
    "</details>"
   ]
  },
  {
   "cell_type": "markdown",
   "metadata": {},
   "source": [
    "## EDA: Pairplot\n",
    "---\n",
    "\n",
    "***Now use `seaborn`'s `.pairplot()` method to create scatterplots with our new feature column.***"
   ]
  },
  {
   "cell_type": "code",
   "execution_count": 8,
   "metadata": {},
   "outputs": [
    {
     "data": {
      "image/png": "[encoded data removed]",
      "text/plain": [
       "<Figure size 900x900 with 30 Axes>"
      ]
     },
     "metadata": {
      "needs_background": "light"
     },
     "output_type": "display_data"
    }
   ],
   "source": [
    "sns.pairplot(df);"
   ]
  },
  {
   "cell_type": "markdown",
   "metadata": {},
   "source": [
    "We can look at row#4 of the Multi-plot grid above with `sales` response on y-axis and the different features along the x-axis. column#5 or subplot (4,5) showing `sales` vs `TV*radio` shows strong correlation."
   ]
  },
  {
   "cell_type": "markdown",
   "metadata": {},
   "source": [
    "## Create our features matrix (`X`) and target vector (`y`)\n",
    "---\n",
    "\n",
    "Now that we have confirmed that our new column is highly correlated to our label, let's incorporate it in our features matrix and evaluate our model metrics again to check for potential improvement:\n",
    "- `TV`\n",
    "- `radio`\n",
    "- `newspaper`\n",
    "- `TV*radio` interaction term\n",
    "\n",
    "The `sales` column is our label: the column we're trying to predict.\n",
    "\n",
    "***In the cell below, refresh your `X` matrix to include the new feature `TV*radio`.***"
   ]
  },
  {
   "cell_type": "code",
   "execution_count": 9,
   "metadata": {},
   "outputs": [
    {
     "data": {
      "text/plain": [
       "['TV', 'radio', 'newspaper']"
      ]
     },
     "execution_count": 9,
     "metadata": {},
     "output_type": "execute_result"
    }
   ],
   "source": [
    "# lets recap what's in features --> its a list we created with the list of feature columns\n",
    "# how do you add a new item to a list?\n",
    "features"
   ]
  },
  {
   "cell_type": "code",
   "execution_count": 10,
   "metadata": {},
   "outputs": [
    {
     "data": {
      "text/html": [
       "<div>\n",
       "<style scoped>\n",
       "    .dataframe tbody tr th:only-of-type {\n",
       "        vertical-align: middle;\n",
       "    }\n",
       "\n",
       "    .dataframe tbody tr th {\n",
       "        vertical-align: top;\n",
       "    }\n",
       "\n",
       "    .dataframe thead th {\n",
       "        text-align: right;\n",
       "    }\n",
       "</style>\n",
       "<table border=\"1\" class=\"dataframe\">\n",
       "  <thead>\n",
       "    <tr style=\"text-align: right;\">\n",
       "      <th></th>\n",
       "      <th>TV</th>\n",
       "      <th>radio</th>\n",
       "      <th>newspaper</th>\n",
       "      <th>TV*radio</th>\n",
       "    </tr>\n",
       "  </thead>\n",
       "  <tbody>\n",
       "    <tr>\n",
       "      <th>0</th>\n",
       "      <td>230.1</td>\n",
       "      <td>37.8</td>\n",
       "      <td>69.2</td>\n",
       "      <td>8697.78</td>\n",
       "    </tr>\n",
       "    <tr>\n",
       "      <th>1</th>\n",
       "      <td>44.5</td>\n",
       "      <td>39.3</td>\n",
       "      <td>45.1</td>\n",
       "      <td>1748.85</td>\n",
       "    </tr>\n",
       "    <tr>\n",
       "      <th>2</th>\n",
       "      <td>17.2</td>\n",
       "      <td>45.9</td>\n",
       "      <td>69.3</td>\n",
       "      <td>789.48</td>\n",
       "    </tr>\n",
       "    <tr>\n",
       "      <th>3</th>\n",
       "      <td>151.5</td>\n",
       "      <td>41.3</td>\n",
       "      <td>58.5</td>\n",
       "      <td>6256.95</td>\n",
       "    </tr>\n",
       "    <tr>\n",
       "      <th>4</th>\n",
       "      <td>180.8</td>\n",
       "      <td>10.8</td>\n",
       "      <td>58.4</td>\n",
       "      <td>1952.64</td>\n",
       "    </tr>\n",
       "  </tbody>\n",
       "</table>\n",
       "</div>"
      ],
      "text/plain": [
       "      TV  radio  newspaper  TV*radio\n",
       "0  230.1   37.8       69.2   8697.78\n",
       "1   44.5   39.3       45.1   1748.85\n",
       "2   17.2   45.9       69.3    789.48\n",
       "3  151.5   41.3       58.5   6256.95\n",
       "4  180.8   10.8       58.4   1952.64"
      ]
     },
     "execution_count": 10,
     "metadata": {},
     "output_type": "execute_result"
    }
   ],
   "source": [
    "# append new feature\n",
    "features.append('TV*radio')\n",
    "X = df[features]\n",
    "X.head()"
   ]
  },
  {
   "cell_type": "markdown",
   "metadata": {},
   "source": [
    "## Model evaluation\n",
    "---\n",
    "\n",
    "Use `cross_val_score` to see how much our new feature moves the $R^2$ score."
   ]
  },
  {
   "cell_type": "code",
   "execution_count": 11,
   "metadata": {},
   "outputs": [
    {
     "data": {
      "text/plain": [
       "0.9641704265806474"
      ]
     },
     "execution_count": 11,
     "metadata": {},
     "output_type": "execute_result"
    }
   ],
   "source": [
    "cross_val_score(lr, X, y).mean()"
   ]
  },
  {
   "cell_type": "markdown",
   "metadata": {},
   "source": [
    "### Conclusion: we see significant improvement in $R^2$ vs before (0.89 vs 0.96)"
   ]
  },
  {
   "cell_type": "markdown",
   "metadata": {
    "tags": []
   },
   "source": [
    "## `PolynomialFeatures`\n",
    "---\n",
    "\n",
    "Congrats! We struck gold on our first interaction term. The question now is how do we create interaction terms **in bulk**? In our small dataset, we only had three interaction terms, so a manual approach was still acceptable:\n",
    "\n",
    "1. `TV * radio`\n",
    "2. `TV * newspaper`\n",
    "3. `radio * newspaper`\n",
    "\n",
    "However, with larger datasets, manually creating interaction terms would quickly become unsustainable. That's where `sklearn`'s `PolynomialFeatures` comes in. `PolynomialFeatures`([documentation](https://scikit-learn.org/stable/modules/generated/sklearn.preprocessing.PolynomialFeatures.html)) will generate a new feature matrix with polynomial and interaction features. For a 2-D input feature sample [a, b], the generated features using this approach would be: [1, a, b, a^2, ab, b^2]. \n",
    "\n",
    "Thus for our advertising dataset, this will return 9 columns from our original features matrix of the form [a, b, c]:\n",
    "\n",
    "1. _original_ `TV` column\n",
    "2. _original_ `radio` column\n",
    "3. _original_ `newspaper` column\n",
    "4. _new_ `TV^2` (`TV` squared)\n",
    "5. _new_ `radio^2` (`radio` squared)\n",
    "6. _new_ `newspaper^2` (`newspaper` squared)\n",
    "7. _new_ `TV*radio` interaction\n",
    "8. _new_ `TV*newspaper` interaction\n",
    "9. _new_ `radio*newspaper` interaction\n",
    "\n",
    "In the cells provided, use `PolynomialFeatures` to transform `X`. **NOTE**: You'll need to set `include_bias=False`, because if set to `True`, this will create a column for intercept, which we know isn't required for scikit-learn."
   ]
  },
  {
   "cell_type": "markdown",
   "metadata": {},
   "source": [
    "***First, let's reset`features` to how it was BEFORE including `TV*radio`. How can we remove a list item?***"
   ]
  },
  {
   "cell_type": "code",
   "execution_count": 12,
   "metadata": {},
   "outputs": [
    {
     "data": {
      "text/html": [
       "<div>\n",
       "<style scoped>\n",
       "    .dataframe tbody tr th:only-of-type {\n",
       "        vertical-align: middle;\n",
       "    }\n",
       "\n",
       "    .dataframe tbody tr th {\n",
       "        vertical-align: top;\n",
       "    }\n",
       "\n",
       "    .dataframe thead th {\n",
       "        text-align: right;\n",
       "    }\n",
       "</style>\n",
       "<table border=\"1\" class=\"dataframe\">\n",
       "  <thead>\n",
       "    <tr style=\"text-align: right;\">\n",
       "      <th></th>\n",
       "      <th>TV</th>\n",
       "      <th>radio</th>\n",
       "      <th>newspaper</th>\n",
       "    </tr>\n",
       "  </thead>\n",
       "  <tbody>\n",
       "    <tr>\n",
       "      <th>0</th>\n",
       "      <td>230.1</td>\n",
       "      <td>37.8</td>\n",
       "      <td>69.2</td>\n",
       "    </tr>\n",
       "    <tr>\n",
       "      <th>1</th>\n",
       "      <td>44.5</td>\n",
       "      <td>39.3</td>\n",
       "      <td>45.1</td>\n",
       "    </tr>\n",
       "    <tr>\n",
       "      <th>2</th>\n",
       "      <td>17.2</td>\n",
       "      <td>45.9</td>\n",
       "      <td>69.3</td>\n",
       "    </tr>\n",
       "    <tr>\n",
       "      <th>3</th>\n",
       "      <td>151.5</td>\n",
       "      <td>41.3</td>\n",
       "      <td>58.5</td>\n",
       "    </tr>\n",
       "    <tr>\n",
       "      <th>4</th>\n",
       "      <td>180.8</td>\n",
       "      <td>10.8</td>\n",
       "      <td>58.4</td>\n",
       "    </tr>\n",
       "  </tbody>\n",
       "</table>\n",
       "</div>"
      ],
      "text/plain": [
       "      TV  radio  newspaper\n",
       "0  230.1   37.8       69.2\n",
       "1   44.5   39.3       45.1\n",
       "2   17.2   45.9       69.3\n",
       "3  151.5   41.3       58.5\n",
       "4  180.8   10.8       58.4"
      ]
     },
     "execution_count": 12,
     "metadata": {},
     "output_type": "execute_result"
    }
   ],
   "source": [
    "features.remove('TV*radio')\n",
    "X = df[features]\n",
    "X.head()"
   ]
  },
  {
   "cell_type": "code",
   "execution_count": 13,
   "metadata": {},
   "outputs": [],
   "source": [
    "# automatically generating the polynomial (high-order) & interaction features\n",
    "# we are creating an object 'poly' from the PolynomialFeatures class\n",
    "# similar to instantiating linear regression estimator\n",
    "poly = PolynomialFeatures(include_bias=False)"
   ]
  },
  {
   "cell_type": "code",
   "execution_count": 14,
   "metadata": {},
   "outputs": [
    {
     "name": "stdout",
     "output_type": "stream",
     "text": [
      "pre-X: [44.5 39.3 45.1]\n",
      "post-X: [[  44.5    39.3    45.1  1980.25 1748.85 2006.95 1544.49 1772.43 2034.01]]\n"
     ]
    }
   ],
   "source": [
    "# following instantiation, instead of our usual .fit(), we'll call .fit_transform()\n",
    "# fit_transform() --> fits data, then transforms it\n",
    "X_poly = poly.fit_transform(X)\n",
    "\n",
    "# X_poly is a list-of-lists with each 9 transformed feature values\n",
    "# printing row 1 as sample preview to compare vs X pre-transformation\n",
    "print(f'pre-X: {X.iloc[1].values}')\n",
    "print(f'post-X: {X_poly[[1]]}') "
   ]
  },
  {
   "cell_type": "markdown",
   "metadata": {},
   "source": [
    "##### The resulting additional terms shown in `X_poly` are generated based on a^2, b^2, c^2, ab, bc, ca]"
   ]
  },
  {
   "cell_type": "code",
   "execution_count": 15,
   "metadata": {},
   "outputs": [
    {
     "data": {
      "text/html": [
       "<div>\n",
       "<style scoped>\n",
       "    .dataframe tbody tr th:only-of-type {\n",
       "        vertical-align: middle;\n",
       "    }\n",
       "\n",
       "    .dataframe tbody tr th {\n",
       "        vertical-align: top;\n",
       "    }\n",
       "\n",
       "    .dataframe thead th {\n",
       "        text-align: right;\n",
       "    }\n",
       "</style>\n",
       "<table border=\"1\" class=\"dataframe\">\n",
       "  <thead>\n",
       "    <tr style=\"text-align: right;\">\n",
       "      <th></th>\n",
       "      <th>TV</th>\n",
       "      <th>radio</th>\n",
       "      <th>newspaper</th>\n",
       "      <th>TV^2</th>\n",
       "      <th>TV radio</th>\n",
       "      <th>TV newspaper</th>\n",
       "      <th>radio^2</th>\n",
       "      <th>radio newspaper</th>\n",
       "      <th>newspaper^2</th>\n",
       "    </tr>\n",
       "  </thead>\n",
       "  <tbody>\n",
       "    <tr>\n",
       "      <th>0</th>\n",
       "      <td>230.1</td>\n",
       "      <td>37.8</td>\n",
       "      <td>69.2</td>\n",
       "      <td>52946.01</td>\n",
       "      <td>8697.78</td>\n",
       "      <td>15922.92</td>\n",
       "      <td>1428.84</td>\n",
       "      <td>2615.76</td>\n",
       "      <td>4788.64</td>\n",
       "    </tr>\n",
       "    <tr>\n",
       "      <th>1</th>\n",
       "      <td>44.5</td>\n",
       "      <td>39.3</td>\n",
       "      <td>45.1</td>\n",
       "      <td>1980.25</td>\n",
       "      <td>1748.85</td>\n",
       "      <td>2006.95</td>\n",
       "      <td>1544.49</td>\n",
       "      <td>1772.43</td>\n",
       "      <td>2034.01</td>\n",
       "    </tr>\n",
       "    <tr>\n",
       "      <th>2</th>\n",
       "      <td>17.2</td>\n",
       "      <td>45.9</td>\n",
       "      <td>69.3</td>\n",
       "      <td>295.84</td>\n",
       "      <td>789.48</td>\n",
       "      <td>1191.96</td>\n",
       "      <td>2106.81</td>\n",
       "      <td>3180.87</td>\n",
       "      <td>4802.49</td>\n",
       "    </tr>\n",
       "    <tr>\n",
       "      <th>3</th>\n",
       "      <td>151.5</td>\n",
       "      <td>41.3</td>\n",
       "      <td>58.5</td>\n",
       "      <td>22952.25</td>\n",
       "      <td>6256.95</td>\n",
       "      <td>8862.75</td>\n",
       "      <td>1705.69</td>\n",
       "      <td>2416.05</td>\n",
       "      <td>3422.25</td>\n",
       "    </tr>\n",
       "    <tr>\n",
       "      <th>4</th>\n",
       "      <td>180.8</td>\n",
       "      <td>10.8</td>\n",
       "      <td>58.4</td>\n",
       "      <td>32688.64</td>\n",
       "      <td>1952.64</td>\n",
       "      <td>10558.72</td>\n",
       "      <td>116.64</td>\n",
       "      <td>630.72</td>\n",
       "      <td>3410.56</td>\n",
       "    </tr>\n",
       "    <tr>\n",
       "      <th>...</th>\n",
       "      <td>...</td>\n",
       "      <td>...</td>\n",
       "      <td>...</td>\n",
       "      <td>...</td>\n",
       "      <td>...</td>\n",
       "      <td>...</td>\n",
       "      <td>...</td>\n",
       "      <td>...</td>\n",
       "      <td>...</td>\n",
       "    </tr>\n",
       "    <tr>\n",
       "      <th>195</th>\n",
       "      <td>38.2</td>\n",
       "      <td>3.7</td>\n",
       "      <td>13.8</td>\n",
       "      <td>1459.24</td>\n",
       "      <td>141.34</td>\n",
       "      <td>527.16</td>\n",
       "      <td>13.69</td>\n",
       "      <td>51.06</td>\n",
       "      <td>190.44</td>\n",
       "    </tr>\n",
       "    <tr>\n",
       "      <th>196</th>\n",
       "      <td>94.2</td>\n",
       "      <td>4.9</td>\n",
       "      <td>8.1</td>\n",
       "      <td>8873.64</td>\n",
       "      <td>461.58</td>\n",
       "      <td>763.02</td>\n",
       "      <td>24.01</td>\n",
       "      <td>39.69</td>\n",
       "      <td>65.61</td>\n",
       "    </tr>\n",
       "    <tr>\n",
       "      <th>197</th>\n",
       "      <td>177.0</td>\n",
       "      <td>9.3</td>\n",
       "      <td>6.4</td>\n",
       "      <td>31329.00</td>\n",
       "      <td>1646.10</td>\n",
       "      <td>1132.80</td>\n",
       "      <td>86.49</td>\n",
       "      <td>59.52</td>\n",
       "      <td>40.96</td>\n",
       "    </tr>\n",
       "    <tr>\n",
       "      <th>198</th>\n",
       "      <td>283.6</td>\n",
       "      <td>42.0</td>\n",
       "      <td>66.2</td>\n",
       "      <td>80428.96</td>\n",
       "      <td>11911.20</td>\n",
       "      <td>18774.32</td>\n",
       "      <td>1764.00</td>\n",
       "      <td>2780.40</td>\n",
       "      <td>4382.44</td>\n",
       "    </tr>\n",
       "    <tr>\n",
       "      <th>199</th>\n",
       "      <td>232.1</td>\n",
       "      <td>8.6</td>\n",
       "      <td>8.7</td>\n",
       "      <td>53870.41</td>\n",
       "      <td>1996.06</td>\n",
       "      <td>2019.27</td>\n",
       "      <td>73.96</td>\n",
       "      <td>74.82</td>\n",
       "      <td>75.69</td>\n",
       "    </tr>\n",
       "  </tbody>\n",
       "</table>\n",
       "<p>200 rows × 9 columns</p>\n",
       "</div>"
      ],
      "text/plain": [
       "        TV  radio  newspaper      TV^2  TV radio  TV newspaper  radio^2  \\\n",
       "0    230.1   37.8       69.2  52946.01   8697.78      15922.92  1428.84   \n",
       "1     44.5   39.3       45.1   1980.25   1748.85       2006.95  1544.49   \n",
       "2     17.2   45.9       69.3    295.84    789.48       1191.96  2106.81   \n",
       "3    151.5   41.3       58.5  22952.25   6256.95       8862.75  1705.69   \n",
       "4    180.8   10.8       58.4  32688.64   1952.64      10558.72   116.64   \n",
       "..     ...    ...        ...       ...       ...           ...      ...   \n",
       "195   38.2    3.7       13.8   1459.24    141.34        527.16    13.69   \n",
       "196   94.2    4.9        8.1   8873.64    461.58        763.02    24.01   \n",
       "197  177.0    9.3        6.4  31329.00   1646.10       1132.80    86.49   \n",
       "198  283.6   42.0       66.2  80428.96  11911.20      18774.32  1764.00   \n",
       "199  232.1    8.6        8.7  53870.41   1996.06       2019.27    73.96   \n",
       "\n",
       "     radio newspaper  newspaper^2  \n",
       "0            2615.76      4788.64  \n",
       "1            1772.43      2034.01  \n",
       "2            3180.87      4802.49  \n",
       "3            2416.05      3422.25  \n",
       "4             630.72      3410.56  \n",
       "..               ...          ...  \n",
       "195            51.06       190.44  \n",
       "196            39.69        65.61  \n",
       "197            59.52        40.96  \n",
       "198          2780.40      4382.44  \n",
       "199            74.82        75.69  \n",
       "\n",
       "[200 rows x 9 columns]"
      ]
     },
     "execution_count": 15,
     "metadata": {},
     "output_type": "execute_result"
    }
   ],
   "source": [
    "# we can also view X_poly in a DataFrame\n",
    "pd.DataFrame(X_poly, columns=poly.get_feature_names(features))"
   ]
  },
  {
   "cell_type": "markdown",
   "metadata": {},
   "source": [
    "## Model evaluation\n",
    "---\n",
    "\n",
    "***Use `cross_val_score` to see how much `PolynomialFeatures` affects the $R^2$ score. What should we modify in our cross_val_score parameters?***"
   ]
  },
  {
   "cell_type": "code",
   "execution_count": 16,
   "metadata": {},
   "outputs": [
    {
     "data": {
      "text/plain": [
       "0.9842540981580085"
      ]
     },
     "execution_count": 16,
     "metadata": {},
     "output_type": "execute_result"
    }
   ],
   "source": [
    "# replacing X --> X_poly\n",
    "cross_val_score(lr, X_poly, y, cv=5).mean()"
   ]
  },
  {
   "cell_type": "markdown",
   "metadata": {},
   "source": [
    "## Scaling\n",
    "---\n",
    "\n",
    "Throughout this course, we'll encounter several models that require you to **scale your data prior to modeling**. Imagine you were trying _predict the price of a house_, and you had _two features: square footage and number of bedrooms_. These two features are on _different scales_, separated by a few orders of magnitude (square footage is in the hundreds or even thousands and number of bedrooms is in the single digits). \n",
    "\n",
    "When we scale our data, we essentially convert our columns into Z-scores. \n",
    "\n",
    "### $z$ = ${x- \\mu \\over \\sigma}$\n",
    "\n",
    "Recall $\\mu$ is the mean and $\\sigma$ is the standard deviation\n",
    "\n",
    "In our dataset, let's scale the `TV` column manually using this formula."
   ]
  },
  {
   "cell_type": "code",
   "execution_count": 17,
   "metadata": {},
   "outputs": [
    {
     "data": {
      "text/plain": [
       "0    230.1\n",
       "1     44.5\n",
       "2     17.2\n",
       "3    151.5\n",
       "4    180.8\n",
       "Name: TV, dtype: float64"
      ]
     },
     "execution_count": 17,
     "metadata": {},
     "output_type": "execute_result"
    }
   ],
   "source": [
    "df['TV'].head()"
   ]
  },
  {
   "cell_type": "code",
   "execution_count": 18,
   "metadata": {},
   "outputs": [
    {
     "data": {
      "text/plain": [
       "0    0.969852\n",
       "1   -1.197376\n",
       "2   -1.516155\n",
       "3    0.052050\n",
       "4    0.394182\n",
       "Name: TV, dtype: float64"
      ]
     },
     "execution_count": 18,
     "metadata": {},
     "output_type": "execute_result"
    }
   ],
   "source": [
    "((df['TV'] - df['TV'].mean()) / df['TV'].std(ddof=0)).head()\n",
    "# To have the same behaviour as `numpy.std`, use `ddof=0`, `ddof=1` is default in pandas"
   ]
  },
  {
   "cell_type": "markdown",
   "metadata": {},
   "source": [
    "[Additional reference](https://www.aboutdatablog.com/post/why-computing-standard-deviation-in-pandas-and-numpy-yields-different-results) for std dev calculation: numpy vs pandas - former computes `population` std dev, while latter computes `sample` std dev\n",
    "- the difference in denominator of std dev formula for `population` std dev (N) vs the latter `sample` std dev (N - 1) in statistics is in order to get an unbiased estimator for population standard deviation when calculating it from the sample by using (N - 1). This is called **one degree of freedom, we subtract 1 in order to get an unbiased estimator.**"
   ]
  },
  {
   "cell_type": "markdown",
   "metadata": {},
   "source": [
    "## `StandardScaler`\n",
    "---\n",
    "\n",
    "Rather than doing this manually for each column, `sklearn` has a `StandardScaler` class that allows us to **automatically scale our entire dataset in a few lines of code.**"
   ]
  },
  {
   "cell_type": "code",
   "execution_count": 20,
   "metadata": {},
   "outputs": [
    {
     "data": {
      "text/plain": [
       "array([0.96985227, 0.98152247, 1.77894547])"
      ]
     },
     "execution_count": 20,
     "metadata": {},
     "output_type": "execute_result"
    }
   ],
   "source": [
    "ss = StandardScaler() # instantiate\n",
    "X_scaled = ss.fit_transform(X) # fit and transform (scale) X\n",
    "X_scaled[0, :] # preview post-scaling output from 0th row and all cols"
   ]
  },
  {
   "cell_type": "markdown",
   "metadata": {},
   "source": [
    "## Concept revision - Dummies\n",
    "---\n",
    "\n",
    "When we dummy a column, we're converting a **categorical column** into a ***one-hot encoded*** matrix. `pandas` allows us to do this with the `pd.get_dummies()` method."
   ]
  },
  {
   "cell_type": "code",
   "execution_count": 39,
   "metadata": {},
   "outputs": [
    {
     "name": "stdout",
     "output_type": "stream",
     "text": [
      "(517, 13)\n"
     ]
    },
    {
     "data": {
      "text/html": [
       "<div>\n",
       "<style scoped>\n",
       "    .dataframe tbody tr th:only-of-type {\n",
       "        vertical-align: middle;\n",
       "    }\n",
       "\n",
       "    .dataframe tbody tr th {\n",
       "        vertical-align: top;\n",
       "    }\n",
       "\n",
       "    .dataframe thead th {\n",
       "        text-align: right;\n",
       "    }\n",
       "</style>\n",
       "<table border=\"1\" class=\"dataframe\">\n",
       "  <thead>\n",
       "    <tr style=\"text-align: right;\">\n",
       "      <th></th>\n",
       "      <th>X</th>\n",
       "      <th>Y</th>\n",
       "      <th>month</th>\n",
       "      <th>day</th>\n",
       "      <th>FFMC</th>\n",
       "      <th>DMC</th>\n",
       "      <th>DC</th>\n",
       "      <th>ISI</th>\n",
       "      <th>temp</th>\n",
       "      <th>RH</th>\n",
       "      <th>wind</th>\n",
       "      <th>rain</th>\n",
       "      <th>area</th>\n",
       "    </tr>\n",
       "  </thead>\n",
       "  <tbody>\n",
       "    <tr>\n",
       "      <th>0</th>\n",
       "      <td>7</td>\n",
       "      <td>5</td>\n",
       "      <td>mar</td>\n",
       "      <td>fri</td>\n",
       "      <td>86.2</td>\n",
       "      <td>26.2</td>\n",
       "      <td>94.3</td>\n",
       "      <td>5.1</td>\n",
       "      <td>8.2</td>\n",
       "      <td>51</td>\n",
       "      <td>6.7</td>\n",
       "      <td>0.0</td>\n",
       "      <td>0.0</td>\n",
       "    </tr>\n",
       "    <tr>\n",
       "      <th>1</th>\n",
       "      <td>7</td>\n",
       "      <td>4</td>\n",
       "      <td>oct</td>\n",
       "      <td>tue</td>\n",
       "      <td>90.6</td>\n",
       "      <td>35.4</td>\n",
       "      <td>669.1</td>\n",
       "      <td>6.7</td>\n",
       "      <td>18.0</td>\n",
       "      <td>33</td>\n",
       "      <td>0.9</td>\n",
       "      <td>0.0</td>\n",
       "      <td>0.0</td>\n",
       "    </tr>\n",
       "    <tr>\n",
       "      <th>2</th>\n",
       "      <td>7</td>\n",
       "      <td>4</td>\n",
       "      <td>oct</td>\n",
       "      <td>sat</td>\n",
       "      <td>90.6</td>\n",
       "      <td>43.7</td>\n",
       "      <td>686.9</td>\n",
       "      <td>6.7</td>\n",
       "      <td>14.6</td>\n",
       "      <td>33</td>\n",
       "      <td>1.3</td>\n",
       "      <td>0.0</td>\n",
       "      <td>0.0</td>\n",
       "    </tr>\n",
       "    <tr>\n",
       "      <th>3</th>\n",
       "      <td>8</td>\n",
       "      <td>6</td>\n",
       "      <td>mar</td>\n",
       "      <td>fri</td>\n",
       "      <td>91.7</td>\n",
       "      <td>33.3</td>\n",
       "      <td>77.5</td>\n",
       "      <td>9.0</td>\n",
       "      <td>8.3</td>\n",
       "      <td>97</td>\n",
       "      <td>4.0</td>\n",
       "      <td>0.2</td>\n",
       "      <td>0.0</td>\n",
       "    </tr>\n",
       "    <tr>\n",
       "      <th>4</th>\n",
       "      <td>8</td>\n",
       "      <td>6</td>\n",
       "      <td>mar</td>\n",
       "      <td>sun</td>\n",
       "      <td>89.3</td>\n",
       "      <td>51.3</td>\n",
       "      <td>102.2</td>\n",
       "      <td>9.6</td>\n",
       "      <td>11.4</td>\n",
       "      <td>99</td>\n",
       "      <td>1.8</td>\n",
       "      <td>0.0</td>\n",
       "      <td>0.0</td>\n",
       "    </tr>\n",
       "  </tbody>\n",
       "</table>\n",
       "</div>"
      ],
      "text/plain": [
       "   X  Y month  day  FFMC   DMC     DC  ISI  temp  RH  wind  rain  area\n",
       "0  7  5   mar  fri  86.2  26.2   94.3  5.1   8.2  51   6.7   0.0   0.0\n",
       "1  7  4   oct  tue  90.6  35.4  669.1  6.7  18.0  33   0.9   0.0   0.0\n",
       "2  7  4   oct  sat  90.6  43.7  686.9  6.7  14.6  33   1.3   0.0   0.0\n",
       "3  8  6   mar  fri  91.7  33.3   77.5  9.0   8.3  97   4.0   0.2   0.0\n",
       "4  8  6   mar  sun  89.3  51.3  102.2  9.6  11.4  99   1.8   0.0   0.0"
      ]
     },
     "execution_count": 39,
     "metadata": {},
     "output_type": "execute_result"
    }
   ],
   "source": [
    "# import forestfires dataset\n",
    "fires = pd.read_csv('../datasets/forestfires.csv')\n",
    "print(fires.shape)\n",
    "fires.head()"
   ]
  },
  {
   "cell_type": "code",
   "execution_count": 41,
   "metadata": {},
   "outputs": [
    {
     "data": {
      "text/html": [
       "<div>\n",
       "<style scoped>\n",
       "    .dataframe tbody tr th:only-of-type {\n",
       "        vertical-align: middle;\n",
       "    }\n",
       "\n",
       "    .dataframe tbody tr th {\n",
       "        vertical-align: top;\n",
       "    }\n",
       "\n",
       "    .dataframe thead th {\n",
       "        text-align: right;\n",
       "    }\n",
       "</style>\n",
       "<table border=\"1\" class=\"dataframe\">\n",
       "  <thead>\n",
       "    <tr style=\"text-align: right;\">\n",
       "      <th></th>\n",
       "      <th>day_fri</th>\n",
       "      <th>day_mon</th>\n",
       "      <th>day_sat</th>\n",
       "      <th>day_sun</th>\n",
       "      <th>day_thu</th>\n",
       "      <th>day_tue</th>\n",
       "      <th>day_wed</th>\n",
       "    </tr>\n",
       "  </thead>\n",
       "  <tbody>\n",
       "    <tr>\n",
       "      <th>0</th>\n",
       "      <td>1</td>\n",
       "      <td>0</td>\n",
       "      <td>0</td>\n",
       "      <td>0</td>\n",
       "      <td>0</td>\n",
       "      <td>0</td>\n",
       "      <td>0</td>\n",
       "    </tr>\n",
       "    <tr>\n",
       "      <th>1</th>\n",
       "      <td>0</td>\n",
       "      <td>0</td>\n",
       "      <td>0</td>\n",
       "      <td>0</td>\n",
       "      <td>0</td>\n",
       "      <td>1</td>\n",
       "      <td>0</td>\n",
       "    </tr>\n",
       "    <tr>\n",
       "      <th>2</th>\n",
       "      <td>0</td>\n",
       "      <td>0</td>\n",
       "      <td>1</td>\n",
       "      <td>0</td>\n",
       "      <td>0</td>\n",
       "      <td>0</td>\n",
       "      <td>0</td>\n",
       "    </tr>\n",
       "    <tr>\n",
       "      <th>3</th>\n",
       "      <td>1</td>\n",
       "      <td>0</td>\n",
       "      <td>0</td>\n",
       "      <td>0</td>\n",
       "      <td>0</td>\n",
       "      <td>0</td>\n",
       "      <td>0</td>\n",
       "    </tr>\n",
       "    <tr>\n",
       "      <th>4</th>\n",
       "      <td>0</td>\n",
       "      <td>0</td>\n",
       "      <td>0</td>\n",
       "      <td>1</td>\n",
       "      <td>0</td>\n",
       "      <td>0</td>\n",
       "      <td>0</td>\n",
       "    </tr>\n",
       "    <tr>\n",
       "      <th>...</th>\n",
       "      <td>...</td>\n",
       "      <td>...</td>\n",
       "      <td>...</td>\n",
       "      <td>...</td>\n",
       "      <td>...</td>\n",
       "      <td>...</td>\n",
       "      <td>...</td>\n",
       "    </tr>\n",
       "    <tr>\n",
       "      <th>512</th>\n",
       "      <td>0</td>\n",
       "      <td>0</td>\n",
       "      <td>0</td>\n",
       "      <td>1</td>\n",
       "      <td>0</td>\n",
       "      <td>0</td>\n",
       "      <td>0</td>\n",
       "    </tr>\n",
       "    <tr>\n",
       "      <th>513</th>\n",
       "      <td>0</td>\n",
       "      <td>0</td>\n",
       "      <td>0</td>\n",
       "      <td>1</td>\n",
       "      <td>0</td>\n",
       "      <td>0</td>\n",
       "      <td>0</td>\n",
       "    </tr>\n",
       "    <tr>\n",
       "      <th>514</th>\n",
       "      <td>0</td>\n",
       "      <td>0</td>\n",
       "      <td>0</td>\n",
       "      <td>1</td>\n",
       "      <td>0</td>\n",
       "      <td>0</td>\n",
       "      <td>0</td>\n",
       "    </tr>\n",
       "    <tr>\n",
       "      <th>515</th>\n",
       "      <td>0</td>\n",
       "      <td>0</td>\n",
       "      <td>1</td>\n",
       "      <td>0</td>\n",
       "      <td>0</td>\n",
       "      <td>0</td>\n",
       "      <td>0</td>\n",
       "    </tr>\n",
       "    <tr>\n",
       "      <th>516</th>\n",
       "      <td>0</td>\n",
       "      <td>0</td>\n",
       "      <td>0</td>\n",
       "      <td>0</td>\n",
       "      <td>0</td>\n",
       "      <td>1</td>\n",
       "      <td>0</td>\n",
       "    </tr>\n",
       "  </tbody>\n",
       "</table>\n",
       "<p>517 rows × 7 columns</p>\n",
       "</div>"
      ],
      "text/plain": [
       "     day_fri  day_mon  day_sat  day_sun  day_thu  day_tue  day_wed\n",
       "0          1        0        0        0        0        0        0\n",
       "1          0        0        0        0        0        1        0\n",
       "2          0        0        1        0        0        0        0\n",
       "3          1        0        0        0        0        0        0\n",
       "4          0        0        0        1        0        0        0\n",
       "..       ...      ...      ...      ...      ...      ...      ...\n",
       "512        0        0        0        1        0        0        0\n",
       "513        0        0        0        1        0        0        0\n",
       "514        0        0        0        1        0        0        0\n",
       "515        0        0        1        0        0        0        0\n",
       "516        0        0        0        0        0        1        0\n",
       "\n",
       "[517 rows x 7 columns]"
      ]
     },
     "execution_count": 41,
     "metadata": {},
     "output_type": "execute_result"
    }
   ],
   "source": [
    "# one-hot encoding categorical column, 'day' using pd.get_dummies()\n",
    "pd.get_dummies(fires[['day']])"
   ]
  },
  {
   "cell_type": "code",
   "execution_count": null,
   "metadata": {},
   "outputs": [],
   "source": []
  }
 ],
 "metadata": {
  "kernelspec": {
   "display_name": "Python 3",
   "language": "python",
   "name": "python3"
  },
  "language_info": {
   "codemirror_mode": {
    "name": "ipython",
    "version": 3
   },
   "file_extension": ".py",
   "mimetype": "text/x-python",
   "name": "python",
   "nbconvert_exporter": "python",
   "pygments_lexer": "ipython3",
   "version": "3.8.8"
  }
 },
 "nbformat": 4,
 "nbformat_minor": 4
}
