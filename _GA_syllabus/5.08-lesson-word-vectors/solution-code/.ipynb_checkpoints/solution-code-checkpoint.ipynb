{
 "cells": [
  {
   "cell_type": "markdown",
   "metadata": {},
   "source": [
    "<img src=\"http://imgur.com/1ZcRyrc.png\" style=\"float: left; margin: 20px; height: 55px\">\n",
    "\n",
    "# Word Vectors\n",
    "\n",
    "---\n",
    "\n",
    "### Learning Objectives\n",
    "- Describe word vectors and understand the shortcomings of bag-of-words methods.\n",
    "- Describe word embeddings.\n",
    "- Apply Word2Vec, GloVe, and BERT embedding techniques."
   ]
  },
  {
   "cell_type": "markdown",
   "metadata": {},
   "source": [
    "**We will start by importing what we need for Word2Vec, GloVe, and the transformer models.** (Downloading the pre-trained Word2Vec embeddings can take a while! We are using the [gensim.downloader](https://radimrehurek.com/gensim/auto_examples/howtos/run_downloader_api.html) module for this.)"
   ]
  },
  {
   "cell_type": "code",
   "execution_count": 1,
   "metadata": {},
   "outputs": [],
   "source": [
    "# Install/upgrade Gensim & transformers\n",
    "# !pip install gensim --upgrade\n",
    "# !pip install transformers --upgrade"
   ]
  },
  {
   "cell_type": "code",
   "execution_count": 2,
   "metadata": {},
   "outputs": [],
   "source": [
    "import gensim\n",
    "import gensim.downloader as api\n",
    "from gensim.models.word2vec import Word2Vec\n",
    "from transformers import pipeline"
   ]
  },
  {
   "cell_type": "code",
   "execution_count": 3,
   "metadata": {},
   "outputs": [],
   "source": [
    "# \"text8\" corpus is actually a web scrape of several wikipedia articles\n",
    "corpus = api.load('text8')"
   ]
  },
  {
   "cell_type": "code",
   "execution_count": 4,
   "metadata": {},
   "outputs": [
    {
     "name": "stdout",
     "output_type": "stream",
     "text": [
      "CPU times: user 2min 58s, sys: 2.96 s, total: 3min 1s\n",
      "Wall time: 1min 5s\n"
     ]
    }
   ],
   "source": [
    "%%time\n",
    "model = Word2Vec(corpus)"
   ]
  },
  {
   "cell_type": "markdown",
   "metadata": {},
   "source": [
    "## Word Embeddings"
   ]
  },
  {
   "cell_type": "markdown",
   "metadata": {},
   "source": [
    "### What is a vector?\n",
    "\n",
    "There are lots of ways to think about a vector.\n",
    "\n",
    "<img src=\"../images/vector.png\" alt=\"drawing\" width=\"450\"/>\n",
    "\n",
    "In **physics**, vectors are arrows.\n",
    "\n",
    "<img src=\"../images/vector.jpg\" alt=\"drawing\" width=\"400\"/>\n",
    "\n",
    "In **computer science** and **statistics**, vectors are columns of values, like one numeric Series in a DataFrame.\n",
    "\n",
    "#### It turns out that these are equivalent.\n",
    "\n",
    "<img src=\"../images/vector_on_graph.png\" alt=\"drawing\" width=\"450\"/>\n",
    "\n",
    "[This video](https://www.youtube.com/watch?v=fNk_zzaMoSs) does an exceptional job explaining vectors."
   ]
  },
  {
   "cell_type": "markdown",
   "metadata": {},
   "source": [
    "### So... what is a word vector?\n",
    "\n",
    "A word vector, simply, is a way for us to represent words with vectors."
   ]
  },
  {
   "cell_type": "markdown",
   "metadata": {},
   "source": [
    "<details><summary>How have we technically already done this?</summary>\n",
    "    \n",
    "- CountVectorizer and TFIDFVectorizer. By representing each word as a new column in our DataFrame, we have represented words with vectors.\n",
    "\n",
    "![](../images/countvectorizer.jpeg)\n",
    "</details>"
   ]
  },
  {
   "cell_type": "markdown",
   "metadata": {},
   "source": [
    "To be more precise, we can think of each word as its own dimension or axis. In the example below, we have represented the horizontal axis with a vector for `cat` and the vertical axis with a vecvtor for `hat`.\n",
    "\n",
    "<img src=\"../images/cat_hat.png\" alt=\"drawing\" width=\"400\"/>\n",
    "\n",
    "This is exactly what CountVectorization and TFIDFVectorization have done; we are now just representing it geometrically/visually! Each column in our DataFrame corresponds to a new axis."
   ]
  },
  {
   "cell_type": "markdown",
   "metadata": {},
   "source": [
    "This type of vectorization of words (turning each word into its own column) is known as \"1-of-N encoding.\"\n",
    "\n",
    "<img src=\"../images/one-hot-new.png\" alt=\"drawing\" width=\"400\"/>\n",
    "\n",
    "For example:\n",
    "- the vector for the word `dog` would be [1, 0, 0, 0, 0].\n",
    "- the vector for the word `cat` would be [0, 1, 0, 0, 0].\n",
    "- the vector for the word `puppy` would be [0, 0, 1, 0, 0].\n",
    "- the vector for the word `kitten` would be [0, 0, 0, 1, 0].\n",
    "- the vector for the word `pug` would be [0, 0, 0, 0, 1]."
   ]
  },
  {
   "cell_type": "markdown",
   "metadata": {},
   "source": [
    "All of the above vectors are independent of one another. Thinking purely about language and the way we use it, **should** dog and puppy be independent of one another? **Should** dog and pug be independent of one another?"
   ]
  },
  {
   "cell_type": "markdown",
   "metadata": {},
   "source": [
    "<details><summary>What do you think?</summary>\n",
    "    \n",
    "- Probably not! <br>\n",
    "- Dog and puppy have similar meanings. (Really, only the age is different.) <br>\n",
    "- Dog and cat have similar meanings. (i.e. I know that \"dog\" and \"cat\" are more similar than \"dog\" and \"book\" or \"cat\" and \"car.\") <br>\n",
    "- Our current data science strategy for NLP (CountVectorization, TFIDFVectorization) is good in that it allows us to get computers to understand natural language in a way similar to how humans do... but our current strategy has its limitations because they dont take into account the meaning and the semantic relationships of the words!\n",
    "</details>"
   ]
  },
  {
   "cell_type": "markdown",
   "metadata": {},
   "source": [
    "Rather than creating a whole new dimension each time we encounter a new word and treating it as independent of all other words, can we instead come up with \"new axes\" that allow us to better understand meanings and relationships among words?\n",
    "- YES.\n",
    "\n",
    "**Word embedding** is a term used to describe representing words in mathematical space.\n",
    "- One word embedding technique is CountVectorization.\n",
    "- A more advanced word embedding technique is `Word2Vec`.\n",
    "\n",
    "## Non-contextual Word Embeddings\n",
    "\n",
    "### Word2Vec\n",
    "- Word2Vec is an approach that takes in documents (sentences, tweets, books) and maps them into some other space using a neural network.\n",
    "\n",
    "Going back to our previous example, you can \"think\" of a five-dimensional space. \n",
    "- The horizontal axis corresponds to `dog`.\n",
    "- The vertical axis corresponds to `cat`.\n",
    "- The axis extending out toward you corresponds to `puppy`.\n",
    "- Given that we live in 3D space, we can't really visualize higher dimensions.\n",
    "\n",
    "Instead of giving each word its own axis, the `Word2Vec` algorithm will take all of our words and map them to another set of axes that accounts for these relationships.\n",
    "\n",
    "<img src=\"../images/word-vectors-new.png\" alt=\"drawing\" width=\"350\"/>"
   ]
  },
  {
   "cell_type": "markdown",
   "metadata": {},
   "source": [
    "### Why do we care?\n",
    "The structure of language has a lot of valuable information in it! The way we organize our text/speech tells us a lot about what things mean.\n",
    "\n",
    "By using machine learning to \"learn\" about the structure and content of language, our models can now organize concepts and learn the relationships among them.\n",
    "- Above, we did not explicitly tell the computer what \"dog\" or \"puppy\" or \"cat\" or \"kitten\" actually mean. But by learning from the data, our model can quantify the relationship among these entities!"
   ]
  },
  {
   "cell_type": "markdown",
   "metadata": {},
   "source": [
    "### How does Word2Vec work?\n",
    "\n",
    "#### Basic Answer:\n",
    "The idea is that we can use the position of words in sentences (i.e. see which words were commonly used together) to understand their relationships.\n",
    "- If \"dog\" and \"puppy\" are used near one another a lot, then it suggests that there may be some sort of relationship between them.\n",
    "- If \"cat\" and \"dog\" are used near similar words a lot (i.e. \"pet\"), then it suggests that there may be some sort of relationship between them.\n",
    "\n",
    "#### More Advanced Answer:\n",
    "There are two algorithms that use neural networks to learn these relationships: Continuous Bag-of-Words (CBOW) and Continuous Skip-grams.\n",
    "\n",
    "![](../images/cbow.png)\n",
    "\n",
    "**CBOW (BONUS)**\n",
    "\n",
    "A continuous Bag-of-Words model is a two-layer neural network that:\n",
    "- takes the surrounding \"context words\" as an input.\n",
    "- generates the \"focus word\" as the output.\n",
    "\n",
    "<img src=\"../images/word2vec-cbow.png\" alt=\"drawing\" width=\"400\"/>\n",
    "\n",
    "**Skip-Gram (BONUS)**\n",
    "\n",
    "A Continuous Skip-gram model is a two-layer neural network that:\n",
    "- takes the \"focus word\" as an input.\n",
    "- generates the surrounding \"context words\" as the output.\n",
    "\n",
    "<img src=\"../images/skipgram.png\" alt=\"drawing\" width=\"400\"/>\n",
    "\n",
    "([image source](https://blog.acolyer.org/2016/04/21/the-amazing-power-of-word-vectors/))."
   ]
  },
  {
   "cell_type": "markdown",
   "metadata": {},
   "source": [
    "### Neat application 1: Which of these is not like the other?"
   ]
  },
  {
   "cell_type": "code",
   "execution_count": 5,
   "metadata": {},
   "outputs": [
    {
     "data": {
      "text/plain": [
       "'tiger'"
      ]
     },
     "execution_count": 5,
     "metadata": {},
     "output_type": "execute_result"
    }
   ],
   "source": [
    "model.wv.doesnt_match(['dog', 'fish', 'cat', 'hamster', 'tiger']) "
   ]
  },
  {
   "cell_type": "code",
   "execution_count": 6,
   "metadata": {},
   "outputs": [
    {
     "data": {
      "text/plain": [
       "'hamburger'"
      ]
     },
     "execution_count": 6,
     "metadata": {},
     "output_type": "execute_result"
    }
   ],
   "source": [
    "model.wv.doesnt_match(['taco', 'burrito', 'quesadilla', 'hamburger'])"
   ]
  },
  {
   "cell_type": "code",
   "execution_count": 7,
   "metadata": {},
   "outputs": [
    {
     "data": {
      "text/plain": [
       "'cannes'"
      ]
     },
     "execution_count": 7,
     "metadata": {},
     "output_type": "execute_result"
    }
   ],
   "source": [
    "model.wv.doesnt_match(['london', 'cannes', 'madrid', 'vienna'])"
   ]
  },
  {
   "cell_type": "code",
   "execution_count": 8,
   "metadata": {},
   "outputs": [
    {
     "data": {
      "text/plain": [
       "'angioplasty'"
      ]
     },
     "execution_count": 8,
     "metadata": {},
     "output_type": "execute_result"
    }
   ],
   "source": [
    "model.wv.doesnt_match(['angioplasty', 'appendectomy', 'cabg', 'bronchoscopy'])"
   ]
  },
  {
   "cell_type": "markdown",
   "metadata": {},
   "source": [
    "Try your own and share the most mind-blowing one in a thread.\n",
    "\n",
    "Remember! this Word2Vec model was built on English Wikipedia articles. So it'll only give us good results for words commonly used in English."
   ]
  },
  {
   "cell_type": "markdown",
   "metadata": {},
   "source": [
    "**Real-world application of this**: Suppose you're attempting to automatically detect spam emails or detect plagiarism based on words that don't belong."
   ]
  },
  {
   "cell_type": "markdown",
   "metadata": {},
   "source": [
    "### Neat application 2: What is most alike?"
   ]
  },
  {
   "cell_type": "code",
   "execution_count": 9,
   "metadata": {},
   "outputs": [
    {
     "data": {
      "text/plain": [
       "[('venice', 0.7485226988792419),\n",
       " ('vienna', 0.7282337546348572),\n",
       " ('munich', 0.7180761098861694),\n",
       " ('florence', 0.7144066691398621),\n",
       " ('milan', 0.7003386616706848),\n",
       " ('bologna', 0.693869948387146),\n",
       " ('naples', 0.6786662936210632),\n",
       " ('leipzig', 0.6744407415390015),\n",
       " ('louvre', 0.6663441061973572),\n",
       " ('commune', 0.6589774489402771)]"
      ]
     },
     "execution_count": 9,
     "metadata": {},
     "output_type": "execute_result"
    }
   ],
   "source": [
    "model.wv.most_similar('paris')"
   ]
  },
  {
   "cell_type": "code",
   "execution_count": 10,
   "metadata": {},
   "outputs": [
    {
     "data": {
      "text/plain": [
       "[('capillaries', 0.829849362373352),\n",
       " ('incision', 0.8248257637023926),\n",
       " ('ecdysis', 0.818577766418457),\n",
       " ('telencephalon', 0.8170960545539856),\n",
       " ('diencephalon', 0.8161501884460449),\n",
       " ('trypomastigotes', 0.8157897591590881),\n",
       " ('ureter', 0.8145928978919983),\n",
       " ('ventricles', 0.8142368793487549),\n",
       " ('linea', 0.8083369731903076),\n",
       " ('mesencephalon', 0.807185173034668)]"
      ]
     },
     "execution_count": 10,
     "metadata": {},
     "output_type": "execute_result"
    }
   ],
   "source": [
    "model.wv.most_similar('duodenum')"
   ]
  },
  {
   "cell_type": "code",
   "execution_count": 11,
   "metadata": {},
   "outputs": [
    {
     "data": {
      "text/plain": [
       "[('chloroplasts', 0.8934061527252197),\n",
       " ('organelles', 0.8878923654556274),\n",
       " ('lipids', 0.8729671835899353),\n",
       " ('membranes', 0.8690369725227356),\n",
       " ('eukaryotes', 0.862958550453186),\n",
       " ('proteins', 0.856849730014801),\n",
       " ('archaea', 0.8464524149894714),\n",
       " ('bacteria', 0.8462690114974976),\n",
       " ('eukaryotic', 0.8437764048576355),\n",
       " ('tissues', 0.8424098491668701)]"
      ]
     },
     "execution_count": 11,
     "metadata": {},
     "output_type": "execute_result"
    }
   ],
   "source": [
    "model.wv.most_similar('mitochondria')"
   ]
  },
  {
   "cell_type": "code",
   "execution_count": 12,
   "metadata": {},
   "outputs": [
    {
     "data": {
      "text/plain": [
       "[('safety', 0.689838707447052),\n",
       " ('detention', 0.6786144375801086),\n",
       " ('contraception', 0.6643164157867432),\n",
       " ('monitoring', 0.6616848111152649),\n",
       " ('surveillance', 0.6545013189315796),\n",
       " ('audit', 0.6336339712142944),\n",
       " ('policing', 0.6320809125900269),\n",
       " ('rehabilitation', 0.6223360300064087),\n",
       " ('prevention', 0.621552050113678),\n",
       " ('preparedness', 0.6163565516471863)]"
      ]
     },
     "execution_count": 12,
     "metadata": {},
     "output_type": "execute_result"
    }
   ],
   "source": [
    "model.wv.most_similar('emergency')"
   ]
  },
  {
   "cell_type": "markdown",
   "metadata": {},
   "source": [
    "**Real-world application of this**: Suppose you're building out a process to detect when people are tweeting about an emergency. They may not just use the word \"emergency.\" Rather than manually creating a list of words people could use, you may want to learn from a much larger corpus of data than just your personal experience!"
   ]
  },
  {
   "cell_type": "markdown",
   "metadata": {},
   "source": [
    "## Create Word2Vec word vectors from your own corpus! (BONUS)\n",
    "\n",
    "### NOTE: This will usually take a *long* time!"
   ]
  },
  {
   "cell_type": "code",
   "execution_count": 13,
   "metadata": {},
   "outputs": [],
   "source": [
    "# # Import Word2Vec\n",
    "# from gensim.models.word2vec import Word2Vec\n",
    "\n",
    "# # If you want to use gensim's data, import their downloader\n",
    "# # and load it.\n",
    "# import gensim.downloader as api\n",
    "# corpus = api.load('text8')\n",
    "\n",
    "# # If you have your own iterable corpus of cleaned data, you can \n",
    "# # read it in as corpus and pass that in.\n",
    "\n",
    "# # Train a model! \n",
    "# model = Word2Vec(corpus,      # Corpus of data.\n",
    "#                  size=100,    # How many dimensions do you want in your word vector?\n",
    "#                  window=5,    # How many \"context words\" do you want?\n",
    "#                  min_count=1, # Ignores words below this threshold.\n",
    "#                  sg=0,        # SG = 1 uses SkipGram, SG = 0 uses CBOW (default).\n",
    "#                  workers=4)   # Number of \"worker threads\" to use (parallelizes process).\n",
    "\n",
    "# # Do what you'd like to do with your data!\n",
    "# model.most_similar(\"car\")"
   ]
  },
  {
   "cell_type": "markdown",
   "metadata": {},
   "source": [
    "Check out the documentation for Gensim's implementation of [Word2Vec here](https://radimrehurek.com/gensim/models/word2vec.html#gensim.models.word2vec.Word2Vec)."
   ]
  },
  {
   "cell_type": "markdown",
   "metadata": {},
   "source": [
    "### GloVe\n",
    "\n",
    "GloVe stands for Global Vectors for Word Representation. It is an unsupervised technique that maps words to vector representations where the distance between the vectors represents semantic similarities. Instead of using a neural network like Word2Vec, Glove uses matrix factorization of the word-context co-occurrence matrix which shows us how often pairs of words occur together.\n",
    "\n",
    "\n",
    "Supervised: Features: X, Response: y --> Model\n",
    "\n",
    "Unsupervised: Features: X --> Model"
   ]
  },
  {
   "cell_type": "code",
   "execution_count": 14,
   "metadata": {},
   "outputs": [],
   "source": [
    "model_glove = api.load(\"glove-wiki-gigaword-50\")"
   ]
  },
  {
   "cell_type": "markdown",
   "metadata": {},
   "source": [
    "### Neat application 1: Which of these is not like the other?"
   ]
  },
  {
   "cell_type": "code",
   "execution_count": 15,
   "metadata": {},
   "outputs": [
    {
     "data": {
      "text/plain": [
       "'tiger'"
      ]
     },
     "execution_count": 15,
     "metadata": {},
     "output_type": "execute_result"
    }
   ],
   "source": [
    "model_glove.doesnt_match(['dog', 'fish', 'cat', 'hampster', 'tiger']) "
   ]
  },
  {
   "cell_type": "markdown",
   "metadata": {},
   "source": [
    "### Neat application 2: What is most alike?"
   ]
  },
  {
   "cell_type": "code",
   "execution_count": 16,
   "metadata": {},
   "outputs": [
    {
     "data": {
      "text/plain": [
       "[('plastic', 0.7942506074905396),\n",
       " ('metal', 0.770871639251709),\n",
       " ('walls', 0.7700635194778442),\n",
       " ('marble', 0.7638523578643799),\n",
       " ('wood', 0.7624281048774719),\n",
       " ('ceramic', 0.7602593302726746),\n",
       " ('pieces', 0.7589111328125),\n",
       " ('stained', 0.7528817653656006),\n",
       " ('tile', 0.748193621635437),\n",
       " ('furniture', 0.7463858723640442)]"
      ]
     },
     "execution_count": 16,
     "metadata": {},
     "output_type": "execute_result"
    }
   ],
   "source": [
    "model_glove.most_similar(\"glass\")"
   ]
  },
  {
   "cell_type": "markdown",
   "metadata": {},
   "source": [
    "---\n",
    "## Contextualized/Dynamic Word Embeddings\n",
    "\n",
    "What are some shortcomings of `Word2Vec`? It takes into consideration the meaning of words based on context in the corpus, but what about words with different meanings?\n",
    "\n",
    "How many meanings can you think of for the word \"set\"? This word [holds the record](https://www.guinnessworldrecords.com/world-records/english-word-with-the-most-meanings/) for the most number of meanings in the English language. Even a word like \"apple\" can take on vastly different meanings in today's age. `Word2Vec` assigns one vector for each word.\n",
    "\n",
    "**Dynamic Word Embeddings** overcome this shortcoming by assigning an embedding to each word after looking at the sentence of the words. This means that the same words (e.g. \"apple\" in a sentence about fruit and \"Apple\" in a sentence about computers) can be represented by different vectors based on their contexts. One of the first popular models that did this was called **ELMo**. Another popular one is named **BERT**.\n",
    "\n",
    "<img src=\"../images/bert.png\" alt=\"drawing\" width=\"200\"/>\n",
    "\n",
    "[BERT](https://github.com/google-research/bert) (Bidirectional Encoder Representations from Transformers) was created by Google in late 2018 and continues to outperform other language representation models. It combined ELMo and several other transformers and is fully bidirectional allowing words to have different vectors based on the context of the word.\n",
    "\n",
    "BERT is an example of a Transformer model. The following is from [Wikipedia](https://en.wikipedia.org/wiki/Transformer_(machine_learning_model)):\n",
    "\n",
    "> Like recurrent neural networks (RNNs), Transformers are designed to handle sequential data, such as natural language, for tasks such as translation and text summarization. However, unlike RNNs, Transformers do not require that the sequential data be processed in order. For example, if the input data is a natural language sentence, the Transformer does not need to process the beginning of it before the end. Due to this feature, the Transformer allows for much more parallelization than RNNs and therefore reduced training times.  \n",
    "Since their introduction, Transformers have become the model of choice for tackling many problems in NLP, replacing older recurrent neural network models such as the long short-term memory (LSTM).\n",
    "\n",
    "We will use Hugging Face's [transformers](https://github.com/huggingface/transformers) for this section.\n",
    "\n",
    "Huggingface uses state of the art models under the hood but abstracts away most of the complexity to provide us with very nice easy to use functions. You can find a summary of all tasks it supports out of the box at the [Task Summary](https://huggingface.co/docs/transformers/master/en/task_summary)"
   ]
  },
  {
   "cell_type": "markdown",
   "metadata": {},
   "source": [
    "### Neat application 1: Fill in the blank\n",
    "We will use the BERT model here!"
   ]
  },
  {
   "cell_type": "code",
   "execution_count": 17,
   "metadata": {
    "tags": []
   },
   "outputs": [
    {
     "name": "stderr",
     "output_type": "stream",
     "text": [
      "Some weights of the model checkpoint at bert-base-uncased were not used when initializing BertForMaskedLM: ['cls.seq_relationship.weight', 'cls.seq_relationship.bias']\n",
      "- This IS expected if you are initializing BertForMaskedLM from the checkpoint of a model trained on another task or with another architecture (e.g. initializing a BertForSequenceClassification model from a BertForPreTraining model).\n",
      "- This IS NOT expected if you are initializing BertForMaskedLM from the checkpoint of a model that you expect to be exactly identical (initializing a BertForSequenceClassification model from a BertForSequenceClassification model).\n"
     ]
    }
   ],
   "source": [
    "unmasker = pipeline('fill-mask', model='bert-base-uncased')"
   ]
  },
  {
   "cell_type": "code",
   "execution_count": 18,
   "metadata": {
    "tags": []
   },
   "outputs": [
    {
     "data": {
      "text/plain": [
       "[{'sequence': 'i want to go for a walk in the park',\n",
       "  'score': 0.9612420797348022,\n",
       "  'token': 3328,\n",
       "  'token_str': 'walk'},\n",
       " {'sequence': 'i want to go for a run in the park',\n",
       "  'score': 0.008957411162555218,\n",
       "  'token': 2448,\n",
       "  'token_str': 'run'},\n",
       " {'sequence': 'i want to go for a ride in the park',\n",
       "  'score': 0.006247075740247965,\n",
       "  'token': 4536,\n",
       "  'token_str': 'ride'},\n",
       " {'sequence': 'i want to go for a stroll in the park',\n",
       "  'score': 0.0060236225835978985,\n",
       "  'token': 27244,\n",
       "  'token_str': 'stroll'},\n",
       " {'sequence': 'i want to go for a swim in the park',\n",
       "  'score': 0.004511325620114803,\n",
       "  'token': 9880,\n",
       "  'token_str': 'swim'}]"
      ]
     },
     "execution_count": 18,
     "metadata": {},
     "output_type": "execute_result"
    }
   ],
   "source": [
    "unmasker('I want to go for a [MASK] in the park')"
   ]
  },
  {
   "cell_type": "markdown",
   "metadata": {},
   "source": [
    "### Neat application 2: Sentiment Analysis\n",
    "This was trained on [sst2](https://www.tensorflow.org/datasets/catalog/glue)."
   ]
  },
  {
   "cell_type": "code",
   "execution_count": 19,
   "metadata": {},
   "outputs": [
    {
     "name": "stderr",
     "output_type": "stream",
     "text": [
      "No model was supplied, defaulted to distilbert-base-uncased-finetuned-sst-2-english (https://huggingface.co/distilbert-base-uncased-finetuned-sst-2-english)\n"
     ]
    }
   ],
   "source": [
    "sent = pipeline('sentiment-analysis')"
   ]
  },
  {
   "cell_type": "code",
   "execution_count": 20,
   "metadata": {},
   "outputs": [
    {
     "data": {
      "text/plain": [
       "[{'label': 'NEGATIVE', 'score': 0.9997475743293762}]"
      ]
     },
     "execution_count": 20,
     "metadata": {},
     "output_type": "execute_result"
    }
   ],
   "source": [
    "sent('This was the worst movie ever!')"
   ]
  },
  {
   "cell_type": "code",
   "execution_count": 31,
   "metadata": {},
   "outputs": [
    {
     "data": {
      "text/plain": [
       "[{'label': 'NEGATIVE', 'score': 0.9941306710243225}]"
      ]
     },
     "execution_count": 31,
     "metadata": {},
     "output_type": "execute_result"
    }
   ],
   "source": [
    "sent('This was a bad movie for the most part, some parts were ok')"
   ]
  },
  {
   "cell_type": "code",
   "execution_count": 21,
   "metadata": {},
   "outputs": [
    {
     "data": {
      "text/plain": [
       "[{'label': 'POSITIVE', 'score': 0.9998810291290283}]"
      ]
     },
     "execution_count": 21,
     "metadata": {},
     "output_type": "execute_result"
    }
   ],
   "source": [
    "sent('I love this so much')"
   ]
  },
  {
   "cell_type": "markdown",
   "metadata": {},
   "source": [
    "### Neat application 3: Question Answering\n",
    "This was trained on [SQuAD](https://rajpurkar.github.io/SQuAD-explorer/)."
   ]
  },
  {
   "cell_type": "code",
   "execution_count": 22,
   "metadata": {},
   "outputs": [
    {
     "name": "stderr",
     "output_type": "stream",
     "text": [
      "No model was supplied, defaulted to distilbert-base-cased-distilled-squad (https://huggingface.co/distilbert-base-cased-distilled-squad)\n"
     ]
    }
   ],
   "source": [
    "question = pipeline('question-answering')"
   ]
  },
  {
   "cell_type": "code",
   "execution_count": 23,
   "metadata": {},
   "outputs": [
    {
     "name": "stdout",
     "output_type": "stream",
     "text": [
      "General Assembly is a pioneer in education and career transformation, specializing in today's most in-demand coding, business, data, and design skills. With 30+ campuses around the world, we provide award-winning, dynamic training to a global community of professionals pursuing careers they love. Named one of Fast Company’s most innovative education companies, GA offers full- and part-time courses for career climbers both on campus and online. Through our corporate training programs, we also help companies compete for the future by sourcing, assessing, and growing their talent. All of these offerings are developed and led by industry experts.\n"
     ]
    }
   ],
   "source": [
    "ga = 'General Assembly is a pioneer in education and career transformation, specializing in today\\'s most in-demand coding, business, data, and design skills. With 30+ campuses around the world, we provide award-winning, dynamic training to a global community of professionals pursuing careers they love. Named one of Fast Company’s most innovative education companies, GA offers full- and part-time courses for career climbers both on campus and online. Through our corporate training programs, we also help companies compete for the future by sourcing, assessing, and growing their talent. All of these offerings are developed and led by industry experts.'\n",
    "print(ga)"
   ]
  },
  {
   "cell_type": "code",
   "execution_count": 24,
   "metadata": {},
   "outputs": [
    {
     "data": {
      "text/plain": [
       "{'score': 0.5068288445472717,\n",
       " 'start': 157,\n",
       " 'end': 186,\n",
       " 'answer': '30+ campuses around the world'}"
      ]
     },
     "execution_count": 24,
     "metadata": {},
     "output_type": "execute_result"
    }
   ],
   "source": [
    "question(context = ga, question = 'Where is General Assembly located?')"
   ]
  },
  {
   "cell_type": "code",
   "execution_count": 25,
   "metadata": {},
   "outputs": [
    {
     "data": {
      "text/plain": [
       "{'score': 0.19035604596138,\n",
       " 'start': 99,\n",
       " 'end': 150,\n",
       " 'answer': 'in-demand coding, business, data, and design skills'}"
      ]
     },
     "execution_count": 25,
     "metadata": {},
     "output_type": "execute_result"
    }
   ],
   "source": [
    "question(context = ga, question = 'What can I learn at General Assembly?')"
   ]
  },
  {
   "cell_type": "markdown",
   "metadata": {},
   "source": [
    "### Neat application 4: Summarization\n",
    "By default, this uses a [Bart](https://medium.com/analytics-vidhya/assesing-barts-syntactic-abilities-and-bert-s-part-1-cbf0983f6ea4) model that was trained on CNN/Daily Mail data."
   ]
  },
  {
   "cell_type": "code",
   "execution_count": 26,
   "metadata": {
    "tags": []
   },
   "outputs": [
    {
     "name": "stderr",
     "output_type": "stream",
     "text": [
      "No model was supplied, defaulted to sshleifer/distilbart-cnn-12-6 (https://huggingface.co/sshleifer/distilbart-cnn-12-6)\n"
     ]
    }
   ],
   "source": [
    "summarizer = pipeline('summarization')"
   ]
  },
  {
   "cell_type": "code",
   "execution_count": 27,
   "metadata": {},
   "outputs": [],
   "source": [
    "# https://www.upi.com/Odd_News/2020/10/22/Bear-opens-car-door-climbs-inside-in-Tennessee/9821603398162/\n",
    "news = \"\"\"\n",
    "An Indiana family visiting Tennessee captured video of a black bear wandering up to their unoccupied car, opening a door and climbing inside.\n",
    "The Franczak family said they traveled from Crown Point, Ind., to Sevierville, Tenn., to celebrate a grandmother's birthday. \"One of our bucket list things was to see a bear,\" father Brian Franczak told WBBM-TV.\n",
    "The family said they were shocked, however, when a bear came walking up the driveway of their vacation home and headed for their SUV.\n",
    "\"I just screamed, 'Oh my God! The bear is here! The bear is in the driveway,'\" mom Carly Franczak said.\n",
    "The family captured video as the bear opened a back door of the vehicle and climbed inside.\n",
    "\"I was at go-carts racing and my grandpa got a call about that there's a bear in their car,\" daughter Olivia Franczak said, \"and we couldn't believe it at first. We thought my uncle got dressed up as a bear and went into the car.\"\n",
    "The Tennessee Wildlife Resources Agency recommends residents and visitors keep vehicle doors locked at all times and make sure food and trash are secured where the animals can't reach.\n",
    "\"\"\""
   ]
  },
  {
   "cell_type": "code",
   "execution_count": 28,
   "metadata": {},
   "outputs": [
    {
     "data": {
      "text/plain": [
       "[{'summary_text': \" The Franczak family was visiting Tennessee to celebrate a grandmother's birthday . The family said they were shocked when a bear came walking up to their car . The bear climbed into the vehicle and climbed inside . The Tennessee Wildlife Resources Agency recommends residents and visitors keep vehicle doors locked .\"}]"
      ]
     },
     "execution_count": 28,
     "metadata": {},
     "output_type": "execute_result"
    }
   ],
   "source": [
    "summarizer(news)"
   ]
  },
  {
   "cell_type": "markdown",
   "metadata": {},
   "source": [
    "### Neat application 5: Text Generation\n",
    "Using [GPT-2](https://en.wikipedia.org/wiki/OpenAI#GPT-2)!"
   ]
  },
  {
   "cell_type": "code",
   "execution_count": 29,
   "metadata": {},
   "outputs": [
    {
     "name": "stderr",
     "output_type": "stream",
     "text": [
      "No model was supplied, defaulted to gpt2 (https://huggingface.co/gpt2)\n"
     ]
    }
   ],
   "source": [
    "text_generator = pipeline(\"text-generation\")"
   ]
  },
  {
   "cell_type": "code",
   "execution_count": 30,
   "metadata": {},
   "outputs": [
    {
     "name": "stderr",
     "output_type": "stream",
     "text": [
      "Setting `pad_token_id` to `eos_token_id`:50256 for open-end generation.\n"
     ]
    },
    {
     "data": {
      "text/plain": [
       "[{'generated_text': \"I would like to thank those who have supported me when I am working on this project. Please be respectful to each of us, and the work we do as a community is great. The great thing about the community of game development is that we're\"}]"
      ]
     },
     "execution_count": 30,
     "metadata": {},
     "output_type": "execute_result"
    }
   ],
   "source": [
    "text_generator(\"I would like to\")"
   ]
  },
  {
   "cell_type": "markdown",
   "metadata": {},
   "source": [
    "## (BONUS) Applying this to your data\n",
    "\n",
    "Want to use a pre-trained model on your own text data? Due to hardware and time limitations, we will not do this in class, but below are several tutorials that can walk you through this. Warning: these models take a lot of time/memory - you may need a GPU for this! ([Google Colab offers free use of a GPU!](https://www.tutorialspoint.com/google_colab/google_colab_using_free_gpu.htm))\n",
    "\n",
    "- [Example of BERT in Keras](https://colab.research.google.com/drive/1934Mm2cwSSfT5bvi78-AExAl-hSfxCbq#scrollTo=gsscu_BluPLE)\n",
    "- [BERT tutorial](https://towardsml.com/2019/09/17/bert-explained-a-complete-guide-with-theory-and-tutorial/)\n",
    "- [Predicting movie review sentiment with BERT](https://colab.research.google.com/github/google-research/bert/blob/master/predicting_movie_reviews_with_bert_on_tf_hub.ipynb#scrollTo=dCpvgG0vwXAZ)\n",
    "- [Classification with BERT in PyTorch](https://colab.research.google.com/drive/1ywsvwO6thOVOrfagjjfuxEf6xVRxbUNO)\n",
    "- [Classification with GloVe embeddings](https://medium.com/analytics-vidhya/text-classification-using-word-embeddings-and-deep-learning-in-python-classifying-tweets-from-6fe644fcfc81)\n",
    "- [Using pre-trained word embeddings in Keras](https://blog.keras.io/using-pre-trained-word-embeddings-in-a-keras-model.html)"
   ]
  }
 ],
 "metadata": {
  "kernelspec": {
   "display_name": "Python 3",
   "language": "python",
   "name": "python3"
  },
  "language_info": {
   "codemirror_mode": {
    "name": "ipython",
    "version": 3
   },
   "file_extension": ".py",
   "mimetype": "text/x-python",
   "name": "python",
   "nbconvert_exporter": "python",
   "pygments_lexer": "ipython3",
   "version": "3.8.8"
  }
 },
 "nbformat": 4,
 "nbformat_minor": 4
}
