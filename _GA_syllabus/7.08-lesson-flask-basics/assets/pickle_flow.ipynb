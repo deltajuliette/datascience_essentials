{
 "cells": [
  {
   "cell_type": "markdown",
   "metadata": {},
   "source": [
    "# EZ-Pickle for the Flask Lesson\n",
    "___\n",
    "\n",
    "The `pickle` library allows us to serialize any python object. This saves the object exactly as it sits in our code to an actual file that we can load up later (or even send to someone else). This process can be applied in many ways, it is used here to save a trained model for use later on in another script.\n",
    "\n",
    "Since everything in python is an object, (almost) anything can be serialized."
   ]
  },
  {
   "cell_type": "markdown",
   "metadata": {},
   "source": [
    "**Imports**\n",
    "\n",
    "Pickle is a python built-in! Simply `import pickle` and you are good to go."
   ]
  },
  {
   "cell_type": "code",
   "execution_count": 1,
   "metadata": {},
   "outputs": [],
   "source": [
    "import pickle\n",
    "\n",
    "import pandas as pd, numpy as np\n",
    "from sklearn.linear_model import LinearRegression"
   ]
  },
  {
   "cell_type": "markdown",
   "metadata": {},
   "source": [
    "**Read in data and fit a model**\n",
    "\n",
    "We are fitting a linear regression model on the Ames `train.csv`. This model will power a web form in the flask demo."
   ]
  },
  {
   "cell_type": "code",
   "execution_count": 2,
   "metadata": {},
   "outputs": [
    {
     "name": "stdout",
     "output_type": "stream",
     "text": [
      "The model explains 73.43% of the variance\n",
      "-----\n",
      "Coefficients:\n",
      "{'Overall Qual': 32968.7974, 'Full Bath': 17719.2556, 'Garage Area': 82.6078, 'Lot Area': 1.8704}\n"
     ]
    }
   ],
   "source": [
    "# read in the data\n",
    "df = pd.read_csv('ames.csv')\n",
    "\n",
    "# pick some columns, drop the nulls.\n",
    "good_cols = ['Overall Qual', 'Full Bath', 'Garage Area', 'Lot Area']\n",
    "df.dropna(subset=good_cols, inplace=True)\n",
    "\n",
    "# set up feature matrix and target vector\n",
    "X = df[good_cols]\n",
    "y = df['SalePrice']\n",
    "\n",
    "# instantiate the model\n",
    "model_to_be_pickled = LinearRegression()\n",
    "\n",
    "# fit the model\n",
    "model_to_be_pickled.fit(X,y)\n",
    "\n",
    "# print out the score and coefficients\n",
    "print(f'The model explains {100*model_to_be_pickled.score(X,y):.2f}% of the variance' + '\\n-----\\n' + 'Coefficients:')\n",
    "print(dict(zip(list(X.columns), np.round(model_to_be_pickled.coef_, 4))))"
   ]
  },
  {
   "cell_type": "markdown",
   "metadata": {},
   "source": [
    "**Pickling**  \n",
    "Everything above this was just 'normal' modeling. Now we will actually save the model to a file with the '.p' extension\n",
    "- `open(filename, permissions)`: allows us to write to a file on our computer, can be used in many different ways. \n",
    "- `pickle.dump(object, file)`: serializes an object to an open file. "
   ]
  },
  {
   "cell_type": "code",
   "execution_count": 3,
   "metadata": {},
   "outputs": [],
   "source": [
    "# put the two functions above together, using 'write binary' permissions\n",
    "pickle.dump(model_to_be_pickled, open('model.p', 'wb'))"
   ]
  },
  {
   "cell_type": "markdown",
   "metadata": {},
   "source": [
    "**Check our work**\n",
    "\n",
    "Let's read in our model and check the score/coefficients.\n",
    "- `pickle.load(file)`: de-serializes the stored object back into a variable"
   ]
  },
  {
   "cell_type": "code",
   "execution_count": 4,
   "metadata": {},
   "outputs": [
    {
     "name": "stdout",
     "output_type": "stream",
     "text": [
      "The model explains 73.43% of the variance\n",
      "-----\n",
      "Coefficients:\n",
      "{'Overall Qual': 32968.7974, 'Full Bath': 17719.2556, 'Garage Area': 82.6078, 'Lot Area': 1.8704}\n"
     ]
    }
   ],
   "source": [
    "# use the above function with open() and 'read binary' permissions to get our model back\n",
    "model_that_was_pickled = pickle.load(open('model.p', 'rb'))\n",
    "\n",
    "print(f'The model explains {100*model_that_was_pickled.score(X,y):.2f}% of the variance' + '\\n-----\\n' + 'Coefficients:')\n",
    "print(dict(zip(list(X.columns), np.round(model_that_was_pickled.coef_, 4))))"
   ]
  },
  {
   "cell_type": "markdown",
   "metadata": {},
   "source": [
    "Nice"
   ]
  }
 ],
 "metadata": {
  "kernelspec": {
   "display_name": "Python 3",
   "language": "python",
   "name": "python3"
  },
  "language_info": {
   "codemirror_mode": {
    "name": "ipython",
    "version": 3
   },
   "file_extension": ".py",
   "mimetype": "text/x-python",
   "name": "python",
   "nbconvert_exporter": "python",
   "pygments_lexer": "ipython3",
   "version": "3.7.3"
  }
 },
 "nbformat": 4,
 "nbformat_minor": 2
}
