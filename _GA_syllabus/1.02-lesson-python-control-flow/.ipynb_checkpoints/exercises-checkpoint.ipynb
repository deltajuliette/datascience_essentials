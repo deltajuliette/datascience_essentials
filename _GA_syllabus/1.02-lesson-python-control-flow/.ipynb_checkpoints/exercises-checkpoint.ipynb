{
 "cells": [
  {
   "cell_type": "markdown",
   "metadata": {},
   "source": [
    "<img src=\"http://imgur.com/1ZcRyrc.png\" style=\"float: left; margin: 20px; height: 55px\">\n",
    "\n",
    "# Python Iteration and Control Flow Exercises\n",
    "\n",
    "_Author: Tim Book_"
   ]
  },
  {
   "cell_type": "markdown",
   "metadata": {},
   "source": [
    "## Exercise 1: Loud Animals\n",
    "Given a list of animals, print them all out in caps lock."
   ]
  },
  {
   "cell_type": "code",
   "execution_count": 5,
   "metadata": {},
   "outputs": [
    {
     "data": {
      "text/plain": [
       "['DOG', 'CAT', 'FISH', 'BAT', 'BIRD']"
      ]
     },
     "execution_count": 5,
     "metadata": {},
     "output_type": "execute_result"
    }
   ],
   "source": [
    "animals = ['dog', 'cat', 'fish', 'bat', 'bird']\n",
    "for i in range(0,len(animals)):\n",
    "    animals[i] = animals[i].upper()\n",
    "animals"
   ]
  },
  {
   "cell_type": "markdown",
   "metadata": {},
   "source": [
    "## Exercise 2: Divisors\n",
    "Given an integer, assemble a list of all its divisors."
   ]
  },
  {
   "cell_type": "code",
   "execution_count": 8,
   "metadata": {},
   "outputs": [
    {
     "data": {
      "text/plain": [
       "[1, 3, 17]"
      ]
     },
     "execution_count": 8,
     "metadata": {},
     "output_type": "execute_result"
    }
   ],
   "source": [
    "integer = 51\n",
    "divisors_list =[]\n",
    "for i in range(1, integer):\n",
    "    if integer % i == 0:\n",
    "        divisors_list.append(i)\n",
    "divisors_list"
   ]
  },
  {
   "cell_type": "markdown",
   "metadata": {},
   "source": [
    "## Exercise 3: Factorials\n",
    "Given a number, compute its factorial.\n",
    "\n",
    "_(Note: The factorial of a number $n$ is the product of all numbers $1, \\dots, n$.)_\n",
    "\n",
    "For example:\n",
    "\n",
    "$$5! = 1 \\times 2 \\times 3 \\times 4 \\times 5 = 120$$"
   ]
  },
  {
   "cell_type": "code",
   "execution_count": 16,
   "metadata": {},
   "outputs": [
    {
     "data": {
      "text/plain": [
       "120"
      ]
     },
     "execution_count": 16,
     "metadata": {},
     "output_type": "execute_result"
    }
   ],
   "source": [
    "number = 5\n",
    "answer = 1\n",
    "for i in range(1, (number+1)):\n",
    "    answer *= i\n",
    "answer"
   ]
  },
  {
   "cell_type": "markdown",
   "metadata": {},
   "source": [
    "## Exercise 4: Vowel Counter\n",
    "Given a string, count the number of vowels in it.\n",
    "_(Note: If you loop through a string, you will loop through the characters in that string.)_"
   ]
  },
  {
   "cell_type": "code",
   "execution_count": 27,
   "metadata": {},
   "outputs": [
    {
     "data": {
      "text/plain": [
       "4"
      ]
     },
     "execution_count": 27,
     "metadata": {},
     "output_type": "execute_result"
    }
   ],
   "source": [
    "string = \"Liverpool\"\n",
    "vowels = [\"a\", \"e\", \"i\", \"o\", \"u\"]\n",
    "\n",
    "count = 0\n",
    "for i in range(0,len(string)):\n",
    "    if string[i] in vowels:\n",
    "        count += 1\n",
    "count"
   ]
  },
  {
   "cell_type": "markdown",
   "metadata": {},
   "source": [
    "## Exercise 5: FizzBuzz\n",
    "Loop through all the numbers 1 to 100, playing the game \"FizzBuzz\". Here's how to play:\n",
    "\n",
    "* If a number is divisible by 3, print \"fizz\"\n",
    "* If a number is divisible by 5, print \"buzz\"\n",
    "* If it's divisible by BOTH 3 and 5, print \"fizzbuzz\"\n",
    "* If it's divisible by NEITHER 3 nor 5, print the numbers"
   ]
  },
  {
   "cell_type": "code",
   "execution_count": 31,
   "metadata": {},
   "outputs": [
    {
     "name": "stdout",
     "output_type": "stream",
     "text": [
      "1\n",
      "2\n",
      "fuzz\n",
      "4\n",
      "buzz\n",
      "fuzz\n",
      "7\n",
      "8\n",
      "fuzz\n",
      "buzz\n",
      "11\n",
      "fuzz\n",
      "13\n",
      "14\n",
      "fuzz\n",
      "16\n",
      "17\n",
      "fuzz\n",
      "19\n",
      "buzz\n",
      "fuzz\n",
      "22\n",
      "23\n",
      "fuzz\n",
      "buzz\n",
      "26\n",
      "fuzz\n",
      "28\n",
      "29\n",
      "fuzz\n",
      "31\n",
      "32\n",
      "fuzz\n",
      "34\n",
      "buzz\n",
      "fuzz\n",
      "37\n",
      "38\n",
      "fuzz\n",
      "buzz\n",
      "41\n",
      "fuzz\n",
      "43\n",
      "44\n",
      "fuzz\n",
      "46\n",
      "47\n",
      "fuzz\n",
      "49\n",
      "buzz\n",
      "fuzz\n",
      "52\n",
      "53\n",
      "fuzz\n",
      "buzz\n",
      "56\n",
      "fuzz\n",
      "58\n",
      "59\n",
      "fuzz\n",
      "61\n",
      "62\n",
      "fuzz\n",
      "64\n",
      "buzz\n",
      "fuzz\n",
      "67\n",
      "68\n",
      "fuzz\n",
      "buzz\n",
      "71\n",
      "fuzz\n",
      "73\n",
      "74\n",
      "fuzz\n",
      "76\n",
      "77\n",
      "fuzz\n",
      "79\n",
      "buzz\n",
      "fuzz\n",
      "82\n",
      "83\n",
      "fuzz\n",
      "buzz\n",
      "86\n",
      "fuzz\n",
      "88\n",
      "89\n",
      "fuzz\n",
      "91\n",
      "92\n",
      "fuzz\n",
      "94\n",
      "buzz\n",
      "fuzz\n",
      "97\n",
      "98\n",
      "fuzz\n",
      "buzz\n"
     ]
    }
   ],
   "source": [
    "for i in range(1, 101):\n",
    "    if i % 3 == 0:\n",
    "        print(\"fuzz\")\n",
    "    elif i % 5 == 0:\n",
    "        print(\"buzz\")\n",
    "    elif i % 3 == 0 and i % 5 == 0:\n",
    "        print(\"fizzbuzz\")\n",
    "    elif i % 3 != 0 and i % 5 != 0:\n",
    "        print(i)"
   ]
  },
  {
   "cell_type": "code",
   "execution_count": null,
   "metadata": {},
   "outputs": [],
   "source": []
  }
 ],
 "metadata": {
  "kernelspec": {
   "display_name": "Python 3",
   "language": "python",
   "name": "python3"
  },
  "language_info": {
   "codemirror_mode": {
    "name": "ipython",
    "version": 3
   },
   "file_extension": ".py",
   "mimetype": "text/x-python",
   "name": "python",
   "nbconvert_exporter": "python",
   "pygments_lexer": "ipython3",
   "version": "3.8.8"
  }
 },
 "nbformat": 4,
 "nbformat_minor": 1
}
