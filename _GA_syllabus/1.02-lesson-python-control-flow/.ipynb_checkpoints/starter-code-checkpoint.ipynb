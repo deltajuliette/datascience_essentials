{
 "cells": [
  {
   "cell_type": "markdown",
   "metadata": {},
   "source": [
    "<img src=\"http://imgur.com/1ZcRyrc.png\" style=\"float: left; margin: 20px; height: 55px\">\n",
    "\n",
    "# Python Iteration and Control Flow\n",
    "\n",
    "_Author: Tim Book_\n",
    "\n",
    "---\n",
    "\n",
    "\n",
    "\n",
    "### Learning Objectives\n",
    " \n",
    "- Explore `Python` control flow and conditional programming.  \n",
    "- Apply `if-else` conditional statements.\n",
    "- Explore looping with Python's `for` and `while` loop structures.\n",
    "- Combine control flow and conditional statements to solve the classic \"FizzBuzz\" code challenge.\n",
    "\n",
    "Time permitting:\n",
    "- Demonstrate error-handling using `try, except` statements."
   ]
  },
  {
   "cell_type": "markdown",
   "metadata": {},
   "source": [
    "## What is control flow?\n",
    "\n",
    "Up until now, our Python \"programs\" have been very boring. No pieces of logic have spanned more than one line, and our code was always run top-to-bottom. This is rarely how real code works.\n",
    "\n",
    "* Often we only want a line of code to be run _**sometimes**_. (conditionals!)\n",
    "* Often we want a line of code to run _**many times in a row**_. (loops!)\n",
    "* Often we want to bottle up complex pieces of code and run it _**many times throughout our code, a little different each time, without having to rewrite the whole thing.**_ (functions... tomorrow)"
   ]
  },
  {
   "cell_type": "markdown",
   "metadata": {},
   "source": [
    "<a id='if_else_statements'></a>\n",
    "## Conditional Statements\n",
    "\n",
    "![](imgs/broccoli.jpg)\n",
    "\n",
    "We'll use an `if` statement if we want some code to only run if a certain condition is true.\n",
    "\n",
    "**Conundrum:** You can only have ice cream if you finish your broccoli!"
   ]
  },
  {
   "cell_type": "code",
   "execution_count": 1,
   "metadata": {},
   "outputs": [
    {
     "name": "stdout",
     "output_type": "stream",
     "text": [
      "Time for ice cream mate\n"
     ]
    }
   ],
   "source": [
    "broccoli_finished = True\n",
    "if broccoli_finished: #Assumes broccoli_finished == True (Default)\n",
    "    print('Time for ice cream mate')\n",
    "else:\n",
    "    print('Finish ittt')"
   ]
  },
  {
   "cell_type": "markdown",
   "metadata": {},
   "source": [
    "## Did you finish your broccoli?\n",
    "<details>\n",
    "    <summary>Click to reveal your reward:</summary>\n",
    "    <img src=\"imgs/ice-cream.jpg\">\n",
    "</details>"
   ]
  },
  {
   "cell_type": "markdown",
   "metadata": {},
   "source": [
    "## Now You: Health Test\n",
    "\n",
    "Suppose you are processing the results of a health test. The test is scored from 0 to 100, where 100 is perfect health.\n",
    "\n",
    "If the person's health is above 70, print something encouraging. Otherwise, print \"Go to the doctor, now!\""
   ]
  },
  {
   "cell_type": "code",
   "execution_count": 24,
   "metadata": {},
   "outputs": [
    {
     "name": "stdout",
     "output_type": "stream",
     "text": [
      "Go to the doctor now!\n"
     ]
    }
   ],
   "source": [
    "health = 60\n",
    "\n",
    "# TODO: Your if/elif/else statement here!\n",
    "if health == 100:\n",
    "    print('You are in perfect health')\n",
    "elif health > 70:\n",
    "    print('You are in good health')\n",
    "else:\n",
    "    print('Go to the doctor now!')"
   ]
  },
  {
   "cell_type": "markdown",
   "metadata": {},
   "source": [
    "## Loopin'\n",
    "\n",
    "![](imgs/loops.jpg)\n",
    "\n",
    "There are a few types of loops in Python. Today we'll tackle `for` and `while` loops.\n",
    "\n",
    "We'll write a `for` loop to loop through some iterable (like a list) and do something for each element."
   ]
  },
  {
   "cell_type": "code",
   "execution_count": 31,
   "metadata": {},
   "outputs": [
    {
     "name": "stdout",
     "output_type": "stream",
     "text": [
      "Hello, Noelle\n",
      "Hello, Riley\n",
      "Hello, Dan\n"
     ]
    }
   ],
   "source": [
    "names = ['Noelle', 'Riley', 'Dan']\n",
    "\n",
    "# Default\n",
    "for i in names:\n",
    "    print(f'Hello, {i}')"
   ]
  },
  {
   "cell_type": "markdown",
   "metadata": {},
   "source": [
    "You can also loop through sequences of numbers with the `range()` function."
   ]
  },
  {
   "cell_type": "code",
   "execution_count": 27,
   "metadata": {},
   "outputs": [
    {
     "name": "stdout",
     "output_type": "stream",
     "text": [
      "Hello, Noelle\n",
      "Hello, Riley\n",
      "Hello, Dan\n"
     ]
    }
   ],
   "source": [
    "# Range\n",
    "for i in range(0,3):\n",
    "    print(f'Hello, {names[i]}')"
   ]
  },
  {
   "cell_type": "markdown",
   "metadata": {},
   "source": [
    "### Now you:"
   ]
  },
  {
   "cell_type": "code",
   "execution_count": 32,
   "metadata": {},
   "outputs": [],
   "source": [
    "# THREAD: Write a loop that prints all of the EVEN numbers between 10 and 20 (inclusive).\n",
    "# (There are two good answers to this!)"
   ]
  },
  {
   "cell_type": "code",
   "execution_count": 22,
   "metadata": {},
   "outputs": [
    {
     "data": {
      "text/plain": [
       "[10, 12, 14, 16, 18, 20]"
      ]
     },
     "execution_count": 22,
     "metadata": {},
     "output_type": "execute_result"
    }
   ],
   "source": [
    "# Answer 1:\n",
    "full_list = []\n",
    "for i in range(10,21):\n",
    "    full_list.append(i)\n",
    "\n",
    "full_list[::2] #Without printing individual numbers"
   ]
  },
  {
   "cell_type": "code",
   "execution_count": 23,
   "metadata": {},
   "outputs": [
    {
     "data": {
      "text/plain": [
       "[10, 12, 14, 16, 18, 20]"
      ]
     },
     "execution_count": 23,
     "metadata": {},
     "output_type": "execute_result"
    }
   ],
   "source": [
    "# Answer 2:\n",
    "full_list2 = []\n",
    "for x in range(10,21):\n",
    "    if x % 2 == 0:\n",
    "        full_list2.append(x)\n",
    "\n",
    "full_list2 #Without printing individual numbers"
   ]
  },
  {
   "cell_type": "markdown",
   "metadata": {},
   "source": [
    "## Aside: Strange Loops!\n",
    "You can also loop through more exotic objects that take advantage of _tuple unpacking!_ We won't see this very often, but when we do, it'll be really handy."
   ]
  },
  {
   "cell_type": "code",
   "execution_count": 28,
   "metadata": {},
   "outputs": [
    {
     "name": "stdout",
     "output_type": "stream",
     "text": [
      "Zebra is a type of mammal.\n",
      "Tuna is a type of fish.\n",
      "Python is a type of reptile.\n",
      "Panda is a type of mammal.\n",
      "Frog is a type of amphibian.\n"
     ]
    }
   ],
   "source": [
    "animals = [\n",
    "    ('zebra', 'mammal'),\n",
    "    ('tuna', 'fish'),\n",
    "    ('python', 'reptile'),\n",
    "    ('panda', 'mammal'),\n",
    "    ('frog', 'amphibian')\n",
    "]\n",
    "\n",
    "# title() -> Python string method to convert from first char in each word to Uppercase and remaining characters to Lowercase\n",
    "\n",
    "for animal, aclass in animals:\n",
    "    print(f'{animal.title()} is a type of {aclass}.')"
   ]
  },
  {
   "cell_type": "code",
   "execution_count": 29,
   "metadata": {},
   "outputs": [
    {
     "name": "stdout",
     "output_type": "stream",
     "text": [
      "Zebra is a type of mammal.\n",
      "Tuna is a type of fish.\n",
      "Python is a type of reptile.\n",
      "Panda is a type of mammal.\n",
      "Frog is a type of amphibian.\n"
     ]
    }
   ],
   "source": [
    "animals = {\n",
    "    'zebra': 'mammal',\n",
    "    'tuna': 'fish',\n",
    "    'python': 'reptile',\n",
    "    'panda': 'mammal',\n",
    "    'frog': 'amphibian'\n",
    "}\n",
    "\n",
    "for animal, aclass in animals.items():\n",
    "    print(f'{animal.title()} is a type of {aclass}.')"
   ]
  },
  {
   "cell_type": "markdown",
   "metadata": {},
   "source": [
    "###  While Loops\n",
    "Less common than `for` loops, while loops run until some condition is _not_ met. They're useful for when you don't know how long a loop should run for."
   ]
  },
  {
   "cell_type": "code",
   "execution_count": 33,
   "metadata": {},
   "outputs": [
    {
     "name": "stdout",
     "output_type": "stream",
     "text": [
      "0\n",
      "1\n",
      "2\n",
      "3\n",
      "4\n",
      "5\n"
     ]
    }
   ],
   "source": [
    "x = 0\n",
    "while x < 6:\n",
    "    print(x)\n",
    "    x += 1"
   ]
  },
  {
   "cell_type": "code",
   "execution_count": null,
   "metadata": {},
   "outputs": [],
   "source": [
    "# Infinite loop?!\n",
    "# x = 0\n",
    "# while x < 6:\n",
    "#     x = (x + 1) % 6    # what does this do?"
   ]
  },
  {
   "cell_type": "code",
   "execution_count": 34,
   "metadata": {},
   "outputs": [
    {
     "name": "stdout",
     "output_type": "stream",
     "text": [
      "This loop has run for 1 iterations\n",
      "This loop has run for 2 iterations\n",
      "This loop has run for 3 iterations\n",
      "This loop has run for 4 iterations\n",
      "This loop has run for 5 iterations\n",
      "This loop has run for 6 iterations\n",
      "This loop has run for 7 iterations\n",
      "This loop has run for 8 iterations\n",
      "This loop has run for 9 iterations\n"
     ]
    }
   ],
   "source": [
    "import random # Python's in-built module that can be called to generate random numbers\n",
    "\n",
    "n_iters = 0\n",
    "r = 1\n",
    "while r > 0.1:\n",
    "    n_iters += 1\n",
    "    print(f'This loop has run for {n_iters} iterations')\n",
    "    r = random.random()"
   ]
  },
  {
   "cell_type": "markdown",
   "metadata": {},
   "source": [
    "## Error Handling\n",
    "Sometimes, you might actually expect for your program to fail! We can account for this using `try` and `except` clauses."
   ]
  },
  {
   "cell_type": "code",
   "execution_count": 35,
   "metadata": {},
   "outputs": [
    {
     "name": "stdout",
     "output_type": "stream",
     "text": [
      "Here I go, dividing by zero...\n",
      "Stop this rubbish, you cannot divide by 0!\n"
     ]
    }
   ],
   "source": [
    "# 1/0 -> Division by zero error; Try and except are usually a combo\n",
    "\n",
    "try:\n",
    "    print('Here I go, dividing by zero...')\n",
    "    1 / 0\n",
    "    print('Oh no, a black hole!!')\n",
    "except:\n",
    "    print(\"Stop this rubbish, you cannot divide by 0!\")"
   ]
  },
  {
   "cell_type": "code",
   "execution_count": 36,
   "metadata": {},
   "outputs": [
    {
     "name": "stdout",
     "output_type": "stream",
     "text": [
      "Initiating subtraction\n",
      "Wrong datatype, mate\n"
     ]
    }
   ],
   "source": [
    "# 'a' - 'b' -> Wrong datatypes\n",
    "\n",
    "try:\n",
    "    print(\"Initiating subtraction\")\n",
    "    'a' - 'b'\n",
    "    print(\"All good mate\")\n",
    "except:\n",
    "    print(\"Wrong datatype, mate\")"
   ]
  },
  {
   "cell_type": "code",
   "execution_count": null,
   "metadata": {},
   "outputs": [],
   "source": []
  },
  {
   "cell_type": "markdown",
   "metadata": {},
   "source": [
    "## What did we do today?\n",
    "- Learned how to _control the flow_ of our program.\n",
    "- `if`/`elif`/`else` conditional statements.\n",
    "- `for` and `while` loops.\n",
    "- Error handling with `try`/`except`."
   ]
  },
  {
   "cell_type": "markdown",
   "metadata": {},
   "source": [
    "## Further resources\n",
    "- [Automate the Boring Stuff with Python](https://automatetheboringstuff.com)\n",
    "- The `exercises.ipynb` notebook in this repo! Actually, let's go there now!"
   ]
  }
 ],
 "metadata": {
  "kernelspec": {
   "display_name": "Python 3",
   "language": "python",
   "name": "python3"
  },
  "language_info": {
   "codemirror_mode": {
    "name": "ipython",
    "version": 3
   },
   "file_extension": ".py",
   "mimetype": "text/x-python",
   "name": "python",
   "nbconvert_exporter": "python",
   "pygments_lexer": "ipython3",
   "version": "3.8.8"
  }
 },
 "nbformat": 4,
 "nbformat_minor": 4
}
