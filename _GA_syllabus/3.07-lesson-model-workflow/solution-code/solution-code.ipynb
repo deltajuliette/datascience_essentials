{
 "cells": [
  {
   "cell_type": "markdown",
   "metadata": {},
   "source": [
    "<img src=\"http://imgur.com/1ZcRyrc.png\" style=\"float: left; margin: 20px; height: 55px\">\n",
    "\n",
    "# Modeling Walkthrough\n",
    "\n",
    "_Authors: Riley Dallas (AUS)_\n",
    "\n",
    "---\n",
    "\n",
    "### Learning Objectives\n",
    "*After this lesson, you will be able to:*\n",
    "\n",
    "- Gather, clean, explore and model a dataset from scratch. \n",
    "    - In other words, familiarize with the end-to-end workflow of getting from data to insights.\n",
    "- Split data into testing and training sets using both train/test split and cross-validation and apply both techniques to score a model.\n",
    "- Evaluate several models. \n",
    "    - If you recall, up until now, we were only evaluating one model at a time. As a Data Scientist, you're almost always evaluating multiple models and choosing the best one.\n",
    "\n",
    "In a nut shell, this lesson will recap a lot of our previous separate lessons for revision of concepts and application under one roof. "
   ]
  },
  {
   "cell_type": "markdown",
   "metadata": {},
   "source": [
    "## Importing libaries\n",
    "---\n",
    "\n",
    "We'll need the following libraries for today's lesson:\n",
    "\n",
    "1. `pandas`\n",
    "2. `numpy`\n",
    "3. `seaborn`\n",
    "4. `matplotlib.pyplot`\n",
    "4. `train_test_split` and `cross_val_score` from `sklearn`'s `model_selection` module\n",
    "5. `LinearRegression`, `LassoCV` and `RidgeCV` from `sklearn`'s `linear_model` module\n",
    "6. `StandardScaler` from `sklearn`'s `preprocessing` module\n",
    "7. `r2_score` from `sklearn`'s `metrics` module "
   ]
  },
  {
   "cell_type": "code",
   "execution_count": 1,
   "metadata": {},
   "outputs": [],
   "source": [
    "# imports\n",
    "import pandas as pd\n",
    "import numpy as np\n",
    "import seaborn as sns\n",
    "import matplotlib.pyplot as plt\n",
    "from sklearn.linear_model import LinearRegression, LassoCV, RidgeCV\n",
    "from sklearn.preprocessing import StandardScaler\n",
    "from sklearn.model_selection import train_test_split, cross_val_score, cross_val_predict\n",
    "from sklearn.metrics import r2_score"
   ]
  },
  {
   "cell_type": "markdown",
   "metadata": {},
   "source": [
    "## Loading the Data\n",
    "\n",
    "---\n",
    "\n",
    "Today's [dataset](http://www-bcf.usc.edu/~gareth/ISL/data.html) (`College.csv`) is from the [ISLR website](http://www-bcf.usc.edu/~gareth/ISL/). \n",
    "\n",
    "***<span style=\"color:blue\">Task</span>***: Rename `Unnamed: 0` to `University`."
   ]
  },
  {
   "cell_type": "code",
   "execution_count": 2,
   "metadata": {},
   "outputs": [
    {
     "name": "stdout",
     "output_type": "stream",
     "text": [
      "(777, 19)\n"
     ]
    },
    {
     "data": {
      "text/html": [
       "<div>\n",
       "<style scoped>\n",
       "    .dataframe tbody tr th:only-of-type {\n",
       "        vertical-align: middle;\n",
       "    }\n",
       "\n",
       "    .dataframe tbody tr th {\n",
       "        vertical-align: top;\n",
       "    }\n",
       "\n",
       "    .dataframe thead th {\n",
       "        text-align: right;\n",
       "    }\n",
       "</style>\n",
       "<table border=\"1\" class=\"dataframe\">\n",
       "  <thead>\n",
       "    <tr style=\"text-align: right;\">\n",
       "      <th></th>\n",
       "      <th>University</th>\n",
       "      <th>Private</th>\n",
       "      <th>Apps</th>\n",
       "      <th>Accept</th>\n",
       "      <th>Enroll</th>\n",
       "      <th>Top10perc</th>\n",
       "      <th>Top25perc</th>\n",
       "      <th>F.Undergrad</th>\n",
       "      <th>P.Undergrad</th>\n",
       "      <th>Outstate</th>\n",
       "      <th>Room.Board</th>\n",
       "      <th>Books</th>\n",
       "      <th>Personal</th>\n",
       "      <th>PhD</th>\n",
       "      <th>Terminal</th>\n",
       "      <th>S.F.Ratio</th>\n",
       "      <th>perc.alumni</th>\n",
       "      <th>Expend</th>\n",
       "      <th>Grad.Rate</th>\n",
       "    </tr>\n",
       "  </thead>\n",
       "  <tbody>\n",
       "    <tr>\n",
       "      <th>0</th>\n",
       "      <td>Abilene Christian University</td>\n",
       "      <td>Yes</td>\n",
       "      <td>1660</td>\n",
       "      <td>1232</td>\n",
       "      <td>721</td>\n",
       "      <td>23</td>\n",
       "      <td>52</td>\n",
       "      <td>2885</td>\n",
       "      <td>537</td>\n",
       "      <td>7440</td>\n",
       "      <td>3300</td>\n",
       "      <td>450</td>\n",
       "      <td>2200</td>\n",
       "      <td>70</td>\n",
       "      <td>78</td>\n",
       "      <td>18.1</td>\n",
       "      <td>12</td>\n",
       "      <td>7041</td>\n",
       "      <td>60</td>\n",
       "    </tr>\n",
       "    <tr>\n",
       "      <th>1</th>\n",
       "      <td>Adelphi University</td>\n",
       "      <td>Yes</td>\n",
       "      <td>2186</td>\n",
       "      <td>1924</td>\n",
       "      <td>512</td>\n",
       "      <td>16</td>\n",
       "      <td>29</td>\n",
       "      <td>2683</td>\n",
       "      <td>1227</td>\n",
       "      <td>12280</td>\n",
       "      <td>6450</td>\n",
       "      <td>750</td>\n",
       "      <td>1500</td>\n",
       "      <td>29</td>\n",
       "      <td>30</td>\n",
       "      <td>12.2</td>\n",
       "      <td>16</td>\n",
       "      <td>10527</td>\n",
       "      <td>56</td>\n",
       "    </tr>\n",
       "    <tr>\n",
       "      <th>2</th>\n",
       "      <td>Adrian College</td>\n",
       "      <td>Yes</td>\n",
       "      <td>1428</td>\n",
       "      <td>1097</td>\n",
       "      <td>336</td>\n",
       "      <td>22</td>\n",
       "      <td>50</td>\n",
       "      <td>1036</td>\n",
       "      <td>99</td>\n",
       "      <td>11250</td>\n",
       "      <td>3750</td>\n",
       "      <td>400</td>\n",
       "      <td>1165</td>\n",
       "      <td>53</td>\n",
       "      <td>66</td>\n",
       "      <td>12.9</td>\n",
       "      <td>30</td>\n",
       "      <td>8735</td>\n",
       "      <td>54</td>\n",
       "    </tr>\n",
       "    <tr>\n",
       "      <th>3</th>\n",
       "      <td>Agnes Scott College</td>\n",
       "      <td>Yes</td>\n",
       "      <td>417</td>\n",
       "      <td>349</td>\n",
       "      <td>137</td>\n",
       "      <td>60</td>\n",
       "      <td>89</td>\n",
       "      <td>510</td>\n",
       "      <td>63</td>\n",
       "      <td>12960</td>\n",
       "      <td>5450</td>\n",
       "      <td>450</td>\n",
       "      <td>875</td>\n",
       "      <td>92</td>\n",
       "      <td>97</td>\n",
       "      <td>7.7</td>\n",
       "      <td>37</td>\n",
       "      <td>19016</td>\n",
       "      <td>59</td>\n",
       "    </tr>\n",
       "    <tr>\n",
       "      <th>4</th>\n",
       "      <td>Alaska Pacific University</td>\n",
       "      <td>Yes</td>\n",
       "      <td>193</td>\n",
       "      <td>146</td>\n",
       "      <td>55</td>\n",
       "      <td>16</td>\n",
       "      <td>44</td>\n",
       "      <td>249</td>\n",
       "      <td>869</td>\n",
       "      <td>7560</td>\n",
       "      <td>4120</td>\n",
       "      <td>800</td>\n",
       "      <td>1500</td>\n",
       "      <td>76</td>\n",
       "      <td>72</td>\n",
       "      <td>11.9</td>\n",
       "      <td>2</td>\n",
       "      <td>10922</td>\n",
       "      <td>15</td>\n",
       "    </tr>\n",
       "  </tbody>\n",
       "</table>\n",
       "</div>"
      ],
      "text/plain": [
       "                     University Private  Apps  Accept  Enroll  Top10perc  \\\n",
       "0  Abilene Christian University     Yes  1660    1232     721         23   \n",
       "1            Adelphi University     Yes  2186    1924     512         16   \n",
       "2                Adrian College     Yes  1428    1097     336         22   \n",
       "3           Agnes Scott College     Yes   417     349     137         60   \n",
       "4     Alaska Pacific University     Yes   193     146      55         16   \n",
       "\n",
       "   Top25perc  F.Undergrad  P.Undergrad  Outstate  Room.Board  Books  Personal  \\\n",
       "0         52         2885          537      7440        3300    450      2200   \n",
       "1         29         2683         1227     12280        6450    750      1500   \n",
       "2         50         1036           99     11250        3750    400      1165   \n",
       "3         89          510           63     12960        5450    450       875   \n",
       "4         44          249          869      7560        4120    800      1500   \n",
       "\n",
       "  PhD  Terminal  S.F.Ratio  perc.alumni  Expend  Grad.Rate  \n",
       "0  70        78       18.1           12    7041         60  \n",
       "1  29        30       12.2           16   10527         56  \n",
       "2  53        66       12.9           30    8735         54  \n",
       "3  92        97        7.7           37   19016         59  \n",
       "4  76        72       11.9            2   10922         15  "
      ]
     },
     "execution_count": 2,
     "metadata": {},
     "output_type": "execute_result"
    }
   ],
   "source": [
    "df = pd.read_csv('../datasets/College.csv')\n",
    "df.rename(columns={'Unnamed: 0': 'University'}, inplace=True)\n",
    "print(df.shape)\n",
    "df.head()"
   ]
  },
  {
   "cell_type": "markdown",
   "metadata": {},
   "source": [
    "## Data cleaning: Initial check\n",
    "---\n",
    "\n",
    "***<span style=\"color:blue\">Task</span>***: Check the following:\n",
    "1. Do we have any null values?\n",
    "2. Are any numerical columns being read in as `object`?"
   ]
  },
  {
   "cell_type": "code",
   "execution_count": 3,
   "metadata": {
    "scrolled": true,
    "tags": []
   },
   "outputs": [
    {
     "data": {
      "text/plain": [
       "University     0\n",
       "Private        0\n",
       "Apps           0\n",
       "Accept         0\n",
       "Enroll         0\n",
       "Top10perc      0\n",
       "Top25perc      0\n",
       "F.Undergrad    0\n",
       "P.Undergrad    0\n",
       "Outstate       0\n",
       "Room.Board     0\n",
       "Books          0\n",
       "Personal       0\n",
       "PhD            0\n",
       "Terminal       0\n",
       "S.F.Ratio      0\n",
       "perc.alumni    0\n",
       "Expend         0\n",
       "Grad.Rate      0\n",
       "dtype: int64"
      ]
     },
     "execution_count": 3,
     "metadata": {},
     "output_type": "execute_result"
    }
   ],
   "source": [
    "# Check for nulls\n",
    "df.isnull().sum()"
   ]
  },
  {
   "cell_type": "code",
   "execution_count": 4,
   "metadata": {
    "scrolled": true,
    "tags": []
   },
   "outputs": [
    {
     "data": {
      "text/plain": [
       "University      object\n",
       "Private         object\n",
       "Apps             int64\n",
       "Accept           int64\n",
       "Enroll           int64\n",
       "Top10perc        int64\n",
       "Top25perc        int64\n",
       "F.Undergrad      int64\n",
       "P.Undergrad      int64\n",
       "Outstate         int64\n",
       "Room.Board       int64\n",
       "Books            int64\n",
       "Personal         int64\n",
       "PhD             object\n",
       "Terminal         int64\n",
       "S.F.Ratio      float64\n",
       "perc.alumni      int64\n",
       "Expend           int64\n",
       "Grad.Rate        int64\n",
       "dtype: object"
      ]
     },
     "execution_count": 4,
     "metadata": {},
     "output_type": "execute_result"
    }
   ],
   "source": [
    "# Check column data types\n",
    "df.dtypes"
   ]
  },
  {
   "cell_type": "code",
   "execution_count": 5,
   "metadata": {
    "scrolled": true,
    "tags": []
   },
   "outputs": [
    {
     "name": "stdout",
     "output_type": "stream",
     "text": [
      "<class 'pandas.core.frame.DataFrame'>\n",
      "RangeIndex: 777 entries, 0 to 776\n",
      "Data columns (total 19 columns):\n",
      " #   Column       Non-Null Count  Dtype  \n",
      "---  ------       --------------  -----  \n",
      " 0   University   777 non-null    object \n",
      " 1   Private      777 non-null    object \n",
      " 2   Apps         777 non-null    int64  \n",
      " 3   Accept       777 non-null    int64  \n",
      " 4   Enroll       777 non-null    int64  \n",
      " 5   Top10perc    777 non-null    int64  \n",
      " 6   Top25perc    777 non-null    int64  \n",
      " 7   F.Undergrad  777 non-null    int64  \n",
      " 8   P.Undergrad  777 non-null    int64  \n",
      " 9   Outstate     777 non-null    int64  \n",
      " 10  Room.Board   777 non-null    int64  \n",
      " 11  Books        777 non-null    int64  \n",
      " 12  Personal     777 non-null    int64  \n",
      " 13  PhD          777 non-null    object \n",
      " 14  Terminal     777 non-null    int64  \n",
      " 15  S.F.Ratio    777 non-null    float64\n",
      " 16  perc.alumni  777 non-null    int64  \n",
      " 17  Expend       777 non-null    int64  \n",
      " 18  Grad.Rate    777 non-null    int64  \n",
      "dtypes: float64(1), int64(15), object(3)\n",
      "memory usage: 115.5+ KB\n"
     ]
    }
   ],
   "source": [
    "# df.info() answers both #1 and #2\n",
    "# conclusion#1 : no nulls, num of non-nulls#777 matches df.shape rows\n",
    "# conclusion#2 : of all the 'object' cols, 'PhD' is incorrect\n",
    "df.info()"
   ]
  },
  {
   "cell_type": "code",
   "execution_count": 6,
   "metadata": {},
   "outputs": [
    {
     "data": {
      "text/plain": [
       "Index(['University', 'Private', 'PhD'], dtype='object')"
      ]
     },
     "execution_count": 6,
     "metadata": {},
     "output_type": "execute_result"
    }
   ],
   "source": [
    "# below syntax is an option to narrow on 'object' cols,\n",
    "# without .columns, the output is a subset dataframe with only 'object' cols\n",
    "df.select_dtypes(include=['object']).columns\n",
    "\n",
    "# df.select_dtypes(include=['int64','float64']) will return a subset dataframe with only int/float cols"
   ]
  },
  {
   "cell_type": "markdown",
   "metadata": {},
   "source": [
    "## Data cleaning: Clean up `PhD` column\n",
    "---\n",
    "\n",
    "`PhD` is being read in as a `string` (or, `object`) because some of the cells contain non-numerical values. \n",
    "\n",
    "Let's replace any non-numerical values with `NaN`'s, and change the column datatype to float."
   ]
  },
  {
   "cell_type": "code",
   "execution_count": 7,
   "metadata": {
    "scrolled": true,
    "tags": []
   },
   "outputs": [
    {
     "data": {
      "text/plain": [
       "array(['70', '29', '53', '92', '76', '?', '90', '89', '79', '40', '82',\n",
       "       '73', '60', '36', '78', '48', '62', '69', '83', '55', '88', '57',\n",
       "       '93', '85', '65', '66', '81', '59', '58', '68', '98', '71', '74',\n",
       "       '61', '35', '87', '80', '63', '75', '39', '99', '100', '95', '77',\n",
       "       '72', '64', '10', '86', '22', '50', '41', '8', '67', '94', '56',\n",
       "       '46', '54', '84', '97', '51', '42', '49', '52', '43', '37', '45',\n",
       "       '47', '91', '31', '96', '34', '33', '44', '32', '14', '103', '26',\n",
       "       '16'], dtype=object)"
      ]
     },
     "execution_count": 7,
     "metadata": {},
     "output_type": "execute_result"
    }
   ],
   "source": [
    "df['PhD'].unique() # notice the '?' which is corrupting this column from its data type being identified correctly"
   ]
  },
  {
   "cell_type": "code",
   "execution_count": 8,
   "metadata": {},
   "outputs": [],
   "source": [
    "# let's write a list comprehension to replace the '?' with nan, leave numerical values intact\n",
    "# After \"else\" is the output to be executed corresponding to \"if\" condition = false\n",
    "# Before \"if\" is the output to be executed corresponding to \"if\" condition = true\n",
    "df['PhD'] = [np.nan if phd=='?' else float(phd) for phd in df['PhD'].values]"
   ]
  },
  {
   "cell_type": "code",
   "execution_count": 9,
   "metadata": {
    "scrolled": true,
    "tags": []
   },
   "outputs": [
    {
     "name": "stdout",
     "output_type": "stream",
     "text": [
      "<class 'pandas.core.frame.DataFrame'>\n",
      "RangeIndex: 777 entries, 0 to 776\n",
      "Data columns (total 19 columns):\n",
      " #   Column       Non-Null Count  Dtype  \n",
      "---  ------       --------------  -----  \n",
      " 0   University   777 non-null    object \n",
      " 1   Private      777 non-null    object \n",
      " 2   Apps         777 non-null    int64  \n",
      " 3   Accept       777 non-null    int64  \n",
      " 4   Enroll       777 non-null    int64  \n",
      " 5   Top10perc    777 non-null    int64  \n",
      " 6   Top25perc    777 non-null    int64  \n",
      " 7   F.Undergrad  777 non-null    int64  \n",
      " 8   P.Undergrad  777 non-null    int64  \n",
      " 9   Outstate     777 non-null    int64  \n",
      " 10  Room.Board   777 non-null    int64  \n",
      " 11  Books        777 non-null    int64  \n",
      " 12  Personal     777 non-null    int64  \n",
      " 13  PhD          748 non-null    float64\n",
      " 14  Terminal     777 non-null    int64  \n",
      " 15  S.F.Ratio    777 non-null    float64\n",
      " 16  perc.alumni  777 non-null    int64  \n",
      " 17  Expend       777 non-null    int64  \n",
      " 18  Grad.Rate    777 non-null    int64  \n",
      "dtypes: float64(2), int64(15), object(2)\n",
      "memory usage: 115.5+ KB\n"
     ]
    }
   ],
   "source": [
    "# PhD is no longer recognized as a string\n",
    "# the nan's in PhD (29), reduce the number of non-nulls for the col from 777\n",
    "df.info()"
   ]
  },
  {
   "cell_type": "markdown",
   "metadata": {},
   "source": [
    "## Data cleaning: Drop `NaN`'s\n",
    "---\n",
    "\n",
    "If we can confirm that there are a small percentage of nulls, we can go ahead and drop them across the entire dataframe."
   ]
  },
  {
   "cell_type": "code",
   "execution_count": 10,
   "metadata": {
    "scrolled": true,
    "tags": []
   },
   "outputs": [
    {
     "data": {
      "text/plain": [
       "University      0\n",
       "Private         0\n",
       "Apps            0\n",
       "Accept          0\n",
       "Enroll          0\n",
       "Top10perc       0\n",
       "Top25perc       0\n",
       "F.Undergrad     0\n",
       "P.Undergrad     0\n",
       "Outstate        0\n",
       "Room.Board      0\n",
       "Books           0\n",
       "Personal        0\n",
       "PhD            29\n",
       "Terminal        0\n",
       "S.F.Ratio       0\n",
       "perc.alumni     0\n",
       "Expend          0\n",
       "Grad.Rate       0\n",
       "dtype: int64"
      ]
     },
     "execution_count": 10,
     "metadata": {},
     "output_type": "execute_result"
    }
   ],
   "source": [
    "# to confirm that our %nulls are really small,\n",
    "# especially, when there are nulls across different cols, \n",
    "# converting the result from df.isna().sum() to dataframe can help us to perform computations like %nulls\n",
    "df.isna().sum()"
   ]
  },
  {
   "cell_type": "code",
   "execution_count": 11,
   "metadata": {
    "scrolled": true,
    "tags": []
   },
   "outputs": [
    {
     "data": {
      "text/html": [
       "<div>\n",
       "<style scoped>\n",
       "    .dataframe tbody tr th:only-of-type {\n",
       "        vertical-align: middle;\n",
       "    }\n",
       "\n",
       "    .dataframe tbody tr th {\n",
       "        vertical-align: top;\n",
       "    }\n",
       "\n",
       "    .dataframe thead th {\n",
       "        text-align: right;\n",
       "    }\n",
       "</style>\n",
       "<table border=\"1\" class=\"dataframe\">\n",
       "  <thead>\n",
       "    <tr style=\"text-align: right;\">\n",
       "      <th></th>\n",
       "      <th>index</th>\n",
       "      <th>0</th>\n",
       "    </tr>\n",
       "  </thead>\n",
       "  <tbody>\n",
       "    <tr>\n",
       "      <th>0</th>\n",
       "      <td>University</td>\n",
       "      <td>0</td>\n",
       "    </tr>\n",
       "    <tr>\n",
       "      <th>1</th>\n",
       "      <td>Private</td>\n",
       "      <td>0</td>\n",
       "    </tr>\n",
       "    <tr>\n",
       "      <th>2</th>\n",
       "      <td>Apps</td>\n",
       "      <td>0</td>\n",
       "    </tr>\n",
       "    <tr>\n",
       "      <th>3</th>\n",
       "      <td>Accept</td>\n",
       "      <td>0</td>\n",
       "    </tr>\n",
       "    <tr>\n",
       "      <th>4</th>\n",
       "      <td>Enroll</td>\n",
       "      <td>0</td>\n",
       "    </tr>\n",
       "    <tr>\n",
       "      <th>5</th>\n",
       "      <td>Top10perc</td>\n",
       "      <td>0</td>\n",
       "    </tr>\n",
       "    <tr>\n",
       "      <th>6</th>\n",
       "      <td>Top25perc</td>\n",
       "      <td>0</td>\n",
       "    </tr>\n",
       "    <tr>\n",
       "      <th>7</th>\n",
       "      <td>F.Undergrad</td>\n",
       "      <td>0</td>\n",
       "    </tr>\n",
       "    <tr>\n",
       "      <th>8</th>\n",
       "      <td>P.Undergrad</td>\n",
       "      <td>0</td>\n",
       "    </tr>\n",
       "    <tr>\n",
       "      <th>9</th>\n",
       "      <td>Outstate</td>\n",
       "      <td>0</td>\n",
       "    </tr>\n",
       "    <tr>\n",
       "      <th>10</th>\n",
       "      <td>Room.Board</td>\n",
       "      <td>0</td>\n",
       "    </tr>\n",
       "    <tr>\n",
       "      <th>11</th>\n",
       "      <td>Books</td>\n",
       "      <td>0</td>\n",
       "    </tr>\n",
       "    <tr>\n",
       "      <th>12</th>\n",
       "      <td>Personal</td>\n",
       "      <td>0</td>\n",
       "    </tr>\n",
       "    <tr>\n",
       "      <th>13</th>\n",
       "      <td>PhD</td>\n",
       "      <td>29</td>\n",
       "    </tr>\n",
       "    <tr>\n",
       "      <th>14</th>\n",
       "      <td>Terminal</td>\n",
       "      <td>0</td>\n",
       "    </tr>\n",
       "    <tr>\n",
       "      <th>15</th>\n",
       "      <td>S.F.Ratio</td>\n",
       "      <td>0</td>\n",
       "    </tr>\n",
       "    <tr>\n",
       "      <th>16</th>\n",
       "      <td>perc.alumni</td>\n",
       "      <td>0</td>\n",
       "    </tr>\n",
       "    <tr>\n",
       "      <th>17</th>\n",
       "      <td>Expend</td>\n",
       "      <td>0</td>\n",
       "    </tr>\n",
       "    <tr>\n",
       "      <th>18</th>\n",
       "      <td>Grad.Rate</td>\n",
       "      <td>0</td>\n",
       "    </tr>\n",
       "  </tbody>\n",
       "</table>\n",
       "</div>"
      ],
      "text/plain": [
       "          index   0\n",
       "0    University   0\n",
       "1       Private   0\n",
       "2          Apps   0\n",
       "3        Accept   0\n",
       "4        Enroll   0\n",
       "5     Top10perc   0\n",
       "6     Top25perc   0\n",
       "7   F.Undergrad   0\n",
       "8   P.Undergrad   0\n",
       "9      Outstate   0\n",
       "10   Room.Board   0\n",
       "11        Books   0\n",
       "12     Personal   0\n",
       "13          PhD  29\n",
       "14     Terminal   0\n",
       "15    S.F.Ratio   0\n",
       "16  perc.alumni   0\n",
       "17       Expend   0\n",
       "18    Grad.Rate   0"
      ]
     },
     "execution_count": 11,
     "metadata": {},
     "output_type": "execute_result"
    }
   ],
   "source": [
    "pd.DataFrame(df.isna().sum()).reset_index() # w/o reset_index, df_cols become indices"
   ]
  },
  {
   "cell_type": "code",
   "execution_count": 12,
   "metadata": {},
   "outputs": [
    {
     "data": {
      "text/html": [
       "<div>\n",
       "<style scoped>\n",
       "    .dataframe tbody tr th:only-of-type {\n",
       "        vertical-align: middle;\n",
       "    }\n",
       "\n",
       "    .dataframe tbody tr th {\n",
       "        vertical-align: top;\n",
       "    }\n",
       "\n",
       "    .dataframe thead th {\n",
       "        text-align: right;\n",
       "    }\n",
       "</style>\n",
       "<table border=\"1\" class=\"dataframe\">\n",
       "  <thead>\n",
       "    <tr style=\"text-align: right;\">\n",
       "      <th></th>\n",
       "      <th>col</th>\n",
       "      <th>num_nulls</th>\n",
       "      <th>%nulls</th>\n",
       "    </tr>\n",
       "  </thead>\n",
       "  <tbody>\n",
       "    <tr>\n",
       "      <th>13</th>\n",
       "      <td>PhD</td>\n",
       "      <td>29</td>\n",
       "      <td>3.732304</td>\n",
       "    </tr>\n",
       "  </tbody>\n",
       "</table>\n",
       "</div>"
      ],
      "text/plain": [
       "    col  num_nulls    %nulls\n",
       "13  PhD         29  3.732304"
      ]
     },
     "execution_count": 12,
     "metadata": {},
     "output_type": "execute_result"
    }
   ],
   "source": [
    "# getting %nulls for cols with missing values\n",
    "missing_df = pd.DataFrame(df.isna().sum()).reset_index()\n",
    "missing_df.columns = ['col', 'num_nulls'] # updating all col names in missing_df\n",
    "missing_df['%nulls'] = missing_df['num_nulls']*100/len(df) #creating a new col for %nulls (num_nulls/df_len)\n",
    "missing_df[missing_df['num_nulls']>0] # filter to only cols with any nulls"
   ]
  },
  {
   "cell_type": "markdown",
   "metadata": {},
   "source": [
    "We've confirmed from above that the %nulls is ~4% only from one feature, 'PhD'.\n",
    "\n",
    "***<span style=\"color:blue\">Task</span>***: Drop na from the entire dataframe"
   ]
  },
  {
   "cell_type": "code",
   "execution_count": 13,
   "metadata": {},
   "outputs": [
    {
     "data": {
      "text/plain": [
       "(748, 19)"
      ]
     },
     "execution_count": 13,
     "metadata": {},
     "output_type": "execute_result"
    }
   ],
   "source": [
    "df.dropna(inplace=True)\n",
    "df.shape # results in df.shape = num of non-nulls from PhD col"
   ]
  },
  {
   "cell_type": "markdown",
   "metadata": {},
   "source": [
    "## Feature engineering: Binarize `'Private'` column\n",
    "---\n",
    "\n",
    "In the cells below, convert the `Private` column into numerical values."
   ]
  },
  {
   "cell_type": "code",
   "execution_count": 14,
   "metadata": {
    "scrolled": true,
    "tags": []
   },
   "outputs": [
    {
     "data": {
      "text/plain": [
       "0      Yes\n",
       "1      Yes\n",
       "2      Yes\n",
       "3      Yes\n",
       "4      Yes\n",
       "      ... \n",
       "772     No\n",
       "773    Yes\n",
       "774    Yes\n",
       "775    Yes\n",
       "776    Yes\n",
       "Name: Private, Length: 748, dtype: object"
      ]
     },
     "execution_count": 14,
     "metadata": {},
     "output_type": "execute_result"
    }
   ],
   "source": [
    "df['Private']"
   ]
  },
  {
   "cell_type": "code",
   "execution_count": 15,
   "metadata": {
    "scrolled": true,
    "tags": []
   },
   "outputs": [
    {
     "data": {
      "text/plain": [
       "0      1\n",
       "1      1\n",
       "2      1\n",
       "3      1\n",
       "4      1\n",
       "      ..\n",
       "772    0\n",
       "773    1\n",
       "774    1\n",
       "775    1\n",
       "776    1\n",
       "Name: Private, Length: 748, dtype: int64"
      ]
     },
     "execution_count": 15,
     "metadata": {},
     "output_type": "execute_result"
    }
   ],
   "source": [
    "df['Private'] = df['Private'].map({'Yes': 1, 'No': 0}) # .map for Series transformation\n",
    "\n",
    "# You could use an apply function too!\n",
    "# df['Private'] = df['Private'].apply(lambda x: 1 if x==\"Yes\" else 0)\n",
    "\n",
    "df['Private']"
   ]
  },
  {
   "cell_type": "markdown",
   "metadata": {},
   "source": [
    "## EDA: Plot a Heatmap of the Correlation Matrix\n",
    "---\n",
    "\n",
    "Heatmaps are an effective way to visually examine the correlational structure of your predictors. "
   ]
  },
  {
   "cell_type": "code",
   "execution_count": 16,
   "metadata": {
    "tags": []
   },
   "outputs": [
    {
     "data": {
      "image/png": "[encoded data removed]",
      "text/plain": [
       "<Figure size 1080x1080 with 2 Axes>"
      ]
     },
     "metadata": {
      "needs_background": "light"
     },
     "output_type": "display_data"
    }
   ],
   "source": [
    "plt.figure(figsize=(15,15))\n",
    "sns.heatmap(df.corr(), annot=True);"
   ]
  },
  {
   "cell_type": "code",
   "execution_count": 17,
   "metadata": {},
   "outputs": [
    {
     "data": {
      "image/png": "[encoded data removed]",
      "text/plain": [
       "<Figure size 1080x1080 with 2 Axes>"
      ]
     },
     "metadata": {
      "needs_background": "light"
     },
     "output_type": "display_data"
    }
   ],
   "source": [
    "# applying masking techniques from past lessons to see only one half heatmap,\n",
    "# below diagonal capturing a col's correlation against itself\n",
    "plt.figure(figsize=(15,15))\n",
    "corr = df.corr()\n",
    "\n",
    "mask = np.zeros_like(corr)\n",
    "mask[np.triu_indices_from(mask)] = True\n",
    "sns.heatmap(corr, mask = mask, annot = True, cmap='coolwarm'); # 'coolwarm' colormap is easier to read in my opinion"
   ]
  },
  {
   "cell_type": "markdown",
   "metadata": {},
   "source": [
    "#### We can see quite a number of features are strongly correlated (>=0.5 corr coeff) to the response, `Apps` as well as to themselves"
   ]
  },
  {
   "cell_type": "markdown",
   "metadata": {},
   "source": [
    "## EDA: Use seaborn's `.pairplot()` method to create scatterplots \n",
    "---\n",
    "[seaborn documentation](https://seaborn.pydata.org/generated/seaborn.pairplot.html)\n",
    "\n",
    "Let's create a pairplot to see how some of our stronger predictors correlate to our target (`Apps`). Instead of creating a pairplot of the entire DataFrame, we can use the `y_vars` and `x_vars` params to get a smaller subset."
   ]
  },
  {
   "cell_type": "code",
   "execution_count": 18,
   "metadata": {},
   "outputs": [
    {
     "data": {
      "text/html": [
       "<div>\n",
       "<style scoped>\n",
       "    .dataframe tbody tr th:only-of-type {\n",
       "        vertical-align: middle;\n",
       "    }\n",
       "\n",
       "    .dataframe tbody tr th {\n",
       "        vertical-align: top;\n",
       "    }\n",
       "\n",
       "    .dataframe thead th {\n",
       "        text-align: right;\n",
       "    }\n",
       "</style>\n",
       "<table border=\"1\" class=\"dataframe\">\n",
       "  <thead>\n",
       "    <tr style=\"text-align: right;\">\n",
       "      <th></th>\n",
       "      <th>Private</th>\n",
       "      <th>Apps</th>\n",
       "      <th>Accept</th>\n",
       "      <th>Enroll</th>\n",
       "      <th>Top10perc</th>\n",
       "      <th>Top25perc</th>\n",
       "      <th>F.Undergrad</th>\n",
       "      <th>P.Undergrad</th>\n",
       "      <th>Outstate</th>\n",
       "      <th>Room.Board</th>\n",
       "      <th>Books</th>\n",
       "      <th>Personal</th>\n",
       "      <th>PhD</th>\n",
       "      <th>Terminal</th>\n",
       "      <th>S.F.Ratio</th>\n",
       "      <th>perc.alumni</th>\n",
       "      <th>Expend</th>\n",
       "      <th>Grad.Rate</th>\n",
       "    </tr>\n",
       "  </thead>\n",
       "  <tbody>\n",
       "    <tr>\n",
       "      <th>Private</th>\n",
       "      <td>1.000000</td>\n",
       "      <td>-0.441434</td>\n",
       "      <td>-0.486012</td>\n",
       "      <td>-0.576422</td>\n",
       "      <td>0.160826</td>\n",
       "      <td>0.089417</td>\n",
       "      <td>-0.621835</td>\n",
       "      <td>-0.463644</td>\n",
       "      <td>0.557764</td>\n",
       "      <td>0.344050</td>\n",
       "      <td>-0.020181</td>\n",
       "      <td>-0.312755</td>\n",
       "      <td>-0.161132</td>\n",
       "      <td>-0.128911</td>\n",
       "      <td>-0.475460</td>\n",
       "      <td>0.420522</td>\n",
       "      <td>0.255115</td>\n",
       "      <td>0.343915</td>\n",
       "    </tr>\n",
       "    <tr>\n",
       "      <th>Apps</th>\n",
       "      <td>-0.441434</td>\n",
       "      <td>1.000000</td>\n",
       "      <td>0.943316</td>\n",
       "      <td>0.842801</td>\n",
       "      <td>0.330712</td>\n",
       "      <td>0.344498</td>\n",
       "      <td>0.811162</td>\n",
       "      <td>0.400406</td>\n",
       "      <td>0.036517</td>\n",
       "      <td>0.162503</td>\n",
       "      <td>0.138333</td>\n",
       "      <td>0.182639</td>\n",
       "      <td>0.389312</td>\n",
       "      <td>0.368173</td>\n",
       "      <td>0.109378</td>\n",
       "      <td>-0.105778</td>\n",
       "      <td>0.252854</td>\n",
       "      <td>0.129846</td>\n",
       "    </tr>\n",
       "    <tr>\n",
       "      <th>Accept</th>\n",
       "      <td>-0.486012</td>\n",
       "      <td>0.943316</td>\n",
       "      <td>1.000000</td>\n",
       "      <td>0.908498</td>\n",
       "      <td>0.187160</td>\n",
       "      <td>0.243253</td>\n",
       "      <td>0.871578</td>\n",
       "      <td>0.442175</td>\n",
       "      <td>-0.034997</td>\n",
       "      <td>0.090486</td>\n",
       "      <td>0.119390</td>\n",
       "      <td>0.206501</td>\n",
       "      <td>0.356204</td>\n",
       "      <td>0.336895</td>\n",
       "      <td>0.187527</td>\n",
       "      <td>-0.170183</td>\n",
       "      <td>0.122433</td>\n",
       "      <td>0.052750</td>\n",
       "    </tr>\n",
       "    <tr>\n",
       "      <th>Enroll</th>\n",
       "      <td>-0.576422</td>\n",
       "      <td>0.842801</td>\n",
       "      <td>0.908498</td>\n",
       "      <td>1.000000</td>\n",
       "      <td>0.175119</td>\n",
       "      <td>0.221952</td>\n",
       "      <td>0.964090</td>\n",
       "      <td>0.517240</td>\n",
       "      <td>-0.167285</td>\n",
       "      <td>-0.044212</td>\n",
       "      <td>0.117067</td>\n",
       "      <td>0.288144</td>\n",
       "      <td>0.331744</td>\n",
       "      <td>0.306225</td>\n",
       "      <td>0.249070</td>\n",
       "      <td>-0.190804</td>\n",
       "      <td>0.060381</td>\n",
       "      <td>-0.037259</td>\n",
       "    </tr>\n",
       "    <tr>\n",
       "      <th>Top10perc</th>\n",
       "      <td>0.160826</td>\n",
       "      <td>0.330712</td>\n",
       "      <td>0.187160</td>\n",
       "      <td>0.175119</td>\n",
       "      <td>1.000000</td>\n",
       "      <td>0.891526</td>\n",
       "      <td>0.136884</td>\n",
       "      <td>-0.102003</td>\n",
       "      <td>0.547878</td>\n",
       "      <td>0.361531</td>\n",
       "      <td>0.121732</td>\n",
       "      <td>-0.093697</td>\n",
       "      <td>0.528991</td>\n",
       "      <td>0.488337</td>\n",
       "      <td>-0.366350</td>\n",
       "      <td>0.438145</td>\n",
       "      <td>0.648298</td>\n",
       "      <td>0.485008</td>\n",
       "    </tr>\n",
       "  </tbody>\n",
       "</table>\n",
       "</div>"
      ],
      "text/plain": [
       "            Private      Apps    Accept    Enroll  Top10perc  Top25perc  \\\n",
       "Private    1.000000 -0.441434 -0.486012 -0.576422   0.160826   0.089417   \n",
       "Apps      -0.441434  1.000000  0.943316  0.842801   0.330712   0.344498   \n",
       "Accept    -0.486012  0.943316  1.000000  0.908498   0.187160   0.243253   \n",
       "Enroll    -0.576422  0.842801  0.908498  1.000000   0.175119   0.221952   \n",
       "Top10perc  0.160826  0.330712  0.187160  0.175119   1.000000   0.891526   \n",
       "\n",
       "           F.Undergrad  P.Undergrad  Outstate  Room.Board     Books  Personal  \\\n",
       "Private      -0.621835    -0.463644  0.557764    0.344050 -0.020181 -0.312755   \n",
       "Apps          0.811162     0.400406  0.036517    0.162503  0.138333  0.182639   \n",
       "Accept        0.871578     0.442175 -0.034997    0.090486  0.119390  0.206501   \n",
       "Enroll        0.964090     0.517240 -0.167285   -0.044212  0.117067  0.288144   \n",
       "Top10perc     0.136884    -0.102003  0.547878    0.361531  0.121732 -0.093697   \n",
       "\n",
       "                PhD  Terminal  S.F.Ratio  perc.alumni    Expend  Grad.Rate  \n",
       "Private   -0.161132 -0.128911  -0.475460     0.420522  0.255115   0.343915  \n",
       "Apps       0.389312  0.368173   0.109378    -0.105778  0.252854   0.129846  \n",
       "Accept     0.356204  0.336895   0.187527    -0.170183  0.122433   0.052750  \n",
       "Enroll     0.331744  0.306225   0.249070    -0.190804  0.060381  -0.037259  \n",
       "Top10perc  0.528991  0.488337  -0.366350     0.438145  0.648298   0.485008  "
      ]
     },
     "execution_count": 18,
     "metadata": {},
     "output_type": "execute_result"
    }
   ],
   "source": [
    "df.corr().head()"
   ]
  },
  {
   "cell_type": "code",
   "execution_count": 19,
   "metadata": {},
   "outputs": [
    {
     "data": {
      "text/plain": [
       "Apps           1.000000\n",
       "Accept         0.943316\n",
       "Enroll         0.842801\n",
       "F.Undergrad    0.811162\n",
       "Name: Apps, dtype: float64"
      ]
     },
     "execution_count": 19,
     "metadata": {},
     "output_type": "execute_result"
    }
   ],
   "source": [
    "# we'll filter to only 'Apps' col as that is our response that we want to chk correlation vs other feature cols\n",
    "# sort_values sorts smallest to largest by default\n",
    "p_val = df.corr()['Apps'].sort_values(ascending=False)\n",
    "\n",
    "# filtering to top correlated features with pearson coeff > 0.5\n",
    "p_val_high = p_val[p_val>0.5]\n",
    "\n",
    "p_val_high"
   ]
  },
  {
   "cell_type": "code",
   "execution_count": 20,
   "metadata": {},
   "outputs": [
    {
     "data": {
      "text/plain": [
       "Index(['Apps', 'Accept', 'Enroll', 'F.Undergrad'], dtype='object')"
      ]
     },
     "execution_count": 20,
     "metadata": {},
     "output_type": "execute_result"
    }
   ],
   "source": [
    "# To get only the index of the above series\n",
    "p_val_high.index"
   ]
  },
  {
   "cell_type": "code",
   "execution_count": 21,
   "metadata": {},
   "outputs": [
    {
     "data": {
      "text/plain": [
       "array([ True, False, False, False])"
      ]
     },
     "execution_count": 21,
     "metadata": {},
     "output_type": "execute_result"
    }
   ],
   "source": [
    "# To check if ANY item in the index list is in another list (response)\n",
    "response = ['Apps'] # new list\n",
    "p_val_high.index.isin(response)"
   ]
  },
  {
   "cell_type": "code",
   "execution_count": 22,
   "metadata": {},
   "outputs": [
    {
     "data": {
      "text/plain": [
       "array([False,  True,  True,  True])"
      ]
     },
     "execution_count": 22,
     "metadata": {},
     "output_type": "execute_result"
    }
   ],
   "source": [
    "# To invert the above boolean list\n",
    "~p_val_high.index.isin(response)"
   ]
  },
  {
   "cell_type": "code",
   "execution_count": 23,
   "metadata": {},
   "outputs": [
    {
     "name": "stdout",
     "output_type": "stream",
     "text": [
      "Index(['Accept', 'Enroll', 'F.Undergrad'], dtype='object')\n"
     ]
    },
    {
     "data": {
      "text/plain": [
       "Accept         0.943316\n",
       "Enroll         0.842801\n",
       "F.Undergrad    0.811162\n",
       "Name: Apps, dtype: float64"
      ]
     },
     "execution_count": 23,
     "metadata": {},
     "output_type": "execute_result"
    }
   ],
   "source": [
    "# declaring our response col, so it can be filtered from p_val_high,\n",
    "# to give us purely, correlated features to response\n",
    "response = ['Apps'] \n",
    "top_corr_features = p_val_high[~p_val_high.index.isin(response)] # ~ is for NOT\n",
    "\n",
    "print(top_corr_features.index)\n",
    "top_corr_features"
   ]
  },
  {
   "cell_type": "code",
   "execution_count": 24,
   "metadata": {},
   "outputs": [
    {
     "data": {
      "image/png": "[encoded data removed]",
      "text/plain": [
       "<Figure size 180x540 with 3 Axes>"
      ]
     },
     "metadata": {
      "needs_background": "light"
     },
     "output_type": "display_data"
    }
   ],
   "source": [
    "# plotting the sns.pairplot\n",
    "# the distribution bars that appear usually when we do sns.pairplot don't show up here because,\n",
    "# we are not plotting the same feature against itself. eg., 'Accept' vs 'Accept'\n",
    "sns.pairplot(df, y_vars=top_corr_features.index, x_vars=['Apps']);"
   ]
  },
  {
   "cell_type": "markdown",
   "metadata": {},
   "source": [
    "## EDA: Create histograms of all numerical columns\n",
    "---\n",
    "Based on histogram inspection, several features appear to be zero-inflated and not following normal distribution."
   ]
  },
  {
   "cell_type": "code",
   "execution_count": 25,
   "metadata": {},
   "outputs": [
    {
     "data": {
      "image/png": "[encoded data removed]",
      "text/plain": [
       "<Figure size 1080x1080 with 20 Axes>"
      ]
     },
     "metadata": {
      "needs_background": "light"
     },
     "output_type": "display_data"
    }
   ],
   "source": [
    "df.hist(figsize=(15, 15));"
   ]
  },
  {
   "cell_type": "markdown",
   "metadata": {},
   "source": [
    "## EDA: Boxplots\n",
    "---\n",
    "\n",
    "Let's create two boxplots:\n",
    "1. One for our target (`Apps`)\n",
    "2. And one for our strongest predictor (`Accept`)\n",
    "\n",
    "We can see that they have a lot of outliers.\n",
    "\n",
    "Admittedly you can get the same observation by taking a closer look at the histograms itself. But Box plots are a conventient way to check for outliers"
   ]
  },
  {
   "cell_type": "code",
   "execution_count": 26,
   "metadata": {},
   "outputs": [
    {
     "data": {
      "image/png": "[encoded data removed]",
      "text/plain": [
       "<Figure size 432x288 with 1 Axes>"
      ]
     },
     "metadata": {
      "needs_background": "light"
     },
     "output_type": "display_data"
    }
   ],
   "source": [
    "sns.boxplot(data=df['Apps']);"
   ]
  },
  {
   "cell_type": "code",
   "execution_count": 27,
   "metadata": {},
   "outputs": [
    {
     "data": {
      "image/png": "[encoded data removed]",
      "text/plain": [
       "<Figure size 432x288 with 1 Axes>"
      ]
     },
     "metadata": {
      "needs_background": "light"
     },
     "output_type": "display_data"
    }
   ],
   "source": [
    "sns.boxplot(data=df['Accept']);"
   ]
  },
  {
   "cell_type": "markdown",
   "metadata": {},
   "source": [
    "## Model Prep: Create our features matrix (`X`) and target vector (`y`)\n",
    "---\n",
    "\n",
    "Every **numerical** column (that is not our target) will be used as a feature.\n",
    "\n",
    "The `Apps` column is our label: the number of applications received by that university.\n",
    "\n",
    "In the cell below, create your `X` and `y` variables."
   ]
  },
  {
   "cell_type": "code",
   "execution_count": 28,
   "metadata": {
    "scrolled": true,
    "tags": []
   },
   "outputs": [
    {
     "name": "stdout",
     "output_type": "stream",
     "text": [
      "<class 'pandas.core.frame.DataFrame'>\n",
      "Int64Index: 748 entries, 0 to 776\n",
      "Data columns (total 19 columns):\n",
      " #   Column       Non-Null Count  Dtype  \n",
      "---  ------       --------------  -----  \n",
      " 0   University   748 non-null    object \n",
      " 1   Private      748 non-null    int64  \n",
      " 2   Apps         748 non-null    int64  \n",
      " 3   Accept       748 non-null    int64  \n",
      " 4   Enroll       748 non-null    int64  \n",
      " 5   Top10perc    748 non-null    int64  \n",
      " 6   Top25perc    748 non-null    int64  \n",
      " 7   F.Undergrad  748 non-null    int64  \n",
      " 8   P.Undergrad  748 non-null    int64  \n",
      " 9   Outstate     748 non-null    int64  \n",
      " 10  Room.Board   748 non-null    int64  \n",
      " 11  Books        748 non-null    int64  \n",
      " 12  Personal     748 non-null    int64  \n",
      " 13  PhD          748 non-null    float64\n",
      " 14  Terminal     748 non-null    int64  \n",
      " 15  S.F.Ratio    748 non-null    float64\n",
      " 16  perc.alumni  748 non-null    int64  \n",
      " 17  Expend       748 non-null    int64  \n",
      " 18  Grad.Rate    748 non-null    int64  \n",
      "dtypes: float64(2), int64(16), object(1)\n",
      "memory usage: 133.0+ KB\n"
     ]
    }
   ],
   "source": [
    "# we know from df.info() that this means, we will need to leave out 'University'\n",
    "df.info()"
   ]
  },
  {
   "cell_type": "code",
   "execution_count": 29,
   "metadata": {},
   "outputs": [
    {
     "data": {
      "text/plain": [
       "748"
      ]
     },
     "execution_count": 29,
     "metadata": {},
     "output_type": "execute_result"
    }
   ],
   "source": [
    "# just for clarity, the 'University' categorical col has 748 unique values of university names!!\n",
    "# one-hot encoding these is going to make our dataset for modeling extremely noisy. so,\n",
    "# we'll leave this col out. and focus on building a predictive model for the applications,\n",
    "# that a university receives, based on other features\n",
    "df['University'].nunique()"
   ]
  },
  {
   "cell_type": "code",
   "execution_count": 30,
   "metadata": {
    "scrolled": true,
    "tags": []
   },
   "outputs": [
    {
     "data": {
      "text/html": [
       "<div>\n",
       "<style scoped>\n",
       "    .dataframe tbody tr th:only-of-type {\n",
       "        vertical-align: middle;\n",
       "    }\n",
       "\n",
       "    .dataframe tbody tr th {\n",
       "        vertical-align: top;\n",
       "    }\n",
       "\n",
       "    .dataframe thead th {\n",
       "        text-align: right;\n",
       "    }\n",
       "</style>\n",
       "<table border=\"1\" class=\"dataframe\">\n",
       "  <thead>\n",
       "    <tr style=\"text-align: right;\">\n",
       "      <th></th>\n",
       "      <th>Private</th>\n",
       "      <th>Apps</th>\n",
       "      <th>Accept</th>\n",
       "      <th>Enroll</th>\n",
       "      <th>Top10perc</th>\n",
       "      <th>Top25perc</th>\n",
       "      <th>F.Undergrad</th>\n",
       "      <th>P.Undergrad</th>\n",
       "      <th>Outstate</th>\n",
       "      <th>Room.Board</th>\n",
       "      <th>Books</th>\n",
       "      <th>Personal</th>\n",
       "      <th>PhD</th>\n",
       "      <th>Terminal</th>\n",
       "      <th>S.F.Ratio</th>\n",
       "      <th>perc.alumni</th>\n",
       "      <th>Expend</th>\n",
       "      <th>Grad.Rate</th>\n",
       "    </tr>\n",
       "  </thead>\n",
       "  <tbody>\n",
       "    <tr>\n",
       "      <th>0</th>\n",
       "      <td>1</td>\n",
       "      <td>1660</td>\n",
       "      <td>1232</td>\n",
       "      <td>721</td>\n",
       "      <td>23</td>\n",
       "      <td>52</td>\n",
       "      <td>2885</td>\n",
       "      <td>537</td>\n",
       "      <td>7440</td>\n",
       "      <td>3300</td>\n",
       "      <td>450</td>\n",
       "      <td>2200</td>\n",
       "      <td>70.0</td>\n",
       "      <td>78</td>\n",
       "      <td>18.1</td>\n",
       "      <td>12</td>\n",
       "      <td>7041</td>\n",
       "      <td>60</td>\n",
       "    </tr>\n",
       "    <tr>\n",
       "      <th>1</th>\n",
       "      <td>1</td>\n",
       "      <td>2186</td>\n",
       "      <td>1924</td>\n",
       "      <td>512</td>\n",
       "      <td>16</td>\n",
       "      <td>29</td>\n",
       "      <td>2683</td>\n",
       "      <td>1227</td>\n",
       "      <td>12280</td>\n",
       "      <td>6450</td>\n",
       "      <td>750</td>\n",
       "      <td>1500</td>\n",
       "      <td>29.0</td>\n",
       "      <td>30</td>\n",
       "      <td>12.2</td>\n",
       "      <td>16</td>\n",
       "      <td>10527</td>\n",
       "      <td>56</td>\n",
       "    </tr>\n",
       "    <tr>\n",
       "      <th>2</th>\n",
       "      <td>1</td>\n",
       "      <td>1428</td>\n",
       "      <td>1097</td>\n",
       "      <td>336</td>\n",
       "      <td>22</td>\n",
       "      <td>50</td>\n",
       "      <td>1036</td>\n",
       "      <td>99</td>\n",
       "      <td>11250</td>\n",
       "      <td>3750</td>\n",
       "      <td>400</td>\n",
       "      <td>1165</td>\n",
       "      <td>53.0</td>\n",
       "      <td>66</td>\n",
       "      <td>12.9</td>\n",
       "      <td>30</td>\n",
       "      <td>8735</td>\n",
       "      <td>54</td>\n",
       "    </tr>\n",
       "    <tr>\n",
       "      <th>3</th>\n",
       "      <td>1</td>\n",
       "      <td>417</td>\n",
       "      <td>349</td>\n",
       "      <td>137</td>\n",
       "      <td>60</td>\n",
       "      <td>89</td>\n",
       "      <td>510</td>\n",
       "      <td>63</td>\n",
       "      <td>12960</td>\n",
       "      <td>5450</td>\n",
       "      <td>450</td>\n",
       "      <td>875</td>\n",
       "      <td>92.0</td>\n",
       "      <td>97</td>\n",
       "      <td>7.7</td>\n",
       "      <td>37</td>\n",
       "      <td>19016</td>\n",
       "      <td>59</td>\n",
       "    </tr>\n",
       "    <tr>\n",
       "      <th>4</th>\n",
       "      <td>1</td>\n",
       "      <td>193</td>\n",
       "      <td>146</td>\n",
       "      <td>55</td>\n",
       "      <td>16</td>\n",
       "      <td>44</td>\n",
       "      <td>249</td>\n",
       "      <td>869</td>\n",
       "      <td>7560</td>\n",
       "      <td>4120</td>\n",
       "      <td>800</td>\n",
       "      <td>1500</td>\n",
       "      <td>76.0</td>\n",
       "      <td>72</td>\n",
       "      <td>11.9</td>\n",
       "      <td>2</td>\n",
       "      <td>10922</td>\n",
       "      <td>15</td>\n",
       "    </tr>\n",
       "    <tr>\n",
       "      <th>...</th>\n",
       "      <td>...</td>\n",
       "      <td>...</td>\n",
       "      <td>...</td>\n",
       "      <td>...</td>\n",
       "      <td>...</td>\n",
       "      <td>...</td>\n",
       "      <td>...</td>\n",
       "      <td>...</td>\n",
       "      <td>...</td>\n",
       "      <td>...</td>\n",
       "      <td>...</td>\n",
       "      <td>...</td>\n",
       "      <td>...</td>\n",
       "      <td>...</td>\n",
       "      <td>...</td>\n",
       "      <td>...</td>\n",
       "      <td>...</td>\n",
       "      <td>...</td>\n",
       "    </tr>\n",
       "    <tr>\n",
       "      <th>772</th>\n",
       "      <td>0</td>\n",
       "      <td>2197</td>\n",
       "      <td>1515</td>\n",
       "      <td>543</td>\n",
       "      <td>4</td>\n",
       "      <td>26</td>\n",
       "      <td>3089</td>\n",
       "      <td>2029</td>\n",
       "      <td>6797</td>\n",
       "      <td>3900</td>\n",
       "      <td>500</td>\n",
       "      <td>1200</td>\n",
       "      <td>60.0</td>\n",
       "      <td>60</td>\n",
       "      <td>21.0</td>\n",
       "      <td>14</td>\n",
       "      <td>4469</td>\n",
       "      <td>40</td>\n",
       "    </tr>\n",
       "    <tr>\n",
       "      <th>773</th>\n",
       "      <td>1</td>\n",
       "      <td>1959</td>\n",
       "      <td>1805</td>\n",
       "      <td>695</td>\n",
       "      <td>24</td>\n",
       "      <td>47</td>\n",
       "      <td>2849</td>\n",
       "      <td>1107</td>\n",
       "      <td>11520</td>\n",
       "      <td>4960</td>\n",
       "      <td>600</td>\n",
       "      <td>1250</td>\n",
       "      <td>73.0</td>\n",
       "      <td>75</td>\n",
       "      <td>13.3</td>\n",
       "      <td>31</td>\n",
       "      <td>9189</td>\n",
       "      <td>83</td>\n",
       "    </tr>\n",
       "    <tr>\n",
       "      <th>774</th>\n",
       "      <td>1</td>\n",
       "      <td>2097</td>\n",
       "      <td>1915</td>\n",
       "      <td>695</td>\n",
       "      <td>34</td>\n",
       "      <td>61</td>\n",
       "      <td>2793</td>\n",
       "      <td>166</td>\n",
       "      <td>6900</td>\n",
       "      <td>4200</td>\n",
       "      <td>617</td>\n",
       "      <td>781</td>\n",
       "      <td>67.0</td>\n",
       "      <td>75</td>\n",
       "      <td>14.4</td>\n",
       "      <td>20</td>\n",
       "      <td>8323</td>\n",
       "      <td>49</td>\n",
       "    </tr>\n",
       "    <tr>\n",
       "      <th>775</th>\n",
       "      <td>1</td>\n",
       "      <td>10705</td>\n",
       "      <td>2453</td>\n",
       "      <td>1317</td>\n",
       "      <td>95</td>\n",
       "      <td>99</td>\n",
       "      <td>5217</td>\n",
       "      <td>83</td>\n",
       "      <td>19840</td>\n",
       "      <td>6510</td>\n",
       "      <td>630</td>\n",
       "      <td>2115</td>\n",
       "      <td>96.0</td>\n",
       "      <td>96</td>\n",
       "      <td>5.8</td>\n",
       "      <td>49</td>\n",
       "      <td>40386</td>\n",
       "      <td>99</td>\n",
       "    </tr>\n",
       "    <tr>\n",
       "      <th>776</th>\n",
       "      <td>1</td>\n",
       "      <td>2989</td>\n",
       "      <td>1855</td>\n",
       "      <td>691</td>\n",
       "      <td>28</td>\n",
       "      <td>63</td>\n",
       "      <td>2988</td>\n",
       "      <td>1726</td>\n",
       "      <td>4990</td>\n",
       "      <td>3560</td>\n",
       "      <td>500</td>\n",
       "      <td>1250</td>\n",
       "      <td>75.0</td>\n",
       "      <td>75</td>\n",
       "      <td>18.1</td>\n",
       "      <td>28</td>\n",
       "      <td>4509</td>\n",
       "      <td>99</td>\n",
       "    </tr>\n",
       "  </tbody>\n",
       "</table>\n",
       "<p>748 rows × 18 columns</p>\n",
       "</div>"
      ],
      "text/plain": [
       "     Private   Apps  Accept  Enroll  Top10perc  Top25perc  F.Undergrad  \\\n",
       "0          1   1660    1232     721         23         52         2885   \n",
       "1          1   2186    1924     512         16         29         2683   \n",
       "2          1   1428    1097     336         22         50         1036   \n",
       "3          1    417     349     137         60         89          510   \n",
       "4          1    193     146      55         16         44          249   \n",
       "..       ...    ...     ...     ...        ...        ...          ...   \n",
       "772        0   2197    1515     543          4         26         3089   \n",
       "773        1   1959    1805     695         24         47         2849   \n",
       "774        1   2097    1915     695         34         61         2793   \n",
       "775        1  10705    2453    1317         95         99         5217   \n",
       "776        1   2989    1855     691         28         63         2988   \n",
       "\n",
       "     P.Undergrad  Outstate  Room.Board  Books  Personal   PhD  Terminal  \\\n",
       "0            537      7440        3300    450      2200  70.0        78   \n",
       "1           1227     12280        6450    750      1500  29.0        30   \n",
       "2             99     11250        3750    400      1165  53.0        66   \n",
       "3             63     12960        5450    450       875  92.0        97   \n",
       "4            869      7560        4120    800      1500  76.0        72   \n",
       "..           ...       ...         ...    ...       ...   ...       ...   \n",
       "772         2029      6797        3900    500      1200  60.0        60   \n",
       "773         1107     11520        4960    600      1250  73.0        75   \n",
       "774          166      6900        4200    617       781  67.0        75   \n",
       "775           83     19840        6510    630      2115  96.0        96   \n",
       "776         1726      4990        3560    500      1250  75.0        75   \n",
       "\n",
       "     S.F.Ratio  perc.alumni  Expend  Grad.Rate  \n",
       "0         18.1           12    7041         60  \n",
       "1         12.2           16   10527         56  \n",
       "2         12.9           30    8735         54  \n",
       "3          7.7           37   19016         59  \n",
       "4         11.9            2   10922         15  \n",
       "..         ...          ...     ...        ...  \n",
       "772       21.0           14    4469         40  \n",
       "773       13.3           31    9189         83  \n",
       "774       14.4           20    8323         49  \n",
       "775        5.8           49   40386         99  \n",
       "776       18.1           28    4509         99  \n",
       "\n",
       "[748 rows x 18 columns]"
      ]
     },
     "execution_count": 30,
     "metadata": {},
     "output_type": "execute_result"
    }
   ],
   "source": [
    "# alternative way for us to get a subset from df with only numeric columns\n",
    "df._get_numeric_data()"
   ]
  },
  {
   "cell_type": "code",
   "execution_count": 31,
   "metadata": {},
   "outputs": [
    {
     "data": {
      "text/plain": [
       "Index(['Private', 'Apps', 'Accept', 'Enroll', 'Top10perc', 'Top25perc',\n",
       "       'F.Undergrad', 'P.Undergrad', 'Outstate', 'Room.Board', 'Books',\n",
       "       'Personal', 'PhD', 'Terminal', 'S.F.Ratio', 'perc.alumni', 'Expend',\n",
       "       'Grad.Rate'],\n",
       "      dtype='object')"
      ]
     },
     "execution_count": 31,
     "metadata": {},
     "output_type": "execute_result"
    }
   ],
   "source": [
    "# get a list of all numeric columns from above\n",
    "df._get_numeric_data().columns"
   ]
  },
  {
   "cell_type": "code",
   "execution_count": 32,
   "metadata": {
    "scrolled": true,
    "tags": []
   },
   "outputs": [
    {
     "data": {
      "text/plain": [
       "['Private',\n",
       " 'Accept',\n",
       " 'Enroll',\n",
       " 'Top10perc',\n",
       " 'Top25perc',\n",
       " 'F.Undergrad',\n",
       " 'P.Undergrad',\n",
       " 'Outstate',\n",
       " 'Room.Board',\n",
       " 'Books',\n",
       " 'Personal',\n",
       " 'PhD',\n",
       " 'Terminal',\n",
       " 'S.F.Ratio',\n",
       " 'perc.alumni',\n",
       " 'Expend',\n",
       " 'Grad.Rate']"
      ]
     },
     "execution_count": 32,
     "metadata": {},
     "output_type": "execute_result"
    }
   ],
   "source": [
    "# list comprehension to exclude the response col, 'Apps'\n",
    "# notice that in a list comprehension syntax, IF \"if\" condition is used alone, WITHOUT \"else\",\n",
    "# the \"if\" condition goes AFTER \"for\" statement in the list comprehension declaration\n",
    "features = [col for col in df._get_numeric_data().columns if col != 'Apps']\n",
    "features"
   ]
  },
  {
   "cell_type": "code",
   "execution_count": 33,
   "metadata": {},
   "outputs": [],
   "source": [
    "X = df[features]\n",
    "y = df['Apps']"
   ]
  },
  {
   "cell_type": "code",
   "execution_count": 34,
   "metadata": {},
   "outputs": [
    {
     "data": {
      "text/html": [
       "<div>\n",
       "<style scoped>\n",
       "    .dataframe tbody tr th:only-of-type {\n",
       "        vertical-align: middle;\n",
       "    }\n",
       "\n",
       "    .dataframe tbody tr th {\n",
       "        vertical-align: top;\n",
       "    }\n",
       "\n",
       "    .dataframe thead th {\n",
       "        text-align: right;\n",
       "    }\n",
       "</style>\n",
       "<table border=\"1\" class=\"dataframe\">\n",
       "  <thead>\n",
       "    <tr style=\"text-align: right;\">\n",
       "      <th></th>\n",
       "      <th>Private</th>\n",
       "      <th>Accept</th>\n",
       "      <th>Enroll</th>\n",
       "      <th>Top10perc</th>\n",
       "      <th>Top25perc</th>\n",
       "      <th>F.Undergrad</th>\n",
       "      <th>P.Undergrad</th>\n",
       "      <th>Outstate</th>\n",
       "      <th>Room.Board</th>\n",
       "      <th>Books</th>\n",
       "      <th>Personal</th>\n",
       "      <th>PhD</th>\n",
       "      <th>Terminal</th>\n",
       "      <th>S.F.Ratio</th>\n",
       "      <th>perc.alumni</th>\n",
       "      <th>Expend</th>\n",
       "      <th>Grad.Rate</th>\n",
       "    </tr>\n",
       "  </thead>\n",
       "  <tbody>\n",
       "    <tr>\n",
       "      <th>0</th>\n",
       "      <td>1</td>\n",
       "      <td>1232</td>\n",
       "      <td>721</td>\n",
       "      <td>23</td>\n",
       "      <td>52</td>\n",
       "      <td>2885</td>\n",
       "      <td>537</td>\n",
       "      <td>7440</td>\n",
       "      <td>3300</td>\n",
       "      <td>450</td>\n",
       "      <td>2200</td>\n",
       "      <td>70.0</td>\n",
       "      <td>78</td>\n",
       "      <td>18.1</td>\n",
       "      <td>12</td>\n",
       "      <td>7041</td>\n",
       "      <td>60</td>\n",
       "    </tr>\n",
       "    <tr>\n",
       "      <th>1</th>\n",
       "      <td>1</td>\n",
       "      <td>1924</td>\n",
       "      <td>512</td>\n",
       "      <td>16</td>\n",
       "      <td>29</td>\n",
       "      <td>2683</td>\n",
       "      <td>1227</td>\n",
       "      <td>12280</td>\n",
       "      <td>6450</td>\n",
       "      <td>750</td>\n",
       "      <td>1500</td>\n",
       "      <td>29.0</td>\n",
       "      <td>30</td>\n",
       "      <td>12.2</td>\n",
       "      <td>16</td>\n",
       "      <td>10527</td>\n",
       "      <td>56</td>\n",
       "    </tr>\n",
       "    <tr>\n",
       "      <th>2</th>\n",
       "      <td>1</td>\n",
       "      <td>1097</td>\n",
       "      <td>336</td>\n",
       "      <td>22</td>\n",
       "      <td>50</td>\n",
       "      <td>1036</td>\n",
       "      <td>99</td>\n",
       "      <td>11250</td>\n",
       "      <td>3750</td>\n",
       "      <td>400</td>\n",
       "      <td>1165</td>\n",
       "      <td>53.0</td>\n",
       "      <td>66</td>\n",
       "      <td>12.9</td>\n",
       "      <td>30</td>\n",
       "      <td>8735</td>\n",
       "      <td>54</td>\n",
       "    </tr>\n",
       "    <tr>\n",
       "      <th>3</th>\n",
       "      <td>1</td>\n",
       "      <td>349</td>\n",
       "      <td>137</td>\n",
       "      <td>60</td>\n",
       "      <td>89</td>\n",
       "      <td>510</td>\n",
       "      <td>63</td>\n",
       "      <td>12960</td>\n",
       "      <td>5450</td>\n",
       "      <td>450</td>\n",
       "      <td>875</td>\n",
       "      <td>92.0</td>\n",
       "      <td>97</td>\n",
       "      <td>7.7</td>\n",
       "      <td>37</td>\n",
       "      <td>19016</td>\n",
       "      <td>59</td>\n",
       "    </tr>\n",
       "    <tr>\n",
       "      <th>4</th>\n",
       "      <td>1</td>\n",
       "      <td>146</td>\n",
       "      <td>55</td>\n",
       "      <td>16</td>\n",
       "      <td>44</td>\n",
       "      <td>249</td>\n",
       "      <td>869</td>\n",
       "      <td>7560</td>\n",
       "      <td>4120</td>\n",
       "      <td>800</td>\n",
       "      <td>1500</td>\n",
       "      <td>76.0</td>\n",
       "      <td>72</td>\n",
       "      <td>11.9</td>\n",
       "      <td>2</td>\n",
       "      <td>10922</td>\n",
       "      <td>15</td>\n",
       "    </tr>\n",
       "  </tbody>\n",
       "</table>\n",
       "</div>"
      ],
      "text/plain": [
       "   Private  Accept  Enroll  Top10perc  Top25perc  F.Undergrad  P.Undergrad  \\\n",
       "0        1    1232     721         23         52         2885          537   \n",
       "1        1    1924     512         16         29         2683         1227   \n",
       "2        1    1097     336         22         50         1036           99   \n",
       "3        1     349     137         60         89          510           63   \n",
       "4        1     146      55         16         44          249          869   \n",
       "\n",
       "   Outstate  Room.Board  Books  Personal   PhD  Terminal  S.F.Ratio  \\\n",
       "0      7440        3300    450      2200  70.0        78       18.1   \n",
       "1     12280        6450    750      1500  29.0        30       12.2   \n",
       "2     11250        3750    400      1165  53.0        66       12.9   \n",
       "3     12960        5450    450       875  92.0        97        7.7   \n",
       "4      7560        4120    800      1500  76.0        72       11.9   \n",
       "\n",
       "   perc.alumni  Expend  Grad.Rate  \n",
       "0           12    7041         60  \n",
       "1           16   10527         56  \n",
       "2           30    8735         54  \n",
       "3           37   19016         59  \n",
       "4            2   10922         15  "
      ]
     },
     "execution_count": 34,
     "metadata": {},
     "output_type": "execute_result"
    }
   ],
   "source": [
    "X.head() # feature matrix"
   ]
  },
  {
   "cell_type": "code",
   "execution_count": 35,
   "metadata": {
    "scrolled": true,
    "tags": []
   },
   "outputs": [
    {
     "data": {
      "text/plain": [
       "0       1660\n",
       "1       2186\n",
       "2       1428\n",
       "3        417\n",
       "4        193\n",
       "       ...  \n",
       "772     2197\n",
       "773     1959\n",
       "774     2097\n",
       "775    10705\n",
       "776     2989\n",
       "Name: Apps, Length: 748, dtype: int64"
      ]
     },
     "execution_count": 35,
     "metadata": {},
     "output_type": "execute_result"
    }
   ],
   "source": [
    "y # response vector"
   ]
  },
  {
   "cell_type": "markdown",
   "metadata": {},
   "source": [
    "## Model Prep: Train/test split\n",
    "---\n",
    "\n",
    "We always want to have a **holdout** set to test our model, AFTER training. This holdout set is used to _simulate_ new future data outside of this dataset, to build a future-proof model that generalizes and performs well. \n",
    "\n",
    "***<span style=\"color:blue\">Task</span>***: Use the `train_test_split` function to split our `X` and `y` variables into a training set and a holdout set."
   ]
  },
  {
   "cell_type": "code",
   "execution_count": 36,
   "metadata": {},
   "outputs": [],
   "source": [
    "X_train, X_test, y_train, y_test = train_test_split(X, y, random_state=42)"
   ]
  },
  {
   "cell_type": "markdown",
   "metadata": {},
   "source": [
    "## Model Prep: Scaling\n",
    "---\n",
    "\n",
    "Since we're using `Lasso` and `Ridge`, we'll want to scale our features. \n",
    "\n",
    "If in doubt whether to scale your features or not, its safer to go ahead and scale.\n",
    "\n",
    "***<span style=\"color:blue\">Task</span>***: In the cell below, fit a `StandardScaler` to `X_train` and use it to transform both `X_train` and `X_test`."
   ]
  },
  {
   "cell_type": "code",
   "execution_count": 37,
   "metadata": {},
   "outputs": [],
   "source": [
    "ss = StandardScaler()\n",
    "X_train = ss.fit_transform(X_train)# the same as doing ss.fit(X_train), then X_train=ss.transform(X_train)\n",
    "X_test = ss.transform(X_test)"
   ]
  },
  {
   "cell_type": "markdown",
   "metadata": {},
   "source": [
    "## Model Prep: Instantiate our models\n",
    "---\n",
    "\n",
    "We'll be evaluating `LinearRegression`, `LassoCV` and `RidgeCV`, and see which one yields the best model metric.\n",
    "\n",
    "***<span style=\"color:blue\">Task</span>***: Instantiate all three models."
   ]
  },
  {
   "cell_type": "code",
   "execution_count": 38,
   "metadata": {},
   "outputs": [],
   "source": [
    "lr = LinearRegression()"
   ]
  },
  {
   "cell_type": "code",
   "execution_count": 39,
   "metadata": {},
   "outputs": [],
   "source": [
    "lasso = LassoCV(n_alphas=200)# n_alphas: Number of alphas to use for the regularization\n",
    "# to pass alpha values instead, we had used the parameter, 'alphas'"
   ]
  },
  {
   "cell_type": "code",
   "execution_count": 40,
   "metadata": {},
   "outputs": [],
   "source": [
    "ridge = RidgeCV(alphas=np.linspace(.1, 10, 100))# alphas takes an Array of alpha values for regularization"
   ]
  },
  {
   "cell_type": "markdown",
   "metadata": {},
   "source": [
    "## Cross validation\n",
    "---\n",
    "\n",
    "***<span style=\"color:blue\">Task</span>***: Use `cross_val_score` to evaluate all three models on the training dataset."
   ]
  },
  {
   "cell_type": "code",
   "execution_count": 41,
   "metadata": {},
   "outputs": [
    {
     "name": "stdout",
     "output_type": "stream",
     "text": [
      "[0.9172677  0.90275292 0.91402718]\n"
     ]
    },
    {
     "data": {
      "text/plain": [
       "0.911349266788128"
      ]
     },
     "execution_count": 41,
     "metadata": {},
     "output_type": "execute_result"
    }
   ],
   "source": [
    "# cross_val_score: Evaluates a score by cross-validation. number of folds is given in cv (default=5)\n",
    "lr_scores = cross_val_score(lr, X_train, y_train, cv=3)\n",
    "\n",
    "print(lr_scores) # to show r^2 from each of the 3 fold validations\n",
    "lr_scores.mean() # to average r^2 from across cv evaluations"
   ]
  },
  {
   "cell_type": "code",
   "execution_count": 42,
   "metadata": {},
   "outputs": [
    {
     "data": {
      "text/plain": [
       "0.9141628167115297"
      ]
     },
     "execution_count": 42,
     "metadata": {},
     "output_type": "execute_result"
    }
   ],
   "source": [
    "lasso_scores = cross_val_score(lasso, X_train, y_train, cv=3)\n",
    "lasso_scores.mean()"
   ]
  },
  {
   "cell_type": "code",
   "execution_count": 43,
   "metadata": {},
   "outputs": [
    {
     "data": {
      "text/plain": [
       "0.9109281882194096"
      ]
     },
     "execution_count": 43,
     "metadata": {},
     "output_type": "execute_result"
    }
   ],
   "source": [
    "ridge_scores = cross_val_score(ridge, X_train, y_train, cv=3)\n",
    "ridge_scores.mean()"
   ]
  },
  {
   "cell_type": "markdown",
   "metadata": {},
   "source": [
    "## Model Fitting and Evaluation\n",
    "---\n",
    "\n",
    "`LassoCV` seems to be doing the best based on $R^2$ scoring confirmation from our training cross validation, so let's move forward with that model. \n",
    "\n",
    "***<span style=\"color:blue\">Task</span>***: Let's fit the LassoCV model to the training data, evaluate the training and test scores and make predictions below."
   ]
  },
  {
   "cell_type": "code",
   "execution_count": 44,
   "metadata": {
    "tags": []
   },
   "outputs": [
    {
     "data": {
      "text/plain": [
       "LassoCV(n_alphas=200)"
      ]
     },
     "execution_count": 44,
     "metadata": {},
     "output_type": "execute_result"
    }
   ],
   "source": [
    "lasso.fit(X_train, y_train) # fitting lassocv instantiated model"
   ]
  },
  {
   "cell_type": "code",
   "execution_count": 45,
   "metadata": {},
   "outputs": [
    {
     "data": {
      "text/plain": [
       "0.9239260185648017"
      ]
     },
     "execution_count": 45,
     "metadata": {},
     "output_type": "execute_result"
    }
   ],
   "source": [
    "lasso.score(X_train, y_train) # scoring fit model on training set"
   ]
  },
  {
   "cell_type": "code",
   "execution_count": 46,
   "metadata": {},
   "outputs": [
    {
     "data": {
      "text/plain": [
       "0.9124706934793004"
      ]
     },
     "execution_count": 46,
     "metadata": {},
     "output_type": "execute_result"
    }
   ],
   "source": [
    "lasso.score(X_test, y_test) # scoring fit model on testing set"
   ]
  },
  {
   "cell_type": "code",
   "execution_count": 47,
   "metadata": {},
   "outputs": [
    {
     "data": {
      "text/plain": [
       "0.9141628167115297"
      ]
     },
     "execution_count": 47,
     "metadata": {},
     "output_type": "execute_result"
    }
   ],
   "source": [
    "lasso_scores.mean() # recapping cross-validation score from above (cv=3)"
   ]
  },
  {
   "cell_type": "code",
   "execution_count": 48,
   "metadata": {},
   "outputs": [
    {
     "data": {
      "text/plain": [
       "0.9124706934793004"
      ]
     },
     "execution_count": 48,
     "metadata": {},
     "output_type": "execute_result"
    }
   ],
   "source": [
    "y_pred = lasso.predict(X_test) # making predictions on testing set\n",
    "\n",
    "r2_score(y_test, y_pred) # comparing model predictions vs true observations"
   ]
  },
  {
   "cell_type": "code",
   "execution_count": 49,
   "metadata": {},
   "outputs": [
    {
     "data": {
      "text/plain": [
       "array([-1.81417795e+02,  2.73897843e+03, -0.00000000e+00,  6.45956351e+02,\n",
       "       -1.72106417e+02,  1.51309501e+02,  5.96481952e+01, -2.50745821e+02,\n",
       "        1.75841587e+02,  4.28414968e+00,  2.19200891e+00, -7.56395635e+01,\n",
       "       -3.04825463e+01,  6.35080432e+01, -2.25230537e+01,  4.15737223e+02,\n",
       "        9.54872079e+01])"
      ]
     },
     "execution_count": 49,
     "metadata": {},
     "output_type": "execute_result"
    }
   ],
   "source": [
    "lasso.coef_ # getting the regression coefficients for features (X) used in modeling"
   ]
  },
  {
   "cell_type": "code",
   "execution_count": 50,
   "metadata": {},
   "outputs": [
    {
     "data": {
      "image/png": "[encoded data removed]",
      "text/plain": [
       "<Figure size 1080x504 with 1 Axes>"
      ]
     },
     "metadata": {
      "needs_background": "light"
     },
     "output_type": "display_data"
    }
   ],
   "source": [
    "# plotting coefficients with corresponding features\n",
    "pd.Series(lasso.coef_, index=features).plot.bar(figsize=(15, 7));\n",
    "\n",
    "# Note some of the features (Enroll, Books, Personal) are completely zeroed out which is the advantage of using Lasso.\n",
    "# It does feature selection for us"
   ]
  },
  {
   "cell_type": "markdown",
   "metadata": {},
   "source": [
    "---\n",
    "## Approach#2 - Model Prep: `PowerTransformer`\n",
    "---\n",
    "Apply a power transform, featurewise, to make data more Gaussian-like (Gaussian is another name for normal distribution). We saw from our features histogram that there are many features not normally distributed. ([sklearn documentation for PowerTransformer](https://scikit-learn.org/stable/modules/generated/sklearn.preprocessing.PowerTransformer.html))\n",
    "\n",
    "In Machine Learning, data satisfying Normal Distribution is beneficial for model building. It just makes math easier. Models like LDA, Gaussian Naive Bayes, Logistic Regression, Linear Regression, etc., are explicitly calculated from the assumption that the distribution is a bivariate or multivariate normal. ([Medium article explaining on the significance of Normal distribution in machine learning](https://medium.com/analytics-vidhya/normal-distribution-and-machine-learning-ec9d3ca05070))\n",
    "\n",
    "This is an _alternate_ transformation vs standardization/scaling done previously.\n",
    "\n",
    "Let's fit a `PowerTransformer` to `X_train` and use it to transform both `X_train` and `X_test`."
   ]
  },
  {
   "cell_type": "code",
   "execution_count": 51,
   "metadata": {},
   "outputs": [],
   "source": [
    "# repeating train-test split from original df's X, y\n",
    "X_train_pwr, X_test_pwr, y_train_pwr, y_test_pwr = train_test_split(X, y, random_state=42)"
   ]
  },
  {
   "cell_type": "code",
   "execution_count": 52,
   "metadata": {},
   "outputs": [
    {
     "name": "stderr",
     "output_type": "stream",
     "text": [
      "/Users/E057788/opt/anaconda3/lib/python3.8/site-packages/sklearn/preprocessing/_data.py:3237: RuntimeWarning: divide by zero encountered in log\n",
      "  loglike = -n_samples / 2 * np.log(x_trans.var())\n"
     ]
    }
   ],
   "source": [
    "from sklearn.preprocessing import PowerTransformer\n",
    "\n",
    "pt = PowerTransformer()\n",
    "X_train_pwr = pt.fit_transform(X_train_pwr)\n",
    "X_test_pwr = pt.transform(X_test_pwr)"
   ]
  },
  {
   "cell_type": "markdown",
   "metadata": {},
   "source": [
    "We also want to transform our target to resemble a normal distribution, so we'll create another `PowerTransformer` for our `y`."
   ]
  },
  {
   "cell_type": "code",
   "execution_count": 53,
   "metadata": {},
   "outputs": [],
   "source": [
    "pt_y = PowerTransformer()\n",
    "\n",
    "# PowerTransformer requires a matrix/DataFrame, which is why we're using the .to_frame() method on y_train\n",
    "# while we didn't need to do this with X_train, which was already a dataframe\n",
    "y_train_pt = pt_y.fit_transform(y_train_pwr.to_frame())\n",
    "y_test_pt = pt_y.transform(y_test_pwr.to_frame())"
   ]
  },
  {
   "cell_type": "code",
   "execution_count": 54,
   "metadata": {},
   "outputs": [],
   "source": [
    "# instantiating the same 3 models as before: linear regression, lassoCV and ridgeCV\n",
    "lr_pwr = LinearRegression()\n",
    "lasso_pwr = LassoCV(n_alphas=200)\n",
    "ridge_pwr = RidgeCV(alphas=np.linspace(.1, 10, 100))"
   ]
  },
  {
   "cell_type": "code",
   "execution_count": 55,
   "metadata": {
    "scrolled": true,
    "tags": []
   },
   "outputs": [
    {
     "data": {
      "text/plain": [
       "array([[ 0.30222521],\n",
       "       [-0.03514751],\n",
       "       [-1.17858498],\n",
       "       [-0.77145009],\n",
       "       [-1.15039126],\n",
       "       [-0.30465888],\n",
       "       [ 1.47104039],\n",
       "       [-0.27175463],\n",
       "       [-1.10449513],\n",
       "       [-0.61154421],\n",
       "       [-0.15902687],\n",
       "       [-0.20473197],\n",
       "       [ 0.28523485],\n",
       "       [-2.38148507],\n",
       "       [-1.54968844],\n",
       "       [-0.78296432],\n",
       "       [ 1.42806224],\n",
       "       [ 1.70629333],\n",
       "       [-0.74744511],\n",
       "       [ 1.38643253],\n",
       "       [-1.04910698],\n",
       "       [ 0.23309413],\n",
       "       [-0.39972016],\n",
       "       [-0.32640185],\n",
       "       [-0.06815135],\n",
       "       [ 1.15314826],\n",
       "       [-0.10586695],\n",
       "       [-0.46706955],\n",
       "       [ 0.49735073],\n",
       "       [-0.40931683],\n",
       "       [ 1.58452524],\n",
       "       [-0.26679763],\n",
       "       [ 1.90116755],\n",
       "       [-0.82593675],\n",
       "       [-0.9334766 ],\n",
       "       [ 1.50782412],\n",
       "       [-0.81989066],\n",
       "       [-0.90665401],\n",
       "       [-0.21400506],\n",
       "       [ 0.54214766],\n",
       "       [-1.17419308],\n",
       "       [ 0.67944813],\n",
       "       [-0.72813122],\n",
       "       [ 0.27594553],\n",
       "       [ 2.18178981],\n",
       "       [-1.8487885 ],\n",
       "       [-1.24228064],\n",
       "       [ 0.18997687],\n",
       "       [ 1.2029544 ],\n",
       "       [ 1.11646731],\n",
       "       [ 0.38011607],\n",
       "       [-1.70296749],\n",
       "       [-0.23284457],\n",
       "       [ 0.53921209],\n",
       "       [-0.06223692],\n",
       "       [-0.76574591],\n",
       "       [ 1.27690102],\n",
       "       [ 0.69207305],\n",
       "       [ 0.13576391],\n",
       "       [ 0.94165089],\n",
       "       [-1.38934421],\n",
       "       [ 0.51266031],\n",
       "       [ 0.04029426],\n",
       "       [ 2.13101817],\n",
       "       [-0.54425862],\n",
       "       [-0.53979511],\n",
       "       [ 0.56495515],\n",
       "       [ 0.41296319],\n",
       "       [-0.04601245],\n",
       "       [ 2.01697428],\n",
       "       [-1.11473399],\n",
       "       [-0.66353393],\n",
       "       [-1.89337597],\n",
       "       [ 1.06238654],\n",
       "       [-0.3299299 ],\n",
       "       [ 0.03561748],\n",
       "       [ 0.82751882],\n",
       "       [-0.2561504 ],\n",
       "       [-1.06656108],\n",
       "       [-0.23284457],\n",
       "       [ 0.70531467],\n",
       "       [-1.40313224],\n",
       "       [ 1.50354421],\n",
       "       [-0.22573322],\n",
       "       [ 0.65589031],\n",
       "       [ 0.4536767 ],\n",
       "       [-0.94717991],\n",
       "       [ 0.78062656],\n",
       "       [ 0.93172087],\n",
       "       [-1.69545998],\n",
       "       [ 0.62665865],\n",
       "       [ 0.4084018 ],\n",
       "       [ 0.14253358],\n",
       "       [-0.22652059],\n",
       "       [ 0.28170785],\n",
       "       [ 1.53263796],\n",
       "       [-0.51454374],\n",
       "       [-0.4131841 ],\n",
       "       [-0.5960289 ],\n",
       "       [ 0.32562989],\n",
       "       [-0.15538236],\n",
       "       [ 1.27503678],\n",
       "       [ 0.6021537 ],\n",
       "       [ 0.10814727],\n",
       "       [-0.46604212],\n",
       "       [-0.75444135],\n",
       "       [ 1.09122074],\n",
       "       [ 0.61060182],\n",
       "       [-1.21218153],\n",
       "       [-0.81989066],\n",
       "       [-0.61879427],\n",
       "       [ 1.19164078],\n",
       "       [ 0.43356305],\n",
       "       [ 1.82951848],\n",
       "       [-0.91829495],\n",
       "       [-0.00333289],\n",
       "       [ 0.16809114],\n",
       "       [ 1.57802143],\n",
       "       [-1.43992273],\n",
       "       [ 0.14460602],\n",
       "       [ 1.02342855],\n",
       "       [ 0.5342967 ],\n",
       "       [ 0.2391485 ],\n",
       "       [ 0.28126596],\n",
       "       [ 1.02923891],\n",
       "       [ 0.64731354],\n",
       "       [ 0.3949569 ],\n",
       "       [ 0.80190221],\n",
       "       [-0.0821073 ],\n",
       "       [ 1.51247551],\n",
       "       [ 0.10219165],\n",
       "       [ 0.83351372],\n",
       "       [ 1.01720923],\n",
       "       [ 1.02251692],\n",
       "       [-0.43178191],\n",
       "       [ 0.23215892],\n",
       "       [-1.11062525],\n",
       "       [ 1.91712198],\n",
       "       [ 0.06840816],\n",
       "       [-2.366882  ],\n",
       "       [-0.47429415],\n",
       "       [ 0.40151371],\n",
       "       [-0.8935242 ],\n",
       "       [-0.94717991],\n",
       "       [ 1.02760894],\n",
       "       [-0.07079272],\n",
       "       [ 0.09564799],\n",
       "       [ 0.98595219],\n",
       "       [-0.29440574],\n",
       "       [-0.41028211],\n",
       "       [-1.03574991],\n",
       "       [-1.37305266],\n",
       "       [ 0.01964699],\n",
       "       [ 0.12894127],\n",
       "       [-1.84010401],\n",
       "       [-0.81989066],\n",
       "       [ 0.14408837],\n",
       "       [ 0.59881143],\n",
       "       [-2.11700859],\n",
       "       [ 0.53232251],\n",
       "       [ 1.21970236],\n",
       "       [-0.54202415],\n",
       "       [ 2.06099521],\n",
       "       [ 0.73429655],\n",
       "       [ 0.60849774],\n",
       "       [ 1.09556701],\n",
       "       [ 0.57722576],\n",
       "       [ 0.90793213],\n",
       "       [ 0.06274337],\n",
       "       [ 0.17511475],\n",
       "       [-0.45583106],\n",
       "       [ 1.49066359],\n",
       "       [ 0.48000952],\n",
       "       [ 1.83388748],\n",
       "       [ 1.70081856],\n",
       "       [-0.67764816],\n",
       "       [ 0.01064753],\n",
       "       [-0.87736585],\n",
       "       [-0.20550106],\n",
       "       [-0.82139852],\n",
       "       [ 0.39920528],\n",
       "       [-1.22595642],\n",
       "       [-0.11069619],\n",
       "       [ 1.4198882 ],\n",
       "       [ 1.02470312],\n",
       "       [ 0.60002834],\n",
       "       [ 0.82728737],\n",
       "       [ 1.81924757],\n",
       "       [ 0.70397307],\n",
       "       [ 0.11406256],\n",
       "       [-0.54649856],\n",
       "       [ 1.22184269],\n",
       "       [-0.84431314],\n",
       "       [-0.00333289],\n",
       "       [-0.37152499],\n",
       "       [-1.2352506 ],\n",
       "       [ 0.13209681],\n",
       "       [-0.71054961],\n",
       "       [ 1.38863059],\n",
       "       [-1.07245107],\n",
       "       [ 0.92517039],\n",
       "       [ 0.88451398],\n",
       "       [-0.21478218],\n",
       "       [-0.18722298],\n",
       "       [-0.51779815],\n",
       "       [-0.90335433],\n",
       "       [ 1.41532253],\n",
       "       [-1.79777701],\n",
       "       [ 0.31804008],\n",
       "       [-0.26927271],\n",
       "       [ 0.25524113],\n",
       "       [ 1.40180552],\n",
       "       [-1.85315914],\n",
       "       [ 1.62918083],\n",
       "       [ 0.87211162],\n",
       "       [-0.59366498],\n",
       "       [-0.68543857],\n",
       "       [ 0.61598827],\n",
       "       [-1.01513296],\n",
       "       [-0.13809334],\n",
       "       [-0.95758968],\n",
       "       [-1.0188483 ],\n",
       "       [-0.91328833],\n",
       "       [-0.77718942],\n",
       "       [-0.07743084],\n",
       "       [ 0.92228801],\n",
       "       [-0.02944915],\n",
       "       [-1.22827156],\n",
       "       [ 0.46123278],\n",
       "       [-0.65845444],\n",
       "       [-1.18742962],\n",
       "       [ 0.75979584],\n",
       "       [-1.66236233],\n",
       "       [-0.41124841],\n",
       "       [-0.52434191],\n",
       "       [ 0.9142047 ],\n",
       "       [ 0.95444194],\n",
       "       [ 0.51736742],\n",
       "       [ 0.69885522],\n",
       "       [ 1.03769829],\n",
       "       [ 0.303949  ],\n",
       "       [ 1.98258406],\n",
       "       [-0.17524214],\n",
       "       [ 1.51562663],\n",
       "       [-0.64963198],\n",
       "       [ 1.9585467 ],\n",
       "       [ 1.50503986],\n",
       "       [ 0.80214086],\n",
       "       [ 0.26790285],\n",
       "       [-0.44072602],\n",
       "       [-0.81688221],\n",
       "       [-1.46327292],\n",
       "       [-1.16982123],\n",
       "       [ 0.17361446],\n",
       "       [ 0.37339248],\n",
       "       [-0.09288993],\n",
       "       [-1.13344545],\n",
       "       [-0.2969581 ],\n",
       "       [-1.10043017],\n",
       "       [-0.07079272],\n",
       "       [ 1.05663446],\n",
       "       [-1.29050627],\n",
       "       [ 0.1273592 ],\n",
       "       [ 0.03737419],\n",
       "       [-0.17301353],\n",
       "       [-1.18742962],\n",
       "       [ 1.17655479],\n",
       "       [-0.04601245],\n",
       "       [-0.37709425],\n",
       "       [ 1.00574431],\n",
       "       [ 0.59024345],\n",
       "       [-0.76574591],\n",
       "       [ 0.25978451],\n",
       "       [-0.82139852],\n",
       "       [ 1.34992067],\n",
       "       [ 1.04411876],\n",
       "       [-0.6224408 ],\n",
       "       [-0.6273254 ],\n",
       "       [ 0.5190422 ],\n",
       "       [-1.38660991],\n",
       "       [ 1.230911  ],\n",
       "       [-0.64213638],\n",
       "       [ 0.27949613],\n",
       "       [ 0.64125714],\n",
       "       [-1.7105322 ],\n",
       "       [-0.52106418],\n",
       "       [ 0.80094689],\n",
       "       [ 1.086851  ],\n",
       "       [-0.41901606],\n",
       "       [-0.05441202],\n",
       "       [ 1.5278153 ],\n",
       "       [-2.44986576],\n",
       "       [-1.20763344],\n",
       "       [ 0.9108653 ],\n",
       "       [ 1.52344928],\n",
       "       [-1.68800886],\n",
       "       [-0.47948985],\n",
       "       [-0.32904659],\n",
       "       [-1.55616236],\n",
       "       [-0.46501585],\n",
       "       [ 0.12153362],\n",
       "       [ 0.85326281],\n",
       "       [-0.5623332 ],\n",
       "       [-0.49950779],\n",
       "       [ 0.19925966],\n",
       "       [-1.19411706],\n",
       "       [-1.07245107],\n",
       "       [-0.3706001 ],\n",
       "       [ 0.30995525],\n",
       "       [ 0.24792165],\n",
       "       [-1.66598572],\n",
       "       [-0.56119305],\n",
       "       [-0.96811557],\n",
       "       [ 0.4536767 ],\n",
       "       [ 1.104355  ],\n",
       "       [ 1.95117741],\n",
       "       [ 0.53724936],\n",
       "       [-1.56267921],\n",
       "       [-0.83814749],\n",
       "       [-0.78151723],\n",
       "       [ 0.4434964 ],\n",
       "       [-0.03387803],\n",
       "       [ 1.07701725],\n",
       "       [-3.07418751],\n",
       "       [-0.50699485],\n",
       "       [ 0.97558325],\n",
       "       [-0.46912789],\n",
       "       [-0.77718942],\n",
       "       [-0.44774386],\n",
       "       [ 1.70637016],\n",
       "       [-1.70674264],\n",
       "       [ 1.16913249],\n",
       "       [ 0.95523478],\n",
       "       [ 1.35560242],\n",
       "       [-0.95063709],\n",
       "       [-1.23291862],\n",
       "       [-0.42488572],\n",
       "       [-1.26609191],\n",
       "       [-0.73360863],\n",
       "       [-0.62122369],\n",
       "       [-1.57253616],\n",
       "       [ 1.9415953 ],\n",
       "       [ 1.45240633],\n",
       "       [-0.7172724 ],\n",
       "       [-0.43574622],\n",
       "       [ 0.59239364],\n",
       "       [-0.96988135],\n",
       "       [-0.96108529],\n",
       "       [ 1.07940187],\n",
       "       [-1.12716746],\n",
       "       [-1.09638248],\n",
       "       [-0.55551342],\n",
       "       [ 1.04144973],\n",
       "       [ 1.17034899],\n",
       "       [-0.03960514],\n",
       "       [ 0.11352646],\n",
       "       [-1.24936241],\n",
       "       [ 0.63340552],\n",
       "       [-0.05571137],\n",
       "       [-1.08234948],\n",
       "       [ 1.82617592],\n",
       "       [ 0.6018504 ],\n",
       "       [ 0.67640066],\n",
       "       [-1.00224284],\n",
       "       [ 0.33481621],\n",
       "       [-0.20550106],\n",
       "       [ 1.22596451],\n",
       "       [-0.47740802],\n",
       "       [-0.98952589],\n",
       "       [ 0.31336865],\n",
       "       [-0.5453779 ],\n",
       "       [-0.91662312],\n",
       "       [ 1.73034636],\n",
       "       [ 0.06727813],\n",
       "       [ 0.61000119],\n",
       "       [ 1.20455768],\n",
       "       [ 1.33386577],\n",
       "       [ 0.74841782],\n",
       "       [-1.01143213],\n",
       "       [-1.41993999],\n",
       "       [-0.27673913],\n",
       "       [ 0.76230327],\n",
       "       [ 1.52276791],\n",
       "       [-1.07837775],\n",
       "       [ 0.11137876],\n",
       "       [ 0.5890123 ],\n",
       "       [-1.16330065],\n",
       "       [ 1.73265132],\n",
       "       [ 1.87845849],\n",
       "       [-0.56805532],\n",
       "       [-0.40931683],\n",
       "       [-0.6127486 ],\n",
       "       [ 1.81526001],\n",
       "       [ 0.14408837],\n",
       "       [ 1.37287848],\n",
       "       [ 1.62790602],\n",
       "       [ 0.12100209],\n",
       "       [ 0.62400374],\n",
       "       [ 0.00883654],\n",
       "       [-0.93008169],\n",
       "       [-1.75319966],\n",
       "       [-1.45738281],\n",
       "       [-1.41993999],\n",
       "       [ 0.34019865],\n",
       "       [-1.08434158],\n",
       "       [ 1.02251692],\n",
       "       [ 0.70986005],\n",
       "       [-1.99902967],\n",
       "       [ 0.02440931],\n",
       "       [-0.41221574],\n",
       "       [-0.20858408],\n",
       "       [-0.63346777],\n",
       "       [ 1.97517829],\n",
       "       [ 0.12206483],\n",
       "       [ 1.15019344],\n",
       "       [-1.1852108 ],\n",
       "       [ 0.41900736],\n",
       "       [ 0.84037726],\n",
       "       [-0.49631774],\n",
       "       [-0.91328833],\n",
       "       [-1.40870264],\n",
       "       [ 0.44532326],\n",
       "       [ 0.78599689],\n",
       "       [ 1.16056509],\n",
       "       [ 1.62004092],\n",
       "       [ 0.89906924],\n",
       "       [-0.24723881],\n",
       "       [ 0.90203418],\n",
       "       [-1.04718728],\n",
       "       [-0.6127486 ],\n",
       "       [ 0.62901154],\n",
       "       [-0.98952589],\n",
       "       [ 0.65560583],\n",
       "       [ 1.4069016 ],\n",
       "       [-0.6224408 ],\n",
       "       [ 0.33813247],\n",
       "       [-0.29951772],\n",
       "       [ 1.43211764],\n",
       "       [-1.2352506 ],\n",
       "       [-2.10569951],\n",
       "       [ 1.84914347],\n",
       "       [ 1.36625099],\n",
       "       [ 1.46424869],\n",
       "       [-2.21855177],\n",
       "       [-0.1910002 ],\n",
       "       [-0.5623332 ],\n",
       "       [-1.02632296],\n",
       "       [-2.05630759],\n",
       "       [ 0.085186  ],\n",
       "       [-0.52324803],\n",
       "       [-1.58583424],\n",
       "       [ 0.1840625 ],\n",
       "       [ 1.96709934],\n",
       "       [ 0.65275568],\n",
       "       [-1.51794389],\n",
       "       [-0.14741653],\n",
       "       [-0.43574622],\n",
       "       [-0.66353393],\n",
       "       [-0.54874398],\n",
       "       [-0.79315727],\n",
       "       [ 0.29355407],\n",
       "       [-1.90714748],\n",
       "       [-1.35438504],\n",
       "       [ 0.86152063],\n",
       "       [-0.57612668],\n",
       "       [-0.80642829],\n",
       "       [ 0.08018632],\n",
       "       [-1.99902967],\n",
       "       [ 1.83868393],\n",
       "       [-0.07876446],\n",
       "       [ 0.24100289],\n",
       "       [-0.86780271],\n",
       "       [ 0.87211162],\n",
       "       [-0.26350809],\n",
       "       [-0.13453334],\n",
       "       [-0.80346283],\n",
       "       [-1.39483599],\n",
       "       [-0.31677028],\n",
       "       [-0.1017484 ],\n",
       "       [-1.21218153],\n",
       "       [ 0.69831467],\n",
       "       [ 0.77126784],\n",
       "       [ 0.28567471],\n",
       "       [-0.91162536],\n",
       "       [-1.48417246],\n",
       "       [ 0.54928087],\n",
       "       [ 0.28523485],\n",
       "       [ 1.79308453],\n",
       "       [-0.59366498],\n",
       "       [-0.24241501],\n",
       "       [-1.11062525],\n",
       "       [-0.64963198],\n",
       "       [ 0.32394905],\n",
       "       [ 0.70128338],\n",
       "       [-1.90714748],\n",
       "       [ 0.51468085],\n",
       "       [-0.81238763],\n",
       "       [ 0.19925966],\n",
       "       [ 0.93008815],\n",
       "       [-0.47119088],\n",
       "       [ 0.37140487],\n",
       "       [ 0.74968976],\n",
       "       [-1.41711847],\n",
       "       [-1.90253599],\n",
       "       [ 0.8886069 ],\n",
       "       [-0.56576219],\n",
       "       [-0.60554579],\n",
       "       [-1.11679502],\n",
       "       [ 0.0033811 ],\n",
       "       [ 1.97722486],\n",
       "       [-0.46809814],\n",
       "       [-1.589187  ],\n",
       "       [ 1.58766725],\n",
       "       [-0.02629921],\n",
       "       [ 0.96566797],\n",
       "       [ 0.34963952],\n",
       "       [ 0.05187836],\n",
       "       [-1.1807885 ],\n",
       "       [-0.49419721],\n",
       "       [ 0.94064312],\n",
       "       [ 1.95178964],\n",
       "       [ 2.01768801],\n",
       "       [ 0.21705646],\n",
       "       [ 1.29387637],\n",
       "       [-0.49631774],\n",
       "       [ 1.44200365],\n",
       "       [ 0.5518599 ],\n",
       "       [ 0.81492717],\n",
       "       [-0.48262154],\n",
       "       [ 0.12788687],\n",
       "       [-0.91996976],\n",
       "       [ 1.85295761],\n",
       "       [ 0.8151621 ],\n",
       "       [-0.48053256],\n",
       "       [-0.40450581],\n",
       "       [-0.93859202],\n",
       "       [-0.10517919],\n",
       "       [-0.31503008],\n",
       "       [-0.64338143],\n",
       "       [ 1.59905091],\n",
       "       [ 0.36501331],\n",
       "       [ 0.05761356],\n",
       "       [ 0.43171077],\n",
       "       [ 1.36565654],\n",
       "       [ 0.0972885 ],\n",
       "       [-0.40258852],\n",
       "       [-0.53757148],\n",
       "       [ 0.11993805],\n",
       "       [ 0.34102373],\n",
       "       [-1.10653413],\n",
       "       [ 0.77374091],\n",
       "       [ 0.71491103],\n",
       "       [-1.19635661],\n",
       "       [-0.05376305],\n",
       "       [-0.88864743],\n",
       "       [ 1.42707262],\n",
       "       [-0.98412767],\n",
       "       [ 0.17461494],\n",
       "       [ 0.41750033],\n",
       "       [-1.32319661],\n",
       "       [-1.49631866]])"
      ]
     },
     "execution_count": 55,
     "metadata": {},
     "output_type": "execute_result"
    }
   ],
   "source": [
    "y_train_pt # logistic regression, ridgeCV cross validation can accept below list-of-list/vector format"
   ]
  },
  {
   "cell_type": "code",
   "execution_count": 56,
   "metadata": {
    "scrolled": true,
    "tags": []
   },
   "outputs": [
    {
     "data": {
      "text/plain": [
       "array([ 0.30222521, -0.03514751, -1.17858498, -0.77145009, -1.15039126,\n",
       "       -0.30465888,  1.47104039, -0.27175463, -1.10449513, -0.61154421,\n",
       "       -0.15902687, -0.20473197,  0.28523485, -2.38148507, -1.54968844,\n",
       "       -0.78296432,  1.42806224,  1.70629333, -0.74744511,  1.38643253,\n",
       "       -1.04910698,  0.23309413, -0.39972016, -0.32640185, -0.06815135,\n",
       "        1.15314826, -0.10586695, -0.46706955,  0.49735073, -0.40931683,\n",
       "        1.58452524, -0.26679763,  1.90116755, -0.82593675, -0.9334766 ,\n",
       "        1.50782412, -0.81989066, -0.90665401, -0.21400506,  0.54214766,\n",
       "       -1.17419308,  0.67944813, -0.72813122,  0.27594553,  2.18178981,\n",
       "       -1.8487885 , -1.24228064,  0.18997687,  1.2029544 ,  1.11646731,\n",
       "        0.38011607, -1.70296749, -0.23284457,  0.53921209, -0.06223692,\n",
       "       -0.76574591,  1.27690102,  0.69207305,  0.13576391,  0.94165089,\n",
       "       -1.38934421,  0.51266031,  0.04029426,  2.13101817, -0.54425862,\n",
       "       -0.53979511,  0.56495515,  0.41296319, -0.04601245,  2.01697428,\n",
       "       -1.11473399, -0.66353393, -1.89337597,  1.06238654, -0.3299299 ,\n",
       "        0.03561748,  0.82751882, -0.2561504 , -1.06656108, -0.23284457,\n",
       "        0.70531467, -1.40313224,  1.50354421, -0.22573322,  0.65589031,\n",
       "        0.4536767 , -0.94717991,  0.78062656,  0.93172087, -1.69545998,\n",
       "        0.62665865,  0.4084018 ,  0.14253358, -0.22652059,  0.28170785,\n",
       "        1.53263796, -0.51454374, -0.4131841 , -0.5960289 ,  0.32562989,\n",
       "       -0.15538236,  1.27503678,  0.6021537 ,  0.10814727, -0.46604212,\n",
       "       -0.75444135,  1.09122074,  0.61060182, -1.21218153, -0.81989066,\n",
       "       -0.61879427,  1.19164078,  0.43356305,  1.82951848, -0.91829495,\n",
       "       -0.00333289,  0.16809114,  1.57802143, -1.43992273,  0.14460602,\n",
       "        1.02342855,  0.5342967 ,  0.2391485 ,  0.28126596,  1.02923891,\n",
       "        0.64731354,  0.3949569 ,  0.80190221, -0.0821073 ,  1.51247551,\n",
       "        0.10219165,  0.83351372,  1.01720923,  1.02251692, -0.43178191,\n",
       "        0.23215892, -1.11062525,  1.91712198,  0.06840816, -2.366882  ,\n",
       "       -0.47429415,  0.40151371, -0.8935242 , -0.94717991,  1.02760894,\n",
       "       -0.07079272,  0.09564799,  0.98595219, -0.29440574, -0.41028211,\n",
       "       -1.03574991, -1.37305266,  0.01964699,  0.12894127, -1.84010401,\n",
       "       -0.81989066,  0.14408837,  0.59881143, -2.11700859,  0.53232251,\n",
       "        1.21970236, -0.54202415,  2.06099521,  0.73429655,  0.60849774,\n",
       "        1.09556701,  0.57722576,  0.90793213,  0.06274337,  0.17511475,\n",
       "       -0.45583106,  1.49066359,  0.48000952,  1.83388748,  1.70081856,\n",
       "       -0.67764816,  0.01064753, -0.87736585, -0.20550106, -0.82139852,\n",
       "        0.39920528, -1.22595642, -0.11069619,  1.4198882 ,  1.02470312,\n",
       "        0.60002834,  0.82728737,  1.81924757,  0.70397307,  0.11406256,\n",
       "       -0.54649856,  1.22184269, -0.84431314, -0.00333289, -0.37152499,\n",
       "       -1.2352506 ,  0.13209681, -0.71054961,  1.38863059, -1.07245107,\n",
       "        0.92517039,  0.88451398, -0.21478218, -0.18722298, -0.51779815,\n",
       "       -0.90335433,  1.41532253, -1.79777701,  0.31804008, -0.26927271,\n",
       "        0.25524113,  1.40180552, -1.85315914,  1.62918083,  0.87211162,\n",
       "       -0.59366498, -0.68543857,  0.61598827, -1.01513296, -0.13809334,\n",
       "       -0.95758968, -1.0188483 , -0.91328833, -0.77718942, -0.07743084,\n",
       "        0.92228801, -0.02944915, -1.22827156,  0.46123278, -0.65845444,\n",
       "       -1.18742962,  0.75979584, -1.66236233, -0.41124841, -0.52434191,\n",
       "        0.9142047 ,  0.95444194,  0.51736742,  0.69885522,  1.03769829,\n",
       "        0.303949  ,  1.98258406, -0.17524214,  1.51562663, -0.64963198,\n",
       "        1.9585467 ,  1.50503986,  0.80214086,  0.26790285, -0.44072602,\n",
       "       -0.81688221, -1.46327292, -1.16982123,  0.17361446,  0.37339248,\n",
       "       -0.09288993, -1.13344545, -0.2969581 , -1.10043017, -0.07079272,\n",
       "        1.05663446, -1.29050627,  0.1273592 ,  0.03737419, -0.17301353,\n",
       "       -1.18742962,  1.17655479, -0.04601245, -0.37709425,  1.00574431,\n",
       "        0.59024345, -0.76574591,  0.25978451, -0.82139852,  1.34992067,\n",
       "        1.04411876, -0.6224408 , -0.6273254 ,  0.5190422 , -1.38660991,\n",
       "        1.230911  , -0.64213638,  0.27949613,  0.64125714, -1.7105322 ,\n",
       "       -0.52106418,  0.80094689,  1.086851  , -0.41901606, -0.05441202,\n",
       "        1.5278153 , -2.44986576, -1.20763344,  0.9108653 ,  1.52344928,\n",
       "       -1.68800886, -0.47948985, -0.32904659, -1.55616236, -0.46501585,\n",
       "        0.12153362,  0.85326281, -0.5623332 , -0.49950779,  0.19925966,\n",
       "       -1.19411706, -1.07245107, -0.3706001 ,  0.30995525,  0.24792165,\n",
       "       -1.66598572, -0.56119305, -0.96811557,  0.4536767 ,  1.104355  ,\n",
       "        1.95117741,  0.53724936, -1.56267921, -0.83814749, -0.78151723,\n",
       "        0.4434964 , -0.03387803,  1.07701725, -3.07418751, -0.50699485,\n",
       "        0.97558325, -0.46912789, -0.77718942, -0.44774386,  1.70637016,\n",
       "       -1.70674264,  1.16913249,  0.95523478,  1.35560242, -0.95063709,\n",
       "       -1.23291862, -0.42488572, -1.26609191, -0.73360863, -0.62122369,\n",
       "       -1.57253616,  1.9415953 ,  1.45240633, -0.7172724 , -0.43574622,\n",
       "        0.59239364, -0.96988135, -0.96108529,  1.07940187, -1.12716746,\n",
       "       -1.09638248, -0.55551342,  1.04144973,  1.17034899, -0.03960514,\n",
       "        0.11352646, -1.24936241,  0.63340552, -0.05571137, -1.08234948,\n",
       "        1.82617592,  0.6018504 ,  0.67640066, -1.00224284,  0.33481621,\n",
       "       -0.20550106,  1.22596451, -0.47740802, -0.98952589,  0.31336865,\n",
       "       -0.5453779 , -0.91662312,  1.73034636,  0.06727813,  0.61000119,\n",
       "        1.20455768,  1.33386577,  0.74841782, -1.01143213, -1.41993999,\n",
       "       -0.27673913,  0.76230327,  1.52276791, -1.07837775,  0.11137876,\n",
       "        0.5890123 , -1.16330065,  1.73265132,  1.87845849, -0.56805532,\n",
       "       -0.40931683, -0.6127486 ,  1.81526001,  0.14408837,  1.37287848,\n",
       "        1.62790602,  0.12100209,  0.62400374,  0.00883654, -0.93008169,\n",
       "       -1.75319966, -1.45738281, -1.41993999,  0.34019865, -1.08434158,\n",
       "        1.02251692,  0.70986005, -1.99902967,  0.02440931, -0.41221574,\n",
       "       -0.20858408, -0.63346777,  1.97517829,  0.12206483,  1.15019344,\n",
       "       -1.1852108 ,  0.41900736,  0.84037726, -0.49631774, -0.91328833,\n",
       "       -1.40870264,  0.44532326,  0.78599689,  1.16056509,  1.62004092,\n",
       "        0.89906924, -0.24723881,  0.90203418, -1.04718728, -0.6127486 ,\n",
       "        0.62901154, -0.98952589,  0.65560583,  1.4069016 , -0.6224408 ,\n",
       "        0.33813247, -0.29951772,  1.43211764, -1.2352506 , -2.10569951,\n",
       "        1.84914347,  1.36625099,  1.46424869, -2.21855177, -0.1910002 ,\n",
       "       -0.5623332 , -1.02632296, -2.05630759,  0.085186  , -0.52324803,\n",
       "       -1.58583424,  0.1840625 ,  1.96709934,  0.65275568, -1.51794389,\n",
       "       -0.14741653, -0.43574622, -0.66353393, -0.54874398, -0.79315727,\n",
       "        0.29355407, -1.90714748, -1.35438504,  0.86152063, -0.57612668,\n",
       "       -0.80642829,  0.08018632, -1.99902967,  1.83868393, -0.07876446,\n",
       "        0.24100289, -0.86780271,  0.87211162, -0.26350809, -0.13453334,\n",
       "       -0.80346283, -1.39483599, -0.31677028, -0.1017484 , -1.21218153,\n",
       "        0.69831467,  0.77126784,  0.28567471, -0.91162536, -1.48417246,\n",
       "        0.54928087,  0.28523485,  1.79308453, -0.59366498, -0.24241501,\n",
       "       -1.11062525, -0.64963198,  0.32394905,  0.70128338, -1.90714748,\n",
       "        0.51468085, -0.81238763,  0.19925966,  0.93008815, -0.47119088,\n",
       "        0.37140487,  0.74968976, -1.41711847, -1.90253599,  0.8886069 ,\n",
       "       -0.56576219, -0.60554579, -1.11679502,  0.0033811 ,  1.97722486,\n",
       "       -0.46809814, -1.589187  ,  1.58766725, -0.02629921,  0.96566797,\n",
       "        0.34963952,  0.05187836, -1.1807885 , -0.49419721,  0.94064312,\n",
       "        1.95178964,  2.01768801,  0.21705646,  1.29387637, -0.49631774,\n",
       "        1.44200365,  0.5518599 ,  0.81492717, -0.48262154,  0.12788687,\n",
       "       -0.91996976,  1.85295761,  0.8151621 , -0.48053256, -0.40450581,\n",
       "       -0.93859202, -0.10517919, -0.31503008, -0.64338143,  1.59905091,\n",
       "        0.36501331,  0.05761356,  0.43171077,  1.36565654,  0.0972885 ,\n",
       "       -0.40258852, -0.53757148,  0.11993805,  0.34102373, -1.10653413,\n",
       "        0.77374091,  0.71491103, -1.19635661, -0.05376305, -0.88864743,\n",
       "        1.42707262, -0.98412767,  0.17461494,  0.41750033, -1.32319661,\n",
       "       -1.49631866])"
      ]
     },
     "execution_count": 56,
     "metadata": {},
     "output_type": "execute_result"
    }
   ],
   "source": [
    "y_train_pt[:, 0] #lassoCV requires y_train in a different unpacked list/1-D array format, else the next CV step throws error"
   ]
  },
  {
   "cell_type": "code",
   "execution_count": 57,
   "metadata": {},
   "outputs": [
    {
     "name": "stdout",
     "output_type": "stream",
     "text": [
      "lr_power: 0.9611291261345908\n",
      "lasso_power: 0.9609635869076224\n",
      "ridge_power: 0.9610600772813348\n"
     ]
    }
   ],
   "source": [
    "# cross validating the above instantiated models\n",
    "lr_pwr_scores = cross_val_score(lr_pwr, X_train_pwr, y_train_pt, cv=3)\n",
    "print(f'lr_power: {lr_pwr_scores.mean()}')\n",
    "\n",
    "lasso_pwr_scores = cross_val_score(lasso_pwr, X_train_pwr, y_train_pt[:, 0], cv=3)\n",
    "print(f'lasso_power: {lasso_pwr_scores.mean()}')\n",
    "\n",
    "ridge_pwr_scores = cross_val_score(ridge_pwr, X_train_pwr, y_train_pt, cv=3)\n",
    "print(f'ridge_power: {ridge_pwr_scores.mean()}')"
   ]
  },
  {
   "cell_type": "markdown",
   "metadata": {},
   "source": [
    "The results are better than previously seen with `Standard Scaling`.\n",
    "\n",
    "From the PowerTransformer cross validation scores above, `RidgeCV` seems to be doing the best, so let's move forward with that model to Fit the model to the training data, evaluate the training and test scores and predict on testing set below."
   ]
  },
  {
   "cell_type": "code",
   "execution_count": 58,
   "metadata": {},
   "outputs": [
    {
     "data": {
      "text/plain": [
       "RidgeCV(alphas=array([ 0.1,  0.2,  0.3,  0.4,  0.5,  0.6,  0.7,  0.8,  0.9,  1. ,  1.1,\n",
       "        1.2,  1.3,  1.4,  1.5,  1.6,  1.7,  1.8,  1.9,  2. ,  2.1,  2.2,\n",
       "        2.3,  2.4,  2.5,  2.6,  2.7,  2.8,  2.9,  3. ,  3.1,  3.2,  3.3,\n",
       "        3.4,  3.5,  3.6,  3.7,  3.8,  3.9,  4. ,  4.1,  4.2,  4.3,  4.4,\n",
       "        4.5,  4.6,  4.7,  4.8,  4.9,  5. ,  5.1,  5.2,  5.3,  5.4,  5.5,\n",
       "        5.6,  5.7,  5.8,  5.9,  6. ,  6.1,  6.2,  6.3,  6.4,  6.5,  6.6,\n",
       "        6.7,  6.8,  6.9,  7. ,  7.1,  7.2,  7.3,  7.4,  7.5,  7.6,  7.7,\n",
       "        7.8,  7.9,  8. ,  8.1,  8.2,  8.3,  8.4,  8.5,  8.6,  8.7,  8.8,\n",
       "        8.9,  9. ,  9.1,  9.2,  9.3,  9.4,  9.5,  9.6,  9.7,  9.8,  9.9,\n",
       "       10. ]))"
      ]
     },
     "execution_count": 58,
     "metadata": {},
     "output_type": "execute_result"
    }
   ],
   "source": [
    "ridge_pwr.fit(X_train_pwr, y_train_pt)"
   ]
  },
  {
   "cell_type": "code",
   "execution_count": 59,
   "metadata": {},
   "outputs": [
    {
     "data": {
      "text/plain": [
       "0.9649105166148765"
      ]
     },
     "execution_count": 59,
     "metadata": {},
     "output_type": "execute_result"
    }
   ],
   "source": [
    "ridge_pwr.score(X_train_pwr, y_train_pt)"
   ]
  },
  {
   "cell_type": "code",
   "execution_count": 60,
   "metadata": {},
   "outputs": [
    {
     "data": {
      "text/plain": [
       "0.9678002418463295"
      ]
     },
     "execution_count": 60,
     "metadata": {},
     "output_type": "execute_result"
    }
   ],
   "source": [
    "ridge_pwr.score(X_test_pwr, y_test_pt)"
   ]
  },
  {
   "cell_type": "code",
   "execution_count": 61,
   "metadata": {},
   "outputs": [],
   "source": [
    "y_pred_pwr = ridge_pwr.predict(X_test_pwr)\n",
    "\n",
    "# before we compare y_true with y_pred for an r^2 score, we'll need to revert the PowerTransformer required y_format,\n",
    "# with PowerTransformer_instance.inverse_transform\n",
    "y_pred_pwr_reversed = pt_y.inverse_transform(y_pred_pwr)"
   ]
  },
  {
   "cell_type": "code",
   "execution_count": 62,
   "metadata": {},
   "outputs": [
    {
     "data": {
      "text/plain": [
       "0.9445383916258507"
      ]
     },
     "execution_count": 62,
     "metadata": {},
     "output_type": "execute_result"
    }
   ],
   "source": [
    "r2_score(y_test, y_pred_pwr_reversed)"
   ]
  },
  {
   "cell_type": "markdown",
   "metadata": {},
   "source": [
    "Overall, the model is better performing compared to our 1st approach with `StandardScaler()`"
   ]
  },
  {
   "cell_type": "markdown",
   "metadata": {},
   "source": [
    "As you can see, a lot of the code we write for training ML models are actually EDA and data manipulation.\n",
    "\n",
    "The ML algorithms themselves can be trained with a few lines of code. \n",
    "\n",
    "According to some estimates [Link](https://www.forbes.com/sites/gilpress/2016/03/23/data-preparation-most-time-consuming-least-enjoyable-data-science-task-survey-says/?sh=60cd228f6f63), data cleaning and preparation takes up 60-80% of a data scientist's time. \n",
    "\n",
    "So make yourself super familiar with manipulating data in pandas. Many interview coding tests will test how well you can work with pandas dataframes!"
   ]
  },
  {
   "cell_type": "code",
   "execution_count": null,
   "metadata": {},
   "outputs": [],
   "source": []
  }
 ],
 "metadata": {
  "kernelspec": {
   "display_name": "Python 3",
   "language": "python",
   "name": "python3"
  },
  "language_info": {
   "codemirror_mode": {
    "name": "ipython",
    "version": 3
   },
   "file_extension": ".py",
   "mimetype": "text/x-python",
   "name": "python",
   "nbconvert_exporter": "python",
   "pygments_lexer": "ipython3",
   "version": "3.8.8"
  }
 },
 "nbformat": 4,
 "nbformat_minor": 4
}
