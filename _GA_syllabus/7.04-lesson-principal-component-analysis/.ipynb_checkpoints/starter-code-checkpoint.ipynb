{
 "cells": [
  {
   "cell_type": "markdown",
   "metadata": {},
   "source": [
    "<img src=\"http://imgur.com/1ZcRyrc.png\" style=\"float: left; margin: 20px; height: 55px\">\n",
    "\n",
    "# Principal Component Analysis\n",
    "\n",
    "_Authors: Justin Pounders, Matt Brems, Noelle Brown_"
   ]
  },
  {
   "cell_type": "markdown",
   "metadata": {},
   "source": [
    "### LEARNING OBJECTIVES\n",
    "By the end of the lesson, students should be able to:\n",
    "1. Differentiate between feature selection and feature extraction.\n",
    "2. Describe the PCA algorithm.\n",
    "3. Implement PCA in `scikit-learn`.\n",
    "4. Calculate and interpret proportion of explained variance.\n",
    "5. Identify use cases for PCA."
   ]
  },
  {
   "cell_type": "code",
   "execution_count": 1,
   "metadata": {},
   "outputs": [],
   "source": [
    "# Import our libraries.\n",
    "import pandas as pd\n",
    "import numpy as np\n",
    "import matplotlib.pyplot as plt\n",
    "import seaborn as sns\n",
    "\n",
    "# Import from sklearn.\n",
    "from sklearn.model_selection import train_test_split\n",
    "from sklearn.linear_model import LinearRegression\n",
    "from sklearn.preprocessing import PolynomialFeatures, StandardScaler\n",
    "\n",
    "# Set a random seed.\n",
    "np.random.seed(42)"
   ]
  },
  {
   "cell_type": "markdown",
   "metadata": {},
   "source": [
    "### Introduction of Problem\n",
    "\n",
    "Today, we're going to be using the [wine quality](http://www3.dsi.uminho.pt/pcortez/wine/) dataset by Cortez, Cerdeira, Almeida, Matos and Reis.\n",
    "\n",
    "Specifically, we are going to use physicochemical properties of the wine in order to predict the quality of the wine."
   ]
  },
  {
   "cell_type": "code",
   "execution_count": 2,
   "metadata": {},
   "outputs": [
    {
     "data": {
      "text/html": [
       "<div>\n",
       "<style scoped>\n",
       "    .dataframe tbody tr th:only-of-type {\n",
       "        vertical-align: middle;\n",
       "    }\n",
       "\n",
       "    .dataframe tbody tr th {\n",
       "        vertical-align: top;\n",
       "    }\n",
       "\n",
       "    .dataframe thead th {\n",
       "        text-align: right;\n",
       "    }\n",
       "</style>\n",
       "<table border=\"1\" class=\"dataframe\">\n",
       "  <thead>\n",
       "    <tr style=\"text-align: right;\">\n",
       "      <th></th>\n",
       "      <th>fixed acidity</th>\n",
       "      <th>volatile acidity</th>\n",
       "      <th>citric acid</th>\n",
       "      <th>residual sugar</th>\n",
       "      <th>chlorides</th>\n",
       "      <th>free sulfur dioxide</th>\n",
       "      <th>total sulfur dioxide</th>\n",
       "      <th>density</th>\n",
       "      <th>pH</th>\n",
       "      <th>sulphates</th>\n",
       "      <th>alcohol</th>\n",
       "      <th>quality</th>\n",
       "    </tr>\n",
       "  </thead>\n",
       "  <tbody>\n",
       "    <tr>\n",
       "      <th>0</th>\n",
       "      <td>7.4</td>\n",
       "      <td>0.70</td>\n",
       "      <td>0.00</td>\n",
       "      <td>1.9</td>\n",
       "      <td>0.076</td>\n",
       "      <td>11.0</td>\n",
       "      <td>34.0</td>\n",
       "      <td>0.9978</td>\n",
       "      <td>3.51</td>\n",
       "      <td>0.56</td>\n",
       "      <td>9.4</td>\n",
       "      <td>5</td>\n",
       "    </tr>\n",
       "    <tr>\n",
       "      <th>1</th>\n",
       "      <td>7.8</td>\n",
       "      <td>0.88</td>\n",
       "      <td>0.00</td>\n",
       "      <td>2.6</td>\n",
       "      <td>0.098</td>\n",
       "      <td>25.0</td>\n",
       "      <td>67.0</td>\n",
       "      <td>0.9968</td>\n",
       "      <td>3.20</td>\n",
       "      <td>0.68</td>\n",
       "      <td>9.8</td>\n",
       "      <td>5</td>\n",
       "    </tr>\n",
       "    <tr>\n",
       "      <th>2</th>\n",
       "      <td>7.8</td>\n",
       "      <td>0.76</td>\n",
       "      <td>0.04</td>\n",
       "      <td>2.3</td>\n",
       "      <td>0.092</td>\n",
       "      <td>15.0</td>\n",
       "      <td>54.0</td>\n",
       "      <td>0.9970</td>\n",
       "      <td>3.26</td>\n",
       "      <td>0.65</td>\n",
       "      <td>9.8</td>\n",
       "      <td>5</td>\n",
       "    </tr>\n",
       "    <tr>\n",
       "      <th>3</th>\n",
       "      <td>11.2</td>\n",
       "      <td>0.28</td>\n",
       "      <td>0.56</td>\n",
       "      <td>1.9</td>\n",
       "      <td>0.075</td>\n",
       "      <td>17.0</td>\n",
       "      <td>60.0</td>\n",
       "      <td>0.9980</td>\n",
       "      <td>3.16</td>\n",
       "      <td>0.58</td>\n",
       "      <td>9.8</td>\n",
       "      <td>6</td>\n",
       "    </tr>\n",
       "    <tr>\n",
       "      <th>4</th>\n",
       "      <td>7.4</td>\n",
       "      <td>0.70</td>\n",
       "      <td>0.00</td>\n",
       "      <td>1.9</td>\n",
       "      <td>0.076</td>\n",
       "      <td>11.0</td>\n",
       "      <td>34.0</td>\n",
       "      <td>0.9978</td>\n",
       "      <td>3.51</td>\n",
       "      <td>0.56</td>\n",
       "      <td>9.4</td>\n",
       "      <td>5</td>\n",
       "    </tr>\n",
       "  </tbody>\n",
       "</table>\n",
       "</div>"
      ],
      "text/plain": [
       "   fixed acidity  volatile acidity  citric acid  residual sugar  chlorides  \\\n",
       "0            7.4              0.70         0.00             1.9      0.076   \n",
       "1            7.8              0.88         0.00             2.6      0.098   \n",
       "2            7.8              0.76         0.04             2.3      0.092   \n",
       "3           11.2              0.28         0.56             1.9      0.075   \n",
       "4            7.4              0.70         0.00             1.9      0.076   \n",
       "\n",
       "   free sulfur dioxide  total sulfur dioxide  density    pH  sulphates  \\\n",
       "0                 11.0                  34.0   0.9978  3.51       0.56   \n",
       "1                 25.0                  67.0   0.9968  3.20       0.68   \n",
       "2                 15.0                  54.0   0.9970  3.26       0.65   \n",
       "3                 17.0                  60.0   0.9980  3.16       0.58   \n",
       "4                 11.0                  34.0   0.9978  3.51       0.56   \n",
       "\n",
       "   alcohol  quality  \n",
       "0      9.4        5  \n",
       "1      9.8        5  \n",
       "2      9.8        5  \n",
       "3      9.8        6  \n",
       "4      9.4        5  "
      ]
     },
     "execution_count": 2,
     "metadata": {},
     "output_type": "execute_result"
    }
   ],
   "source": [
    "# Read in the wine quality datasets.\n",
    "df_red = pd.read_csv('./datasets/winequality-red.csv', sep=';')\n",
    "df_white = pd.read_csv('./datasets/winequality-white.csv', sep=';')\n",
    "\n",
    "# Stack datasets together. (They have the same column names!)\n",
    "df = pd.concat([df_red, df_white], axis=0)\n",
    "\n",
    "# Check out head of our dataframe.\n",
    "df.head()"
   ]
  },
  {
   "cell_type": "markdown",
   "metadata": {},
   "source": [
    "### Fit a multiple linear regression model in `sklearn`."
   ]
  },
  {
   "cell_type": "code",
   "execution_count": 3,
   "metadata": {},
   "outputs": [
    {
     "data": {
      "text/plain": [
       "fixed acidity           0\n",
       "volatile acidity        0\n",
       "citric acid             0\n",
       "residual sugar          0\n",
       "chlorides               0\n",
       "free sulfur dioxide     0\n",
       "total sulfur dioxide    0\n",
       "density                 0\n",
       "pH                      0\n",
       "sulphates               0\n",
       "alcohol                 0\n",
       "dtype: int64"
      ]
     },
     "execution_count": 3,
     "metadata": {},
     "output_type": "execute_result"
    }
   ],
   "source": [
    "# Set y to be the quality column.\n",
    "y = df['quality']\n",
    "\n",
    "# Set X as all other columns.\n",
    "X = df.drop(labels=['quality'], axis=1)\n",
    "\n",
    "# How much missing data do we have?\n",
    "X.isnull().sum()"
   ]
  },
  {
   "cell_type": "code",
   "execution_count": 4,
   "metadata": {},
   "outputs": [
    {
     "data": {
      "text/plain": [
       "array([[1.000000e+00, 7.400000e+00, 7.000000e-01, 5.476000e+01,\n",
       "        5.180000e+00, 4.900000e-01, 4.052240e+02, 3.833200e+01,\n",
       "        3.626000e+00, 3.430000e-01],\n",
       "       [1.000000e+00, 7.800000e+00, 8.800000e-01, 6.084000e+01,\n",
       "        6.864000e+00, 7.744000e-01, 4.745520e+02, 5.353920e+01,\n",
       "        6.040320e+00, 6.814720e-01],\n",
       "       [1.000000e+00, 7.800000e+00, 7.600000e-01, 6.084000e+01,\n",
       "        5.928000e+00, 5.776000e-01, 4.745520e+02, 4.623840e+01,\n",
       "        4.505280e+00, 4.389760e-01],\n",
       "       [1.000000e+00, 1.120000e+01, 2.800000e-01, 1.254400e+02,\n",
       "        3.136000e+00, 7.840000e-02, 1.404928e+03, 3.512320e+01,\n",
       "        8.780800e-01, 2.195200e-02],\n",
       "       [1.000000e+00, 7.400000e+00, 7.000000e-01, 5.476000e+01,\n",
       "        5.180000e+00, 4.900000e-01, 4.052240e+02, 3.833200e+01,\n",
       "        3.626000e+00, 3.430000e-01]])"
      ]
     },
     "execution_count": 4,
     "metadata": {},
     "output_type": "execute_result"
    }
   ],
   "source": [
    "sample_X = df[['fixed acidity', 'volatile acidity']].head()\n",
    "\n",
    "trans = PolynomialFeatures(degree=3)\n",
    "poly_sample_X = trans.fit_transform(sample_X)\n",
    "poly_sample_X"
   ]
  },
  {
   "cell_type": "code",
   "execution_count": 17,
   "metadata": {},
   "outputs": [
    {
     "name": "stdout",
     "output_type": "stream",
     "text": [
      "(6497, 364)\n",
      "(6497, 11)\n",
      "(6497,)\n"
     ]
    }
   ],
   "source": [
    "# To show off the strength of PCA, we're going to make many, many more features.\n",
    "pf = PolynomialFeatures(degree=3)\n",
    "\n",
    "# Fit and transform our X data using Polynomial Features.\n",
    "X_new = pf.fit_transform(X)\n",
    "\n",
    "# How many features do we have now?\n",
    "print(X_new.shape)\n",
    "\n",
    "# How many features did we start out with?\n",
    "print(X.shape)\n",
    "print(y.shape)"
   ]
  },
  {
   "cell_type": "code",
   "execution_count": 18,
   "metadata": {},
   "outputs": [],
   "source": [
    "# Train/test split our data.\n",
    "X_train, X_test, y_train, y_test = train_test_split(X_new,\n",
    "                                                    y,\n",
    "                                                    test_size = 0.33,\n",
    "                                                    random_state = 42)"
   ]
  },
  {
   "cell_type": "code",
   "execution_count": 19,
   "metadata": {},
   "outputs": [
    {
     "name": "stdout",
     "output_type": "stream",
     "text": [
      "Training Score: 0.4563.\n",
      "Testing Score: -0.8822.\n"
     ]
    }
   ],
   "source": [
    "# Instantiate and fit a linear regression model.\n",
    "lm = LinearRegression()\n",
    "lm.fit(X_train, y_train)\n",
    "\n",
    "# Score on training set. (We'll use R^2 for the score today.)\n",
    "print(f'Training Score: {round(lm.score(X_train, y_train),4)}.')\n",
    "\n",
    "# Score on testing set.\n",
    "print(f'Testing Score: {round(lm.score(X_test, y_test),4)}.')"
   ]
  },
  {
   "cell_type": "markdown",
   "metadata": {},
   "source": [
    "<details><summary>Check: What is the problem with this?</summary>\n",
    "    \n",
    "- We've clearly overfit our model to the data (so much so that our model's performance is really bad)!\n",
    "- We have a lot of columns relative to our number of rows! (If you have $n$ rows and you're fitting a linear model, it's often advised to keep your number of columns below $\\sqrt{n}$.)\n",
    "</details>"
   ]
  },
  {
   "cell_type": "markdown",
   "metadata": {},
   "source": [
    "<details><summary>Check: How can we overcome this problem?</summary>\n",
    "\n",
    "- We can drop features from our model. (However, this loses any benefit we'd get from dropping those features! It can also be time-consuming and/or require subject-matter expertise.)\n",
    "- Maybe we can combine features together so that we can get the benefits of most/all of our features. (This is what PCA will do.)\n",
    "</details>"
   ]
  },
  {
   "cell_type": "markdown",
   "metadata": {},
   "source": [
    "### Dimensionality Reduction\n",
    "\n",
    "[Dimensionality reduction](https://www.analyticsvidhya.com/blog/2015/07/dimension-reduction-methods/) refers to (approximately) reducing the number of features we use in our model."
   ]
  },
  {
   "cell_type": "markdown",
   "metadata": {},
   "source": [
    "<details><summary>Dimensionality reduction has a number of advantages:</summary>\n",
    "\n",
    "- Increases computational efficiency when fitting models.\n",
    "- Can help with addressing a multicollinearity problem.\n",
    "- Makes visualization simpler (or feasible).\n",
    "</details>"
   ]
  },
  {
   "cell_type": "markdown",
   "metadata": {},
   "source": [
    "<details><summary>Dimensionality reduction can suffer from some drawbacks, though:</summary>\n",
    "\n",
    "- We've invested our time and money into collecting information... why do we want to get rid of it?\n",
    "</details>"
   ]
  },
  {
   "cell_type": "markdown",
   "metadata": {},
   "source": [
    "### Is there a way to get the advantages of dimensionality reduction while minimizing the drawbacks?\n",
    "\n",
    "Dimensionality reduction can generally be broken down into one of two categories:\n",
    "\n",
    "<img src=\"./images/dim_red.png\" alt=\"drawing\" width=\"550\"/>\n",
    "\n",
    "- **Feature Selection**\n",
    "    - We drop variables from our model.\n",
    "- **Feature Extraction**\n",
    "    - In feature extraction, we take our existing features and combine them together in a particular way. We can then drop some of these \"new\" variables, but the variables we keep are still a combination of the old variables!\n",
    "    - This allows us to still reduce the number of features in our model **but** we can keep all of the most important pieces of the original features!\n",
    "\n",
    "<img src=\"./images/feast.png\" alt=\"drawing\" width=\"550\"/>\n",
    "\n",
    "### $$\n",
    "\\begin{eqnarray*}\n",
    "X_1, \\ldots, X_p &\\Rightarrow& Z_1, \\ldots, Z_p \\\\\n",
    "\\\\\n",
    "\\text{most important: }Z_1 &=& w_{1,1}X_1 + w_{1,2}X_2 + \\cdots + w_{1,p}X_p \\\\\n",
    "\\text{slightly less important: }Z_2 &=& w_{2,1}X_1 + w_{2,2}X_2 + \\cdots + w_{2,p}X_p \\\\\n",
    "&\\vdots&\\\\\n",
    "\\text{least important: }Z_p &=& w_{p,1}X_1 + w_{p,2}X_2 + \\cdots + w_{p,p}X_p \\\\\n",
    "\\end{eqnarray*}\n",
    "$$\n",
    "\n",
    "- We don't usually care about the values of weights here. They aren't very meaningful and we don't try to interpret them.\n",
    "- You can think of $Z_1$ as a \"high performance\" predictor, where $Z_1$ has all of the best pieces of our original predictors $X_1$ through $X_p$.\n",
    "- As we move down the list toward $Z_p$, the variables will consist of the more \"redundant\" parts of our $X$ variables. \n",
    "- You can think of $Z_p$ as a \"low performance\" predictor."
   ]
  },
  {
   "cell_type": "markdown",
   "metadata": {},
   "source": [
    "<details><summary>If I'm going to keep three of my new predictors, which three would I keep?</summary>\n",
    "    \n",
    "- The first three: $Z_1$, $Z_2$, and $Z_3$.\n",
    "- This is how we do feature extraction.\n",
    "    - We take our old features $X_1$, $X_2$, $X_3$, and $X_4$.\n",
    "    - We turn them into new features $Z_1$, $Z_2$, $Z_3$, and $Z_4$.\n",
    "    - The new features are combinations of our old features.\n",
    "    - If we drop new features, we're doing dimensionality reduction, but we also keep parts of every old feature!\n",
    "</details>"
   ]
  },
  {
   "cell_type": "markdown",
   "metadata": {},
   "source": [
    "Dimensionality reduction can be used as an exploratory/unsupervised learning method or as a pre-processing step for supervised learning later.\n",
    "\n",
    "**Principal component analysis** is one algorithm for doing feature extraction."
   ]
  },
  {
   "cell_type": "markdown",
   "metadata": {},
   "source": [
    "<details><summary>How would you describe the difference between feature selection and feature extraction?</summary>\n",
    "\n",
    "- Feature selection is a process of dropping original features from our model.\n",
    "- Feature extraction is a process of transforming our original features into \"new\" features, then dropping some of the \"new\" features from our model.\n",
    "</details>"
   ]
  },
  {
   "cell_type": "markdown",
   "metadata": {},
   "source": [
    "## Principal Component Analysis\n",
    "\n",
    "### Big picture, what is PCA doing?\n",
    "1. We are going to look at how all of the $X$ variables relate to one another and summarize these relationships.\n",
    "2. Then, we will take this summary and look at which combinations of our $X$ variables are most important.\n",
    "3. We can also quantify how important each combination is and rank these combinations.\n",
    "\n",
    "Once we've taken our original $X$ data and transformed it into $Z$, we can then drop the columns of $Z$ that are \"least important.\""
   ]
  },
  {
   "cell_type": "markdown",
   "metadata": {},
   "source": [
    "Imagine you are this [Whale shark](https://en.wikipedia.org/wiki/Whale_shark):\n",
    "\n",
    "<img src=\"./images/whaleshark.png\" alt=\"drawing\" width=\"500\"/>\n",
    "\n",
    "And you want a snack. Which way would you tilt your head to eat the most krill at once?\n",
    "\n",
    "<img src=\"./images/krill.png\" alt=\"drawing\" width=\"500\"/>\n",
    "\n",
    "Above artwork by [@allison_horst](https://twitter.com/allison_horst)"
   ]
  },
  {
   "cell_type": "markdown",
   "metadata": {},
   "source": [
    "<img src=\"./images/pca.gif\" alt=\"drawing\" width=\"600\"/>\n",
    "\n",
    "[Source](https://rpubs.com/jormerod/594859)."
   ]
  },
  {
   "cell_type": "markdown",
   "metadata": {},
   "source": [
    "**Visually...**\n",
    "\n",
    "> Think of our data floating out in $p$-dimensional space. Each observation is a dot and you can imagine this massive cloud of dots that exists somewhere. PCA is a way to rotate this cloud of dots (formally, a [coordinate transformation](http://farside.ph.utexas.edu/teaching/336k/Newtonhtml/node153.html)). The old axes are the original $X_1$, $X_2$, $\\ldots$ features. **The new axes are the principal components from PCA**.\n",
    "\n",
    "The principal components are the most concise, informative descriptors of our data as a whole.\n",
    "- What does this mean?\n",
    "- If we wanted to take our full data set and condense it into one dimension (think like our $X$ axis), we'd only use $Z_1$.\n",
    "- If we wanted to take our full data set and condense it into two dimensions (think like our $X$ and $Y$ axes), we'd use $Z_1$ and $Z_2$.\n",
    "\n",
    "Let's head to [this site](http://setosa.io/ev/principal-component-analysis/). Play around with the 2D data. Take 2-3 minutes.\n",
    "1. As you interact with the data, how would you describe the red line?\n",
    "2. As you interact with the data, how would you describe the green line?\n",
    "\n",
    "---\n",
    "\n",
    "### Principal Components\n",
    "\n",
    "- We are looking for new *directions*. ([Insert Glee joke here](https://glee.fandom.com/wiki/New_Directions).)\n",
    "- Each consecutive direction tries to explain the maximum *remaining variance* in our $X$ data.\n",
    "- Each direction is *orthogonal* to all the others.\n",
    "\n",
    "**These new *directions* are the \"principal components.\"**\n",
    "\n",
    "> Applying PCA to your data *transforms* your original data columns (variables) onto the new principal component axes.\n"
   ]
  },
  {
   "cell_type": "markdown",
   "metadata": {},
   "source": [
    "### Two notes:\n",
    "\n",
    "1. Train/test split **before** applying PCA!\n",
    "2. Standardize our data **before** applying PCA!"
   ]
  },
  {
   "cell_type": "code",
   "execution_count": 20,
   "metadata": {},
   "outputs": [],
   "source": [
    "# Instantiate our StandardScaler.\n",
    "ss = StandardScaler()\n",
    "\n",
    "# Standardize X_train.\n",
    "X_train = ss.fit_transform(X_new)\n",
    "\n",
    "# Standardize X_test.\n",
    "X_test = ss.transform(X_test)"
   ]
  },
  {
   "cell_type": "code",
   "execution_count": 21,
   "metadata": {},
   "outputs": [],
   "source": [
    "# Import PCA.\n",
    "from sklearn.decomposition import PCA"
   ]
  },
  {
   "cell_type": "markdown",
   "metadata": {},
   "source": [
    "#### (BONUS) Why decomposition?\n",
    "The way PCA works \"under the hood\" is it takes one matrix and **decomposes** that matrix into multiple matrices.\n",
    "\n",
    "Written out, we might take some matrix $\\mathbf{A}$ and break it down into multiple matrices like this:\n",
    "\n",
    "$$\n",
    "\\begin{eqnarray*}\n",
    "\\mathbf{A} &=& \\mathbf{P}\\mathbf{D}\\mathbf{P}^{-1}\n",
    "\\end{eqnarray*}\n",
    "$$\n",
    "\n",
    "Check out [the Wikipedia article](https://en.wikipedia.org/wiki/Matrix_decomposition) for a list of ways to decompose matrices.\n",
    "- A specific method of decomposition commonly used for PCA is known as the [eigendecomposition](https://en.wikipedia.org/wiki/Eigendecomposition_of_a_matrix) or spectral decomposition of a matrix. However, eigendecompositon requires [diagonalizable](https://en.wikipedia.org/wiki/Diagonalizable_matrix) matrices. To generalize this to non-square/non-diagonalizable matrices, we more commonly use the [Singular Value Decomposition](https://en.wikipedia.org/wiki/Singular_value_decomposition) (SVD) for PCA. [PCA in Sklearn](https://scikit-learn.org/stable/modules/generated/sklearn.decomposition.PCA.html) uses SVD."
   ]
  },
  {
   "cell_type": "code",
   "execution_count": 22,
   "metadata": {},
   "outputs": [],
   "source": [
    "# Instantiate PCA.\n",
    "pca = PCA(random_state=42)"
   ]
  },
  {
   "cell_type": "code",
   "execution_count": 23,
   "metadata": {},
   "outputs": [],
   "source": [
    "# Fit PCA on the training data.\n",
    "Z_train = pca.fit_transform(X_train, y_train)"
   ]
  },
  {
   "cell_type": "code",
   "execution_count": 24,
   "metadata": {},
   "outputs": [
    {
     "data": {
      "text/html": [
       "<div>\n",
       "<style scoped>\n",
       "    .dataframe tbody tr th:only-of-type {\n",
       "        vertical-align: middle;\n",
       "    }\n",
       "\n",
       "    .dataframe tbody tr th {\n",
       "        vertical-align: top;\n",
       "    }\n",
       "\n",
       "    .dataframe thead th {\n",
       "        text-align: right;\n",
       "    }\n",
       "</style>\n",
       "<table border=\"1\" class=\"dataframe\">\n",
       "  <thead>\n",
       "    <tr style=\"text-align: right;\">\n",
       "      <th></th>\n",
       "      <th>0</th>\n",
       "      <th>1</th>\n",
       "      <th>2</th>\n",
       "      <th>3</th>\n",
       "      <th>4</th>\n",
       "      <th>5</th>\n",
       "      <th>6</th>\n",
       "      <th>7</th>\n",
       "      <th>8</th>\n",
       "      <th>9</th>\n",
       "      <th>...</th>\n",
       "      <th>354</th>\n",
       "      <th>355</th>\n",
       "      <th>356</th>\n",
       "      <th>357</th>\n",
       "      <th>358</th>\n",
       "      <th>359</th>\n",
       "      <th>360</th>\n",
       "      <th>361</th>\n",
       "      <th>362</th>\n",
       "      <th>363</th>\n",
       "    </tr>\n",
       "  </thead>\n",
       "  <tbody>\n",
       "    <tr>\n",
       "      <th>0</th>\n",
       "      <td>-14.613110</td>\n",
       "      <td>0.260665</td>\n",
       "      <td>12.302830</td>\n",
       "      <td>-1.923781</td>\n",
       "      <td>-1.020731</td>\n",
       "      <td>-0.349180</td>\n",
       "      <td>2.403034</td>\n",
       "      <td>-1.526561</td>\n",
       "      <td>3.855482</td>\n",
       "      <td>-1.861909</td>\n",
       "      <td>...</td>\n",
       "      <td>-1.558158e-07</td>\n",
       "      <td>2.205146e-08</td>\n",
       "      <td>-2.690811e-10</td>\n",
       "      <td>-8.933037e-08</td>\n",
       "      <td>-1.091548e-07</td>\n",
       "      <td>9.190528e-08</td>\n",
       "      <td>-1.341962e-08</td>\n",
       "      <td>2.069066e-08</td>\n",
       "      <td>7.374839e-09</td>\n",
       "      <td>6.688021e-14</td>\n",
       "    </tr>\n",
       "    <tr>\n",
       "      <th>1</th>\n",
       "      <td>-10.612530</td>\n",
       "      <td>8.458307</td>\n",
       "      <td>17.420215</td>\n",
       "      <td>-8.347868</td>\n",
       "      <td>-6.179376</td>\n",
       "      <td>-2.260468</td>\n",
       "      <td>1.547963</td>\n",
       "      <td>-1.614424</td>\n",
       "      <td>0.365351</td>\n",
       "      <td>3.466019</td>\n",
       "      <td>...</td>\n",
       "      <td>-2.709861e-07</td>\n",
       "      <td>3.569905e-07</td>\n",
       "      <td>2.872284e-07</td>\n",
       "      <td>1.971704e-07</td>\n",
       "      <td>9.107274e-08</td>\n",
       "      <td>2.770362e-07</td>\n",
       "      <td>-6.364265e-08</td>\n",
       "      <td>1.204406e-07</td>\n",
       "      <td>-1.408195e-09</td>\n",
       "      <td>5.381342e-17</td>\n",
       "    </tr>\n",
       "    <tr>\n",
       "      <th>2</th>\n",
       "      <td>-12.830001</td>\n",
       "      <td>5.324636</td>\n",
       "      <td>12.962445</td>\n",
       "      <td>-3.821677</td>\n",
       "      <td>-2.943086</td>\n",
       "      <td>-1.126968</td>\n",
       "      <td>1.213133</td>\n",
       "      <td>-2.136287</td>\n",
       "      <td>1.118570</td>\n",
       "      <td>1.514445</td>\n",
       "      <td>...</td>\n",
       "      <td>-3.431101e-08</td>\n",
       "      <td>9.546893e-08</td>\n",
       "      <td>1.961903e-07</td>\n",
       "      <td>5.284181e-09</td>\n",
       "      <td>-1.818031e-08</td>\n",
       "      <td>1.000581e-07</td>\n",
       "      <td>-4.126033e-08</td>\n",
       "      <td>3.843771e-08</td>\n",
       "      <td>-9.367350e-09</td>\n",
       "      <td>-8.528578e-17</td>\n",
       "    </tr>\n",
       "    <tr>\n",
       "      <th>3</th>\n",
       "      <td>-7.331551</td>\n",
       "      <td>8.764824</td>\n",
       "      <td>-10.706879</td>\n",
       "      <td>5.670298</td>\n",
       "      <td>-1.502491</td>\n",
       "      <td>-2.769050</td>\n",
       "      <td>5.885346</td>\n",
       "      <td>-4.620849</td>\n",
       "      <td>-1.099579</td>\n",
       "      <td>-2.475181</td>\n",
       "      <td>...</td>\n",
       "      <td>1.605884e-07</td>\n",
       "      <td>5.570544e-08</td>\n",
       "      <td>2.868997e-08</td>\n",
       "      <td>9.593138e-08</td>\n",
       "      <td>-2.876562e-07</td>\n",
       "      <td>4.805966e-08</td>\n",
       "      <td>1.859798e-09</td>\n",
       "      <td>-4.439063e-08</td>\n",
       "      <td>1.082967e-08</td>\n",
       "      <td>2.782595e-17</td>\n",
       "    </tr>\n",
       "    <tr>\n",
       "      <th>4</th>\n",
       "      <td>-14.613110</td>\n",
       "      <td>0.260665</td>\n",
       "      <td>12.302830</td>\n",
       "      <td>-1.923781</td>\n",
       "      <td>-1.020731</td>\n",
       "      <td>-0.349180</td>\n",
       "      <td>2.403034</td>\n",
       "      <td>-1.526561</td>\n",
       "      <td>3.855482</td>\n",
       "      <td>-1.861909</td>\n",
       "      <td>...</td>\n",
       "      <td>-1.558158e-07</td>\n",
       "      <td>2.205146e-08</td>\n",
       "      <td>-2.690711e-10</td>\n",
       "      <td>-8.933038e-08</td>\n",
       "      <td>-1.091548e-07</td>\n",
       "      <td>9.190527e-08</td>\n",
       "      <td>-1.341962e-08</td>\n",
       "      <td>2.069067e-08</td>\n",
       "      <td>7.374826e-09</td>\n",
       "      <td>-1.462778e-15</td>\n",
       "    </tr>\n",
       "  </tbody>\n",
       "</table>\n",
       "<p>5 rows × 364 columns</p>\n",
       "</div>"
      ],
      "text/plain": [
       "         0         1          2         3         4         5         6    \\\n",
       "0 -14.613110  0.260665  12.302830 -1.923781 -1.020731 -0.349180  2.403034   \n",
       "1 -10.612530  8.458307  17.420215 -8.347868 -6.179376 -2.260468  1.547963   \n",
       "2 -12.830001  5.324636  12.962445 -3.821677 -2.943086 -1.126968  1.213133   \n",
       "3  -7.331551  8.764824 -10.706879  5.670298 -1.502491 -2.769050  5.885346   \n",
       "4 -14.613110  0.260665  12.302830 -1.923781 -1.020731 -0.349180  2.403034   \n",
       "\n",
       "        7         8         9    ...           354           355  \\\n",
       "0 -1.526561  3.855482 -1.861909  ... -1.558158e-07  2.205146e-08   \n",
       "1 -1.614424  0.365351  3.466019  ... -2.709861e-07  3.569905e-07   \n",
       "2 -2.136287  1.118570  1.514445  ... -3.431101e-08  9.546893e-08   \n",
       "3 -4.620849 -1.099579 -2.475181  ...  1.605884e-07  5.570544e-08   \n",
       "4 -1.526561  3.855482 -1.861909  ... -1.558158e-07  2.205146e-08   \n",
       "\n",
       "            356           357           358           359           360  \\\n",
       "0 -2.690811e-10 -8.933037e-08 -1.091548e-07  9.190528e-08 -1.341962e-08   \n",
       "1  2.872284e-07  1.971704e-07  9.107274e-08  2.770362e-07 -6.364265e-08   \n",
       "2  1.961903e-07  5.284181e-09 -1.818031e-08  1.000581e-07 -4.126033e-08   \n",
       "3  2.868997e-08  9.593138e-08 -2.876562e-07  4.805966e-08  1.859798e-09   \n",
       "4 -2.690711e-10 -8.933038e-08 -1.091548e-07  9.190527e-08 -1.341962e-08   \n",
       "\n",
       "            361           362           363  \n",
       "0  2.069066e-08  7.374839e-09  6.688021e-14  \n",
       "1  1.204406e-07 -1.408195e-09  5.381342e-17  \n",
       "2  3.843771e-08 -9.367350e-09 -8.528578e-17  \n",
       "3 -4.439063e-08  1.082967e-08  2.782595e-17  \n",
       "4  2.069067e-08  7.374826e-09 -1.462778e-15  \n",
       "\n",
       "[5 rows x 364 columns]"
      ]
     },
     "execution_count": 24,
     "metadata": {},
     "output_type": "execute_result"
    }
   ],
   "source": [
    "pd.DataFrame(Z_train).head()"
   ]
  },
  {
   "cell_type": "code",
   "execution_count": 25,
   "metadata": {},
   "outputs": [],
   "source": [
    "# Don't forget to transform the test data!\n",
    "Z_test = pca.transform(X_test)"
   ]
  },
  {
   "cell_type": "markdown",
   "metadata": {},
   "source": [
    "### So, like, big picture, what is PCA doing?\n",
    "Well, we're transforming our data. Specifically, we are:\n",
    "1. We are going to look at how all of the $X$ variables relate to one another, then summarize these relationships. (This is done with the **covariance matrix**.)\n",
    "2. Then, we will take this summary and look at which combinations of our $X$ variables are most important. (We will decompose our covariance matrix into its **eigenvectors**, which is a linear algebra term that allows us to understand the most important \"directions\" in our data, which are our principal components!)\n",
    "3. We can also see exactly how important each combination is, then rank these combinations. (With each eigenvector, we get an **eigenvalue**. This eigenvalue is a number that tells us how important each \"direction\" or principal component is.)\n",
    "    - Want a better understanding of eigenvectors and eigenvalues? [Check this 3Blue1Brown video out!](https://www.youtube.com/watch?v=PFDu9oVAE-g)\n",
    "\n",
    "Remember that one of our goals with PCA is to do dimensionality reduction (a.k.a. get rid of features).\n",
    "\n",
    "We can: \n",
    "- measure how important each principal component is using the eigenvalue, \n",
    "- rank the columns of `Z_train` by their eigenvalues,\n",
    "- then drop the columns with small eigenvalues (little importance) but keep the columns with big eigenvalues (very important).\n",
    "    - In `sklearn`, when transformed by PCA, the columns will already be sorted by their eigenvalues from biggest to smallest! The first column will be the most important, the second column will be the next most important, and so on.\n",
    "\n",
    "#### But how many features do we discard?\n",
    "\n",
    "A useful measure is the **proportion of explained variance**, which is calculated from the **eigenvalues**. \n",
    "\n",
    "The explained variance tells us how much information (variance) is captured by each principal component.\n",
    "\n",
    "### $$ \\text{explained variance of }PC_k = \\bigg(\\frac{\\text{eigenvalue of } PC_k}{\\sum_{i=1}^p\\text{eigenvalue of } PC_i}\\bigg)$$\n",
    "\n",
    "Rather than write out \"$\\text{eigenvalue of } PC_k$\", we usually just write $\\lambda_k$.\n",
    "\n",
    "If I want to calculate the proportion of explained variance by retaining $PC_1$ and $PC_2$, I would calculate this as:\n",
    "\n",
    "### $$ \\text{explained variance of } PC_1 \\text{ and } PC_2 = \\bigg(\\frac{\\lambda_1 + \\lambda_2}{\\sum_{i=1}^p \\lambda_i} \\bigg)$$"
   ]
  },
  {
   "cell_type": "code",
   "execution_count": 26,
   "metadata": {},
   "outputs": [
    {
     "name": "stdout",
     "output_type": "stream",
     "text": [
      "Explained variance (first 20 components): [0.302 0.187 0.107 0.096 0.062 0.048 0.037 0.034 0.024 0.016 0.012 0.012\n",
      " 0.009 0.008 0.004 0.004 0.003 0.003 0.003 0.003]\n",
      "\n",
      "Cumulative explained variance (first 20 components): [0.302 0.489 0.596 0.692 0.754 0.802 0.84  0.873 0.897 0.913 0.926 0.937\n",
      " 0.946 0.955 0.959 0.963 0.967 0.97  0.973 0.975]\n"
     ]
    }
   ],
   "source": [
    "# Pull the explained variance attribute.\n",
    "var_exp = pca.explained_variance_ratio_\n",
    "print(f'Explained variance (first 20 components): {np.round(var_exp[:20], 3)}')\n",
    "\n",
    "print('')\n",
    "\n",
    "# Generate the cumulative explained variance.\n",
    "cum_var_exp = np.cumsum(var_exp)\n",
    "print(f'Cumulative explained variance (first 20 components): {np.round(cum_var_exp[:20], 3)}')"
   ]
  },
  {
   "cell_type": "markdown",
   "metadata": {},
   "source": [
    "<details><summary>Check: If I wanted to explain at least 80% of the variability in my data with principal components, what is the smallest number of principal components that I would need to keep? </summary>\n",
    "\n",
    "- Only six! \n",
    "- I could keep $Z_1, Z_2, \\ldots, Z_6$ in my model, and this would explain 80.8% of the variability in my $X$ data.\n",
    "</details>"
   ]
  },
  {
   "cell_type": "markdown",
   "metadata": {},
   "source": [
    "## Let's compare our PCA'ed performance to our original performance!\n",
    "\n",
    "#### Original performance:\n",
    "\n",
    "<img src=\"./images/lr_performance.png\" alt=\"drawing\" width=\"800\"/>"
   ]
  },
  {
   "cell_type": "markdown",
   "metadata": {},
   "source": [
    "#### Principal Component Regression performance:"
   ]
  },
  {
   "cell_type": "code",
   "execution_count": 27,
   "metadata": {},
   "outputs": [],
   "source": [
    "# Instantiate PCA with 10 components.\n",
    "pca = PCA(n_components = 10, random_state=42)"
   ]
  },
  {
   "cell_type": "code",
   "execution_count": 33,
   "metadata": {},
   "outputs": [
    {
     "name": "stdout",
     "output_type": "stream",
     "text": [
      "(6497, 364)\n"
     ]
    }
   ],
   "source": [
    "# Instantiate linear regression model.\n",
    "lm = LinearRegression()\n",
    "\n",
    "# Transform Z_train and Z_test.\n",
    "Z_train2 = pca.fit_transform(X_train)\n",
    "Z_test2 = pca.transform(X_test)\n",
    "\n",
    "print(X_train.shape)"
   ]
  },
  {
   "cell_type": "code",
   "execution_count": 28,
   "metadata": {},
   "outputs": [
    {
     "ename": "ValueError",
     "evalue": "Found input variables with inconsistent numbers of samples: [6497, 4352]",
     "output_type": "error",
     "traceback": [
      "\u001b[1;31m---------------------------------------------------------------------------\u001b[0m",
      "\u001b[1;31mValueError\u001b[0m                                Traceback (most recent call last)",
      "\u001b[1;32m<ipython-input-28-1cc6ddb2d3ce>\u001b[0m in \u001b[0;36m<module>\u001b[1;34m\u001b[0m\n\u001b[0;32m      7\u001b[0m \u001b[1;33m\u001b[0m\u001b[0m\n\u001b[0;32m      8\u001b[0m \u001b[1;31m# Fit on Z_train.\u001b[0m\u001b[1;33m\u001b[0m\u001b[1;33m\u001b[0m\u001b[1;33m\u001b[0m\u001b[0m\n\u001b[1;32m----> 9\u001b[1;33m \u001b[0mlm\u001b[0m\u001b[1;33m.\u001b[0m\u001b[0mfit\u001b[0m\u001b[1;33m(\u001b[0m\u001b[0mZ_train2\u001b[0m\u001b[1;33m,\u001b[0m \u001b[0my_train\u001b[0m\u001b[1;33m)\u001b[0m\u001b[1;33m\u001b[0m\u001b[1;33m\u001b[0m\u001b[0m\n\u001b[0m\u001b[0;32m     10\u001b[0m \u001b[1;33m\u001b[0m\u001b[0m\n\u001b[0;32m     11\u001b[0m \u001b[1;31m# Score on training and testing sets.\u001b[0m\u001b[1;33m\u001b[0m\u001b[1;33m\u001b[0m\u001b[1;33m\u001b[0m\u001b[0m\n",
      "\u001b[1;32m~\\anaconda3\\lib\\site-packages\\sklearn\\linear_model\\_base.py\u001b[0m in \u001b[0;36mfit\u001b[1;34m(self, X, y, sample_weight)\u001b[0m\n\u001b[0;32m    516\u001b[0m         \u001b[0maccept_sparse\u001b[0m \u001b[1;33m=\u001b[0m \u001b[1;32mFalse\u001b[0m \u001b[1;32mif\u001b[0m \u001b[0mself\u001b[0m\u001b[1;33m.\u001b[0m\u001b[0mpositive\u001b[0m \u001b[1;32melse\u001b[0m \u001b[1;33m[\u001b[0m\u001b[1;34m'csr'\u001b[0m\u001b[1;33m,\u001b[0m \u001b[1;34m'csc'\u001b[0m\u001b[1;33m,\u001b[0m \u001b[1;34m'coo'\u001b[0m\u001b[1;33m]\u001b[0m\u001b[1;33m\u001b[0m\u001b[1;33m\u001b[0m\u001b[0m\n\u001b[0;32m    517\u001b[0m \u001b[1;33m\u001b[0m\u001b[0m\n\u001b[1;32m--> 518\u001b[1;33m         X, y = self._validate_data(X, y, accept_sparse=accept_sparse,\n\u001b[0m\u001b[0;32m    519\u001b[0m                                    y_numeric=True, multi_output=True)\n\u001b[0;32m    520\u001b[0m \u001b[1;33m\u001b[0m\u001b[0m\n",
      "\u001b[1;32m~\\anaconda3\\lib\\site-packages\\sklearn\\base.py\u001b[0m in \u001b[0;36m_validate_data\u001b[1;34m(self, X, y, reset, validate_separately, **check_params)\u001b[0m\n\u001b[0;32m    431\u001b[0m                 \u001b[0my\u001b[0m \u001b[1;33m=\u001b[0m \u001b[0mcheck_array\u001b[0m\u001b[1;33m(\u001b[0m\u001b[0my\u001b[0m\u001b[1;33m,\u001b[0m \u001b[1;33m**\u001b[0m\u001b[0mcheck_y_params\u001b[0m\u001b[1;33m)\u001b[0m\u001b[1;33m\u001b[0m\u001b[1;33m\u001b[0m\u001b[0m\n\u001b[0;32m    432\u001b[0m             \u001b[1;32melse\u001b[0m\u001b[1;33m:\u001b[0m\u001b[1;33m\u001b[0m\u001b[1;33m\u001b[0m\u001b[0m\n\u001b[1;32m--> 433\u001b[1;33m                 \u001b[0mX\u001b[0m\u001b[1;33m,\u001b[0m \u001b[0my\u001b[0m \u001b[1;33m=\u001b[0m \u001b[0mcheck_X_y\u001b[0m\u001b[1;33m(\u001b[0m\u001b[0mX\u001b[0m\u001b[1;33m,\u001b[0m \u001b[0my\u001b[0m\u001b[1;33m,\u001b[0m \u001b[1;33m**\u001b[0m\u001b[0mcheck_params\u001b[0m\u001b[1;33m)\u001b[0m\u001b[1;33m\u001b[0m\u001b[1;33m\u001b[0m\u001b[0m\n\u001b[0m\u001b[0;32m    434\u001b[0m             \u001b[0mout\u001b[0m \u001b[1;33m=\u001b[0m \u001b[0mX\u001b[0m\u001b[1;33m,\u001b[0m \u001b[0my\u001b[0m\u001b[1;33m\u001b[0m\u001b[1;33m\u001b[0m\u001b[0m\n\u001b[0;32m    435\u001b[0m \u001b[1;33m\u001b[0m\u001b[0m\n",
      "\u001b[1;32m~\\anaconda3\\lib\\site-packages\\sklearn\\utils\\validation.py\u001b[0m in \u001b[0;36minner_f\u001b[1;34m(*args, **kwargs)\u001b[0m\n\u001b[0;32m     61\u001b[0m             \u001b[0mextra_args\u001b[0m \u001b[1;33m=\u001b[0m \u001b[0mlen\u001b[0m\u001b[1;33m(\u001b[0m\u001b[0margs\u001b[0m\u001b[1;33m)\u001b[0m \u001b[1;33m-\u001b[0m \u001b[0mlen\u001b[0m\u001b[1;33m(\u001b[0m\u001b[0mall_args\u001b[0m\u001b[1;33m)\u001b[0m\u001b[1;33m\u001b[0m\u001b[1;33m\u001b[0m\u001b[0m\n\u001b[0;32m     62\u001b[0m             \u001b[1;32mif\u001b[0m \u001b[0mextra_args\u001b[0m \u001b[1;33m<=\u001b[0m \u001b[1;36m0\u001b[0m\u001b[1;33m:\u001b[0m\u001b[1;33m\u001b[0m\u001b[1;33m\u001b[0m\u001b[0m\n\u001b[1;32m---> 63\u001b[1;33m                 \u001b[1;32mreturn\u001b[0m \u001b[0mf\u001b[0m\u001b[1;33m(\u001b[0m\u001b[1;33m*\u001b[0m\u001b[0margs\u001b[0m\u001b[1;33m,\u001b[0m \u001b[1;33m**\u001b[0m\u001b[0mkwargs\u001b[0m\u001b[1;33m)\u001b[0m\u001b[1;33m\u001b[0m\u001b[1;33m\u001b[0m\u001b[0m\n\u001b[0m\u001b[0;32m     64\u001b[0m \u001b[1;33m\u001b[0m\u001b[0m\n\u001b[0;32m     65\u001b[0m             \u001b[1;31m# extra_args > 0\u001b[0m\u001b[1;33m\u001b[0m\u001b[1;33m\u001b[0m\u001b[1;33m\u001b[0m\u001b[0m\n",
      "\u001b[1;32m~\\anaconda3\\lib\\site-packages\\sklearn\\utils\\validation.py\u001b[0m in \u001b[0;36mcheck_X_y\u001b[1;34m(X, y, accept_sparse, accept_large_sparse, dtype, order, copy, force_all_finite, ensure_2d, allow_nd, multi_output, ensure_min_samples, ensure_min_features, y_numeric, estimator)\u001b[0m\n\u001b[0;32m    829\u001b[0m         \u001b[0my\u001b[0m \u001b[1;33m=\u001b[0m \u001b[0my\u001b[0m\u001b[1;33m.\u001b[0m\u001b[0mastype\u001b[0m\u001b[1;33m(\u001b[0m\u001b[0mnp\u001b[0m\u001b[1;33m.\u001b[0m\u001b[0mfloat64\u001b[0m\u001b[1;33m)\u001b[0m\u001b[1;33m\u001b[0m\u001b[1;33m\u001b[0m\u001b[0m\n\u001b[0;32m    830\u001b[0m \u001b[1;33m\u001b[0m\u001b[0m\n\u001b[1;32m--> 831\u001b[1;33m     \u001b[0mcheck_consistent_length\u001b[0m\u001b[1;33m(\u001b[0m\u001b[0mX\u001b[0m\u001b[1;33m,\u001b[0m \u001b[0my\u001b[0m\u001b[1;33m)\u001b[0m\u001b[1;33m\u001b[0m\u001b[1;33m\u001b[0m\u001b[0m\n\u001b[0m\u001b[0;32m    832\u001b[0m \u001b[1;33m\u001b[0m\u001b[0m\n\u001b[0;32m    833\u001b[0m     \u001b[1;32mreturn\u001b[0m \u001b[0mX\u001b[0m\u001b[1;33m,\u001b[0m \u001b[0my\u001b[0m\u001b[1;33m\u001b[0m\u001b[1;33m\u001b[0m\u001b[0m\n",
      "\u001b[1;32m~\\anaconda3\\lib\\site-packages\\sklearn\\utils\\validation.py\u001b[0m in \u001b[0;36mcheck_consistent_length\u001b[1;34m(*arrays)\u001b[0m\n\u001b[0;32m    260\u001b[0m     \u001b[0muniques\u001b[0m \u001b[1;33m=\u001b[0m \u001b[0mnp\u001b[0m\u001b[1;33m.\u001b[0m\u001b[0munique\u001b[0m\u001b[1;33m(\u001b[0m\u001b[0mlengths\u001b[0m\u001b[1;33m)\u001b[0m\u001b[1;33m\u001b[0m\u001b[1;33m\u001b[0m\u001b[0m\n\u001b[0;32m    261\u001b[0m     \u001b[1;32mif\u001b[0m \u001b[0mlen\u001b[0m\u001b[1;33m(\u001b[0m\u001b[0muniques\u001b[0m\u001b[1;33m)\u001b[0m \u001b[1;33m>\u001b[0m \u001b[1;36m1\u001b[0m\u001b[1;33m:\u001b[0m\u001b[1;33m\u001b[0m\u001b[1;33m\u001b[0m\u001b[0m\n\u001b[1;32m--> 262\u001b[1;33m         raise ValueError(\"Found input variables with inconsistent numbers of\"\n\u001b[0m\u001b[0;32m    263\u001b[0m                          \" samples: %r\" % [int(l) for l in lengths])\n\u001b[0;32m    264\u001b[0m \u001b[1;33m\u001b[0m\u001b[0m\n",
      "\u001b[1;31mValueError\u001b[0m: Found input variables with inconsistent numbers of samples: [6497, 4352]"
     ]
    }
   ],
   "source": [
    "lm.fit(Z_train2, y_train)\n",
    "\n",
    "# Score on training and testing sets.\n",
    "print(f'Training Score: {round(lm.score(Z_train2, y_train),4)}')\n",
    "print(f'Testing Score: {round(lm.score(Z_test2, y_test),4)}')"
   ]
  },
  {
   "cell_type": "markdown",
   "metadata": {},
   "source": [
    "Our final model here is:\n",
    "\n",
    "$$\n",
    "\\begin{eqnarray*}\n",
    "[\\text{quality}] &=& \\beta_0 + \\beta_1Z_1 + \\beta_2Z_2 + \\cdots + \\beta_{10}Z_{10} \\\\\n",
    "\\\\\n",
    "\\text{where } Z_1 &=& \\gamma_1X_1 + \\gamma_2X_2 + \\gamma_3X_3 + \\cdots \\gamma_pX_p \\\\\n",
    "\\text{and } Z_2 &=& \\delta_1X_1 + \\delta_2X_2 + \\delta_3X_3 + \\cdots \\delta_pX_p \\\\\n",
    "&\\vdots& \\\\\n",
    "\\text{and } Z_{10} &=& \\eta_1X_1 + \\eta_2X_2 + \\eta_3X_3 + \\cdots \\eta_pX_p \\\\\n",
    "\\end{eqnarray*}\n",
    "$$"
   ]
  },
  {
   "cell_type": "markdown",
   "metadata": {},
   "source": [
    "**Two assumptions that PCA makes:**\n",
    "1. **Linearity:** PCA detects and controls for linear relationships, so we assume that the data does not hold nonlinear relationships (or that we don't care about these nonlinear relationships).\n",
    "    - We are using our covariance matrix to determine important \"directions,\" which is a measure of the linear relationship between observations!\n",
    "    - There are other types of feature extraction like [t-SNE](https://lvdmaaten.github.io/tsne/) and [PPA](https://towardsdatascience.com/interesting-projections-where-pca-fails-fe64ddca73e6), though we won't formally cover those in a global lesson.\n",
    "    \n",
    "    \n",
    "2. **Large variances define importance:** If data is spread in a direction, that direction is important! If there is little spread in a direction, that direction is not very important.\n",
    "    - That aligns with what we saw [here](http://setosa.io/ev/principal-component-analysis/)."
   ]
  },
  {
   "cell_type": "markdown",
   "metadata": {},
   "source": [
    "### Potential Use Cases for PCA\n",
    "- Situations where $p \\not\\ll n$. (Situations where $p$ is not substantially smaller than $n$.)\n",
    "- Situations in which there are variables with high multicollinearity. (Can be traditional models or models with highly correlated inputs by design, like images.)\n",
    "- Situations in which there are many variables, even without explicit multicollinearity."
   ]
  },
  {
   "cell_type": "markdown",
   "metadata": {},
   "source": [
    "### Interview Questions"
   ]
  },
  {
   "cell_type": "markdown",
   "metadata": {},
   "source": [
    "<details><summary>Explain PCA to me.</summary>\n",
    "\n",
    "- Principal component analysis is a method of dimensionality reduction that **identifies important relationships** in our data, **transforms the existing data** based on these relationships, and then **quantifies the importance** of these relationships so we can keep the most important relationships and drop the others!\n",
    "\n",
    "<details><summary>How can I remember the above?</summary>\n",
    "\n",
    "Matt's \"Three Signposts:\"\n",
    "- Covariance Matrix\n",
    "- Eigenvectors\n",
    "- Eigenvalues\n",
    "</details>\n",
    "</details>"
   ]
  },
  {
   "cell_type": "markdown",
   "metadata": {},
   "source": [
    "<details><summary>In what cases would I not use PCA?</summary>\n",
    "\n",
    "- Since PCA distorts the interpretability of our features, we should not use PCA if our goal is to interpret the output of our model.\n",
    "- If we have relatively few features as inputs, PCA is unlikely to have a large positive impact on our model.\n",
    "</details>"
   ]
  },
  {
   "cell_type": "markdown",
   "metadata": {},
   "source": [
    "### LEARNING OBJECTIVES\n",
    "By the end of the lesson, students should be able to:\n",
    "1. Differentiate between feature selection and feature extraction.\n",
    "2. Describe the PCA algorithm.\n",
    "3. Implement PCA in `scikit-learn`.\n",
    "4. Calculate and interpret proportion of explained variance.\n",
    "5. Identify use cases for PCA."
   ]
  }
 ],
 "metadata": {
  "kernelspec": {
   "display_name": "Python 3",
   "language": "python",
   "name": "python3"
  },
  "language_info": {
   "codemirror_mode": {
    "name": "ipython",
    "version": 3
   },
   "file_extension": ".py",
   "mimetype": "text/x-python",
   "name": "python",
   "nbconvert_exporter": "python",
   "pygments_lexer": "ipython3",
   "version": "3.8.8"
  }
 },
 "nbformat": 4,
 "nbformat_minor": 2
}
