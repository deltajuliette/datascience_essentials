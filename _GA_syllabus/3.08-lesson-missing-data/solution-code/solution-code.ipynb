{
 "cells": [
  {
   "cell_type": "markdown",
   "metadata": {},
   "source": [
    "<img src=\"http://imgur.com/1ZcRyrc.png\" style=\"float: left; margin: 20px; height: 55px\">\n",
    "\n",
    "# Missing Data\n",
    "---\n",
    "\n",
    "### Learning Objectives\n",
    "- Describe various strategies for dealing with missing data.\n",
    "- Understand the assumptions we make when using strategies to handle missing data.\n",
    "\n",
    "### Credit\n",
    "This lesson is adapted from a missing data workshop that Matt Brems presented at the Open Data Science Conference ([ODSC](https://odsc.com/)).  Check out his GitHub repo [here](https://github.com/matthewbrems/missing-data-workshop?fbclid=IwAR1LGjaIen-ITLndPN1ODV1lYZBvxsHDs0DgIaPkuxpXMsQRBT8eAPI-0sI)."
   ]
  },
  {
   "cell_type": "code",
   "execution_count": 1,
   "metadata": {},
   "outputs": [],
   "source": [
    "# Import libraries.\n",
    "import pandas as pd\n",
    "import numpy as np\n",
    "import matplotlib.pyplot as plt\n",
    "import statistics # module providing functions for calculating mathematical statistics of numeric data\n",
    "\n",
    "# Set random seed.\n",
    "np.random.seed(42)"
   ]
  },
  {
   "cell_type": "code",
   "execution_count": 2,
   "metadata": {},
   "outputs": [
    {
     "name": "stdout",
     "output_type": "stream",
     "text": [
      "income shape: (100, 4)\n",
      "income missing shape: (100, 4)\n"
     ]
    }
   ],
   "source": [
    "# Bring in our data of age, partnered, children, and income data\n",
    "# where income(response) is linearly related to age, partnered, and children (features)\n",
    "income = pd.read_csv('../data/income.csv') \n",
    "income_missing = pd.read_csv('../data/income_missing.csv')\n",
    "\n",
    "print(f'income shape: {income.shape}')\n",
    "print(f'income missing shape: {income_missing.shape}')"
   ]
  },
  {
   "cell_type": "code",
   "execution_count": 3,
   "metadata": {},
   "outputs": [
    {
     "name": "stdout",
     "output_type": "stream",
     "text": [
      "<class 'pandas.core.frame.DataFrame'>\n",
      "RangeIndex: 100 entries, 0 to 99\n",
      "Data columns (total 4 columns):\n",
      " #   Column     Non-Null Count  Dtype  \n",
      "---  ------     --------------  -----  \n",
      " 0   age        100 non-null    float64\n",
      " 1   partnered  100 non-null    int64  \n",
      " 2   children   100 non-null    int64  \n",
      " 3   income     100 non-null    float64\n",
      "dtypes: float64(2), int64(2)\n",
      "memory usage: 3.2 KB\n"
     ]
    }
   ],
   "source": [
    "# Check out dataframe.info() to get a feel of missing data/col data types\n",
    "# the dataframe -  income has 0 missing data\n",
    "income.info()"
   ]
  },
  {
   "cell_type": "code",
   "execution_count": 5,
   "metadata": {},
   "outputs": [
    {
     "name": "stdout",
     "output_type": "stream",
     "text": [
      "<class 'pandas.core.frame.DataFrame'>\n",
      "RangeIndex: 100 entries, 0 to 99\n",
      "Data columns (total 4 columns):\n",
      " #   Column     Non-Null Count  Dtype  \n",
      "---  ------     --------------  -----  \n",
      " 0   children   100 non-null    int64  \n",
      " 1   age        70 non-null     float64\n",
      " 2   partnered  100 non-null    int64  \n",
      " 3   income     100 non-null    float64\n",
      "dtypes: float64(2), int64(2)\n",
      "memory usage: 3.2 KB\n"
     ]
    }
   ],
   "source": [
    "# Check out dataframe.info() to get a feel of missing data/col data types\n",
    "# the dataframe -  income_missing has 30 missing data in col 'age'\n",
    "income_missing.info()"
   ]
  },
  {
   "cell_type": "markdown",
   "metadata": {},
   "source": [
    "Further downstream, to visualize the impact from missing data vs without missing for the same age column across the 2 dataframes loaded above, we'll be looking at subplot histograms (2 rows, 1 col) multiple times to compare the effect from different imputations. \n",
    "\n",
    "Thus, a function has been written below to enable this plotting for ease of a single line function call at multiple places in this code notebook.\n",
    "\n",
    "The plotting code is nothing new! We had done similar sub-plotting in 2.03 data-visualization, part 2."
   ]
  },
  {
   "cell_type": "code",
   "execution_count": 6,
   "metadata": {},
   "outputs": [],
   "source": [
    "# creating a function `compare_histograms` to compare histograms of original & imputed data\n",
    "def compare_histograms(imputed_column, original_column, x_label, y_label = 'Frequency'):\n",
    "    # plt.subplots nrows, ncols: Number of rows/columns of the subplot grid\n",
    "    # figsize enforces 16 x 9 width x height on the subplots\n",
    "    # printing the RHS of below assignment outputs a fig and a list \"ax\", assigned to the vars on RHS\n",
    "    fig, ax = plt.subplots(nrows = 2, ncols = 1, figsize = (16,9))\n",
    "    \n",
    "    # Set standardized axes for comparison histograms\n",
    "    rnge = max(original_column) - min(original_column)\n",
    "    xmin = min(original_column) - 0.02 * rnge\n",
    "    xmax = max(original_column) + 0.02 * rnge\n",
    "    ymax = 40\n",
    "    \n",
    "    # Plot the histograms for each axis\n",
    "    ax[0].hist(original_column, bins = 15, color = '#185fad', alpha = 0.75)\n",
    "    ax[0].set_title('Real Histogram', position = (0,1), ha = 'left', fontsize = 25)\n",
    "    \n",
    "    ax[1].hist(imputed_column, bins = 15, color = 'orange', alpha = 0.75, label = '', stacked = True)\n",
    "    ax[1].set_title('Imputed Histogram', position = (0,1), ha = 'left', fontsize = 25)   \n",
    "    ax[1].axvline(np.mean(imputed_column), color = 'darkorange', lw = 5, label = 'Imputed Mean') # vertical_ref_line with imputed_col_mean\n",
    "    \n",
    "    # Run the code common to both axis\n",
    "    for axis in ax:\n",
    "    \n",
    "        # apply the limits to the subplots (ax[0]: 1st subplot, ax[1]: 2nd subplot)\n",
    "        axis.set_xlim(xmin, xmax)\n",
    "        axis.set_ylim(0, ymax)\n",
    "        \n",
    "        # a lot of the optional positional arguments that follow have been declared to have a nice-to-look at plot as we'll see further down\n",
    "        # try customizing the positional args from below proposed declarations to see effect on hist plots\n",
    "        # Set each subplot's labels.\n",
    "        axis.set_xlabel(x_label, position = (0,0), ha = 'left', fontsize = 25, color = 'grey', alpha = 0.85)\n",
    "        axis.set_ylabel(y_label, position = (0,1), ha = 'right', va = 'top', fontsize = 25, rotation = 0, color = 'grey', alpha = 0.85)\n",
    "        axis.set_xticks([]) # turn-off tick lines along x-axis\n",
    "        axis.set_yticks([]) # turn-off tick lines along y-axis\n",
    "        \n",
    "        # Draw a vertical line\n",
    "        axis.axvline(np.mean(original_column), color = '#185fad', lw = 5, label = 'True Mean') # show vertical reference line with orig_col mean\n",
    "        axis.legend(prop={'size': 15}, loc = 1)\n",
    "\n",
    "    plt.tight_layout();"
   ]
  },
  {
   "cell_type": "code",
   "execution_count": 7,
   "metadata": {
    "tags": []
   },
   "outputs": [
    {
     "data": {
      "text/plain": [
       "(<Figure size 1152x648 with 2 Axes>,\n",
       " array([<AxesSubplot:>, <AxesSubplot:>], dtype=object))"
      ]
     },
     "execution_count": 7,
     "metadata": {},
     "output_type": "execute_result"
    },
    {
     "data": {
      "image/png": "[encoded data removed]",
      "text/plain": [
       "<Figure size 1152x648 with 2 Axes>"
      ]
     },
     "metadata": {
      "needs_background": "light"
     },
     "output_type": "display_data"
    }
   ],
   "source": [
    "# understanding plt.subplots()\n",
    "# first subplot: ax0, second subplot: ax1\n",
    "plt.subplots(nrows = 2, ncols = 1, figsize = (16,9))"
   ]
  },
  {
   "cell_type": "markdown",
   "metadata": {},
   "source": [
    "### Method 1: Deductive Imputation\n",
    "\n",
    "We use ***logical rules*** to fill in missing values. For example,let's consider the following scenario:\n",
    "- Survey asks if the respondent was the victim of _a crime_ in the last twelve months.\n",
    "- Respondent says no.\n",
    "- Survey then asks if the respondent was the victim of _a violent crime_ in the last twelve months.\n",
    "- Respondent leaves this answer blank.\n",
    "\n",
    "We _may_ choose to use the 1st response from the respondent saying 'no' generally, to impute missing for the 2nd response where the values were missing. But, we need to note the possible pitfalls that come with such an approach, such as these:\n",
    "\n",
    "- Requires specific coding\n",
    "- Can be time consuming\n",
    "- There is definitely a chance that our assumption is not true"
   ]
  },
  {
   "cell_type": "markdown",
   "metadata": {},
   "source": [
    "### Method 2: Mean/Median/Mode Imputation\n",
    "\n",
    "For any “NA” value in a given column, replace “NA” with the **mean, median, or mode** computed from other available values in that column.\n",
    "\n",
    "Definitions for these statistics very quickly:\n",
    "- mean - the average value\n",
    "- median - the mid point value\n",
    "- mode - the most common value \n",
    "\n",
    "**Pros**:\n",
    "- Quick\n",
    "- Easy to implement\n",
    "- Seems reasonable _(it is, a data driven approach afterall)_\n",
    "\n",
    "**Cons**:\n",
    "- Can significantly distort data distribution _(visually, histograms can confirm this)_\n",
    "- Can underestimate variance\n",
    "- Should only be considered if data is MCAR _(MCAR, 'Missing Completely at Random')_"
   ]
  },
  {
   "cell_type": "markdown",
   "metadata": {},
   "source": [
    "#### Mean Imputation"
   ]
  },
  {
   "cell_type": "code",
   "execution_count": 8,
   "metadata": {
    "tags": []
   },
   "outputs": [
    {
     "data": {
      "text/plain": [
       "children      0\n",
       "age          30\n",
       "partnered     0\n",
       "income        0\n",
       "dtype: int64"
      ]
     },
     "execution_count": 8,
     "metadata": {},
     "output_type": "execute_result"
    }
   ],
   "source": [
    "# recapping the column with missing values\n",
    "income_missing.isnull().sum()"
   ]
  },
  {
   "cell_type": "code",
   "execution_count": 9,
   "metadata": {},
   "outputs": [
    {
     "data": {
      "text/plain": [
       "39.5"
      ]
     },
     "execution_count": 9,
     "metadata": {},
     "output_type": "execute_result"
    }
   ],
   "source": [
    "# Let's impute missing values in the age column with the mean from available data points\n",
    "# let's first find the mean using .mean()\n",
    "mean_age = income_missing['age'].mean()\n",
    "mean_age"
   ]
  },
  {
   "cell_type": "code",
   "execution_count": 10,
   "metadata": {},
   "outputs": [
    {
     "data": {
      "text/plain": [
       "children             0\n",
       "age                 30\n",
       "partnered            0\n",
       "income               0\n",
       "age_mean_imputed     0\n",
       "dtype: int64"
      ]
     },
     "execution_count": 10,
     "metadata": {},
     "output_type": "execute_result"
    }
   ],
   "source": [
    "# next, let's create a new col in income_missing df that'll fill only the NA values from 'age' col with the mean\n",
    "income_missing['age_mean_imputed'] = income_missing['age'].fillna(mean_age)\n",
    "\n",
    "income_missing.isnull().sum() # we can see while 'age' has 30 missing data, the newly imputed col, 'age_mean_imputed' does not"
   ]
  },
  {
   "cell_type": "code",
   "execution_count": 11,
   "metadata": {},
   "outputs": [
    {
     "data": {
      "image/png": "[encoded data removed]",
      "text/plain": [
       "<Figure size 1152x648 with 2 Axes>"
      ]
     },
     "metadata": {},
     "output_type": "display_data"
    }
   ],
   "source": [
    "# let's invoke our previously defined function\n",
    "# we're going to use it to compare the 'age' col from 'income' df that DOES NOT have any missing vs,\n",
    "# the 'age_mean_imputed' col from 'income_missing' df that had missing values from 'age' imputed with mean from available values\n",
    "compare_histograms(imputed_column = income_missing['age_mean_imputed'], # plot hist for 'age_mean_imputed' col with missing=mean\n",
    "                   original_column = income['age'], # plot hist for 'age' col with NO-MISSING data\n",
    "                   x_label = 'Age',\n",
    "                   y_label = 'Frequency')"
   ]
  },
  {
   "cell_type": "markdown",
   "metadata": {},
   "source": [
    "We are **underestimating the variance** here. Let's look at the definition for _variance_:\n",
    " - _Variance measures how distant from the mean random values are in a data set_\n",
    " - _A set of data with **low variance is dominated at the mean**_\n",
    " - _while, a set of **high variance is spread out** and deviates significantly from the mean._"
   ]
  },
  {
   "cell_type": "code",
   "execution_count": 12,
   "metadata": {},
   "outputs": [
    {
     "name": "stdout",
     "output_type": "stream",
     "text": [
      "imputed: 97.23, actual: 141.63\n"
     ]
    }
   ],
   "source": [
    "# let's examine the variance between the imputed (for missing) vs actual (no missing) cols:\n",
    "imputed_variance_m2 = (income_missing['age_mean_imputed'].std())**2\n",
    "actual_variance = (income['age'].std())**2\n",
    "print(f'imputed: {imputed_variance_m2:.2f}, actual: {actual_variance:.2f}')"
   ]
  },
  {
   "cell_type": "markdown",
   "metadata": {},
   "source": [
    "We can confirm from above that the variance for the imputed column is ~46% different/lower compared to actual column with no missing values. By imputing the missing values with the data distribution's mean, we artificially created a distribution that is very close to the mean, which shows up in the peak at mean value from the comparison histograms above. \n",
    "\n",
    "**Why is this a bad thing?**\n",
    "\n",
    "By disturbing the natural distribution of the underlying data, and creating something that isn't very representative of the actual distribution's data spread, we are potentially disrupting statistical conclusions, like related to confidence interval/hypothesis testing.   "
   ]
  },
  {
   "cell_type": "markdown",
   "metadata": {},
   "source": [
    "#### Median Imputation\n",
    "\n",
    "Example of median.\n",
    "\n",
    "$orignal\\,list = [20,3,5,1,2,3,0,3,8]$\n",
    "\n",
    "$sorted\\,list = [0,1,2,3,3,3,5,8,20]$\n",
    "\n",
    "Median is the middle value in the sorted list which is 3 here"
   ]
  },
  {
   "cell_type": "code",
   "execution_count": 13,
   "metadata": {},
   "outputs": [
    {
     "data": {
      "text/plain": [
       "40.5"
      ]
     },
     "execution_count": 13,
     "metadata": {},
     "output_type": "execute_result"
    }
   ],
   "source": [
    "# Let's impute missing values in the age column with the 'median' this time, instead of the above 'mean'\n",
    "# median value is the value in the middle, after you have sorted all the values from smallest to largest\n",
    "med_age = income_missing['age'].median()\n",
    "med_age"
   ]
  },
  {
   "cell_type": "code",
   "execution_count": 14,
   "metadata": {},
   "outputs": [
    {
     "data": {
      "text/plain": [
       "children             0\n",
       "age                 30\n",
       "partnered            0\n",
       "income               0\n",
       "age_mean_imputed     0\n",
       "age_med_imputed      0\n",
       "dtype: int64"
      ]
     },
     "execution_count": 14,
     "metadata": {},
     "output_type": "execute_result"
    }
   ],
   "source": [
    "# let's create a new col in income_missing df that'll fill only the NA values from 'age' col with the median\n",
    "income_missing['age_med_imputed'] = income_missing['age'].fillna(med_age)\n",
    "\n",
    "income_missing.isnull().sum() # we can see while 'age' has 30 missing data, the newly imputed col, 'age_med_imputed' does not"
   ]
  },
  {
   "cell_type": "code",
   "execution_count": 15,
   "metadata": {},
   "outputs": [
    {
     "data": {
      "image/png": "[encoded data removed]",
      "text/plain": [
       "<Figure size 1152x648 with 2 Axes>"
      ]
     },
     "metadata": {},
     "output_type": "display_data"
    }
   ],
   "source": [
    "compare_histograms(imputed_column = income_missing['age_med_imputed'],\n",
    "                   original_column = income['age'],\n",
    "                   x_label = 'Age',\n",
    "                   y_label = 'Frequency')"
   ]
  },
  {
   "cell_type": "markdown",
   "metadata": {},
   "source": [
    "#### Mode Imputation"
   ]
  },
  {
   "cell_type": "code",
   "execution_count": 16,
   "metadata": {},
   "outputs": [
    {
     "data": {
      "text/plain": [
       "0    44.0\n",
       "dtype: float64"
      ]
     },
     "execution_count": 16,
     "metadata": {},
     "output_type": "execute_result"
    }
   ],
   "source": [
    "# Running df[col].mode() gives us a Series instead of a single value.\n",
    "# so we use [0] to get the final value\n",
    "income_missing['age'].mode()"
   ]
  },
  {
   "cell_type": "code",
   "execution_count": 17,
   "metadata": {},
   "outputs": [
    {
     "data": {
      "text/plain": [
       "44.0"
      ]
     },
     "execution_count": 17,
     "metadata": {},
     "output_type": "execute_result"
    }
   ],
   "source": [
    "# Let's impute missing values in the age column with the mode\n",
    "# Mode value is the value that appears the most number of times\n",
    "mode_age = income_missing['age'].mode()[0]\n",
    "mode_age"
   ]
  },
  {
   "cell_type": "code",
   "execution_count": 18,
   "metadata": {},
   "outputs": [
    {
     "data": {
      "text/plain": [
       "children             0\n",
       "age                 30\n",
       "partnered            0\n",
       "income               0\n",
       "age_mean_imputed     0\n",
       "age_med_imputed      0\n",
       "age_mode_imputed     0\n",
       "dtype: int64"
      ]
     },
     "execution_count": 18,
     "metadata": {},
     "output_type": "execute_result"
    }
   ],
   "source": [
    "# let's create a new col in income_missing df that'll fill only the NA values from 'age' col with the mode\n",
    "income_missing['age_mode_imputed'] = income_missing['age'].fillna(mode_age)\n",
    "\n",
    "income_missing.isnull().sum() # we can see while 'age' has 30 missing data, the newly imputed col, 'age_mode_imputed' does not"
   ]
  },
  {
   "cell_type": "code",
   "execution_count": 19,
   "metadata": {},
   "outputs": [
    {
     "data": {
      "image/png": "[encoded data removed]",
      "text/plain": [
       "<Figure size 1152x648 with 2 Axes>"
      ]
     },
     "metadata": {},
     "output_type": "display_data"
    }
   ],
   "source": [
    "compare_histograms(imputed_column = income_missing['age_mode_imputed'],\n",
    "                   original_column = income['age'],\n",
    "                   x_label = 'Age',\n",
    "                   y_label = 'Frequency')"
   ]
  },
  {
   "cell_type": "markdown",
   "metadata": {},
   "source": [
    "- With each of the statistic computation, we notice the imputed column's data distribution shifting based on the applied imputation\n",
    "- The gap between 'True Mean' and 'Imputed Mean' has progressively widened, for mean vs median vs mode imputation  "
   ]
  },
  {
   "cell_type": "markdown",
   "metadata": {},
   "source": [
    "### Make your life easier -> <span style=\"color:green\">Simple Imputer</span> in sklearn\n",
    "\n",
    "Note: **Train-test-split BEFORE doing this if you are going to model later _to avoid data leakage!_**\n",
    "\n",
    "SimpleImputer sklearn documentation [here](https://scikit-learn.org/stable/modules/generated/sklearn.impute.SimpleImputer.html#sklearn.impute.SimpleImputer).\n",
    "\n",
    "Let's try the `mean imputation` again, this time with sklearn's `SimpleImputer` class"
   ]
  },
  {
   "cell_type": "code",
   "execution_count": 19,
   "metadata": {},
   "outputs": [],
   "source": [
    "# imputation transformer for completing missing values\n",
    "from sklearn.impute import SimpleImputer"
   ]
  },
  {
   "cell_type": "code",
   "execution_count": 20,
   "metadata": {},
   "outputs": [
    {
     "name": "stdout",
     "output_type": "stream",
     "text": [
      "<class 'pandas.core.frame.DataFrame'>\n",
      "RangeIndex: 100 entries, 0 to 99\n",
      "Data columns (total 4 columns):\n",
      " #   Column     Non-Null Count  Dtype  \n",
      "---  ------     --------------  -----  \n",
      " 0   children   100 non-null    int64  \n",
      " 1   age        70 non-null     float64\n",
      " 2   partnered  100 non-null    int64  \n",
      " 3   income     100 non-null    float64\n",
      "dtypes: float64(2), int64(2)\n",
      "memory usage: 3.2 KB\n"
     ]
    }
   ],
   "source": [
    "# re-load data with missing values for 'age'\n",
    "income_missing = pd.read_csv('../data/income_missing.csv') \n",
    "income_missing.info()"
   ]
  },
  {
   "cell_type": "code",
   "execution_count": 21,
   "metadata": {
    "scrolled": true
   },
   "outputs": [
    {
     "data": {
      "text/plain": [
       "array([[1.00000000e+00, 3.50000000e+01, 1.00000000e+00, 5.65313613e+04],\n",
       "       [2.00000000e+00, 5.80000000e+01, 1.00000000e+00, 9.30261825e+04],\n",
       "       [0.00000000e+00, 4.90000000e+01, 1.00000000e+00, 4.26930108e+04],\n",
       "       [0.00000000e+00, 4.40000000e+01, 1.00000000e+00, 8.36801282e+04],\n",
       "       [1.00000000e+00, 2.60000000e+01, 0.00000000e+00, 2.88455208e+04],\n",
       "       [1.00000000e+00, 2.60000000e+01, 1.00000000e+00, 2.48988409e+04],\n",
       "       [2.00000000e+00, 2.20000000e+01, 1.00000000e+00, 6.71520081e+04],\n",
       "       [2.00000000e+00, 5.50000000e+01, 1.00000000e+00, 3.50473735e+04],\n",
       "       [5.00000000e+00, 4.40000000e+01, 1.00000000e+00, 1.72458697e+04],\n",
       "       [1.00000000e+00, 3.95000000e+01, 1.00000000e+00, 7.57495292e+04],\n",
       "       [2.00000000e+00, 3.95000000e+01, 1.00000000e+00, 5.71769502e+04],\n",
       "       [4.00000000e+00, 3.95000000e+01, 1.00000000e+00, 8.86604764e+04],\n",
       "       [1.00000000e+00, 3.95000000e+01, 0.00000000e+00, 6.70892603e+04],\n",
       "       [2.00000000e+00, 3.95000000e+01, 0.00000000e+00, 6.05331725e+04],\n",
       "       [1.00000000e+00, 2.70000000e+01, 1.00000000e+00, 6.67548591e+04],\n",
       "       [4.00000000e+00, 2.70000000e+01, 0.00000000e+00, 2.26040111e+04],\n",
       "       [5.00000000e+00, 3.95000000e+01, 0.00000000e+00, 2.50277777e+04],\n",
       "       [2.00000000e+00, 3.95000000e+01, 1.00000000e+00, 5.51055762e+04],\n",
       "       [1.00000000e+00, 3.70000000e+01, 0.00000000e+00, 4.61595505e+04],\n",
       "       [3.00000000e+00, 3.95000000e+01, 1.00000000e+00, 2.95530826e+04],\n",
       "       [2.00000000e+00, 4.40000000e+01, 0.00000000e+00, 4.98184440e+04],\n",
       "       [5.00000000e+00, 2.60000000e+01, 0.00000000e+00, 2.02717299e+04],\n",
       "       [5.00000000e+00, 3.20000000e+01, 1.00000000e+00, 5.20127032e+04],\n",
       "       [5.00000000e+00, 3.50000000e+01, 1.00000000e+00, 5.43244607e+04],\n",
       "       [1.00000000e+00, 3.95000000e+01, 1.00000000e+00, 1.19547080e+04],\n",
       "       [0.00000000e+00, 5.10000000e+01, 1.00000000e+00, 5.52241236e+04],\n",
       "       [1.00000000e+00, 2.80000000e+01, 0.00000000e+00, 3.13274267e+04],\n",
       "       [2.00000000e+00, 3.95000000e+01, 0.00000000e+00, 3.96403008e+04],\n",
       "       [1.00000000e+00, 4.40000000e+01, 1.00000000e+00, 7.06877862e+04],\n",
       "       [0.00000000e+00, 3.95000000e+01, 1.00000000e+00, 5.75469658e+04],\n",
       "       [2.00000000e+00, 3.95000000e+01, 1.00000000e+00, 9.33246665e+04],\n",
       "       [2.00000000e+00, 2.70000000e+01, 1.00000000e+00, 5.64991696e+04],\n",
       "       [1.00000000e+00, 2.30000000e+01, 1.00000000e+00, 4.34895258e+04],\n",
       "       [0.00000000e+00, 5.80000000e+01, 1.00000000e+00, 4.65175305e+04],\n",
       "       [3.00000000e+00, 5.90000000e+01, 0.00000000e+00, 2.43781977e+04],\n",
       "       [3.00000000e+00, 5.20000000e+01, 1.00000000e+00, 7.72098362e+04],\n",
       "       [1.00000000e+00, 3.20000000e+01, 1.00000000e+00, 7.77089363e+04],\n",
       "       [0.00000000e+00, 2.40000000e+01, 1.00000000e+00, 8.38274199e+04],\n",
       "       [0.00000000e+00, 4.70000000e+01, 1.00000000e+00, 5.36921384e+04],\n",
       "       [4.00000000e+00, 3.95000000e+01, 0.00000000e+00, 2.74227113e+04],\n",
       "       [1.00000000e+00, 2.50000000e+01, 0.00000000e+00, 3.60966737e+04],\n",
       "       [3.00000000e+00, 4.00000000e+01, 1.00000000e+00, 9.84479784e+04],\n",
       "       [4.00000000e+00, 3.95000000e+01, 1.00000000e+00, 4.30472294e+04],\n",
       "       [1.00000000e+00, 5.60000000e+01, 1.00000000e+00, 1.05525257e+05],\n",
       "       [1.00000000e+00, 3.00000000e+01, 1.00000000e+00, 5.83994581e+04],\n",
       "       [0.00000000e+00, 4.70000000e+01, 1.00000000e+00, 9.33149037e+04],\n",
       "       [0.00000000e+00, 3.20000000e+01, 1.00000000e+00, 7.95315969e+04],\n",
       "       [0.00000000e+00, 4.10000000e+01, 1.00000000e+00, 6.90717627e+04],\n",
       "       [3.00000000e+00, 3.95000000e+01, 1.00000000e+00, 3.85923351e+04],\n",
       "       [2.00000000e+00, 2.70000000e+01, 1.00000000e+00, 4.48681112e+04],\n",
       "       [2.00000000e+00, 5.90000000e+01, 0.00000000e+00, 8.40309035e+04],\n",
       "       [1.00000000e+00, 5.10000000e+01, 1.00000000e+00, 8.83065034e+04],\n",
       "       [2.00000000e+00, 3.95000000e+01, 1.00000000e+00, 6.48269935e+04],\n",
       "       [2.00000000e+00, 5.60000000e+01, 1.00000000e+00, 6.51538272e+04],\n",
       "       [0.00000000e+00, 4.40000000e+01, 0.00000000e+00, 1.33825379e+04],\n",
       "       [1.00000000e+00, 5.70000000e+01, 1.00000000e+00, 1.04136776e+05],\n",
       "       [3.00000000e+00, 2.40000000e+01, 1.00000000e+00, 6.32212712e+04],\n",
       "       [4.00000000e+00, 2.80000000e+01, 1.00000000e+00, 4.32584436e+04],\n",
       "       [3.00000000e+00, 3.95000000e+01, 1.00000000e+00, 4.80026884e+04],\n",
       "       [0.00000000e+00, 3.95000000e+01, 1.00000000e+00, 1.63326834e+04],\n",
       "       [0.00000000e+00, 3.95000000e+01, 1.00000000e+00, 5.22657101e+04],\n",
       "       [0.00000000e+00, 3.10000000e+01, 1.00000000e+00, 8.49389128e+04],\n",
       "       [1.00000000e+00, 5.30000000e+01, 1.00000000e+00, 9.18809475e+04],\n",
       "       [2.00000000e+00, 3.40000000e+01, 1.00000000e+00, 6.21140111e+04],\n",
       "       [2.00000000e+00, 3.10000000e+01, 1.00000000e+00, 5.29556348e+04],\n",
       "       [5.00000000e+00, 4.20000000e+01, 0.00000000e+00, 4.99281086e+04],\n",
       "       [1.00000000e+00, 2.60000000e+01, 1.00000000e+00, 4.63722979e+04],\n",
       "       [3.00000000e+00, 5.20000000e+01, 1.00000000e+00, 3.32061361e+04],\n",
       "       [4.00000000e+00, 2.30000000e+01, 1.00000000e+00, 4.21260172e+04],\n",
       "       [2.00000000e+00, 5.90000000e+01, 1.00000000e+00, 8.23123865e+04],\n",
       "       [3.00000000e+00, 5.10000000e+01, 1.00000000e+00, 8.82035537e+04],\n",
       "       [2.00000000e+00, 2.80000000e+01, 1.00000000e+00, 2.21760848e+04],\n",
       "       [1.00000000e+00, 2.00000000e+01, 1.00000000e+00, 4.50417739e+04],\n",
       "       [4.00000000e+00, 3.95000000e+01, 1.00000000e+00, 6.32439269e+04],\n",
       "       [1.00000000e+00, 4.80000000e+01, 1.00000000e+00, 4.64749619e+04],\n",
       "       [3.00000000e+00, 4.90000000e+01, 1.00000000e+00, 7.40034655e+04],\n",
       "       [1.00000000e+00, 5.10000000e+01, 1.00000000e+00, 8.56973606e+04],\n",
       "       [1.00000000e+00, 3.95000000e+01, 1.00000000e+00, 4.39361538e+04],\n",
       "       [3.00000000e+00, 3.95000000e+01, 0.00000000e+00, 7.41018522e+04],\n",
       "       [0.00000000e+00, 3.95000000e+01, 1.00000000e+00, 4.73627998e+04],\n",
       "       [1.00000000e+00, 3.95000000e+01, 1.00000000e+00, 6.48163306e+04],\n",
       "       [1.00000000e+00, 4.50000000e+01, 1.00000000e+00, 5.67365730e+04],\n",
       "       [0.00000000e+00, 3.30000000e+01, 0.00000000e+00, 2.34400185e+04],\n",
       "       [1.00000000e+00, 3.95000000e+01, 0.00000000e+00, 1.85694901e+04],\n",
       "       [2.00000000e+00, 3.20000000e+01, 1.00000000e+00, 2.53182226e+04],\n",
       "       [0.00000000e+00, 3.95000000e+01, 1.00000000e+00, 5.59193435e+04],\n",
       "       [3.00000000e+00, 4.90000000e+01, 0.00000000e+00, 4.53994801e+04],\n",
       "       [4.00000000e+00, 4.60000000e+01, 1.00000000e+00, 1.38439502e+04],\n",
       "       [4.00000000e+00, 5.50000000e+01, 1.00000000e+00, 6.42110098e+04],\n",
       "       [1.00000000e+00, 3.95000000e+01, 1.00000000e+00, 6.25926816e+04],\n",
       "       [1.00000000e+00, 2.50000000e+01, 1.00000000e+00, 6.15417798e+04],\n",
       "       [0.00000000e+00, 4.90000000e+01, 0.00000000e+00, 7.58427015e+04],\n",
       "       [0.00000000e+00, 3.95000000e+01, 0.00000000e+00, 6.95270853e+04],\n",
       "       [4.00000000e+00, 4.20000000e+01, 1.00000000e+00, 4.40927255e+04],\n",
       "       [2.00000000e+00, 3.95000000e+01, 1.00000000e+00, 5.35217566e+04],\n",
       "       [1.00000000e+00, 4.00000000e+01, 1.00000000e+00, 7.40900880e+04],\n",
       "       [1.00000000e+00, 4.10000000e+01, 1.00000000e+00, 5.23044033e+04],\n",
       "       [3.00000000e+00, 3.70000000e+01, 0.00000000e+00, 1.06889196e+04],\n",
       "       [4.00000000e+00, 3.95000000e+01, 0.00000000e+00, 6.82328349e+04],\n",
       "       [4.00000000e+00, 2.40000000e+01, 1.00000000e+00, 3.67855147e+04]])"
      ]
     },
     "execution_count": 21,
     "metadata": {},
     "output_type": "execute_result"
    }
   ],
   "source": [
    "# strategy='median' or 'most_frequent' are alternatively available options as well\n",
    "imp = SimpleImputer(strategy = 'mean')  # instantiate\n",
    "\n",
    "# apply imputation with mean transformation to missing values in income_missing df\n",
    "imp_income_missing = imp.fit_transform(income_missing) \n",
    "imp_income_missing"
   ]
  },
  {
   "cell_type": "code",
   "execution_count": 22,
   "metadata": {},
   "outputs": [
    {
     "data": {
      "text/html": [
       "<div>\n",
       "<style scoped>\n",
       "    .dataframe tbody tr th:only-of-type {\n",
       "        vertical-align: middle;\n",
       "    }\n",
       "\n",
       "    .dataframe tbody tr th {\n",
       "        vertical-align: top;\n",
       "    }\n",
       "\n",
       "    .dataframe thead th {\n",
       "        text-align: right;\n",
       "    }\n",
       "</style>\n",
       "<table border=\"1\" class=\"dataframe\">\n",
       "  <thead>\n",
       "    <tr style=\"text-align: right;\">\n",
       "      <th></th>\n",
       "      <th>children</th>\n",
       "      <th>age</th>\n",
       "      <th>partnered</th>\n",
       "      <th>income</th>\n",
       "    </tr>\n",
       "  </thead>\n",
       "  <tbody>\n",
       "    <tr>\n",
       "      <th>0</th>\n",
       "      <td>1.0</td>\n",
       "      <td>35.0</td>\n",
       "      <td>1.0</td>\n",
       "      <td>56531.361287</td>\n",
       "    </tr>\n",
       "    <tr>\n",
       "      <th>1</th>\n",
       "      <td>2.0</td>\n",
       "      <td>58.0</td>\n",
       "      <td>1.0</td>\n",
       "      <td>93026.182530</td>\n",
       "    </tr>\n",
       "    <tr>\n",
       "      <th>2</th>\n",
       "      <td>0.0</td>\n",
       "      <td>49.0</td>\n",
       "      <td>1.0</td>\n",
       "      <td>42693.010819</td>\n",
       "    </tr>\n",
       "    <tr>\n",
       "      <th>3</th>\n",
       "      <td>0.0</td>\n",
       "      <td>44.0</td>\n",
       "      <td>1.0</td>\n",
       "      <td>83680.128218</td>\n",
       "    </tr>\n",
       "    <tr>\n",
       "      <th>4</th>\n",
       "      <td>1.0</td>\n",
       "      <td>26.0</td>\n",
       "      <td>0.0</td>\n",
       "      <td>28845.520835</td>\n",
       "    </tr>\n",
       "  </tbody>\n",
       "</table>\n",
       "</div>"
      ],
      "text/plain": [
       "   children   age  partnered        income\n",
       "0       1.0  35.0        1.0  56531.361287\n",
       "1       2.0  58.0        1.0  93026.182530\n",
       "2       0.0  49.0        1.0  42693.010819\n",
       "3       0.0  44.0        1.0  83680.128218\n",
       "4       1.0  26.0        0.0  28845.520835"
      ]
     },
     "execution_count": 22,
     "metadata": {},
     "output_type": "execute_result"
    }
   ],
   "source": [
    "# convert above array from imputation operation to a df for more flexible transformations/review\n",
    "imp_income_missing_df = pd.DataFrame(imp_income_missing, columns = income_missing.columns)\n",
    "imp_income_missing_df.head()"
   ]
  },
  {
   "cell_type": "code",
   "execution_count": 23,
   "metadata": {},
   "outputs": [
    {
     "name": "stdout",
     "output_type": "stream",
     "text": [
      "<class 'pandas.core.frame.DataFrame'>\n",
      "RangeIndex: 100 entries, 0 to 99\n",
      "Data columns (total 4 columns):\n",
      " #   Column     Non-Null Count  Dtype  \n",
      "---  ------     --------------  -----  \n",
      " 0   children   100 non-null    float64\n",
      " 1   age        100 non-null    float64\n",
      " 2   partnered  100 non-null    float64\n",
      " 3   income     100 non-null    float64\n",
      "dtypes: float64(4)\n",
      "memory usage: 3.2 KB\n"
     ]
    }
   ],
   "source": [
    "imp_income_missing_df.info() # no more missing values as a result of sklearn's SimpleImputer operation"
   ]
  },
  {
   "cell_type": "markdown",
   "metadata": {},
   "source": [
    "### Method 3: Single Regression Imputation\n",
    "\n",
    "With regression imputation, the information of other variables is used to predict the missing values in a variable by using a regression model.\n",
    "\n",
    "- Suppose I’m missing income for some people, but have all observed age and highest level of education for everybody.  \n",
    "- X = age and highest level of education, y = income.\n",
    "- Fit a model.\n",
    "- For any “NA” value in a given column (like, `y` here), replace “NA” with predicted value from that model.\n",
    "\n",
    "**Pros**:\n",
    "- Seems reasonable\n",
    "- More sophisticated approach than traditional ways of mean/median/mode imputation\n",
    "\n",
    "**Cons**:\n",
    "- Still distorts histogram\n",
    "- Underestimates variance\n",
    "- Should only be considered if data is MCAR or MAR. _(MAR, 'missing at random')_"
   ]
  },
  {
   "cell_type": "code",
   "execution_count": 24,
   "metadata": {},
   "outputs": [
    {
     "name": "stdout",
     "output_type": "stream",
     "text": [
      "<class 'pandas.core.frame.DataFrame'>\n",
      "RangeIndex: 100 entries, 0 to 99\n",
      "Data columns (total 4 columns):\n",
      " #   Column     Non-Null Count  Dtype  \n",
      "---  ------     --------------  -----  \n",
      " 0   children   100 non-null    int64  \n",
      " 1   age        70 non-null     float64\n",
      " 2   partnered  100 non-null    int64  \n",
      " 3   income     100 non-null    float64\n",
      "dtypes: float64(2), int64(2)\n",
      "memory usage: 3.2 KB\n"
     ]
    }
   ],
   "source": [
    "# re-load data\n",
    "income_missing = pd.read_csv('../data/income_missing.csv') \n",
    "income_missing.info()"
   ]
  },
  {
   "cell_type": "code",
   "execution_count": 25,
   "metadata": {},
   "outputs": [],
   "source": [
    "# Import sklearn linear regression\n",
    "from sklearn.linear_model import LinearRegression"
   ]
  },
  {
   "cell_type": "code",
   "execution_count": 26,
   "metadata": {},
   "outputs": [
    {
     "data": {
      "text/plain": [
       "(70, 4)"
      ]
     },
     "execution_count": 26,
     "metadata": {},
     "output_type": "execute_result"
    }
   ],
   "source": [
    "# Save a new subset-dataframe without any missing values\n",
    "income_new = income_missing.dropna()\n",
    "income_new.shape # confirms that 30 rows were dropped corresponding to missing values in 'age'"
   ]
  },
  {
   "cell_type": "code",
   "execution_count": 27,
   "metadata": {},
   "outputs": [
    {
     "data": {
      "text/plain": [
       "LinearRegression()"
      ]
     },
     "execution_count": 27,
     "metadata": {},
     "output_type": "execute_result"
    }
   ],
   "source": [
    "# Set up model\n",
    "X_columns = income_new[['partnered', 'children', 'income']] # take cols w/o any missing values originally for model feature matrix\n",
    "impute_column = income_new['age'] # target col vector\n",
    "\n",
    "# Instantiate model\n",
    "model = LinearRegression()\n",
    "\n",
    "# Fit (train model)\n",
    "model.fit(X_columns, impute_column)"
   ]
  },
  {
   "cell_type": "code",
   "execution_count": 28,
   "metadata": {
    "tags": []
   },
   "outputs": [],
   "source": [
    "# Impute missing values in income_missing['age'] with the prediction from model\n",
    "def age_imputed(row):\n",
    "    # Check if age column is NaN\n",
    "    if np.isnan(row['age']):\n",
    "        # Create the X_test\n",
    "        # Subset all columns that are NOT 'age'\n",
    "        X_test = row[~row.index.isin(['age'])] \n",
    "        # Conver it to a DataFrame and Transpose so that each column is a column and not a row\n",
    "        X_test = pd.DataFrame(X_test).T\n",
    "        \n",
    "        # Run predictions and return y_pred as the imputed value\n",
    "        y_pred = model.predict(X_test)[0]\n",
    "        return y_pred\n",
    "    else:\n",
    "        # If age column is not NaN then directly return the value of the age column itself\n",
    "        return row['age']\n",
    "    \n",
    "# we'll create a new col, 'age_regression_imputed' to contain the regression imputed replacements using pandas apply on each row\n",
    "income_missing['age_regression_imputed'] = income_missing.apply(age_imputed, axis=1)"
   ]
  },
  {
   "cell_type": "markdown",
   "metadata": {},
   "source": [
    "Let's break down the apply function from above: \n",
    "\n",
    "1. In the apply function we specified `axis=1` so that we can access multiple columns within the apply function\n",
    "2. In the `age_imputed` function, we are checking each row\n",
    "3. If the value of the `'age'` column in that row is NaN, then we run model predictions\n",
    "    1. To run predictions, we first need to generate the X_test\n",
    "    2. For this, we first subset the columns that are NOT 'age'\n",
    "    3. After the above step, the values from each \"column\" is actually in a pandas series, so we convert it to a DataFrame and Transpose so that each value is in a columns. See code below\n",
    "4. If not, we return the value of the `'age'` column itself."
   ]
  },
  {
   "cell_type": "code",
   "execution_count": 29,
   "metadata": {},
   "outputs": [
    {
     "data": {
      "text/plain": [
       "children                      1.000000\n",
       "age                                NaN\n",
       "partnered                     1.000000\n",
       "income                    75749.529176\n",
       "age_regression_imputed       42.370291\n",
       "Name: 9, dtype: float64"
      ]
     },
     "execution_count": 29,
     "metadata": {},
     "output_type": "execute_result"
    }
   ],
   "source": [
    "# A sample 'row'\n",
    "row = income_missing.loc[9]\n",
    "row"
   ]
  },
  {
   "cell_type": "code",
   "execution_count": 30,
   "metadata": {},
   "outputs": [
    {
     "data": {
      "text/plain": [
       "children                      1.000000\n",
       "partnered                     1.000000\n",
       "income                    75749.529176\n",
       "age_regression_imputed       42.370291\n",
       "Name: 9, dtype: float64"
      ]
     },
     "execution_count": 30,
     "metadata": {},
     "output_type": "execute_result"
    }
   ],
   "source": [
    "# All values except 'age'\n",
    "X_test = row[~row.index.isin(['age'])] \n",
    "X_test"
   ]
  },
  {
   "cell_type": "code",
   "execution_count": 31,
   "metadata": {},
   "outputs": [
    {
     "data": {
      "text/html": [
       "<div>\n",
       "<style scoped>\n",
       "    .dataframe tbody tr th:only-of-type {\n",
       "        vertical-align: middle;\n",
       "    }\n",
       "\n",
       "    .dataframe tbody tr th {\n",
       "        vertical-align: top;\n",
       "    }\n",
       "\n",
       "    .dataframe thead th {\n",
       "        text-align: right;\n",
       "    }\n",
       "</style>\n",
       "<table border=\"1\" class=\"dataframe\">\n",
       "  <thead>\n",
       "    <tr style=\"text-align: right;\">\n",
       "      <th></th>\n",
       "      <th>9</th>\n",
       "    </tr>\n",
       "  </thead>\n",
       "  <tbody>\n",
       "    <tr>\n",
       "      <th>children</th>\n",
       "      <td>1.000000</td>\n",
       "    </tr>\n",
       "    <tr>\n",
       "      <th>partnered</th>\n",
       "      <td>1.000000</td>\n",
       "    </tr>\n",
       "    <tr>\n",
       "      <th>income</th>\n",
       "      <td>75749.529176</td>\n",
       "    </tr>\n",
       "    <tr>\n",
       "      <th>age_regression_imputed</th>\n",
       "      <td>42.370291</td>\n",
       "    </tr>\n",
       "  </tbody>\n",
       "</table>\n",
       "</div>"
      ],
      "text/plain": [
       "                                   9\n",
       "children                    1.000000\n",
       "partnered                   1.000000\n",
       "income                  75749.529176\n",
       "age_regression_imputed     42.370291"
      ]
     },
     "execution_count": 31,
     "metadata": {},
     "output_type": "execute_result"
    }
   ],
   "source": [
    "# Convert to DataFrame, but all values are in rows!\n",
    "pd.DataFrame(X_test)"
   ]
  },
  {
   "cell_type": "code",
   "execution_count": 32,
   "metadata": {},
   "outputs": [
    {
     "data": {
      "text/html": [
       "<div>\n",
       "<style scoped>\n",
       "    .dataframe tbody tr th:only-of-type {\n",
       "        vertical-align: middle;\n",
       "    }\n",
       "\n",
       "    .dataframe tbody tr th {\n",
       "        vertical-align: top;\n",
       "    }\n",
       "\n",
       "    .dataframe thead th {\n",
       "        text-align: right;\n",
       "    }\n",
       "</style>\n",
       "<table border=\"1\" class=\"dataframe\">\n",
       "  <thead>\n",
       "    <tr style=\"text-align: right;\">\n",
       "      <th></th>\n",
       "      <th>children</th>\n",
       "      <th>partnered</th>\n",
       "      <th>income</th>\n",
       "      <th>age_regression_imputed</th>\n",
       "    </tr>\n",
       "  </thead>\n",
       "  <tbody>\n",
       "    <tr>\n",
       "      <th>9</th>\n",
       "      <td>1.0</td>\n",
       "      <td>1.0</td>\n",
       "      <td>75749.529176</td>\n",
       "      <td>42.370291</td>\n",
       "    </tr>\n",
       "  </tbody>\n",
       "</table>\n",
       "</div>"
      ],
      "text/plain": [
       "   children  partnered        income  age_regression_imputed\n",
       "9       1.0        1.0  75749.529176               42.370291"
      ]
     },
     "execution_count": 32,
     "metadata": {},
     "output_type": "execute_result"
    }
   ],
   "source": [
    "# Convert to DataFrame and keep each value in a column\n",
    "pd.DataFrame(X_test).T"
   ]
  },
  {
   "cell_type": "code",
   "execution_count": 33,
   "metadata": {},
   "outputs": [
    {
     "data": {
      "image/png": "[encoded data removed]",
      "text/plain": [
       "<Figure size 1152x648 with 2 Axes>"
      ]
     },
     "metadata": {},
     "output_type": "display_data"
    }
   ],
   "source": [
    "# let's now invoke the hist custom plotting function, this time to compare actual observations with regression imputation \n",
    "compare_histograms(imputed_column = income_missing['age_regression_imputed'],\n",
    "                   original_column = income['age'],\n",
    "                   x_label = 'Age',\n",
    "                   y_label = 'Frequency')"
   ]
  },
  {
   "cell_type": "markdown",
   "metadata": {},
   "source": [
    "### Make your life easier -> <span style=\"color:green\">Iterative Imputer</span> in sklearn\n",
    "\n",
    "sklearn's `IterativeImputer` is a Multivariate imputer that estimates each feature _(with missing values)_ from all the others through modeling. Documentation from [sklearn](https://scikit-learn.org/stable/modules/generated/sklearn.impute.IterativeImputer.html#sklearn.impute.IterativeImputer): \n",
    "> Note: This estimator is still experimental for now: the predictions and the API might change without any deprecation cycle. To use it, you need to explicitly import enable_iterative_imputer:\n",
    "\n",
    "```python\n",
    "# explicitly requires this experimental feature\n",
    "from sklearn.experimental import enable_iterative_imputer  \n",
    "# now you can import normally from sklearn.impute\n",
    "from sklearn.impute import IterativeImputer\n",
    "```\n",
    "\n",
    "Again, make sure to **fit this only on training data** if you are using this for a model (you can transform testing data)."
   ]
  },
  {
   "cell_type": "code",
   "execution_count": 34,
   "metadata": {},
   "outputs": [],
   "source": [
    "from sklearn.experimental import enable_iterative_imputer \n",
    "from sklearn.impute import IterativeImputer"
   ]
  },
  {
   "cell_type": "code",
   "execution_count": 35,
   "metadata": {},
   "outputs": [
    {
     "name": "stdout",
     "output_type": "stream",
     "text": [
      "<class 'pandas.core.frame.DataFrame'>\n",
      "RangeIndex: 100 entries, 0 to 99\n",
      "Data columns (total 4 columns):\n",
      " #   Column     Non-Null Count  Dtype  \n",
      "---  ------     --------------  -----  \n",
      " 0   children   100 non-null    int64  \n",
      " 1   age        70 non-null     float64\n",
      " 2   partnered  100 non-null    int64  \n",
      " 3   income     100 non-null    float64\n",
      "dtypes: float64(2), int64(2)\n",
      "memory usage: 3.2 KB\n"
     ]
    }
   ],
   "source": [
    "# re-load data\n",
    "income_missing = pd.read_csv('../data/income_missing.csv')\n",
    "income_missing.info()"
   ]
  },
  {
   "cell_type": "code",
   "execution_count": 36,
   "metadata": {
    "scrolled": true,
    "tags": []
   },
   "outputs": [
    {
     "data": {
      "text/plain": [
       "array([[1.00000000e+00, 3.50000000e+01, 1.00000000e+00, 5.65313613e+04],\n",
       "       [2.00000000e+00, 5.80000000e+01, 1.00000000e+00, 9.30261825e+04],\n",
       "       [0.00000000e+00, 4.90000000e+01, 1.00000000e+00, 4.26930108e+04],\n",
       "       [0.00000000e+00, 4.40000000e+01, 1.00000000e+00, 8.36801282e+04],\n",
       "       [1.00000000e+00, 2.60000000e+01, 0.00000000e+00, 2.88455208e+04],\n",
       "       [1.00000000e+00, 2.60000000e+01, 1.00000000e+00, 2.48988409e+04],\n",
       "       [2.00000000e+00, 2.20000000e+01, 1.00000000e+00, 6.71520081e+04],\n",
       "       [2.00000000e+00, 5.50000000e+01, 1.00000000e+00, 3.50473735e+04],\n",
       "       [5.00000000e+00, 4.40000000e+01, 1.00000000e+00, 1.72458697e+04],\n",
       "       [1.00000000e+00, 4.23702913e+01, 1.00000000e+00, 7.57495292e+04],\n",
       "       [2.00000000e+00, 3.89213434e+01, 1.00000000e+00, 5.71769502e+04],\n",
       "       [4.00000000e+00, 4.65827320e+01, 1.00000000e+00, 8.86604764e+04],\n",
       "       [1.00000000e+00, 4.47573889e+01, 0.00000000e+00, 6.70892603e+04],\n",
       "       [2.00000000e+00, 4.38576886e+01, 0.00000000e+00, 6.05331725e+04],\n",
       "       [1.00000000e+00, 2.70000000e+01, 1.00000000e+00, 6.67548591e+04],\n",
       "       [4.00000000e+00, 2.70000000e+01, 0.00000000e+00, 2.26040111e+04],\n",
       "       [5.00000000e+00, 3.77988075e+01, 0.00000000e+00, 2.50277777e+04],\n",
       "       [2.00000000e+00, 3.84819101e+01, 1.00000000e+00, 5.51055762e+04],\n",
       "       [1.00000000e+00, 3.70000000e+01, 0.00000000e+00, 4.61595505e+04],\n",
       "       [3.00000000e+00, 3.35522029e+01, 1.00000000e+00, 2.95530826e+04],\n",
       "       [2.00000000e+00, 4.40000000e+01, 0.00000000e+00, 4.98184440e+04],\n",
       "       [5.00000000e+00, 2.60000000e+01, 0.00000000e+00, 2.02717299e+04],\n",
       "       [5.00000000e+00, 3.20000000e+01, 1.00000000e+00, 5.20127032e+04],\n",
       "       [5.00000000e+00, 3.50000000e+01, 1.00000000e+00, 5.43244607e+04],\n",
       "       [1.00000000e+00, 2.88364903e+01, 1.00000000e+00, 1.19547080e+04],\n",
       "       [0.00000000e+00, 5.10000000e+01, 1.00000000e+00, 5.52241236e+04],\n",
       "       [1.00000000e+00, 2.80000000e+01, 0.00000000e+00, 3.13274267e+04],\n",
       "       [2.00000000e+00, 3.94253544e+01, 0.00000000e+00, 3.96403008e+04],\n",
       "       [1.00000000e+00, 4.40000000e+01, 1.00000000e+00, 7.06877862e+04],\n",
       "       [0.00000000e+00, 3.80175486e+01, 1.00000000e+00, 5.75469658e+04],\n",
       "       [2.00000000e+00, 4.65899282e+01, 1.00000000e+00, 9.33246665e+04],\n",
       "       [2.00000000e+00, 2.70000000e+01, 1.00000000e+00, 5.64991696e+04],\n",
       "       [1.00000000e+00, 2.30000000e+01, 1.00000000e+00, 4.34895258e+04],\n",
       "       [0.00000000e+00, 5.80000000e+01, 1.00000000e+00, 4.65175305e+04],\n",
       "       [3.00000000e+00, 5.90000000e+01, 0.00000000e+00, 2.43781977e+04],\n",
       "       [3.00000000e+00, 5.20000000e+01, 1.00000000e+00, 7.72098362e+04],\n",
       "       [1.00000000e+00, 3.20000000e+01, 1.00000000e+00, 7.77089363e+04],\n",
       "       [0.00000000e+00, 2.40000000e+01, 1.00000000e+00, 8.38274199e+04],\n",
       "       [0.00000000e+00, 4.70000000e+01, 1.00000000e+00, 5.36921384e+04],\n",
       "       [4.00000000e+00, 3.78157366e+01, 0.00000000e+00, 2.74227113e+04],\n",
       "       [1.00000000e+00, 2.50000000e+01, 0.00000000e+00, 3.60966737e+04],\n",
       "       [3.00000000e+00, 4.00000000e+01, 1.00000000e+00, 9.84479784e+04],\n",
       "       [4.00000000e+00, 3.69060749e+01, 1.00000000e+00, 4.30472294e+04],\n",
       "       [1.00000000e+00, 5.60000000e+01, 1.00000000e+00, 1.05525257e+05],\n",
       "       [1.00000000e+00, 3.00000000e+01, 1.00000000e+00, 5.83994581e+04],\n",
       "       [0.00000000e+00, 4.70000000e+01, 1.00000000e+00, 9.33149037e+04],\n",
       "       [0.00000000e+00, 3.20000000e+01, 1.00000000e+00, 7.95315969e+04],\n",
       "       [0.00000000e+00, 4.10000000e+01, 1.00000000e+00, 6.90717627e+04],\n",
       "       [3.00000000e+00, 3.54698420e+01, 1.00000000e+00, 3.85923351e+04],\n",
       "       [2.00000000e+00, 2.70000000e+01, 1.00000000e+00, 4.48681112e+04],\n",
       "       [2.00000000e+00, 5.90000000e+01, 0.00000000e+00, 8.40309035e+04],\n",
       "       [1.00000000e+00, 5.10000000e+01, 1.00000000e+00, 8.83065034e+04],\n",
       "       [2.00000000e+00, 4.05442676e+01, 1.00000000e+00, 6.48269935e+04],\n",
       "       [2.00000000e+00, 5.60000000e+01, 1.00000000e+00, 6.51538272e+04],\n",
       "       [0.00000000e+00, 4.40000000e+01, 0.00000000e+00, 1.33825379e+04],\n",
       "       [1.00000000e+00, 5.70000000e+01, 1.00000000e+00, 1.04136776e+05],\n",
       "       [3.00000000e+00, 2.40000000e+01, 1.00000000e+00, 6.32212712e+04],\n",
       "       [4.00000000e+00, 2.80000000e+01, 1.00000000e+00, 4.32584436e+04],\n",
       "       [3.00000000e+00, 3.74662086e+01, 1.00000000e+00, 4.80026884e+04],\n",
       "       [0.00000000e+00, 2.92741133e+01, 1.00000000e+00, 1.63326834e+04],\n",
       "       [0.00000000e+00, 3.68971526e+01, 1.00000000e+00, 5.22657101e+04],\n",
       "       [0.00000000e+00, 3.10000000e+01, 1.00000000e+00, 8.49389128e+04],\n",
       "       [1.00000000e+00, 5.30000000e+01, 1.00000000e+00, 9.18809475e+04],\n",
       "       [2.00000000e+00, 3.40000000e+01, 1.00000000e+00, 6.21140111e+04],\n",
       "       [2.00000000e+00, 3.10000000e+01, 1.00000000e+00, 5.29556348e+04],\n",
       "       [5.00000000e+00, 4.20000000e+01, 0.00000000e+00, 4.99281086e+04],\n",
       "       [1.00000000e+00, 2.60000000e+01, 1.00000000e+00, 4.63722979e+04],\n",
       "       [3.00000000e+00, 5.20000000e+01, 1.00000000e+00, 3.32061361e+04],\n",
       "       [4.00000000e+00, 2.30000000e+01, 1.00000000e+00, 4.21260172e+04],\n",
       "       [2.00000000e+00, 5.90000000e+01, 1.00000000e+00, 8.23123865e+04],\n",
       "       [3.00000000e+00, 5.10000000e+01, 1.00000000e+00, 8.82035537e+04],\n",
       "       [2.00000000e+00, 2.80000000e+01, 1.00000000e+00, 2.21760848e+04],\n",
       "       [1.00000000e+00, 2.00000000e+01, 1.00000000e+00, 4.50417739e+04],\n",
       "       [4.00000000e+00, 4.11907187e+01, 1.00000000e+00, 6.32439269e+04],\n",
       "       [1.00000000e+00, 4.80000000e+01, 1.00000000e+00, 4.64749619e+04],\n",
       "       [3.00000000e+00, 4.90000000e+01, 1.00000000e+00, 7.40034655e+04],\n",
       "       [1.00000000e+00, 5.10000000e+01, 1.00000000e+00, 8.56973606e+04],\n",
       "       [1.00000000e+00, 3.56212185e+01, 1.00000000e+00, 4.39361538e+04],\n",
       "       [3.00000000e+00, 4.72273725e+01, 0.00000000e+00, 7.41018522e+04],\n",
       "       [0.00000000e+00, 3.58570210e+01, 1.00000000e+00, 4.73627998e+04],\n",
       "       [1.00000000e+00, 4.00508595e+01, 1.00000000e+00, 6.48163306e+04],\n",
       "       [1.00000000e+00, 4.50000000e+01, 1.00000000e+00, 5.67365730e+04],\n",
       "       [0.00000000e+00, 3.30000000e+01, 0.00000000e+00, 2.34400185e+04],\n",
       "       [1.00000000e+00, 3.44641252e+01, 0.00000000e+00, 1.85694901e+04],\n",
       "       [2.00000000e+00, 3.20000000e+01, 1.00000000e+00, 2.53182226e+04],\n",
       "       [0.00000000e+00, 3.76722555e+01, 1.00000000e+00, 5.59193435e+04],\n",
       "       [3.00000000e+00, 4.90000000e+01, 0.00000000e+00, 4.53994801e+04],\n",
       "       [4.00000000e+00, 4.60000000e+01, 1.00000000e+00, 1.38439502e+04],\n",
       "       [4.00000000e+00, 5.50000000e+01, 1.00000000e+00, 6.42110098e+04],\n",
       "       [1.00000000e+00, 3.95791218e+01, 1.00000000e+00, 6.25926816e+04],\n",
       "       [1.00000000e+00, 2.50000000e+01, 1.00000000e+00, 6.15417798e+04],\n",
       "       [0.00000000e+00, 4.90000000e+01, 0.00000000e+00, 7.58427015e+04],\n",
       "       [0.00000000e+00, 4.47834171e+01, 0.00000000e+00, 6.95270853e+04],\n",
       "       [4.00000000e+00, 4.20000000e+01, 1.00000000e+00, 4.40927255e+04],\n",
       "       [2.00000000e+00, 3.81459095e+01, 1.00000000e+00, 5.35217566e+04],\n",
       "       [1.00000000e+00, 4.00000000e+01, 1.00000000e+00, 7.40900880e+04],\n",
       "       [1.00000000e+00, 4.10000000e+01, 1.00000000e+00, 5.23044033e+04],\n",
       "       [3.00000000e+00, 3.70000000e+01, 0.00000000e+00, 1.06889196e+04],\n",
       "       [4.00000000e+00, 4.64734313e+01, 0.00000000e+00, 6.82328349e+04],\n",
       "       [4.00000000e+00, 2.40000000e+01, 1.00000000e+00, 3.67855147e+04]])"
      ]
     },
     "execution_count": 36,
     "metadata": {},
     "output_type": "execute_result"
    }
   ],
   "source": [
    "# we'll follow the same sequence as done previously with SimpleImputer\n",
    "# instantiating/creating an object of the class 'IterativeImputer', with LinearReg model as estimator\n",
    "it_imp = IterativeImputer(estimator = LinearRegression()) \n",
    "\n",
    "# apply linear regression model imputation to missing values in income_missing df\n",
    "it_imp_income_missing = it_imp.fit_transform(income_missing)\n",
    "it_imp_income_missing"
   ]
  },
  {
   "cell_type": "code",
   "execution_count": 37,
   "metadata": {},
   "outputs": [
    {
     "data": {
      "text/html": [
       "<div>\n",
       "<style scoped>\n",
       "    .dataframe tbody tr th:only-of-type {\n",
       "        vertical-align: middle;\n",
       "    }\n",
       "\n",
       "    .dataframe tbody tr th {\n",
       "        vertical-align: top;\n",
       "    }\n",
       "\n",
       "    .dataframe thead th {\n",
       "        text-align: right;\n",
       "    }\n",
       "</style>\n",
       "<table border=\"1\" class=\"dataframe\">\n",
       "  <thead>\n",
       "    <tr style=\"text-align: right;\">\n",
       "      <th></th>\n",
       "      <th>children</th>\n",
       "      <th>age</th>\n",
       "      <th>partnered</th>\n",
       "      <th>income</th>\n",
       "    </tr>\n",
       "  </thead>\n",
       "  <tbody>\n",
       "    <tr>\n",
       "      <th>0</th>\n",
       "      <td>1.0</td>\n",
       "      <td>35.0</td>\n",
       "      <td>1.0</td>\n",
       "      <td>56531.361287</td>\n",
       "    </tr>\n",
       "    <tr>\n",
       "      <th>1</th>\n",
       "      <td>2.0</td>\n",
       "      <td>58.0</td>\n",
       "      <td>1.0</td>\n",
       "      <td>93026.182530</td>\n",
       "    </tr>\n",
       "    <tr>\n",
       "      <th>2</th>\n",
       "      <td>0.0</td>\n",
       "      <td>49.0</td>\n",
       "      <td>1.0</td>\n",
       "      <td>42693.010819</td>\n",
       "    </tr>\n",
       "    <tr>\n",
       "      <th>3</th>\n",
       "      <td>0.0</td>\n",
       "      <td>44.0</td>\n",
       "      <td>1.0</td>\n",
       "      <td>83680.128218</td>\n",
       "    </tr>\n",
       "    <tr>\n",
       "      <th>4</th>\n",
       "      <td>1.0</td>\n",
       "      <td>26.0</td>\n",
       "      <td>0.0</td>\n",
       "      <td>28845.520835</td>\n",
       "    </tr>\n",
       "  </tbody>\n",
       "</table>\n",
       "</div>"
      ],
      "text/plain": [
       "   children   age  partnered        income\n",
       "0       1.0  35.0        1.0  56531.361287\n",
       "1       2.0  58.0        1.0  93026.182530\n",
       "2       0.0  49.0        1.0  42693.010819\n",
       "3       0.0  44.0        1.0  83680.128218\n",
       "4       1.0  26.0        0.0  28845.520835"
      ]
     },
     "execution_count": 37,
     "metadata": {},
     "output_type": "execute_result"
    }
   ],
   "source": [
    "# convert above array from imputation operation to a df for downstream operations\n",
    "it_imp_income_missing = pd.DataFrame(it_imp_income_missing, columns = income_missing.columns)\n",
    "it_imp_income_missing.head()"
   ]
  },
  {
   "cell_type": "code",
   "execution_count": 38,
   "metadata": {},
   "outputs": [
    {
     "data": {
      "image/png": "[encoded data removed]",
      "text/plain": [
       "<Figure size 1152x648 with 2 Axes>"
      ]
     },
     "metadata": {},
     "output_type": "display_data"
    }
   ],
   "source": [
    "compare_histograms(imputed_column = it_imp_income_missing['age'],\n",
    "                   original_column = income['age'],\n",
    "                   x_label = 'Age',\n",
    "                   y_label = 'Frequency')"
   ]
  },
  {
   "cell_type": "code",
   "execution_count": 39,
   "metadata": {},
   "outputs": [
    {
     "name": "stdout",
     "output_type": "stream",
     "text": [
      "imputed: 103.80, actual: 141.63\n"
     ]
    }
   ],
   "source": [
    "# let's examine the variance between the imputed (for missing) vs actual (no missing) cols:\n",
    "imputed_variance_m3 = (it_imp_income_missing['age'].std())**2\n",
    "print(f'imputed: {imputed_variance_m3:.2f}, actual: {actual_variance:.2f}')"
   ]
  },
  {
   "cell_type": "markdown",
   "metadata": {},
   "source": [
    "We can confirm from above that the delta in variance for **Method 3** (~36% lower for imputed vs actual) has improved vs Method 2 (where the imputed column was ~46% lower for imputed vs actual). As we can confirm visually by inspecting the histogram as well, the imputed distribution does not see vastly different distributions (like we saw in Method 2 peaking at mean)."
   ]
  },
  {
   "cell_type": "code",
   "execution_count": 40,
   "metadata": {},
   "outputs": [],
   "source": [
    "# try it with the default estimator = Bayesian regression\n",
    "income_missing = pd.read_csv('../data/income_missing.csv') \n",
    "\n",
    "it_imp = IterativeImputer()\n",
    "it_imp_income_missing = it_imp.fit_transform(income_missing)\n",
    "\n",
    "it_imp_income_missing = pd.DataFrame(it_imp_income_missing, columns = income_missing.columns)"
   ]
  },
  {
   "cell_type": "markdown",
   "metadata": {},
   "source": [
    "[Documentation on Bayesian Regression](https://scikit-learn.org/stable/modules/linear_model.html#bayesian-regression)\n",
    "\n",
    "Bayesian regression techniques can be used to include regularization parameters in the estimation procedure. They adapt to the data on hand. \n",
    "\n",
    "Tip: It's good to try how your data works with in-built default parameters, and optimize your approach from there. Because the defaults has been set internally to be generally optimal parameters."
   ]
  },
  {
   "cell_type": "code",
   "execution_count": 41,
   "metadata": {},
   "outputs": [
    {
     "data": {
      "image/png": "[encoded data removed]",
      "text/plain": [
       "<Figure size 1152x648 with 2 Axes>"
      ]
     },
     "metadata": {},
     "output_type": "display_data"
    }
   ],
   "source": [
    "compare_histograms(imputed_column = it_imp_income_missing['age'],\n",
    "                   original_column = income['age'],\n",
    "                   x_label = 'Age',\n",
    "                   y_label = 'Frequency')"
   ]
  },
  {
   "cell_type": "code",
   "execution_count": 42,
   "metadata": {},
   "outputs": [
    {
     "name": "stdout",
     "output_type": "stream",
     "text": [
      "imputed: 100.94, actual: 141.63\n"
     ]
    }
   ],
   "source": [
    "# let's examine the variance between the imputed (for missing) vs actual (no missing) cols:\n",
    "imputed_variance_m3 = (it_imp_income_missing['age'].std())**2\n",
    "print(f'imputed: {imputed_variance_m3:.2f}, actual: {actual_variance:.2f}')"
   ]
  },
  {
   "cell_type": "markdown",
   "metadata": {},
   "source": [
    "This isn't really any improvement over using a LinearRegression estimator. The variance delta has infact increased to ~40% vs ~36% seen above."
   ]
  },
  {
   "cell_type": "markdown",
   "metadata": {
    "tags": []
   },
   "source": [
    "### Method 4: Nearest Neighbors Imputation\n",
    "\n",
    "Imputation for completing missing values using k-Nearest Neighbors. _(we'll separately cover more on KNN intuition and application later this week)_\n",
    "\n",
    "By default, a euclidean distance metric that supports missing values, `nan_euclidean_distances`, is used to find the nearest neighbors. Each **missing feature is imputed using values from `n_neighbors` nearest neighbors that have a value for the feature**. The feature of the neighbors are averaged uniformly or weighted by distance to each neighbor.\n",
    "\n",
    "[Documentation on KNNImputer](https://scikit-learn.org/stable/modules/generated/sklearn.impute.KNNImputer.html#sklearn.impute.KNNImputer)."
   ]
  },
  {
   "cell_type": "code",
   "execution_count": 21,
   "metadata": {},
   "outputs": [],
   "source": [
    "from sklearn.impute import KNNImputer"
   ]
  },
  {
   "cell_type": "code",
   "execution_count": 22,
   "metadata": {},
   "outputs": [],
   "source": [
    "income_missing = pd.read_csv('../data/income_missing.csv') "
   ]
  },
  {
   "cell_type": "code",
   "execution_count": 25,
   "metadata": {},
   "outputs": [],
   "source": [
    "knn_imp = KNNImputer()\n",
    "knn_imp_income_missing = knn_imp.fit_transform(income_missing)"
   ]
  },
  {
   "cell_type": "code",
   "execution_count": 23,
   "metadata": {},
   "outputs": [],
   "source": [
    "knn_imp_income_missing = pd.DataFrame(knn_imp_income_missing, columns = income_missing.columns)"
   ]
  },
  {
   "cell_type": "code",
   "execution_count": 26,
   "metadata": {},
   "outputs": [
    {
     "data": {
      "text/plain": [
       "array([[1.00000000e+00, 3.50000000e+01, 1.00000000e+00, 5.65313613e+04],\n",
       "       [2.00000000e+00, 5.80000000e+01, 1.00000000e+00, 9.30261825e+04],\n",
       "       [0.00000000e+00, 4.90000000e+01, 1.00000000e+00, 4.26930108e+04],\n",
       "       [0.00000000e+00, 4.40000000e+01, 1.00000000e+00, 8.36801282e+04],\n",
       "       [1.00000000e+00, 2.60000000e+01, 0.00000000e+00, 2.88455208e+04],\n",
       "       [1.00000000e+00, 2.60000000e+01, 1.00000000e+00, 2.48988409e+04],\n",
       "       [2.00000000e+00, 2.20000000e+01, 1.00000000e+00, 6.71520081e+04],\n",
       "       [2.00000000e+00, 5.50000000e+01, 1.00000000e+00, 3.50473735e+04],\n",
       "       [5.00000000e+00, 4.40000000e+01, 1.00000000e+00, 1.72458697e+04],\n",
       "       [1.00000000e+00, 4.44000000e+01, 1.00000000e+00, 7.57495292e+04],\n",
       "       [2.00000000e+00, 3.76000000e+01, 1.00000000e+00, 5.71769502e+04],\n",
       "       [4.00000000e+00, 4.74000000e+01, 1.00000000e+00, 8.86604764e+04],\n",
       "       [1.00000000e+00, 4.02000000e+01, 0.00000000e+00, 6.70892603e+04],\n",
       "       [2.00000000e+00, 3.36000000e+01, 0.00000000e+00, 6.05331725e+04],\n",
       "       [1.00000000e+00, 2.70000000e+01, 1.00000000e+00, 6.67548591e+04],\n",
       "       [4.00000000e+00, 2.70000000e+01, 0.00000000e+00, 2.26040111e+04],\n",
       "       [5.00000000e+00, 3.54000000e+01, 0.00000000e+00, 2.50277777e+04],\n",
       "       [2.00000000e+00, 3.90000000e+01, 1.00000000e+00, 5.51055762e+04],\n",
       "       [1.00000000e+00, 3.70000000e+01, 0.00000000e+00, 4.61595505e+04],\n",
       "       [3.00000000e+00, 3.28000000e+01, 1.00000000e+00, 2.95530826e+04],\n",
       "       [2.00000000e+00, 4.40000000e+01, 0.00000000e+00, 4.98184440e+04],\n",
       "       [5.00000000e+00, 2.60000000e+01, 0.00000000e+00, 2.02717299e+04],\n",
       "       [5.00000000e+00, 3.20000000e+01, 1.00000000e+00, 5.20127032e+04],\n",
       "       [5.00000000e+00, 3.50000000e+01, 1.00000000e+00, 5.43244607e+04],\n",
       "       [1.00000000e+00, 3.94000000e+01, 1.00000000e+00, 1.19547080e+04],\n",
       "       [0.00000000e+00, 5.10000000e+01, 1.00000000e+00, 5.52241236e+04],\n",
       "       [1.00000000e+00, 2.80000000e+01, 0.00000000e+00, 3.13274267e+04],\n",
       "       [2.00000000e+00, 2.98000000e+01, 0.00000000e+00, 3.96403008e+04],\n",
       "       [1.00000000e+00, 4.40000000e+01, 1.00000000e+00, 7.06877862e+04],\n",
       "       [0.00000000e+00, 3.76000000e+01, 1.00000000e+00, 5.75469658e+04],\n",
       "       [2.00000000e+00, 5.20000000e+01, 1.00000000e+00, 9.33246665e+04],\n",
       "       [2.00000000e+00, 2.70000000e+01, 1.00000000e+00, 5.64991696e+04],\n",
       "       [1.00000000e+00, 2.30000000e+01, 1.00000000e+00, 4.34895258e+04],\n",
       "       [0.00000000e+00, 5.80000000e+01, 1.00000000e+00, 4.65175305e+04],\n",
       "       [3.00000000e+00, 5.90000000e+01, 0.00000000e+00, 2.43781977e+04],\n",
       "       [3.00000000e+00, 5.20000000e+01, 1.00000000e+00, 7.72098362e+04],\n",
       "       [1.00000000e+00, 3.20000000e+01, 1.00000000e+00, 7.77089363e+04],\n",
       "       [0.00000000e+00, 2.40000000e+01, 1.00000000e+00, 8.38274199e+04],\n",
       "       [0.00000000e+00, 4.70000000e+01, 1.00000000e+00, 5.36921384e+04],\n",
       "       [4.00000000e+00, 3.42000000e+01, 0.00000000e+00, 2.74227113e+04],\n",
       "       [1.00000000e+00, 2.50000000e+01, 0.00000000e+00, 3.60966737e+04],\n",
       "       [3.00000000e+00, 4.00000000e+01, 1.00000000e+00, 9.84479784e+04],\n",
       "       [4.00000000e+00, 3.30000000e+01, 1.00000000e+00, 4.30472294e+04],\n",
       "       [1.00000000e+00, 5.60000000e+01, 1.00000000e+00, 1.05525257e+05],\n",
       "       [1.00000000e+00, 3.00000000e+01, 1.00000000e+00, 5.83994581e+04],\n",
       "       [0.00000000e+00, 4.70000000e+01, 1.00000000e+00, 9.33149037e+04],\n",
       "       [0.00000000e+00, 3.20000000e+01, 1.00000000e+00, 7.95315969e+04],\n",
       "       [0.00000000e+00, 4.10000000e+01, 1.00000000e+00, 6.90717627e+04],\n",
       "       [3.00000000e+00, 3.52000000e+01, 1.00000000e+00, 3.85923351e+04],\n",
       "       [2.00000000e+00, 2.70000000e+01, 1.00000000e+00, 4.48681112e+04],\n",
       "       [2.00000000e+00, 5.90000000e+01, 0.00000000e+00, 8.40309035e+04],\n",
       "       [1.00000000e+00, 5.10000000e+01, 1.00000000e+00, 8.83065034e+04],\n",
       "       [2.00000000e+00, 3.68000000e+01, 1.00000000e+00, 6.48269935e+04],\n",
       "       [2.00000000e+00, 5.60000000e+01, 1.00000000e+00, 6.51538272e+04],\n",
       "       [0.00000000e+00, 4.40000000e+01, 0.00000000e+00, 1.33825379e+04],\n",
       "       [1.00000000e+00, 5.70000000e+01, 1.00000000e+00, 1.04136776e+05],\n",
       "       [3.00000000e+00, 2.40000000e+01, 1.00000000e+00, 6.32212712e+04],\n",
       "       [4.00000000e+00, 2.80000000e+01, 1.00000000e+00, 4.32584436e+04],\n",
       "       [3.00000000e+00, 4.26000000e+01, 1.00000000e+00, 4.80026884e+04],\n",
       "       [0.00000000e+00, 3.94000000e+01, 1.00000000e+00, 1.63326834e+04],\n",
       "       [0.00000000e+00, 3.72000000e+01, 1.00000000e+00, 5.22657101e+04],\n",
       "       [0.00000000e+00, 3.10000000e+01, 1.00000000e+00, 8.49389128e+04],\n",
       "       [1.00000000e+00, 5.30000000e+01, 1.00000000e+00, 9.18809475e+04],\n",
       "       [2.00000000e+00, 3.40000000e+01, 1.00000000e+00, 6.21140111e+04],\n",
       "       [2.00000000e+00, 3.10000000e+01, 1.00000000e+00, 5.29556348e+04],\n",
       "       [5.00000000e+00, 4.20000000e+01, 0.00000000e+00, 4.99281086e+04],\n",
       "       [1.00000000e+00, 2.60000000e+01, 1.00000000e+00, 4.63722979e+04],\n",
       "       [3.00000000e+00, 5.20000000e+01, 1.00000000e+00, 3.32061361e+04],\n",
       "       [4.00000000e+00, 2.30000000e+01, 1.00000000e+00, 4.21260172e+04],\n",
       "       [2.00000000e+00, 5.90000000e+01, 1.00000000e+00, 8.23123865e+04],\n",
       "       [3.00000000e+00, 5.10000000e+01, 1.00000000e+00, 8.82035537e+04],\n",
       "       [2.00000000e+00, 2.80000000e+01, 1.00000000e+00, 2.21760848e+04],\n",
       "       [1.00000000e+00, 2.00000000e+01, 1.00000000e+00, 4.50417739e+04],\n",
       "       [4.00000000e+00, 3.88000000e+01, 1.00000000e+00, 6.32439269e+04],\n",
       "       [1.00000000e+00, 4.80000000e+01, 1.00000000e+00, 4.64749619e+04],\n",
       "       [3.00000000e+00, 4.90000000e+01, 1.00000000e+00, 7.40034655e+04],\n",
       "       [1.00000000e+00, 5.10000000e+01, 1.00000000e+00, 8.56973606e+04],\n",
       "       [1.00000000e+00, 2.80000000e+01, 1.00000000e+00, 4.39361538e+04],\n",
       "       [3.00000000e+00, 4.68000000e+01, 0.00000000e+00, 7.41018522e+04],\n",
       "       [0.00000000e+00, 4.36000000e+01, 1.00000000e+00, 4.73627998e+04],\n",
       "       [1.00000000e+00, 3.68000000e+01, 1.00000000e+00, 6.48163306e+04],\n",
       "       [1.00000000e+00, 4.50000000e+01, 1.00000000e+00, 5.67365730e+04],\n",
       "       [0.00000000e+00, 3.30000000e+01, 0.00000000e+00, 2.34400185e+04],\n",
       "       [1.00000000e+00, 3.42000000e+01, 0.00000000e+00, 1.85694901e+04],\n",
       "       [2.00000000e+00, 3.20000000e+01, 1.00000000e+00, 2.53182226e+04],\n",
       "       [0.00000000e+00, 3.86000000e+01, 1.00000000e+00, 5.59193435e+04],\n",
       "       [3.00000000e+00, 4.90000000e+01, 0.00000000e+00, 4.53994801e+04],\n",
       "       [4.00000000e+00, 4.60000000e+01, 1.00000000e+00, 1.38439502e+04],\n",
       "       [4.00000000e+00, 5.50000000e+01, 1.00000000e+00, 6.42110098e+04],\n",
       "       [1.00000000e+00, 3.88000000e+01, 1.00000000e+00, 6.25926816e+04],\n",
       "       [1.00000000e+00, 2.50000000e+01, 1.00000000e+00, 6.15417798e+04],\n",
       "       [0.00000000e+00, 4.90000000e+01, 0.00000000e+00, 7.58427015e+04],\n",
       "       [0.00000000e+00, 3.80000000e+01, 0.00000000e+00, 6.95270853e+04],\n",
       "       [4.00000000e+00, 4.20000000e+01, 1.00000000e+00, 4.40927255e+04],\n",
       "       [2.00000000e+00, 3.72000000e+01, 1.00000000e+00, 5.35217566e+04],\n",
       "       [1.00000000e+00, 4.00000000e+01, 1.00000000e+00, 7.40900880e+04],\n",
       "       [1.00000000e+00, 4.10000000e+01, 1.00000000e+00, 5.23044033e+04],\n",
       "       [3.00000000e+00, 3.70000000e+01, 0.00000000e+00, 1.06889196e+04],\n",
       "       [4.00000000e+00, 3.80000000e+01, 0.00000000e+00, 6.82328349e+04],\n",
       "       [4.00000000e+00, 2.40000000e+01, 1.00000000e+00, 3.67855147e+04]])"
      ]
     },
     "execution_count": 26,
     "metadata": {},
     "output_type": "execute_result"
    }
   ],
   "source": [
    "knn_imp_income_missing"
   ]
  },
  {
   "cell_type": "code",
   "execution_count": 46,
   "metadata": {
    "tags": []
   },
   "outputs": [
    {
     "data": {
      "image/png": "[encoded data removed]",
      "text/plain": [
       "<Figure size 1152x648 with 2 Axes>"
      ]
     },
     "metadata": {},
     "output_type": "display_data"
    }
   ],
   "source": [
    "compare_histograms(imputed_column = knn_imp_income_missing['age'],\n",
    "                   original_column = income['age'],\n",
    "                   x_label = 'Age',\n",
    "                   y_label = 'Frequency')"
   ]
  },
  {
   "cell_type": "code",
   "execution_count": 47,
   "metadata": {},
   "outputs": [
    {
     "name": "stdout",
     "output_type": "stream",
     "text": [
      "imputed: 105.17, actual: 141.63\n"
     ]
    }
   ],
   "source": [
    "# let's examine the variance between the imputed (for missing) vs actual (no missing) cols:\n",
    "imputed_variance_m4 = (knn_imp_income_missing['age'].std())**2\n",
    "print(f'imputed: {imputed_variance_m4:.2f}, actual: {actual_variance:.2f}')"
   ]
  },
  {
   "cell_type": "markdown",
   "metadata": {},
   "source": [
    "We see that this method is slightly better (~35%) in variance comparison between imputed and actual vs Method 3. "
   ]
  },
  {
   "cell_type": "markdown",
   "metadata": {},
   "source": [
    "---\n",
    "#### Deterministic vs Random Imputation "
   ]
  },
  {
   "cell_type": "markdown",
   "metadata": {},
   "source": [
    "![](../images/deterministic_imputation.png)\n",
    "[image source](http://www.stat.columbia.edu/~gelman/arm/missing.pdf)\n",
    "\n",
    "**Deterministic** regression imputation replaces missing values with the exact prediction of the regression model, without accounting for the randomness in data or in other words, Random variation (i.e. an error term) around the regression slope is not considered. Imputed values are therefore often too precise and lead to an overestimation of the correlation between X and Y.\n",
    "\n",
    "**Stochastic** regression imputation (or, **Random** regression imputation as represented in the image above), was developed in order to solve this issue of deterministic regression imputation. Stochastic regression imputation adds a _random error_ term to the predicted value and is therefore able to reproduce the correlation of X and Y more appropriately.\n",
    "\n",
    "[source](https://statisticsglobe.com/regression-imputation-stochastic-vs-deterministic/#:~:text=Deterministic%20regression%20imputation%20replaces%20missing,correlation%20between%20X%20and%20Y.)"
   ]
  },
  {
   "cell_type": "markdown",
   "metadata": {},
   "source": [
    "### Method 5: Multiple Imputation\n",
    "\n",
    "If we want to account for the **randomness** in our data, _(like, to be more representative of the inherent variance/spread in the dataset)_ we can ***fill in missing values with some amount of randomness/uncertainty***. _(like, the Random Imputation approach above)_\n",
    "\n",
    "Replacing an NA with one value treats things like we know the true value.\n",
    "\n",
    "Therefore, lets try to **impute multiple times**.\n",
    "- We will make multiple copies of our dataset.\n",
    "- We will use [random regression imputation](https://statisticsglobe.com/regression-imputation-stochastic-vs-deterministic/) to generate one value for each NA in each of our copied dataset.\n",
    "- Once each of our copied datasets are missing-values-imputed, we will do our “final model” or “final analysis” on each of the copied datasets.\n",
    "- We will then combine the results of our multiple models together, just like we aggregate results in cross-validation that we've seen before, or an ensemble model. _(ensembling is just combining multiple into one)_\n",
    "\n",
    "![](../images/proper_imputation.png)\n",
    "\n",
    "\n",
    "If you’re **generating predictions**, you can just average your predictions together in a regression problem or select the plurality class in a classification problem. _(Plurality is just the generalization of majority/taking the most frequent class and return that as a prediction)_\n",
    "\n",
    "If your goal is to do **inference** (e.g. understand how X affects Y) and are fitting a linear model to each dataset, then you get a slope and y-intercept for each model.\n",
    "- There are a set of tools, called Rubin’s rules, that will allow you to take the slopes and y-intercepts from each model and combine them together.\n",
    "- Check out documentation in the repo if interested!\n",
    "\n",
    "[IterativeImputer](https://scikit-learn.org/stable/modules/impute.html#multiple-vs-single-imputation) in sklearn can help with this!\n",
    "\n",
    "When we used **IterativeImputer** in `Method 3`, it ran single imputation cycle vs multiple as described in this intuition here. However, we can expand on the same IterativeImputer to use for multiple imputations by applying it repeatedly to the same dataset with different random seeds when `sample_posterior=True` (the default for this parameter is set to False). \n",
    "\n",
    "Arguably, this method is complicated to understand and is not something you would use often in my experience. Whenever in doubt, pls experiment with different methods and pick the one that gives you the best results with the least complexity!"
   ]
  },
  {
   "cell_type": "markdown",
   "metadata": {},
   "source": [
    "### Missing Indicator Column\n",
    "\n",
    "We can add a column about which values were imputed/missing and use that as a feature in our model. This can help when there is a pattern in what is missing and our target and may help our model.\n",
    "\n",
    "See an example of this [here](https://nbviewer.jupyter.org/github/justmarkham/scikit-learn-tips/blob/master/notebooks/09_add_missing_indicator.ipynb).\n",
    "\n",
    "There are several ways we can do this:\n",
    "1. Set `add_indicator = True` in [Simple Imputer](https://scikit-learn.org/stable/modules/generated/sklearn.impute.SimpleImputer.html#sklearn.impute.SimpleImputer) or [Iterative Imputer](https://scikit-learn.org/stable/modules/generated/sklearn.impute.IterativeImputer.html#sklearn.impute.IterativeImputer):\n",
    "```python\n",
    "imputer = SimpleImputer(add_indicator=True)\n",
    "imputer.fit_transform(X)\n",
    "```\n",
    "2. Use the `MissingIndicator` transformer in [sklearn](https://scikit-learn.org/stable/modules/generated/sklearn.impute.MissingIndicator.html#sklearn.impute.MissingIndicator)."
   ]
  },
  {
   "cell_type": "code",
   "execution_count": 48,
   "metadata": {},
   "outputs": [
    {
     "data": {
      "text/html": [
       "<div>\n",
       "<style scoped>\n",
       "    .dataframe tbody tr th:only-of-type {\n",
       "        vertical-align: middle;\n",
       "    }\n",
       "\n",
       "    .dataframe tbody tr th {\n",
       "        vertical-align: top;\n",
       "    }\n",
       "\n",
       "    .dataframe thead th {\n",
       "        text-align: right;\n",
       "    }\n",
       "</style>\n",
       "<table border=\"1\" class=\"dataframe\">\n",
       "  <thead>\n",
       "    <tr style=\"text-align: right;\">\n",
       "      <th></th>\n",
       "      <th>children</th>\n",
       "      <th>age</th>\n",
       "      <th>partnered</th>\n",
       "      <th>income</th>\n",
       "    </tr>\n",
       "  </thead>\n",
       "  <tbody>\n",
       "    <tr>\n",
       "      <th>95</th>\n",
       "      <td>1</td>\n",
       "      <td>40.0</td>\n",
       "      <td>1</td>\n",
       "      <td>74090.088031</td>\n",
       "    </tr>\n",
       "    <tr>\n",
       "      <th>96</th>\n",
       "      <td>1</td>\n",
       "      <td>41.0</td>\n",
       "      <td>1</td>\n",
       "      <td>52304.403273</td>\n",
       "    </tr>\n",
       "    <tr>\n",
       "      <th>97</th>\n",
       "      <td>3</td>\n",
       "      <td>37.0</td>\n",
       "      <td>0</td>\n",
       "      <td>10688.919618</td>\n",
       "    </tr>\n",
       "    <tr>\n",
       "      <th>98</th>\n",
       "      <td>4</td>\n",
       "      <td>NaN</td>\n",
       "      <td>0</td>\n",
       "      <td>68232.834868</td>\n",
       "    </tr>\n",
       "    <tr>\n",
       "      <th>99</th>\n",
       "      <td>4</td>\n",
       "      <td>24.0</td>\n",
       "      <td>1</td>\n",
       "      <td>36785.514708</td>\n",
       "    </tr>\n",
       "  </tbody>\n",
       "</table>\n",
       "</div>"
      ],
      "text/plain": [
       "    children   age  partnered        income\n",
       "95         1  40.0          1  74090.088031\n",
       "96         1  41.0          1  52304.403273\n",
       "97         3  37.0          0  10688.919618\n",
       "98         4   NaN          0  68232.834868\n",
       "99         4  24.0          1  36785.514708"
      ]
     },
     "execution_count": 48,
     "metadata": {},
     "output_type": "execute_result"
    }
   ],
   "source": [
    "income_missing = pd.read_csv('../data/income_missing.csv') \n",
    "income_missing.tail()"
   ]
  },
  {
   "cell_type": "code",
   "execution_count": 49,
   "metadata": {},
   "outputs": [
    {
     "data": {
      "text/html": [
       "<div>\n",
       "<style scoped>\n",
       "    .dataframe tbody tr th:only-of-type {\n",
       "        vertical-align: middle;\n",
       "    }\n",
       "\n",
       "    .dataframe tbody tr th {\n",
       "        vertical-align: top;\n",
       "    }\n",
       "\n",
       "    .dataframe thead th {\n",
       "        text-align: right;\n",
       "    }\n",
       "</style>\n",
       "<table border=\"1\" class=\"dataframe\">\n",
       "  <thead>\n",
       "    <tr style=\"text-align: right;\">\n",
       "      <th></th>\n",
       "      <th>0</th>\n",
       "      <th>1</th>\n",
       "      <th>2</th>\n",
       "      <th>3</th>\n",
       "      <th>4</th>\n",
       "    </tr>\n",
       "  </thead>\n",
       "  <tbody>\n",
       "    <tr>\n",
       "      <th>95</th>\n",
       "      <td>1.0</td>\n",
       "      <td>40.0</td>\n",
       "      <td>1.0</td>\n",
       "      <td>74090.088031</td>\n",
       "      <td>0.0</td>\n",
       "    </tr>\n",
       "    <tr>\n",
       "      <th>96</th>\n",
       "      <td>1.0</td>\n",
       "      <td>41.0</td>\n",
       "      <td>1.0</td>\n",
       "      <td>52304.403273</td>\n",
       "      <td>0.0</td>\n",
       "    </tr>\n",
       "    <tr>\n",
       "      <th>97</th>\n",
       "      <td>3.0</td>\n",
       "      <td>37.0</td>\n",
       "      <td>0.0</td>\n",
       "      <td>10688.919618</td>\n",
       "      <td>0.0</td>\n",
       "    </tr>\n",
       "    <tr>\n",
       "      <th>98</th>\n",
       "      <td>4.0</td>\n",
       "      <td>40.5</td>\n",
       "      <td>0.0</td>\n",
       "      <td>68232.834868</td>\n",
       "      <td>1.0</td>\n",
       "    </tr>\n",
       "    <tr>\n",
       "      <th>99</th>\n",
       "      <td>4.0</td>\n",
       "      <td>24.0</td>\n",
       "      <td>1.0</td>\n",
       "      <td>36785.514708</td>\n",
       "      <td>0.0</td>\n",
       "    </tr>\n",
       "  </tbody>\n",
       "</table>\n",
       "</div>"
      ],
      "text/plain": [
       "      0     1    2             3    4\n",
       "95  1.0  40.0  1.0  74090.088031  0.0\n",
       "96  1.0  41.0  1.0  52304.403273  0.0\n",
       "97  3.0  37.0  0.0  10688.919618  0.0\n",
       "98  4.0  40.5  0.0  68232.834868  1.0\n",
       "99  4.0  24.0  1.0  36785.514708  0.0"
      ]
     },
     "execution_count": 49,
     "metadata": {},
     "output_type": "execute_result"
    }
   ],
   "source": [
    "it_imp = SimpleImputer(strategy='median', add_indicator=True)\n",
    "# we're not passing: columns = income_missing.columns unlike previously, because we have 1 extra col#4 which is the 'MissingIndicator',\n",
    "# a value of \"1\" in this column indicates placeholder for a missing value, like 'age' index#98\n",
    "\n",
    "it_imp_income_missing = it_imp.fit_transform(income_missing) \n",
    "pd.DataFrame(it_imp_income_missing).tail()"
   ]
  },
  {
   "cell_type": "markdown",
   "metadata": {},
   "source": [
    "### BONUS: Pattern Submodel Approach _(Intuition)_ \n",
    "_(We don't have a way to implement this practically like through sklearn)_\n",
    "\n",
    "Big Picture: We will break our dataset into subsets based on missingness pattern _(indicated by each of the different colors below)_. And then fitting a model to each subset, in order to predict the values, thus creating many different models.\n",
    "\n",
    "![](../images/pattern_submodel.jpeg)\n",
    "\n",
    "[image source](https://opendatascience.com/data-imputation-beyond-mean-median-and-mode/)\n",
    "\n",
    "**Pros**:\n",
    "- The pattern submodel method will outperform imputation methods when your data are NMAR, and will perform about as well as imputation methods when your data are MCAR or MAR.\n",
    "- You can generate predictions for test observations containing missing data.\n",
    "- It does not require missingness assumptions!\n",
    "\n",
    "**Cons**:\n",
    "- This is not a well-understood method for inference.\n",
    "\n",
    "Read more about this method [here](https://academic.oup.com/biostatistics/article/21/2/236/5092384).\n",
    "\n",
    "See an example of this [here](https://github.com/sarahmercaldo/MissingDataAndPrediction) - note that this example is done in R."
   ]
  },
  {
   "cell_type": "markdown",
   "metadata": {
    "tags": []
   },
   "source": [
    "---"
   ]
  },
  {
   "cell_type": "code",
   "execution_count": null,
   "metadata": {},
   "outputs": [],
   "source": []
  }
 ],
 "metadata": {
  "kernelspec": {
   "display_name": "Python 3",
   "language": "python",
   "name": "python3"
  },
  "language_info": {
   "codemirror_mode": {
    "name": "ipython",
    "version": 3
   },
   "file_extension": ".py",
   "mimetype": "text/x-python",
   "name": "python",
   "nbconvert_exporter": "python",
   "pygments_lexer": "ipython3",
   "version": "3.8.8"
  }
 },
 "nbformat": 4,
 "nbformat_minor": 4
}
