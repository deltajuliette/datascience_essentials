{
 "cells": [
  {
   "cell_type": "markdown",
   "metadata": {},
   "source": [
    "# SQL III\n",
    "\n",
    "_**Author**: Boom D. (DSI-NYC), Mahdi S. (DSI-NYC), Dan Wilhelm (LA)_\n",
    "***\n",
    "\n",
    "For this lesson, we will use the `hacker_news` public dataset on [Google BigQuery](https://cloud.google.com/bigquery/)."
   ]
  },
  {
   "cell_type": "markdown",
   "metadata": {},
   "source": [
    "## Contents\n",
    "- [Intermediate SQL I: Special Functions](#Advanced-SQL-I:-Special-Functions)\n",
    "    - **I. String Manipulation**\n",
    "        - [`UPPER()`](#UPPER())\n",
    "        - [`LOWER()`](#LOWER())\n",
    "        - [`INITCAP()`](#LOWER())\n",
    "        - [`LENGTH()`](#LENGTH())\n",
    "        - [`TRIM()`](#TRIM())\n",
    "        - [`SUBSTRING()`](#SUBSTRING())\n",
    "        - [Concatenation Methods](#Concatenation)\n",
    "        - [`REPLACE()`](#REPLACE())\n",
    "        - [`COALESCE()`](#COALESCE())\n",
    "    - **II. Conditionals**\n",
    "        - [Boolean Statements](#Boolean-Statements)\n",
    "        - [`CASE WHEN`](#CASE-WHEN)\n",
    "\n",
    "    - **III. Date-Time Manipulation**\n",
    "        - [Type Conversion](#Type-Conversion)\n",
    "        - [`EXTRACT()`](#EXTRACT())\n",
    "- [Intermediate SQL II: Subqueries](#Advanced-SQL-II:-Subqueries)"
   ]
  },
  {
   "cell_type": "markdown",
   "metadata": {},
   "source": [
    "---\n",
    "\n",
    "## The Dataset\n",
    "\n",
    "We'll be using a dataset on BigQuery `hacker_news` that consists of all posts and comments since 2006 from the website [Hacker News](https://news.ycombinator.com) (HN). HN is a news website whose readership is primarily tech startup enthusiasts and coders.\n",
    "\n",
    "> **WARNING:** Always use `LIMIT` when returning queries! This ensures you do not transfer large amounts of data. It is also a good idea to only retrieve the columns you need -- i.e. in general, do not use `*`.\n",
    "\n",
    "The Hacker News website:\n",
    "- Displays and ranks links to user-submitted stories:\n",
    "\n",
    "![](./images/hacker-news.png)\n",
    "\n",
    "- Allows users to comment on each story:\n",
    "![](./images/hacker-news-comments.png)\n",
    "\n",
    "> Note: If you want to do more with Hacker News data, there is no need to use Google. HN has an [officially sanctioned free API](https://blog.ycombinator.com/hacker-news-api/), a [reasonable scraping policy for most-recent posts](https://news.ycombinator.com/item?id=1721105), and there are numerous [data dumps online](https://www.kaggle.com/hacker-news/hacker-news).\n",
    "\n",
    "Here are some inventive uses of the dataset: https://medium.com/google-cloud/big-data-stories-in-seconds-hacker-news-abe52bc5caad#.pjfjzr76j"
   ]
  },
  {
   "cell_type": "markdown",
   "metadata": {},
   "source": [
    "---\n",
    "\n",
    "## Review\n",
    "\n",
    "__Query Order:__\n",
    "1. SELECT\n",
    "1. FROM\n",
    "1. WHERE\n",
    "1. GROUP BY \n",
    "1. HAVING\n",
    "1. ORDER BY\n",
    "1. LIMIT\n",
    "\n",
    "__Mnemonic:__ \"__S__melly __F__eet __W__ill __G__ive __H__orrible __O__dors, __L__ingeringly\"\n",
    "\n",
    "---\n",
    "__Execution Order:__\n",
    "1. FROM = get data\n",
    "1. WHERE = filter rows\n",
    "1. GROUP BY = aggregate\n",
    "1. HAVING = filter aggregation\n",
    "1. SELECT = display columns\n",
    "1. ORDER BY = display sorted rows\n",
    "1. LIMIT = display subset of rows"
   ]
  },
  {
   "cell_type": "markdown",
   "metadata": {},
   "source": [
    "---\n",
    "\n",
    "## Warmup -- Understanding the dataset\n",
    "\n",
    "There are four tables inside `hacker_news`:\n",
    "+ `comments`\n",
    "+ `stories`\n",
    "+ `full`\n",
    "+ `full201510`\n",
    "\n",
    "No documentation comes with this database (as is typical nearly everywhere).\n",
    "\n",
    "So first, let's understand the relationship between the tables.\n",
    "\n",
    "---"
   ]
  },
  {
   "cell_type": "markdown",
   "metadata": {},
   "source": [
    "> **IMPORTANT NOTE:** Only use `COUNT`, `MIN`, and `MAX` in the `SELECT` clause for all answers below!\n",
    "> - Feel free to answer using one query per table, if desired.\n",
    "> - If your query is taking more than a few seconds, stop it and rewrite your query!\n",
    "> - Observe how much data will be processed before running a query (right-middle in green) -- if it is more than normal, rewrite your query.\n",
    "> - Always use `LIMIT` if your `SELECT` clause is not an aggregation."
   ]
  },
  {
   "cell_type": "markdown",
   "metadata": {},
   "source": [
    "#### 1. How many rows are in `comments`, `stories`, `full`, and `full_201510`?"
   ]
  },
  {
   "cell_type": "markdown",
   "metadata": {},
   "source": [
    "_Write your answers down. You will need these numbers later._\n",
    "\n",
    "```MySQL\n",
    "-- code here\n",
    "```"
   ]
  },
  {
   "cell_type": "markdown",
   "metadata": {},
   "source": [
    "#### 2. When were the first and last rows in `comments`? `stories`? NOTE: TIMESTAMP_SECONDS(time) converts the INT64 `time` into a DATETIME."
   ]
  },
  {
   "cell_type": "markdown",
   "metadata": {},
   "source": [
    "```MySQL \n",
    "-- code here\n",
    "```"
   ]
  },
  {
   "cell_type": "markdown",
   "metadata": {},
   "source": [
    "#### 3. What is the likely difference between `full` and `full_201510`? Can you provide evidence? "
   ]
  },
  {
   "cell_type": "markdown",
   "metadata": {},
   "source": [
    "Probably `full_201510` is likely everything in `full` up to 10-2015.\n",
    "\n",
    "```MySQL\n",
    "-- code here\n",
    "```"
   ]
  },
  {
   "cell_type": "markdown",
   "metadata": {},
   "source": [
    "#### 4. Does `full` contain all of the rows in `comments`? `stories`? `full_201510`? (HINT: You may be able to use a JOIN.)"
   ]
  },
  {
   "cell_type": "markdown",
   "metadata": {},
   "source": [
    "Yes.\n",
    "\n",
    "```MySQL\n",
    "-- code here\n",
    "\n",
    "```"
   ]
  },
  {
   "cell_type": "markdown",
   "metadata": {},
   "source": [
    "#### 5. Given what we learned above, do we have to use all four tables for our analysis? What might be some reasons why there are separate tables?"
   ]
  },
  {
   "cell_type": "markdown",
   "metadata": {},
   "source": [
    "We only have to use `full` -- all other tables are included inside it. Why are there other tables?\n",
    "\n",
    "Perhaps:\n",
    "+ The dataset was originally up to 2015. They later changed it to make it continuously update.\n",
    "+ Separating into comments and stories may make some queries run faster, since less data must be processed."
   ]
  },
  {
   "cell_type": "markdown",
   "metadata": {},
   "source": [
    "# Intermediate SQL I: Special Functions"
   ]
  },
  {
   "cell_type": "markdown",
   "metadata": {},
   "source": [
    "Throughout this entire session, we'll be running the queries in Google BigQuery. This Jupyter Notebook will just be a written record of what we've learned so that you'll have all of these functions in one location.\n",
    "\n",
    "Note that **THIS IS BY NO MEANS AN EXHAUSTIVE LIST** -- these contain some of the most common asked in interviews and/or useful on the job."
   ]
  },
  {
   "cell_type": "markdown",
   "metadata": {},
   "source": [
    "## I. String Manipulation\n",
    "\n",
    "In this section, we will use the `stories` and `comments` tables to save data.\n",
    "\n",
    "See the docs here: https://cloud.google.com/bigquery/docs/reference/standard-sql/string_functions"
   ]
  },
  {
   "cell_type": "markdown",
   "metadata": {},
   "source": [
    "### `LOWER()`\n",
    "This is the same as the `.lower()` method for strings in Python used to convert every letter in a string to lower case\n",
    "\n",
    "_Example:_ Convert all letters of the string `HeLlO, wOrLd!` to lower case\n",
    "```MySQL\n",
    "SELECT LOWER('HeLlO, wOrLd!');\n",
    "```"
   ]
  },
  {
   "cell_type": "markdown",
   "metadata": {},
   "source": [
    "**EXERCISE 1:** Write a query that returns the lower-cased story titles of story ids < 100. (Remember to use `LIMIT`. Don't return all columns. Look at the size of data processed.)"
   ]
  },
  {
   "cell_type": "markdown",
   "metadata": {},
   "source": [
    "_Answer:_\n",
    "\n",
    "```MySQL\n",
    "-- code here\n",
    "\n",
    "```"
   ]
  },
  {
   "cell_type": "code",
   "execution_count": null,
   "metadata": {},
   "outputs": [],
   "source": []
  },
  {
   "cell_type": "markdown",
   "metadata": {},
   "source": [
    "### `UPPER()`\n",
    "For completeness, this is the same as the `.upper()` method for strings in Python used to capitalize every letter in a string\n",
    "\n",
    "_Example:_ Capitalize all letters of the string `Hello World`\n",
    "```MySQL\n",
    "SELECT UPPER('Hello, world!');\n",
    "```"
   ]
  },
  {
   "cell_type": "markdown",
   "metadata": {},
   "source": [
    "### `INITCAP()`\n",
    "This is the same as the `.capitalize()` method for strings in Python that is used to convert the first letter to upper case."
   ]
  },
  {
   "cell_type": "markdown",
   "metadata": {},
   "source": [
    "**EXERCISE 2:** How many distinct Hacker News story authors uppercase the first letter of their username (in `stories`)? Note: `COUNT(DISTINCT <field>)` counts the number of distinct rows."
   ]
  },
  {
   "cell_type": "markdown",
   "metadata": {},
   "source": [
    "_Answer:_\n",
    "\n",
    "```MySQL\n",
    "-- code here\n",
    "\n",
    "```"
   ]
  },
  {
   "cell_type": "markdown",
   "metadata": {},
   "source": [
    "### `LENGTH()`\n",
    "This is the same as the `len()` function in Python. However, since we don't have lists or tuples in SQL, this is only applicable to objects with characters.\n",
    "\n",
    "_Example:_ Write a query that finds short usernames.\n",
    "\n",
    "```MySQL\n",
    "SELECT DISTINCT c.by\n",
    "  FROM `bigquery-public-data.hacker_news.comments` c\n",
    "  WHERE LENGTH(c.by) < 3;\n",
    "```"
   ]
  },
  {
   "cell_type": "markdown",
   "metadata": {},
   "source": [
    "### `TRIM()`\n",
    "This is the same as the `.strip()` method for strings in Python that eliminates leading and trailing white spaces.\n",
    "\n",
    "_Example:_ Write a query that strips out the white space from the string `'     Hello, world!     '`\n",
    "\n",
    "```MySQL\n",
    "SELECT TRIM('     Hello, world!     ');\n",
    "```"
   ]
  },
  {
   "cell_type": "markdown",
   "metadata": {},
   "source": [
    "### `SUBSTRING()`\n",
    "Python doesn't have a function that extracts a substring since we can just do it by directly indexing through the string. If you're familiar with R though, then you'll recognize this is similar to the `substr()` function. The start position is 1-indexed!\n",
    "\n",
    "Syntax for this function:\n",
    "\n",
    "```MySQL\n",
    "SELECT SUBSTRING(string_column, <start_position>, <length>);\n",
    "```"
   ]
  },
  {
   "cell_type": "markdown",
   "metadata": {},
   "source": [
    "**Example #1:**\n",
    "```MySQL\n",
    "SELECT SUBSTRING('Hello there, friend! Hehe.', 1, 5);\n",
    "```\n",
    "will return `'Hello'`\n",
    "\n",
    "**Example #2:**\n",
    "```MySQL\n",
    "SELECT SUBSTRING('Hello there, friend! Hehe.', 14);\n",
    "```\n",
    "will return `'friend! Hehe.`"
   ]
  },
  {
   "cell_type": "markdown",
   "metadata": {},
   "source": [
    "### Concatenation\n",
    "\n",
    "This is the equivalent of string concatenation in Python using `+`. The `+` in Python is replaced by `||` in PostgreSQL. Alternatively, you can use the `CONCAT()` function."
   ]
  },
  {
   "cell_type": "markdown",
   "metadata": {},
   "source": [
    "_Example:_ Write a query that prints the username followed by a space followed by their story title.\n",
    "```MySQL\n",
    "SELECT author || ' ' || title\n",
    "  FROM `bigquery-public-data.hacker_news.stories`\n",
    "  LIMIT 100;\n",
    "```\n",
    "\n",
    "**EXERCISE 3:** Using `SUBSTRING` and `||`, can you display the usernames of comment posters with comment id < 100 with their first two letters capitalized?"
   ]
  },
  {
   "cell_type": "markdown",
   "metadata": {},
   "source": [
    "_Answer:_\n",
    "\n",
    "```MySQL\n",
    "-- code here\n",
    "\n",
    "```"
   ]
  },
  {
   "cell_type": "markdown",
   "metadata": {},
   "source": [
    "### `REPLACE()`"
   ]
  },
  {
   "cell_type": "markdown",
   "metadata": {},
   "source": [
    "This is the equivalent of the `.replace()` method for strings in Python and the `gsub()` function in R."
   ]
  },
  {
   "cell_type": "markdown",
   "metadata": {},
   "source": [
    "_Example:_\n",
    "```MySQL\n",
    "SELECT title, REPLACE(title, 'Woz', 'Steve Wozniak')\n",
    "  FROM `bigquery-public-data.hacker_news.stories`\n",
    "  WHERE id < 100\n",
    "  ORDER BY id;\n",
    "```"
   ]
  },
  {
   "cell_type": "markdown",
   "metadata": {},
   "source": [
    "__Does the function work when replacing `NULL` values though?__"
   ]
  },
  {
   "cell_type": "markdown",
   "metadata": {},
   "source": [
    "```MySQL\n",
    "SELECT title, REPLACE(NULL, 'Woz', 'Steve Wozniak')\n",
    "  FROM `bigquery-public-data.hacker_news.stories`\n",
    "  WHERE id < 100\n",
    "  ORDER BY id;\n",
    "```"
   ]
  },
  {
   "cell_type": "markdown",
   "metadata": {},
   "source": [
    "## `COALESCE()`\n",
    "This is an extremely powerful function that lets us handle missing values on a column-by-column basis.\n",
    "\n",
    "The syntax is pretty straight forward for this one: \n",
    "```MySQL\n",
    "COALESCE(<column_name>, <fill_value>);\n",
    "```"
   ]
  },
  {
   "cell_type": "markdown",
   "metadata": {},
   "source": [
    "**EXERCISE 4**: Some stories do not have a URL -- let's point them to GA! Can you display the author, URL, and title of 100 stories where a `NULL` URL is replaced with `https://ga.co`?"
   ]
  },
  {
   "cell_type": "markdown",
   "metadata": {},
   "source": [
    "_Answer:_\n",
    "\n",
    "```MySQL\n",
    "-- code here\n",
    "```"
   ]
  },
  {
   "cell_type": "markdown",
   "metadata": {},
   "source": [
    "_____\n",
    "## II. Conditionals"
   ]
  },
  {
   "cell_type": "markdown",
   "metadata": {},
   "source": [
    "### Boolean Statements"
   ]
  },
  {
   "cell_type": "markdown",
   "metadata": {},
   "source": [
    "We can also include Booleans to create dummy variables in SQL on the fly.\n",
    "\n",
    "_Example:_\n",
    "```MySQL\n",
    "SELECT LENGTH(text) < 100 AS `is_short`, text\n",
    "  FROM `bigquery-public-data.hacker_news.comments`\n",
    "  WHERE id < 100\n",
    "  LIMIT 100;\n",
    "```"
   ]
  },
  {
   "cell_type": "markdown",
   "metadata": {},
   "source": [
    "## `CASE WHEN`\n",
    "This is the equivalent of if-elif-else statements, except embedded into a query. This takes Boolean Statements to the next level by allowing you to customize what happens on a case-by-case basis\n",
    "\n",
    "_Example:_ Write a query that groups bannermen army sizes into 'large' (35+), 'medium' (25-34), 'small' (< 25) "
   ]
  },
  {
   "cell_type": "markdown",
   "metadata": {},
   "source": [
    "```MySQL\n",
    "SELECT author, score,\n",
    "       CASE WHEN score >= 15 THEN 'highly regarded'    -- if\n",
    "            WHEN score >= 10 THEN 'noticed'            -- elif\n",
    "            ELSE 'insignificant'                       -- else\n",
    "       END AS story_importance                         -- end it! (and rename if you want)\n",
    "FROM `bigquery-public-data.hacker_news.stories`\n",
    "ORDER BY id DESC\n",
    "LIMIT 1000;\n",
    "```\n",
    "\n",
    "`CASE WHEN` is often used in conjunction with a `GROUP BY` to bin results. \n",
    "\n",
    "> Unfortunately, you must repeat the `CASE` to display the categories in `SELECT`:\n",
    "\n",
    "_Example:_ \n",
    "```MySQL\n",
    "SELECT CASE WHEN score >= 100 THEN 'highly regarded'\n",
    "            WHEN score >= 50 THEN 'noticed' \n",
    "            ELSE 'insignificant'\n",
    "       END AS story_importance,\n",
    "  COUNT(*)\n",
    "FROM `bigquery-public-data.hacker_news.stories`\n",
    "GROUP BY story_importance\n",
    "LIMIT 1000;\n",
    "```\n",
    "\n",
    "NOTE: In most SQL variants, `GROUP BY` is evaluated before `SELECT`. So, you must repeat the `CASE` inside the `GROUP BY`. Luckily, BigQuery saves us from this repetition!"
   ]
  },
  {
   "cell_type": "markdown",
   "metadata": {},
   "source": [
    "## III. Date-Time Manipulation"
   ]
  },
  {
   "cell_type": "markdown",
   "metadata": {},
   "source": [
    "See the docs here: https://cloud.google.com/bigquery/docs/reference/standard-sql/datetime_functions\n",
    "\n",
    "### Type Conversion"
   ]
  },
  {
   "cell_type": "markdown",
   "metadata": {},
   "source": [
    "#### `DATETIME()`\n",
    "You can create a DATETIME from scratch:\n",
    "```MySQL\n",
    "-- Note the times are always stored internally as UTC (example from the docs)\n",
    "SELECT\n",
    "  DATETIME(2008, 12, 25, 05, 30, 00) as datetime_ymdhms,\n",
    "  DATETIME(TIMESTAMP \"2008-12-25 05:30:00+00\", \"America/Los_Angeles\") as datetime_tstz;\n",
    "```\n",
    "\n",
    "#### `DATETIME()` with `TIMESTAMP_SECONDS()`\n",
    "\n",
    "You can convert an timestamp type into a DATETIME by first converting to a timestamp (`TIMESTAMP_SECONDS()`) then to a datetime (`DATETIME()`).\n",
    "\n",
    "```MySQL\n",
    "SELECT DATETIME(TIMESTAMP_SECONDS(time))\n",
    "  FROM `bigquery-public-data.hacker_news.stories`\n",
    "  LIMIT 100;\n",
    "```\n",
    "\n",
    "#### `CURRENT_DATETIME()`\n",
    "You can use this to pull the current date (as a datetime type) from your computer's clock\n",
    "```MySQL\n",
    "SELECT CURRENT_DATETIME();\n",
    "```\n",
    "\n",
    "Or just the date (as a date type):\n",
    "```MySQL\n",
    "SELECT CURRENT_DATE();\n",
    "```\n",
    "\n",
    "#### `FORMAT_DATETIME`\n",
    "\n",
    "SQL is incredibly flexible in how you can display dates and times. \n",
    "\n",
    "_Example:_\n",
    "```MySQL\n",
    "SELECT FORMAT_DATETIME(\"%b %Y\", DATETIME(TIMESTAMP_SECONDS(time))),\n",
    "       title\n",
    "  FROM `bigquery-public-data.hacker_news.stories`\n",
    "  LIMIT 1000;\n",
    "```\n",
    "\n",
    "Here are all of the possible options: https://cloud.google.com/bigquery/docs/reference/standard-sql/datetime_functions#supported_format_elements_for_datetime"
   ]
  },
  {
   "cell_type": "markdown",
   "metadata": {},
   "source": [
    "**EXERCISE 5:** Write a query that returns what the date was 21 days ago. Format it in a nice way! (Hint: Perhaps one of the other DateTime functions can help: https://cloud.google.com/bigquery/docs/reference/standard-sql/datetime_functions#datetime_sub)"
   ]
  },
  {
   "cell_type": "markdown",
   "metadata": {},
   "source": [
    "_Answer:_\n",
    "\n",
    "```MySQL\n",
    "-- code here\n",
    "```"
   ]
  },
  {
   "cell_type": "markdown",
   "metadata": {},
   "source": [
    "### `EXTRACT()`\n",
    "\n",
    "If you want to extract certain parts of a datetime object, this function is MAGICAL!\n",
    "\n",
    "```MySQL\n",
    "SELECT CURRENT_DATETIME() AS `Today`,\n",
    "\t   EXTRACT(DAY FROM CURRENT_DATETIME()) AS `Day`,\n",
    "\t   EXTRACT(MONTH FROM CURRENT_DATETIME()) AS `Month`,\n",
    "\t   EXTRACT(YEAR FROM CURRENT_DATETIME()) AS `Year`,\n",
    "\t   EXTRACT(HOUR FROM CURRENT_DATETIME()) AS `Hour`,\n",
    "\t   EXTRACT(MINUTE FROM CURRENT_DATETIME()) AS `Minute`\n",
    "```"
   ]
  },
  {
   "cell_type": "markdown",
   "metadata": {},
   "source": [
    "### Challenge: Interview Questions\n",
    "\n",
    "Now let's use the `full` table to try to write real-time queries! \n",
    "- We want to run these at any time to collate the latest results. \n",
    "- All of the below require `GROUP BY`.\n",
    "\n",
    "> Note: Instead of `author`, you'll now have to use `by` in conjunction with `type`."
   ]
  },
  {
   "cell_type": "markdown",
   "metadata": {},
   "source": [
    "**EXERCISE 6: When was the last item of each `type` posted? Make sure the date and time are human-readable!**"
   ]
  },
  {
   "cell_type": "markdown",
   "metadata": {},
   "source": [
    "_Answer:_\n",
    "\n",
    "```MySQL\n",
    "-- code here\n",
    "```"
   ]
  },
  {
   "cell_type": "markdown",
   "metadata": {},
   "source": [
    "**EXERCISE 7: Which hour of the day is most popular for posting a story?**"
   ]
  },
  {
   "cell_type": "markdown",
   "metadata": {},
   "source": [
    "```MySQL\n",
    "-- code here\n",
    "```"
   ]
  },
  {
   "cell_type": "markdown",
   "metadata": {},
   "source": [
    "**EXERCISE (BONUS): Who are the top ten submitters of stories in the last 7 days?**"
   ]
  },
  {
   "cell_type": "markdown",
   "metadata": {},
   "source": [
    "_Answer:_\n",
    "\n",
    "```MySQL\n",
    "-- code here\n",
    "-- Assume NULL is okay\n",
    "```"
   ]
  },
  {
   "cell_type": "markdown",
   "metadata": {},
   "source": [
    "***\n",
    "# Intermediate SQL II: Subqueries"
   ]
  },
  {
   "cell_type": "markdown",
   "metadata": {},
   "source": [
    "## What is a subquery?\n",
    "\n",
    "Exactly what it sounds like: **it's a query within a query**!\n",
    "\n",
    "...What?! Sounds complicated...why do we need this?"
   ]
  },
  {
   "cell_type": "markdown",
   "metadata": {},
   "source": [
    "**Motivation:** How can we get _all_ stories that are tied for highest score?\n",
    "\n",
    "> Note we cannot just use ORDER BY, since we must know in advance what the LIMIT should be!"
   ]
  },
  {
   "cell_type": "markdown",
   "metadata": {},
   "source": [
    "_Answer:_\n",
    "\n",
    "```MySQL\n",
    "-- code here\n",
    "SELECT f.by, f.score, f.title\n",
    "  FROM `bigquery-public-data.hacker_news.full` f\n",
    "  WHERE f.score = \n",
    "    (SELECT MAX(score)\n",
    "     FROM `bigquery-public-data.hacker_news.full`);\n",
    "```"
   ]
  },
  {
   "cell_type": "markdown",
   "metadata": {},
   "source": [
    "### Subqueries in `WHERE`"
   ]
  },
  {
   "cell_type": "markdown",
   "metadata": {},
   "source": [
    "How did we think about this?\n",
    "- __The intention of a subquery is to utilize a a list (column) or single value.__\n",
    "- If we choose to extract just one column from a table using a query, we essentially have a list\n",
    "- We've written WHERE statements before with `IN` and `NOT IN` and compared results to a list\n",
    "- Connecting the dots: we can replace the list in a WHERE clause with a subquery to make things more dynamic"
   ]
  },
  {
   "cell_type": "markdown",
   "metadata": {},
   "source": [
    "**Exercise 8:** How many users have posted a story but never commented?\n",
    "\n",
    "> First, we have to find the user IDs who have commented. Then, we see who has posted a story but is `NOT IN` these IDs."
   ]
  },
  {
   "cell_type": "markdown",
   "metadata": {},
   "source": [
    "_Answer:_\n",
    "\n",
    "```MySQL\n",
    "-- code here\n",
    "```"
   ]
  },
  {
   "cell_type": "markdown",
   "metadata": {},
   "source": [
    "_**Short Note on Efficient Queries**_\n",
    "\n",
    "Some `JOIN` commands (especially `INNER JOIN`) can be very computationally intensive. This is why sometimes we would prefer to write subqueries.\n",
    "\n",
    "_Example:_ What are the 502 comments that are in `full_201510` but not in `stories`? (We saw this in the warmup!)"
   ]
  },
  {
   "cell_type": "markdown",
   "metadata": {},
   "source": [
    "```MySQL\n",
    "SELECT f.id, f.by, f.title\n",
    "  FROM `bigquery-public-data.hacker_news.full_201510` f\n",
    "  WHERE f.type = 'comment' AND \n",
    "        f.id NOT IN \n",
    "          (SELECT id FROM`bigquery-public-data.hacker_news.comments`);\n",
    "```"
   ]
  },
  {
   "cell_type": "markdown",
   "metadata": {},
   "source": [
    "### Subqueries in `SELECT`"
   ]
  },
  {
   "cell_type": "markdown",
   "metadata": {},
   "source": [
    "Subqueries can show up almost anywhere in the query! If we want to compare values to __a single value,__ we could include the result of a subquery in the `SELECT` clause. This is especially important when you want to construct some sort of **_benchmark_** (e.g. how much you have missed/beaten a sales target by, what the active returns of a mutual fund is compared to its benchmark index, etc.)  "
   ]
  },
  {
   "cell_type": "markdown",
   "metadata": {},
   "source": [
    "_Example:_ How do we determine what percentage of stories do not have a URL?\n",
    "\n",
    "```MySQL\n",
    "SELECT COUNT(*) / (SELECT COUNT(*) FROM `bigquery-public-data.hacker_news.stories`)\n",
    "  FROM `bigquery-public-data.hacker_news.stories`\n",
    "  WHERE url IS NULL;\n",
    "```\n",
    "\n",
    "_Example:_ How do we show the average score next to each story?\n",
    "```MySQL\n",
    "SELECT title, score, (SELECT AVG(score) FROM `bigquery-public-data.hacker_news.stories`)\n",
    "  FROM `bigquery-public-data.hacker_news.stories`\n",
    "  LIMIT 100;\n",
    "```"
   ]
  },
  {
   "cell_type": "markdown",
   "metadata": {},
   "source": [
    "#### _Short Note on Order of Execution in SQL Queries_\n",
    "Across clauses, there is a sequence that queries follow. SQL queries will run `FROM` first, then `WHERE` and other filters, and then `SELECT` last. So in the exercise **below**, the `highest_salary` is already going to be calculated based on Asia and Canada employees because `WHERE` executes before `SELECT`.\n",
    "\n",
    "However, within a clause (e.g. within SELECT) everything runs ___simultaneously___, not sequentially! So you cannot use `highest_salary` in say a calculation for \"difference\" -- you will need to use the actual subquery in the calculation."
   ]
  },
  {
   "cell_type": "markdown",
   "metadata": {},
   "source": [
    "## Interview Challenges"
   ]
  },
  {
   "cell_type": "markdown",
   "metadata": {},
   "source": [
    "### Challenge Interview Question \\#1\n",
    "\n",
    "Which user has the largest number of dead posts? (You can assume there is no tie. The user must be non-`NULL`.)"
   ]
  },
  {
   "cell_type": "markdown",
   "metadata": {},
   "source": [
    "_Answer:_ \n",
    "\n",
    "```MySQL\n",
    "-- code here\n",
    "```"
   ]
  },
  {
   "cell_type": "markdown",
   "metadata": {},
   "source": [
    "### Challenge Interview Question #2\n",
    "\n",
    "What percentage of stories get at least one comment?\n",
    "\n",
    "> The challenge here is understanding how stories are linked to comments!"
   ]
  },
  {
   "cell_type": "markdown",
   "metadata": {},
   "source": [
    "_Answer:_\n",
    "\n",
    "```MySQL\n",
    "-- code here\n",
    "\n",
    "```"
   ]
  },
  {
   "cell_type": "markdown",
   "metadata": {},
   "source": [
    "### Challenge Interview Question \\#3\n",
    "\n",
    "Which stories were posted for the longest amount of time before getting a comment?\n",
    "\n",
    "> The challenge here is thinking carefully about the time data types."
   ]
  },
  {
   "cell_type": "markdown",
   "metadata": {},
   "source": [
    "_Answer:_ \n",
    "\n",
    "```MySQL\n",
    "-- code here\n",
    "```"
   ]
  },
  {
   "cell_type": "markdown",
   "metadata": {},
   "source": [
    "## Next Steps\n",
    "- [Hacker Rank](https://www.hackerrank.com/domains/sql)\n",
    "- [Code Wars](https://www.codewars.com/)\n",
    "- [SQL Zoo](https://sqlzoo.net/)\n",
    "- [Code Academy](https://www.codecademy.com/learn/learn-sql)\n",
    "- [mystery.knightlab](https://mystery.knightlab.com/)\n",
    "- [tutorialspoint](https://www.tutorialspoint.com/sql/index.htm)\n",
    "- [mode.com](https://mode.com/sql-tutorial/)\n",
    "- [sqlbolt.com](https://sqlbolt.com/lesson/select_queries_introduction)\n",
    "- [w3resource](https://www.w3resource.com/sql-exercises/)\n",
    "- [w3schools](https://www.w3schools.com/sql/sql_exercises.asp)\n",
    "- [techbeamers](https://www.techbeamers.com/sql-query-questions-answers-for-practice/)\n",
    "- [mystery.knightlab](http://mystery.knightlab.com/)\n",
    "- [pgexercises.com](https://pgexercises.com/)\n",
    "- [jitbit](https://www.jitbit.com/news/181-jitbits-sql-interview-questions/)\n",
    "- [quip.com](https://quip.com/2gwZArKuWk7W)\n",
    "- [plateau-workshop](https://plateau-workshop.org/assets/papers-2019/10.pdf)"
   ]
  },
  {
   "cell_type": "code",
   "execution_count": null,
   "metadata": {},
   "outputs": [],
   "source": []
  }
 ],
 "metadata": {
  "kernelspec": {
   "display_name": "Python 3",
   "language": "python",
   "name": "python3"
  },
  "language_info": {
   "codemirror_mode": {
    "name": "ipython",
    "version": 3
   },
   "file_extension": ".py",
   "mimetype": "text/x-python",
   "name": "python",
   "nbconvert_exporter": "python",
   "pygments_lexer": "ipython3",
   "version": "3.8.5"
  }
 },
 "nbformat": 4,
 "nbformat_minor": 4
}
