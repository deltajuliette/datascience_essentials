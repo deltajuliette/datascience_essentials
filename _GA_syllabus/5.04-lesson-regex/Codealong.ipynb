{
 "cells": [
  {
   "cell_type": "code",
   "execution_count": null,
   "metadata": {},
   "outputs": [],
   "source": [
    "import re\n",
    "import pandas as pd"
   ]
  },
  {
   "cell_type": "code",
   "execution_count": null,
   "metadata": {},
   "outputs": [],
   "source": [
    "teams_data = \"\"\"\n",
    "Celtics:\n",
    "Record: 17-10, 5th in NBA Eastern Conference\n",
    "Last Game: W 130-125 at WAS\n",
    "Next Game: Friday, Dec. 14 vs. ATL\n",
    "Coach: Brad Stevens (17-10)\n",
    "Executive: Danny Ainge\n",
    "PTS/G: 111.1 (12th of 30) Opp PTS/G: 103.6 (3rd of 30)\n",
    "SRS: 6.77 (3rd of 30) Pace: 98.7 (22nd of 30)\n",
    "Off Rtg: 111.3 (11th of 30) Def Rtg: 103.7 (3rd of 30)\n",
    "Expected W-L: 20-7 (3rd of 30)\n",
    "Arena: TD Garden Attendance: 204,864 (23rd of 30)\n",
    "\n",
    "Hawks:\n",
    "Record: 6-21, 14th in NBA Eastern Conference\n",
    "Last Game: L 107-114 at DAL\n",
    "Next Game: Friday, Dec. 14 at BOS\n",
    "Coach: Lloyd Pierce (6-21)\n",
    "Executive: Travis Schlenk\n",
    "PTS/G: 107.9 (22nd of 30) Opp PTS/G: 118.0 (30th of 30)\n",
    "SRS: -9.68 (28th of 30) Pace: 105.3 (1st of 30)\n",
    "Off Rtg: 102.4 (28th of 30) Def Rtg: 112.1 (23rd of 30)\n",
    "Expected W-L: 6-21 (28th of 30)\n",
    "Arena: State Farm Arena Attendance: 188,789 (29th of 30)\n",
    "\n",
    "Spurs:\n",
    "Record: 14-14, 10th in NBA Western Conference\n",
    "Last Game: W 111-86 vs. PHO\n",
    "Next Game: Thursday, Dec. 13 vs. LAC\n",
    "Coach: Gregg Popovich (14-14)\n",
    "Executive: R.C. Buford\n",
    "PTS/G: 110.3 (15th of 30) Opp PTS/G: 112.4 (22nd of 30)\n",
    "SRS: -2.14 (21st of 30) Pace: 98.3 (23rd of 30)\n",
    "Off Rtg: 111.4 (9th of 30) Def Rtg: 113.4 (25th of 30)\n",
    "Expected W-L: 12-16 (23rd of 30)\n",
    "Arena: AT&T Center Attendance: 255,993 (11th of 30)\n",
    "\n",
    "Knicks:\n",
    "Record: 8-21, 12th in NBA Eastern Conference\n",
    "Last Game: L 106-113 at CLE\n",
    "Next Game: Friday, Dec. 14 at CHO\n",
    "Coach: David Fizdale (8-21)\n",
    "Executive: Steve Mills\n",
    "PTS/G: 108.3 (21st of 30) Opp PTS/G: 114.9 (26th of 30)\n",
    "SRS: -6.28 (26th of 30) Pace: 99.5 (17th of 30)\n",
    "Off Rtg: 107.6 (23rd of 30) Def Rtg: 114.2 (29th of 30)\n",
    "Expected W-L: 9-20 (26th of 30)\n",
    "Arena: Madison Square Garden (IV) Attendance: 249,904 (12th of 30)\n",
    "\n",
    "Bulls:\n",
    "Record: 6-22, 15th in NBA Eastern Conference\n",
    "Last Game: L 89-108 vs. SAC\n",
    "Next Game: Thursday, Dec. 13 at ORL\n",
    "Coach: Fred Hoiberg (5-19), Jim Boylen (1-3)\n",
    "Executive: Gar Forman\n",
    "PTS/G: 101.8 (30th of 30) Opp PTS/G: 112.9 (23rd of 30)\n",
    "SRS: -9.90 (29th of 30) Pace: 100.1 (10th of 30)\n",
    "Off Rtg: 100.6 (30th of 30) Def Rtg: 111.6 (21st of 30)\n",
    "Expected W-L: 5-23 (29th of 30)\n",
    "Arena: United Center Attendance: 300,436 (2nd of 30)\n",
    "\n",
    "Washington:\n",
    "Record: 11-17, 10th in NBA Eastern Conference\n",
    "Last Game: L 125-130 vs. BOS\n",
    "Next Game: Friday, Dec. 14 at BRK\n",
    "Coach: Scott Brooks (11-17)\n",
    "Executive: Ernie Grunfeld\n",
    "PTS/G: 112.1 (10th of 30) Opp PTS/G: 116.9 (29th of 30)\n",
    "SRS: -4.84 (25th of 30) Pace: 101.4 (8th of 30)\n",
    "Off Rtg: 109.4 (18th of 30) Def Rtg: 114.1 (27th of 30)\n",
    "Expected W-L: 10-18 (25th of 30)\n",
    "Arena: Capital One Arena Attendance: 217,707 (20th of 30)\n",
    "\n",
    "Seattle (Oklahoma):\n",
    "Record: 17-9, 3rd in NBA Western Conference\n",
    "Last Game: L 114-118 at NOP\n",
    "Next Game: Friday, Dec. 14 at DEN\n",
    "Coach: Billy Donovan (17-9)\n",
    "Executive: Sam Presti\n",
    "PTS/G: 111.7 (11th of 30) Opp PTS/G: 105.2 (5th of 30)\n",
    "SRS: 4.83 (5th of 30) Pace: 102.4 (6th of 30)\n",
    "Off Rtg: 109.1 (19th of 30) Def Rtg: 102.8 (1st of 30)\n",
    "Expected W-L: 18-8 (4th of 30)\n",
    "Arena: Chesapeake Energy Arena Attendance: 236,639 (14th of 30)\n",
    "\n",
    "Denver:\n",
    "Record: 18-9, 1st in NBA Western Conference\n",
    "Last Game: W 105-99 vs. MEM\n",
    "Next Game: Friday, Dec. 14 vs. OKC\n",
    "Coach: Mike Malone (18-9)\n",
    "Executive: Tim Connelly\n",
    "PTS/G: 110.0 (17th of 30) Opp PTS/G: 103.7 (4th of 30)\n",
    "SRS: 6.53 (4th of 30) Pace: 97.1 (27th of 30)\n",
    "Off Rtg: 112.4 (8th of 30) Def Rtg: 106.0 (6th of 30)\n",
    "Expected W-L: 19-8 (5th of 30)\n",
    "Arena: Pepsi Center Attendance: 231,848 (16th of 30)\n",
    "\n",
    "Golden State:\n",
    "Record: 19-10, 2nd in NBA Western Conference\n",
    "Last Game: L 93-113 vs. TOR\n",
    "Next Game: Friday, Dec. 14 at SAC\n",
    "Coach: Steve Kerr (19-10)\n",
    "Executive: Bob Myers\n",
    "PTS/G: 115.6 (3rd of 30) Opp PTS/G: 110.6 (15th of 30)\n",
    "SRS: 4.71 (6th of 30) Pace: 99.7 (16th of 30)\n",
    "Off Rtg: 115.1 (1st of 30) Def Rtg: 110.2 (17th of 30)\n",
    "Expected W-L: 19-10 (7th of 30)\n",
    "Arena: Oracle Arena Attendance: 293,940 (5th of 30)\n",
    "\n",
    "L.A.:\n",
    "Record: 17-10, 4th in NBA Western Conference\n",
    "Last Game: W 108-105 vs. MIA\n",
    "Next Game: Thursday, Dec. 13 at HOU\n",
    "Coach: Luke Walton (17-10)\n",
    "Executive: Magic Johnson\n",
    "PTS/G: 113.1 (9th of 30) Opp PTS/G: 110.9 (17th of 30)\n",
    "SRS: 1.45 (14th of 30) Pace: 102.7 (5th of 30)\n",
    "Off Rtg: 109.7 (17th of 30) Def Rtg: 107.5 (8th of 30)\n",
    "Expected W-L: 15-12 (10th of 30)\n",
    "Arena: STAPLES Center Attendance: 284,955 (7th of 30)\"\"\""
   ]
  },
  {
   "cell_type": "markdown",
   "metadata": {},
   "source": [
    "# `re.findall()`"
   ]
  },
  {
   "cell_type": "code",
   "execution_count": null,
   "metadata": {},
   "outputs": [],
   "source": []
  },
  {
   "cell_type": "markdown",
   "metadata": {},
   "source": [
    "# `re.search()`"
   ]
  },
  {
   "cell_type": "code",
   "execution_count": null,
   "metadata": {},
   "outputs": [],
   "source": []
  },
  {
   "cell_type": "markdown",
   "metadata": {},
   "source": [
    "### If no result is found..."
   ]
  },
  {
   "cell_type": "code",
   "execution_count": null,
   "metadata": {},
   "outputs": [],
   "source": []
  },
  {
   "cell_type": "markdown",
   "metadata": {},
   "source": [
    "# `df.str.contains()`"
   ]
  },
  {
   "cell_type": "code",
   "execution_count": null,
   "metadata": {},
   "outputs": [],
   "source": [
    "fish = pd.Series(['onefish', 'twofish','redfish', 'bluefish'])\n",
    "fish"
   ]
  },
  {
   "cell_type": "code",
   "execution_count": null,
   "metadata": {},
   "outputs": [],
   "source": []
  },
  {
   "cell_type": "markdown",
   "metadata": {},
   "source": [
    "# `df.str.extract()`"
   ]
  },
  {
   "cell_type": "code",
   "execution_count": null,
   "metadata": {},
   "outputs": [],
   "source": [
    "df = pd.read_csv('train.csv')"
   ]
  },
  {
   "cell_type": "code",
   "execution_count": null,
   "metadata": {},
   "outputs": [],
   "source": []
  }
 ],
 "metadata": {
  "kernelspec": {
   "display_name": "Python 3",
   "language": "python",
   "name": "python3"
  },
  "language_info": {
   "codemirror_mode": {
    "name": "ipython",
    "version": 3
   },
   "file_extension": ".py",
   "mimetype": "text/x-python",
   "name": "python",
   "nbconvert_exporter": "python",
   "pygments_lexer": "ipython3",
   "version": "3.6.6"
  }
 },
 "nbformat": 4,
 "nbformat_minor": 2
}
