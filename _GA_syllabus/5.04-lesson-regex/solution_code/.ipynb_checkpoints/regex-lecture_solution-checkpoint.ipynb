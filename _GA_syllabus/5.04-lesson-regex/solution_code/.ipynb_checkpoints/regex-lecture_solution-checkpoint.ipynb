{
 "cells": [
  {
   "cell_type": "markdown",
   "metadata": {
    "slideshow": {
     "slide_type": "notes"
    }
   },
   "source": [
    "> **Jupyter slideshow:** This notebook can be displayed as slides. To view it as a slideshow in your browser, type the following in the console:\n",
    "\n",
    "\n",
    "> `> jupyter nbconvert [this_notebook.ipynb] --to slides --post serve`\n",
    "\n",
    "\n",
    "> To toggle off the slideshow cell formatting, click the `CellToolbar` button, then `View --> Cell Toolbar --> None`."
   ]
  },
  {
   "cell_type": "markdown",
   "metadata": {
    "slideshow": {
     "slide_type": "slide"
    }
   },
   "source": [
    "<img src=\"http://imgur.com/1ZcRyrc.png\" style=\"float: left; margin: 20px; height: 55px\">\n",
    "\n",
    "# Regular Expressions\n",
    "\n",
    "_Authors: Alex Combs (NYC)_\n",
    "\n",
    "---\n",
    "\n",
    "<a id=\"learning-objectives\"></a>\n",
    "### Learning Objectives\n",
    "*After this lesson, you will be able to:*\n",
    "- Define regular expressions.\n",
    "- Use regular expressions to match text.\n",
    "- Demonstrate how to use capturing and non-capturing groups.\n",
    "- Use advanced methods such as lookaheads."
   ]
  },
  {
   "cell_type": "markdown",
   "metadata": {},
   "source": [
    "## Understanding Regex\n",
    "---\n",
    "- Regex → Regular expressions\n",
    "- Use case: extracting/subsetting pieces of information from any text/string\n",
    "- Not a library or programming language\n",
    "- Regex is a sequence of characters that specifies a search pattern in any given text (string)\n",
    "    - Text: anything from letters/numbers/both/characters\n",
    "- Examples: phone numbers, email, urls, etc."
   ]
  },
  {
   "cell_type": "markdown",
   "metadata": {
    "slideshow": {
     "slide_type": "slide"
    }
   },
   "source": [
    "<a id=\"so-what-does-a-regular-expression-look-like\"></a>\n",
    "## So, What Does a Regular Expression Look Like?\n",
    "---"
   ]
  },
  {
   "cell_type": "markdown",
   "metadata": {
    "slideshow": {
     "slide_type": "fragment"
    }
   },
   "source": [
    "## ```/^([a-z0-9_\\.-]+)@([\\da-z\\.-]+)\\.([a-z\\.]{2,6})$/```\n",
    "\n"
   ]
  },
  {
   "cell_type": "markdown",
   "metadata": {
    "slideshow": {
     "slide_type": "slide"
    }
   },
   "source": [
    "<a id=\"where-is-regex-implemented\"></a>\n",
    "## Where are `regex` Implemented?\n",
    "\n",
    "---\n",
    "\n",
    "There are any number of places where `regex`s can be run — from your text editor, to the `bash` shell, to Python, and even SQL. It is typically baked into the standard library of programming languages.\n",
    "\n",
    "***In Python, it can be imported like so:***\n",
    "\n",
    "```python\n",
    "import re\n",
    "```"
   ]
  },
  {
   "cell_type": "markdown",
   "metadata": {
    "tags": []
   },
   "source": [
    "<a id=\"basic-regular-expression-syntax\"></a>\n",
    "## Basic Regular Expression Syntax\n",
    "---"
   ]
  },
  {
   "cell_type": "markdown",
   "metadata": {
    "jp-MarkdownHeadingCollapsed": true,
    "slideshow": {
     "slide_type": "slide"
    },
    "tags": []
   },
   "source": [
    "<a id=\"literals\"></a>\n",
    "### Literals\n",
    "---\n",
    "Literals are essentially just what you think of as **characters in a string**. For example:\n",
    "\n",
    "```\n",
    "a\n",
    "b\n",
    "c\n",
    "X\n",
    "Y\n",
    "Z\n",
    "1\n",
    "5\n",
    "100\n",
    "``` \n",
    "\n",
    "These are all considered literals."
   ]
  },
  {
   "cell_type": "markdown",
   "metadata": {
    "slideshow": {
     "slide_type": "slide"
    }
   },
   "source": [
    "<a id=\"character-classes\"></a>\n",
    "### Character Classes\n",
    "---\n",
    "\n",
    "A character class is a set of **characters matched as an \"or.\"** In other words, matching *<b>only one</b> out of several characters*.\n",
    "\n",
    "```\n",
    "[io]\n",
    "```\n",
    "\n",
    "So, this class would run as \"**match either i or o**\"\n",
    "\n",
    "You can include *as many characters* as you like in between the brackets.\n",
    "\n",
    "Character classes match <b>only a single character _because of the \"or\" criteria_."
   ]
  },
  {
   "cell_type": "markdown",
   "metadata": {
    "slideshow": {
     "slide_type": "slide"
    }
   },
   "source": [
    "<a id=\"character-classes-can-also-accept-certain-ranges\"></a>\n",
    "\n",
    "### Character Classes + Ranges\n",
    "---\n",
    "\n",
    "The Character classes we introduced above, can also accept ranges, like below:\n",
    "    \n",
    "```\n",
    "[a-f] --> this still matches a \"single lower case character\", between the range: a to f\n",
    "[a-z] --> this still matches a \"single lower case character\", between the range: a to z\n",
    "[A-Z] --> this still matches a \"single upper case character\", between the range: A to Z\n",
    "[a-zA-Z] --> this still matches a \"single character either lower case or upper case\", but between the range: a to z or A to Z\n",
    "[1-4] --> single number between the range 1 to 4\n",
    "[a-c1-3] --> single lower case character between the range a to c or single number between the range 1 to 3\n",
    "```"
   ]
  },
  {
   "cell_type": "markdown",
   "metadata": {
    "slideshow": {
     "slide_type": "slide"
    }
   },
   "source": [
    "<a id=\"character-class-negation\"></a>\n",
    "### Character Class Negation\n",
    "---\n",
    "\n",
    "We can also add **negation** to character classes. For example:\n",
    "\n",
    "```\n",
    "[^a-z]\n",
    "```\n",
    "\n",
    "This means match *ANYTHING* that is *NOT* `a` through `z`. So it is the **inverse** of the character class without negation."
   ]
  },
  {
   "cell_type": "markdown",
   "metadata": {
    "slideshow": {
     "slide_type": "slide"
    }
   },
   "source": [
    "<a id=\"shorthand-for-character-classes\"></a>\n",
    "### Shorthand for Character Classes\n",
    "---\n",
    "\n",
    "```\n",
    "\\w - Matches word characters (includes digits and underscores)\n",
    "\\W - Matches what \\w doesn't — non-word characters\n",
    "\\d - Matches all digit characters\n",
    "\\D - Matches all non-digit characters\n",
    "\\s - Matches whitespace (including tabs)\n",
    "\\S - Matches non-whitespace\n",
    "\\n - Matches new lines\n",
    "\\r - Matches carriage returns\n",
    "\\t - Matches tabs\n",
    "```"
   ]
  },
  {
   "cell_type": "markdown",
   "metadata": {
    "slideshow": {
     "slide_type": "fragment"
    }
   },
   "source": [
    "These can also be placed into brackets like so:\n",
    "\n",
    "```\n",
    "[\\d\\t] --> matches single digits or tabs\n",
    "[^\\d\\t] --> matches anything other than digits or tabs\n",
    "```"
   ]
  },
  {
   "cell_type": "markdown",
   "metadata": {
    "slideshow": {
     "slide_type": "slide"
    }
   },
   "source": [
    "<a id=\"special-characters\"></a>\n",
    "### Special Characters\n",
    "---\n",
    "\n",
    "Certain characters must be escaped with a backslash: \"`\\`.\" Escape means these characters should have a `\\` in front of them when specifying in the regex pattern\n",
    "\n",
    "These include the following:\n",
    "\n",
    "```\n",
    ". --> for example, if you want to write . you must actually write it as \\.\n",
    "?\n",
    "\\ --> \\ should be written as \\\\\n",
    "{\n",
    "}\n",
    "(\n",
    ")\n",
    "[\n",
    "]\n",
    "+\n",
    "-\n",
    "&\n",
    "<\n",
    ">\n",
    "```"
   ]
  },
  {
   "cell_type": "markdown",
   "metadata": {
    "slideshow": {
     "slide_type": "slide"
    }
   },
   "source": [
    "<a id=\"the-dot\"></a>\n",
    "### The Dot\n",
    "\n",
    "---\n",
    "\n",
    "The dot matches **any single character**."
   ]
  },
  {
   "cell_type": "markdown",
   "metadata": {
    "slideshow": {
     "slide_type": "slide"
    }
   },
   "source": [
    "<a id=\"anchors\"></a>\n",
    "### Anchors\n",
    "\n",
    "---\n",
    "\n",
    "Anchors are used to denote the start and end of a line.\n",
    "\n",
    "```\n",
    "^ - Matches the START of the line.\n",
    "$ - Matches the END of the line\n",
    "```\n",
    "\n",
    "Example:\n",
    "\n",
    "```bash\n",
    "^Now - Matches the word \"Now\" when it occurs at the BEGINNING of a line.  \n",
    "country$ - Matches the word \"country\" when it occurs at the END of a line.\n",
    "```\n",
    "\n",
    "**You can also use anchors at the beginning or end of a word with `\\b`**"
   ]
  },
  {
   "cell_type": "markdown",
   "metadata": {
    "slideshow": {
     "slide_type": "slide"
    },
    "tags": []
   },
   "source": [
    "<a id=\"exploring-regex\"></a>\n",
    "## Exploring `regex` \n",
    "*(The following are some exercises we can try on [RegEx101](https://regex101.com/) platform that allows us to write and explore `regex` and visualize the text pattern search. We'll cover a couple of initial examples then move on to Python implementation. As a general tip, you'll need to google based on the task to find fitting regex solutions and can try them out by typing in the REGULAR EXPRESSION bar on the given platform link)* \n",
    "\n",
    "---\n",
    "\n",
    " \n",
    "\n",
    "- Copy the text from the cell below into the body of the website linked above. *(paste within TEST STRING)*\n",
    "\n",
    "- Make sure to click on flags to the right of the main text field, and check that **g** and **m** are clicked. *(check on extreme right of REGULAR EXPRESSION bar to confirm /gm is shown)*"
   ]
  },
  {
   "cell_type": "markdown",
   "metadata": {
    "slideshow": {
     "slide_type": "-"
    }
   },
   "source": [
    "```\n",
    "1. This is a string\n",
    "2. That is also a string\n",
    "3. This is an illusion\n",
    "4. THIS IS LOUD\n",
    "that isn't thus\n",
    "bob this is bob\n",
    "bob bob_ ralph_ bobbobbobbybobbob\n",
    "ababababab\n",
    "6. tHiS\tiS\tCoFu SEd\n",
    "777. THIS IS 100%-THE-BEST!!!\n",
    "8888. this_is_a_fiiile.py\n",
    "hidden bob\n",
    "```"
   ]
  },
  {
   "cell_type": "markdown",
   "metadata": {
    "slideshow": {
     "slide_type": "slide"
    },
    "tags": []
   },
   "source": [
    "<a id=\"exercise-\"></a>\n",
    "### Exercise #1\n",
    "\n",
    "---\n",
    "\n",
    "<a id=\"what-happens-if-we-put-two-character-class-brackets-back-to-back\"></a>\n",
    "### What Happens If We Put Two Character Class Brackets Back to Back?\n",
    "\n",
    "Match **\"That\", \"that\"**, and **\"thus\"** — but not **\"This\"** and **\"this\"** "
   ]
  },
  {
   "cell_type": "raw",
   "metadata": {
    "slideshow": {
     "slide_type": "slide"
    },
    "tags": []
   },
   "source": [
    "The most efficient way to match these conditions is to specify the whole words within the word delimiter \\b as below to search for whole words:\n",
    "\n",
    "\\b(?!(This|this)\\b)\\b(That|that|thus)\\b\n",
    "\n",
    "The first part is a negative lookahead to rule out specific words, while the 2nd part does exact whole word matches. We'll introduce more about lookahead, alternation and word border further down."
   ]
  },
  {
   "cell_type": "markdown",
   "metadata": {
    "slideshow": {
     "slide_type": "slide"
    }
   },
   "source": [
    "<a id=\"exercise-2\"></a>\n",
    "### Exercise #2\n",
    "\n",
    "---\n",
    "\n",
    "Use RegEx101 and our text snippet to match all digits. Do this three ways:\n",
    "\n",
    "```\n",
    "- First, with character classes\n",
    "- Second, with the shorthand character classes\n",
    "- Third, using only negation\n",
    "```"
   ]
  },
  {
   "cell_type": "raw",
   "metadata": {
    "slideshow": {
     "slide_type": "fragment"
    },
    "tags": []
   },
   "source": [
    "1: [0-9]\n",
    "2: \\d\n",
    "3: [^\\D]"
   ]
  },
  {
   "cell_type": "markdown",
   "metadata": {
    "slideshow": {
     "slide_type": "slide"
    }
   },
   "source": [
    "<a id=\"exercise-3\"></a>\n",
    "### Exercise #3\n",
    "\n",
    "---\n",
    "\n",
    "1. Use an anchor and a character class to find the **bab** and the **bob** at the end of the line, but not elsewhere.\n",
    "2. Match all numbers at the beginning of a line"
   ]
  },
  {
   "cell_type": "raw",
   "metadata": {},
   "source": [
    "1. bab$|bob$\n",
    "2. ^\\d"
   ]
  },
  {
   "cell_type": "markdown",
   "metadata": {
    "tags": []
   },
   "source": [
    "## More Regular Expression Syntax\n",
    "---"
   ]
  },
  {
   "cell_type": "markdown",
   "metadata": {
    "slideshow": {
     "slide_type": "slide"
    }
   },
   "source": [
    "<a id=\"modifiers\"></a>\n",
    "### Modifiers\n",
    "\n",
    "---\n",
    "\n",
    "Modifiers control the following:\n",
    "    \n",
    "```\n",
    "g - Global match (matches every occurance in the text, rather than just the first)\n",
    "i - Case insensitivity\n",
    "m - Multiline (modifies how ^ and $ work)\n",
    "```"
   ]
  },
  {
   "cell_type": "markdown",
   "metadata": {
    "slideshow": {
     "slide_type": "-"
    }
   },
   "source": [
    "<a id=\"quantifiers\"></a>\n",
    "### Quantifiers\n",
    "\n",
    "---\n",
    "\n",
    "Quantfiers adjust **how many** items are matched.\n",
    "\n",
    "```\n",
    "* - Zero or more\n",
    "+ - One or more\n",
    "? - Zero or one\n",
    "{n} - Exactly 'n' number\n",
    "{n,} - Matches 'n' or more occurrences\n",
    "{n,m} - Between 'n' and 'm'\n",
    "```\n",
    "\n",
    "### Exercise \n",
    "_[optional: try during flextime]_\n",
    "\n",
    "---\n",
    "Copy the following molecular formulas into Regex101. Create a regular expression to isolate each atom (with their number, if provided).\n",
    "\n",
    "```\n",
    "CH4 (Methane)\n",
    "H2O (Water)\n",
    "HCl (Hydrochloric Acid)\n",
    "C3H8 (Propane)\n",
    "ClF3 (Chlorine trifluoride)\n",
    "Cl2O7 (Dichlorine heptoxide)\n",
    "```"
   ]
  },
  {
   "cell_type": "markdown",
   "metadata": {
    "jp-MarkdownHeadingCollapsed": true,
    "slideshow": {
     "slide_type": "slide"
    },
    "tags": []
   },
   "source": [
    "<a id=\"greedy-and-lazy-matching\"></a>\n",
    "### Greedy and Lazy Matching\n",
    "\n",
    "---\n",
    "\n",
    "\n",
    "By nature, ```.+ and .*``` are *greedy* matchers. This means they will **match for as many characters as possible** (i.e., the longest match).\n",
    "\n",
    "This can be flipped to *lazy* matching (the shortest match) by adding a question mark: `?`.\n"
   ]
  },
  {
   "cell_type": "markdown",
   "metadata": {
    "slideshow": {
     "slide_type": "slide"
    }
   },
   "source": [
    "<a id=\"groups-and-capturing\"></a>\n",
    "### Groups and Capturing\n",
    "\n",
    "---\n",
    "\n",
    "In `regex`, parentheses — `()` — denote *groupings*. These groups can then be quantified.\n",
    "\n",
    "Additionally, these groups can be designated as either \"capture\" or \"non-capture.\"\n",
    "\n",
    "To mark a group as a capture group, just put it in parenthesis — (match_phrase).\n",
    "\n",
    "To mark it as a non-capture group, punctuate it like so — (?:match_phrase).\n",
    "\n",
    "Each capture group is assigned a consecutive number that can be referenced (e.g., ```$1, $2...```)."
   ]
  },
  {
   "cell_type": "markdown",
   "metadata": {
    "slideshow": {
     "slide_type": "slide"
    }
   },
   "source": [
    "<a id=\"exercise-5\"></a>\n",
    "### Exercise\n",
    "_[optional: try during flextime]_\n",
    "\n",
    "---\n",
    "\n",
    "The following is a list of facts about the Boston Celtics, Atlanta Hawks, NY Knicks, Chicago Bulls and San Antonio Spurs, as they appear on https://www.basketball-reference.com/\n",
    "\n",
    "### East Coast\n",
    "\n",
    "Celtics:\n",
    "```\n",
    "Record: 55-27, 2nd in NBA Eastern Conference\n",
    "Last Game: W 96-83 vs. CLE\n",
    "Next Game: Friday, May. 25 at CLE\n",
    "Coach: Brad Stevens (55-27)\n",
    "Executive: Danny Ainge\n",
    "PTS/G: 104.0 (20th of 30) Opp PTS/G: 100.4 (3rd of 30)\n",
    "SRS: 3.23 (7th of 30) Pace: 96.0 (22nd of 30)\n",
    "Off Rtg: 107.6 (18th of 30) Def Rtg: 103.9 (1st of 30)\n",
    "```\n",
    "\n",
    "\n",
    "Hawks:\n",
    "```\n",
    "Record: 24-58, 15th in NBA Eastern Conference\n",
    "Last Game: L 113-121 vs. PHI\n",
    "Coach: Mike Budenholzer (24-58)\n",
    "Executive: Travis Schlenk\n",
    "PTS/G: 103.4 (25th of 30) Opp PTS/G: 108.8 (23rd of 30)\n",
    "SRS: -5.30 (26th of 30) Pace: 98.3 (10th of 30)\n",
    "Off Rtg: 105.0 (26th of 30) Def Rtg: 110.6 (21st of 30)\n",
    "Expected W-L: 27-55 (26th of 30)\n",
    "```\n",
    "\n",
    "\n",
    "Spurs:\n",
    "```\n",
    "Record: 47-35, 7th in NBA Western Conference\n",
    "Last Game: L 91-99 at GSW\n",
    "Coach: Gregg Popovich (47-35)\n",
    "Executive: R.C. Buford\n",
    "PTS/G: 102.7 (27th of 30) Opp PTS/G: 99.8 (1st of 30)\n",
    "SRS: 2.89 (8th of 30) Pace: 95.0 (28th of 30)\n",
    "Off Rtg: 107.9 (17th of 30) Def Rtg: 104.8 (3rd of 30)\n",
    "Expected W-L: 49-33 (8th of 30)\n",
    "```\n",
    "\n",
    "\n",
    "Knicks:\n",
    "```\n",
    "Record: 29-53, 11th in NBA Eastern Conference\n",
    "Last Game: W 110-98 at CLE\n",
    "Coach: Jeff Hornacek (29-53)\n",
    "Executive: Steve Mills\n",
    "PTS/G: 104.5 (18th of 30) Opp PTS/G: 108.0 (20th of 30)\n",
    "SRS: -3.53 (23rd of 30) Pace: 96.8 (15th of 30)\n",
    "Off Rtg: 107.1 (20th of 30) Def Rtg: 110.7 (23rd of 30)\n",
    "Expected W-L: 32-50 (23rd of 30)\n",
    "```\n",
    "\n",
    "\n",
    "Bulls:\n",
    "```\n",
    "Record: 27-55, 13th in NBA Eastern Conference\n",
    "Last Game: L 87-119 vs. DET\n",
    "Coach: Fred Hoiberg (27-55)\n",
    "Executive: Gar Forman\n",
    "PTS/G: 102.9 (26th of 30) Opp PTS/G: 110.0 (27th of 30)\n",
    "SRS: -6.84 (29th of 30) Pace: 98.3 (9th of 30)\n",
    "Off Rtg: 103.7 (28th of 30) Def Rtg: 110.8 (24th of 30)\n",
    "Expected W-L: 23-59 (28th of 30)\n",
    "```\n",
    "\n",
    "### West Coast\n",
    "Seattle :(\n",
    "```\n",
    "Record: 48-34, 4th in NBA Western Conference\n",
    "Last Game: L 91-96 at UTA\n",
    "Coach: Billy Donovan (48-34)\n",
    "Executive: Sam Presti\n",
    "PTS/G: 107.9 (12th of 30) Opp PTS/G: 104.4 (10th of 30)\n",
    "SRS: 3.42 (6th of 30) Pace: 96.7 (17th of 30)\n",
    "Off Rtg: 110.7 (7th of 30) Def Rtg: 107.2 (9th of 30)\n",
    "Expected W-L: 50-32 (7th of 30)\n",
    "```\n",
    "\n",
    "Denver:\n",
    "```\n",
    "Record: 46-36, 9th in NBA Western Conference\n",
    "Last Game: L 106-112 at MIN\n",
    "Coach: Mike Malone (46-36)\n",
    "Executive: Tim Connelly\n",
    "PTS/G: 110.0 (6th of 30) Opp PTS/G: 108.5 (22nd of 30)\n",
    "SRS: 1.57 (11th of 30) Pace: 96.8 (16th of 30)\n",
    "Off Rtg: 112.5 (6th of 30) Def Rtg: 110.9 (25th of 30)\n",
    "Expected W-L: 45-37 (11th of 30)```\n",
    "\n",
    "Golden State:\n",
    "```\n",
    "Record: 58-24, 2nd in NBA Western Conference\n",
    "Last Game: L 92-95 vs. HOU\n",
    "Next Game: Thursday, May. 24 at HOU\n",
    "Coach: Steve Kerr (58-24)\n",
    "Executive: Bob Myers\n",
    "PTS/G: 113.5 (1st of 30) Opp PTS/G: 107.5 (18th of 30)\n",
    "SRS: 5.79 (3rd of 30) Pace: 99.6 (5th of 30)\n",
    "Off Rtg: 113.6 (3rd of 30) Def Rtg: 107.7 (11th of 30)```\n",
    "\n",
    "L.A.:\n",
    "```\n",
    "Record: 35-47, 11th in NBA Western Conference\n",
    "Last Game: W 115-100 at LAC\n",
    "Coach: Luke Walton (35-47)\n",
    "Executive: Magic Johnson\n",
    "PTS/G: 108.1 (11th of 30) Opp PTS/G: 109.6 (25th of 30)\n",
    "SRS: -1.44 (21st of 30) Pace: 100.3 (2nd of 30)\n",
    "Off Rtg: 106.5 (23rd of 30) Def Rtg: 108.0 (12th of 30)\n",
    "Expected W-L: 37-45 (21st of 30)```\n",
    "\n",
    "Using match groups, create regular expressions to isolate the following:\n",
    "1. The executive's name\n",
    "2. The coach's name\n",
    "3. Number of wins\n",
    "4. Number of losses\n",
    "5. Their conference\n",
    "6. Their rank within their respective conference\n",
    "7. Pace\n",
    "8. The date of their next game\n",
    "9. Points allowed (Opp PTS/G)\n",
    "10. Rank of points allowed"
   ]
  },
  {
   "cell_type": "raw",
   "metadata": {},
   "source": [
    "All numbers following \": \"\n",
    "(?<=\\:\\s)([\\d\\-]+[\\.\\,\\-][\\d]+|\\d+)\n",
    "\n",
    "The executive's name\n",
    "(?<=Executive\\:\\s).+\n",
    "\n",
    "Number of wins\n",
    "(?<=Expected W\\-L\\:\\s)\\d+\n",
    "\n",
    "Number of losses\n",
    "(?:Expected+.*\\-)(\\d+)\n",
    "\n",
    "Their conference\n",
    "(?:Record+.*\\NBA )(.+)(?: Conference)\n",
    "\n",
    "Their rank within their respective conference\n",
    "(?:Record+.*\\,\\s)(.+)(?:\\sin.*)\n",
    "\n",
    "Pace\n",
    "(?<=Pace:\\s).*(?=\\s\\()\n",
    "\n",
    "The date of their next game\n",
    "(?<=Next Game:\\s).+(?=\\sat)\n",
    "\n",
    "Points allowed (Opp PTS/G)\n",
    "(?<=Opp PTS/G:\\s).+(?=\\s\\()\n",
    "\n",
    "Rank of points allowed\n",
    "(?:Opp PTS\\/G: .* \\()(\\S*)"
   ]
  },
  {
   "cell_type": "markdown",
   "metadata": {
    "slideshow": {
     "slide_type": "slide"
    }
   },
   "source": [
    "<a id=\"alternation\"></a>\n",
    "### Alternation\n",
    "\n",
    "---\n",
    "\n",
    "The pipe character — `|` — can be used to denote an OR relation, just like in Python.\n",
    "\n",
    "For example, `(bob|bab)` or `(b(o|a)b)`"
   ]
  },
  {
   "cell_type": "markdown",
   "metadata": {
    "slideshow": {
     "slide_type": "slide"
    }
   },
   "source": [
    "<a id=\"word-border\"></a>\n",
    "### Word Border\n",
    "\n",
    "---\n",
    "\n",
    "The word border — `\\b` — limits matches to those that mark the boundaries of words.\n",
    "\n",
    "These borders can be used on both the left and right sides of the match.\n",
    "\n",
    "### Exercise\n",
    "\n",
    "_[optional: try during flextime]_\n",
    "\n",
    "---\n",
    "Look at the documentation for sklearn's `CountVectorizer` class. \n",
    "\n",
    "1. Explain the regex that the vectorizer uses to split up words\n",
    "2. What might be some flaws with the splitting logic?\n",
    "3. Create your own tokenizer regex and defend your rationale"
   ]
  },
  {
   "cell_type": "markdown",
   "metadata": {
    "slideshow": {
     "slide_type": "slide"
    }
   },
   "source": [
    "<a id=\"lookahead\"></a>\n",
    "### Lookahead\n",
    "---\n",
    "\n",
    "There are two types of lookaheads: postive and negative.\n",
    "\n",
    "```    \n",
    "(?=match_text) — A postive lookahead says, \"only match the current pattern if it is followed by another pattern.\"\n",
    "(?!match_text) — A negative lookahead says the opposite.\n",
    "\n",
    "Examples:\n",
    "- that(?=guy) — Only match \"that\" if it is followed by \"guy.\"\n",
    "- these(?!guys) — Only match \"these\" if it is NOT follow by \"guys.\"\n",
    "- (?=.*guys)this - Only match \"this\" if \"guys\" is anywhere in the word\n",
    "\n",
    "```\n",
    "\n",
    "### Exercise\n",
    "_[optional: try during flextime]_\n",
    "\n",
    "---\n",
    "From Codewars: https://www.codewars.com/kata/regex-password-validation\n",
    "\n",
    "Copy the following passwords into Regex101. \n",
    "\n",
    "```\n",
    "Valid:\n",
    "djI38D55\n",
    "fjd3IR9\n",
    "4fdg5Fj3\n",
    "123abcABC\n",
    "ABC123abc\n",
    "Password123\n",
    "\n",
    "Invalid:\n",
    "ghdfj32\n",
    "DSJKHD23\n",
    "dsF43\n",
    "DHSJdhjsU\n",
    "fjd3IR9.;\n",
    "fjd3  IR9\n",
    "a2.d412\n",
    "JHD5FJ53\n",
    "!fdjn345\n",
    "jfkdfj3j\n",
    "123\n",
    "abc\n",
    "```\n",
    "\n",
    "Create a regex to only highlight valid passwords. A valid password must:\n",
    "\n",
    "1. At least six characters long (ONLY letters and numbers)\n",
    "2. contains a lowercase letter\n",
    "3. contains an uppercase letter\n",
    "4. contains a number\n",
    "\n",
    "**NOTE**: Make sure the multiline option is set in Regex101"
   ]
  },
  {
   "cell_type": "raw",
   "metadata": {},
   "source": [
    "^(?=.*\\d)(?=.*[a-z])(?=.*[A-Z])\\w{6,}$"
   ]
  },
  {
   "cell_type": "markdown",
   "metadata": {
    "slideshow": {
     "slide_type": "slide"
    }
   },
   "source": [
    "\n",
    "<a id=\"exercise-6\"></a>\n",
    "### Exercise\n",
    "_[optional: try during flextime]_\n",
    "\n",
    "---\n",
    "Using the following text:\n",
    "\n",
    "```\n",
    "1. This is a string\n",
    "2. That is also a string\n",
    "3. This is an illusion\n",
    "4. THIS IS LOUD\n",
    "that isn't thus\n",
    "bob this is bob\n",
    "bob bob_ ralph_ bobbobbobbybobbob\n",
    "ababababab\n",
    "6. tHiS    iS    CoFu SEd\n",
    "777. THIS IS 100%-THE-BEST!!!\n",
    "8888. this_is_a_fiiile.py\n",
    "hidden bob\n",
    "```\n",
    "\n",
    "1. Match **bob** only if it is followed by \"_\".\n",
    "2. Match **bob** if it is followed by \"_\" or a new line character (Hint: How do we specify \"or\" in `regex`?).\n",
    "3. Match **bob** only if it isn't followed by a space or a new line character.\n",
    "4. Match **bob** only if the letter y occurs somewhere in the word"
   ]
  },
  {
   "cell_type": "raw",
   "metadata": {
    "slideshow": {
     "slide_type": "fragment"
    }
   },
   "source": [
    "1.\n",
    "bob(?=\\_)\n",
    "2.\n",
    "bob(?=[\\_\\n])\n",
    "3.\n",
    "bob(?![\\s\\n])\n",
    "4.\n",
    "(\\w+(bob)(?=.*y)bob)|((?<=y).*\\w+(bob))"
   ]
  },
  {
   "cell_type": "markdown",
   "metadata": {
    "slideshow": {
     "slide_type": "slide"
    }
   },
   "source": [
    "<a id=\"regex-in-python-and-pandas\"></a>\n",
    "## Regex in Python and `pandas`\n",
    "\n",
    "---\n",
    "\n",
    "Let's practice working with `regex` in Python and `pandas` using the string below."
   ]
  },
  {
   "cell_type": "code",
   "execution_count": 1,
   "metadata": {
    "slideshow": {
     "slide_type": "-"
    }
   },
   "outputs": [],
   "source": [
    "my_string = \"\"\"\n",
    "I said a hip hop,\n",
    "The hippie, the hippie,\n",
    "To the hip, hip hop, and you don't stop, a rock it\n",
    "To the bang bang boogie, say, up jump the boogie,\n",
    "To the rhythm of the boogie, the beat.\n",
    "\"\"\""
   ]
  },
  {
   "cell_type": "code",
   "execution_count": 2,
   "metadata": {
    "slideshow": {
     "slide_type": "-"
    }
   },
   "outputs": [],
   "source": [
    "# Import the python `regex` module as shared at the beginning of this lesson\n",
    "import re"
   ]
  },
  {
   "cell_type": "markdown",
   "metadata": {},
   "source": [
    "#### Python popular `regex` methods:\n",
    "- search()\n",
    "- findall()\n",
    "- sub()\n",
    "\n",
    "#### Pandas:\n",
    "- str.contains\n",
    "- str.extract"
   ]
  },
  {
   "cell_type": "markdown",
   "metadata": {
    "slideshow": {
     "slide_type": "slide"
    }
   },
   "source": [
    "<a id=\"regex-search-method\"></a>\n",
    "### `regex`' `.search()` Method"
   ]
  },
  {
   "cell_type": "code",
   "execution_count": 3,
   "metadata": {
    "slideshow": {
     "slide_type": "-"
    }
   },
   "outputs": [],
   "source": [
    "# `.search()` returns a match object if there is a match anywhere in the string\n",
    "# () --> Capture and group\n",
    "mo = re.search('h([io])p', my_string)"
   ]
  },
  {
   "cell_type": "code",
   "execution_count": 4,
   "metadata": {
    "slideshow": {
     "slide_type": "-"
    }
   },
   "outputs": [
    {
     "data": {
      "text/plain": [
       "'hip'"
      ]
     },
     "execution_count": 4,
     "metadata": {},
     "output_type": "execute_result"
    }
   ],
   "source": [
    "# group allows to pick out parts of the matching text\n",
    "# plain match.group() as below returns the whole match text\n",
    "mo.group() # executes h\"i\"p since [io] will match i or o and in my_string, 'hip' appears before 'hop'"
   ]
  },
  {
   "cell_type": "code",
   "execution_count": 5,
   "metadata": {
    "slideshow": {
     "slide_type": "-"
    }
   },
   "outputs": [
    {
     "data": {
      "text/plain": [
       "'i'"
      ]
     },
     "execution_count": 5,
     "metadata": {},
     "output_type": "execute_result"
    }
   ],
   "source": [
    "# The match groups: (group(0) is the same as group() --> returns entire match)\n",
    "# generally, this returns the first parenthesized subgroup, can be incremented to group(2) etc. for more nested subgroup searches\n",
    "mo.group(1) # only i is matched based on match condition specified ([io])"
   ]
  },
  {
   "cell_type": "markdown",
   "metadata": {
    "slideshow": {
     "slide_type": "slide"
    }
   },
   "source": [
    "<a id=\"regex-findall-method\"></a>\n",
    "### `regex`' `.findall()` Method"
   ]
  },
  {
   "cell_type": "code",
   "execution_count": 6,
   "metadata": {},
   "outputs": [
    {
     "data": {
      "text/plain": [
       "['hip', 'hip', 'hip', 'hip', 'hip']"
      ]
     },
     "execution_count": 6,
     "metadata": {},
     "output_type": "execute_result"
    }
   ],
   "source": [
    "# returns a list containing all matches\n",
    "# below matches ALL occurences of 'hip' in the string 'my_string' including as part of the word 'hippie'\n",
    "test = re.findall('hip', my_string)\n",
    "test"
   ]
  },
  {
   "cell_type": "code",
   "execution_count": 7,
   "metadata": {
    "slideshow": {
     "slide_type": "-"
    }
   },
   "outputs": [
    {
     "data": {
      "text/plain": [
       "['hip', 'hop', 'hip', 'hip', 'hip', 'hip', 'hop']"
      ]
     },
     "execution_count": 7,
     "metadata": {},
     "output_type": "execute_result"
    }
   ],
   "source": [
    "# matching all occurences of 'hip' + 'hop' in the sequence of their occurence in the string 'my_string'\n",
    "mo = re.findall('h[io]p', my_string)\n",
    "mo"
   ]
  },
  {
   "cell_type": "code",
   "execution_count": 8,
   "metadata": {
    "slideshow": {
     "slide_type": "-"
    }
   },
   "outputs": [
    {
     "data": {
      "text/plain": [
       "['i', 'o', 'i', 'i', 'i', 'i', 'o']"
      ]
     },
     "execution_count": 8,
     "metadata": {},
     "output_type": "execute_result"
    }
   ],
   "source": [
    "# returning capture groups with .findall specified within ()\n",
    "mo = re.findall('h([io])p', my_string)\n",
    "mo"
   ]
  },
  {
   "cell_type": "markdown",
   "metadata": {},
   "source": [
    "<a id=\"regex-findall-method\"></a>\n",
    "### `regex`' `.sub()` Method\n",
    "---\n",
    "\n",
    "`re.sub()` works like a *find and replace*. The syntax is as follows:\n",
    "\n",
    "`re.sub(regex, replacement, string_to_search)`\n",
    "\n",
    "where:\n",
    "- `regex` is the pattern match to find\n",
    "- `replacement` can either be a string or a lambda function that accepts a match object as a param\n",
    "- `string_to_search` is the source to perform the find and replacement like `my_string` above"
   ]
  },
  {
   "cell_type": "code",
   "execution_count": 9,
   "metadata": {},
   "outputs": [
    {
     "name": "stdout",
     "output_type": "stream",
     "text": [
      "string pre-replacement: The rain in Spain\n",
      "string post-replacement: The9rain9in9Spain\n"
     ]
    }
   ],
   "source": [
    "# let's see below example to Replace all white-space characters with the digit '9' in the string 'txt':\n",
    "# we introduced above that \\s can match whitespaces\n",
    "txt = \"The rain in Spain\"\n",
    "x = re.sub(\"\\s\", \"9\", txt)\n",
    "\n",
    "print(f'string pre-replacement: {txt}')\n",
    "print(f'string post-replacement: {x}')"
   ]
  },
  {
   "cell_type": "markdown",
   "metadata": {},
   "source": [
    "#### We can expand this to write more complex regex like in the Exercise here:\n",
    "\n",
    "Let's use `re.sub` to remove the params (everything after the ?) in the below url to transform the url:\n",
    "\n",
    "From:\n",
    "```python\n",
    "'https://www.google.com/search?q=data+science+jobs'\n",
    "```\n",
    "\n",
    "To:\n",
    "```python\n",
    "'https://www.google.com/search'\n",
    "```"
   ]
  },
  {
   "cell_type": "code",
   "execution_count": 10,
   "metadata": {},
   "outputs": [
    {
     "data": {
      "text/plain": [
       "'https://www.google.com/search'"
      ]
     },
     "execution_count": 10,
     "metadata": {},
     "output_type": "execute_result"
    }
   ],
   "source": [
    "sfrom = 'https://www.google.com/search?q=data+science+jobs'\n",
    "# for our regex, we introduced above that special characters like '?' needs to be escaped with '\\'\n",
    "# once the '?' has been located, we are doing what we introduced previously as 'greedy match' with '.*'\n",
    "# they will match for as many characters as possible\n",
    "\n",
    "sto = re.sub(\"\\?.*\", \"\", sfrom)\n",
    "sto"
   ]
  },
  {
   "cell_type": "markdown",
   "metadata": {},
   "source": [
    "#### Another Exercise example:\n",
    "---\n",
    "\n",
    "Use the `re.sub()` method to convert this string:\n",
    "\n",
    "```python\n",
    "'The-quick-brOwn_fox_juMped_over_The-lazy-dog'\n",
    "```\n",
    "\n",
    "Into camelcase:\n",
    "```python\n",
    "'theQuickBrownFoxJumpedOverTheLazyDog'\n",
    "```"
   ]
  },
  {
   "cell_type": "code",
   "execution_count": 11,
   "metadata": {},
   "outputs": [
    {
     "data": {
      "text/plain": [
       "'the-quick-brown_fox_jumped_over_the-lazy-dog'"
      ]
     },
     "execution_count": 11,
     "metadata": {},
     "output_type": "execute_result"
    }
   ],
   "source": [
    "txt = 'The-quick-brOwn_fox_juMped_over_The-lazy-dog'\n",
    "# multiple steps are required here, as we can see the capitalization is incorrect and,\n",
    "# there are special characters like dashes and underscores to be managed as well\n",
    "\n",
    "txt = re.sub(\"[A-Z]\", lambda x: x.group().lower(), txt) # first, match capital alphabets and convert to lower case\n",
    "txt"
   ]
  },
  {
   "cell_type": "code",
   "execution_count": 12,
   "metadata": {},
   "outputs": [
    {
     "data": {
      "text/plain": [
       "'the-Quick-Brown_Fox_Jumped_Over_The-Lazy-Dog'"
      ]
     },
     "execution_count": 12,
     "metadata": {},
     "output_type": "execute_result"
    }
   ],
   "source": [
    "txt = re.sub(\"(?<=[\\-\\_])\\w\", lambda x: x[0].upper(), txt) # next, selective capitalization on characters after -/_ to get camelcase output\n",
    "txt"
   ]
  },
  {
   "cell_type": "code",
   "execution_count": 13,
   "metadata": {},
   "outputs": [
    {
     "data": {
      "text/plain": [
       "'theQuickBrownFoxJumpedOverTheLazyDog'"
      ]
     },
     "execution_count": 13,
     "metadata": {},
     "output_type": "execute_result"
    }
   ],
   "source": [
    "txt = re.sub(\"[\\-\\_]\", \"\", txt) # finally, remove any dashes and underscores\n",
    "txt"
   ]
  },
  {
   "cell_type": "markdown",
   "metadata": {
    "slideshow": {
     "slide_type": "slide"
    }
   },
   "source": [
    "<a id=\"using-pandas\"></a>\n",
    "### Using `pandas`"
   ]
  },
  {
   "cell_type": "code",
   "execution_count": 14,
   "metadata": {
    "slideshow": {
     "slide_type": "-"
    }
   },
   "outputs": [
    {
     "data": {
      "text/plain": [
       "0     onefish\n",
       "1     twofish\n",
       "2     redfish\n",
       "3    bluefish\n",
       "dtype: object"
      ]
     },
     "execution_count": 14,
     "metadata": {},
     "output_type": "execute_result"
    }
   ],
   "source": [
    "import pandas as pd\n",
    "fish = pd.Series(['onefish', 'twofish','redfish', 'bluefish']) # defining a Series dtype\n",
    "fish"
   ]
  },
  {
   "cell_type": "markdown",
   "metadata": {
    "slideshow": {
     "slide_type": "slide"
    }
   },
   "source": [
    "<a id=\"strcontains\"></a>\n",
    "#### `str.contains`"
   ]
  },
  {
   "cell_type": "code",
   "execution_count": 15,
   "metadata": {
    "slideshow": {
     "slide_type": "-"
    }
   },
   "outputs": [
    {
     "data": {
      "text/plain": [
       "3    bluefish\n",
       "dtype: object"
      ]
     },
     "execution_count": 15,
     "metadata": {},
     "output_type": "execute_result"
    }
   ],
   "source": [
    "# Get all fish that start with \"b.\"\n",
    "fish[fish.str.contains('^b')] # '^' we introduced is an anchor to match 'start' "
   ]
  },
  {
   "cell_type": "markdown",
   "metadata": {
    "slideshow": {
     "slide_type": "slide"
    }
   },
   "source": [
    "<a id=\"strextract\"></a>\n",
    "#### `str.extract`"
   ]
  },
  {
   "cell_type": "code",
   "execution_count": 16,
   "metadata": {
    "slideshow": {
     "slide_type": "-"
    }
   },
   "outputs": [
    {
     "data": {
      "text/plain": [
       "0     one\n",
       "1     two\n",
       "2     red\n",
       "3    blue\n",
       "dtype: object"
      ]
     },
     "execution_count": 16,
     "metadata": {},
     "output_type": "execute_result"
    }
   ],
   "source": [
    "# `.extract()` maps capture groups to new Series.\n",
    "# below regex will do a 'greedy match' to capture whatever preceeds the word 'fish'\n",
    "fish.str.extract('(.*)fish', expand=False) # expand=True will return results in a 1 col df"
   ]
  },
  {
   "cell_type": "markdown",
   "metadata": {
    "jp-MarkdownHeadingCollapsed": true,
    "slideshow": {
     "slide_type": "slide"
    },
    "tags": []
   },
   "source": [
    "<a id=\"independent-practice\"></a>\n",
    "## Independent Practice\n",
    "_[optional: try during flextime]_\n",
    "\n",
    "---\n",
    "\n",
    "1. Load in the Titanic dataset from Kaggle (train.csv).\n",
    "2. Extract the title (Miss, Mr, Mme, etc) from the passenger's name into its own column"
   ]
  },
  {
   "cell_type": "code",
   "execution_count": 18,
   "metadata": {},
   "outputs": [
    {
     "data": {
      "text/plain": [
       "0        Mr\n",
       "1       Mrs\n",
       "2      Miss\n",
       "3       Mrs\n",
       "4        Mr\n",
       "5        Mr\n",
       "6        Mr\n",
       "7    Master\n",
       "8       Mrs\n",
       "9       Mrs\n",
       "Name: title, dtype: object"
      ]
     },
     "execution_count": 18,
     "metadata": {},
     "output_type": "execute_result"
    }
   ],
   "source": [
    "df = pd.read_csv('train.csv')\n",
    "df['title'] = df['Name'].str.extract('(\\w*(?=\\.))', expand=True)\n",
    "df['title'].head(10)"
   ]
  },
  {
   "cell_type": "code",
   "execution_count": 19,
   "metadata": {},
   "outputs": [
    {
     "name": "stdout",
     "output_type": "stream",
     "text": [
      "hello     there\n",
      "hello     there\n"
     ]
    }
   ],
   "source": [
    "print (re.sub(r'(\\b\\w+)(\\s+\\1\\b)+', r'\\1', 'hello     there      there'))\n",
    "print (re.sub('(\\\\b\\\\w+)(\\\\s+\\\\1\\\\b)+', '\\\\1', 'hello     there      there'))"
   ]
  },
  {
   "cell_type": "markdown",
   "metadata": {
    "slideshow": {
     "slide_type": "-"
    }
   },
   "source": [
    "<a id=\"extra-practice\"></a>\n",
    "### Extra Practice\n",
    "_[optional: try during flextime]_\n",
    "\n",
    "---\n",
    "\n",
    "Pull up the [Regex Golf](http://regex.alf.nu/) website and solve as many as you can!\n",
    "\n",
    "If you get bored, try [Regex Crossword](https://regexcrossword.com/)."
   ]
  },
  {
   "cell_type": "markdown",
   "metadata": {},
   "source": [
    "# Final Advice\n",
    "- Regex is one of those tools that you will occasionally need to use while working with text data.\n",
    "- Most of the time, you can directly google for the regex pattern of what you want to achieve and try out some examples from stackoverflow. \n",
    "- Like what we say in the 'The-quick-brOwn_fox_juMped_over_The-lazy-dog' example, you will get better results from google search if you can breakdown your task into smaller components and search for each component independently."
   ]
  },
  {
   "cell_type": "code",
   "execution_count": null,
   "metadata": {},
   "outputs": [],
   "source": []
  }
 ],
 "metadata": {
  "anaconda-cloud": {},
  "celltoolbar": "Slideshow",
  "kernelspec": {
   "display_name": "Python 3",
   "language": "python",
   "name": "python3"
  },
  "language_info": {
   "codemirror_mode": {
    "name": "ipython",
    "version": 3
   },
   "file_extension": ".py",
   "mimetype": "text/x-python",
   "name": "python",
   "nbconvert_exporter": "python",
   "pygments_lexer": "ipython3",
   "version": "3.8.8"
  }
 },
 "nbformat": 4,
 "nbformat_minor": 4
}
