{
 "cells": [
  {
   "cell_type": "markdown",
   "metadata": {},
   "source": [
    "<img src=\"http://imgur.com/1ZcRyrc.png\" style=\"float: left; margin: 20px; height: 55px\">\n",
    "\n",
    "# Regression Metrics\n",
    "\n",
    "_Authors:_ Tim Book, Matt Brems, Riley Dallas, Noelle Brown, Dan Wilhelm\n",
    "\n",
    "\n",
    "> All models are wrong, but some are useful.\n",
    ">\n",
    "> -- <cite>George EP Box</cite>"
   ]
  },
  {
   "cell_type": "markdown",
   "metadata": {},
   "source": [
    "Today, we'll look at metrics. A metric allows us to state precisely how well our model is performing. \n",
    "\n",
    "> We've already seen a metric -- the Sum of Squared Errors (SSE)!\n",
    "\n",
    "You can consider a metric to be a distance function -- it measures how far away our predictions are from the actual targets.\n",
    "\n",
    "\n",
    "### What is a metric?\n",
    "\n",
    "A metric is a distance function! It is used to give us a numerical measure of our model's performance.\n",
    "\n",
    "Metrics have a mathematical definition. Given some set $X$, a distance function $d$ maps any two elements $x, y \\in X$ to a real number. The distance function $d$ must satisfy:\n",
    "1. $d(x, y) \\geq 0$.\n",
    "2. $d(x, y) = 0$ if and only if $x = y$.\n",
    "3. $d(x, y) = d(y, x)$.\n",
    "4. $d(x, y) \\leq d(x, z) + d(z, y)$, for any $z \\in X$.\n",
    "\n",
    "In this class, $x, y, z$ are usually vectors of real numbers. However, we will see examples later in the class where they can be other things, such as sets of words in an email.\n",
    "\n",
    "---\n",
    "\n",
    "### What is a loss function?\n",
    "\n",
    "A loss function is often a metric. It is used along with an optimization algorithm to determine a \"good\" set of parameter values. Most optimization algorithms require the loss function to be differentiable.\n",
    "\n",
    "> Be careful! In machine learning, you will see the loss function referred to variously as **cost function**, **scoring function**, **evaluation function**, **objective function**, and **entropy function**. These all refer to the same thing -- they measure how far our predictions are from the actual values.\n",
    "\n",
    "\n",
    "<details><summary>QUESTION: The Sum of Squared Errors (SSE) is a metric. Assuming the predictive model is differentiable, can we use it as a loss function?\n",
    "    \n",
    "$$SSE = \\sum_{i=1}^N{(\\hat{y}(x_i) - y_i)^2}.$$</summary>\n",
    "\n",
    "Yes! The sum of squared terms is differentiable, so it would be a good choice for optimization. In fact, SSE is a very common loss function in regression problems -- even for neural networks.\n",
    "    \n",
    "</details>\n",
    "\n",
    "---"
   ]
  },
  {
   "cell_type": "markdown",
   "metadata": {},
   "source": [
    "## Example -- Distance between emails as a metric\n",
    "\n",
    "Metrics are anything that measures distance. So, they do not have to be differentiable!\n",
    "\n",
    "For example, suppose we want to know how similar two emails are. Supposing each email is a non-empty _set_ of words (i.e. there are no duplicates), we propose the following metric:\n",
    "\n",
    "$$d(\\text{email}_1, \\text{email}_2) = 1 - \\frac{\\text{# words in common}}{\\text{# total words}}$$\n",
    "\n",
    "This is effectively a \"distance\" between two sets of words! It is called the [Jaccard distance](https://en.wikipedia.org/wiki/Jaccard_index).\n",
    "\n",
    "- $\\text{email}_1 = \\{\\text{the, meeting, is, today}\\}$.\n",
    "- $\\text{email}_2 = \\{\\text{the, prince, will, see, you}\\}$.\n",
    "- Then: $d(\\text{email}_1, \\text{email}_2) = 1 - \\frac{\\text{# words in common}}{\\text{# total words}} = 1 - \\frac{1}{8} = \\frac{7}{8}$, i.e. they are far apart.\n",
    "\n",
    "\n",
    "<details><summary>QUESTION: The Jaccard distance is a metric. Can we also use it as a loss function?</summary>\n",
    "\n",
    "No -- at least not easily! It is a function, but it is definitely not differentiable.\n",
    "    \n",
    "</details>"
   ]
  },
  {
   "cell_type": "code",
   "execution_count": 6,
   "metadata": {},
   "outputs": [
    {
     "data": {
      "text/plain": [
       "0.33333333333333337"
      ]
     },
     "execution_count": 6,
     "metadata": {},
     "output_type": "execute_result"
    }
   ],
   "source": [
    "# Can you calculate the Jaccard distance using Python?\n",
    "\n",
    "# How similar are these users, based on their brand preferences?\n",
    "user1 = {'nike', 'adidas', 'starbucks'}\n",
    "user2 = {'nike', 'adidas'}\n",
    "\n",
    "# What is the Jaccard distance between user1 and user2?\n",
    "# -- Hint: Use the set intersection() and union() functions!\n",
    "1-len(user1.intersection(user2))/len(user1.union(user2))"
   ]
  },
  {
   "cell_type": "markdown",
   "metadata": {},
   "source": [
    "---\n",
    "\n",
    "## Example -- Euclidean distance is a metric\n",
    "\n",
    "![](./imgs/pythagoras-theorem.gif)\n",
    "\n",
    "Let's take a look at a classic distance function -- the Euclidean distance. Don't be scared by the word _Euclidean_ -- this just indicates the geometry of the world around us!  Euclid wrote the math textbook \"The Elements,\" the second-most widely printed book after the Bible.\n",
    "\n",
    "> We will use a different notation from grade-school math. First, $\\mathbb{R}^2$ refers to the set of all pairs of real numbers, i.e. two-dimensional points, or tuples. So, $x \\in \\mathbb{R}^2$ refers to a tuple $(x_1, x_2)$ and $y \\in \\mathbb{R}^2$ refers to a tuple $(y_1, y_2)$. \n",
    "\n",
    "> We write them in this way because each tuple will have millions of components later in this class. We can then easily write e.g. $(x_1, x_2, x_3, \\cdots, x_{1000})$! We would quickly run out of letters if we use the grade-school notation $(x, y, z)$.\n",
    "\n",
    "Let's start with 2-D points. Suppose we have two-dimensional points $x, y \\in \\mathbb{R}^2$. Using the Pythagorean Theorem, we can prove that the Euclidean distance between $x$ and $y$ is:\n",
    "\n",
    "$$d(x, y) = \\sqrt{(x_1 - y_1)^2 + (x_2 - y_2)^2}.$$\n",
    "\n",
    "By applying the Pythagorean Theorem once more, we discover a similar function for three-dimensional points $x, y \\in \\mathbb{R}^3$:\n",
    "\n",
    "$$d(x, y) = \\sqrt{(x_1 - y_1)^2 + (x_2 - y_2)^2 + (x_3 - y_3)^2}.$$\n",
    "\n",
    "Seeing a pattern, we then define the Euclidean distance for N-dimensional points $x, y \\in \\mathbb{R}^N$:\n",
    "\n",
    "$$d(x, y) := \\sqrt{\\sum_{i=1}^N{(x_i - y_i)^2}}.$$\n",
    "\n",
    "<details><summary>QUESTION: What is the relationship between $d, x, y$ and Sum of Squared Errors?</summary>\n",
    "    \n",
    "- Let $x$ be a vector of predicted values.\n",
    "- Let $y$ be a vector of actual values.\n",
    "- Then, $d^2(x, y)$ is the SSE. \n",
    "    \n",
    "So, the SSE is the squared distance between the two vectors!\n",
    "</details>\n",
    "\n",
    "<details><summary>QUESTION: What is the relationship between $d, x, y$ and the population variance?</summary>\n",
    "\n",
    "- Let $x$ be any vector of real numbers, where $N = |x|$.\n",
    "- Let $y$ be the mean of $x$ repeated $N$ times.\n",
    "- Then, $d^2(x, y)/N$ is the variance of $x$!\n",
    "</details>"
   ]
  },
  {
   "cell_type": "code",
   "execution_count": 10,
   "metadata": {},
   "outputs": [],
   "source": [
    "import numpy as np"
   ]
  },
  {
   "cell_type": "code",
   "execution_count": 8,
   "metadata": {},
   "outputs": [
    {
     "data": {
      "text/plain": [
       "[(4, 3), (18, 3), (9, 8), (2, 1), (7, 8)]"
      ]
     },
     "execution_count": 8,
     "metadata": {},
     "output_type": "execute_result"
    }
   ],
   "source": [
    "# Can you calculate the distance between x and y using Python?\n",
    "\n",
    "x = (4, 18, 9, 2, 7)\n",
    "y = (3, 3, 8, 1, 8)\n",
    "\n",
    "# TODO - Can you use a list comprehension?\n",
    "list(zip(x,y))"
   ]
  },
  {
   "cell_type": "code",
   "execution_count": 12,
   "metadata": {},
   "outputs": [
    {
     "data": {
      "text/plain": [
       "15.132745950421556"
      ]
     },
     "execution_count": 12,
     "metadata": {},
     "output_type": "execute_result"
    }
   ],
   "source": [
    "# Can you calculate the distance between x and y using numpy?\n",
    "\n",
    "x = np.array([4, 18, 9, 2, 7])\n",
    "y = np.array([3, 3, 8, 1, 8])\n",
    "\n",
    "# TODO - Can you do it in one line using vectorization?\n",
    "(sum((xi - yi)**2 for xi, yi in zip(x, y)))**0.5"
   ]
  },
  {
   "cell_type": "markdown",
   "metadata": {},
   "source": [
    "# Why do metrics matter?\n",
    "---\n",
    "\n",
    "Nearly all models require use of a metric to assess our performance.\n",
    "- For example: linear regression, logistic regression, and neural networks.\n",
    "\n",
    "Many algorithms work by finding the \"nearest\" points.\n",
    "- For example: k-Nearest Neighbors, clustering, and recommendation systems.\n"
   ]
  },
  {
   "cell_type": "markdown",
   "metadata": {},
   "source": [
    "# How are loss functions used?\n",
    "---\n",
    "\n",
    "Over the next few weeks, we will use the same process for nearly every (parametric) model. We will choose an equation, a loss function, and an optimization algorithm.\n",
    "\n",
    "For example, for multiple linear regression:\n",
    "\n",
    "- Model: $\\hat{y} = \\beta_0 + \\beta_1x_1 + \\cdots + \\beta_Nx_N$\n",
    "- Loss Function: $SSE = \\sum_{i=1}^N{(\\hat{y}_i - y_i)^2}$\n",
    "- \"Optimization Algorithm\": Linear Algebra (direct solution)\n",
    "\n",
    "For the same model, we could have made other (less common) choices:\n",
    "\n",
    "- Model: $\\hat{y} = \\beta_0 + \\beta_1x_1 + \\cdots + \\beta_Nx_N$\n",
    "- Loss Function: $E = SSE + \\alpha\\sum_{i=1}^N{\\beta^2}$ (SSE with regularization)\n",
    "- Optimization Algorithm: Gradient Descent\n",
    "\n",
    "This same framework is even used with neural networks:\n",
    "- Model: $\\hat{y} = \\sigma(\\sigma(\\frac{1}{1 + e^{-(x_1+\\cdots+x_N)}} + \\cdots) + \\cdots)$, for a non-linear function $\\sigma$.\n",
    "- Loss Function: $E = SSE + \\alpha\\sum_{i=1}^N{\\beta^2}$ (SSE with regularization)\n",
    "- Optimization Algorithm: Gradient Descent"
   ]
  },
  {
   "cell_type": "code",
   "execution_count": 13,
   "metadata": {},
   "outputs": [],
   "source": [
    "# standard imports\n",
    "import pandas as pd\n",
    "import numpy as np\n",
    "import matplotlib.pyplot as plt\n",
    "\n",
    "# modeling imports\n",
    "from sklearn import metrics\n",
    "from sklearn.linear_model import LinearRegression"
   ]
  },
  {
   "cell_type": "markdown",
   "metadata": {},
   "source": [
    "## Load the Data\n",
    "---\n",
    "\n",
    "Today's dataset (`Advertising.csv`) is from the [ISLR](https://faculty.marshall.usc.edu/gareth-james/ISL/data.html) website.\n",
    "\n",
    "Drop `\"Unnamed: 0\"` once you've loaded the CSV into a DataFrame."
   ]
  },
  {
   "cell_type": "code",
   "execution_count": 14,
   "metadata": {},
   "outputs": [
    {
     "data": {
      "text/html": [
       "<div>\n",
       "<style scoped>\n",
       "    .dataframe tbody tr th:only-of-type {\n",
       "        vertical-align: middle;\n",
       "    }\n",
       "\n",
       "    .dataframe tbody tr th {\n",
       "        vertical-align: top;\n",
       "    }\n",
       "\n",
       "    .dataframe thead th {\n",
       "        text-align: right;\n",
       "    }\n",
       "</style>\n",
       "<table border=\"1\" class=\"dataframe\">\n",
       "  <thead>\n",
       "    <tr style=\"text-align: right;\">\n",
       "      <th></th>\n",
       "      <th>Unnamed: 0</th>\n",
       "      <th>TV</th>\n",
       "      <th>radio</th>\n",
       "      <th>newspaper</th>\n",
       "      <th>sales</th>\n",
       "    </tr>\n",
       "  </thead>\n",
       "  <tbody>\n",
       "    <tr>\n",
       "      <th>0</th>\n",
       "      <td>1</td>\n",
       "      <td>230.1</td>\n",
       "      <td>37.8</td>\n",
       "      <td>69.2</td>\n",
       "      <td>22.1</td>\n",
       "    </tr>\n",
       "    <tr>\n",
       "      <th>1</th>\n",
       "      <td>2</td>\n",
       "      <td>44.5</td>\n",
       "      <td>39.3</td>\n",
       "      <td>45.1</td>\n",
       "      <td>10.4</td>\n",
       "    </tr>\n",
       "    <tr>\n",
       "      <th>2</th>\n",
       "      <td>3</td>\n",
       "      <td>17.2</td>\n",
       "      <td>45.9</td>\n",
       "      <td>69.3</td>\n",
       "      <td>9.3</td>\n",
       "    </tr>\n",
       "    <tr>\n",
       "      <th>3</th>\n",
       "      <td>4</td>\n",
       "      <td>151.5</td>\n",
       "      <td>41.3</td>\n",
       "      <td>58.5</td>\n",
       "      <td>18.5</td>\n",
       "    </tr>\n",
       "    <tr>\n",
       "      <th>4</th>\n",
       "      <td>5</td>\n",
       "      <td>180.8</td>\n",
       "      <td>10.8</td>\n",
       "      <td>58.4</td>\n",
       "      <td>12.9</td>\n",
       "    </tr>\n",
       "  </tbody>\n",
       "</table>\n",
       "</div>"
      ],
      "text/plain": [
       "   Unnamed: 0     TV  radio  newspaper  sales\n",
       "0           1  230.1   37.8       69.2   22.1\n",
       "1           2   44.5   39.3       45.1   10.4\n",
       "2           3   17.2   45.9       69.3    9.3\n",
       "3           4  151.5   41.3       58.5   18.5\n",
       "4           5  180.8   10.8       58.4   12.9"
      ]
     },
     "execution_count": 14,
     "metadata": {},
     "output_type": "execute_result"
    }
   ],
   "source": [
    "# bring in advertising data\n",
    "ads = pd.read_csv('./datasets/Advertising.csv')\n",
    "ads.head()"
   ]
  },
  {
   "cell_type": "code",
   "execution_count": 15,
   "metadata": {},
   "outputs": [],
   "source": [
    "# drop Unnamed: 0 column\n",
    "ads = ads.drop(columns='Unnamed: 0')"
   ]
  },
  {
   "cell_type": "markdown",
   "metadata": {},
   "source": [
    "## Data Cleaning\n",
    "---\n",
    "\n",
    "Run the following checks in the cells provided:\n",
    "\n",
    "- Are there any null values (`NaN`)?\n",
    "- Are there any corrupted columns?\n",
    "\n"
   ]
  },
  {
   "cell_type": "code",
   "execution_count": 16,
   "metadata": {},
   "outputs": [
    {
     "data": {
      "text/plain": [
       "TV           0\n",
       "radio        0\n",
       "newspaper    0\n",
       "sales        0\n",
       "dtype: int64"
      ]
     },
     "execution_count": 16,
     "metadata": {},
     "output_type": "execute_result"
    }
   ],
   "source": [
    "# Check for nulls\n",
    "ads.isnull().sum()"
   ]
  },
  {
   "cell_type": "code",
   "execution_count": 17,
   "metadata": {},
   "outputs": [
    {
     "data": {
      "text/plain": [
       "TV           float64\n",
       "radio        float64\n",
       "newspaper    float64\n",
       "sales        float64\n",
       "dtype: object"
      ]
     },
     "execution_count": 17,
     "metadata": {},
     "output_type": "execute_result"
    }
   ],
   "source": [
    "# Check datatypes for any corrupted columns\n",
    "ads.dtypes"
   ]
  },
  {
   "cell_type": "markdown",
   "metadata": {},
   "source": [
    "## Create our feature matrix (`X`) and target vector (`y`)\n",
    "---\n",
    "\n",
    "The following columns will be our features:\n",
    "\n",
    "- `'TV'`\n",
    "- `'radio'`\n",
    "- `'newspaper'`\n",
    "\n",
    "The `sales` column is our label: the column we're trying to predict.\n",
    "\n",
    "In the cell below, create your `X` and `y` variables."
   ]
  },
  {
   "cell_type": "code",
   "execution_count": 18,
   "metadata": {},
   "outputs": [
    {
     "name": "stdout",
     "output_type": "stream",
     "text": [
      "X:  (200, 3)\n",
      "y:  (200,)\n"
     ]
    }
   ],
   "source": [
    "# create X and y\n",
    "FEATURES = ['TV', 'radio', 'newspaper']\n",
    "\n",
    "X = ads[FEATURES]\n",
    "y = ads['sales'].values\n",
    "\n",
    "# Verify dimensions\n",
    "print('X: ', X.shape)\n",
    "print('y: ', y.shape)"
   ]
  },
  {
   "cell_type": "markdown",
   "metadata": {},
   "source": [
    "## Linear Regression model\n",
    "---\n",
    "\n",
    "In the cell below, create an instance of `LinearRegression`."
   ]
  },
  {
   "cell_type": "code",
   "execution_count": 19,
   "metadata": {},
   "outputs": [],
   "source": [
    "# instantiate\n",
    "lr = LinearRegression()"
   ]
  },
  {
   "cell_type": "markdown",
   "metadata": {},
   "source": [
    "## Fitting the model\n",
    "---\n",
    "\n",
    "The `.fit()` method is how our model will learn the coefficients for each of the features (`'TV'`, `'radio'` and `'newspaper'`).\n",
    "\n",
    "Once it's fit, you can see the bias (aka intercept) and coefficients are by running:\n",
    "\n",
    "```python\n",
    "model.coef_\n",
    "model.intercept_\n",
    "```"
   ]
  },
  {
   "cell_type": "code",
   "execution_count": 20,
   "metadata": {},
   "outputs": [
    {
     "data": {
      "text/plain": [
       "LinearRegression()"
      ]
     },
     "execution_count": 20,
     "metadata": {},
     "output_type": "execute_result"
    }
   ],
   "source": [
    "# fit\n",
    "lr.fit(X, y)"
   ]
  },
  {
   "cell_type": "code",
   "execution_count": 21,
   "metadata": {},
   "outputs": [
    {
     "data": {
      "text/plain": [
       "array([ 0.04576465,  0.18853002, -0.00103749])"
      ]
     },
     "execution_count": 21,
     "metadata": {},
     "output_type": "execute_result"
    }
   ],
   "source": [
    "# coefficients\n",
    "lr.coef_"
   ]
  },
  {
   "cell_type": "code",
   "execution_count": 22,
   "metadata": {},
   "outputs": [
    {
     "data": {
      "text/plain": [
       "2.9388893694594085"
      ]
     },
     "execution_count": 22,
     "metadata": {},
     "output_type": "execute_result"
    }
   ],
   "source": [
    "# y intercept\n",
    "lr.intercept_"
   ]
  },
  {
   "cell_type": "markdown",
   "metadata": {},
   "source": [
    "## Interpreting Slopes"
   ]
  },
  {
   "cell_type": "code",
   "execution_count": 23,
   "metadata": {},
   "outputs": [
    {
     "data": {
      "text/plain": [
       "TV           0.045765\n",
       "radio        0.188530\n",
       "newspaper   -0.001037\n",
       "dtype: float64"
      ]
     },
     "execution_count": 23,
     "metadata": {},
     "output_type": "execute_result"
    }
   ],
   "source": [
    "pd.Series(lr.coef_, index=FEATURES)"
   ]
  },
  {
   "cell_type": "markdown",
   "metadata": {},
   "source": [
    "## Making predictions\n",
    "---\n",
    "\n",
    "To get predictions from our model, all we have to do is run `.predict(X_to_predict)`. This will return a list (`np` array) of predictions, one for each row in our `X_to_predict`. Normally you'll use this method for making predictions on unseen data, but today we'll be evaluating the data that was fed into the model during `.fit()`."
   ]
  },
  {
   "cell_type": "code",
   "execution_count": 24,
   "metadata": {},
   "outputs": [
    {
     "data": {
      "text/plain": [
       "(array([22.1, 10.4,  9.3, 18.5, 12.9]),\n",
       " array([20.52397441, 12.33785482, 12.30767078, 17.59782951, 13.18867186]))"
      ]
     },
     "execution_count": 24,
     "metadata": {},
     "output_type": "execute_result"
    }
   ],
   "source": [
    "# get predictions from our X data\n",
    "predictions = lr.predict(X)\n",
    "\n",
    "y[:5], predictions[:5]"
   ]
  },
  {
   "cell_type": "markdown",
   "metadata": {},
   "source": [
    "---\n",
    "\n",
    "## Back to Metrics!\n",
    "\n",
    "Now that we've computed some predictions, let's understand the rationale behind why Mean Squared Error is so commonly used as a metric and loss function."
   ]
  },
  {
   "cell_type": "markdown",
   "metadata": {},
   "source": [
    "## Sum Squared Error (SSE)\n",
    "---\n",
    "\n",
    "$$SSE = \\sum_{i=1}^n(y_i - \\hat{y}_i)^2$$\n",
    "\n",
    "SSE forms the basis for several loss/optimization functions that we'll cover next:\n",
    "\n",
    "- Mean squared error (MSE)\n",
    "- Root mean squared error (RMSE)\n",
    "- R2\n",
    "\n",
    "> **NOTE:** Depending on what corner of the internet you're in, the SSE goes by many different names. Some common names are the **residual sum of squares (RSS)** and **total sum of squares (TSE)**. However, some other sources abbreviate something else RSS. Be careful!\n",
    "\n",
    "<details><summary>QUESTION: Can you think of a reason why NOT to use this as a metric?</summary>\n",
    "\n",
    "Its value is dependent on the number of data points! So we cannot use it to reliably compare between two datasets, e.g. our training and test sets.\n",
    "    \n",
    "</details>"
   ]
  },
  {
   "cell_type": "code",
   "execution_count": 26,
   "metadata": {},
   "outputs": [
    {
     "name": "stdout",
     "output_type": "stream",
     "text": [
      "556.8252629021872\n"
     ]
    }
   ],
   "source": [
    "# Calculate SSE by hand\n",
    "SSE = np.sum((y-predictions)**2)\n",
    "print(SSE)"
   ]
  },
  {
   "cell_type": "markdown",
   "metadata": {},
   "source": [
    "## Mean Squared Error (MSE)\n",
    "---\n",
    "\n",
    "$$MSE = \\frac{1}{n}\\sum_{i=1}^n(y_i-\\hat{y}_i)^2$$\n",
    "\n",
    "Goal: Get $MSE$ as close to 0 as possible.\n",
    "\n",
    "Pros: \n",
    "- Very common; part of other calculations.\n",
    "- Represents average distance squared from the predicted value.\n",
    "- Punishes outliers severely.\n",
    "- Coincides directly with the metric used to fit OLS model.\n",
    "\n",
    "Cons: \n",
    "- Can be heavily affected by outliers.\n",
    "- Not in the original units of $Y$.\n",
    "- Depends on scale of $Y$. (i.e. housing prices vs. GPA)\n",
    "- Uninterpretable to humans"
   ]
  },
  {
   "cell_type": "code",
   "execution_count": 31,
   "metadata": {},
   "outputs": [
    {
     "name": "stdout",
     "output_type": "stream",
     "text": [
      "2.784126314510936\n"
     ]
    }
   ],
   "source": [
    "# MSE by hand\n",
    "MSE = np.mean((y-predictions)**2)\n",
    "print(MSE)"
   ]
  },
  {
   "cell_type": "code",
   "execution_count": 28,
   "metadata": {},
   "outputs": [
    {
     "data": {
      "text/plain": [
       "2.784126314510936"
      ]
     },
     "execution_count": 28,
     "metadata": {},
     "output_type": "execute_result"
    }
   ],
   "source": [
    "# MSE using sklearn\n",
    "metrics.mean_squared_error(y, predictions)"
   ]
  },
  {
   "cell_type": "markdown",
   "metadata": {},
   "source": [
    "## Root Mean Squared Error (RMSE)\n",
    "---\n",
    "\n",
    "$$RMSE = \\sqrt{\\frac{1}{n}\\sum_{i=1}^n(y_i-\\hat{y}_i)^2}$$\n",
    "\n",
    "Goal: Get $RMSE$ as close to 0 as possible.\n",
    "\n",
    "Pros: \n",
    "- Pretty common.\n",
    "- Represents (approximately) average distance from the predicted value.\n",
    "    - Looks similar to standard deviation.\n",
    "- In the original units of $Y$.\n",
    "\n",
    "Cons: \n",
    "- Can be heavily affected by outliers.\n",
    "- Depends on scale of $Y$. (i.e. housing prices vs. GPA)\n",
    "- Only a _little_ interpretable."
   ]
  },
  {
   "cell_type": "code",
   "execution_count": 30,
   "metadata": {},
   "outputs": [
    {
     "name": "stdout",
     "output_type": "stream",
     "text": [
      "1.6685701407225697\n"
     ]
    }
   ],
   "source": [
    "# RMSE\n",
    "RSE = (np.mean((y-predictions)**2))**0.5\n",
    "print(RSE)\n",
    "\n",
    "# or np.sqrt(metrics.mean_sqaured_error(y, predictions))"
   ]
  },
  {
   "cell_type": "markdown",
   "metadata": {},
   "source": [
    "## Mean Absolute Error (MAE)\n",
    "---\n",
    "\n",
    "$$MAE = \\frac{1}{n}\\sum_{i=1}^n(|y_i-\\hat{y}_i|)$$\n",
    "\n",
    "Goal: Get MAE as close to 0 as possible.\n",
    "\n",
    "Pros: \n",
    "- Represents mean distance from the predicted value.\n",
    "- In the original units of $Y$. \n",
    "- Is not heavily affected by outliers.\n",
    "\n",
    "Cons: \n",
    "- Depends on scale of $Y$. (i.e. housing prices vs. GPA)\n",
    "- Punishes all errors with same \"severity\".\n",
    "- Cannot be easily used as a loss function, since it is non-differentiable."
   ]
  },
  {
   "cell_type": "code",
   "execution_count": 36,
   "metadata": {},
   "outputs": [
    {
     "name": "stdout",
     "output_type": "stream",
     "text": [
      "1.252011229687068\n"
     ]
    }
   ],
   "source": [
    "# Calcuate MAE by hand\n",
    "MAE = np.mean(abs(y-predictions))\n",
    "print(MAE)"
   ]
  },
  {
   "cell_type": "code",
   "execution_count": 34,
   "metadata": {},
   "outputs": [
    {
     "data": {
      "text/plain": [
       "1.252011229687068"
      ]
     },
     "execution_count": 34,
     "metadata": {},
     "output_type": "execute_result"
    }
   ],
   "source": [
    "# Via sklearn.metrics\n",
    "metrics.mean_absolute_error(y, predictions)"
   ]
  },
  {
   "cell_type": "markdown",
   "metadata": {},
   "source": [
    "## Coefficient of Determination, $R^2$\n",
    "---\n",
    "\n",
    "$$R^2 = \\frac{\\text{Explained Variance}}{\\text{Total Variance}} = 1 - \\frac{\\text{Model Error}}{\\text{Total Variance}} = 1 - \\frac{\\sum_{i=1}^n(y_i - \\hat{y}_i)^2}{\\sum_{i=1}^n(y_i - \\bar{y})^2}$$\n",
    "\n",
    "Goal: Get $R^2$ as close to 1 as possible.\n",
    "\n",
    "> - score = 0: Model explains none of the variability of the response data around its mean.\n",
    "> - score = 1: Model explains all the variability of the response data around its mean.\n",
    "\n",
    "Pros:\n",
    "- Easy interpretation. \"An $R^2$ value of 0.8 means that 80% of the variability in _y_ is explained by the _x_-variables in our model.\"\n",
    "- Common metric.\n",
    "- Does not depend on the scale of $Y$.\n",
    "- Works with more than just _linear_ regression.\n",
    "\n",
    "Cons:\n",
    "- As you add more variables, $R^2$ will never decrease (with linear regression). [Adjusted $R^2$](https://www.statisticshowto.com/adjusted-r2/) can handle this assumption better.\n",
    "- **ONLY INTERPRETABLE WITH LINEAR REGRESSION!**\n",
    "- Outside linear regression values outside 0 and 1 are possible.\n",
    "\n",
    "> Are low $R^2$ scores bad?\n",
    ">\n",
    "> I'm glad you asked! Not everything in regression is about getting the best predictions. In some fields, such as human behavior, you would expect to achieve scores much lower then 50\\%! For inference, perhaps 0.3 is enough to measure an effect! Yes, there is more to machine learning than prediction. Inference can be the goal as well!\n",
    "\n",
    "[Documentation](http://scikit-learn.org/stable/modules/generated/sklearn.metrics.r2_score.html#sklearn.metrics.r2_score)"
   ]
  },
  {
   "cell_type": "code",
   "execution_count": 37,
   "metadata": {},
   "outputs": [],
   "source": [
    "# Null prediction\n",
    "null_prediction = np.mean(y)"
   ]
  },
  {
   "cell_type": "code",
   "execution_count": 38,
   "metadata": {},
   "outputs": [],
   "source": [
    "# Null residuals\n",
    "null_residuals = y - null_prediction"
   ]
  },
  {
   "cell_type": "code",
   "execution_count": 41,
   "metadata": {},
   "outputs": [],
   "source": [
    "# Null sum of squares\n",
    "null_ss = np.sum((null_residuals ** 2))"
   ]
  },
  {
   "cell_type": "code",
   "execution_count": 43,
   "metadata": {},
   "outputs": [
    {
     "data": {
      "text/plain": [
       "0.8972106381789522"
      ]
     },
     "execution_count": 43,
     "metadata": {},
     "output_type": "execute_result"
    }
   ],
   "source": [
    "# R2 by hand\n",
    "1 - SSE/null_ss"
   ]
  },
  {
   "cell_type": "code",
   "execution_count": 44,
   "metadata": {},
   "outputs": [
    {
     "ename": "AttributeError",
     "evalue": "module 'sklearn.metrics' has no attribute 'r_squared'",
     "output_type": "error",
     "traceback": [
      "\u001b[1;31m---------------------------------------------------------------------------\u001b[0m",
      "\u001b[1;31mAttributeError\u001b[0m                            Traceback (most recent call last)",
      "\u001b[1;32m<ipython-input-44-bd73e6cbc74f>\u001b[0m in \u001b[0;36m<module>\u001b[1;34m\u001b[0m\n\u001b[0;32m      1\u001b[0m \u001b[1;31m# R2 from sklearn\u001b[0m\u001b[1;33m\u001b[0m\u001b[1;33m\u001b[0m\u001b[1;33m\u001b[0m\u001b[0m\n\u001b[1;32m----> 2\u001b[1;33m \u001b[0mmetrics\u001b[0m\u001b[1;33m.\u001b[0m\u001b[0mr_squared\u001b[0m\u001b[1;33m(\u001b[0m\u001b[0my\u001b[0m\u001b[1;33m,\u001b[0m \u001b[0mpredictions\u001b[0m\u001b[1;33m)\u001b[0m\u001b[1;33m\u001b[0m\u001b[1;33m\u001b[0m\u001b[0m\n\u001b[0m",
      "\u001b[1;31mAttributeError\u001b[0m: module 'sklearn.metrics' has no attribute 'r_squared'"
     ]
    }
   ],
   "source": [
    "# R2 from sklearn\n",
    "metrics.r_squared(y, predictions)"
   ]
  },
  {
   "cell_type": "code",
   "execution_count": null,
   "metadata": {},
   "outputs": [],
   "source": [
    "# R2 from model\n"
   ]
  }
 ],
 "metadata": {
  "kernelspec": {
   "display_name": "Python 3",
   "language": "python",
   "name": "python3"
  },
  "language_info": {
   "codemirror_mode": {
    "name": "ipython",
    "version": 3
   },
   "file_extension": ".py",
   "mimetype": "text/x-python",
   "name": "python",
   "nbconvert_exporter": "python",
   "pygments_lexer": "ipython3",
   "version": "3.8.8"
  }
 },
 "nbformat": 4,
 "nbformat_minor": 4
}
