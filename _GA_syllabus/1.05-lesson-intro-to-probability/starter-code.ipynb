{
 "cells": [
  {
   "cell_type": "markdown",
   "metadata": {},
   "source": [
    "<img src=\"http://imgur.com/1ZcRyrc.png\" style=\"float: left; margin: 20px; height: 55px\">\n",
    "\n",
    "# Intro to Probability\n",
    "\n",
    "---\n",
    "\n",
    "\n",
    "## Learning Objectives\n",
    "\n",
    "- Define experiment, outcome, event, and sample space.\n",
    "- Calculate the union and intersection of sets.\n",
    "- Apply three probability rules.\n",
    "- Solve probability problems using simulations.\n",
    "\n",
    "## Probability Problems\n",
    "\n",
    "We often interpret probability like frequency.\n",
    "- If I run an experiment over and over again and one event (call it $A$) occurs frequently, we might say that $P(A)$ is quite high.\n",
    "- If I run an experiment over and over again and one event $A$ occurs infrequently, we might say that the probability of $A$ is low.\n",
    "\n",
    "We can make this idea a bit more formal by assuming we can repeat an experiment a theoretically infinite number of times. Written out mathematically, this is:\n",
    "\n",
    "$$\n",
    "P(A) = \\lim_{n \\rightarrow \\infty} \\frac{\\text{number of times A occurs}}{n}\n",
    "$$\n",
    "\n",
    "If you're not familiar with limits, that's okay! \n",
    "- The idea is that while we can't actually run the experiment an infinite number of times, if we ran the experiment 1,000 times, then 1,000,000 times, then 1,000,000,000 times, can we get an understanding of what $P(A)$ is?\n",
    "- Limits are fundamentally important to *how* lots of machine learning and statistics work, but we're almost always able to do our work without getting into the weeds.\n",
    "\n",
    "In many cases, we can find probabilities exactly by hand... but that quickly gets complicated. Instead, let's *estimate* $P(A)$ by leveraging Python to run some large number of experiments and seeing how frequently $A$ occurs:\n",
    "\n",
    "$$\n",
    "P(A) \\approx \\frac{\\text{number of times A occurs}}{n}\n",
    "$$\n",
    "\n",
    "If we \"run our experiment\" for some large number of trials $n$, then our estimated probability should be pretty close to the true probability!"
   ]
  },
  {
   "cell_type": "code",
   "execution_count": null,
   "metadata": {},
   "outputs": [],
   "source": [
    "import numpy as np"
   ]
  },
  {
   "cell_type": "markdown",
   "metadata": {},
   "source": [
    "### Problem 1: Suppose I roll one die. What is the probability of rolling an odd number?"
   ]
  },
  {
   "cell_type": "markdown",
   "metadata": {},
   "source": [
    "In this case, I want to estimate $P(A)$, where $A$ is rolling an odd number."
   ]
  },
  {
   "cell_type": "code",
   "execution_count": null,
   "metadata": {},
   "outputs": [],
   "source": [
    "# Create a list named \"dice\" with the values 1 through 6.\n",
    "dice = list(range(1, 7))\n",
    "print(dice)"
   ]
  },
  {
   "cell_type": "code",
   "execution_count": null,
   "metadata": {},
   "outputs": [],
   "source": [
    "# Randomly generate one integer between 1 and 6.\n",
    "np.random.choice(dice)\n",
    "# or np.random.randint(1, 7)"
   ]
  },
  {
   "cell_type": "code",
   "execution_count": null,
   "metadata": {},
   "outputs": [],
   "source": [
    "# Set a seed so that we can reproduce our results.\n",
    "np.random.seed(123)\n",
    "\n",
    "# This generates the same sequence of random numbers - So others can replicate your studies"
   ]
  },
  {
   "cell_type": "code",
   "execution_count": null,
   "metadata": {},
   "outputs": [],
   "source": [
    "# Randomly generate one integer between 1 and 6.\n",
    "np.random.randint(1,7)"
   ]
  },
  {
   "cell_type": "code",
   "execution_count": null,
   "metadata": {},
   "outputs": [],
   "source": [
    "# Based on np.random.seed(123)\n",
    "# Create a variable called count that starts at 0.\n",
    "count = 0\n",
    "\n",
    "# I want to run my experiment 10,000 times.\n",
    "n = 10**4\n",
    "\n",
    "for i in range(1, n):\n",
    "    dice_roll = np.random.randint(1, 7)\n",
    "    if dice_roll % 2 != 0:\n",
    "        count += 1\n",
    "\n",
    "print(f'Probability of rolling an odd number: {count/n*100}%')"
   ]
  },
  {
   "cell_type": "code",
   "execution_count": null,
   "metadata": {},
   "outputs": [],
   "source": [
    "# Put it all in one function.\n",
    "def odd_roll(n):                            # define a function with one argument, n \n",
    "    count = 0\n",
    "    for i in range(1, n):\n",
    "        dice_roll = np.random.randint(1, 7)\n",
    "        if dice_roll % 2 != 0:\n",
    "            count += 1\n",
    "    \n",
    "    return(count/n)"
   ]
  },
  {
   "cell_type": "code",
   "execution_count": null,
   "metadata": {},
   "outputs": [],
   "source": [
    "# Run our experiment 10,000 times.\n",
    "odd_roll(10**4)"
   ]
  },
  {
   "cell_type": "code",
   "execution_count": null,
   "metadata": {},
   "outputs": [],
   "source": [
    "# Run our experiment 100,000 times.\n",
    "odd_roll(10**5)"
   ]
  },
  {
   "cell_type": "code",
   "execution_count": null,
   "metadata": {},
   "outputs": [],
   "source": [
    "# Run our experiment 1,000,000 times.\n",
    "odd_roll(10**6)"
   ]
  },
  {
   "cell_type": "markdown",
   "metadata": {},
   "source": [
    "### Problem 2: Suppose I roll two dice. What is the probability that their sum is an odd number?"
   ]
  },
  {
   "cell_type": "code",
   "execution_count": null,
   "metadata": {},
   "outputs": [],
   "source": [
    "def odd_two_rolls(n):\n",
    "    count = 0\n",
    "    for i in range(1, n):\n",
    "        dice_roll_1 = np.random.randint(1, 7)\n",
    "        dice_roll_2 = np.random.randint(1, 7)\n",
    "        if (dice_roll_1 + dice_roll_2) % 2 != 0:\n",
    "            count += 1\n",
    "    \n",
    "    return(count/n)"
   ]
  },
  {
   "cell_type": "code",
   "execution_count": null,
   "metadata": {},
   "outputs": [],
   "source": [
    "odd_two_rolls(10**4) # run our experiment 10,000 times"
   ]
  },
  {
   "cell_type": "markdown",
   "metadata": {},
   "source": [
    "### Problem 3: There are 12 red and 12 blue marbles. If you draw one marble, then a second marble without replacing the first, what is the probability that they are the same color?"
   ]
  },
  {
   "cell_type": "code",
   "execution_count": null,
   "metadata": {},
   "outputs": [],
   "source": [
    "# Set up urn of 12 red marbles and 12 blue marbles.\n",
    "urn = np.array([np.repeat(\"red\", 12), np.repeat(\"blue\", 12)]).ravel()\n",
    "urn"
   ]
  },
  {
   "cell_type": "code",
   "execution_count": null,
   "metadata": {},
   "outputs": [],
   "source": [
    "# Pull two marbles from bucket *without* replacement.\n",
    "draws = np.random.choice(urn, size = 2, replace = False)"
   ]
  },
  {
   "cell_type": "code",
   "execution_count": null,
   "metadata": {},
   "outputs": [],
   "source": [
    "# Look at draws.\n",
    "draws"
   ]
  },
  {
   "cell_type": "code",
   "execution_count": null,
   "metadata": {},
   "outputs": [],
   "source": [
    "# How can we check if the two marbles are the same?\n",
    "draws[0] == draws[1]"
   ]
  },
  {
   "cell_type": "code",
   "execution_count": null,
   "metadata": {},
   "outputs": [],
   "source": [
    "def same_color(n):\n",
    "    \n",
    "    # Set up counter to see how many successes we get.\n",
    "    count = 0\n",
    "    # Run experiment n times.\n",
    "    for i in range(1, n):\n",
    "        \n",
    "        # Pull two marbles from bucket *without* replacement.\n",
    "        draws = np.random.choice(urn, size = 2, replace = False)\n",
    "        \n",
    "        # Check to see if the two chosen marbles are the same.\n",
    "        if draws[0] == draws[1]:\n",
    "            count += 1\n",
    "            \n",
    "    # Evaluate probability.\n",
    "    return count / n"
   ]
  },
  {
   "cell_type": "code",
   "execution_count": null,
   "metadata": {},
   "outputs": [],
   "source": [
    "same_color(10**5)"
   ]
  },
  {
   "cell_type": "markdown",
   "metadata": {},
   "source": [
    "### Problem 4: Suppose you roll three dice. What is the probability that the three dice are rolled in increasing order?"
   ]
  },
  {
   "cell_type": "code",
   "execution_count": null,
   "metadata": {},
   "outputs": [],
   "source": [
    "# What is dice again?\n",
    "dice"
   ]
  },
  {
   "cell_type": "code",
   "execution_count": null,
   "metadata": {},
   "outputs": [],
   "source": [
    "def three_dice(n):\n",
    "    \n",
    "    # Set up counter to see how many successes we get.\n",
    "    count = 0\n",
    "    \n",
    "    # Run experiment n times.\n",
    "    for i in range(n):\n",
    "        \n",
    "        # Roll first die.\n",
    "        roll_1 = np.random.randint(1, 7)\n",
    "        \n",
    "        # Roll second die.\n",
    "        roll_2 = np.random.randint(1, 7)\n",
    "        \n",
    "        # Roll third die.\n",
    "        roll_3 = np.random.randint(1, 7)\n",
    "        \n",
    "        # Check to see if the rolls are in increasing order.\n",
    "        if (roll_1 < roll_2 < roll_3) :\n",
    "            count += 1\n",
    "    \n",
    "    # Return probability.\n",
    "    return count / n"
   ]
  },
  {
   "cell_type": "code",
   "execution_count": null,
   "metadata": {},
   "outputs": [],
   "source": [
    "three_dice(10**5)"
   ]
  },
  {
   "cell_type": "markdown",
   "metadata": {},
   "source": [
    "<details><summary>BONUS (advanced): Details of working this problem out by hand.</summary>\n",
    "\n",
    "- Step 1. Write $P(X_1 < X_2 < X_3)$\n",
    "\n",
    "\n",
    "- Step 2. Recognize $P(X_1 < X_2 < X_3) = P\\left((X_1 < X_2) \\cap (X_2 < X_3)\\right)$\n",
    "\n",
    "\n",
    "- Step 3. Use the definition of joint probability to say $P\\left((X_1 < X_2) \\cap (X_2 < X_3)\\right) = P(X_2 < X_3 | X_1 < X_2) * P(X_1 < X_2)$\n",
    "\n",
    "\n",
    "- Step 4. Calculate $P(X1 < X2)$, which is $12/36 = 1/3$, so $P(X_2 < X_3 | X_1 < X_2) * P(X_1 < X_2) = P(X_2 < X_3 | X_1 < X_2) * 1/3$\n",
    "\n",
    "\n",
    "- Step 5. Figure out what $P(X_2 < X_3 | X_1 < X_2)$ is. (This is way trickier. Because we know $X_2$ is greater than $X_1$, $X_2$ has a $5/12$ chance of being 6, a $4/12$ chance of being 5, a $3/12$ chance of being 4, a $2/12$ chance of being 3, and a $1/12$ chance of being 2.) Therefore, the probability that $X_3$ is greater than $X_2$ given that we know $X_2$ is greater than $X_1$ is $(1/6) * (4/12) + (2/6) * (3/12) + (3/6) * (2/12) + (4/6) * (1/12)$\n",
    "\n",
    "\n",
    "- Step 6. Calculate $P(X_2 < X_3 | X_1 < X_2) * P(X_1 < X_2) = \\left((1/6) * (4/12) + (2/6) * (3/12) + (3/6) * (2/12) + (4/6) * (1/12)\\right) * (1/3) = 5/54$\n",
    "</details>"
   ]
  },
  {
   "cell_type": "markdown",
   "metadata": {},
   "source": [
    "---\n",
    "\n",
    "## Extra Practice Problems (not required!)"
   ]
  },
  {
   "cell_type": "markdown",
   "metadata": {},
   "source": [
    "### Problem 5: Suppose I flip three coins. What is the probability that I flip all heads or all tails?"
   ]
  },
  {
   "cell_type": "code",
   "execution_count": null,
   "metadata": {},
   "outputs": [],
   "source": [
    "np.random.randint(0,2) # randomly generate one integer between 0 and 1"
   ]
  },
  {
   "cell_type": "code",
   "execution_count": null,
   "metadata": {},
   "outputs": [],
   "source": [
    "def flip_same_three(n):         # define a function with one argument, n \n",
    "    count = 0\n",
    "    for i in range(1, n):\n",
    "        flip_1 = np.random.randint(0, 2)\n",
    "        flip_2 = np.random.randint(0, 2)\n",
    "        flip_3 = np.random.randint(0, 2)\n",
    "        sum = flip_1 + flip_2 + flip_3\n",
    "    \n",
    "        if sum == 3 or sum == 0:\n",
    "            count += 1\n",
    "        \n",
    "    return (count/n)"
   ]
  },
  {
   "cell_type": "code",
   "execution_count": null,
   "metadata": {},
   "outputs": [],
   "source": [
    "flip_same_three(10**4) # run our experiment 1,000 times"
   ]
  },
  {
   "cell_type": "markdown",
   "metadata": {},
   "source": [
    "### Problem 6: Suppose I flip one coin. If I flip heads, I roll one die. If I flip tails, I roll two dice and sum their values. What is the probability that my roll values sum to greater than 8?"
   ]
  },
  {
   "cell_type": "code",
   "execution_count": null,
   "metadata": {},
   "outputs": [],
   "source": [
    "def greater_than_eight(n): # define a function with one argument, n\n",
    "    count = 0\n",
    "    for i in range(1, n):\n",
    "        coin_flip = np.random.randint(0, 2)\n",
    "        if coin_flip == 1:\n",
    "            pass\n",
    "        else:\n",
    "            dice_roll_1 = np.random.randint(0, 7)\n",
    "            dice_roll_2 = np.random.randint(0, 7)\n",
    "            sum = dice_roll_1 + dice_roll_2\n",
    "            \n",
    "            if sum > 8:\n",
    "                count += 1\n",
    "    \n",
    "    return (count/n)"
   ]
  },
  {
   "cell_type": "code",
   "execution_count": null,
   "metadata": {},
   "outputs": [],
   "source": [
    "greater_than_eight(10**5) # run our experiment 10,000 times"
   ]
  },
  {
   "cell_type": "markdown",
   "metadata": {},
   "source": [
    "Note: If you get a bunch of trailing zeroes in the above answer, this is an issue of [floating point arithmetic](https://en.wikipedia.org/wiki/Floating-point_arithmetic)."
   ]
  },
  {
   "cell_type": "markdown",
   "metadata": {},
   "source": [
    "### Problem 7: I flip my coin until I flip heads. I count up the number of coins I flipped and roll that many dice. What is the probability that the average roll will be between 3 and 4 (inclusive)?\n",
    "- Example 1: If I flip heads on my first coin flip, I roll one die and stop.\n",
    "- Example 2: If I flip tails on my first coin flip and heads on my second, I will roll two dice and average their values.\n",
    "- Example 3: If I flip tails on my first two coin flips and heads on my third, I will roll three dice and average their values."
   ]
  },
  {
   "cell_type": "code",
   "execution_count": null,
   "metadata": {},
   "outputs": [],
   "source": [
    "def between_three_and_four(n): # define our function with one argument, n\n",
    "    coin_count = 0\n",
    "    heads = 0\n",
    "    while heads <1:\n",
    "        for i in range(1, n):\n",
    "            coin_flip = np.random.randint(0, 2)\n",
    "            if coin_flip == 1:\n",
    "                heads += 1\n",
    "                coin_count += 1\n",
    "                break\n",
    "            \n",
    "            else:\n",
    "                coin_count +=1\n",
    "    \n",
    "    final_count = 0\n",
    "    die_rolls = []\n",
    "    for x in range(1, coin_count):\n",
    "        dice_roll = np.random.randint(1, 7)\n",
    "        die_rolls.append(dice_roll)\n",
    "        \n",
    "        if 3 <= np.mean(die_rolls) <=4:\n",
    "            final_count += 1\n",
    "    \n",
    "    return(heads, coin_count, final_count/n) "
   ]
  },
  {
   "cell_type": "code",
   "execution_count": 1,
   "metadata": {},
   "outputs": [],
   "source": [
    "import numpy as np"
   ]
  },
  {
   "cell_type": "code",
   "execution_count": null,
   "metadata": {},
   "outputs": [],
   "source": [
    "def between_three_and_four(n): # define our function with one argument, n\n",
    "    final_count = 0\n",
    "    for i in range(1, n):\n",
    "        coin_count = 1\n",
    "        sum_of_dice = 0\n",
    "\n",
    "        while np.random.randint(0, 2) != 1:\n",
    "            coin_count += 1\n",
    "        \n",
    "        for x in range(1, coin_count):\n",
    "            sum_of_dice += np.random.randint(1, 7)\n",
    "            \n",
    "        if (sum_of_dice/coin_count>=3) and (sum_of_dice/coin_count<=4):\n",
    "            final_count += 1\n",
    "    \n",
    "    return(heads, coin_count, final_count/n)"
   ]
  },
  {
   "cell_type": "code",
   "execution_count": null,
   "metadata": {
    "scrolled": true
   },
   "outputs": [],
   "source": [
    "between_three_and_four(500) # run experiment 1,000 times"
   ]
  },
  {
   "cell_type": "markdown",
   "metadata": {},
   "source": [
    "### Problem 8: Repeat problem 7, but find the probability that the average roll will be between 3 and 4, *exclusive*. (That is, we are not including values of 3 or 4 as \"successes,\" but only the numbers in between them.) \n",
    "- Before running this in code, do you think changing this from inclusive to exclusive this will have a large impact on the resulting probability? Why or why not?"
   ]
  },
  {
   "cell_type": "markdown",
   "metadata": {},
   "source": [
    "**Answer**: "
   ]
  },
  {
   "cell_type": "code",
   "execution_count": null,
   "metadata": {},
   "outputs": [],
   "source": [
    "def between_three_and_four_exclusive(n):    # define our function with one argument, n\n",
    "    "
   ]
  },
  {
   "cell_type": "code",
   "execution_count": null,
   "metadata": {},
   "outputs": [],
   "source": [
    "between_three_and_four_exclusive(1_000) # run experiment 1,000 times"
   ]
  },
  {
   "cell_type": "markdown",
   "metadata": {},
   "source": [
    "### Problem 9: Repeat problem 6, but make the probability of flipping heads 20%.\n",
    "- Hint: You could use `np.random.randint(1,11)` and using values of 1 and 2 as \"heads\" and values of 3 through 10 as \"tails.\" Alternatively, you could use [`np.random.choice`](https://docs.scipy.org/doc/numpy-1.15.0/reference/generated/numpy.random.choice.html)."
   ]
  },
  {
   "cell_type": "markdown",
   "metadata": {},
   "source": [
    "Suppose I flip one coin. If I flip heads, I roll one die. If I flip tails, I roll two dice and sum their values. What is the probability that my roll values sum to greater than 8? **Note** that I'm using an unfair coin with probability of heads equal to 20%. I will use `np.random.randint(1,11)` to simulate an unfair coin. Values of 1 and 2 will correspond to \"heads\" and values of 3 or greater will correspond to \"tails.\""
   ]
  },
  {
   "cell_type": "code",
   "execution_count": null,
   "metadata": {},
   "outputs": [],
   "source": [
    "def greater_than_eight_unfair(n):                # define a function with one argument, n\n",
    "    "
   ]
  },
  {
   "cell_type": "code",
   "execution_count": null,
   "metadata": {},
   "outputs": [],
   "source": [
    "greater_than_eight_unfair(10_000) # run 10,000 times"
   ]
  },
  {
   "cell_type": "markdown",
   "metadata": {},
   "source": [
    "### Problem 10: Repeat problem 9, but build your function out to accept *any* valid probability of flipping heads. (i.e. a user can input 1%, 10%, 35%, 99%, and so on)."
   ]
  },
  {
   "cell_type": "markdown",
   "metadata": {},
   "source": [
    "It will be pretty complicated for me to use `np.random.randint()` for lots of different probabilities of flipping heads. Instead, I will use `np.random.choice`. You should check out the documentation for it [here](https://docs.scipy.org/doc/numpy-1.15.0/reference/generated/numpy.random.choice.html)."
   ]
  },
  {
   "cell_type": "code",
   "execution_count": null,
   "metadata": {},
   "outputs": [],
   "source": [
    "def greater_than_eight_user_defined(n, p_heads):       # define a function\n",
    "    # Note that this function has two arguments: n and p_heads.\n",
    "    # n = number of experiments to simulate.\n",
    "    # p_heads = probability of flipping heads.\n",
    "    \n",
    "    "
   ]
  },
  {
   "cell_type": "code",
   "execution_count": null,
   "metadata": {},
   "outputs": [],
   "source": [
    "greater_than_eight_user_defined(10_000, 0)"
   ]
  },
  {
   "cell_type": "code",
   "execution_count": null,
   "metadata": {},
   "outputs": [],
   "source": [
    "greater_than_eight_user_defined(10_000, 0.01)"
   ]
  },
  {
   "cell_type": "code",
   "execution_count": null,
   "metadata": {},
   "outputs": [],
   "source": [
    "greater_than_eight_user_defined(10_000, 0.1)"
   ]
  },
  {
   "cell_type": "code",
   "execution_count": null,
   "metadata": {},
   "outputs": [],
   "source": [
    "greater_than_eight_user_defined(10_000, 0.5)"
   ]
  },
  {
   "cell_type": "code",
   "execution_count": null,
   "metadata": {},
   "outputs": [],
   "source": [
    "greater_than_eight_user_defined(10_000, 0.9)"
   ]
  },
  {
   "cell_type": "code",
   "execution_count": null,
   "metadata": {},
   "outputs": [],
   "source": [
    "greater_than_eight_user_defined(10_000, 1)"
   ]
  },
  {
   "cell_type": "markdown",
   "metadata": {},
   "source": [
    "**Summary**: It looks as though, as the probability of heads increases, the probability of getting a sum that is greater than eight decreases."
   ]
  },
  {
   "cell_type": "markdown",
   "metadata": {},
   "source": [
    "### Problem 11: Two players are playing a game. Player A goes first and flips a coin. If the coin is heads, player A wins. If the coin is tails, player B then flips a coin. If the coin is heads, player B wins. Otherwise, the coin goes back to player A. They continue flipping until one person has flipped heads. If the coin is fair, what is the probability of player A winning?\n",
    "\n",
    "(This problem is taken from [_Statistical Inference_ by Casella and Berger](https://fsalamri.files.wordpress.com/2015/02/casella_berger_statistical_inference1.pdf).)"
   ]
  },
  {
   "cell_type": "markdown",
   "metadata": {},
   "source": [
    "- Hint: You'll get stuck in an infinite loop if your probability of flipping heads is 0%!"
   ]
  },
  {
   "cell_type": "code",
   "execution_count": null,
   "metadata": {},
   "outputs": [],
   "source": [
    "# Rather than save player as 'A' and 'B', I'm going to \n",
    "# save player as +1 and -1. +1 corresponds to player A\n",
    "# and -1 corresponds to player B.\n",
    "\n",
    "# It is a bit more complicated to write things out as\n",
    "# A or B, because you need to reset player every time\n",
    "# the coin_flip returns tails. For example, I would\n",
    "# write something like:\n",
    "# if coin_flip == 'tails':\n",
    "#     if player == 'A':\n",
    "#         player = 'B'\n",
    "#     else:\n",
    "#         player = 'A'\n",
    "\n",
    "# By saving player as 1 and -1, every time coin_flip\n",
    "# returns tails, I can just multiply coin_flip by -1.\n",
    "# if coin_flip == 'tails':\n",
    "#     player *= -1\n",
    "\n",
    "# It's much simpler to use -1 instead of 'A' and 'B'!\n",
    "# This will always ensure my player variable is correct.\n",
    "\n",
    "\n",
    "def coin_game(n):\n",
    "    "
   ]
  },
  {
   "cell_type": "code",
   "execution_count": null,
   "metadata": {},
   "outputs": [],
   "source": [
    "coin_game(10_000)"
   ]
  },
  {
   "cell_type": "markdown",
   "metadata": {},
   "source": [
    "### Problem 12: Repeat problem 11, but adapt your function to accept another argument, $p$, where $p$ is the probability of flipping heads.\n",
    "\n",
    "(This problem is adapted from [_Statistical Inference_ by Casella and Berger](https://fsalamri.files.wordpress.com/2015/02/casella_berger_statistical_inference1.pdf).)"
   ]
  },
  {
   "cell_type": "code",
   "execution_count": null,
   "metadata": {},
   "outputs": [],
   "source": [
    "def coin_game_unfair(n, p_heads):\n",
    "    "
   ]
  },
  {
   "cell_type": "code",
   "execution_count": null,
   "metadata": {},
   "outputs": [],
   "source": [
    "coin_game_unfair(10_000, 0.01)"
   ]
  },
  {
   "cell_type": "code",
   "execution_count": null,
   "metadata": {},
   "outputs": [],
   "source": [
    "coin_game_unfair(10_000, 0.05)"
   ]
  },
  {
   "cell_type": "code",
   "execution_count": null,
   "metadata": {},
   "outputs": [],
   "source": [
    "coin_game_unfair(10_000, 0.1)"
   ]
  },
  {
   "cell_type": "code",
   "execution_count": null,
   "metadata": {},
   "outputs": [],
   "source": [
    "coin_game_unfair(10_000, 0.5)"
   ]
  },
  {
   "cell_type": "code",
   "execution_count": null,
   "metadata": {},
   "outputs": [],
   "source": [
    "coin_game_unfair(10_000, 0.9)"
   ]
  },
  {
   "cell_type": "code",
   "execution_count": null,
   "metadata": {},
   "outputs": [],
   "source": [
    "coin_game_unfair(10_000, 0.99)"
   ]
  },
  {
   "cell_type": "markdown",
   "metadata": {},
   "source": [
    "### Interview Problem *(advanced)*: Suppose I have a stick of length 1. I randomly break this stick in two places. What is the probability that the three pieces can form a triangle? (Note that a triangle can be formed if and only if the length of each side is smaller than the sum of the other two sides.)\n",
    "- Hint: You may want to use [`np.random.uniform`](https://docs.scipy.org/doc/numpy/reference/generated/numpy.random.uniform.html) to pick a random place to break your stick."
   ]
  },
  {
   "cell_type": "code",
   "execution_count": null,
   "metadata": {},
   "outputs": [],
   "source": [
    "# Defining a function with n simulations, estimating the probability of forming a triangle.\n",
    "\n",
    "def triangle_prob(n): \n",
    "    "
   ]
  },
  {
   "cell_type": "code",
   "execution_count": null,
   "metadata": {},
   "outputs": [],
   "source": [
    "triangle_prob(100_000)"
   ]
  },
  {
   "cell_type": "code",
   "execution_count": null,
   "metadata": {},
   "outputs": [],
   "source": [
    "dice_8side = set(range(1, 9))\n",
    "A = {2, 4, 6, 8}\n",
    "B = {2, 3, 5, 7}\n",
    "\n",
    "print(A.intersection(B))\n",
    "print(A.union(B))\n",
    "print(dice_8side.difference(A))\n",
    "print(dice_8side.difference(A.union(B)))"
   ]
  }
 ],
 "metadata": {
  "kernelspec": {
   "display_name": "Python 3",
   "language": "python",
   "name": "python3"
  },
  "language_info": {
   "codemirror_mode": {
    "name": "ipython",
    "version": 3
   },
   "file_extension": ".py",
   "mimetype": "text/x-python",
   "name": "python",
   "nbconvert_exporter": "python",
   "pygments_lexer": "ipython3",
   "version": "3.8.8"
  }
 },
 "nbformat": 4,
 "nbformat_minor": 2
}
