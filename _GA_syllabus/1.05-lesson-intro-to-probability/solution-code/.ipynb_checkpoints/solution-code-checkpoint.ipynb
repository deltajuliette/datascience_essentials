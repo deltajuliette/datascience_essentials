{
 "cells": [
  {
   "cell_type": "markdown",
   "metadata": {},
   "source": [
    "<img src=\"http://imgur.com/1ZcRyrc.png\" style=\"float: left; margin: 20px; height: 55px\">\n",
    "\n",
    "# Intro to Probability\n",
    "\n",
    "---\n",
    "\n",
    "\n",
    "## Learning Objectives\n",
    "\n",
    "- Define experiment, outcome, event, and sample space.\n",
    "- Calculate the union and intersection of sets.\n",
    "- Apply three probability rules.\n",
    "- Solve probability problems using simulations.\n",
    "\n",
    "\n",
    "## Probability Problems\n",
    "\n",
    "We often interpret probability like frequency.\n",
    "- If I run an experiment over and over again and one event (call it $A$) occurs frequently, we might say that $P(A)$ is quite high.\n",
    "- If I run an experiment over and over again and one event $A$ occurs infrequently, we might say that the probability of $A$ is low.\n",
    "\n",
    "We can make this idea a bit more formal by assuming we can repeat an experiment a theoretically infinite number of times. Written out mathematically, this is:\n",
    "\n",
    "$$\n",
    "P(A) = \\lim_{n \\rightarrow \\infty} \\frac{\\text{number of times A occurs}}{n}\n",
    "$$\n",
    "\n",
    "If you're not familiar with limits, that's okay! \n",
    "- The idea is that while we can't actually run the experiment an infinite number of times, if we ran the experiment 1,000 times, then 1,000,000 times, then 1,000,000,000 times, can we get an understanding of what $P(A)$ is?\n",
    "- Limits are fundamentally important to *how* lots of machine learning and statistics work, but we're almost always able to do our work without getting into the weeds.\n",
    "\n",
    "In many cases, we can find probabilities exactly by hand... but that quickly gets complicated. Instead, let's *estimate* $P(A)$ by leveraging Python to run some large number of experiments and seeing how frequently $A$ occurs:\n",
    "\n",
    "$$\n",
    "P(A) \\approx \\frac{\\text{number of times A occurs}}{n}\n",
    "$$\n",
    "\n",
    "If we \"run our experiment\" for some large number of trials $n$, then our estimated probability should be pretty close to the true probability!"
   ]
  },
  {
   "cell_type": "code",
   "execution_count": 2,
   "metadata": {},
   "outputs": [],
   "source": [
    "import numpy as np"
   ]
  },
  {
   "cell_type": "markdown",
   "metadata": {},
   "source": [
    "### Problem 1: Suppose I roll one die. What is the probability of rolling an odd number?"
   ]
  },
  {
   "cell_type": "markdown",
   "metadata": {},
   "source": [
    "In this case, I want to estimate $P(A)$, where $A$ is rolling an odd number."
   ]
  },
  {
   "cell_type": "code",
   "execution_count": 3,
   "metadata": {},
   "outputs": [],
   "source": [
    "# Create a list named \"dice\" with the values 1 through 6. \n",
    "# This is the sample space for this experiment containing all possible outcomes\n",
    "dice = [1, 2, 3, 4, 5, 6]"
   ]
  },
  {
   "cell_type": "code",
   "execution_count": 4,
   "metadata": {},
   "outputs": [
    {
     "data": {
      "text/plain": [
       "4"
      ]
     },
     "execution_count": 4,
     "metadata": {},
     "output_type": "execute_result"
    }
   ],
   "source": [
    "# Randomly generate one integer between 1 and 6.\n",
    "# This is an event. The outcome of one experiment\n",
    "np.random.choice(dice)"
   ]
  },
  {
   "cell_type": "code",
   "execution_count": 5,
   "metadata": {},
   "outputs": [],
   "source": [
    "# Set a seed so that we can reproduce our results.\n",
    "# This is just a code trick to ensure everyone in the class generates the same sequence of random numbers.\n",
    "np.random.seed(42)"
   ]
  },
  {
   "cell_type": "code",
   "execution_count": 6,
   "metadata": {},
   "outputs": [
    {
     "data": {
      "text/plain": [
       "4"
      ]
     },
     "execution_count": 6,
     "metadata": {},
     "output_type": "execute_result"
    }
   ],
   "source": [
    "# Randomly generate one integer between 1 and 6.\n",
    "np.random.choice(dice)"
   ]
  },
  {
   "cell_type": "code",
   "execution_count": 7,
   "metadata": {},
   "outputs": [
    {
     "name": "stdout",
     "output_type": "stream",
     "text": [
      "0.498\n"
     ]
    }
   ],
   "source": [
    "# Create a variable called count that starts at 0.\n",
    "count = 0\n",
    "\n",
    "# I want to run my experiment 10,000 times.\n",
    "for i in range(10_000):\n",
    "    \n",
    "    # I want to check to see if my dice roll is odd.\n",
    "    if np.random.choice(dice) % 2 != 0:\n",
    "        \n",
    "        # If that is true, then add 1 to count.\n",
    "        count += 1\n",
    "\n",
    "# Print the number of times A occurs, divided by n.\n",
    "print(count / 10_000)"
   ]
  },
  {
   "cell_type": "code",
   "execution_count": 8,
   "metadata": {},
   "outputs": [],
   "source": [
    "# Put it all in one function.\n",
    "def odd_roll(n):                            # define a function with one argument, n \n",
    "    count = 0                               # where we'll store our count\n",
    "    for i in range(n):                      # let's run our experiment n times\n",
    "        if np.random.choice(dice) % 2 != 0: # if our dice value is not divisible by 2 (is odd)\n",
    "            count += 1                      # then add 1 to our count\n",
    "    return count / n                        # return the number of times A occurs divided by n"
   ]
  },
  {
   "cell_type": "code",
   "execution_count": 9,
   "metadata": {},
   "outputs": [
    {
     "data": {
      "text/plain": [
       "0.4981"
      ]
     },
     "execution_count": 9,
     "metadata": {},
     "output_type": "execute_result"
    }
   ],
   "source": [
    "# Run our experiment 10,000 times.\n",
    "odd_roll(10_000) "
   ]
  },
  {
   "cell_type": "code",
   "execution_count": 10,
   "metadata": {},
   "outputs": [
    {
     "data": {
      "text/plain": [
       "0.49956"
      ]
     },
     "execution_count": 10,
     "metadata": {},
     "output_type": "execute_result"
    }
   ],
   "source": [
    "# Run our experiment 100,000 times.\n",
    "odd_roll(100_000)"
   ]
  },
  {
   "cell_type": "code",
   "execution_count": 11,
   "metadata": {},
   "outputs": [
    {
     "data": {
      "text/plain": [
       "0.50076"
      ]
     },
     "execution_count": 11,
     "metadata": {},
     "output_type": "execute_result"
    }
   ],
   "source": [
    "# Run our experiment 1,000,000 times.\n",
    "odd_roll(1_000_000)"
   ]
  },
  {
   "cell_type": "markdown",
   "metadata": {},
   "source": [
    "### Problem 2: Suppose I roll two dice. What is the probability that their sum is an odd number?"
   ]
  },
  {
   "cell_type": "code",
   "execution_count": 12,
   "metadata": {},
   "outputs": [],
   "source": [
    "def odd_two_rolls(n):\n",
    "    \n",
    "    # Create a variable called count that starts at 0.\n",
    "    count = 0\n",
    "\n",
    "    # I want to run my experiment n times.\n",
    "    for i in range(n):\n",
    "\n",
    "        # I want to check to see if the sum of my dice rolls is odd.\n",
    "        first_result = np.random.choice(dice)\n",
    "        second_result = np.random.choice(dice)\n",
    "        if (first_result + second_result) % 2 != 0:\n",
    "\n",
    "            # If that is true, then add 1 to count.\n",
    "            count += 1\n",
    "\n",
    "    # Print the number of times A occurs, divided by n.\n",
    "    return (count / n)"
   ]
  },
  {
   "cell_type": "code",
   "execution_count": 13,
   "metadata": {},
   "outputs": [
    {
     "data": {
      "text/plain": [
       "0.4894"
      ]
     },
     "execution_count": 13,
     "metadata": {},
     "output_type": "execute_result"
    }
   ],
   "source": [
    "odd_two_rolls(10_000) # run our experiment 10,000 times"
   ]
  },
  {
   "cell_type": "markdown",
   "metadata": {},
   "source": [
    "### Problem 3: There are 12 red and 12 blue marbles. If you draw one marble, then a second marble without replacing the first, what is the probability that they are the same color?"
   ]
  },
  {
   "cell_type": "code",
   "execution_count": 14,
   "metadata": {
    "scrolled": true,
    "tags": []
   },
   "outputs": [
    {
     "data": {
      "text/plain": [
       "['red',\n",
       " 'red',\n",
       " 'red',\n",
       " 'red',\n",
       " 'red',\n",
       " 'red',\n",
       " 'red',\n",
       " 'red',\n",
       " 'red',\n",
       " 'red',\n",
       " 'red',\n",
       " 'red',\n",
       " 'blue',\n",
       " 'blue',\n",
       " 'blue',\n",
       " 'blue',\n",
       " 'blue',\n",
       " 'blue',\n",
       " 'blue',\n",
       " 'blue',\n",
       " 'blue',\n",
       " 'blue',\n",
       " 'blue',\n",
       " 'blue']"
      ]
     },
     "execution_count": 14,
     "metadata": {},
     "output_type": "execute_result"
    }
   ],
   "source": [
    "# Set up urn of 12 red marbles and 12 blue marbles.\n",
    "red_marbels = [\"red\"]*12\n",
    "blue_marbels = [\"blue\"]*12\n",
    "\n",
    "urn = red_marbels + blue_marbels\n",
    "urn"
   ]
  },
  {
   "cell_type": "code",
   "execution_count": 15,
   "metadata": {},
   "outputs": [],
   "source": [
    "def same_color(n):\n",
    "    \n",
    "    # Set up counter to see how many successes we get.\n",
    "    count = 0\n",
    "    \n",
    "    # Run experiment n times.\n",
    "    for i in range(n):\n",
    "        \n",
    "        # Pull two balls from bucket *without* replacement.\n",
    "        draws = np.random.choice(urn, size = 2, replace = False)\n",
    "        \n",
    "        # Check to see if the two chosen balls are the same.\n",
    "        if draws[0] == draws[1]:\n",
    "            count += 1\n",
    "            \n",
    "    # Evaluate probability.\n",
    "    return count / n"
   ]
  },
  {
   "cell_type": "code",
   "execution_count": 16,
   "metadata": {},
   "outputs": [
    {
     "data": {
      "text/plain": [
       "0.4795"
      ]
     },
     "execution_count": 16,
     "metadata": {},
     "output_type": "execute_result"
    }
   ],
   "source": [
    "same_color(10_000)"
   ]
  },
  {
   "cell_type": "markdown",
   "metadata": {},
   "source": [
    "### Problem 4: Suppose you roll three dice. What is the probability that the three dice are rolled in increasing order?"
   ]
  },
  {
   "cell_type": "code",
   "execution_count": 17,
   "metadata": {},
   "outputs": [
    {
     "data": {
      "text/plain": [
       "[1, 2, 3, 4, 5, 6]"
      ]
     },
     "execution_count": 17,
     "metadata": {},
     "output_type": "execute_result"
    }
   ],
   "source": [
    "# What is dice again?\n",
    "dice"
   ]
  },
  {
   "cell_type": "code",
   "execution_count": 18,
   "metadata": {},
   "outputs": [],
   "source": [
    "def three_dice(n):\n",
    "    \n",
    "    # Set up counter to see how many successes we get.\n",
    "    count = 0\n",
    "    \n",
    "    # Run experiment n times.\n",
    "    for i in range(n):\n",
    "        \n",
    "        # Roll first die.\n",
    "        roll_1 = np.random.choice(dice)\n",
    "        \n",
    "        # Roll second die.\n",
    "        roll_2 = np.random.choice(dice)\n",
    "        \n",
    "        # Roll third die.\n",
    "        roll_3 = np.random.choice(dice)\n",
    "        \n",
    "        # Check to see if the rolls are in increasing order.\n",
    "        if (roll_1 < roll_2) and (roll_2 < roll_3):\n",
    "            count += 1\n",
    "    \n",
    "    # Return probability.\n",
    "    return count / n"
   ]
  },
  {
   "cell_type": "code",
   "execution_count": 19,
   "metadata": {},
   "outputs": [
    {
     "data": {
      "text/plain": [
       "0.0913"
      ]
     },
     "execution_count": 19,
     "metadata": {},
     "output_type": "execute_result"
    }
   ],
   "source": [
    "three_dice(10_000)"
   ]
  },
  {
   "cell_type": "markdown",
   "metadata": {},
   "source": [
    "<details><summary>BONUS (advanced): Details of working this problem out by hand.</summary>\n",
    "\n",
    "- Step 1. Write $P(X_1 < X_2 < X_3)$\n",
    "\n",
    "\n",
    "- Step 2. Recognize $P(X_1 < X_2 < X_3) = P\\left((X_1 < X_2) \\cap (X_2 < X_3)\\right)$\n",
    "\n",
    "\n",
    "- Step 3. Use the definition of joint probability to say $P\\left((X_1 < X_2) \\cap (X_2 < X_3)\\right) = P(X_2 < X_3 | X_1 < X_2) * P(X_1 < X_2)$\n",
    "\n",
    "\n",
    "- Step 4. Calculate $P(X1 < X2)$, which is $12/36 = 1/3$, so $P(X_2 < X_3 | X_1 < X_2) * P(X_1 < X_2) = P(X_2 < X_3 | X_1 < X_2) * 1/3$\n",
    "\n",
    "\n",
    "- Step 5. Figure out what $P(X_2 < X_3 | X_1 < X_2)$ is. (This is way trickier. Because we know $X_2$ is greater than $X_1$, $X_2$ has a $5/12$ chance of being 6, a $4/12$ chance of being 5, a $3/12$ chance of being 4, a $2/12$ chance of being 3, and a $1/12$ chance of being 2.) Therefore, the probability that $X_3$ is greater than $X_2$ given that we know $X_2$ is greater than $X_1$ is $(1/6) * (4/12) + (2/6) * (3/12) + (3/6) * (2/12) + (4/6) * (1/12)$\n",
    "\n",
    "\n",
    "- Step 6. Calculate $P(X_2 < X_3 | X_1 < X_2) * P(X_1 < X_2) = \\left((1/6) * (4/12) + (2/6) * (3/12) + (3/6) * (2/12) + (4/6) * (1/12)\\right) * (1/3) = 5/54$\n",
    "</details>"
   ]
  },
  {
   "cell_type": "markdown",
   "metadata": {},
   "source": [
    "---\n",
    "\n",
    "## Extra Practice Problems (not required!)"
   ]
  },
  {
   "cell_type": "markdown",
   "metadata": {},
   "source": [
    "### Problem 5: Suppose I flip three coins. What is the probability that I flip all heads or all tails?"
   ]
  },
  {
   "cell_type": "code",
   "execution_count": 20,
   "metadata": {},
   "outputs": [],
   "source": [
    "# Create a list named \"coin\" with the values \"heads\" and \"tails\". \n",
    "# This is the sample space for this experiment containing all possible outcomes\n",
    "\n",
    "coin = [\"heads\", \"tails\"]"
   ]
  },
  {
   "cell_type": "code",
   "execution_count": 21,
   "metadata": {},
   "outputs": [],
   "source": [
    "def flip_same_three(n):  \n",
    "    \n",
    "    # Set up counter to see how many successes we get.\n",
    "    count = 0                  \n",
    "    \n",
    "    # Run experiment n times.\n",
    "    for i in range(n):       \n",
    "        \n",
    "        # First coin toss.\n",
    "        toss_1 = np.random.choice(coin)\n",
    "        \n",
    "        # Second coin toss.\n",
    "        toss_2 = np.random.choice(coin)\n",
    "        \n",
    "        # Third coin toss.\n",
    "        toss_3 = np.random.choice(coin)\n",
    "        \n",
    "        # Number of \"heads\". Recall Boolean True==1 and False==0\n",
    "        num_heads = (toss_1==\"heads\") + (toss_2==\"heads\") + (toss_3==\"heads\")\n",
    "        \n",
    "        # Number of \"tails\"\n",
    "        num_tails = (toss_1==\"tails\") + (toss_2==\"tails\") + (toss_3==\"tails\")\n",
    "        \n",
    "        # Check if all three are heads or tails\n",
    "        if (num_heads == 3) or (num_tails == 3): \n",
    "            count += 1      \n",
    "            \n",
    "    return count / n        "
   ]
  },
  {
   "cell_type": "code",
   "execution_count": 22,
   "metadata": {},
   "outputs": [
    {
     "data": {
      "text/plain": [
       "0.218"
      ]
     },
     "execution_count": 22,
     "metadata": {},
     "output_type": "execute_result"
    }
   ],
   "source": [
    "flip_same_three(1_000) # run our experiment 1,000 times"
   ]
  },
  {
   "cell_type": "markdown",
   "metadata": {},
   "source": [
    "### Problem 6: Suppose I flip one coin. If I flip heads, I roll one die. If I flip tails, I roll two dice and sum their values. What is the probability that my roll values sum to greater than 8?"
   ]
  },
  {
   "cell_type": "code",
   "execution_count": 23,
   "metadata": {},
   "outputs": [],
   "source": [
    "def greater_than_eight(n):\n",
    "    \n",
    "    # Set up counter to see how many successes we get.\n",
    "    count = 0 \n",
    "    \n",
    "    # Run experiment n times.\n",
    "    for i in range(n): \n",
    "        \n",
    "        # Flip one coin\n",
    "        coin_flip = np.random.choice(coin)\n",
    "        \n",
    "        # If I flip heads\n",
    "        if coin_flip == \"heads\":\n",
    "            # I roll one die\n",
    "            die_roll = np.random.choice(dice)\n",
    "        \n",
    "        # If I flip tails\n",
    "        elif coin_flip == \"tails\":\n",
    "            # I roll two dice\n",
    "            die_roll_1 = np.random.choice(dice)\n",
    "            die_roll_2 = np.random.choice(dice)\n",
    "            \n",
    "            # and sum their values\n",
    "            die_roll = die_roll_1 + die_roll_2\n",
    "        \n",
    "        # Check if the value is greater than 8\n",
    "        if die_roll > 8:\n",
    "            count += 1\n",
    "        \n",
    "    return count/n"
   ]
  },
  {
   "cell_type": "code",
   "execution_count": 24,
   "metadata": {},
   "outputs": [
    {
     "data": {
      "text/plain": [
       "0.1369"
      ]
     },
     "execution_count": 24,
     "metadata": {},
     "output_type": "execute_result"
    }
   ],
   "source": [
    "greater_than_eight(10_000) # run our experiment 10,000 times"
   ]
  },
  {
   "cell_type": "markdown",
   "metadata": {},
   "source": [
    "### Problem 7: I flip my coin until I flip heads. I count up the number of coins I flipped and roll that many dice. What is the probability that the average roll will be between 3 and 4 (inclusive)?\n",
    "- Example 1: If I flip heads on my first coin flip, I roll one die and stop.\n",
    "- Example 2: If I flip tails on my first coin flip and heads on my second, I will roll two dice and average their values.\n",
    "- Example 3: If I flip tails on my first two coin flips and heads on my third, I will roll three dice and average their values."
   ]
  },
  {
   "cell_type": "code",
   "execution_count": 25,
   "metadata": {},
   "outputs": [],
   "source": [
    "def between_three_and_four(n):\n",
    "    \n",
    "    # Set up counter to see how many successes we get.\n",
    "    count = 0 \n",
    "    \n",
    "    # Run experiment n times.\n",
    "    for i in range(n): \n",
    "        \n",
    "        # I know I'll flip the coin atleast once\n",
    "        n_flips = 1\n",
    "        \n",
    "        # Flip coin until I flip heads. \n",
    "        while np.random.choice(coin) != \"heads\":\n",
    "            n_flips += 1\n",
    "            \n",
    "        # Roll n_flips number of dice and sum up the outcomes\n",
    "        total_rolls = 0\n",
    "        for j in range(n_flips):\n",
    "            total_rolls += np.random.choice(dice)\n",
    "        \n",
    "        # Average value of dice rolls\n",
    "        average_rolls = total_rolls/n_flips\n",
    "            \n",
    "        # Check if the average value is between 3 and 4 inclusive\n",
    "        if (average_rolls >= 3) and (average_rolls <= 4):\n",
    "            count += 1\n",
    "            \n",
    "    return count/n"
   ]
  },
  {
   "cell_type": "code",
   "execution_count": 25,
   "metadata": {
    "tags": []
   },
   "outputs": [
    {
     "data": {
      "text/plain": [
       "0.403"
      ]
     },
     "execution_count": 25,
     "metadata": {},
     "output_type": "execute_result"
    }
   ],
   "source": [
    "between_three_and_four(1_000) # run experiment 1,000 times"
   ]
  },
  {
   "cell_type": "markdown",
   "metadata": {},
   "source": [
    "### Problem 8: Repeat problem 7, but find the probability that the average roll will be between 3 and 4, *exclusive*. (That is, we are not including values of 3 or 4 as \"successes,\" but only the numbers in between them.) \n",
    "- Before running this in code, do you think changing this from inclusive to exclusive this will have a large impact on the resulting probability? Why or why not?"
   ]
  },
  {
   "cell_type": "markdown",
   "metadata": {},
   "source": [
    "**Answer**: I **do** think this will have a large impact. If we flip only one coin, then we roll only one die. There is a one in three chance that we get a 3 or 4 in one roll of the die. By excluding the values of 3 and 4, I think we'll see $P(A)$ get much smaller."
   ]
  },
  {
   "cell_type": "code",
   "execution_count": 26,
   "metadata": {},
   "outputs": [],
   "source": [
    "def between_three_and_four_exclusive(n):\n",
    "    \n",
    "    # Set up counter to see how many successes we get.\n",
    "    count = 0 \n",
    "    \n",
    "    # Run experiment n times.\n",
    "    for i in range(n): \n",
    "        \n",
    "        # I know I'll flip the coin atleast once\n",
    "        n_flips = 1\n",
    "        \n",
    "        # Flip coin until I flip heads. \n",
    "        while np.random.choice(coin) != \"heads\":\n",
    "            n_flips += 1\n",
    "            \n",
    "        # Roll n_flips number of dice and sum up the outcomes\n",
    "        total_rolls = 0\n",
    "        for j in range(n_flips):\n",
    "            total_rolls += np.random.choice(dice)\n",
    "        \n",
    "        # Average value of dice rolls\n",
    "        average_rolls = total_rolls/n_flips\n",
    "            \n",
    "        # Check if the average value is between 3 and 4 exclusive\n",
    "        if (average_rolls > 3) and (average_rolls < 4):\n",
    "            count += 1\n",
    "            \n",
    "    return count/n"
   ]
  },
  {
   "cell_type": "code",
   "execution_count": 27,
   "metadata": {},
   "outputs": [
    {
     "data": {
      "text/plain": [
       "0.116"
      ]
     },
     "execution_count": 27,
     "metadata": {},
     "output_type": "execute_result"
    }
   ],
   "source": [
    "between_three_and_four_exclusive(1_000) # run experiment 1,000 times"
   ]
  },
  {
   "cell_type": "markdown",
   "metadata": {},
   "source": [
    "### Problem 9: Repeat problem 6, but make the probability of flipping heads 20%.\n",
    "\n",
    "Problem 6: Suppose I flip one coin. If I flip heads, I roll one die. If I flip tails, I roll two dice and sum their values. What is the probability that my roll values sum to greater than 8?"
   ]
  },
  {
   "cell_type": "code",
   "execution_count": 28,
   "metadata": {},
   "outputs": [],
   "source": [
    "# Create a list named \"unfair_coin\" with the values [\"heads\"]*2 and [\"tails\"]*8 to mimic probability of flipping heads 20% \n",
    "# This is the sample space for this experiment containing all possible outcomes\n",
    "\n",
    "heads = [\"heads\"]*2\n",
    "tails = [\"tails\"]*8\n",
    "unfair_coin = heads + tails"
   ]
  },
  {
   "cell_type": "code",
   "execution_count": 29,
   "metadata": {},
   "outputs": [],
   "source": [
    "def greater_than_eight_unfair(n):\n",
    "    \n",
    "    # Set up counter to see how many successes we get.\n",
    "    count = 0 \n",
    "    \n",
    "    # Run experiment n times.\n",
    "    for i in range(n): \n",
    "        \n",
    "        # Flip one coin\n",
    "        coin_flip = np.random.choice(unfair_coin)\n",
    "        \n",
    "        # If I flip heads\n",
    "        if coin_flip == \"heads\":\n",
    "            # I roll one die\n",
    "            die_roll = np.random.choice(dice)\n",
    "        \n",
    "        # If I flip tails\n",
    "        elif coin_flip == \"tails\":\n",
    "            # I roll two dice\n",
    "            die_roll_1 = np.random.choice(dice)\n",
    "            die_roll_2 = np.random.choice(dice)\n",
    "            \n",
    "            # and sum their values\n",
    "            die_roll = die_roll_1 + die_roll_2\n",
    "        \n",
    "        # Check if the value is greater than 8\n",
    "        if die_roll > 8:\n",
    "            count += 1\n",
    "        \n",
    "    return count/n"
   ]
  },
  {
   "cell_type": "code",
   "execution_count": 30,
   "metadata": {},
   "outputs": [
    {
     "data": {
      "text/plain": [
       "0.2125"
      ]
     },
     "execution_count": 30,
     "metadata": {},
     "output_type": "execute_result"
    }
   ],
   "source": [
    "greater_than_eight_unfair(10_000) # run our experiment 10,000 times"
   ]
  },
  {
   "cell_type": "markdown",
   "metadata": {},
   "source": [
    "### Problem 10: Repeat problem 9, but build your function out to accept *any* valid probability of flipping heads. (i.e. a user can input 1%, 10%, 35%, 99%, and so on)."
   ]
  },
  {
   "cell_type": "code",
   "execution_count": 31,
   "metadata": {},
   "outputs": [
    {
     "data": {
      "text/plain": [
       "['heads', 'tails']"
      ]
     },
     "execution_count": 31,
     "metadata": {},
     "output_type": "execute_result"
    }
   ],
   "source": [
    "coin"
   ]
  },
  {
   "cell_type": "code",
   "execution_count": 32,
   "metadata": {},
   "outputs": [],
   "source": [
    "def greater_than_eight_unfair_user_defined(n, p_heads):\n",
    "    \n",
    "    # Simple check to ensure p_heads is between 0 to 1 since its a probability\n",
    "    if (p_heads < 0) or (p_heads > 1):\n",
    "        return \"Error. p_heads should be between 0 and 1.\"\n",
    "    \n",
    "    # Set up counter to see how many successes we get.\n",
    "    count = 0 \n",
    "    \n",
    "    # Run experiment n times.\n",
    "    for i in range(n): \n",
    "        \n",
    "        # Flip one coin\n",
    "        coin_flip = np.random.choice(coin, p=[p_heads, 1-p_heads]) # p : The probabilities associated with each entry in coin.\n",
    "        \n",
    "        # If I flip heads\n",
    "        if coin_flip == \"heads\":\n",
    "            # I roll one die\n",
    "            die_roll = np.random.choice(dice)\n",
    "        \n",
    "        # If I flip tails\n",
    "        elif coin_flip == \"tails\":\n",
    "            # I roll two dice\n",
    "            die_roll_1 = np.random.choice(dice)\n",
    "            die_roll_2 = np.random.choice(dice)\n",
    "            \n",
    "            # and sum their values\n",
    "            die_roll = die_roll_1 + die_roll_2\n",
    "        \n",
    "        # Check if the value is greater than 8\n",
    "        if die_roll > 8:\n",
    "            count += 1\n",
    "        \n",
    "    return count/n"
   ]
  },
  {
   "cell_type": "code",
   "execution_count": 33,
   "metadata": {},
   "outputs": [
    {
     "data": {
      "text/plain": [
       "0.2695"
      ]
     },
     "execution_count": 33,
     "metadata": {},
     "output_type": "execute_result"
    }
   ],
   "source": [
    "greater_than_eight_unfair_user_defined(10_000, 0)"
   ]
  },
  {
   "cell_type": "code",
   "execution_count": 34,
   "metadata": {},
   "outputs": [
    {
     "data": {
      "text/plain": [
       "0.2761"
      ]
     },
     "execution_count": 34,
     "metadata": {},
     "output_type": "execute_result"
    }
   ],
   "source": [
    "greater_than_eight_unfair_user_defined(10_000, 0.01)"
   ]
  },
  {
   "cell_type": "code",
   "execution_count": 35,
   "metadata": {},
   "outputs": [
    {
     "data": {
      "text/plain": [
       "0.2481"
      ]
     },
     "execution_count": 35,
     "metadata": {},
     "output_type": "execute_result"
    }
   ],
   "source": [
    "greater_than_eight_unfair_user_defined(10_000, 0.1)"
   ]
  },
  {
   "cell_type": "code",
   "execution_count": 36,
   "metadata": {},
   "outputs": [
    {
     "data": {
      "text/plain": [
       "0.1429"
      ]
     },
     "execution_count": 36,
     "metadata": {},
     "output_type": "execute_result"
    }
   ],
   "source": [
    "greater_than_eight_unfair_user_defined(10_000, 0.5)"
   ]
  },
  {
   "cell_type": "code",
   "execution_count": 37,
   "metadata": {},
   "outputs": [
    {
     "data": {
      "text/plain": [
       "0.03"
      ]
     },
     "execution_count": 37,
     "metadata": {},
     "output_type": "execute_result"
    }
   ],
   "source": [
    "greater_than_eight_unfair_user_defined(10_000, 0.9)"
   ]
  },
  {
   "cell_type": "code",
   "execution_count": 38,
   "metadata": {},
   "outputs": [
    {
     "data": {
      "text/plain": [
       "0.0"
      ]
     },
     "execution_count": 38,
     "metadata": {},
     "output_type": "execute_result"
    }
   ],
   "source": [
    "greater_than_eight_unfair_user_defined(10_000, 1)"
   ]
  },
  {
   "cell_type": "markdown",
   "metadata": {},
   "source": [
    "**Summary**: It looks as though, as the probability of heads increases, the probability of getting a sum that is greater than eight decreases (as expected)."
   ]
  },
  {
   "cell_type": "markdown",
   "metadata": {},
   "source": [
    "### Problem 11: Two players are playing a game. Player A goes first and flips a coin. If the coin is heads, player A wins. If the coin is tails, player B then flips a coin. If the coin is heads, player B wins. Otherwise, the coin goes back to player A. They continue flipping until one person has flipped heads. If the coin is fair, what is the probability of player A winning?"
   ]
  },
  {
   "cell_type": "code",
   "execution_count": 39,
   "metadata": {},
   "outputs": [
    {
     "data": {
      "text/plain": [
       "['heads', 'tails']"
      ]
     },
     "execution_count": 39,
     "metadata": {},
     "output_type": "execute_result"
    }
   ],
   "source": [
    "coin"
   ]
  },
  {
   "cell_type": "code",
   "execution_count": 40,
   "metadata": {},
   "outputs": [],
   "source": [
    "def coin_game(n):\n",
    "    \n",
    "    # Set up counter to see how many successes we get for player A.\n",
    "    a_win_count = 0\n",
    "    \n",
    "    # Run experiment n times.\n",
    "    for i in range(n): \n",
    "        \n",
    "        # Start with player A\n",
    "        player = 0\n",
    "        \n",
    "        # Everytime the coin is flipped check if its \"heads\"\n",
    "        while np.random.choice(coin) != \"heads\":           \n",
    "            # Player A is 0 and player B is 1\n",
    "            # If outcome is not heads, switch to the next player\n",
    "            player = (player + 1) % 2\n",
    "            \n",
    "        # When outcome is heads and the while loop exists, check if Player is A then add one to a_win_count\n",
    "        if player == 0:\n",
    "            a_win_count += 1\n",
    "        \n",
    "    return a_win_count/n"
   ]
  },
  {
   "cell_type": "code",
   "execution_count": 41,
   "metadata": {},
   "outputs": [
    {
     "data": {
      "text/plain": [
       "0.6636"
      ]
     },
     "execution_count": 41,
     "metadata": {},
     "output_type": "execute_result"
    }
   ],
   "source": [
    "coin_game(10_000)"
   ]
  },
  {
   "cell_type": "markdown",
   "metadata": {},
   "source": [
    "### Problem 12: Repeat problem 11, but adapt your function to accept another argument, $p_heads$, where $p_heads$ is the probability of flipping heads."
   ]
  },
  {
   "cell_type": "code",
   "execution_count": 42,
   "metadata": {},
   "outputs": [
    {
     "data": {
      "text/plain": [
       "['heads', 'tails']"
      ]
     },
     "execution_count": 42,
     "metadata": {},
     "output_type": "execute_result"
    }
   ],
   "source": [
    "coin"
   ]
  },
  {
   "cell_type": "code",
   "execution_count": 43,
   "metadata": {},
   "outputs": [],
   "source": [
    "def coin_game_unfair(n, p_heads):\n",
    "    \n",
    "    # Set up counter to see how many successes we get for player A.\n",
    "    a_win_count = 0\n",
    "    \n",
    "    # Run experiment n times.\n",
    "    for i in range(n): \n",
    "        \n",
    "        # Start with player A\n",
    "        player = 0\n",
    "        \n",
    "        # Everytime the coin is flipped check if its \"heads\"\n",
    "        # p : The probabilities associated with each entry in coin.\n",
    "        while np.random.choice(coin, p=[p_heads, 1-p_heads]) != \"heads\":           \n",
    "            # Player A is 0 and player B is 1\n",
    "            # If outcome is not heads, switch to the next player\n",
    "            player = (player + 1) % 2\n",
    "            \n",
    "        # When outcome is heads and the while loop exists, check if Player is A then add one to a_win_count\n",
    "        if player == 0:\n",
    "            a_win_count += 1\n",
    "        \n",
    "    return a_win_count/n"
   ]
  },
  {
   "cell_type": "code",
   "execution_count": 44,
   "metadata": {},
   "outputs": [
    {
     "data": {
      "text/plain": [
       "0.508"
      ]
     },
     "execution_count": 44,
     "metadata": {},
     "output_type": "execute_result"
    }
   ],
   "source": [
    "coin_game_unfair(10_000, 0.01)"
   ]
  },
  {
   "cell_type": "code",
   "execution_count": 45,
   "metadata": {},
   "outputs": [
    {
     "data": {
      "text/plain": [
       "0.5147"
      ]
     },
     "execution_count": 45,
     "metadata": {},
     "output_type": "execute_result"
    }
   ],
   "source": [
    "coin_game_unfair(10_000, 0.05)"
   ]
  },
  {
   "cell_type": "code",
   "execution_count": 46,
   "metadata": {},
   "outputs": [
    {
     "data": {
      "text/plain": [
       "0.5246"
      ]
     },
     "execution_count": 46,
     "metadata": {},
     "output_type": "execute_result"
    }
   ],
   "source": [
    "coin_game_unfair(10_000, 0.1)"
   ]
  },
  {
   "cell_type": "code",
   "execution_count": 47,
   "metadata": {},
   "outputs": [
    {
     "data": {
      "text/plain": [
       "0.666"
      ]
     },
     "execution_count": 47,
     "metadata": {},
     "output_type": "execute_result"
    }
   ],
   "source": [
    "coin_game_unfair(10_000, 0.5)"
   ]
  },
  {
   "cell_type": "code",
   "execution_count": 48,
   "metadata": {},
   "outputs": [
    {
     "data": {
      "text/plain": [
       "0.9088"
      ]
     },
     "execution_count": 48,
     "metadata": {},
     "output_type": "execute_result"
    }
   ],
   "source": [
    "coin_game_unfair(10_000, 0.9)"
   ]
  },
  {
   "cell_type": "code",
   "execution_count": 49,
   "metadata": {},
   "outputs": [
    {
     "data": {
      "text/plain": [
       "0.9904"
      ]
     },
     "execution_count": 49,
     "metadata": {},
     "output_type": "execute_result"
    }
   ],
   "source": [
    "coin_game_unfair(10_000, 0.99)"
   ]
  },
  {
   "cell_type": "markdown",
   "metadata": {},
   "source": [
    "### Interview Problem *(advanced)*: Suppose I have a stick of length 1. I randomly break this stick in two places. What is the probability that the three pieces can form a triangle? (Note that a triangle can be formed if and only if the length of each side is smaller than the sum of the other two sides.)\n",
    "- Hint: You may want to use [`np.random.uniform`](https://docs.scipy.org/doc/numpy/reference/generated/numpy.random.uniform.html) to pick a random place to break your stick."
   ]
  },
  {
   "cell_type": "code",
   "execution_count": 50,
   "metadata": {},
   "outputs": [],
   "source": [
    "# Defining a function with n simulations, estimating the probability of forming a triangle.\n",
    "\n",
    "def triangle_prob(n): \n",
    "    # Set up counter to track how many valid triangles we get.\n",
    "    count = 0 \n",
    "    \n",
    "    for i in range(n):\n",
    "        # Randomly cut our stick in one place.\n",
    "        break_1 = np.random.uniform(0,1) \n",
    "        \n",
    "        # Randomly cut our stick in another place.\n",
    "        break_2 = np.random.uniform(0,1) \n",
    "        \n",
    "        # Make sure left_break is the one closer to 0.\n",
    "        left_break = min(break_1, break_2) \n",
    "        \n",
    "        # Make sure right_break is the one closer to 1.\n",
    "        right_break = max(break_1, break_2) \n",
    "        \n",
    "        # At this point, we have our \"stick\" from 0 to 1. It's broken in two places.\n",
    "        # left_break is the break closer to 0 and right_break is the break closer to 1.\n",
    "        # Now we want to see if the length of any side is greater than 0.5.\n",
    "        # If any side length is greater than 0.5, then the sum of the other two sides\n",
    "        # must be less than 0.5, so we cannot form a valid triangle!\n",
    "        \n",
    "        if (1 - right_break) < 0.5 and (right_break - left_break) < 0.5 and (left_break - 0) < 0.5:\n",
    "            # All sides are less than 0.5, so the triangle must be valid.\n",
    "            count += 1 \n",
    "            \n",
    "    # Return percentage of the time a valid triangle is formed.\n",
    "    return count / n"
   ]
  },
  {
   "cell_type": "code",
   "execution_count": 51,
   "metadata": {},
   "outputs": [
    {
     "data": {
      "text/plain": [
       "0.24687"
      ]
     },
     "execution_count": 51,
     "metadata": {},
     "output_type": "execute_result"
    }
   ],
   "source": [
    "triangle_prob(100_000)"
   ]
  },
  {
   "cell_type": "code",
   "execution_count": null,
   "metadata": {},
   "outputs": [],
   "source": []
  }
 ],
 "metadata": {
  "kernelspec": {
   "display_name": "Python 3",
   "language": "python",
   "name": "python3"
  },
  "language_info": {
   "codemirror_mode": {
    "name": "ipython",
    "version": 3
   },
   "file_extension": ".py",
   "mimetype": "text/x-python",
   "name": "python",
   "nbconvert_exporter": "python",
   "pygments_lexer": "ipython3",
   "version": "3.8.8"
  }
 },
 "nbformat": 4,
 "nbformat_minor": 4
}
