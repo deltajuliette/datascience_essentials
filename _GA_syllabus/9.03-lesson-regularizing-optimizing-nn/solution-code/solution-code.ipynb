{
 "cells": [
  {
   "cell_type": "markdown",
   "metadata": {},
   "source": [
    "<img src=\"http://imgur.com/1ZcRyrc.png\" style=\"float: left; margin: 20px; height: 55px\">\n",
    "\n",
    "## Regularization for Neural Networks\n",
    "\n",
    "### Learning Objectives\n",
    "\n",
    "By the end of the lesson, students should be able to:\n",
    "1. Explain how the three deep learning regularization techniques work\n",
    "    * L1/L2 regularization\n",
    "    * Dropout\n",
    "    * Early stopping\n",
    "2. Implement these techniques in Keras"
   ]
  },
  {
   "cell_type": "code",
   "execution_count": 1,
   "metadata": {},
   "outputs": [],
   "source": [
    "import matplotlib.pyplot as plt\n",
    "from sklearn.model_selection import train_test_split\n",
    "from sklearn.preprocessing import StandardScaler\n",
    "\n",
    "from tensorflow.keras.models import Sequential\n",
    "from tensorflow.keras.layers import Dense\n",
    "from tensorflow.keras.optimizers import Adam\n",
    "\n",
    "import pandas as pd\n",
    "import numpy as np"
   ]
  },
  {
   "cell_type": "markdown",
   "metadata": {},
   "source": [
    "## Load the data"
   ]
  },
  {
   "cell_type": "code",
   "execution_count": 2,
   "metadata": {},
   "outputs": [
    {
     "name": "stdout",
     "output_type": "stream",
     "text": [
      "(3333, 20)\n"
     ]
    },
    {
     "data": {
      "text/html": [
       "<div>\n",
       "<style scoped>\n",
       "    .dataframe tbody tr th:only-of-type {\n",
       "        vertical-align: middle;\n",
       "    }\n",
       "\n",
       "    .dataframe tbody tr th {\n",
       "        vertical-align: top;\n",
       "    }\n",
       "\n",
       "    .dataframe thead th {\n",
       "        text-align: right;\n",
       "    }\n",
       "</style>\n",
       "<table border=\"1\" class=\"dataframe\">\n",
       "  <thead>\n",
       "    <tr style=\"text-align: right;\">\n",
       "      <th></th>\n",
       "      <th>state</th>\n",
       "      <th>account_length</th>\n",
       "      <th>area_code</th>\n",
       "      <th>intl_plan</th>\n",
       "      <th>vmail_plan</th>\n",
       "      <th>vmail_message</th>\n",
       "      <th>day_mins</th>\n",
       "      <th>day_calls</th>\n",
       "      <th>day_charge</th>\n",
       "      <th>eve_mins</th>\n",
       "      <th>eve_calls</th>\n",
       "      <th>eve_charge</th>\n",
       "      <th>night_mins</th>\n",
       "      <th>night_calls</th>\n",
       "      <th>night_charge</th>\n",
       "      <th>intl_mins</th>\n",
       "      <th>intl_calls</th>\n",
       "      <th>intl_charge</th>\n",
       "      <th>custserv_calls</th>\n",
       "      <th>churn</th>\n",
       "    </tr>\n",
       "  </thead>\n",
       "  <tbody>\n",
       "    <tr>\n",
       "      <th>0</th>\n",
       "      <td>KS</td>\n",
       "      <td>128</td>\n",
       "      <td>415</td>\n",
       "      <td>no</td>\n",
       "      <td>yes</td>\n",
       "      <td>25</td>\n",
       "      <td>265.1</td>\n",
       "      <td>110</td>\n",
       "      <td>45.07</td>\n",
       "      <td>197.4</td>\n",
       "      <td>99</td>\n",
       "      <td>16.78</td>\n",
       "      <td>244.7</td>\n",
       "      <td>91</td>\n",
       "      <td>11.01</td>\n",
       "      <td>10.0</td>\n",
       "      <td>3</td>\n",
       "      <td>2.70</td>\n",
       "      <td>1</td>\n",
       "      <td>False</td>\n",
       "    </tr>\n",
       "    <tr>\n",
       "      <th>1</th>\n",
       "      <td>OH</td>\n",
       "      <td>107</td>\n",
       "      <td>415</td>\n",
       "      <td>no</td>\n",
       "      <td>yes</td>\n",
       "      <td>26</td>\n",
       "      <td>161.6</td>\n",
       "      <td>123</td>\n",
       "      <td>27.47</td>\n",
       "      <td>195.5</td>\n",
       "      <td>103</td>\n",
       "      <td>16.62</td>\n",
       "      <td>254.4</td>\n",
       "      <td>103</td>\n",
       "      <td>11.45</td>\n",
       "      <td>13.7</td>\n",
       "      <td>3</td>\n",
       "      <td>3.70</td>\n",
       "      <td>1</td>\n",
       "      <td>False</td>\n",
       "    </tr>\n",
       "    <tr>\n",
       "      <th>2</th>\n",
       "      <td>NJ</td>\n",
       "      <td>137</td>\n",
       "      <td>415</td>\n",
       "      <td>no</td>\n",
       "      <td>no</td>\n",
       "      <td>0</td>\n",
       "      <td>243.4</td>\n",
       "      <td>114</td>\n",
       "      <td>41.38</td>\n",
       "      <td>121.2</td>\n",
       "      <td>110</td>\n",
       "      <td>10.30</td>\n",
       "      <td>162.6</td>\n",
       "      <td>104</td>\n",
       "      <td>7.32</td>\n",
       "      <td>12.2</td>\n",
       "      <td>5</td>\n",
       "      <td>3.29</td>\n",
       "      <td>0</td>\n",
       "      <td>False</td>\n",
       "    </tr>\n",
       "    <tr>\n",
       "      <th>3</th>\n",
       "      <td>OH</td>\n",
       "      <td>84</td>\n",
       "      <td>408</td>\n",
       "      <td>yes</td>\n",
       "      <td>no</td>\n",
       "      <td>0</td>\n",
       "      <td>299.4</td>\n",
       "      <td>71</td>\n",
       "      <td>50.90</td>\n",
       "      <td>61.9</td>\n",
       "      <td>88</td>\n",
       "      <td>5.26</td>\n",
       "      <td>196.9</td>\n",
       "      <td>89</td>\n",
       "      <td>8.86</td>\n",
       "      <td>6.6</td>\n",
       "      <td>7</td>\n",
       "      <td>1.78</td>\n",
       "      <td>2</td>\n",
       "      <td>False</td>\n",
       "    </tr>\n",
       "    <tr>\n",
       "      <th>4</th>\n",
       "      <td>OK</td>\n",
       "      <td>75</td>\n",
       "      <td>415</td>\n",
       "      <td>yes</td>\n",
       "      <td>no</td>\n",
       "      <td>0</td>\n",
       "      <td>166.7</td>\n",
       "      <td>113</td>\n",
       "      <td>28.34</td>\n",
       "      <td>148.3</td>\n",
       "      <td>122</td>\n",
       "      <td>12.61</td>\n",
       "      <td>186.9</td>\n",
       "      <td>121</td>\n",
       "      <td>8.41</td>\n",
       "      <td>10.1</td>\n",
       "      <td>3</td>\n",
       "      <td>2.73</td>\n",
       "      <td>3</td>\n",
       "      <td>False</td>\n",
       "    </tr>\n",
       "  </tbody>\n",
       "</table>\n",
       "</div>"
      ],
      "text/plain": [
       "  state  account_length  area_code intl_plan vmail_plan  vmail_message  \\\n",
       "0    KS             128        415        no        yes             25   \n",
       "1    OH             107        415        no        yes             26   \n",
       "2    NJ             137        415        no         no              0   \n",
       "3    OH              84        408       yes         no              0   \n",
       "4    OK              75        415       yes         no              0   \n",
       "\n",
       "   day_mins  day_calls  day_charge  eve_mins  eve_calls  eve_charge  \\\n",
       "0     265.1        110       45.07     197.4         99       16.78   \n",
       "1     161.6        123       27.47     195.5        103       16.62   \n",
       "2     243.4        114       41.38     121.2        110       10.30   \n",
       "3     299.4         71       50.90      61.9         88        5.26   \n",
       "4     166.7        113       28.34     148.3        122       12.61   \n",
       "\n",
       "   night_mins  night_calls  night_charge  intl_mins  intl_calls  intl_charge  \\\n",
       "0       244.7           91         11.01       10.0           3         2.70   \n",
       "1       254.4          103         11.45       13.7           3         3.70   \n",
       "2       162.6          104          7.32       12.2           5         3.29   \n",
       "3       196.9           89          8.86        6.6           7         1.78   \n",
       "4       186.9          121          8.41       10.1           3         2.73   \n",
       "\n",
       "   custserv_calls  churn  \n",
       "0               1  False  \n",
       "1               1  False  \n",
       "2               0  False  \n",
       "3               2  False  \n",
       "4               3  False  "
      ]
     },
     "execution_count": 2,
     "metadata": {},
     "output_type": "execute_result"
    }
   ],
   "source": [
    "data = pd.read_csv('../data/cell_phone_churn.csv')\n",
    "\n",
    "print(data.shape)\n",
    "data.head()"
   ]
  },
  {
   "cell_type": "code",
   "execution_count": 3,
   "metadata": {},
   "outputs": [
    {
     "data": {
      "text/html": [
       "<div>\n",
       "<style scoped>\n",
       "    .dataframe tbody tr th:only-of-type {\n",
       "        vertical-align: middle;\n",
       "    }\n",
       "\n",
       "    .dataframe tbody tr th {\n",
       "        vertical-align: top;\n",
       "    }\n",
       "\n",
       "    .dataframe thead th {\n",
       "        text-align: right;\n",
       "    }\n",
       "</style>\n",
       "<table border=\"1\" class=\"dataframe\">\n",
       "  <thead>\n",
       "    <tr style=\"text-align: right;\">\n",
       "      <th></th>\n",
       "      <th>account_length</th>\n",
       "      <th>intl_plan</th>\n",
       "      <th>vmail_plan</th>\n",
       "      <th>vmail_message</th>\n",
       "      <th>day_mins</th>\n",
       "      <th>day_calls</th>\n",
       "      <th>day_charge</th>\n",
       "      <th>eve_mins</th>\n",
       "      <th>eve_calls</th>\n",
       "      <th>eve_charge</th>\n",
       "      <th>...</th>\n",
       "      <th>state_TX</th>\n",
       "      <th>state_UT</th>\n",
       "      <th>state_VA</th>\n",
       "      <th>state_VT</th>\n",
       "      <th>state_WA</th>\n",
       "      <th>state_WI</th>\n",
       "      <th>state_WV</th>\n",
       "      <th>state_WY</th>\n",
       "      <th>area_code_415</th>\n",
       "      <th>area_code_510</th>\n",
       "    </tr>\n",
       "  </thead>\n",
       "  <tbody>\n",
       "    <tr>\n",
       "      <th>0</th>\n",
       "      <td>128</td>\n",
       "      <td>0</td>\n",
       "      <td>1</td>\n",
       "      <td>25</td>\n",
       "      <td>265.1</td>\n",
       "      <td>110</td>\n",
       "      <td>45.07</td>\n",
       "      <td>197.4</td>\n",
       "      <td>99</td>\n",
       "      <td>16.78</td>\n",
       "      <td>...</td>\n",
       "      <td>0</td>\n",
       "      <td>0</td>\n",
       "      <td>0</td>\n",
       "      <td>0</td>\n",
       "      <td>0</td>\n",
       "      <td>0</td>\n",
       "      <td>0</td>\n",
       "      <td>0</td>\n",
       "      <td>1</td>\n",
       "      <td>0</td>\n",
       "    </tr>\n",
       "    <tr>\n",
       "      <th>1</th>\n",
       "      <td>107</td>\n",
       "      <td>0</td>\n",
       "      <td>1</td>\n",
       "      <td>26</td>\n",
       "      <td>161.6</td>\n",
       "      <td>123</td>\n",
       "      <td>27.47</td>\n",
       "      <td>195.5</td>\n",
       "      <td>103</td>\n",
       "      <td>16.62</td>\n",
       "      <td>...</td>\n",
       "      <td>0</td>\n",
       "      <td>0</td>\n",
       "      <td>0</td>\n",
       "      <td>0</td>\n",
       "      <td>0</td>\n",
       "      <td>0</td>\n",
       "      <td>0</td>\n",
       "      <td>0</td>\n",
       "      <td>1</td>\n",
       "      <td>0</td>\n",
       "    </tr>\n",
       "    <tr>\n",
       "      <th>2</th>\n",
       "      <td>137</td>\n",
       "      <td>0</td>\n",
       "      <td>0</td>\n",
       "      <td>0</td>\n",
       "      <td>243.4</td>\n",
       "      <td>114</td>\n",
       "      <td>41.38</td>\n",
       "      <td>121.2</td>\n",
       "      <td>110</td>\n",
       "      <td>10.30</td>\n",
       "      <td>...</td>\n",
       "      <td>0</td>\n",
       "      <td>0</td>\n",
       "      <td>0</td>\n",
       "      <td>0</td>\n",
       "      <td>0</td>\n",
       "      <td>0</td>\n",
       "      <td>0</td>\n",
       "      <td>0</td>\n",
       "      <td>1</td>\n",
       "      <td>0</td>\n",
       "    </tr>\n",
       "    <tr>\n",
       "      <th>3</th>\n",
       "      <td>84</td>\n",
       "      <td>1</td>\n",
       "      <td>0</td>\n",
       "      <td>0</td>\n",
       "      <td>299.4</td>\n",
       "      <td>71</td>\n",
       "      <td>50.90</td>\n",
       "      <td>61.9</td>\n",
       "      <td>88</td>\n",
       "      <td>5.26</td>\n",
       "      <td>...</td>\n",
       "      <td>0</td>\n",
       "      <td>0</td>\n",
       "      <td>0</td>\n",
       "      <td>0</td>\n",
       "      <td>0</td>\n",
       "      <td>0</td>\n",
       "      <td>0</td>\n",
       "      <td>0</td>\n",
       "      <td>0</td>\n",
       "      <td>0</td>\n",
       "    </tr>\n",
       "    <tr>\n",
       "      <th>4</th>\n",
       "      <td>75</td>\n",
       "      <td>1</td>\n",
       "      <td>0</td>\n",
       "      <td>0</td>\n",
       "      <td>166.7</td>\n",
       "      <td>113</td>\n",
       "      <td>28.34</td>\n",
       "      <td>148.3</td>\n",
       "      <td>122</td>\n",
       "      <td>12.61</td>\n",
       "      <td>...</td>\n",
       "      <td>0</td>\n",
       "      <td>0</td>\n",
       "      <td>0</td>\n",
       "      <td>0</td>\n",
       "      <td>0</td>\n",
       "      <td>0</td>\n",
       "      <td>0</td>\n",
       "      <td>0</td>\n",
       "      <td>1</td>\n",
       "      <td>0</td>\n",
       "    </tr>\n",
       "  </tbody>\n",
       "</table>\n",
       "<p>5 rows × 70 columns</p>\n",
       "</div>"
      ],
      "text/plain": [
       "   account_length  intl_plan  vmail_plan  vmail_message  day_mins  day_calls  \\\n",
       "0             128          0           1             25     265.1        110   \n",
       "1             107          0           1             26     161.6        123   \n",
       "2             137          0           0              0     243.4        114   \n",
       "3              84          1           0              0     299.4         71   \n",
       "4              75          1           0              0     166.7        113   \n",
       "\n",
       "   day_charge  eve_mins  eve_calls  eve_charge  ...  state_TX  state_UT  \\\n",
       "0       45.07     197.4         99       16.78  ...         0         0   \n",
       "1       27.47     195.5        103       16.62  ...         0         0   \n",
       "2       41.38     121.2        110       10.30  ...         0         0   \n",
       "3       50.90      61.9         88        5.26  ...         0         0   \n",
       "4       28.34     148.3        122       12.61  ...         0         0   \n",
       "\n",
       "   state_VA  state_VT  state_WA  state_WI  state_WV  state_WY  area_code_415  \\\n",
       "0         0         0         0         0         0         0              1   \n",
       "1         0         0         0         0         0         0              1   \n",
       "2         0         0         0         0         0         0              1   \n",
       "3         0         0         0         0         0         0              0   \n",
       "4         0         0         0         0         0         0              1   \n",
       "\n",
       "   area_code_510  \n",
       "0              0  \n",
       "1              0  \n",
       "2              0  \n",
       "3              0  \n",
       "4              0  \n",
       "\n",
       "[5 rows x 70 columns]"
      ]
     },
     "execution_count": 3,
     "metadata": {},
     "output_type": "execute_result"
    }
   ],
   "source": [
    "# One-hot encode state & area columns\n",
    "data = pd.get_dummies(data, columns = ['state', 'area_code'], drop_first = True)\n",
    "\n",
    "# Binarize intil_plan and vmail_plan columns\n",
    "data['intl_plan'] = data['intl_plan'].map(lambda x: 1 if x=='yes' else 0)\n",
    "data['vmail_plan'] = data['vmail_plan'].map(lambda x: 1 if x=='yes' else 0)\n",
    "\n",
    "data.head()"
   ]
  },
  {
   "cell_type": "code",
   "execution_count": 4,
   "metadata": {},
   "outputs": [
    {
     "data": {
      "text/plain": [
       "0    2850\n",
       "1     483\n",
       "Name: churn, dtype: int64"
      ]
     },
     "execution_count": 4,
     "metadata": {},
     "output_type": "execute_result"
    }
   ],
   "source": [
    "# Split into X and y\n",
    "X = data.drop('churn', axis=1)\n",
    "y = data['churn'].astype('int')\n",
    "\n",
    "y.value_counts()"
   ]
  },
  {
   "cell_type": "code",
   "execution_count": 5,
   "metadata": {},
   "outputs": [],
   "source": [
    "# Train/test split\n",
    "X_train, X_test, y_train, y_test = train_test_split(X, y, stratify=y, random_state=42)\n",
    "\n",
    "# Scale data\n",
    "sc = StandardScaler()\n",
    "X_train = sc.fit_transform(X_train)\n",
    "X_test = sc.transform(X_test)"
   ]
  },
  {
   "cell_type": "code",
   "execution_count": 6,
   "metadata": {},
   "outputs": [
    {
     "data": {
      "text/plain": [
       "0.8551420568227291"
      ]
     },
     "execution_count": 6,
     "metadata": {},
     "output_type": "execute_result"
    }
   ],
   "source": [
    "# If we naively predict every row as zero, our accuracy is:\n",
    "len(y_train[y_train==0])/len(y_train)"
   ]
  },
  {
   "cell_type": "markdown",
   "metadata": {},
   "source": [
    "## Build a simple neural net to model churn\n",
    "\n",
    "Let's build this:\n",
    "\n",
    "- two hidden layers\n",
    "  - slightly smaller at each layer\n",
    "  - ReLU activation\n",
    "- single node output (for binary classification)"
   ]
  },
  {
   "cell_type": "markdown",
   "metadata": {},
   "source": [
    "<details><summary>What activation function will we use for our output layer here?</summary>\n",
    "\n",
    "- Sigmoid activation, since we are doing binary classification.\n",
    "</details>"
   ]
  },
  {
   "cell_type": "markdown",
   "metadata": {},
   "source": [
    "> **Fun fact**: If we dropped the hidden layer, this model would just be logistic regression!  Can you prove that to yourself?"
   ]
  },
  {
   "cell_type": "code",
   "execution_count": 7,
   "metadata": {},
   "outputs": [
    {
     "data": {
      "text/plain": [
       "69"
      ]
     },
     "execution_count": 7,
     "metadata": {},
     "output_type": "execute_result"
    }
   ],
   "source": [
    "n_input = X_train.shape[1]\n",
    "n_input"
   ]
  },
  {
   "cell_type": "code",
   "execution_count": 8,
   "metadata": {},
   "outputs": [
    {
     "name": "stdout",
     "output_type": "stream",
     "text": [
      "Model: \"sequential\"\n",
      "_________________________________________________________________\n",
      " Layer (type)                Output Shape              Param #   \n",
      "=================================================================\n",
      " dense (Dense)               (None, 60)                4200      \n",
      "                                                                 \n",
      " dense_1 (Dense)             (None, 20)                1220      \n",
      "                                                                 \n",
      " dense_2 (Dense)             (None, 1)                 21        \n",
      "                                                                 \n",
      "=================================================================\n",
      "Total params: 5,441\n",
      "Trainable params: 5,441\n",
      "Non-trainable params: 0\n",
      "_________________________________________________________________\n"
     ]
    }
   ],
   "source": [
    "model = Sequential()\n",
    "model.add(Dense(60, input_dim=n_input, activation='relu'))\n",
    "model.add(Dense(20, activation='relu'))\n",
    "model.add(Dense(1, activation='sigmoid'))\n",
    "model.summary()"
   ]
  },
  {
   "cell_type": "code",
   "execution_count": 9,
   "metadata": {},
   "outputs": [],
   "source": [
    "opt = Adam(learning_rate=0.001)\n",
    "model.compile(loss='binary_crossentropy', optimizer=opt, metrics=['accuracy'])"
   ]
  },
  {
   "cell_type": "code",
   "execution_count": 10,
   "metadata": {
    "scrolled": true
   },
   "outputs": [
    {
     "name": "stdout",
     "output_type": "stream",
     "text": [
      "Epoch 1/50\n",
      "79/79 [==============================] - 1s 3ms/step - loss: 0.5985 - accuracy: 0.6891 - val_loss: 0.3909 - val_accuracy: 0.8549\n",
      "Epoch 2/50\n",
      "79/79 [==============================] - 0s 2ms/step - loss: 0.3589 - accuracy: 0.8591 - val_loss: 0.3550 - val_accuracy: 0.8561\n",
      "Epoch 3/50\n",
      "79/79 [==============================] - 0s 2ms/step - loss: 0.3179 - accuracy: 0.8671 - val_loss: 0.3444 - val_accuracy: 0.8597\n",
      "Epoch 4/50\n",
      "79/79 [==============================] - 0s 1ms/step - loss: 0.2930 - accuracy: 0.8747 - val_loss: 0.3387 - val_accuracy: 0.8633\n",
      "Epoch 5/50\n",
      "79/79 [==============================] - 0s 1ms/step - loss: 0.2713 - accuracy: 0.8932 - val_loss: 0.3335 - val_accuracy: 0.8657\n",
      "Epoch 6/50\n",
      "79/79 [==============================] - 0s 1ms/step - loss: 0.2501 - accuracy: 0.9028 - val_loss: 0.3228 - val_accuracy: 0.8705\n",
      "Epoch 7/50\n",
      "79/79 [==============================] - 0s 1ms/step - loss: 0.2292 - accuracy: 0.9136 - val_loss: 0.3151 - val_accuracy: 0.8753\n",
      "Epoch 8/50\n",
      "79/79 [==============================] - 0s 1ms/step - loss: 0.2095 - accuracy: 0.9260 - val_loss: 0.3073 - val_accuracy: 0.8765\n",
      "Epoch 9/50\n",
      "79/79 [==============================] - 0s 1ms/step - loss: 0.1936 - accuracy: 0.9332 - val_loss: 0.3006 - val_accuracy: 0.8825\n",
      "Epoch 10/50\n",
      "79/79 [==============================] - 0s 2ms/step - loss: 0.1791 - accuracy: 0.9348 - val_loss: 0.3024 - val_accuracy: 0.8837\n",
      "Epoch 11/50\n",
      "79/79 [==============================] - 0s 1ms/step - loss: 0.1664 - accuracy: 0.9428 - val_loss: 0.3024 - val_accuracy: 0.8753\n",
      "Epoch 12/50\n",
      "79/79 [==============================] - 0s 1ms/step - loss: 0.1546 - accuracy: 0.9504 - val_loss: 0.3097 - val_accuracy: 0.8849\n",
      "Epoch 13/50\n",
      "79/79 [==============================] - 0s 2ms/step - loss: 0.1449 - accuracy: 0.9500 - val_loss: 0.3065 - val_accuracy: 0.8717\n",
      "Epoch 14/50\n",
      "79/79 [==============================] - 0s 1ms/step - loss: 0.1367 - accuracy: 0.9536 - val_loss: 0.3083 - val_accuracy: 0.8825\n",
      "Epoch 15/50\n",
      "79/79 [==============================] - 0s 1ms/step - loss: 0.1270 - accuracy: 0.9608 - val_loss: 0.3124 - val_accuracy: 0.8825\n",
      "Epoch 16/50\n",
      "79/79 [==============================] - 0s 1ms/step - loss: 0.1164 - accuracy: 0.9624 - val_loss: 0.3164 - val_accuracy: 0.8813\n",
      "Epoch 17/50\n",
      "79/79 [==============================] - 0s 2ms/step - loss: 0.1086 - accuracy: 0.9664 - val_loss: 0.3216 - val_accuracy: 0.8813\n",
      "Epoch 18/50\n",
      "79/79 [==============================] - 0s 2ms/step - loss: 0.1020 - accuracy: 0.9688 - val_loss: 0.3253 - val_accuracy: 0.8825\n",
      "Epoch 19/50\n",
      "79/79 [==============================] - 0s 1ms/step - loss: 0.0939 - accuracy: 0.9724 - val_loss: 0.3394 - val_accuracy: 0.8825\n",
      "Epoch 20/50\n",
      "79/79 [==============================] - 0s 1ms/step - loss: 0.0914 - accuracy: 0.9696 - val_loss: 0.3460 - val_accuracy: 0.8825\n",
      "Epoch 21/50\n",
      "79/79 [==============================] - 0s 1ms/step - loss: 0.0811 - accuracy: 0.9784 - val_loss: 0.3418 - val_accuracy: 0.8885\n",
      "Epoch 22/50\n",
      "79/79 [==============================] - 0s 1ms/step - loss: 0.0741 - accuracy: 0.9792 - val_loss: 0.3498 - val_accuracy: 0.8921\n",
      "Epoch 23/50\n",
      "79/79 [==============================] - 0s 1ms/step - loss: 0.0674 - accuracy: 0.9828 - val_loss: 0.3679 - val_accuracy: 0.8765\n",
      "Epoch 24/50\n",
      "79/79 [==============================] - 0s 1ms/step - loss: 0.0621 - accuracy: 0.9848 - val_loss: 0.3700 - val_accuracy: 0.8861\n",
      "Epoch 25/50\n",
      "79/79 [==============================] - 0s 1ms/step - loss: 0.0610 - accuracy: 0.9836 - val_loss: 0.3753 - val_accuracy: 0.8777\n",
      "Epoch 26/50\n",
      "79/79 [==============================] - 0s 1ms/step - loss: 0.0546 - accuracy: 0.9868 - val_loss: 0.3890 - val_accuracy: 0.8801\n",
      "Epoch 27/50\n",
      "79/79 [==============================] - 0s 1ms/step - loss: 0.0484 - accuracy: 0.9884 - val_loss: 0.3934 - val_accuracy: 0.8741\n",
      "Epoch 28/50\n",
      "79/79 [==============================] - 0s 1ms/step - loss: 0.0444 - accuracy: 0.9888 - val_loss: 0.4083 - val_accuracy: 0.8801\n",
      "Epoch 29/50\n",
      "79/79 [==============================] - 0s 1ms/step - loss: 0.0413 - accuracy: 0.9900 - val_loss: 0.4154 - val_accuracy: 0.8753\n",
      "Epoch 30/50\n",
      "79/79 [==============================] - 0s 1ms/step - loss: 0.0369 - accuracy: 0.9916 - val_loss: 0.4242 - val_accuracy: 0.8729\n",
      "Epoch 31/50\n",
      "79/79 [==============================] - 0s 1ms/step - loss: 0.0351 - accuracy: 0.9920 - val_loss: 0.4320 - val_accuracy: 0.8741\n",
      "Epoch 32/50\n",
      "79/79 [==============================] - 0s 1ms/step - loss: 0.0309 - accuracy: 0.9932 - val_loss: 0.4494 - val_accuracy: 0.8765\n",
      "Epoch 33/50\n",
      "79/79 [==============================] - 0s 1ms/step - loss: 0.0290 - accuracy: 0.9932 - val_loss: 0.4562 - val_accuracy: 0.8705\n",
      "Epoch 34/50\n",
      "79/79 [==============================] - 0s 1ms/step - loss: 0.0264 - accuracy: 0.9944 - val_loss: 0.4631 - val_accuracy: 0.8777\n",
      "Epoch 35/50\n",
      "79/79 [==============================] - 0s 1ms/step - loss: 0.0245 - accuracy: 0.9944 - val_loss: 0.4758 - val_accuracy: 0.8681\n",
      "Epoch 36/50\n",
      "79/79 [==============================] - 0s 1ms/step - loss: 0.0219 - accuracy: 0.9948 - val_loss: 0.4871 - val_accuracy: 0.8681\n",
      "Epoch 37/50\n",
      "79/79 [==============================] - 0s 1ms/step - loss: 0.0210 - accuracy: 0.9952 - val_loss: 0.4971 - val_accuracy: 0.8717\n",
      "Epoch 38/50\n",
      "79/79 [==============================] - 0s 1ms/step - loss: 0.0187 - accuracy: 0.9964 - val_loss: 0.5076 - val_accuracy: 0.8729\n",
      "Epoch 39/50\n",
      "79/79 [==============================] - 0s 1ms/step - loss: 0.0165 - accuracy: 0.9960 - val_loss: 0.5147 - val_accuracy: 0.8669\n",
      "Epoch 40/50\n",
      "79/79 [==============================] - 0s 1ms/step - loss: 0.0162 - accuracy: 0.9972 - val_loss: 0.5248 - val_accuracy: 0.8657\n",
      "Epoch 41/50\n",
      "79/79 [==============================] - 0s 1ms/step - loss: 0.0136 - accuracy: 0.9984 - val_loss: 0.5389 - val_accuracy: 0.8681\n",
      "Epoch 42/50\n",
      "79/79 [==============================] - 0s 1ms/step - loss: 0.0122 - accuracy: 0.9984 - val_loss: 0.5381 - val_accuracy: 0.8681\n",
      "Epoch 43/50\n",
      "79/79 [==============================] - 0s 1ms/step - loss: 0.0115 - accuracy: 0.9988 - val_loss: 0.5560 - val_accuracy: 0.8657\n",
      "Epoch 44/50\n",
      "79/79 [==============================] - 0s 1ms/step - loss: 0.0120 - accuracy: 0.9984 - val_loss: 0.5715 - val_accuracy: 0.8693\n",
      "Epoch 45/50\n",
      "79/79 [==============================] - 0s 1ms/step - loss: 0.0094 - accuracy: 0.9996 - val_loss: 0.5766 - val_accuracy: 0.8717\n",
      "Epoch 46/50\n",
      "79/79 [==============================] - 0s 1ms/step - loss: 0.0089 - accuracy: 0.9988 - val_loss: 0.5851 - val_accuracy: 0.8753\n",
      "Epoch 47/50\n",
      "79/79 [==============================] - 0s 1ms/step - loss: 0.0079 - accuracy: 0.9996 - val_loss: 0.5955 - val_accuracy: 0.8693\n",
      "Epoch 48/50\n",
      "79/79 [==============================] - 0s 1ms/step - loss: 0.0075 - accuracy: 0.9992 - val_loss: 0.6154 - val_accuracy: 0.8645\n",
      "Epoch 49/50\n",
      "79/79 [==============================] - 0s 1ms/step - loss: 0.0065 - accuracy: 0.9996 - val_loss: 0.6269 - val_accuracy: 0.8669\n",
      "Epoch 50/50\n",
      "79/79 [==============================] - 0s 1ms/step - loss: 0.0056 - accuracy: 1.0000 - val_loss: 0.6317 - val_accuracy: 0.8753\n"
     ]
    }
   ],
   "source": [
    "history = model.fit(\n",
    "    X_train,\n",
    "    y_train,\n",
    "    validation_data=(X_test, y_test),\n",
    "    epochs=50,\n",
    "    batch_size=32\n",
    ")"
   ]
  },
  {
   "cell_type": "code",
   "execution_count": 11,
   "metadata": {},
   "outputs": [
    {
     "data": {
      "image/png": "[encoded data removed]",
      "text/plain": [
       "<Figure size 864x576 with 1 Axes>"
      ]
     },
     "metadata": {
      "needs_background": "light"
     },
     "output_type": "display_data"
    }
   ],
   "source": [
    "train_loss = history.history['loss']\n",
    "test_loss = history.history['val_loss']\n",
    "\n",
    "plt.figure(figsize=(12, 8))\n",
    "plt.plot(train_loss, label='Training loss')\n",
    "plt.plot(test_loss, label='Testing loss')\n",
    "plt.xlabel('Epoch')\n",
    "plt.ylabel('Loss')\n",
    "plt.legend();"
   ]
  },
  {
   "cell_type": "code",
   "execution_count": 12,
   "metadata": {
    "scrolled": true
   },
   "outputs": [
    {
     "data": {
      "text/plain": [
       "(1.0, 0.8752997517585754)"
      ]
     },
     "execution_count": 12,
     "metadata": {},
     "output_type": "execute_result"
    }
   ],
   "source": [
    "# Print accuracies of the last epoch\n",
    "history.history['accuracy'][-1], history.history['val_accuracy'][-1]"
   ]
  },
  {
   "cell_type": "markdown",
   "metadata": {},
   "source": [
    "![](../assets/overkill.jpg)"
   ]
  },
  {
   "cell_type": "markdown",
   "metadata": {},
   "source": [
    "## Regularization Method 1: $\\mathcal{l}_1$ and $\\mathcal{l}_2$\n",
    "---\n",
    "- Recall that each node in our neural network consists of both linear terms and non-linear activations. \n",
    "- The fact that we have linear terms allows us to use $l_1$ (LASSO) and $l_2$ (Ridge) regularization on our neural networks just as we did in our linear regression.\n",
    "\n",
    "Recall from our notation:\n",
    "\n",
    "* $J(\\theta) = L(\\mathbf{y}, \\hat{\\mathbf{y}})$ is the value of the loss function with respect to...\n",
    "* $\\theta$, the list of _all_ model coefficients (all weights and biases).\n",
    "\n",
    "We regularize our neural networks by adding a penalty term to our loss function:\n",
    "\n",
    "$$ \\text{minimize } J(\\theta) + \\lambda \\|\\theta\\|_2^2 $$\n",
    "\n",
    "This has the effect of penalizing our parameters $\\theta$ by shrinking them, hence bartering in the bias-variance tradeoff by (hopefully) reducing variance by adding bias. Although it is rarely done, **Keras actually gives us the opportunity to penalize the weights at different layers by different amounts.**\n",
    "\n",
    "## Which to pick: $\\mathcal{l}_1$ or $\\mathcal{l}_2$?\n",
    "Recall the key difference: $\\mathcal{l}_1$ penalties perform _selection_. That is, they often zero out parameters when they're small enough. While this sounds appealing, $\\mathcal{l}_2$ is used almost exclusively. It's done so often, that deep learning practitions give it a special name: **weight decay**. When in doubt, pls experiment!"
   ]
  },
  {
   "cell_type": "code",
   "execution_count": 13,
   "metadata": {
    "scrolled": true,
    "tags": []
   },
   "outputs": [
    {
     "name": "stdout",
     "output_type": "stream",
     "text": [
      "Epoch 1/50\n",
      "79/79 [==============================] - 1s 3ms/step - loss: 1.2548 - accuracy: 0.8227 - val_loss: 1.0336 - val_accuracy: 0.8549\n",
      "Epoch 2/50\n",
      "79/79 [==============================] - 0s 1ms/step - loss: 0.8950 - accuracy: 0.8571 - val_loss: 0.7995 - val_accuracy: 0.8609\n",
      "Epoch 3/50\n",
      "79/79 [==============================] - 0s 2ms/step - loss: 0.7034 - accuracy: 0.8651 - val_loss: 0.6636 - val_accuracy: 0.8717\n",
      "Epoch 4/50\n",
      "79/79 [==============================] - 0s 1ms/step - loss: 0.5896 - accuracy: 0.8739 - val_loss: 0.5802 - val_accuracy: 0.8729\n",
      "Epoch 5/50\n",
      "79/79 [==============================] - 0s 1ms/step - loss: 0.5142 - accuracy: 0.8752 - val_loss: 0.5229 - val_accuracy: 0.8741\n",
      "Epoch 6/50\n",
      "79/79 [==============================] - 0s 1ms/step - loss: 0.4599 - accuracy: 0.8896 - val_loss: 0.4805 - val_accuracy: 0.8753\n",
      "Epoch 7/50\n",
      "79/79 [==============================] - 0s 1ms/step - loss: 0.4190 - accuracy: 0.8944 - val_loss: 0.4497 - val_accuracy: 0.8777\n",
      "Epoch 8/50\n",
      "79/79 [==============================] - 0s 1ms/step - loss: 0.3890 - accuracy: 0.9076 - val_loss: 0.4281 - val_accuracy: 0.8873\n",
      "Epoch 9/50\n",
      "79/79 [==============================] - 0s 1ms/step - loss: 0.3681 - accuracy: 0.9200 - val_loss: 0.4171 - val_accuracy: 0.8849\n",
      "Epoch 10/50\n",
      "79/79 [==============================] - 0s 1ms/step - loss: 0.3511 - accuracy: 0.9212 - val_loss: 0.4087 - val_accuracy: 0.8945\n",
      "Epoch 11/50\n",
      "79/79 [==============================] - 0s 1ms/step - loss: 0.3397 - accuracy: 0.9240 - val_loss: 0.4075 - val_accuracy: 0.8933\n",
      "Epoch 12/50\n",
      "79/79 [==============================] - 0s 1ms/step - loss: 0.3364 - accuracy: 0.9280 - val_loss: 0.3987 - val_accuracy: 0.8993\n",
      "Epoch 13/50\n",
      "79/79 [==============================] - 0s 1ms/step - loss: 0.3248 - accuracy: 0.9304 - val_loss: 0.3925 - val_accuracy: 0.8885\n",
      "Epoch 14/50\n",
      "79/79 [==============================] - 0s 1ms/step - loss: 0.3222 - accuracy: 0.9260 - val_loss: 0.3870 - val_accuracy: 0.8993\n",
      "Epoch 15/50\n",
      "79/79 [==============================] - 0s 1ms/step - loss: 0.3157 - accuracy: 0.9340 - val_loss: 0.3887 - val_accuracy: 0.8897\n",
      "Epoch 16/50\n",
      "79/79 [==============================] - 0s 1ms/step - loss: 0.3121 - accuracy: 0.9352 - val_loss: 0.3859 - val_accuracy: 0.8909\n",
      "Epoch 17/50\n",
      "79/79 [==============================] - 0s 1ms/step - loss: 0.3083 - accuracy: 0.9372 - val_loss: 0.3822 - val_accuracy: 0.8945\n",
      "Epoch 18/50\n",
      "79/79 [==============================] - 0s 1ms/step - loss: 0.3070 - accuracy: 0.9368 - val_loss: 0.3872 - val_accuracy: 0.8873\n",
      "Epoch 19/50\n",
      "79/79 [==============================] - 0s 1ms/step - loss: 0.3059 - accuracy: 0.9380 - val_loss: 0.3889 - val_accuracy: 0.8921\n",
      "Epoch 20/50\n",
      "79/79 [==============================] - 0s 1ms/step - loss: 0.3051 - accuracy: 0.9376 - val_loss: 0.3836 - val_accuracy: 0.8909\n",
      "Epoch 21/50\n",
      "79/79 [==============================] - 0s 1ms/step - loss: 0.3029 - accuracy: 0.9424 - val_loss: 0.3805 - val_accuracy: 0.8981\n",
      "Epoch 22/50\n",
      "79/79 [==============================] - 0s 1ms/step - loss: 0.2993 - accuracy: 0.9420 - val_loss: 0.3794 - val_accuracy: 0.8957\n",
      "Epoch 23/50\n",
      "79/79 [==============================] - 0s 1ms/step - loss: 0.2983 - accuracy: 0.9400 - val_loss: 0.3837 - val_accuracy: 0.8885\n",
      "Epoch 24/50\n",
      "79/79 [==============================] - 0s 1ms/step - loss: 0.2989 - accuracy: 0.9416 - val_loss: 0.3783 - val_accuracy: 0.8921\n",
      "Epoch 25/50\n",
      "79/79 [==============================] - 0s 1ms/step - loss: 0.2983 - accuracy: 0.9412 - val_loss: 0.3787 - val_accuracy: 0.8957\n",
      "Epoch 26/50\n",
      "79/79 [==============================] - 0s 1ms/step - loss: 0.2974 - accuracy: 0.9436 - val_loss: 0.3796 - val_accuracy: 0.8921\n",
      "Epoch 27/50\n",
      "79/79 [==============================] - 0s 1ms/step - loss: 0.2969 - accuracy: 0.9408 - val_loss: 0.3779 - val_accuracy: 0.8969\n",
      "Epoch 28/50\n",
      "79/79 [==============================] - 0s 1ms/step - loss: 0.2965 - accuracy: 0.9424 - val_loss: 0.3723 - val_accuracy: 0.8993\n",
      "Epoch 29/50\n",
      "79/79 [==============================] - 0s 2ms/step - loss: 0.2935 - accuracy: 0.9448 - val_loss: 0.3788 - val_accuracy: 0.8993\n",
      "Epoch 30/50\n",
      "79/79 [==============================] - 0s 1ms/step - loss: 0.2941 - accuracy: 0.9472 - val_loss: 0.3761 - val_accuracy: 0.8993\n",
      "Epoch 31/50\n",
      "79/79 [==============================] - 0s 1ms/step - loss: 0.2935 - accuracy: 0.9456 - val_loss: 0.3754 - val_accuracy: 0.8993\n",
      "Epoch 32/50\n",
      "79/79 [==============================] - 0s 1ms/step - loss: 0.2944 - accuracy: 0.9452 - val_loss: 0.3797 - val_accuracy: 0.8957\n",
      "Epoch 33/50\n",
      "79/79 [==============================] - 0s 1ms/step - loss: 0.2926 - accuracy: 0.9472 - val_loss: 0.3758 - val_accuracy: 0.9029\n",
      "Epoch 34/50\n",
      "79/79 [==============================] - 0s 1ms/step - loss: 0.2938 - accuracy: 0.9412 - val_loss: 0.3753 - val_accuracy: 0.9017\n",
      "Epoch 35/50\n",
      "79/79 [==============================] - 0s 1ms/step - loss: 0.2894 - accuracy: 0.9452 - val_loss: 0.3808 - val_accuracy: 0.8981\n",
      "Epoch 36/50\n",
      "79/79 [==============================] - 0s 1ms/step - loss: 0.2894 - accuracy: 0.9484 - val_loss: 0.3761 - val_accuracy: 0.8969\n",
      "Epoch 37/50\n",
      "79/79 [==============================] - 0s 1ms/step - loss: 0.2889 - accuracy: 0.9468 - val_loss: 0.3820 - val_accuracy: 0.8873\n",
      "Epoch 38/50\n",
      "79/79 [==============================] - 0s 2ms/step - loss: 0.2899 - accuracy: 0.9460 - val_loss: 0.3721 - val_accuracy: 0.9029\n",
      "Epoch 39/50\n",
      "79/79 [==============================] - 0s 2ms/step - loss: 0.2896 - accuracy: 0.9468 - val_loss: 0.3753 - val_accuracy: 0.9017\n",
      "Epoch 40/50\n",
      "79/79 [==============================] - 0s 2ms/step - loss: 0.2906 - accuracy: 0.9464 - val_loss: 0.3755 - val_accuracy: 0.8993\n",
      "Epoch 41/50\n",
      "79/79 [==============================] - 0s 1ms/step - loss: 0.2888 - accuracy: 0.9476 - val_loss: 0.3747 - val_accuracy: 0.9053\n",
      "Epoch 42/50\n",
      "79/79 [==============================] - 0s 1ms/step - loss: 0.2885 - accuracy: 0.9476 - val_loss: 0.3793 - val_accuracy: 0.9017\n",
      "Epoch 43/50\n",
      "79/79 [==============================] - 0s 2ms/step - loss: 0.2883 - accuracy: 0.9432 - val_loss: 0.3736 - val_accuracy: 0.9005\n",
      "Epoch 44/50\n",
      "79/79 [==============================] - 0s 1ms/step - loss: 0.2879 - accuracy: 0.9460 - val_loss: 0.3774 - val_accuracy: 0.9029\n",
      "Epoch 45/50\n",
      "79/79 [==============================] - 0s 1ms/step - loss: 0.2881 - accuracy: 0.9500 - val_loss: 0.3733 - val_accuracy: 0.9017\n",
      "Epoch 46/50\n",
      "79/79 [==============================] - 0s 1ms/step - loss: 0.2885 - accuracy: 0.9472 - val_loss: 0.3718 - val_accuracy: 0.9065\n",
      "Epoch 47/50\n",
      "79/79 [==============================] - 0s 1ms/step - loss: 0.2877 - accuracy: 0.9472 - val_loss: 0.3810 - val_accuracy: 0.8957\n",
      "Epoch 48/50\n",
      "79/79 [==============================] - 0s 1ms/step - loss: 0.2872 - accuracy: 0.9440 - val_loss: 0.3779 - val_accuracy: 0.9029\n",
      "Epoch 49/50\n",
      "79/79 [==============================] - 0s 1ms/step - loss: 0.2879 - accuracy: 0.9492 - val_loss: 0.3764 - val_accuracy: 0.9017\n",
      "Epoch 50/50\n",
      "79/79 [==============================] - 0s 1ms/step - loss: 0.2867 - accuracy: 0.9488 - val_loss: 0.3757 - val_accuracy: 0.9029\n"
     ]
    }
   ],
   "source": [
    "# from tensorflow.keras import regularizers\n",
    "# The regularization is added to each Dense layer!\n",
    "from tensorflow.keras.regularizers import l2\n",
    "\n",
    "# Model Architecture\n",
    "model_l2 = Sequential()\n",
    "\n",
    "n_input = X_train.shape[1]\n",
    "\n",
    "model_l2.add(Dense(60, input_dim=n_input, activation='relu', kernel_regularizer=l2(0.01)))\n",
    "model_l2.add(Dense(20, activation='relu', kernel_regularizer=l2(0.01)))\n",
    "model_l2.add(Dense(1, activation='sigmoid', kernel_regularizer=l2(0.01)))\n",
    "\n",
    "# Compile\n",
    "opt = Adam(learning_rate=0.001)\n",
    "model_l2.compile(loss='binary_crossentropy', optimizer=opt, metrics=['accuracy'])\n",
    "\n",
    "# Fit\n",
    "history_l2 = model_l2.fit(\n",
    "    X_train,\n",
    "    y_train,\n",
    "    validation_data=(X_test, y_test),\n",
    "    epochs=50,\n",
    "    batch_size=32\n",
    ")"
   ]
  },
  {
   "cell_type": "code",
   "execution_count": 14,
   "metadata": {},
   "outputs": [
    {
     "data": {
      "image/png": "[encoded data removed]",
      "text/plain": [
       "<Figure size 864x576 with 1 Axes>"
      ]
     },
     "metadata": {
      "needs_background": "light"
     },
     "output_type": "display_data"
    }
   ],
   "source": [
    "train_loss_l2 = history_l2.history['loss']\n",
    "test_loss_l2 = history_l2.history['val_loss']\n",
    "\n",
    "plt.figure(figsize=(12, 8))\n",
    "plt.plot(train_loss, label='Training loss')\n",
    "plt.plot(test_loss, label='Testing loss')\n",
    "plt.plot(train_loss_l2, label='L2 Training loss')\n",
    "plt.plot(test_loss_l2, label='L2 Testing loss')\n",
    "plt.xlabel('Epoch')\n",
    "plt.ylabel('Loss')\n",
    "plt.legend();"
   ]
  },
  {
   "cell_type": "code",
   "execution_count": 15,
   "metadata": {},
   "outputs": [
    {
     "data": {
      "text/plain": [
       "(0.9487795233726501, 0.902877688407898)"
      ]
     },
     "execution_count": 15,
     "metadata": {},
     "output_type": "execute_result"
    }
   ],
   "source": [
    "# Print accuracies of the last epoch\n",
    "history_l2.history['accuracy'][-1], history_l2.history['val_accuracy'][-1]"
   ]
  },
  {
   "cell_type": "markdown",
   "metadata": {},
   "source": [
    "## Keras Resources\n",
    "- [Keras Regularization Documentation](https://keras.io/regularizers/)\n",
    "- [Kernel vs. Activity Regularizers](https://github.com/keras-team/keras/issues/3236)\n",
    "\n",
    "## Tensorflow Resources\n",
    "- [Implementation in Tensorflow](https://www.tensorflow.org/versions/r0.12/api_docs/python/contrib.layers/regularizers)\n",
    "- [Example in Tensorflow](http://www.ritchieng.com/machine-learning/deep-learning/tensorflow/regularization/)"
   ]
  },
  {
   "cell_type": "markdown",
   "metadata": {},
   "source": [
    "<a id='dropout'></a>\n",
    "## Regularization Method 2: Dropout\n",
    "---\n",
    "There's another method of regularizing our terms that is specifically designed for neural networks, called **dropout regularization.**"
   ]
  },
  {
   "cell_type": "markdown",
   "metadata": {},
   "source": [
    "Let's say we've constructed a neural network. We've decided on the number of layers we want and the number of nodes in each layer. (We might say that we've decided on the **architecture** or **structure** of our network.)\n",
    "\n",
    "![](../assets/original_nn.jpeg)\n",
    "\n",
    "However, a densely connected network like this will almost certainly overfit. Our network is learning a parameter for every single connection.\n",
    "\n",
    "> In the above example, we have 55 parameters being learned - and this is a very simple network, all things considered.\n",
    "\n",
    "> We can overcome this by using **dropout regularization**. \n",
    "\n",
    "In dropout regularization, we randomly **drop** units (nodes) in our neural network ***during our training phase only***. We assign a probability of each node disappearing. Then, we essentially perform a coinflip for every node to turn that node \"on\" or \"off.\"\n",
    "\n",
    "Let's go through an example to illustrate this: For simplicity, we'll say we've assigned a 0.5 probability of keeping to every node in the network above. Then, for every node, we flip a coin, and if the coin lands on heads, the node remains, if it lands on tails, the node disappears. After we've done this for every node, we're left with a new network that looks something like this:\n",
    "\n",
    "![](../assets/after_dropout.jpeg)\n",
    "\n",
    "<!--\n",
    "Image sources: https://pgaleone.eu/deep-learning/regularization/2017/01/10/anaysis-of-dropout/\n",
    "Also, it seems, this site: http://cs231n.github.io/neural-networks-2/\n",
    "-->\n",
    "\n",
    "Let's explicitly lay out the general workflow you would follow:\n",
    "\n",
    "1. Specify the architecture of your neural network.\n",
    "1. Specify the \"keeping probabilities\" for every node. (Generally, we'll assign the same probability to all nodes in each layer and usually the same probability to all hidden layers.)\n",
    "1. Perform a \"coin flip\" for each node and drop out the chosen nodes.\n",
    "1. Run through one epoch of training.\n",
    "1. Repeat steps 4 and 5 for each epoch of training."
   ]
  },
  {
   "cell_type": "markdown",
   "metadata": {},
   "source": [
    "![](https://cdn.analyticsvidhya.com/wp-content/uploads/2018/04/1IrdJ5PghD9YoOyVAQ73MJw.gif)"
   ]
  },
  {
   "cell_type": "markdown",
   "metadata": {},
   "source": [
    "<details><summary>If I drop out a node during one of my epochs, does it disappear from my final network?</summary>\n",
    "\n",
    "- No!\n",
    "- Dropout is only invoked during training time and helps to prevent overfitting\n",
    "- During model predictions, all dropout is automatically removed by keras\n",
    "</details>"
   ]
  },
  {
   "cell_type": "markdown",
   "metadata": {},
   "source": [
    "#### So, what does this do?\n",
    "<!-- <br/> -->\n",
    "The intuition behind dropout is that, since each node has a probability of disappearing at any time, the neural network is disincentivized from allocating too much power to any one weight. In that sense it has a similar effect as imposing an L2 penalty: the magnitude of our weights shrinks."
   ]
  },
  {
   "cell_type": "markdown",
   "metadata": {},
   "source": [
    "<details><summary>What might be some potential problems with doing this?</summary>\n",
    "\n",
    "- expected values of nodes changes\n",
    "- increases bias to reduce variance\n",
    "</details>"
   ]
  },
  {
   "cell_type": "markdown",
   "metadata": {},
   "source": [
    "So we've now run through every epoch of our training phase and we're ready to apply our neural network to our validation or testing data.\n",
    "\n",
    "<details><summary>Are we going to apply dropout to this data as well?</summary>\n",
    "\n",
    "- No!\n",
    "- Dropout is only invoked during training time and helps to prevent overfitting\n",
    "- During model predictions, all dropout is automatically removed by keras\n",
    "</details>"
   ]
  },
  {
   "cell_type": "markdown",
   "metadata": {},
   "source": [
    "#### Best practices:\n",
    "\n",
    "- Don't set any keeping probabilities for layers you where you don't want to drop any nodes.\n",
    "\n",
    "<details><summary>What might be examples of these layers?</summary>\n",
    "\n",
    "- Input layers\n",
    "- Output layers\n",
    "</details>"
   ]
  },
  {
   "cell_type": "markdown",
   "metadata": {},
   "source": [
    "- You'll generally want to specify a single keeping probability and all the layers on which you want to apply dropout, instead of specifying different keeping probabilities for each layer."
   ]
  },
  {
   "cell_type": "code",
   "execution_count": 16,
   "metadata": {
    "scrolled": true,
    "tags": []
   },
   "outputs": [
    {
     "name": "stdout",
     "output_type": "stream",
     "text": [
      "Model: \"sequential_2\"\n",
      "_________________________________________________________________\n",
      " Layer (type)                Output Shape              Param #   \n",
      "=================================================================\n",
      " dense_6 (Dense)             (None, 60)                4200      \n",
      "                                                                 \n",
      " dropout (Dropout)           (None, 60)                0         \n",
      "                                                                 \n",
      " dense_7 (Dense)             (None, 20)                1220      \n",
      "                                                                 \n",
      " dropout_1 (Dropout)         (None, 20)                0         \n",
      "                                                                 \n",
      " dense_8 (Dense)             (None, 1)                 21        \n",
      "                                                                 \n",
      "=================================================================\n",
      "Total params: 5,441\n",
      "Trainable params: 5,441\n",
      "Non-trainable params: 0\n",
      "_________________________________________________________________\n"
     ]
    }
   ],
   "source": [
    "from tensorflow.keras.layers import Dropout\n",
    "\n",
    "# Model Architecture\n",
    "model_dropout = Sequential()\n",
    "\n",
    "n_input = X_train.shape[1]\n",
    "\n",
    "model_dropout.add(Dense(60, input_dim=n_input, activation='relu'))\n",
    "model_dropout.add(Dropout(0.5)) # refers to nodes in the first hidden layer\n",
    "model_dropout.add(Dense(20, activation='relu'))\n",
    "model_dropout.add(Dropout(0.5))\n",
    "model_dropout.add(Dense(1, activation='sigmoid'))\n",
    "\n",
    "# Compile\n",
    "opt = Adam(learning_rate=0.001)\n",
    "model_dropout.compile(loss='binary_crossentropy', optimizer=opt, metrics=['accuracy'])\n",
    "\n",
    "model_dropout.summary()"
   ]
  },
  {
   "cell_type": "code",
   "execution_count": 17,
   "metadata": {
    "scrolled": true,
    "tags": []
   },
   "outputs": [
    {
     "name": "stdout",
     "output_type": "stream",
     "text": [
      "Epoch 1/50\n",
      "79/79 [==============================] - 1s 3ms/step - loss: 0.5668 - accuracy: 0.7547 - val_loss: 0.4302 - val_accuracy: 0.8549\n",
      "Epoch 2/50\n",
      "79/79 [==============================] - 0s 2ms/step - loss: 0.4954 - accuracy: 0.8283 - val_loss: 0.4159 - val_accuracy: 0.8549\n",
      "Epoch 3/50\n",
      "79/79 [==============================] - 0s 1ms/step - loss: 0.4614 - accuracy: 0.8411 - val_loss: 0.4047 - val_accuracy: 0.8549\n",
      "Epoch 4/50\n",
      "79/79 [==============================] - 0s 1ms/step - loss: 0.4311 - accuracy: 0.8491 - val_loss: 0.3882 - val_accuracy: 0.8549\n",
      "Epoch 5/50\n",
      "79/79 [==============================] - 0s 2ms/step - loss: 0.4121 - accuracy: 0.8547 - val_loss: 0.3850 - val_accuracy: 0.8549\n",
      "Epoch 6/50\n",
      "79/79 [==============================] - 0s 1ms/step - loss: 0.4036 - accuracy: 0.8555 - val_loss: 0.3767 - val_accuracy: 0.8549\n",
      "Epoch 7/50\n",
      "79/79 [==============================] - 0s 1ms/step - loss: 0.4036 - accuracy: 0.8543 - val_loss: 0.3720 - val_accuracy: 0.8549\n",
      "Epoch 8/50\n",
      "79/79 [==============================] - 0s 1ms/step - loss: 0.3768 - accuracy: 0.8563 - val_loss: 0.3620 - val_accuracy: 0.8549\n",
      "Epoch 9/50\n",
      "79/79 [==============================] - 0s 1ms/step - loss: 0.3790 - accuracy: 0.8551 - val_loss: 0.3585 - val_accuracy: 0.8561\n",
      "Epoch 10/50\n",
      "79/79 [==============================] - 0s 1ms/step - loss: 0.3677 - accuracy: 0.8575 - val_loss: 0.3536 - val_accuracy: 0.8573\n",
      "Epoch 11/50\n",
      "79/79 [==============================] - 0s 1ms/step - loss: 0.3608 - accuracy: 0.8607 - val_loss: 0.3481 - val_accuracy: 0.8621\n",
      "Epoch 12/50\n",
      "79/79 [==============================] - 0s 1ms/step - loss: 0.3451 - accuracy: 0.8587 - val_loss: 0.3426 - val_accuracy: 0.8669\n",
      "Epoch 13/50\n",
      "79/79 [==============================] - 0s 1ms/step - loss: 0.3352 - accuracy: 0.8683 - val_loss: 0.3395 - val_accuracy: 0.8741\n",
      "Epoch 14/50\n",
      "79/79 [==============================] - 0s 2ms/step - loss: 0.3462 - accuracy: 0.8659 - val_loss: 0.3395 - val_accuracy: 0.8717\n",
      "Epoch 15/50\n",
      "79/79 [==============================] - 0s 1ms/step - loss: 0.3421 - accuracy: 0.8635 - val_loss: 0.3375 - val_accuracy: 0.8717\n",
      "Epoch 16/50\n",
      "79/79 [==============================] - 0s 1ms/step - loss: 0.3282 - accuracy: 0.8639 - val_loss: 0.3340 - val_accuracy: 0.8693\n",
      "Epoch 17/50\n",
      "79/79 [==============================] - 0s 1ms/step - loss: 0.3307 - accuracy: 0.8687 - val_loss: 0.3330 - val_accuracy: 0.8705\n",
      "Epoch 18/50\n",
      "79/79 [==============================] - 0s 1ms/step - loss: 0.3081 - accuracy: 0.8768 - val_loss: 0.3305 - val_accuracy: 0.8753\n",
      "Epoch 19/50\n",
      "79/79 [==============================] - 0s 1ms/step - loss: 0.3135 - accuracy: 0.8703 - val_loss: 0.3286 - val_accuracy: 0.8801\n",
      "Epoch 20/50\n",
      "79/79 [==============================] - 0s 2ms/step - loss: 0.2957 - accuracy: 0.8752 - val_loss: 0.3282 - val_accuracy: 0.8801\n",
      "Epoch 21/50\n",
      "79/79 [==============================] - 0s 2ms/step - loss: 0.2999 - accuracy: 0.8796 - val_loss: 0.3251 - val_accuracy: 0.8765\n",
      "Epoch 22/50\n",
      "79/79 [==============================] - 0s 2ms/step - loss: 0.3009 - accuracy: 0.8723 - val_loss: 0.3249 - val_accuracy: 0.8765\n",
      "Epoch 23/50\n",
      "79/79 [==============================] - 0s 1ms/step - loss: 0.2935 - accuracy: 0.8820 - val_loss: 0.3254 - val_accuracy: 0.8765\n",
      "Epoch 24/50\n",
      "79/79 [==============================] - 0s 1ms/step - loss: 0.2925 - accuracy: 0.8756 - val_loss: 0.3215 - val_accuracy: 0.8777\n",
      "Epoch 25/50\n",
      "79/79 [==============================] - 0s 2ms/step - loss: 0.2896 - accuracy: 0.8800 - val_loss: 0.3210 - val_accuracy: 0.8801\n",
      "Epoch 26/50\n",
      "79/79 [==============================] - 0s 2ms/step - loss: 0.2756 - accuracy: 0.8860 - val_loss: 0.3220 - val_accuracy: 0.8813\n",
      "Epoch 27/50\n",
      "79/79 [==============================] - 0s 2ms/step - loss: 0.2831 - accuracy: 0.8812 - val_loss: 0.3188 - val_accuracy: 0.8849\n",
      "Epoch 28/50\n",
      "79/79 [==============================] - 0s 1ms/step - loss: 0.2748 - accuracy: 0.8860 - val_loss: 0.3162 - val_accuracy: 0.8861\n",
      "Epoch 29/50\n",
      "79/79 [==============================] - 0s 2ms/step - loss: 0.2736 - accuracy: 0.8872 - val_loss: 0.3123 - val_accuracy: 0.8885\n",
      "Epoch 30/50\n",
      "79/79 [==============================] - 0s 2ms/step - loss: 0.2738 - accuracy: 0.8876 - val_loss: 0.3118 - val_accuracy: 0.8825\n",
      "Epoch 31/50\n",
      "79/79 [==============================] - 0s 2ms/step - loss: 0.2656 - accuracy: 0.8932 - val_loss: 0.3094 - val_accuracy: 0.8885\n",
      "Epoch 32/50\n",
      "79/79 [==============================] - 0s 2ms/step - loss: 0.2554 - accuracy: 0.8960 - val_loss: 0.3110 - val_accuracy: 0.8873\n",
      "Epoch 33/50\n",
      "79/79 [==============================] - 0s 2ms/step - loss: 0.2688 - accuracy: 0.8868 - val_loss: 0.3077 - val_accuracy: 0.8897\n",
      "Epoch 34/50\n",
      "79/79 [==============================] - 0s 1ms/step - loss: 0.2477 - accuracy: 0.8956 - val_loss: 0.3114 - val_accuracy: 0.8873\n",
      "Epoch 35/50\n",
      "79/79 [==============================] - 0s 1ms/step - loss: 0.2566 - accuracy: 0.9008 - val_loss: 0.3121 - val_accuracy: 0.8897\n",
      "Epoch 36/50\n",
      "79/79 [==============================] - 0s 1ms/step - loss: 0.2532 - accuracy: 0.8948 - val_loss: 0.3128 - val_accuracy: 0.8897\n",
      "Epoch 37/50\n",
      "79/79 [==============================] - 0s 2ms/step - loss: 0.2442 - accuracy: 0.8992 - val_loss: 0.3093 - val_accuracy: 0.8873\n",
      "Epoch 38/50\n",
      "79/79 [==============================] - 0s 2ms/step - loss: 0.2511 - accuracy: 0.9008 - val_loss: 0.3095 - val_accuracy: 0.8849\n",
      "Epoch 39/50\n",
      "79/79 [==============================] - 0s 1ms/step - loss: 0.2377 - accuracy: 0.9056 - val_loss: 0.3088 - val_accuracy: 0.8849\n",
      "Epoch 40/50\n",
      "79/79 [==============================] - 0s 2ms/step - loss: 0.2340 - accuracy: 0.9040 - val_loss: 0.3110 - val_accuracy: 0.8873\n",
      "Epoch 41/50\n",
      "79/79 [==============================] - 0s 2ms/step - loss: 0.2283 - accuracy: 0.9092 - val_loss: 0.3112 - val_accuracy: 0.8849\n",
      "Epoch 42/50\n",
      "79/79 [==============================] - 0s 2ms/step - loss: 0.2206 - accuracy: 0.9120 - val_loss: 0.3200 - val_accuracy: 0.8861\n",
      "Epoch 43/50\n",
      "79/79 [==============================] - 0s 2ms/step - loss: 0.2378 - accuracy: 0.9000 - val_loss: 0.3173 - val_accuracy: 0.8873\n",
      "Epoch 44/50\n",
      "79/79 [==============================] - 0s 1ms/step - loss: 0.2285 - accuracy: 0.9044 - val_loss: 0.3183 - val_accuracy: 0.8885\n",
      "Epoch 45/50\n",
      "79/79 [==============================] - 0s 2ms/step - loss: 0.2265 - accuracy: 0.9092 - val_loss: 0.3139 - val_accuracy: 0.8945\n",
      "Epoch 46/50\n",
      "79/79 [==============================] - 0s 2ms/step - loss: 0.2257 - accuracy: 0.9084 - val_loss: 0.3141 - val_accuracy: 0.8909\n",
      "Epoch 47/50\n",
      "79/79 [==============================] - 0s 2ms/step - loss: 0.2217 - accuracy: 0.9144 - val_loss: 0.3186 - val_accuracy: 0.8945\n",
      "Epoch 48/50\n",
      "79/79 [==============================] - 0s 2ms/step - loss: 0.2229 - accuracy: 0.9100 - val_loss: 0.3173 - val_accuracy: 0.9005\n",
      "Epoch 49/50\n",
      "79/79 [==============================] - 0s 2ms/step - loss: 0.2135 - accuracy: 0.9048 - val_loss: 0.3228 - val_accuracy: 0.8993\n",
      "Epoch 50/50\n",
      "79/79 [==============================] - 0s 2ms/step - loss: 0.2195 - accuracy: 0.9136 - val_loss: 0.3216 - val_accuracy: 0.8969\n"
     ]
    }
   ],
   "source": [
    "# Model Fit\n",
    "history_dropout = model_dropout.fit(\n",
    "    X_train,\n",
    "    y_train,\n",
    "    validation_data=(X_test, y_test), \n",
    "    epochs=50,\n",
    "    batch_size=32\n",
    ")"
   ]
  },
  {
   "cell_type": "code",
   "execution_count": 18,
   "metadata": {},
   "outputs": [
    {
     "data": {
      "image/png": "[encoded data removed]",
      "text/plain": [
       "<Figure size 864x576 with 1 Axes>"
      ]
     },
     "metadata": {
      "needs_background": "light"
     },
     "output_type": "display_data"
    }
   ],
   "source": [
    "train_loss_dropout = history_dropout.history['loss']\n",
    "test_loss_dropout = history_dropout.history['val_loss']\n",
    "\n",
    "plt.figure(figsize=(12, 8))\n",
    "plt.plot(train_loss, label='Training loss')\n",
    "plt.plot(test_loss, label='Testing loss')\n",
    "plt.plot(train_loss_dropout, label='Dropout Training loss')\n",
    "plt.plot(test_loss_dropout, label='Dropout Testing loss')\n",
    "plt.xlabel('Epochs')\n",
    "plt.ylabel('Loss')\n",
    "plt.legend();"
   ]
  },
  {
   "cell_type": "code",
   "execution_count": 19,
   "metadata": {},
   "outputs": [
    {
     "data": {
      "text/plain": [
       "(0.9135653972625732, 0.8968824744224548)"
      ]
     },
     "execution_count": 19,
     "metadata": {},
     "output_type": "execute_result"
    }
   ],
   "source": [
    "history_dropout.history['accuracy'][-1], history_dropout.history['val_accuracy'][-1]"
   ]
  },
  {
   "cell_type": "markdown",
   "metadata": {},
   "source": [
    "## Keras Resources\n",
    "- [Keras Dropout Documentation](https://keras.io/layers/core/#dropout)\n",
    "\n",
    "## Tensorflow Resources\n",
    "- [Tensorflow documentation](https://www.tensorflow.org/api_docs/python/tf/nn/dropout)\n",
    "- [List of examples in Tensorflow](https://programtalk.com/python-examples/tensorflow.nn.dropout/)"
   ]
  },
  {
   "cell_type": "markdown",
   "metadata": {},
   "source": [
    "<a id='stopping'></a>\n",
    "## Regularization Method 3: Early Stopping\n",
    "---\n",
    "The third method of regularization that we'll discuss today is called early stopping.\n",
    "</br>\n",
    "If we run though all our epochs of training and plot both our training and validation error, we'll typically see something like this:\n",
    "\n",
    "![](../assets/train-val-error-reduced.png)\n",
    "*source*: [Prechelt, 1997](http://page.mi.fu-berlin.de/prechelt/Biblio/stop_tricks1997.pdf)"
   ]
  },
  {
   "cell_type": "markdown",
   "metadata": {},
   "source": [
    "<details><summary>What is happening in this plot?</summary>\n",
    "\n",
    "- The Validation error begins to increase after a certain number of epochs!\n",
    "</details>"
   ]
  },
  {
   "cell_type": "markdown",
   "metadata": {},
   "source": [
    "Early stopping does exactly what its name implies: it stop the training process early. Instead of continuing training through every epoch, once the validation error begins to increase, our algorithm stops because it has (in theory) found the minimum for the validation loss.\n",
    "\n",
    "This might seem like a simple and robust solution to overfitting, but it can run into problems.\n",
    "\n",
    "![](../assets/validation-error-real.png)\n",
    "\n",
    "There is debate over how often this problem occurs. You can generally plot both the training and validation loss, see if you're getting multiple optima. If you are, there are multiple suggested techniques to combat this problem in the [paper reference above](http://page.mi.fu-berlin.de/prechelt/Biblio/stop_tricks1997.pdf)."
   ]
  },
  {
   "cell_type": "code",
   "execution_count": 21,
   "metadata": {
    "scrolled": true,
    "tags": []
   },
   "outputs": [
    {
     "name": "stdout",
     "output_type": "stream",
     "text": [
      "Epoch 1/50\n",
      "79/79 [==============================] - 0s 2ms/step - loss: 0.4531 - accuracy: 0.8263 - val_loss: 0.3923 - val_accuracy: 0.8549\n",
      "Epoch 2/50\n",
      "79/79 [==============================] - 0s 1ms/step - loss: 0.3555 - accuracy: 0.8595 - val_loss: 0.3580 - val_accuracy: 0.8657\n",
      "Epoch 3/50\n",
      "79/79 [==============================] - 0s 1ms/step - loss: 0.3151 - accuracy: 0.8735 - val_loss: 0.3436 - val_accuracy: 0.8681\n",
      "Epoch 4/50\n",
      "79/79 [==============================] - 0s 1ms/step - loss: 0.2891 - accuracy: 0.8824 - val_loss: 0.3387 - val_accuracy: 0.8585\n",
      "Epoch 5/50\n",
      "79/79 [==============================] - 0s 1ms/step - loss: 0.2694 - accuracy: 0.8916 - val_loss: 0.3322 - val_accuracy: 0.8669\n",
      "Epoch 6/50\n",
      "79/79 [==============================] - 0s 2ms/step - loss: 0.2516 - accuracy: 0.8980 - val_loss: 0.3244 - val_accuracy: 0.8657\n",
      "Epoch 7/50\n",
      "79/79 [==============================] - 0s 1ms/step - loss: 0.2332 - accuracy: 0.9076 - val_loss: 0.3145 - val_accuracy: 0.8693\n",
      "Epoch 8/50\n",
      "79/79 [==============================] - 0s 1ms/step - loss: 0.2154 - accuracy: 0.9148 - val_loss: 0.3081 - val_accuracy: 0.8729\n",
      "Epoch 9/50\n",
      "79/79 [==============================] - 0s 2ms/step - loss: 0.1963 - accuracy: 0.9264 - val_loss: 0.3031 - val_accuracy: 0.8729\n",
      "Epoch 10/50\n",
      "79/79 [==============================] - 0s 2ms/step - loss: 0.1819 - accuracy: 0.9348 - val_loss: 0.2959 - val_accuracy: 0.8801\n",
      "Epoch 11/50\n",
      "79/79 [==============================] - 0s 1ms/step - loss: 0.1648 - accuracy: 0.9468 - val_loss: 0.2958 - val_accuracy: 0.8777\n",
      "Epoch 12/50\n",
      "79/79 [==============================] - 0s 1ms/step - loss: 0.1530 - accuracy: 0.9504 - val_loss: 0.3048 - val_accuracy: 0.8693\n",
      "Epoch 13/50\n",
      "79/79 [==============================] - 0s 1ms/step - loss: 0.1425 - accuracy: 0.9536 - val_loss: 0.2983 - val_accuracy: 0.8837\n",
      "Epoch 14/50\n",
      "79/79 [==============================] - 0s 1ms/step - loss: 0.1316 - accuracy: 0.9572 - val_loss: 0.3047 - val_accuracy: 0.8777\n",
      "Epoch 15/50\n",
      "79/79 [==============================] - 0s 1ms/step - loss: 0.1277 - accuracy: 0.9596 - val_loss: 0.3079 - val_accuracy: 0.8813\n",
      "Epoch 16/50\n",
      "79/79 [==============================] - 0s 1ms/step - loss: 0.1155 - accuracy: 0.9620 - val_loss: 0.3174 - val_accuracy: 0.8765\n"
     ]
    }
   ],
   "source": [
    "from tensorflow.keras.callbacks import EarlyStopping\n",
    "\n",
    "# Model Architecture\n",
    "model_es = Sequential()\n",
    "\n",
    "n_input = X_train.shape[1]\n",
    "\n",
    "model_es.add(Dense(60, input_dim=n_input, activation='relu'))\n",
    "model_es.add(Dense(20, activation='relu'))\n",
    "model_es.add(Dense(1, activation='sigmoid'))\n",
    "\n",
    "# Compile\n",
    "opt = Adam(learning_rate=0.001)\n",
    "model_es.compile(loss='binary_crossentropy', optimizer=opt, metrics=['accuracy'])\n",
    "\n",
    "# Model Fit\n",
    "early_stop = EarlyStopping(monitor='val_loss', \n",
    "                           min_delta=0, \n",
    "                           patience=5, \n",
    "                           mode='auto')\n",
    "\n",
    "history_es = model_es.fit(\n",
    "    X_train,\n",
    "    y_train,\n",
    "    validation_data=(X_test, y_test),\n",
    "    epochs=50,\n",
    "    batch_size=32,\n",
    "    callbacks=[early_stop] # Add your callbacks here!\n",
    ")"
   ]
  },
  {
   "cell_type": "code",
   "execution_count": 22,
   "metadata": {},
   "outputs": [
    {
     "data": {
      "image/png": "[encoded data removed]",
      "text/plain": [
       "<Figure size 864x576 with 1 Axes>"
      ]
     },
     "metadata": {
      "needs_background": "light"
     },
     "output_type": "display_data"
    }
   ],
   "source": [
    "train_loss_es = history_es.history['loss']\n",
    "test_loss_es = history_es.history['val_loss']\n",
    "plt.figure(figsize=(12, 8))\n",
    "plt.plot(train_loss, label='Training loss')\n",
    "plt.plot(test_loss, label='Testing loss')\n",
    "plt.plot(train_loss_es, label='ES Training loss')\n",
    "plt.plot(test_loss_es, label='ES Testing loss')\n",
    "plt.xlabel('Epochs')\n",
    "plt.ylabel('Loss')\n",
    "plt.legend();"
   ]
  },
  {
   "cell_type": "code",
   "execution_count": 23,
   "metadata": {},
   "outputs": [
    {
     "data": {
      "text/plain": [
       "(0.9619848132133484, 0.876498818397522)"
      ]
     },
     "execution_count": 23,
     "metadata": {},
     "output_type": "execute_result"
    }
   ],
   "source": [
    "history_es.history['accuracy'][-1], history_es.history['val_accuracy'][-1]"
   ]
  },
  {
   "cell_type": "markdown",
   "metadata": {},
   "source": [
    "## Keras Resources\n",
    "- [Keras EarlyStopping Documentation](https://keras.io/callbacks/#earlystopping)\n",
    "- [Keras EarlyStopping Example](http://parneetk.github.io/blog/neural-networks-in-keras/)\n",
    "\n",
    "## Tensorflow Resources\n",
    "- [Tensorflow.Keras.callbacks.EarlyStopping Documentation](https://www.tensorflow.org/api_docs/python/tf/keras/callbacks/EarlyStopping)"
   ]
  },
  {
   "cell_type": "markdown",
   "metadata": {},
   "source": [
    "# Optimization\n",
    "---\n",
    "Now we're going to talk about ways to speed up the process of optimization. Surprisingly, local optima are not often problems with neural networks; there's a much larger issue with \"plateaus,\" or areas where the derivative is approximately 0. This makes learning much slower.\n",
    "\n",
    "## Quick Fixes:\n",
    "1. **Feature Scaling:** As we've discussed before, feature scaling can speed up the process of gradient descent. Because gradient descent works \"geometrically,\" the scales of our $w$ values have a large impact on how quickly our parameters converge to the true value. Since we're working with many parameters (often 1,000 or more), scaling our features will speed up optimization.\n",
    "\n",
    "2. **Mini-batch Gradient Descent:** In `sklearn`, we use `.fit()` to estimate the parameters in our model. We do the same in neural networks, but if we're working with a very large data set (as is common in neural networks), passing data through our network will cause learning to be slow. By specifying a `batch_size` within the `.fit()` method, we can expedite our learning.\n",
    "    - `batch_size`: Integer or `None`. Number of samples per gradient update. If unspecified, it will default to 32.\n",
    "    \n",
    "**Note:** Mini batches will usually be a power of 2 (32, 64, 128, 256, 512) due to the fact that computers operate in base 2.\n",
    "\n",
    "- [Overview of types of gradient descent](https://machinelearningmastery.com/gentle-introduction-mini-batch-gradient-descent-configure-batch-size/)\n",
    "\n",
    "## Advanced Optimisers:\n",
    "- Pretty much everywhere these days you'd just use the Adam optimizer. More on Adam [here](https://machinelearningmastery.com/adam-optimization-algorithm-for-deep-learning/#:~:text=Adam%20is%20a%20replacement%20optimization,sparse%20gradients%20on%20noisy%20problems.)."
   ]
  },
  {
   "cell_type": "markdown",
   "metadata": {},
   "source": [
    "### Data Augmentation\n",
    "- This is a huge topic for Deep Learning.\n",
    "- One method of minimizing the risk of overfitting is to gather more data. While this is usually very costly, we may sometimes be able to take our existing data to generate substantially more data.\n",
    "- Images: Reflect, crop, random rotations or distortions, adjust lighting, etc\n",
    "    - [The Effectiveness of Data Augmentation in Image Classification using Deep Learning](http://cs231n.stanford.edu/reports/2017/pdfs/300.pdf)\n",
    "- Text: Synonyms, antonyms, backtranslation (Engligh -> French -> English), etc\n",
    "    - [NLPAug: NLP Augmentation library](https://github.com/makcedward/nlpaug)\n",
    "- Tabular: [SMOTE](https://machinelearningmastery.com/smote-oversampling-for-imbalanced-classification/) (Synthetic Minority Over-Sampling Technique)"
   ]
  },
  {
   "cell_type": "markdown",
   "metadata": {},
   "source": [
    "<a id='conclusion'></a>\n",
    "# Conclusion\n",
    "\n",
    "Today, we learned about three different methods of regularizing our neural networks: Regularization, dropout, and early stopping.\n",
    "\n",
    "## Machine Learning Workflow\n",
    "\n",
    "As promised, managing bias and variance takes a lot of our attention. If our bias or variance are high, it's likely that our model isn't performing as well as it could.\n",
    "\n",
    "A workflow for how you should address this (in the context of neural networks and beyond) is as follows:\n",
    "\n",
    "- Do we have high bias? (i.e. are we performing poorly on our training set?)\n",
    "    - If so:\n",
    "        - let's build a more complex model / bigger network!\n",
    "        - let's consider a new architecture for our neural network!\n",
    "        - let's train longer!\n",
    "- Do we have high variance? (i.e. are we performing poorly on our test/holdout set?)\n",
    "    - If so:\n",
    "        - let's gather more data!\n",
    "            - Usually very difficult, but we should use \"data augmentation\" if we can!\n",
    "        - let's build a simpler model / smaller network!\n",
    "        - let's consider a new architecture for our neural network!\n",
    "        - let's regularize!\n",
    "    - Once we're satisfied, return to the bias question and repeat.\n",
    "    \n",
    "**Note:** Before deep learning, most tools for handling high bias or high variance adversely affected the other. However, depending on the amount of data we have and how complex our network is, it's often the case that we can drastically reduce variance with out affecting bias.\n",
    "\n",
    "We also briefly discussed data augmentation as a method for increasing our sample size.\n",
    "\n",
    "<a id='references'></a>\n",
    "## References and Resources:\n",
    "\n",
    "- [DeepLearning.ai](https://www.deeplearning.ai/), Andrew Ng's Coursera course on Deep Learning\n",
    "  - The videos from this course are on a [YouTube Channel](https://www.youtube.com/channel/UCcIXc5mJsHVYTZR1maL5l9w/featured)   \n",
    "<br>\n",
    "- [Deep Learning Book](http://www.deeplearningbook.org/), textbook written by Ian Goodfellow, creator of Generative Adversarial Networks (GANs)"
   ]
  },
  {
   "cell_type": "code",
   "execution_count": null,
   "metadata": {},
   "outputs": [],
   "source": []
  }
 ],
 "metadata": {
  "kernelspec": {
   "display_name": "Python 3 (ipykernel)",
   "language": "python",
   "name": "python3"
  },
  "language_info": {
   "codemirror_mode": {
    "name": "ipython",
    "version": 3
   },
   "file_extension": ".py",
   "mimetype": "text/x-python",
   "name": "python",
   "nbconvert_exporter": "python",
   "pygments_lexer": "ipython3",
   "version": "3.8.12"
  },
  "varInspector": {
   "cols": {
    "lenName": 16,
    "lenType": 16,
    "lenVar": 40
   },
   "kernels_config": {
    "python": {
     "delete_cmd_postfix": "",
     "delete_cmd_prefix": "del ",
     "library": "var_list.py",
     "varRefreshCmd": "print(var_dic_list())"
    },
    "r": {
     "delete_cmd_postfix": ") ",
     "delete_cmd_prefix": "rm(",
     "library": "var_list.r",
     "varRefreshCmd": "cat(var_dic_list()) "
    }
   },
   "types_to_exclude": [
    "module",
    "function",
    "builtin_function_or_method",
    "instance",
    "_Feature"
   ],
   "window_display": false
  }
 },
 "nbformat": 4,
 "nbformat_minor": 4
}
