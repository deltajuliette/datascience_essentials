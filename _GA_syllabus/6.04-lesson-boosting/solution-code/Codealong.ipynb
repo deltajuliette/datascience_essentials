{
 "cells": [
  {
   "cell_type": "code",
   "execution_count": 1,
   "metadata": {},
   "outputs": [],
   "source": [
    "from sklearn.ensemble import GradientBoostingClassifier, AdaBoostClassifier, VotingClassifier\n",
    "from sklearn.tree import DecisionTreeClassifier\n",
    "from sklearn.model_selection import train_test_split, GridSearchCV\n",
    "from sklearn.datasets import make_classification"
   ]
  },
  {
   "cell_type": "markdown",
   "metadata": {},
   "source": [
    "# Load Dataset from `make_classification`"
   ]
  },
  {
   "cell_type": "code",
   "execution_count": 2,
   "metadata": {},
   "outputs": [
    {
     "name": "stdout",
     "output_type": "stream",
     "text": [
      "750 [[ 0.65497558 -1.18403056 -1.79310645 -1.96850421 -0.85649824 -1.59632309\n",
      "   0.26929475 -0.99386267 -0.93217686 -1.82213703  0.42019154  0.03471375\n",
      "  -0.39989906 -1.77417397 -0.12372895 -0.38281719  0.09767038  0.81079865\n",
      "  -1.26449841 -0.39767969]\n",
      " [-0.60696345 -0.55173785  0.5433396   0.44594778  0.9669174   0.95599979\n",
      "  -0.76310635 -1.35825699  0.99316486  1.29621716 -0.09216581  0.9431933\n",
      "   2.30167485  1.14794806 -0.07247772 -0.86052387 -0.7230731   1.33511267\n",
      "   0.30955565 -0.15650383]\n",
      " [ 0.35834451 -0.47020334 -0.99435507 -0.59127801  0.72099695  0.25371139\n",
      "  -0.97858839 -1.49350978 -2.38153115 -0.90270652 -2.12394758 -1.22767996\n",
      "   0.61233221 -0.21498032 -0.56539297 -0.92145102 -0.54518624 -1.19655793\n",
      "   2.92727009  0.24313466]\n",
      " [ 0.10589445  1.51115493 -1.33031363  0.68631846  1.61721257 -1.75625076\n",
      "  -0.01208895  1.97644058 -1.04806973 -2.01529399 -1.56424161 -0.40703631\n",
      "  -1.45117569 -1.9563403   0.92165011 -0.18912039  0.10435594  0.58441298\n",
      "  -0.89878405 -0.12754912]\n",
      " [ 0.30703924 -0.61414353  0.82642232 -0.91345858 -0.30724623  0.5003553\n",
      "  -0.44494639  0.62558459  0.42714464  0.63474557 -0.22327159  0.81746713\n",
      "   1.52451718  0.58261445  1.66666326 -0.22535149  1.36909458 -0.05123584\n",
      "  -0.09872089 -0.67833463]]\n",
      "750 [0 1 1 0 0]\n"
     ]
    }
   ],
   "source": [
    "X, y = make_classification(n_samples=750, n_features=20, random_state=42)\n",
    "print(len(X), X[:5])\n",
    "print(len(y), y[:5])"
   ]
  },
  {
   "cell_type": "markdown",
   "metadata": {},
   "source": [
    "# Train/Test Split"
   ]
  },
  {
   "cell_type": "code",
   "execution_count": 4,
   "metadata": {},
   "outputs": [],
   "source": [
    "X_train, X_test, y_train, y_test = train_test_split(X, y, random_state=42, stratify=y)"
   ]
  },
  {
   "cell_type": "markdown",
   "metadata": {},
   "source": [
    "# Tuning AdaBoostClassifier"
   ]
  },
  {
   "cell_type": "code",
   "execution_count": 5,
   "metadata": {},
   "outputs": [
    {
     "name": "stdout",
     "output_type": "stream",
     "text": [
      "0.9234554556832405\n"
     ]
    },
    {
     "data": {
      "text/plain": [
       "{'base_estimator__max_depth': 2, 'learning_rate': 0.9, 'n_estimators': 100}"
      ]
     },
     "execution_count": 5,
     "metadata": {},
     "output_type": "execute_result"
    }
   ],
   "source": [
    "ada = AdaBoostClassifier(base_estimator=DecisionTreeClassifier())\n",
    "ada_params = {\n",
    "    'n_estimators': [50,100], #maximum number of estimators at which boosting is terminated\n",
    "    'base_estimator__max_depth': [1,2], #maximum depth of the decision tree\n",
    "    'learning_rate': [.9, 1.] #maxiumum is 1\n",
    "}\n",
    "gs = GridSearchCV(ada, param_grid=ada_params, cv=3)\n",
    "gs.fit(X_train, y_train)\n",
    "print(gs.best_score_)\n",
    "gs.best_params_"
   ]
  },
  {
   "cell_type": "markdown",
   "metadata": {},
   "source": [
    "# GradientBoostingClassifier"
   ]
  },
  {
   "cell_type": "code",
   "execution_count": 8,
   "metadata": {},
   "outputs": [
    {
     "name": "stdout",
     "output_type": "stream",
     "text": [
      "Wall time: 0 ns\n",
      "0.9341601243979216\n"
     ]
    },
    {
     "data": {
      "text/plain": [
       "{'learning_rate': 0.1, 'max_depth': 2, 'n_estimators': 100}"
      ]
     },
     "execution_count": 8,
     "metadata": {},
     "output_type": "execute_result"
    }
   ],
   "source": [
    "gboost = GradientBoostingClassifier()\n",
    "gboost_params = {\n",
    "    'max_depth': [2,3,4],\n",
    "    'n_estimators': [100, 125, 150],\n",
    "    'learning_rate': [.08, .1, .12]\n",
    "}\n",
    "\n",
    "gb_gs = GridSearchCV(gboost, param_grid=gboost_params, cv=3)\n",
    "%time\n",
    "gb_gs.fit(X_train, y_train)\n",
    "print(gb_gs.best_score_)\n",
    "gb_gs.best_params_"
   ]
  },
  {
   "cell_type": "markdown",
   "metadata": {},
   "source": [
    "# VotingClassifier"
   ]
  },
  {
   "cell_type": "code",
   "execution_count": 11,
   "metadata": {},
   "outputs": [
    {
     "name": "stdout",
     "output_type": "stream",
     "text": [
      "Wall time: 0 ns\n",
      "0.9270394811696439\n"
     ]
    },
    {
     "data": {
      "text/plain": [
       "{'ada__n_estimators': 75, 'gb__n_estimators': 100, 'tree__max_depth': None}"
      ]
     },
     "execution_count": 11,
     "metadata": {},
     "output_type": "execute_result"
    }
   ],
   "source": [
    "vote = VotingClassifier([\n",
    "    ('tree', DecisionTreeClassifier()),\n",
    "    ('ada', AdaBoostClassifier()),\n",
    "    ('gb', GradientBoostingClassifier())\n",
    "])\n",
    "vote_params = {\n",
    "    'ada__n_estimators': [50,75],\n",
    "    'gb__n_estimators': [100,125],\n",
    "    'tree__max_depth': [None, 5]\n",
    "}\n",
    "\n",
    "\n",
    "gs = GridSearchCV(vote, param_grid=vote_params, cv=3)\n",
    "%time\n",
    "gs.fit(X_train, y_train)\n",
    "print(gs.best_score_)\n",
    "gs.best_params_"
   ]
  },
  {
   "cell_type": "code",
   "execution_count": null,
   "metadata": {},
   "outputs": [],
   "source": []
  }
 ],
 "metadata": {
  "kernelspec": {
   "display_name": "Python 3",
   "language": "python",
   "name": "python3"
  },
  "language_info": {
   "codemirror_mode": {
    "name": "ipython",
    "version": 3
   },
   "file_extension": ".py",
   "mimetype": "text/x-python",
   "name": "python",
   "nbconvert_exporter": "python",
   "pygments_lexer": "ipython3",
   "version": "3.8.8"
  }
 },
 "nbformat": 4,
 "nbformat_minor": 2
}
