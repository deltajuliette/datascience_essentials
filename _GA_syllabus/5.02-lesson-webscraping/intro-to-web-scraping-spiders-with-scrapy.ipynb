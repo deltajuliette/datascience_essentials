{
 "cells": [
  {
   "cell_type": "markdown",
   "metadata": {},
   "source": [
    "<img src=\"http://imgur.com/1ZcRyrc.png\" style=\"float: left; margin: 20px; height: 55px\">\n",
    "\n",
    "# Introduction to Web Scraping and Spiders With Scrapy\n",
    "\n",
    "_Authors: Dave Yerrington (SF), Sam Stack(DC)_\n",
    "\n",
    "_Modified for DSI-EAST-2 by Justin Pounders_\n",
    "\n",
    "---\n",
    "\n",
    "### Learning Objectives\n",
    "- Decipher the structure and content of HTML\n",
    "- Use Beautiful Soup to parse HTML\n",
    "- Use XPath to select HTML elements\n",
    "- Practice using Scrapy to get data from Craigslist\n",
    "- Walk through the construction of a spider built using Scrapy\n"
   ]
  },
  {
   "cell_type": "markdown",
   "metadata": {},
   "source": [
    "<a id='introduction'></a>\n",
    "\n",
    "![What is HTML?](http://designshack.designshack.netdna-cdn.com/wp-content/uploads/htmlbasics-0.jpg)\n",
    "\n",
    "One of the largest sources of data in the world is all around us — the web. Most people consume the web in some form every day. One of the most powerful Python tool sets we'll learn allows us to extract and normalize data from unstructured sources such as web pages.  \n",
    "\n",
    "**If you can see it, it can be scraped, mined, and put into a DataFrame.**\n",
    "\n",
    "Before we begin the actual process of web scraping with Python, it's important to cover the basic constructs that describe HTML as unstructured data. \n",
    "\n",
    "We'll then cover a powerful selection technique called XPath and look at a basic workflow using a framework called [Scrapy](http://www.scrapy.org)."
   ]
  },
  {
   "cell_type": "markdown",
   "metadata": {},
   "source": [
    "<a id='html'></a>\n",
    "\n",
    "## Hypertext Markup Language (HTML)\n",
    "\n",
    "---\n",
    "\n",
    "In the HTML document object model (DOM), everything is a node:\n",
    " * The document itself is a document node.\n",
    " * All HTML elements are element nodes.\n",
    " * All HTML attributes are attribute nodes.\n",
    " * Text inside HTML elements are text nodes.\n",
    " * Comments are comment nodes."
   ]
  },
  {
   "cell_type": "markdown",
   "metadata": {},
   "source": [
    "<a id='elements'></a>\n",
    "### Elements\n",
    "Elements begin and end with opening and closing \"tags,\" which are defined by namespaced, encapsulated strings. These namespaces, which begin and end the elements, must be the same. \n",
    "\n",
    "```html\n",
    "<title>I am a title.</title>\n",
    "<p>I am a paragraph.</p>\n",
    "<strong>I am bold.</strong>\n",
    "```\n",
    "\n",
    "When you have several different titles or paragraphs on a single page, you can assign ID values to namespaces to make more unique reference points. IDs are also useful for labelling nested elements.\n",
    "```html\n",
    "<title id ='title_1'>I am the first title.</title>\n",
    "<p id ='para_1'>I am the first paragraph.</p>\n",
    "<title id ='title_2'>I am the second title.</title>\n",
    "<p id ='para_2'>I am the second paragraph.</p>\n",
    "```\n",
    "\n",
    "\n",
    "**Elements can have parents and children.**\n",
    "It's important to remember that an element can be both a parent and a child — whether an element is referred to as a parent or child depends on the specific element you're referencing.\n",
    "\n",
    "\n",
    "```html\n",
    "<body id = 'parent'>\n",
    "    <div id = 'child_1'>I am the child of 'parent.'\n",
    "        <div id = 'child_2'>I am the child of 'child_1.'\n",
    "            <div id = 'child_3'>I am the child of 'child_2.'\n",
    "                <div id = 'child_4'>I am the child of 'child_4.'</div>\n",
    "            </div>\n",
    "        </div>\n",
    "    </div>\n",
    "</body>\n",
    "```\n",
    "**or**\n",
    "```html\n",
    "<body id = 'parent'>\n",
    "    <div id = 'child_1'>I am the parent of 'child_2.'\n",
    "        <div id = 'child_2'>I am the parent of 'child_3.'\n",
    "            <div id = 'child_3'> I am the parent of 'child_4.'\n",
    "                <div id = 'child_4'>I am not a parent. </div>\n",
    "            </div>\n",
    "        </div>\n",
    "    </div>\n",
    "</body>\n",
    "```"
   ]
  },
  {
   "cell_type": "markdown",
   "metadata": {},
   "source": [
    "<a id='attributes'></a>\n",
    "### Attributes\n",
    "\n",
    "HTML elements can also have attributes. They describe the properties and characteristics of elements. Some affect how the element behaves or looks in terms of the output rendered by the browser.\n",
    "\n",
    "The most common element is an anchor element. Anchor elements often have an \"href\" element, which tells the browser where to go after it's clicked. An anchor element is typically formatted in bold type and is sometimes underlined as a visual cue to differentiate it.\n",
    "\n",
    "**The markup that describes an element with attributes literally looks like this:**\n",
    "\n",
    "```html\n",
    "<a href=\"https://www.youtube.com/watch?v=dQw4w9WgXcQ\">An Awesome Website</a>\n",
    "```\n",
    "\n",
    "**However, this element, once rendered, looks like this:**\n",
    "\n",
    "[An Awesome Website](https://www.youtube.com/watch?v=dQw4w9WgXcQ)"
   ]
  },
  {
   "cell_type": "markdown",
   "metadata": {},
   "source": [
    "<a id='element-hierarchy'></a>\n",
    "### Element Hierarchy\n",
    "\n",
    "![Nodes](http://www.computerhope.com/jargon/d/dom1.jpg)\n",
    "\n",
    "**Literally represented as:**\n",
    "\n",
    "```html\n",
    "<html>\n",
    "    \n",
    "    <head>\n",
    "        <title>Example</title>\n",
    "    </head>\n",
    "    \n",
    "    <body>\n",
    "        <h1>Example Page</h1>\n",
    "        <p>This is an example page.</p>\n",
    "    </body>\n",
    "    \n",
    "</html>\n",
    "```"
   ]
  },
  {
   "cell_type": "markdown",
   "metadata": {},
   "source": [
    "<a id='html-resources'></a>\n",
    "### Additional HTML Resources\n",
    "\n",
    "Read all about the different elements supported by modern browsers:\n",
    " * [HTML5 cheat sheet](http://websitesetup.org/html5-cheat-sheet/).\n",
    " * [Mozilla HTML element reference](https://developer.mozilla.org/en-US/docs/Web/HTML/Element).\n",
    " * [HTML5 visual cheat sheet](http://www.unitedleather.biz/PDF/HTML5-Visual-Cheat-Sheet1.pdf).\n",
    " "
   ]
  },
  {
   "cell_type": "markdown",
   "metadata": {},
   "source": [
    "<a id='practical'></a>\n",
    "\n",
    "## Using Requests and Beautiful Soup to Extract Information From a Web Page\n",
    "\n",
    "---\n",
    "\n",
    "Beautiful Soup is a Python library that's useful for pulling data out of HTML and XML files. It works with many parsers, such as XPath, and can be executed in an IDE, meaning it can be easier to work with when first extracting information from HTML.\n",
    "\n",
    "Please make sure that the required packages are installed: \n",
    "\n",
    "```bash\n",
    "# Beautiful Soup:\n",
    "> conda install beautifulsoup4\n",
    "> conda install lxml\n",
    "\n",
    "# Or if conda doesn't work:\n",
    "> pip install beautifulsoup4\n",
    "> pip install lxml\n",
    "```"
   ]
  },
  {
   "cell_type": "code",
   "execution_count": 1,
   "metadata": {
    "collapsed": true
   },
   "outputs": [],
   "source": [
    "from bs4 import BeautifulSoup"
   ]
  },
  {
   "cell_type": "code",
   "execution_count": 2,
   "metadata": {
    "collapsed": true
   },
   "outputs": [],
   "source": [
    "soup = BeautifulSoup(open(\"sample.html\"), \"lxml\")"
   ]
  },
  {
   "cell_type": "code",
   "execution_count": 4,
   "metadata": {},
   "outputs": [
    {
     "data": {
      "text/plain": [
       "<!DOCTYPE html>\n",
       "<html>\n",
       "<head>\n",
       "<title>Hello, World!</title>\n",
       "</head>\n",
       "<body>\n",
       "<h1>Header 1</h1>\n",
       "<h2>Header 2</h2>\n",
       "<p>This is a paragraph</p>\n",
       "<a href=\"https://www.google.com/\">Google it!</a>\n",
       "<h3>What's in a div?</h3>\n",
       "<div class=\"divvy-it-up\" id=\"foobar\">\n",
       "<p id=\"layer1\">I'm in a div.  Yeah!</p>\n",
       "<div>\n",
       "<p id=\"layer2\">I'm in a div, too!</p>\n",
       "</div>\n",
       "</div>\n",
       "<div class=\"todo\">\n",
       "<ul>\n",
       "<li> Take out trash</li>\n",
       "<li> Walk dog</li>\n",
       "</ul>\n",
       "</div>\n",
       "<div class=\"something\">\n",
       "<ol>\n",
       "<li>One</li>\n",
       "<li>Two</li>\n",
       "</ol>\n",
       "</div>\n",
       "</body>\n",
       "</html>"
      ]
     },
     "execution_count": 4,
     "metadata": {},
     "output_type": "execute_result"
    }
   ],
   "source": [
    "soup.extract()"
   ]
  },
  {
   "cell_type": "code",
   "execution_count": 6,
   "metadata": {},
   "outputs": [
    {
     "name": "stdout",
     "output_type": "stream",
     "text": [
      "<title>Hello, World!</title>\n",
      "Hello, World!\n"
     ]
    }
   ],
   "source": [
    "print(soup.title)\n",
    "print(soup.title.text)"
   ]
  },
  {
   "cell_type": "code",
   "execution_count": 11,
   "metadata": {},
   "outputs": [
    {
     "name": "stdout",
     "output_type": "stream",
     "text": [
      " Take out trash\n",
      " Walk dog\n"
     ]
    }
   ],
   "source": [
    "ulist = soup.find('ul') # return the _first_ <ul>\n",
    "for list_item in ulist.find_all('li'):    # return _all_ matches, <li>\n",
    "    print(list_item.text)"
   ]
  },
  {
   "cell_type": "code",
   "execution_count": 17,
   "metadata": {},
   "outputs": [
    {
     "name": "stdout",
     "output_type": "stream",
     "text": [
      "<a href=\"https://www.google.com/\">Google it!</a>\n",
      "https://www.google.com/\n"
     ]
    }
   ],
   "source": [
    "# <a href=\"https://www.google.com/\">\n",
    "a_list = soup.find_all('a')\n",
    "first_a = a_list[0]    # access the results like a list\n",
    "link = first_a['href'] # access attributes of an element like a dict\n",
    "print(first_a)\n",
    "print(link)"
   ]
  },
  {
   "cell_type": "code",
   "execution_count": 27,
   "metadata": {},
   "outputs": [
    {
     "data": {
      "text/plain": [
       "\"I'm in a div, too!\""
      ]
     },
     "execution_count": 27,
     "metadata": {},
     "output_type": "execute_result"
    }
   ],
   "source": [
    "#<div class=\"divvy-it-up\" id=\"foobar\">\n",
    "#<p id=\"layer1\">I'm in a div.  Yeah!</p>\n",
    "#<div>\n",
    "#<p id=\"layer2\">I'm in a div, too!</p>\n",
    "#</div>\n",
    "#</div>\n",
    "\n",
    "div_results = soup.body.find_all('div', \n",
    "                       {'id':'foobar', 'class':'divvy-it-up'})\n",
    "div_results[0].find('p', {'id':'layer2'}).text"
   ]
  },
  {
   "cell_type": "markdown",
   "metadata": {},
   "source": [
    "### Let's scrape DataTau!"
   ]
  },
  {
   "cell_type": "markdown",
   "metadata": {},
   "source": [
    "<a id='step1'></a>\n",
    "### 1) Fetch the content by URL.\n"
   ]
  },
  {
   "cell_type": "code",
   "execution_count": 29,
   "metadata": {},
   "outputs": [
    {
     "name": "stdout",
     "output_type": "stream",
     "text": [
      "200\n"
     ]
    }
   ],
   "source": [
    "# You'll need the requests library in order to fully utilize bs4.\n",
    "import requests\n",
    "from bs4 import BeautifulSoup\n",
    "\n",
    "# Target web page:\n",
    "url = \"https://www.datatau.com/\"\n",
    "\n",
    "# Establishing the connection to the web page:\n",
    "response = requests.get(url)\n",
    "\n",
    "# You can use status codes to understand how the target server responds to your request.\n",
    "# Ex., 200 = OK, 400 = Bad Request, 403 = Forbidden, 404 = Not Found.\n",
    "print(response.status_code)\n",
    "\n",
    "# Pull the HTML string out of requests and convert it to a Python string.\n",
    "html = response.text\n",
    "\n",
    "# The first 700 characters of the content.\n",
    "#print(html)"
   ]
  },
  {
   "cell_type": "markdown",
   "metadata": {},
   "source": [
    "More information on [request status codes](http://www.restapitutorial.com/httpstatuscodes.html)."
   ]
  },
  {
   "cell_type": "markdown",
   "metadata": {},
   "source": [
    "<a id='step2'></a>\n",
    "### 2) Parse the HTML document with Beautiful Soup.\n",
    "\n",
    "This step allows us to access the elements of the document by XPath expressions."
   ]
  },
  {
   "cell_type": "code",
   "execution_count": 30,
   "metadata": {
    "collapsed": true
   },
   "outputs": [],
   "source": [
    "soup = BeautifulSoup(html, 'lxml')"
   ]
  },
  {
   "cell_type": "code",
   "execution_count": null,
   "metadata": {
    "scrolled": true
   },
   "outputs": [],
   "source": [
    "# This code collects the titles, links and urls for DataTau's homepage\n",
    "\n",
    "# List to store results\n",
    "results_list = []\n",
    "\n",
    "# Get all the <td class=\"title\"... elements\n",
    "all_td = soup.find_all('td', {'class':'title'})\n",
    "for element in all_td:\n",
    "    # start a dictionary to store this item's data\n",
    "    result = {}\n",
    "    \n",
    "    # get the title and full link/url\n",
    "    a_href = element.find('a')\n",
    "    if a_href:\n",
    "        result['title'] = a_href.text   # element text\n",
    "        result['link'] = a_href['href'] # href link\n",
    "        \n",
    "    # get the url domain\n",
    "    span = element.find('span', {'class':'comhead'})\n",
    "    if span:\n",
    "        result['url'] = span.text.strip()[1:-1]\n",
    "        \n",
    "    # only store \"full\" rows of data\n",
    "    if len(result) == 3:\n",
    "        results_list.append(result)\n",
    "        \n",
    "results_list[0]"
   ]
  },
  {
   "cell_type": "code",
   "execution_count": 49,
   "metadata": {},
   "outputs": [
    {
     "data": {
      "text/html": [
       "<div>\n",
       "<style>\n",
       "    .dataframe thead tr:only-child th {\n",
       "        text-align: right;\n",
       "    }\n",
       "\n",
       "    .dataframe thead th {\n",
       "        text-align: left;\n",
       "    }\n",
       "\n",
       "    .dataframe tbody tr th {\n",
       "        vertical-align: top;\n",
       "    }\n",
       "</style>\n",
       "<table border=\"1\" class=\"dataframe\">\n",
       "  <thead>\n",
       "    <tr style=\"text-align: right;\">\n",
       "      <th></th>\n",
       "      <th>link</th>\n",
       "      <th>title</th>\n",
       "      <th>url</th>\n",
       "    </tr>\n",
       "  </thead>\n",
       "  <tbody>\n",
       "    <tr>\n",
       "      <th>0</th>\n",
       "      <td>https://blog.datalore.io/introducing-datalore/</td>\n",
       "      <td>Introducing Datalore - an intelligent tool for...</td>\n",
       "      <td>datalore.io</td>\n",
       "    </tr>\n",
       "    <tr>\n",
       "      <th>1</th>\n",
       "      <td>https://activewizards.com/blog/a-comparative-a...</td>\n",
       "      <td>A Comparative Analysis of Top 6 BI and Data Vi...</td>\n",
       "      <td>activewizards.com</td>\n",
       "    </tr>\n",
       "    <tr>\n",
       "      <th>2</th>\n",
       "      <td>https://medium.com/scribd-data-science-enginee...</td>\n",
       "      <td>Search Query Parsing</td>\n",
       "      <td>medium.com</td>\n",
       "    </tr>\n",
       "    <tr>\n",
       "      <th>3</th>\n",
       "      <td>https://tinyletter.com/data</td>\n",
       "      <td>Data goes bang: a journey to understand data p...</td>\n",
       "      <td>tinyletter.com</td>\n",
       "    </tr>\n",
       "    <tr>\n",
       "      <th>4</th>\n",
       "      <td>https://statsbot.co/blog/event-analytics-defin...</td>\n",
       "      <td>Event Analytics: How to Define User Sessions w...</td>\n",
       "      <td>statsbot.co</td>\n",
       "    </tr>\n",
       "    <tr>\n",
       "      <th>5</th>\n",
       "      <td>http://harderchoices.com/2018/02/11/finite-mar...</td>\n",
       "      <td>Finite Markov Decision Process a high-level in...</td>\n",
       "      <td>harderchoices.com</td>\n",
       "    </tr>\n",
       "    <tr>\n",
       "      <th>6</th>\n",
       "      <td>https://www.kaggle.com/mrisdal/safely-analyzin...</td>\n",
       "      <td>Tutorial: Analyzing GitHub Projects on Kaggle ...</td>\n",
       "      <td>kaggle.com</td>\n",
       "    </tr>\n",
       "    <tr>\n",
       "      <th>7</th>\n",
       "      <td>https://statsbot.co/blog/calculating-customer-...</td>\n",
       "      <td>Using SQL to Estimate Customer Lifetime Value ...</td>\n",
       "      <td>statsbot.co</td>\n",
       "    </tr>\n",
       "    <tr>\n",
       "      <th>8</th>\n",
       "      <td>https://activewizards.com/blog/top-15-scala-li...</td>\n",
       "      <td>Top 15 Scala Libraries for Data Science in 2018</td>\n",
       "      <td>activewizards.com</td>\n",
       "    </tr>\n",
       "    <tr>\n",
       "      <th>9</th>\n",
       "      <td>https://dwhsys.com/2017/03/25/apache-zeppelin-...</td>\n",
       "      <td>Apache Zeppelin vs. Jupyter Notebook: comparis...</td>\n",
       "      <td>dwhsys.com</td>\n",
       "    </tr>\n",
       "    <tr>\n",
       "      <th>10</th>\n",
       "      <td>https://towardsdatascience.com/deepfakes-expla...</td>\n",
       "      <td>DeepFakes explained + Hottest girls on the net...</td>\n",
       "      <td>towardsdatascience.com</td>\n",
       "    </tr>\n",
       "    <tr>\n",
       "      <th>11</th>\n",
       "      <td>https://blog.insightdatascience.com/how-to-sol...</td>\n",
       "      <td>How to solve 90% of NLP problems: a step-by-st...</td>\n",
       "      <td>insightdatascience.com</td>\n",
       "    </tr>\n",
       "    <tr>\n",
       "      <th>12</th>\n",
       "      <td>https://medium.com/scribd-data-science-enginee...</td>\n",
       "      <td>Neural Spelling Corrections and the Importance...</td>\n",
       "      <td>medium.com</td>\n",
       "    </tr>\n",
       "    <tr>\n",
       "      <th>13</th>\n",
       "      <td>https://data36.com/statistical-averages-mean-m...</td>\n",
       "      <td>Statistical Averages (Mean, Median, Mode)</td>\n",
       "      <td>data36.com</td>\n",
       "    </tr>\n",
       "    <tr>\n",
       "      <th>14</th>\n",
       "      <td>https://wp.me/p9wfKM-1d</td>\n",
       "      <td>Non stationary K-armed bandit problem in Pytho...</td>\n",
       "      <td>wp.me</td>\n",
       "    </tr>\n",
       "    <tr>\n",
       "      <th>15</th>\n",
       "      <td>https://github.com/arogozhnikov/python3_with_p...</td>\n",
       "      <td>A short guide on features of Python 3 for data...</td>\n",
       "      <td>github.com</td>\n",
       "    </tr>\n",
       "    <tr>\n",
       "      <th>16</th>\n",
       "      <td>https://towardsdatascience.com/practical-text-...</td>\n",
       "      <td>Practical Text Generation with Tensorflow Serving</td>\n",
       "      <td>towardsdatascience.com</td>\n",
       "    </tr>\n",
       "    <tr>\n",
       "      <th>17</th>\n",
       "      <td>http://dataprism.co</td>\n",
       "      <td>Data Prism: new edition (#16)</td>\n",
       "      <td>dataprism.co</td>\n",
       "    </tr>\n",
       "    <tr>\n",
       "      <th>18</th>\n",
       "      <td>https://medium.com/textileio/what-to-expect-fr...</td>\n",
       "      <td>Here’s what to expect from intelligent apps in...</td>\n",
       "      <td>medium.com</td>\n",
       "    </tr>\n",
       "    <tr>\n",
       "      <th>19</th>\n",
       "      <td>https://data36.com/python-for-loops-explained-...</td>\n",
       "      <td>Python For Loops Explained (Python for Data Sc...</td>\n",
       "      <td>data36.com</td>\n",
       "    </tr>\n",
       "    <tr>\n",
       "      <th>20</th>\n",
       "      <td>https://github.com/featuretools/featuretools</td>\n",
       "      <td>Featuretools: automated feature engineering fo...</td>\n",
       "      <td>github.com</td>\n",
       "    </tr>\n",
       "    <tr>\n",
       "      <th>21</th>\n",
       "      <td>https://hackernoon.com/aspiring-data-scientist...</td>\n",
       "      <td>Aspiring Data Scientists! Start to learn Stati...</td>\n",
       "      <td>hackernoon.com</td>\n",
       "    </tr>\n",
       "    <tr>\n",
       "      <th>22</th>\n",
       "      <td>http://randyzwitch.com/mapd-install-load-data/</td>\n",
       "      <td>Getting Started With MapD: Docker Install and ...</td>\n",
       "      <td>randyzwitch.com</td>\n",
       "    </tr>\n",
       "    <tr>\n",
       "      <th>23</th>\n",
       "      <td>https://medium.com/@shsu14/collect-your-own-fi...</td>\n",
       "      <td>Collect Your Own Fitbit Data with Python</td>\n",
       "      <td>medium.com</td>\n",
       "    </tr>\n",
       "    <tr>\n",
       "      <th>24</th>\n",
       "      <td>https://data.blog/2018/01/19/to-a-poem-is-a-bo...</td>\n",
       "      <td>To a Poem is a Bott the Stranger</td>\n",
       "      <td>data.blog</td>\n",
       "    </tr>\n",
       "    <tr>\n",
       "      <th>25</th>\n",
       "      <td>https://www.lucidchart.com/techblog/2018/01/31...</td>\n",
       "      <td>How to Debug Disk-Full Errors in Redshift</td>\n",
       "      <td>lucidchart.com</td>\n",
       "    </tr>\n",
       "    <tr>\n",
       "      <th>26</th>\n",
       "      <td>https://medium.com/seldon-open-source-machine-...</td>\n",
       "      <td>Introducing Seldon Core — Machine Learning Dep...</td>\n",
       "      <td>medium.com</td>\n",
       "    </tr>\n",
       "    <tr>\n",
       "      <th>27</th>\n",
       "      <td>http://www.thebiketripproject.com/</td>\n",
       "      <td>Personal Data Visualizations from a bicycle trip</td>\n",
       "      <td>thebiketripproject.com</td>\n",
       "    </tr>\n",
       "    <tr>\n",
       "      <th>28</th>\n",
       "      <td>http://www.vladsandulescu.com/topic-prediction...</td>\n",
       "      <td>Predicting what user reviews are about with LD...</td>\n",
       "      <td>vladsandulescu.com</td>\n",
       "    </tr>\n",
       "    <tr>\n",
       "      <th>29</th>\n",
       "      <td>https://www.udemy.com/manipulate-excel-file-fr...</td>\n",
       "      <td>Automate Excel, Word, PDF, HTML Web Scraping f...</td>\n",
       "      <td>udemy.com</td>\n",
       "    </tr>\n",
       "  </tbody>\n",
       "</table>\n",
       "</div>"
      ],
      "text/plain": [
       "                                                 link  \\\n",
       "0      https://blog.datalore.io/introducing-datalore/   \n",
       "1   https://activewizards.com/blog/a-comparative-a...   \n",
       "2   https://medium.com/scribd-data-science-enginee...   \n",
       "3                         https://tinyletter.com/data   \n",
       "4   https://statsbot.co/blog/event-analytics-defin...   \n",
       "5   http://harderchoices.com/2018/02/11/finite-mar...   \n",
       "6   https://www.kaggle.com/mrisdal/safely-analyzin...   \n",
       "7   https://statsbot.co/blog/calculating-customer-...   \n",
       "8   https://activewizards.com/blog/top-15-scala-li...   \n",
       "9   https://dwhsys.com/2017/03/25/apache-zeppelin-...   \n",
       "10  https://towardsdatascience.com/deepfakes-expla...   \n",
       "11  https://blog.insightdatascience.com/how-to-sol...   \n",
       "12  https://medium.com/scribd-data-science-enginee...   \n",
       "13  https://data36.com/statistical-averages-mean-m...   \n",
       "14                            https://wp.me/p9wfKM-1d   \n",
       "15  https://github.com/arogozhnikov/python3_with_p...   \n",
       "16  https://towardsdatascience.com/practical-text-...   \n",
       "17                                http://dataprism.co   \n",
       "18  https://medium.com/textileio/what-to-expect-fr...   \n",
       "19  https://data36.com/python-for-loops-explained-...   \n",
       "20       https://github.com/featuretools/featuretools   \n",
       "21  https://hackernoon.com/aspiring-data-scientist...   \n",
       "22     http://randyzwitch.com/mapd-install-load-data/   \n",
       "23  https://medium.com/@shsu14/collect-your-own-fi...   \n",
       "24  https://data.blog/2018/01/19/to-a-poem-is-a-bo...   \n",
       "25  https://www.lucidchart.com/techblog/2018/01/31...   \n",
       "26  https://medium.com/seldon-open-source-machine-...   \n",
       "27                 http://www.thebiketripproject.com/   \n",
       "28  http://www.vladsandulescu.com/topic-prediction...   \n",
       "29  https://www.udemy.com/manipulate-excel-file-fr...   \n",
       "\n",
       "                                                title                     url  \n",
       "0   Introducing Datalore - an intelligent tool for...             datalore.io  \n",
       "1   A Comparative Analysis of Top 6 BI and Data Vi...       activewizards.com  \n",
       "2                                Search Query Parsing              medium.com  \n",
       "3   Data goes bang: a journey to understand data p...          tinyletter.com  \n",
       "4   Event Analytics: How to Define User Sessions w...             statsbot.co  \n",
       "5   Finite Markov Decision Process a high-level in...       harderchoices.com  \n",
       "6   Tutorial: Analyzing GitHub Projects on Kaggle ...              kaggle.com  \n",
       "7   Using SQL to Estimate Customer Lifetime Value ...             statsbot.co  \n",
       "8     Top 15 Scala Libraries for Data Science in 2018       activewizards.com  \n",
       "9   Apache Zeppelin vs. Jupyter Notebook: comparis...              dwhsys.com  \n",
       "10  DeepFakes explained + Hottest girls on the net...  towardsdatascience.com  \n",
       "11  How to solve 90% of NLP problems: a step-by-st...  insightdatascience.com  \n",
       "12  Neural Spelling Corrections and the Importance...              medium.com  \n",
       "13          Statistical Averages (Mean, Median, Mode)              data36.com  \n",
       "14  Non stationary K-armed bandit problem in Pytho...                   wp.me  \n",
       "15  A short guide on features of Python 3 for data...              github.com  \n",
       "16  Practical Text Generation with Tensorflow Serving  towardsdatascience.com  \n",
       "17                      Data Prism: new edition (#16)            dataprism.co  \n",
       "18  Here’s what to expect from intelligent apps in...              medium.com  \n",
       "19  Python For Loops Explained (Python for Data Sc...              data36.com  \n",
       "20  Featuretools: automated feature engineering fo...              github.com  \n",
       "21  Aspiring Data Scientists! Start to learn Stati...          hackernoon.com  \n",
       "22  Getting Started With MapD: Docker Install and ...         randyzwitch.com  \n",
       "23           Collect Your Own Fitbit Data with Python              medium.com  \n",
       "24                   To a Poem is a Bott the Stranger               data.blog  \n",
       "25          How to Debug Disk-Full Errors in Redshift          lucidchart.com  \n",
       "26  Introducing Seldon Core — Machine Learning Dep...              medium.com  \n",
       "27   Personal Data Visualizations from a bicycle trip  thebiketripproject.com  \n",
       "28  Predicting what user reviews are about with LD...      vladsandulescu.com  \n",
       "29  Automate Excel, Word, PDF, HTML Web Scraping f...               udemy.com  "
      ]
     },
     "execution_count": 49,
     "metadata": {},
     "output_type": "execute_result"
    }
   ],
   "source": [
    "import pandas as pd\n",
    "\n",
    "pd.DataFrame(results_list)"
   ]
  },
  {
   "cell_type": "markdown",
   "metadata": {},
   "source": [
    "<a id='xpath'></a>\n",
    "\n",
    "## What is XPath?\n",
    "\n",
    "---\n",
    "\n",
    "![](assets/obama_wiki.png)\n",
    "\n",
    "Understanding how to identify elements and attributes within HTML documents gives us the ability to write simple expressions that create structured data. We can think of XPath like a query language for HTML.\n",
    "\n",
    "To simplify this process, we'll be using the Chrome extension XPath Helper. It's not necessary but highly recommended when building XPath expressions.\n",
    "\n",
    "[XPath Helper](https://chrome.google.com/webstore/detail/xpath-helper/hgimnogjllphhhkhlmebbmlgjoejdpjl?hl=en).\n",
    "\n",
    "XPath expressions can select elements, element attributes, and element text. These selections can apply to a single item or multiple items. Generally, if you're not specific enough, you'll end up selecting multiple elements.\n",
    "\n",
    "\n",
    "<a id='multiple-selections'></a>\n",
    "### Multiple Selections\n",
    "\n",
    "***Multiple selections*** are useful for capturing search results or any repeating element. For instance, the _titles_ from apartment listing search results on Craigslist.\n",
    "\n",
    "\n",
    "**URL**\n",
    "\n",
    "[http://sfbay.craigslist.org/search/sfc/apa](http://sfbay.craigslist.org/search/sfc/apa)\n",
    "\n",
    "\n",
    "**Example HTML Markup**\n",
    "```html\n",
    "...\n",
    "<span class=\"pl\"> \n",
    "    <time datetime=\"2016-01-12 23:27\" title=\"Tue 12 Jan 11:27:35 PM\">Jan 12</time> \n",
    "    <a href=\"/sfc/apa/5400584579.html\" data-id=\"5400584579\" class=\"hdrlnk\">Welcome home to a sweetly renovated four-bedroom, one-and-a-half bath.</a> \n",
    "</span>\n",
    "...\n",
    "```\n",
    "\n",
    "**XPath:: Multiple Titles** _Copy this into the XPath Helper Query box_:\n",
    "```\n",
    "//a[@class='hdrlnk']\n",
    "```\n",
    "\n",
    "**Returns (Ad Titles)**\n",
    "```\n",
    "***New Remodeled two bedroom Apartment***\n",
    "WONDERFUL ONE BR APARTMENT HOME\n",
    "Beautiful 1bed/1bath Apartment in Russian Hill NO SECURITY DEPOSIT\n",
    "Knockout SF View|Green Oasis|Private Driveway|Furnished\n",
    "3BR/3BA Spacious, Beautiful SOMA Loft: 5 month lease\n",
    "Nob Hill Large Studio - Light, Quiet, Lovely Building\n",
    "etc...\n",
    "```"
   ]
  },
  {
   "cell_type": "markdown",
   "metadata": {},
   "source": [
    "<a id='singular-selections'></a>\n",
    "\n",
    "### Singular Selections\n",
    "\n",
    "***Singular selections*** are necessary when you want to grab specific, unique text within elements. Here's an example of a details page on Craigslist:\n",
    "\n",
    "**URL**\n",
    "\n",
    "[https://sfbay.craigslist.org/sfc/apa/6161864063.html](https://sfbay.craigslist.org/sfc/apa/6161864063.html)\n",
    "\n",
    "**HTML Markup**\n",
    "\n",
    "```html\n",
    "<div class=\"postinginfos\">\n",
    "    <p class=\"postinginfo\">post id: 5400585892</p>\n",
    "    <p class=\"postinginfo\">posted: <time datetime=\"2016-01-12T23:23:19-0800\" class=\"xh-highlight\">2016-01-12 11:23pm</time></p>\n",
    "    <p class=\"postinginfo\"><a href=\"https://accounts.craigslist.org/eaf?postingID=5400585892\" class=\"tsb\">email to friend</a></p>\n",
    "    <p class=\"postinginfo\"><a class=\"bestof-link\" data-flag=\"9\" href=\"https://post.craigslist.org/flag?flagCode=9&amp;postingID=5400585892\" title=\"nominate for best-of-CL\"><span class=\"bestof-icon\">♥ </span><span class=\"bestof-text\">best of</span></a> <sup>[<a href=\"http://www.craigslist.org/about/best-of-craigslist\">?</a>]</sup>    </p>\n",
    "</div>\n",
    "```\n",
    "\n",
    "**XPath: Single Item**\n",
    "\n",
    "```\n",
    "//p[@class='postinginfo'][2]/time\n",
    "```\n",
    "**Returns (Time of Posting or Age of Post)**\n",
    "```\n",
    "2016-01-12 11:23pm\n",
    "```"
   ]
  },
  {
   "cell_type": "markdown",
   "metadata": {},
   "source": [
    "<a id='scrapy'></a>\n",
    "\n",
    "## A Simple Example Using Scrapy and XPath\n",
    "\n",
    "---\n",
    "\n",
    "Below is an example of how to get information out of fake HTML using the XPath capabilities of the Scrapy package. You'll likely need to install the Scrapy package using `conda install scrapy`.   \n",
    "\n",
    "**Note:** `conda install` will install the necessary dependent packages needed for Scrapy; `pip install` will **not**."
   ]
  },
  {
   "cell_type": "markdown",
   "metadata": {},
   "source": [
    "We'll use the `selector` class from the Scrapy library to help us construct our query.\n",
    "\n",
    "`Selector` classes take the HTML target as an argument and can then utilize several query types to extract information. In this case, we'll specify `XPath`, as our query will utilize XPath language. \n",
    "\n",
    "Just like with writing Python scripts, there are several ways you can access the exact same information in HTML. Let's try a few."
   ]
  },
  {
   "cell_type": "code",
   "execution_count": 6,
   "metadata": {},
   "outputs": [
    {
     "data": {
      "text/plain": [
       "['best of']"
      ]
     },
     "execution_count": 6,
     "metadata": {},
     "output_type": "execute_result"
    }
   ],
   "source": [
    "from scrapy.selector import Selector\n",
    "from scrapy.http import HtmlResponse\n",
    "\n",
    "# HTML structure string:\n",
    "HTML = \"\"\"\n",
    "<div class=\"postinginfos\">\n",
    "    <p class=\"postinginfo\">post id: 5400585892</p>\n",
    "    <p class=\"postinginfo\">posted: <time datetime=\"2016-01-12T23:23:19-0800\" class=\"xh-highlight\">2016-01-12 11:23pm</time></p>\n",
    "    <p class=\"postinginfo\"><a href=\"https://accounts.craigslist.org/eaf?postingID=5400585892\" class=\"tsb\">email to friend</a></p>\n",
    "    <p class=\"postinginfo\"><a class=\"bestof-link\" data-flag=\"9\" href=\"https://post.craigslist.org/flag?flagCode=9&amp;postingID=5400585892\" title=\"nominate for best-of-CL\"><span class=\"bestof-icon\">♥ </span><span class=\"bestof-text\">best of</span></a> <sup>[<a href=\"http://www.craigslist.org/about/best-of-craigslist\">?</a>]</sup>    </p>\n",
    "</div>\n",
    "\"\"\"\n",
    "\n",
    "# Option 1: Use the exact class name to get its associated text.\n",
    "# //span[@class='bestof-text']/text()\n",
    "best = Selector(text=HTML).xpath(\"//span[@class='bestof-text']/text()\").extract()\n",
    "best"
   ]
  },
  {
   "cell_type": "code",
   "execution_count": 9,
   "metadata": {},
   "outputs": [
    {
     "data": {
      "text/plain": [
       "['best of']"
      ]
     },
     "execution_count": 9,
     "metadata": {},
     "output_type": "execute_result"
    }
   ],
   "source": [
    "# Option 2: Grabs the entire HTML post where class='bestof-link'.\n",
    "best =  Selector(text=HTML).xpath(\"/html/body/div/p/a[@class='bestof-link']\")\n",
    "\n",
    "# Parse the first grabbed chunk of the text for the specific element with class='bestof-text'.\n",
    "nested_best =  best.xpath(\"./span[@class='bestof-text']/text()\").extract()\n",
    "nested_best"
   ]
  },
  {
   "cell_type": "markdown",
   "metadata": {},
   "source": [
    "_Option 3 will probably be the most common because there's a good chance you'll want to grab information from several child elements that exist within one parent element._"
   ]
  },
  {
   "cell_type": "markdown",
   "metadata": {},
   "source": [
    "## Where's Waldo? — XPath Edition\n",
    "\n",
    "In this example, we'll find Waldo together. Find Waldo as:\n",
    "\n",
    "- An element.\n",
    "- An attribute.\n",
    "- A text element."
   ]
  },
  {
   "cell_type": "code",
   "execution_count": 10,
   "metadata": {
    "collapsed": true
   },
   "outputs": [],
   "source": [
    "HTML = \"\"\"\n",
    "<html>\n",
    "    <body>\n",
    "        \n",
    "        <ul id=\"waldo\">\n",
    "            <li class=\"waldo\">\n",
    "                <span> yo I'm not here</span>\n",
    "            </li>\n",
    "            <li class=\"waldo\">Height:  ???</li>\n",
    "            <li class=\"waldo\">Weight:  ???</li>\n",
    "            <li class=\"waldo\">Last Location:  ???</li>\n",
    "            <li class=\"nerds\">\n",
    "                <div class=\"alpha\">Bill Gates</div>\n",
    "                <div class=\"alpha\">Zuckerberg</div>\n",
    "                <div class=\"beta\">Theil</div>\n",
    "                <div class=\"animal\">Parker</div>\n",
    "            </li>\n",
    "        </ul>\n",
    "        \n",
    "        <ul id=\"tim\">\n",
    "            <li class=\"tdawg\">\n",
    "                <span>yo im here</span>\n",
    "            </li>\n",
    "        </ul>\n",
    "        <li>stuff</li>\n",
    "        <li>stuff2</li>\n",
    "        \n",
    "        <div id=\"cooldiv\">\n",
    "            <span class=\"dsi-rocks\">\n",
    "               YO!\n",
    "            </span>\n",
    "        </div>\n",
    "        \n",
    "        \n",
    "        <waldo>Waldo</waldo>\n",
    "    </body>\n",
    "</html>\n",
    "\"\"\""
   ]
  },
  {
   "cell_type": "markdown",
   "metadata": {},
   "source": [
    "**Tip:** We can use the asterisk character `*` as a placeholder for \"all possible.\"\n",
    "\n",
    "```python\n",
    "# All elements where class='alpha':\n",
    "Selector(text=HTML).xpath('//*[@class=\"alpha\"]').extract()\n",
    "\n",
    "\n",
    "\n",
    "# Returns:\n",
    "\n",
    "[u'<div class=\"alpha\">Bill gates</div>',\n",
    " u'<div class=\"alpha\">Zuckerberg</div>']\n",
    "```\n"
   ]
  },
  {
   "cell_type": "markdown",
   "metadata": {},
   "source": [
    "** Find the element 'Waldo': **"
   ]
  },
  {
   "cell_type": "code",
   "execution_count": 11,
   "metadata": {},
   "outputs": [
    {
     "data": {
      "text/plain": [
       "['Waldo']"
      ]
     },
     "execution_count": 11,
     "metadata": {},
     "output_type": "execute_result"
    }
   ],
   "source": [
    "# Text contents of the element Waldo:\n",
    "Selector(text=HTML).xpath('/html/body/waldo/text()').extract()"
   ]
  },
  {
   "cell_type": "markdown",
   "metadata": {},
   "source": [
    "**Find the attribute(s) 'Waldo':**"
   ]
  },
  {
   "cell_type": "code",
   "execution_count": 12,
   "metadata": {},
   "outputs": [
    {
     "data": {
      "text/plain": [
       "['<ul id=\"waldo\">\\n            <li class=\"waldo\">\\n                <span> yo I\\'m not here</span>\\n            </li>\\n            <li class=\"waldo\">Height:  ???</li>\\n            <li class=\"waldo\">Weight:  ???</li>\\n            <li class=\"waldo\">Last Location:  ???</li>\\n            <li class=\"nerds\">\\n                <div class=\"alpha\">Bill Gates</div>\\n                <div class=\"alpha\">Zuckerberg</div>\\n                <div class=\"beta\">Theil</div>\\n                <div class=\"animal\">Parker</div>\\n            </li>\\n        </ul>',\n",
       " '<li class=\"waldo\">\\n                <span> yo I\\'m not here</span>\\n            </li>',\n",
       " '<li class=\"waldo\">Height:  ???</li>',\n",
       " '<li class=\"waldo\">Weight:  ???</li>',\n",
       " '<li class=\"waldo\">Last Location:  ???</li>']"
      ]
     },
     "execution_count": 12,
     "metadata": {},
     "output_type": "execute_result"
    }
   ],
   "source": [
    "# Contents of all attributes named Waldo:\n",
    "Selector(text=HTML).xpath('//*[@*=\"waldo\"]').extract()"
   ]
  },
  {
   "cell_type": "code",
   "execution_count": 13,
   "metadata": {},
   "outputs": [
    {
     "data": {
      "text/plain": [
       "['<li class=\"waldo\">\\n                <span> yo I\\'m not here</span>\\n            </li>',\n",
       " '<li class=\"waldo\">Height:  ???</li>',\n",
       " '<li class=\"waldo\">Weight:  ???</li>',\n",
       " '<li class=\"waldo\">Last Location:  ???</li>']"
      ]
     },
     "execution_count": 13,
     "metadata": {},
     "output_type": "execute_result"
    }
   ],
   "source": [
    "# Contents of all class attributes named Waldo:\n",
    "Selector(text=HTML).xpath('//*[@class=\"waldo\"]').extract()"
   ]
  },
  {
   "cell_type": "markdown",
   "metadata": {},
   "source": [
    "**Find the text element Waldo.**"
   ]
  },
  {
   "cell_type": "code",
   "execution_count": 14,
   "metadata": {},
   "outputs": [
    {
     "data": {
      "text/plain": [
       "['<waldo>Waldo</waldo>']"
      ]
     },
     "execution_count": 14,
     "metadata": {},
     "output_type": "execute_result"
    }
   ],
   "source": [
    "# Gets everything around the text element Waldo:\n",
    "Selector(text=HTML).xpath(\"//*[text()='Waldo']\").extract()"
   ]
  },
  {
   "cell_type": "markdown",
   "metadata": {},
   "source": [
    "<a id='scrapy'></a>\n",
    "<a scrapy-spiders></a>\n",
    "## What is a Scrapy Spider?\n",
    "\n",
    "---\n",
    "\n",
    "> *\"[Scrapy](http://scrapy.org/) is an application framework for writing web spiders that \"crawl\" around websites and extract data from them.\"*\n",
    "\n",
    "Below we'll walk through the creation of a **spider** using Scrapy. Spiders are automated processes that will crawl through a web page or web pages to collect information.\n",
    "\n",
    "> **Note:** This code should be written in a script outside of Jupyter.\n",
    "\n",
    "<a id='scrapy-project'></a>\n",
    "### 1) Create a new Scrapy project.\n",
    "\n",
    "In your terminal, `cd` into a directory where you want to create your spider's folder. We recommend the desktop for easy access to the files.\n",
    "> `scrapy startproject craigslist`\n",
    "\n",
    "**It should create an output that looks like this:**\n",
    "<blockquote>\n",
    "```\n",
    "New Scrapy project 'craigslist', using template directory '/Users/jmpounders/anaconda3/lib/python3.6/site-packages/scrapy/templates/project', created in:\n",
    "    /Users/jmpounders/dsi-east-2/scrapy/craigslist\n",
    "\n",
    "You can start your first spider with:\n",
    "    cd craigslist\n",
    "    scrapy genspider example example.com\n",
    "```\n",
    "</blockquote>\n",
    "\n",
    "**That command generates a set of project files:**\n",
    "<blockquote>\n",
    "```\n",
    "├── craigslist\n",
    "│   ├── __init__.py\n",
    "│   ├── __pycache__\n",
    "│   ├── items.py\n",
    "│   ├── middlewares.py\n",
    "│   ├── pipelines.py\n",
    "│   ├── settings.py\n",
    "│   └── spiders\n",
    "│       ├── __init__.py\n",
    "│       └── __pycache__\n",
    "└── scrapy.cfg\n",
    "```\n",
    "</blockquote>\n",
    "\n",
    "Generally, these are our files. We'll go into more detail on these soon.\n",
    "\n",
    " * **`scrapy.cfg`:** The project's configuration file.\n",
    " * **`craigslist/`:** The project’s Python module — you’ll import your code from here later.\n",
    " * **`craigslist/items.py`:** The project’s items file.\n",
    " * **`craigslist/pipelines.py`:** The project’s pipelines file.\n",
    " * **`craigslist/settings.py`:** The project’s settings file.\n",
    " * **`craigslist/spiders/`:** A directory where you’ll store your spiders.\n",
    " \n",
    "Please also add this line to your `craigslist/settings.py` file before continuing:\n",
    " \n",
    " <blockquote>\n",
    " ```\n",
    " DOWNLOAD_HANDLERS = {'s3': None,}\n",
    " ```\n",
    " </blockquote>\n",
    "\n"
   ]
  },
  {
   "cell_type": "markdown",
   "metadata": {},
   "source": [
    "--- \n",
    "<a id='define-item'></a>\n",
    "### 2) Define an \"item.\"\n",
    "\n",
    "When we define an item, we're telling our new application what it will be collecting. In essence, an item is an entity that has attributes (\"title,\" \"description,\" \"price,\" etc.) that are descriptive and relate to elements on pages we'll be scraping.  \n",
    "\n",
    "In more precise terms, this is a model (for those who are familiar with object-relational mapping or relational database terms). Don't worry if this is a foreign concept.  The main idea is to understand that a model has attributes that closely resemble or relate to elements on our target web page(s).\n",
    "\n",
    "```python\n",
    "# -*- coding: utf-8 -*-\n",
    "\n",
    "# Define here the models for your scraped items.\n",
    "#\n",
    "# See documentation in:\n",
    "# http://doc.scrapy.org/en/latest/topics/items.html\n",
    "\n",
    "import scrapy\n",
    "\n",
    "class CraigslistItem(scrapy.Item):\n",
    "    # Define the fields for your item here like:\n",
    "    # name = scrapy.Field()\n",
    "    title = scrapy.Field()\n",
    "    link = scrapy.Field()\n",
    "    price = scrapy.Field()\n",
    "```\n"
   ]
  },
  {
   "cell_type": "markdown",
   "metadata": {},
   "source": [
    "---\n",
    "\n",
    "<a id='spider-crawl'></a>\n",
    "### 3) A spider that crawls.\n",
    "\n",
    "An item is a model that resembles data on a web page. A spider is something that crawls pages and uses our item model to get and hold items for us.\n",
    "\n",
    "**Scrapy spiders are Python classes. Let's write our first file, called `craigslist_spider.py`, and put it in our `/spiders` directory.**\n",
    "\n",
    "```python\n",
    "import scrapy\n",
    "\n",
    "class CraigslistSpider(scrapy.Spider):\n",
    "    name = \"craigslist\"\n",
    "    allowed_domains = [\"craigslist.org\"]\n",
    "    start_urls = [\n",
    "        \"https://atlanta.craigslist.org/search/cto\"\n",
    "    ]\n",
    "\n",
    "    def parse(self, response):\n",
    "        filename = response.url.split(\"/\")[-2]\n",
    "        with open(filename, 'wb') as f:\n",
    "            f.write(response.body)\n",
    "```\n",
    "\n",
    "**Next, let's dive in and crawl from our `/craigslist/craigslist` directory.**\n",
    "\n",
    "```\n",
    "> scrapy crawl craigslist\n",
    "```\n",
    "\n",
    "**What just happened?**\n",
    " * Our application requested the URLs from the `start_urls` class attribute.\n",
    " * It parsed over the content containing the HTML markup of each request URL.\n",
    " * What else?\n",
    " \n",
    "```python\n",
    "    with open(filename, 'wb') as f:\n",
    "        f.write(response.body)\n",
    "```\n",
    "\n",
    "It saved a file in our base project directory. It should be named based on the end of the URL. In our case, it should create a file called \"sfc.\" This is taken directly from the Scrapy docs and its only point is to illustrate the workflow so far. It's nice to have a reference to our HTML file.  \n",
    "\n",
    "There might be some errors listed when we crawl, but they are fine for now."
   ]
  },
  {
   "cell_type": "markdown",
   "metadata": {},
   "source": [
    "--- \n",
    "<a id='xpath-spider'></a>\n",
    "### 4) XPath and parsing with our spider.\n",
    "\n",
    "So far, we've defined the fields we'll get, some URLs to fetch, and saved some content to a file. Now, it's about to get interesting.\n",
    "\n",
    "**We should let our spider know about the item model we created earlier. In the head of the `craigslist/craigslist/spiders/craigslist_spider.py`, let's add a new import.**\n",
    "\n",
    "```python\n",
    "from craigslist.items import CraigslistItem\n",
    "```\n",
    "\n",
    "> **Check:** Why won't it work otherwise?\n",
    "\n",
    "<br><br><br>\n",
    "**Let's replace our `parse()` method to find some data from our Craigslist spider response and map them to our item model, `CraigslistItem`.**\n",
    "\n",
    "\n",
    "```python\n",
    "def parse(self, response): # Define parse() function. \n",
    "    items = [] # Element for storing scraped information.\n",
    "\thxs = Selector(response) # Selector allows us to grab HTML from the response (target website).\n",
    "\tfor sel in hxs.xpath(\"//li[@class='result-row']/p\"): # Because we're using XPath language, we need to specify that the paragraphs we're trying to isolate are expressed via XPath.\n",
    "\t\titem = CraigslistItem()\n",
    "        item['title'] =  sel.xpath(\"a/text()\").extract() # Title text from the 'a' element. \n",
    "\t\titem['link']  =  sel.xpath(\"a/@href\").extract() # Href/URL from the 'a' element. \n",
    "\t\titem['price'] =  sel.xpath('span/span[@class=\"result-price\"]/text()').extract()[0]\n",
    "                # Price from the result price class nested in a few span elements.\n",
    "        items.append(item)\n",
    "\treturn items # Shows scraped information as terminal output.\n",
    "\n",
    "```\n",
    "\n"
   ]
  },
  {
   "cell_type": "markdown",
   "metadata": {},
   "source": [
    "---\n",
    "\n",
    "<a id='save-examine'></a>\n",
    "### 5) Save and examine our scraped data.\n",
    "\n",
    "By default, we can save our crawled data in a CSV format. To save our data, we just need to pass a few optional parameters to our crawl call:\n",
    "\n",
    "<blockquote>\n",
    "```\n",
    "> scrapy crawl craigslist -o items.csv -t csv\n",
    "```\n",
    "</blockquote>\n",
    "\n",
    "It's always good to iteratively check the data when developing a spider to make sure the set is close to what we want. \n",
    "\n",
    "> *Pro tip: The longer your iterations are between checks, the harder it's going to be to understand what's not working and fix bugs.*\n",
    "\n",
    "You should now have a file called '`items.csv`' in the directory from which you ran the `scrapy crawl` command."
   ]
  },
  {
   "cell_type": "markdown",
   "metadata": {},
   "source": [
    "<a id='addendum'></a>\n",
    "## Addendum: Leveraging XPath to Get More Results\n",
    "\n",
    "---\n",
    "\n",
    "Generally, a workflow that's useful in this context is to load the page in your Chrome browser, check out the page using the XPath Helper plugin, and, from that, derive your own XPath expressions based on the output.\n",
    "\n",
    "`text()` selects only the text of a given element (between the tags), and `@attribute_name` is used to select attributes.\n",
    "\n",
    "**Here are a few examples of `text()`:**\n",
    "<blockquote>\n",
    "```\n",
    "<h1>Darwin - The Evolution Of An Exhibition</h1>\n",
    "```\n",
    "</blockquote>\n",
    "\n",
    "The XPath selector for this:\n",
    "\n",
    "<blockquote>\n",
    "```\n",
    "//h1/text()\n",
    "```\n",
    "</blockquote>\n",
    "\n",
    "**Here are a few examples of attributes:**\n",
    "\n",
    "And the description is contained inside a `<div>` tag with `id=\"description\"`:\n",
    "<blockquote>\n",
    "```\n",
    "<h2>Description:</h2>\n",
    "\n",
    "<div id=\"description\">\n",
    "Short documentary made for the Plymouth City Museum and Art Gallery regarding the set up of an exhibit about Charles Darwin in conjunction with the 200th anniversary of his birth.\n",
    "</div>\n",
    "...\n",
    "```\n",
    "</blockquote>\n",
    "\n",
    "XPath\n",
    "<blockquote>\n",
    "```\n",
    "//div[@id='description']\n",
    "```\n",
    "</blockquote>"
   ]
  },
  {
   "cell_type": "markdown",
   "metadata": {},
   "source": [
    "---\n",
    "<a id='follow-links'></a>\n",
    "### Following Links for More Results\n",
    "\n",
    "One hundred results is pretty good, but what if we want more? We need to follow the \"next\" links and find new pages to grab. Using the **`parse()`** method of our spider class, we need to return another type of object.\n",
    "\n",
    "See [Stack Overflow](https://stackoverflow.com/questions/30152261/make-scrapy-follow-links-and-collect-data) for details!\n"
   ]
  },
  {
   "cell_type": "code",
   "execution_count": null,
   "metadata": {
    "collapsed": true
   },
   "outputs": [],
   "source": []
  }
 ],
 "metadata": {
  "anaconda-cloud": {},
  "kernelspec": {
   "display_name": "Python 3",
   "language": "python",
   "name": "python3"
  },
  "language_info": {
   "codemirror_mode": {
    "name": "ipython",
    "version": 3
   },
   "file_extension": ".py",
   "mimetype": "text/x-python",
   "name": "python",
   "nbconvert_exporter": "python",
   "pygments_lexer": "ipython3",
   "version": "3.6.3"
  }
 },
 "nbformat": 4,
 "nbformat_minor": 1
}
