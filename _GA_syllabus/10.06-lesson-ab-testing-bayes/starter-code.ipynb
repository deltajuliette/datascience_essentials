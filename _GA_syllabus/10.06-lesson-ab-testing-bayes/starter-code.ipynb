{
 "cells": [
  {
   "cell_type": "markdown",
   "metadata": {},
   "source": [
    "<img src=\"http://imgur.com/1ZcRyrc.png\" style=\"float: left; margin: 20px; height: 50px\">\n",
    "\n",
    "# Bayesian A/B Testing\n",
    "\n",
    "<div style=\"clear: both;\"></div>\n",
    "\n",
    "---\n",
    "\n",
    "### Learning Objectives\n",
    "1. Create a Bayesian A/B test\n",
    "1. Understand the explore/exploit dilemma and how to optimize your experiments"
   ]
  },
  {
   "cell_type": "code",
   "execution_count": null,
   "metadata": {},
   "outputs": [],
   "source": [
    "import numpy as np\n",
    "from scipy import stats\n",
    "import matplotlib.pyplot as plt"
   ]
  },
  {
   "cell_type": "markdown",
   "metadata": {},
   "source": [
    "## Background\n",
    "---\n",
    "\n",
    "You've just graduated from DSI (congrats!). Your first job is at a startup. \n",
    "\n",
    "- Your role: Chief Data Scientist in Charge\n",
    "- Your salary: Money\n",
    "\n",
    "Your first task is to design an experiment, testing a new landing page. The current version has the following call to action (CTA):\n",
    "\n",
    "<a href=\"https://youtu.be/dQw4w9WgXcQ?t=42\" class=\"btn btn-success\">Act Today!</a>\n",
    "\n",
    "Marketing wants to test another version:\n",
    "\n",
    "<a href=\"https://youtu.be/dQw4w9WgXcQ?t=42\" class=\"btn btn-success\">Buy now!</a>\n",
    "\n",
    "Treatment A has been around awhile, and has roughly a 3% conversion rate. "
   ]
  },
  {
   "cell_type": "markdown",
   "metadata": {},
   "source": [
    "## Setup\n",
    "---\n",
    "\n",
    "All the data for this lecture is fake. We need to randomly generate our parameters for A and B. In reality, these would never be known."
   ]
  },
  {
   "cell_type": "code",
   "execution_count": null,
   "metadata": {},
   "outputs": [],
   "source": [
    "# Remember, you're not supposed to know these!"
   ]
  },
  {
   "cell_type": "markdown",
   "metadata": {},
   "source": [
    "Since we're working exclusively with Beta distributions today, let's create a `np` array for plotting our X axes."
   ]
  },
  {
   "cell_type": "code",
   "execution_count": null,
   "metadata": {},
   "outputs": [],
   "source": []
  },
  {
   "cell_type": "markdown",
   "metadata": {},
   "source": [
    "## Priors\n",
    "---\n",
    "\n",
    "\n",
    "### Treatment A\n",
    "\n",
    "As mentioned before, treatment A has roughly a 3% conversion ratio, meaning 3% of visitors to this page will click the button. We want a beta distribution that reflects this ratio, so this will be our prior:\n",
    "\n",
    "```python\n",
    "A_alpha = 3\n",
    "A_beta = 97\n",
    "A_distn = stats.beta(A_alpha, A_beta)\n",
    "```"
   ]
  },
  {
   "cell_type": "code",
   "execution_count": null,
   "metadata": {},
   "outputs": [],
   "source": []
  },
  {
   "cell_type": "markdown",
   "metadata": {},
   "source": [
    "### Treatment B\n",
    "\n",
    "A is the champ, B is the challenger. Since we have never released B into the wild, we'll start with a uniform prior:\n",
    "\n",
    "```python\n",
    "B_alpha = 1\n",
    "B_beta = 1\n",
    "B_distn = stats.beta(B_alpha, B_beta)\n",
    "```"
   ]
  },
  {
   "cell_type": "code",
   "execution_count": null,
   "metadata": {},
   "outputs": [],
   "source": []
  },
  {
   "cell_type": "markdown",
   "metadata": {},
   "source": [
    "## Challenge\n",
    "---\n",
    "Plot the two beta distributions in the cell below."
   ]
  },
  {
   "cell_type": "code",
   "execution_count": null,
   "metadata": {},
   "outputs": [],
   "source": []
  },
  {
   "cell_type": "markdown",
   "metadata": {},
   "source": [
    "## Challenge\n",
    "---\n",
    "\n",
    "Because this is fake data, we need to simulate a prospective customer converting with a given probability.\n",
    "\n",
    "Write a function that takes a probability `p` as a parameter. The function should randomly return 1 with a probability `p` or 0 with a probability `1 - p`.\n",
    "\n",
    "```python\n",
    "fake_conversion(.03) # returns a 1 roughly 3% of the time\n",
    "```"
   ]
  },
  {
   "cell_type": "code",
   "execution_count": null,
   "metadata": {},
   "outputs": [],
   "source": []
  },
  {
   "cell_type": "markdown",
   "metadata": {},
   "source": [
    "## Simulation\n",
    "\n",
    "---\n",
    "\n",
    "Now we will simulate our experiment. Because the entire experiment needs to be run in a `for` loop, the cell below is heavily commented as it will be rather large once we're done."
   ]
  },
  {
   "cell_type": "code",
   "execution_count": null,
   "metadata": {},
   "outputs": [],
   "source": [
    "# Set a random seed of 11\n",
    "\n",
    "# We're going to run this simulation a lot, so we'll need to\n",
    "# reset our Beta distributions\n",
    "\n",
    "# For each treatment we'll collect the results from our experiment\n",
    "# Create four counter variables: A_trials, A_conversions, B_trials, B_conversions\n",
    "\n",
    "\n",
    "iterations = 10\n",
    "for i in range(iterations):\n",
    "    # Split between A and B\n",
    "        # Create fake_conversion\n",
    "        # Increment A_trials\n",
    "        # Increment A_conversions\n",
    "        # Create new beta dist'n\n",
    "    # Conditional for B\n",
    "        # Create fake_conversion\n",
    "        # Increment B_trials\n",
    "        # Increment B_conversions\n",
    "        # Create new beta dist'n\n",
    "    \n",
    "    # Plot ~3 charts\n",
    "    continue # get rid of this!"
   ]
  },
  {
   "cell_type": "markdown",
   "metadata": {},
   "source": [
    "## Sampling from our posteriors\n",
    "\n",
    "---\n",
    "\n",
    "Now that we have our posterior distributions, we can sample from each to calculate the probability that B is higher than A."
   ]
  },
  {
   "cell_type": "code",
   "execution_count": null,
   "metadata": {},
   "outputs": [],
   "source": []
  },
  {
   "cell_type": "markdown",
   "metadata": {},
   "source": [
    "## Explore/Exploit dilemma\n",
    "\n",
    "---\n",
    "\n",
    "> Suppose you are faced with N slot machines (colourfully called multi-armed bandits). Each bandit has an unknown probability of distributing a prize (assume for now the prizes are the same for each bandit, only the probabilities differ). Some bandits are very generous, others not so much. Of course, you don't know what these probabilities are. By only choosing one bandit per round, our task is devise a strategy to maximize our winnings. - [Bayes Methods for Hackers](https://nbviewer.jupyter.org/github/CamDavidsonPilon/Probabilistic-Programming-and-Bayesian-Methods-for-Hackers/blob/master/Chapter6_Priorities/Ch6_Priors_PyMC3.ipynb#Example:-Bayesian-Multi-Armed-Bandits)\n",
    "\n",
    "In our experiment, we're actually trying to balance two objectives: we want to find out which treatment is better, **while at the same time maximizing revenue**. \n"
   ]
  },
  {
   "cell_type": "code",
   "execution_count": null,
   "metadata": {},
   "outputs": [],
   "source": []
  }
 ],
 "metadata": {
  "kernelspec": {
   "display_name": "Python 3",
   "language": "python",
   "name": "python3"
  },
  "language_info": {
   "codemirror_mode": {
    "name": "ipython",
    "version": 3
   },
   "file_extension": ".py",
   "mimetype": "text/x-python",
   "name": "python",
   "nbconvert_exporter": "python",
   "pygments_lexer": "ipython3",
   "version": "3.7.7"
  }
 },
 "nbformat": 4,
 "nbformat_minor": 4
}
