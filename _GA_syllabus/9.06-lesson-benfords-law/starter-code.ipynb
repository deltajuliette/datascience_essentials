{
 "cells": [
  {
   "cell_type": "markdown",
   "metadata": {},
   "source": [
    "<img src=\"http://imgur.com/1ZcRyrc.png\" style=\"float: left; margin: 20px; height: 55px\">\n",
    "\n",
    "# Benford's Law\n",
    "\n",
    "_Authors: Riley Dallas (AUS)_"
   ]
  },
  {
   "cell_type": "code",
   "execution_count": null,
   "metadata": {},
   "outputs": [],
   "source": [
    "import pandas as pd\n",
    "import matplotlib.pyplot as plt\n",
    "import numpy as np\n",
    "\n",
    "pd.set_option('display.max_columns', 999)"
   ]
  },
  {
   "cell_type": "markdown",
   "metadata": {},
   "source": [
    "## Learning Objectives\n",
    "---\n",
    "\n",
    "- Understand what Benford's law is\n",
    "- Use Benford's law to find anomalies within a dataset.\n"
   ]
  },
  {
   "cell_type": "markdown",
   "metadata": {},
   "source": [
    "## About Benford's Law\n",
    "---\n",
    "\n",
    "> Benford's law is an observation about the frequency distribution of leading digits in many real-life sets of numerical data. The law states that in many naturally occurring collections of numbers, the leading significant digit is likely to be small. For example, in sets that obey the law, the number 1 appears as the most significant digit about 30% of the time, while 9 appears as the most significant digit less than 5% of the time. If the digits were distributed uniformly, they would each occur about 11.1% of the time. Benford's law also makes predictions about the distribution of second digits, third digits, digit combinations, and so on. - From [Wikipedia](https://en.wikipedia.org/wiki/Benford%27s_law)\n",
    "\n",
    "Benford's law has many great applications in exploratory data analysis. To give an example, forensic accountants typically use Benford's law to screen for irregularities in financial reports. Financial datasets tend to follow Benford's law **unless human intervention is involved**, which can sometimes lead to fraud.\n",
    "\n",
    "For today's lesson, we'll apply Benford's law to the [City of Austin's Online Checkbook](https://data.austintexas.gov/Budget-and-Finance/Austin-Finance-Online-eCheckbook/8c6z-qnmj) to explore anomalies in the data."
   ]
  },
  {
   "cell_type": "markdown",
   "metadata": {},
   "source": [
    "## Challenge: Bar chart\n",
    "---\n",
    "\n",
    "For digits 1-9, create a bar chart that shows the expected percentage of first digits in the dataset according to Benford's law:\n",
    "\n",
    "$P(d)=\\log_{10}(d+1)-\\log_{10}(d)=\\log_{10} \\left(\\frac{d+1}{d}\\right)=\\log_{10} \\left(1+\\frac{1}{d}\\right)$\n",
    "\n",
    "For example, we expect to see numbers with a 1 as the first digit roughly 30% of the time:\n",
    "\n",
    "$P(d)=\\log_{10}(1+1)-\\log_{10}(1) = .301$"
   ]
  },
  {
   "cell_type": "code",
   "execution_count": null,
   "metadata": {},
   "outputs": [],
   "source": []
  },
  {
   "cell_type": "markdown",
   "metadata": {},
   "source": [
    "## Load the dataset\n",
    "---\n",
    "\n",
    "We've already downloaded a csv from the City of Austin's website (`datasets/Austin_Finance_Online_eCheckbook.csv`). Load that into a `pandas` DataFrame."
   ]
  },
  {
   "cell_type": "code",
   "execution_count": null,
   "metadata": {},
   "outputs": [],
   "source": []
  },
  {
   "cell_type": "markdown",
   "metadata": {},
   "source": [
    "## Data cleaning\n",
    "---\n",
    "\n",
    "Remove all rows where the `AMOUNT` is less than 10 dollars. This will clean up the data by removing small amounts (including refunds), without sacrificing a lot of data."
   ]
  },
  {
   "cell_type": "code",
   "execution_count": null,
   "metadata": {},
   "outputs": [],
   "source": []
  },
  {
   "cell_type": "code",
   "execution_count": null,
   "metadata": {},
   "outputs": [],
   "source": []
  },
  {
   "cell_type": "markdown",
   "metadata": {},
   "source": [
    "## Feature Engineering: Add a `FIRST_DIGIT` category\n",
    "---\n",
    "\n",
    "Create a column called `FIRST_DIGIT` corresponding to the first digit from the `AMOUNT` column."
   ]
  },
  {
   "cell_type": "code",
   "execution_count": null,
   "metadata": {},
   "outputs": [],
   "source": []
  },
  {
   "cell_type": "markdown",
   "metadata": {},
   "source": [
    "## Plot Actual Percentages vs Expected (Benford) Percentanges\n",
    "---\n",
    "\n",
    "Next we'll plot a line chart of actual percentages against the expected Benford percentages as a bar chart."
   ]
  },
  {
   "cell_type": "code",
   "execution_count": null,
   "metadata": {},
   "outputs": [],
   "source": []
  },
  {
   "cell_type": "code",
   "execution_count": null,
   "metadata": {},
   "outputs": [],
   "source": []
  },
  {
   "cell_type": "markdown",
   "metadata": {},
   "source": [
    "## Evaluating Benford's Law by Department\n",
    "---\n",
    "\n",
    "Let's repeat the chart above, only this time we'll create a line/bar chart for each department.\n",
    "\n",
    "To get started, create a list of deparment names that have written at least 1,000 checks."
   ]
  },
  {
   "cell_type": "code",
   "execution_count": null,
   "metadata": {},
   "outputs": [],
   "source": []
  },
  {
   "cell_type": "markdown",
   "metadata": {},
   "source": [
    "Now we'll plot actuals vs expected for each of those departments"
   ]
  },
  {
   "cell_type": "code",
   "execution_count": null,
   "metadata": {},
   "outputs": [],
   "source": []
  },
  {
   "cell_type": "markdown",
   "metadata": {},
   "source": [
    "## Deep dive\n",
    "---\n",
    "\n",
    "We can see a few anomalies with Police, EMS, Austin Resource Recovery and Parks & Rec. Let's dig deeper and investigate the root causes. For this exercise, pick a department that is deviating from Benford's law and find out why."
   ]
  },
  {
   "cell_type": "code",
   "execution_count": null,
   "metadata": {},
   "outputs": [],
   "source": []
  },
  {
   "cell_type": "code",
   "execution_count": null,
   "metadata": {},
   "outputs": [],
   "source": []
  }
 ],
 "metadata": {
  "kernelspec": {
   "display_name": "Python 3",
   "language": "python",
   "name": "python3"
  },
  "language_info": {
   "codemirror_mode": {
    "name": "ipython",
    "version": 3
   },
   "file_extension": ".py",
   "mimetype": "text/x-python",
   "name": "python",
   "nbconvert_exporter": "python",
   "pygments_lexer": "ipython3",
   "version": "3.8.5"
  }
 },
 "nbformat": 4,
 "nbformat_minor": 2
}
